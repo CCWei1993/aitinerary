{
 "cells": [
  {
   "cell_type": "code",
   "execution_count": 10,
   "metadata": {},
   "outputs": [
    {
     "name": "stdout",
     "output_type": "stream",
     "text": [
      "2019-11-12 10:28:35.725396\n"
     ]
    }
   ],
   "source": [
    "from datetime import *\n",
    "import re\n",
    "import pandas as pd\n",
    "import numpy as np\n",
    "print(datetime.now())"
   ]
  },
  {
   "cell_type": "code",
   "execution_count": 69,
   "metadata": {},
   "outputs": [
    {
     "data": {
      "text/html": [
       "<div>\n",
       "<style scoped>\n",
       "    .dataframe tbody tr th:only-of-type {\n",
       "        vertical-align: middle;\n",
       "    }\n",
       "\n",
       "    .dataframe tbody tr th {\n",
       "        vertical-align: top;\n",
       "    }\n",
       "\n",
       "    .dataframe thead th {\n",
       "        text-align: right;\n",
       "    }\n",
       "</style>\n",
       "<table border=\"1\" class=\"dataframe\">\n",
       "  <thead>\n",
       "    <tr style=\"text-align: right;\">\n",
       "      <th></th>\n",
       "      <th>userId</th>\n",
       "      <th>val_Id</th>\n",
       "      <th>value</th>\n",
       "      <th>tStamp</th>\n",
       "    </tr>\n",
       "  </thead>\n",
       "  <tbody>\n",
       "    <tr>\n",
       "      <td>0</td>\n",
       "      <td>Ud23427619a8d0de9734e993431a4fab3</td>\n",
       "      <td>國會議事堂</td>\n",
       "      <td>1.176341e-26</td>\n",
       "      <td>1573553869951</td>\n",
       "    </tr>\n",
       "    <tr>\n",
       "      <td>1</td>\n",
       "      <td>Ud23427619a8d0de9734e993431a4fab3</td>\n",
       "      <td>富士電視台</td>\n",
       "      <td>2.356129e-33</td>\n",
       "      <td>1573553869951</td>\n",
       "    </tr>\n",
       "    <tr>\n",
       "      <td>2</td>\n",
       "      <td>Ud23427619a8d0de9734e993431a4fab3</td>\n",
       "      <td>晴空塔</td>\n",
       "      <td>0.000000e+00</td>\n",
       "      <td>1573553869951</td>\n",
       "    </tr>\n",
       "    <tr>\n",
       "      <td>3</td>\n",
       "      <td>Ud23427619a8d0de9734e993431a4fab3</td>\n",
       "      <td>東京車站</td>\n",
       "      <td>1.000000e+00</td>\n",
       "      <td>1573553869951</td>\n",
       "    </tr>\n",
       "    <tr>\n",
       "      <td>4</td>\n",
       "      <td>Ud23427619a8d0de9734e993431a4fab3</td>\n",
       "      <td>東京都廳</td>\n",
       "      <td>0.000000e+00</td>\n",
       "      <td>1573553869951</td>\n",
       "    </tr>\n",
       "    <tr>\n",
       "      <td>...</td>\n",
       "      <td>...</td>\n",
       "      <td>...</td>\n",
       "      <td>...</td>\n",
       "      <td>...</td>\n",
       "    </tr>\n",
       "    <tr>\n",
       "      <td>72</td>\n",
       "      <td>U1194a948587fe16ef5f7f7a2741f6764</td>\n",
       "      <td>晴空塔</td>\n",
       "      <td>0.000000e+00</td>\n",
       "      <td>1573558219280</td>\n",
       "    </tr>\n",
       "    <tr>\n",
       "      <td>73</td>\n",
       "      <td>U1194a948587fe16ef5f7f7a2741f6764</td>\n",
       "      <td>東京車站</td>\n",
       "      <td>1.000000e+00</td>\n",
       "      <td>1573558219280</td>\n",
       "    </tr>\n",
       "    <tr>\n",
       "      <td>74</td>\n",
       "      <td>U1194a948587fe16ef5f7f7a2741f6764</td>\n",
       "      <td>東京都廳</td>\n",
       "      <td>0.000000e+00</td>\n",
       "      <td>1573558219280</td>\n",
       "    </tr>\n",
       "    <tr>\n",
       "      <td>75</td>\n",
       "      <td>U1194a948587fe16ef5f7f7a2741f6764</td>\n",
       "      <td>東京鐵塔</td>\n",
       "      <td>0.000000e+00</td>\n",
       "      <td>1573558219280</td>\n",
       "    </tr>\n",
       "    <tr>\n",
       "      <td>76</td>\n",
       "      <td>U1194a948587fe16ef5f7f7a2741f6764</td>\n",
       "      <td>淺草雷門</td>\n",
       "      <td>0.000000e+00</td>\n",
       "      <td>1573558219280</td>\n",
       "    </tr>\n",
       "  </tbody>\n",
       "</table>\n",
       "<p>77 rows × 4 columns</p>\n",
       "</div>"
      ],
      "text/plain": [
       "                               userId val_Id         value         tStamp\n",
       "0   Ud23427619a8d0de9734e993431a4fab3  國會議事堂  1.176341e-26  1573553869951\n",
       "1   Ud23427619a8d0de9734e993431a4fab3  富士電視台  2.356129e-33  1573553869951\n",
       "2   Ud23427619a8d0de9734e993431a4fab3    晴空塔  0.000000e+00  1573553869951\n",
       "3   Ud23427619a8d0de9734e993431a4fab3   東京車站  1.000000e+00  1573553869951\n",
       "4   Ud23427619a8d0de9734e993431a4fab3   東京都廳  0.000000e+00  1573553869951\n",
       "..                                ...    ...           ...            ...\n",
       "72  U1194a948587fe16ef5f7f7a2741f6764    晴空塔  0.000000e+00  1573558219280\n",
       "73  U1194a948587fe16ef5f7f7a2741f6764   東京車站  1.000000e+00  1573558219280\n",
       "74  U1194a948587fe16ef5f7f7a2741f6764   東京都廳  0.000000e+00  1573558219280\n",
       "75  U1194a948587fe16ef5f7f7a2741f6764   東京鐵塔  0.000000e+00  1573558219280\n",
       "76  U1194a948587fe16ef5f7f7a2741f6764   淺草雷門  0.000000e+00  1573558219280\n",
       "\n",
       "[77 rows x 4 columns]"
      ]
     },
     "execution_count": 69,
     "metadata": {},
     "output_type": "execute_result"
    }
   ],
   "source": [
    "colnames = ['userId', 'val_Id', 'value', 'tStamp']\n",
    "dfpic = pd.read_csv('users_pics.csv', sep=',', header=None, names = colnames)\n",
    "dfpic"
   ]
  },
  {
   "cell_type": "code",
   "execution_count": 104,
   "metadata": {},
   "outputs": [
    {
     "name": "stdout",
     "output_type": "stream",
     "text": [
      "                               userId val_Id         value         tStamp\n",
      "42  U1194a948587fe16ef5f7f7a2741f6764  國會議事堂  4.396769e-05  1573557883703\n",
      "43  U1194a948587fe16ef5f7f7a2741f6764  富士電視台  9.999422e-01  1573557883703\n",
      "44  U1194a948587fe16ef5f7f7a2741f6764    晴空塔  1.405520e-06  1573557883703\n",
      "45  U1194a948587fe16ef5f7f7a2741f6764   東京車站  2.834087e-09  1573557883703\n",
      "46  U1194a948587fe16ef5f7f7a2741f6764   東京都廳  1.102724e-05  1573557883703\n",
      "47  U1194a948587fe16ef5f7f7a2741f6764   東京鐵塔  1.436449e-06  1573557883703\n",
      "48  U1194a948587fe16ef5f7f7a2741f6764   淺草雷門  2.886096e-09  1573557883703\n",
      "56  U1194a948587fe16ef5f7f7a2741f6764  國會議事堂  9.999982e-01  1573558081705\n",
      "57  U1194a948587fe16ef5f7f7a2741f6764  富士電視台  1.342973e-08  1573558081705\n",
      "58  U1194a948587fe16ef5f7f7a2741f6764    晴空塔  5.319196e-11  1573558081705\n",
      "59  U1194a948587fe16ef5f7f7a2741f6764   東京車站  1.656294e-09  1573558081705\n",
      "60  U1194a948587fe16ef5f7f7a2741f6764   東京都廳  1.833584e-06  1573558081705\n",
      "61  U1194a948587fe16ef5f7f7a2741f6764   東京鐵塔  3.819804e-10  1573558081705\n",
      "62  U1194a948587fe16ef5f7f7a2741f6764   淺草雷門  2.153477e-08  1573558081705\n",
      "63  U1194a948587fe16ef5f7f7a2741f6764  國會議事堂  0.000000e+00  1573558120438\n",
      "64  U1194a948587fe16ef5f7f7a2741f6764  富士電視台  0.000000e+00  1573558120438\n",
      "65  U1194a948587fe16ef5f7f7a2741f6764    晴空塔  0.000000e+00  1573558120438\n",
      "66  U1194a948587fe16ef5f7f7a2741f6764   東京車站  0.000000e+00  1573558120438\n",
      "67  U1194a948587fe16ef5f7f7a2741f6764   東京都廳  0.000000e+00  1573558120438\n",
      "68  U1194a948587fe16ef5f7f7a2741f6764   東京鐵塔  1.000000e+00  1573558120438\n",
      "69  U1194a948587fe16ef5f7f7a2741f6764   淺草雷門  0.000000e+00  1573558120438\n",
      "70  U1194a948587fe16ef5f7f7a2741f6764  國會議事堂  4.968759e-27  1573558219280\n",
      "71  U1194a948587fe16ef5f7f7a2741f6764  富士電視台  0.000000e+00  1573558219280\n",
      "72  U1194a948587fe16ef5f7f7a2741f6764    晴空塔  0.000000e+00  1573558219280\n",
      "73  U1194a948587fe16ef5f7f7a2741f6764   東京車站  1.000000e+00  1573558219280\n",
      "74  U1194a948587fe16ef5f7f7a2741f6764   東京都廳  0.000000e+00  1573558219280\n",
      "75  U1194a948587fe16ef5f7f7a2741f6764   東京鐵塔  0.000000e+00  1573558219280\n",
      "76  U1194a948587fe16ef5f7f7a2741f6764   淺草雷門  0.000000e+00  1573558219280\n",
      "1573558219280\n",
      "                               userId val_Id         value         tStamp\n",
      "70  U1194a948587fe16ef5f7f7a2741f6764  國會議事堂  4.968759e-27  1573558219280\n",
      "71  U1194a948587fe16ef5f7f7a2741f6764  富士電視台  0.000000e+00  1573558219280\n",
      "72  U1194a948587fe16ef5f7f7a2741f6764    晴空塔  0.000000e+00  1573558219280\n",
      "73  U1194a948587fe16ef5f7f7a2741f6764   東京車站  1.000000e+00  1573558219280\n",
      "74  U1194a948587fe16ef5f7f7a2741f6764   東京都廳  0.000000e+00  1573558219280\n",
      "75  U1194a948587fe16ef5f7f7a2741f6764   東京鐵塔  0.000000e+00  1573558219280\n",
      "76  U1194a948587fe16ef5f7f7a2741f6764   淺草雷門  0.000000e+00  1573558219280\n",
      "100.0 東京車站\n",
      "看來旅人您上傳的照片最像東京車站呢!準確度=100.0%阿!\n"
     ]
    }
   ],
   "source": [
    "#piclist = dfpic.loc[dfpic.loc[(dfpic['userId']=='U1194a948587fe16ef5f7f7a2741f6764')]['tStamp'].idxmax()]['value']\n",
    "dfpiclist = dfpic.loc[(dfpic['userId']=='U1194a948587fe16ef5f7f7a2741f6764')]\n",
    "print(dfpiclist)\n",
    "lastTStamp = dfpiclist.loc[(dfpiclist['userId']=='U1194a948587fe16ef5f7f7a2741f6764')]['tStamp'].max()\n",
    "print(lastTStamp)\n",
    "dfLastTStamp = dfpiclist[(dfpiclist['tStamp']==lastTStamp)]\n",
    "print(dfLastTStamp)\n",
    "maxVal = dfLastTStamp['value'].max()*100\n",
    "maxKey = dfLastTStamp.loc[dfLastTStamp['value'].idxmax()]['val_Id']\n",
    "print(maxVal,maxKey)\n",
    "picRecText='看來旅人您上傳的照片最像'+maxKey+'呢!準確度='+str(maxVal)+'%阿!'\n",
    "print(picRecText)"
   ]
  },
  {
   "cell_type": "code",
   "execution_count": 58,
   "metadata": {},
   "outputs": [
    {
     "data": {
      "text/plain": [
       "1.7976931348623157e+308"
      ]
     },
     "execution_count": 58,
     "metadata": {},
     "output_type": "execute_result"
    }
   ],
   "source": [
    "np.finfo(1.1763412159226085e-26).max"
   ]
  },
  {
   "cell_type": "code",
   "execution_count": 3,
   "metadata": {},
   "outputs": [
    {
     "data": {
      "text/plain": [
       "'2020-10-28'"
      ]
     },
     "execution_count": 3,
     "metadata": {},
     "output_type": "execute_result"
    }
   ],
   "source": [
    "str(date.today()+timedelta(days=365))"
   ]
  },
  {
   "cell_type": "code",
   "execution_count": 4,
   "metadata": {},
   "outputs": [
    {
     "data": {
      "text/plain": [
       "datetime.date(2019, 10, 29)"
      ]
     },
     "execution_count": 4,
     "metadata": {},
     "output_type": "execute_result"
    }
   ],
   "source": [
    "date.today()"
   ]
  },
  {
   "cell_type": "code",
   "execution_count": 5,
   "metadata": {},
   "outputs": [
    {
     "data": {
      "text/plain": [
       "9"
      ]
     },
     "execution_count": 5,
     "metadata": {},
     "output_type": "execute_result"
    }
   ],
   "source": [
    "from random import *\n",
    "randint(2,10)"
   ]
  },
  {
   "cell_type": "code",
   "execution_count": 8,
   "metadata": {},
   "outputs": [
    {
     "name": "stdout",
     "output_type": "stream",
     "text": [
      "::123::1234::12345\n"
     ]
    }
   ],
   "source": [
    "mt = '::123::1234::12345'\n",
    "if mt == re.findall('^\\:{2}\\d+\\:{2}\\d+\\:{2}\\d+$', mt)[0]:\n",
    "    print(mt)\n",
    "else:\n",
    "    print('not match!')"
   ]
  },
  {
   "cell_type": "code",
   "execution_count": 9,
   "metadata": {},
   "outputs": [
    {
     "data": {
      "text/plain": [
       "'1234'"
      ]
     },
     "execution_count": 9,
     "metadata": {},
     "output_type": "execute_result"
    }
   ],
   "source": [
    "mt.split('::')[2]"
   ]
  },
  {
   "cell_type": "code",
   "execution_count": 10,
   "metadata": {},
   "outputs": [
    {
     "data": {
      "text/plain": [
       "'123'"
      ]
     },
     "execution_count": 10,
     "metadata": {},
     "output_type": "execute_result"
    }
   ],
   "source": [
    "mt.split('::')[1]"
   ]
  },
  {
   "cell_type": "code",
   "execution_count": 11,
   "metadata": {},
   "outputs": [
    {
     "data": {
      "text/plain": [
       "'12345'"
      ]
     },
     "execution_count": 11,
     "metadata": {},
     "output_type": "execute_result"
    }
   ],
   "source": [
    "mt.split('::')[3]"
   ]
  },
  {
   "cell_type": "code",
   "execution_count": 8,
   "metadata": {},
   "outputs": [
    {
     "data": {
      "text/plain": [
       "5"
      ]
     },
     "execution_count": 8,
     "metadata": {},
     "output_type": "execute_result"
    }
   ],
   "source": [
    "li=[1,2,3,4,5]\n",
    "len(li)"
   ]
  },
  {
   "cell_type": "code",
   "execution_count": 9,
   "metadata": {},
   "outputs": [
    {
     "data": {
      "text/plain": [
       "[1, 'r', 2, 3, 4, 5]"
      ]
     },
     "execution_count": 9,
     "metadata": {},
     "output_type": "execute_result"
    }
   ],
   "source": [
    "rest='r'\n",
    "rest1='r1'\n",
    "li.insert(1,rest)\n",
    "li"
   ]
  },
  {
   "cell_type": "code",
   "execution_count": 10,
   "metadata": {},
   "outputs": [
    {
     "data": {
      "text/plain": [
       "[1, 'r', 2, 3, 4, 'r1', 5]"
      ]
     },
     "execution_count": 10,
     "metadata": {},
     "output_type": "execute_result"
    }
   ],
   "source": [
    "li.insert(-1,rest1)\n",
    "li"
   ]
  },
  {
   "cell_type": "code",
   "execution_count": null,
   "metadata": {},
   "outputs": [],
   "source": []
  }
 ],
 "metadata": {
  "kernelspec": {
   "display_name": "Python 3",
   "language": "python",
   "name": "python3"
  },
  "language_info": {
   "codemirror_mode": {
    "name": "ipython",
    "version": 3
   },
   "file_extension": ".py",
   "mimetype": "text/x-python",
   "name": "python",
   "nbconvert_exporter": "python",
   "pygments_lexer": "ipython3",
   "version": "3.7.3"
  }
 },
 "nbformat": 4,
 "nbformat_minor": 2
}
