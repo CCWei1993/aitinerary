{
 "cells": [
  {
   "cell_type": "code",
   "execution_count": 1,
   "metadata": {},
   "outputs": [
    {
     "name": "stdout",
     "output_type": "stream",
     "text": [
      "{'age': 20, 'been2tko': 3, 'days': 5, 'budget': 80000, 'isFemale': 0, 'fbudget': 16000, 'dDate': '2019-11-06', 'rDate': '2019-11-07'}\n",
      "bk by thu\n",
      "{'airline': 'Tigerair Taiwan', 'date_format(eta,\"%a\")': 'Wed', 'date_format(etd,\"%a\")': 'Wed', 'date_format(thEta,\"%a\")': 'Thu', 'date_format(thEtd,\"%a\")': 'Thu', 'price': 7767, 'time_format(eta,\"%T\")': '10:35:00', 'time_format(etd,\"%T\")': '06:35:00', 'time_format(sec_to_time(dur),\"%T\")': '03:00:00', 'time_format(sec_to_time(thDur),\"%T\")': '03:55:00', 'time_format(thEta,\"%T\")': '07:55:00', 'time_format(thEtd,\"%T\")': '05:00:00'}\n",
      "\n",
      "\n",
      "讓您久等了。\n",
      "依據您的偏好分析，最適合您的航班為Tigerair Taiwan,參考價格為NTD$7767。\n",
      "出發起飛時間為(台北)2019-11-06(Wed) 06:35:00，需時03:00:00，抵達時間為(東京)2019-11-06(Wed) 10:35:00。\n",
      "回國起飛時間為(東京)2019-11-07(Thu) 05:00:00，需時03:55:00，抵達時間為(台北)2019-11-07(Thu) 07:55:00。\n"
     ]
    }
   ],
   "source": [
    "import requests\n",
    "import json\n",
    "from datetime import *\n",
    "#omiyage variables: 年齡, 去過次數, 去幾天 , 總預算, 性別-男:0；女:1\n",
    "#cluster0(老男):機票貴 航班時間(早上) priority:啟航/回航時間, 航空評價 ,機票價格\n",
    "#cluster1(女):機票價格低 航班時間上午佳 不排斥半夜&凌晨 priority:機票價格,啟航/回航時間, 航空評價\n",
    "#cluster2(男):機票價格低 航班時間上午佳 不排斥半夜&凌晨 priority:機票價格,啟航/回航時間, 航空評價\n",
    "#flight request json:{age, been2tko, days, budget, isFemale, fbudget, dDate, rDate}\n",
    "flighttext = {'age':20,'been2tko':3,'days':5,'budget':80000,'isFemale':0,\n",
    "              'fbudget':16000,'dDate':'2019-11-06','rDate':'2019-11-07'}\n",
    "print(flighttext)\n",
    "req = requests.post('http://127.0.0.1:5003/',json = flighttext).json()\n",
    "i=req\n",
    "rWkday = datetime.isoweekday(datetime.strptime(flighttext['rDate'], '%Y-%m-%d'))\n",
    "if rWkday == 1:\n",
    "    print('bk by mon')\n",
    "    rwkd = 'mo'\n",
    "elif rWkday == 2:\n",
    "    rwkd = 'tu'\n",
    "    print('bk by tue')\n",
    "elif rWkday == 3:\n",
    "    rwkd = 'we'\n",
    "    print('bk by wed')\n",
    "elif rWkday == 4:\n",
    "    rwkd = 'th'\n",
    "    print('bk by thu')\n",
    "elif rWkday == 5:\n",
    "    rwkd = 'fr'\n",
    "    print('bk by fri')\n",
    "elif rWkday == 6:\n",
    "    rwkd = 'sa'\n",
    "    print('bk by sat')\n",
    "else:\n",
    "    rwkd = 'su'\n",
    "    print('bk by sun')\n",
    "print(i)\n",
    "print('\\n')\n",
    "print('讓您久等了。\\n依據您的偏好分析，最適合您的航班為'+\n",
    "              i['airline']+\n",
    "              ',參考價格為NTD$'+\n",
    "              str(i['price'])+\n",
    "              '。\\n出發起飛時間為(台北)'+\n",
    "              flighttext['dDate']+\n",
    "              '('+\n",
    "              str(i['date_format(etd,\"%a\")'])+\n",
    "              ') '+\n",
    "              str(i['time_format(etd,\"%T\")'])+\n",
    "              '，需時'+\n",
    "              str(i['time_format(sec_to_time(dur),\"%T\")'])+\n",
    "              '，抵達時間為(東京)'+\n",
    "              flighttext['dDate']+\n",
    "              '('+\n",
    "              str(i['date_format(eta,\"%a\")'])+\n",
    "              ') '+\n",
    "              str(i['time_format(eta,\"%T\")'])+\n",
    "              '。\\n回國起飛時間為(東京)'+\n",
    "              flighttext['rDate']+\n",
    "              '('+\n",
    "              str(i['date_format('+rwkd+'Etd,\"%a\")'])\n",
    "              +') '+\n",
    "              str(i['time_format('+rwkd+'Etd,\"%T\")'])+\n",
    "              '，需時'+\n",
    "              str(i['time_format(sec_to_time('+rwkd+'Dur),\"%T\")'])+\n",
    "              '，抵達時間為(台北)'+\n",
    "              flighttext['rDate']+\n",
    "              '('+\n",
    "              str(i['date_format('+rwkd+'Eta,\"%a\")'])+\n",
    "              ') '+\n",
    "              str(i['time_format('+rwkd+'Eta,\"%T\")'])+'。')"
   ]
  },
  {
   "cell_type": "code",
   "execution_count": null,
   "metadata": {},
   "outputs": [],
   "source": []
  }
 ],
 "metadata": {
  "kernelspec": {
   "display_name": "Python 3",
   "language": "python",
   "name": "python3"
  },
  "language_info": {
   "codemirror_mode": {
    "name": "ipython",
    "version": 3
   },
   "file_extension": ".py",
   "mimetype": "text/x-python",
   "name": "python",
   "nbconvert_exporter": "python",
   "pygments_lexer": "ipython3",
   "version": "3.7.3"
  }
 },
 "nbformat": 4,
 "nbformat_minor": 2
}
