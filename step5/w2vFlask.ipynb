{
 "cells": [
  {
   "cell_type": "code",
   "execution_count": 1,
   "metadata": {},
   "outputs": [],
   "source": [
    "#!pip install gensim"
   ]
  },
  {
   "cell_type": "code",
   "execution_count": null,
   "metadata": {},
   "outputs": [
    {
     "name": "stderr",
     "output_type": "stream",
     "text": [
      " * Running on http://127.0.0.1:5001/ (Press CTRL+C to quit)\n"
     ]
    },
    {
     "name": "stdout",
     "output_type": "stream",
     "text": [
      "Word2Vec(vocab=19967, size=500, alpha=0.025)\n"
     ]
    },
    {
     "name": "stderr",
     "output_type": "stream",
     "text": [
      "[2019-11-08 09:14:09,340] ERROR in app: Exception on / [POST]\n",
      "Traceback (most recent call last):\n",
      "  File \"/opt/conda/lib/python3.7/site-packages/flask/app.py\", line 1982, in wsgi_app\n",
      "    response = self.full_dispatch_request()\n",
      "  File \"/opt/conda/lib/python3.7/site-packages/flask/app.py\", line 1614, in full_dispatch_request\n",
      "    rv = self.handle_user_exception(e)\n",
      "  File \"/opt/conda/lib/python3.7/site-packages/flask/app.py\", line 1517, in handle_user_exception\n",
      "    reraise(exc_type, exc_value, tb)\n",
      "  File \"/opt/conda/lib/python3.7/site-packages/flask/_compat.py\", line 33, in reraise\n",
      "    raise value\n",
      "  File \"/opt/conda/lib/python3.7/site-packages/flask/app.py\", line 1612, in full_dispatch_request\n",
      "    rv = self.dispatch_request()\n",
      "  File \"/opt/conda/lib/python3.7/site-packages/flask/app.py\", line 1598, in dispatch_request\n",
      "    return self.view_functions[rule.endpoint](**req.view_args)\n",
      "  File \"<ipython-input-2-ef018c273981>\", line 12, in recommend\n",
      "    print (model.wv.similar_by_word(query['spot'],50))\n",
      "  File \"/opt/conda/lib/python3.7/site-packages/gensim/models/keyedvectors.py\", line 596, in similar_by_word\n",
      "    return self.most_similar(positive=[word], topn=topn, restrict_vocab=restrict_vocab)\n",
      "  File \"/opt/conda/lib/python3.7/site-packages/gensim/models/keyedvectors.py\", line 553, in most_similar\n",
      "    mean.append(weight * self.word_vec(word, use_norm=True))\n",
      "  File \"/opt/conda/lib/python3.7/site-packages/gensim/models/keyedvectors.py\", line 468, in word_vec\n",
      "    raise KeyError(\"word '%s' not in vocabulary\" % word)\n",
      "KeyError: \"word '$東京' not in vocabulary\"\n",
      "127.0.0.1 - - [08/Nov/2019 09:14:09] \"POST / HTTP/1.1\" 500 -\n",
      "[2019-11-08 09:15:46,531] ERROR in app: Exception on / [POST]\n",
      "Traceback (most recent call last):\n",
      "  File \"/opt/conda/lib/python3.7/site-packages/flask/app.py\", line 1982, in wsgi_app\n",
      "    response = self.full_dispatch_request()\n",
      "  File \"/opt/conda/lib/python3.7/site-packages/flask/app.py\", line 1614, in full_dispatch_request\n",
      "    rv = self.handle_user_exception(e)\n",
      "  File \"/opt/conda/lib/python3.7/site-packages/flask/app.py\", line 1517, in handle_user_exception\n",
      "    reraise(exc_type, exc_value, tb)\n",
      "  File \"/opt/conda/lib/python3.7/site-packages/flask/_compat.py\", line 33, in reraise\n",
      "    raise value\n",
      "  File \"/opt/conda/lib/python3.7/site-packages/flask/app.py\", line 1612, in full_dispatch_request\n",
      "    rv = self.dispatch_request()\n",
      "  File \"/opt/conda/lib/python3.7/site-packages/flask/app.py\", line 1598, in dispatch_request\n",
      "    return self.view_functions[rule.endpoint](**req.view_args)\n",
      "  File \"<ipython-input-2-ef018c273981>\", line 12, in recommend\n",
      "    print (model.wv.similar_by_word(query['spot'],50))\n",
      "  File \"/opt/conda/lib/python3.7/site-packages/gensim/models/keyedvectors.py\", line 596, in similar_by_word\n",
      "    return self.most_similar(positive=[word], topn=topn, restrict_vocab=restrict_vocab)\n",
      "  File \"/opt/conda/lib/python3.7/site-packages/gensim/models/keyedvectors.py\", line 553, in most_similar\n",
      "    mean.append(weight * self.word_vec(word, use_norm=True))\n",
      "  File \"/opt/conda/lib/python3.7/site-packages/gensim/models/keyedvectors.py\", line 468, in word_vec\n",
      "    raise KeyError(\"word '%s' not in vocabulary\" % word)\n",
      "KeyError: \"word '' not in vocabulary\"\n",
      "127.0.0.1 - - [08/Nov/2019 09:15:46] \"POST / HTTP/1.1\" 500 -\n",
      "127.0.0.1 - - [08/Nov/2019 09:18:17] \"POST / HTTP/1.1\" 200 -\n"
     ]
    },
    {
     "name": "stdout",
     "output_type": "stream",
     "text": [
      "[('延伸', 0.7525156736373901), ('閱讀', 0.6895986199378967), ('自由行', 0.6881714463233948), ('旅遊', 0.672899603843689), ('一趟', 0.668703556060791), ('千葉縣', 0.6670756340026855), ('關東', 0.6653888821601868), ('五日', 0.6635991334915161), ('造訪', 0.6607058048248291), ('關西', 0.6600990295410156), ('郊區', 0.6586675643920898), ('閃行', 0.6557883024215698), ('五天', 0.6536063551902771), ('去年', 0.652794599533081), ('四夜', 0.6521024703979492), ('去過', 0.6482274532318115), ('小旅行', 0.6450737118721008), ('本次', 0.6433976888656616), ('年初', 0.6428912878036499), ('城市', 0.6418675184249878), ('遊記', 0.6402737498283386), ('近郊', 0.6353825926780701), ('三夜', 0.6348886489868164), ('清里', 0.6316934823989868), ('前情', 0.6305065751075745), ('拜訪', 0.6293315887451172), ('市區', 0.6267701387405396), ('最近', 0.6258424520492554), ('大阪', 0.6243924498558044), ('假期', 0.6240994930267334), ('日遊', 0.6237837672233582), ('倉敷', 0.6212283372879028), ('京阪', 0.620913028717041), ('九天', 0.6200599074363708), ('先前', 0.6193398833274841), ('千葉', 0.6184715032577515), ('搭法', 0.6180112361907959), ('九州', 0.6165757179260254), ('走訪', 0.6126515865325928), ('計畫', 0.6125689744949341), ('那霸', 0.6120314002037048), ('紀行', 0.6096752285957336), ('列入', 0.6095396280288696), ('論壇', 0.6078932285308838), ('四天', 0.6077088713645935), ('前言', 0.6064996123313904), ('年底', 0.605285108089447), ('東北', 0.6012831926345825), ('大綱', 0.6008291840553284), ('首選', 0.5998548269271851)]\n"
     ]
    },
    {
     "name": "stderr",
     "output_type": "stream",
     "text": [
      "127.0.0.1 - - [08/Nov/2019 09:25:08] \"POST / HTTP/1.1\" 200 -\n"
     ]
    },
    {
     "name": "stdout",
     "output_type": "stream",
     "text": [
      "[('延伸', 0.7525156736373901), ('閱讀', 0.6895986199378967), ('自由行', 0.6881714463233948), ('旅遊', 0.672899603843689), ('一趟', 0.668703556060791), ('千葉縣', 0.6670756340026855), ('關東', 0.6653888821601868), ('五日', 0.6635991334915161), ('造訪', 0.6607058048248291), ('關西', 0.6600990295410156), ('郊區', 0.6586675643920898), ('閃行', 0.6557883024215698), ('五天', 0.6536063551902771), ('去年', 0.652794599533081), ('四夜', 0.6521024703979492), ('去過', 0.6482274532318115), ('小旅行', 0.6450737118721008), ('本次', 0.6433976888656616), ('年初', 0.6428912878036499), ('城市', 0.6418675184249878), ('遊記', 0.6402737498283386), ('近郊', 0.6353825926780701), ('三夜', 0.6348886489868164), ('清里', 0.6316934823989868), ('前情', 0.6305065751075745), ('拜訪', 0.6293315887451172), ('市區', 0.6267701387405396), ('最近', 0.6258424520492554), ('大阪', 0.6243924498558044), ('假期', 0.6240994930267334), ('日遊', 0.6237837672233582), ('倉敷', 0.6212283372879028), ('京阪', 0.620913028717041), ('九天', 0.6200599074363708), ('先前', 0.6193398833274841), ('千葉', 0.6184715032577515), ('搭法', 0.6180112361907959), ('九州', 0.6165757179260254), ('走訪', 0.6126515865325928), ('計畫', 0.6125689744949341), ('那霸', 0.6120314002037048), ('紀行', 0.6096752285957336), ('列入', 0.6095396280288696), ('論壇', 0.6078932285308838), ('四天', 0.6077088713645935), ('前言', 0.6064996123313904), ('年底', 0.605285108089447), ('東北', 0.6012831926345825), ('大綱', 0.6008291840553284), ('首選', 0.5998548269271851)]\n"
     ]
    },
    {
     "name": "stderr",
     "output_type": "stream",
     "text": [
      "127.0.0.1 - - [08/Nov/2019 09:27:59] \"POST / HTTP/1.1\" 200 -\n"
     ]
    },
    {
     "name": "stdout",
     "output_type": "stream",
     "text": [
      "[('地下街', 0.7802949547767639), ('重洲', 0.7759274840354919), ('之內', 0.7639232277870178), ('大丸', 0.729984700679779), ('郵便局', 0.7144455313682556), ('東京車站一番街', 0.7099552154541016), ('一番', 0.6825882196426392), ('銀座', 0.6764091849327087), ('樂町', 0.6692090034484863), ('東京站', 0.6546372175216675), ('大樓', 0.6537494659423828), ('太陽城', 0.6433355212211609), ('拉麵街', 0.6309534311294556), ('新丸', 0.6287505626678467), ('長室', 0.6276113986968994), ('新橋', 0.6230189204216003), ('商場', 0.6066990494728088), ('東京', 0.5981087684631348), ('伊東', 0.5945020914077759), ('三越', 0.5917800664901733), ('地標', 0.5852892398834229), ('目標', 0.5827875137329102), ('百貨', 0.5796438455581665), ('商城', 0.5778557062149048), ('五反', 0.5766523480415344), ('重州', 0.5756320357322693), ('十條', 0.5736423134803772), ('品川', 0.5726720094680786), ('惠比壽', 0.5697601437568665), ('錦系', 0.5668240785598755), ('萬世', 0.564199686050415), ('東急', 0.5631336569786072), ('涉谷', 0.5616023540496826), ('搭地鐵', 0.5606507658958435), ('中野', 0.5571284294128418), ('地下', 0.5570013523101807), ('南口', 0.5562122464179993), ('紅磚', 0.5557659864425659), ('大廈', 0.5551030039787292), ('渋谷', 0.5543526411056519), ('梅田', 0.5526390075683594), ('新丸之內大樓', 0.5505889654159546), ('轉丸', 0.5499124526977539), ('神谷', 0.5472663044929504), ('東京都廳', 0.5458759069442749), ('歇業', 0.5422048568725586), ('郵局', 0.5418828725814819), ('高樓群', 0.5415910482406616), ('橫濱', 0.5415228605270386), ('阿夫利', 0.5411252975463867)]\n"
     ]
    },
    {
     "name": "stderr",
     "output_type": "stream",
     "text": [
      "127.0.0.1 - - [08/Nov/2019 10:15:53] \"POST / HTTP/1.1\" 200 -\n"
     ]
    },
    {
     "name": "stdout",
     "output_type": "stream",
     "text": [
      "[('雷門', 0.8866622447967529), ('淺草寺', 0.8184995651245117), ('押上', 0.7882277369499207), ('人形', 0.772282600402832), ('三定', 0.7670594453811646), ('淺草文化觀光中心', 0.7592439651489258), ('今半', 0.738259494304657), ('仲見世通', 0.7139630317687988), ('線藏', 0.7129557132720947), ('吾妻橋', 0.7128302454948425), ('晴空塔', 0.7075631618499756), ('天空樹', 0.6977459192276001), ('和服', 0.6846626996994019), ('人力車', 0.6714015007019043), ('崎線', 0.6612632870674133), ('法華', 0.6564875245094299), ('金龍山', 0.6384572982788086), ('觀音寺', 0.6372003555297852), ('銀座線', 0.6337109208106995), ('出租店', 0.626243531703949), ('拉車', 0.62312251329422), ('沒上', 0.623094916343689), ('葵丸', 0.6207953095436096), ('七色', 0.620285153388977), ('和服店', 0.619232177734375), ('隅田公園', 0.615984320640564), ('跟住', 0.6157431602478027), ('錦系', 0.6144791841506958), ('東武', 0.6110230684280396), ('台東區', 0.5987324714660645), ('法院', 0.5961330533027649), ('梧棲', 0.5921680331230164), ('大黑', 0.5910933017730713), ('搭地鐵', 0.5893465280532837), ('激推', 0.587071418762207), ('重盛', 0.5868566036224365), ('前店', 0.5850182771682739), ('隅田川', 0.5806584358215332), ('茅場町', 0.5712831020355225), ('車伕', 0.567524790763855), ('納涼', 0.5675052404403687), ('三站', 0.5659972429275513), ('雷神', 0.5627295970916748), ('九重', 0.5615993738174438), ('河濱', 0.5583837628364563), ('快線', 0.5540149211883545), ('日本橋', 0.5517429709434509), ('花月堂', 0.5505878925323486), ('搬貨', 0.5501657128334045), ('天宮', 0.549179196357727)]\n"
     ]
    }
   ],
   "source": [
    "from flask import Flask\n",
    "import flask\n",
    "#import bytes\n",
    "from gensim.models import word2vec\n",
    "\n",
    "app = Flask(__name__)\n",
    "@app.route(\"/\",methods=[\"POST\"])\n",
    "def recommend():\n",
    "    if flask.request.method == \"POST\":\n",
    "        query=flask.request.json\n",
    "        ans=''\n",
    "        print (model.wv.similar_by_word(query['spot'],50))\n",
    "        try:\n",
    "            for word in model.wv.similar_by_word(query['spot'],50):\n",
    "                ans+=word[0]+'\\n'\n",
    "            return ans\n",
    "        except:\n",
    "            return 'No such word in vocabulary'\n",
    "\n",
    "if __name__ == \"__main__\":\n",
    "    model = word2vec.Word2Vec.load(\"word2vec.model\")\n",
    "    print(model)\n",
    "    app.run(port=5001)"
   ]
  },
  {
   "cell_type": "code",
   "execution_count": null,
   "metadata": {},
   "outputs": [],
   "source": []
  }
 ],
 "metadata": {
  "kernelspec": {
   "display_name": "Python 3",
   "language": "python",
   "name": "python3"
  },
  "language_info": {
   "codemirror_mode": {
    "name": "ipython",
    "version": 3
   },
   "file_extension": ".py",
   "mimetype": "text/x-python",
   "name": "python",
   "nbconvert_exporter": "python",
   "pygments_lexer": "ipython3",
   "version": "3.7.3"
  }
 },
 "nbformat": 4,
 "nbformat_minor": 2
}
