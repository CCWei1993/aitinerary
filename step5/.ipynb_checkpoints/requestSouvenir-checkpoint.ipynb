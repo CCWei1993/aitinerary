{
 "cells": [
  {
   "cell_type": "code",
   "execution_count": 3,
   "metadata": {},
   "outputs": [
    {
     "data": {
      "text/plain": [
       "[{'Types': '餅乾類',\n",
       "  'address': '新宿駅伊勢丹B1F',\n",
       "  'price': 1080,\n",
       "  'ranking': 71,\n",
       "  'souvenir': 'ノワ・ドゥ・ブール「サブレ・アマンド」',\n",
       "  'url': 'http://noix-de-beurre.com'},\n",
       " {'Types': '餅乾類',\n",
       "  'address': '渋谷駅渋谷ヒカリエShinQs_B2F',\n",
       "  'price': 648,\n",
       "  'ranking': 57,\n",
       "  'souvenir': '桂新堂「渋谷えびせんべい」',\n",
       "  'url': 'http://www.keishindo.co.jp'},\n",
       " {'Types': '餅乾類',\n",
       "  'address': '銀座駅周辺東京都中央区銀座5-6-9松崎ビル1階',\n",
       "  'price': 1080,\n",
       "  'ranking': 24,\n",
       "  'souvenir': '大江戸菓子匠銀座松崎煎餅「瓦煎餅三味胴」',\n",
       "  'url': 'http://terraconfect.tokyo/fromageterra/'},\n",
       " {'Types': '小蛋糕類',\n",
       "  'address': '上野駅エキュート上野3F',\n",
       "  'price': 515,\n",
       "  'ranking': 88,\n",
       "  'souvenir': '東京ばな奈パンダ「バナナヨーグルト味、見ぃつけたっ」',\n",
       "  'url': 'http://www.tokyo-hiyoko.co.jp/shop/anya.html'},\n",
       " {'Types': '小蛋糕類',\n",
       "  'address': '銀座駅銀座三越B2F',\n",
       "  'price': 778,\n",
       "  'ranking': 20,\n",
       "  'souvenir': 'フレデリック・カッセル銀座三越「ミルフイユ・ヴァニーユ」',\n",
       "  'url': 'http://www.frederic-cassel.jp/specialite/'},\n",
       " {'Types': '點心類',\n",
       "  'address': '東京スカイツリー東京ソラマチ 1F',\n",
       "  'price': 920,\n",
       "  'ranking': 97,\n",
       "  'souvenir': 'LUPICIA「ジャックと豆の木」',\n",
       "  'url': 'https://www.lupicia.com/shop/lp.aspx'},\n",
       " {'Types': '巧克力類',\n",
       "  'address': '銀座駅銀座三越B2F',\n",
       "  'price': 414,\n",
       "  'ranking': 36,\n",
       "  'souvenir': 'CAFE OHZAN（カフェオウザン）「クロワッサンラスク」',\n",
       "  'url': 'http://onlineshop.cafe-ohzan.com/'},\n",
       " {'Types': '巧克力類',\n",
       "  'address': '品川駅エキュート品川サウス1F',\n",
       "  'price': 702,\n",
       "  'ranking': 42,\n",
       "  'souvenir': 'ベルン「ミルフィーユ」',\n",
       "  'url': 'http://hacci1912.com/'},\n",
       " {'Types': '夾心餅乾類',\n",
       "  'address': '東京駅グランスタB1F',\n",
       "  'price': 1300,\n",
       "  'ranking': 82,\n",
       "  'souvenir': 'ワッフル・ケーキの店エール・エル（R.L）「東京駅限定ワッフル10個セット」',\n",
       "  'url': 'http://www.rl-waffle.co.jp'},\n",
       " {'Types': '夾心餅乾類',\n",
       "  'address': '羽田空港第1旅客ターミナル2F東京食賓館[Eゲート前]',\n",
       "  'price': 540,\n",
       "  'ranking': 6,\n",
       "  'souvenir': 'N.Y.キャラメルサンド「N.Y.C.SAND（ニューヨークシティサンド）」',\n",
       "  'url': 'https://ringo-applepie.com'}]"
      ]
     },
     "execution_count": 3,
     "metadata": {},
     "output_type": "execute_result"
    }
   ],
   "source": [
    "import requests\n",
    "import json\n",
    "#omiyage variables: 年齡, 去過次數, 去幾天 , 總預算, 性別-男:0；女:1\n",
    "req = requests.post('http://127.0.0.1:5002/', json = {'age':20,'been2tko':3,'days':5,'budget':35000,'isFemale':1})\n",
    "#req = requests.post('http://127.0.0.1:5000/')\n",
    "req.json()\n",
    "#print(req.json()[0]['souvenir']+'\\n'+\n",
    "#      req.json()[1]['souvenir']+'\\n'+\n",
    "#      req.json()[2]['souvenir']+'\\n'+\n",
    "#      req.json()[3]['souvenir']+'\\n'+\n",
    "#      req.json()[4]['souvenir']+'\\n'+\n",
    "#      req.json()[5]['souvenir']+'\\n'+\n",
    "#      req.json()[6]['souvenir']+'\\n'+\n",
    "#      req.json()[7]['souvenir']+'\\n'+\n",
    "#      req.json()[8]['souvenir']+'\\n'+\n",
    "#      req.json()[9]['souvenir']\n",
    "#     )\n",
    "#for i in req.json():\n",
    "#    giftfeedback = (str(i['souvenir'])+',類型='+str(i['Types'])+',價格=日幣'+str(i['price'])+',地址='+str(i['address'])+',網址='+str(i['url']))\n",
    "#    print(giftfeedback)"
   ]
  },
  {
   "cell_type": "code",
   "execution_count": null,
   "metadata": {},
   "outputs": [],
   "source": []
  },
  {
   "cell_type": "code",
   "execution_count": null,
   "metadata": {},
   "outputs": [],
   "source": []
  }
 ],
 "metadata": {
  "kernelspec": {
   "display_name": "Python 3",
   "language": "python",
   "name": "python3"
  },
  "language_info": {
   "codemirror_mode": {
    "name": "ipython",
    "version": 3
   },
   "file_extension": ".py",
   "mimetype": "text/x-python",
   "name": "python",
   "nbconvert_exporter": "python",
   "pygments_lexer": "ipython3",
   "version": "3.7.3"
  }
 },
 "nbformat": 4,
 "nbformat_minor": 2
}
