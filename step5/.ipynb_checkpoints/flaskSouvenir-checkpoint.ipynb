{
 "cells": [
  {
   "cell_type": "code",
   "execution_count": null,
   "metadata": {},
   "outputs": [
    {
     "name": "stderr",
     "output_type": "stream",
     "text": [
      " * Running on http://127.0.0.1:5002/ (Press CTRL+C to quit)\n",
      "127.0.0.1 - - [22/Nov/2019 01:38:29] \"POST / HTTP/1.1\" 200 -\n"
     ]
    },
    {
     "name": "stdout",
     "output_type": "stream",
     "text": [
      "{'age': 35, 'been2tko': 20, 'days': 4, 'budget': 80000, 'isFemale': 0}\n",
      "0\n",
      "[{'Types': '餅乾類', 'price': 1250, 'ranking': 41, 'souvenir': '東京カンパネラ「東京カンパネラ・ショコラ」', 'address': '東京駅大丸東京4F', 'url': 'http://hacci1912.com/'}, {'Types': '餅乾類', 'price': 480, 'ranking': 78, 'souvenir': '福太郎「めんべい」', 'address': '新宿駅伊勢丹B1F', 'url': 'http://candy-showtime.com'}, {'Types': '餅乾類', 'price': 648, 'ranking': 57, 'souvenir': '桂新堂「渋谷えびせんべい」', 'address': '渋谷駅渋谷ヒカリエShinQs_B2F', 'url': 'http://www.keishindo.co.jp'}, {'Types': '小蛋糕類', 'price': 486, 'ranking': 21, 'souvenir': 'TAICHIRO_MORINAGA「キャラメルラスク」', 'address': '新宿駅NEWoman（ニュウマン）エキナカ2F', 'url': 'http://www.morinaga.co.jp/taichiro/'}, {'Types': '小蛋糕類', 'price': 972, 'ranking': 62, 'souvenir': 'セバスチャン_ブイエ「タルトレット」', 'address': '池袋駅西武百貨店池袋本店B1F中央A3', 'url': 'http://www.bouillet.jp/html/item/tartelette.html'}, {'Types': '點心類', 'price': 840, 'ranking': 72, 'souvenir': '柿の木坂Quatre（キャトル）「うふプリン」', 'address': '品川駅エキュート品川サウス1F', 'url': 'http://www.quatre.co.jp/shop/'}, {'Types': '點心類', 'price': 324, 'ranking': 13, 'souvenir': 'La_Terre_saison（ラ_テール_セゾン）「大地のプリン“ウ・オ・レ”」', 'address': '渋谷駅東急フードショーB1F', 'url': 'https://www.laterre.com/patisserie/'}, {'Types': '點心類', 'price': 550, 'ranking': 79, 'souvenir': 'candy_SHOW_TIME「TOKYO_SKYTREE_TOWN®_MIX」', 'address': '東京ソラマチ1F', 'url': 'http://candy-showtime.com'}, {'Types': '巧克力類', 'price': 648, 'ranking': 46, 'souvenir': 'コロンバン「東京駅焼きショコラ」', 'address': '東京駅グランスタB1F', 'url': 'http://www.wagashi-miyabian.com'}, {'Types': '夾心餅乾類', 'price': 1080, 'ranking': 15, 'souvenir': 'ミルフィユメゾン_フランセ「ミルフィユスペシャリテ」', 'address': '銀座駅松屋銀座B1F', 'url': 'http://millefeuillemaison.jp'}]\n"
     ]
    },
    {
     "name": "stderr",
     "output_type": "stream",
     "text": [
      "127.0.0.1 - - [22/Nov/2019 01:49:05] \"POST / HTTP/1.1\" 200 -\n"
     ]
    },
    {
     "name": "stdout",
     "output_type": "stream",
     "text": [
      "{'age': 0, 'been2tko': 5, 'days': 6, 'budget': 100000, 'isFemale': 1}\n",
      "1\n",
      "[{'Types': '餅乾類', 'price': 580, 'ranking': 61, 'souvenir': 'ドルチェフェリーチェ「うえきゅんのキャンダック」', 'address': '上野駅エキュート上野3F', 'url': 'https://www.keyuca.com/dolce-felice/'}, {'Types': '餅乾類', 'price': 1080, 'ranking': 67, 'souvenir': '銀座菊廼舎（きくのや）「冨貴寄-ふきよせ-」', 'address': '渋谷駅渋谷マークシティB1F', 'url': 'http://www.testarossacafe.net/'}, {'Types': '餅乾類', 'price': 480, 'ranking': 78, 'souvenir': '福太郎「めんべい」', 'address': '新宿駅伊勢丹B1F', 'url': 'http://candy-showtime.com'}, {'Types': '小蛋糕類', 'price': 972, 'ranking': 62, 'souvenir': 'セバスチャン_ブイエ「タルトレット」', 'address': '池袋駅西武百貨店池袋本店B1F中央A3', 'url': 'http://www.bouillet.jp/html/item/tartelette.html'}, {'Types': '小蛋糕類', 'price': 850, 'ranking': 55, 'souvenir': 'マミーズ･アン･スリール「パンダのアップルパイ」', 'address': '上野駅エキュート上野3F', 'url': 'http://www.net-ekinaka.com/shop/g/gRNUNSWET1841-RSP5002/'}, {'Types': '點心類', 'price': 1512, 'ranking': 29, 'souvenir': 'ピエール・エルメ・パリ「マカロン」', 'address': '渋谷駅渋谷ヒカリエShinQs B2F', 'url': 'http://www.keishindo.co.jp'}, {'Types': '巧克力類', 'price': 414, 'ranking': 36, 'souvenir': 'CAFE OHZAN（カフェオウザン）「クロワッサンラスク」', 'address': '銀座駅銀座三越B2F', 'url': 'http://onlineshop.cafe-ohzan.com/'}, {'Types': '巧克力類', 'price': 1404, 'ranking': 38, 'souvenir': 'ピエール・マルコリーニ「マルコリーニ・マドレーヌ・ショコラ」', 'address': '羽田空港第2旅客ターミナル2F東京食賓館[3番時計台前]', 'url': 'https://store.c-c-c.co.jp/DefaultBrandTop.aspx'}, {'Types': '夾心餅乾類', 'price': 2096, 'ranking': 96, 'souvenir': '空いろ「つき」', 'address': '池袋駅 西武百貨店池袋本店B1F', 'url': 'https://www.lupicia.com/shop/lp.aspx'}, {'Types': '夾心餅乾類', 'price': 540, 'ranking': 6, 'souvenir': 'N.Y.キャラメルサンド「N.Y.C.SAND（ニューヨークシティサンド）」', 'address': '羽田空港第1旅客ターミナル2F東京食賓館[Eゲート前]', 'url': 'https://ringo-applepie.com'}]\n"
     ]
    },
    {
     "name": "stderr",
     "output_type": "stream",
     "text": [
      "127.0.0.1 - - [22/Nov/2019 03:58:17] \"POST / HTTP/1.1\" 200 -\n"
     ]
    },
    {
     "name": "stdout",
     "output_type": "stream",
     "text": [
      "{'age': 31, 'been2tko': 0, 'days': 7, 'budget': 10000, 'isFemale': 0}\n",
      "2\n",
      "[{'Types': '餅乾類', 'price': 1080, 'ranking': 67, 'souvenir': '銀座菊廼舎（きくのや）「冨貴寄-ふきよせ-」', 'address': '渋谷駅渋谷マークシティB1F', 'url': 'http://www.testarossacafe.net/'}, {'Types': '餅乾類', 'price': 1080, 'ranking': 71, 'souvenir': 'ノワ・ドゥ・ブール「サブレ・アマンド」', 'address': '新宿駅伊勢丹B1F', 'url': 'http://noix-de-beurre.com'}, {'Types': '餅乾類', 'price': 648, 'ranking': 30, 'souvenir': '桂新堂「パンダの旅」', 'address': '東京駅グランスタB1F', 'url': 'http://www.keishindo.co.jp'}, {'Types': '小蛋糕類', 'price': 756, 'ranking': 5, 'souvenir': 'ねんりん家_銀座本店「はちみつ香マウントバーム」', 'address': '銀座駅周辺東京都中央区銀座5丁目6-15座STONE［ザ・ストーン］1F', 'url': 'https://www.nenrinya.jp'}, {'Types': '點心類', 'price': 648, 'ranking': 33, 'souvenir': 'ねんりん家「ちいさなバームツリーの東京バームツリーボックス」', 'address': '東京スカイツリー東京ソラマチ 2F', 'url': 'https://www.nenrinya.jp/littlebaumtree/'}, {'Types': '點心類', 'price': 216, 'ranking': 84, 'souvenir': 'モロゾフ「カスタードプリン」', 'address': '新宿駅小田急百貨店本館B2F', 'url': 'http://www.morozoff.co.jp/products/pudding/'}, {'Types': '巧克力類', 'price': 414, 'ranking': 36, 'souvenir': 'CAFE OHZAN（カフェオウザン）「クロワッサンラスク」', 'address': '銀座駅銀座三越B2F', 'url': 'http://onlineshop.cafe-ohzan.com/'}, {'Types': '巧克力類', 'price': 648, 'ranking': 46, 'souvenir': 'コロンバン「東京駅焼きショコラ」', 'address': '東京駅グランスタB1F', 'url': 'http://www.wagashi-miyabian.com'}, {'Types': '夾心餅乾類', 'price': 1080, 'ranking': 2, 'souvenir': 'かみなり舎「ニューヨークパーフェクトチーズ」', 'address': '東京駅構内南通路', 'url': 'なし'}, {'Types': '夾心餅乾類', 'price': 1300, 'ranking': 82, 'souvenir': 'ワッフル・ケーキの店エール・エル（R.L）「東京駅限定ワッフル10個セット」', 'address': '東京駅グランスタB1F', 'url': 'http://www.rl-waffle.co.jp'}]\n"
     ]
    },
    {
     "name": "stderr",
     "output_type": "stream",
     "text": [
      "127.0.0.1 - - [22/Nov/2019 04:04:58] \"POST / HTTP/1.1\" 200 -\n"
     ]
    },
    {
     "name": "stdout",
     "output_type": "stream",
     "text": [
      "{'age': 29, 'been2tko': 1, 'days': 2, 'budget': 50000, 'isFemale': 0}\n",
      "2\n",
      "[{'Types': '餅乾類', 'price': 2160, 'ranking': 22, 'souvenir': 'BABBI銀座松屋「グランワッフェリーニ セット」', 'address': '銀座駅松屋銀座B1F', 'url': 'http://www.babbi.co.jp'}, {'Types': '餅乾類', 'price': 648, 'ranking': 57, 'souvenir': '桂新堂「渋谷えびせんべい」', 'address': '渋谷駅渋谷ヒカリエShinQs_B2F', 'url': 'http://www.keishindo.co.jp'}, {'Types': '餅乾類', 'price': 1080, 'ranking': 24, 'souvenir': '大江戸菓子匠銀座松崎煎餅「瓦煎餅三味胴」', 'address': '銀座駅周辺東京都中央区銀座5-6-9松崎ビル1階', 'url': 'http://terraconfect.tokyo/fromageterra/'}, {'Types': '小蛋糕類', 'price': 778, 'ranking': 20, 'souvenir': 'フレデリック・カッセル銀座三越「ミルフイユ・ヴァニーユ」', 'address': '銀座駅銀座三越B2F', 'url': 'http://www.frederic-cassel.jp/specialite/'}, {'Types': '點心類', 'price': 180, 'ranking': 74, 'souvenir': 'すずめや「どら焼き」', 'address': '池袋駅周辺東京都豊島区南池袋2-18-5', 'url': 'https://www.d-suzumeya.com'}, {'Types': '點心類', 'price': 778, 'ranking': 51, 'souvenir': '浅草満願堂「栗入り芋きん」', 'address': '浅草駅エキミセ1F', 'url': 'https://www.yokumoku.jp/yokumoku/cms/preview.php'}, {'Types': '巧克力類', 'price': 702, 'ranking': 42, 'souvenir': 'ベルン「ミルフィーユ」', 'address': '品川駅エキュート品川サウス1F', 'url': 'http://hacci1912.com/'}, {'Types': '巧克力類', 'price': 1404, 'ranking': 38, 'souvenir': 'ピエール・マルコリーニ「マルコリーニ・マドレーヌ・ショコラ」', 'address': '羽田空港第2旅客ターミナル2F東京食賓館[3番時計台前]', 'url': 'https://store.c-c-c.co.jp/DefaultBrandTop.aspx'}, {'Types': '夾心餅乾類', 'price': 1080, 'ranking': 15, 'souvenir': 'ミルフィユメゾン_フランセ「ミルフィユスペシャリテ」', 'address': '銀座駅松屋銀座B1F', 'url': 'http://millefeuillemaison.jp'}, {'Types': '夾心餅乾類', 'price': 1300, 'ranking': 82, 'souvenir': 'ワッフル・ケーキの店エール・エル（R.L）「東京駅限定ワッフル10個セット」', 'address': '東京駅グランスタB1F', 'url': 'http://www.rl-waffle.co.jp'}]\n"
     ]
    },
    {
     "name": "stderr",
     "output_type": "stream",
     "text": [
      "127.0.0.1 - - [22/Nov/2019 04:52:33] \"POST / HTTP/1.1\" 200 -\n"
     ]
    },
    {
     "name": "stdout",
     "output_type": "stream",
     "text": [
      "{'age': 7, 'been2tko': 1, 'days': 7, 'budget': 40000, 'isFemale': 0}\n",
      "2\n",
      "[{'Types': '餅乾類', 'price': 1250, 'ranking': 41, 'souvenir': '東京カンパネラ「東京カンパネラ・ショコラ」', 'address': '東京駅大丸東京4F', 'url': 'http://hacci1912.com/'}, {'Types': '餅乾類', 'price': 648, 'ranking': 57, 'souvenir': '桂新堂「渋谷えびせんべい」', 'address': '渋谷駅渋谷ヒカリエShinQs_B2F', 'url': 'http://www.keishindo.co.jp'}, {'Types': '餅乾類', 'price': 2160, 'ranking': 22, 'souvenir': 'BABBI銀座松屋「グランワッフェリーニ セット」', 'address': '銀座駅松屋銀座B1F', 'url': 'http://www.babbi.co.jp'}, {'Types': '小蛋糕類', 'price': 1080, 'ranking': 93, 'souvenir': 'メサージュ・ド・ローズ「コーン・フルーリ」', 'address': '東京駅大丸東京1F', 'url': 'http://wp.mesrose.com/'}, {'Types': '點心類', 'price': 1188, 'ranking': 65, 'souvenir': '両口屋是清「ささらがた」', 'address': '渋谷駅渋谷マークシティB1F', 'url': 'http://www.ryoguchiya-korekiyo.com/products/list.php?category_id=55'}, {'Types': '點心類', 'price': 216, 'ranking': 84, 'souvenir': 'モロゾフ「カスタードプリン」', 'address': '新宿駅小田急百貨店本館B2F', 'url': 'http://www.morozoff.co.jp/products/pudding/'}, {'Types': '巧克力類', 'price': 675, 'ranking': 48, 'souvenir': 'ラ･メゾン･デュ･ショコラ「ショコラ」', 'address': '銀座駅松屋銀座B1F', 'url': 'http://www.lamaisonduchocolat.co.jp/ja_jp/'}, {'Types': '巧克力類', 'price': 1404, 'ranking': 38, 'souvenir': 'ピエール・マルコリーニ「マルコリーニ・マドレーヌ・ショコラ」', 'address': '羽田空港第2旅客ターミナル2F東京食賓館[3番時計台前]', 'url': 'https://store.c-c-c.co.jp/DefaultBrandTop.aspx'}, {'Types': '夾心餅乾類', 'price': 864, 'ranking': 3, 'souvenir': 'Butter_Butler（バターバトラー）「バターフィナンシェ」', 'address': '新宿駅NEWoman（ニュウマン）エキナカ2F', 'url': 'http://andthefriet.com/driedfriet/'}, {'Types': '夾心餅乾類', 'price': 240, 'ranking': 16, 'souvenir': 'La_Famille「シフォンケーキ」', 'address': '池袋駅周辺東京都豊島区西池袋3-4-6今村ビル1F', 'url': 'http://www.ikesen.net/cafe/La%20Famille/index.html'}]\n"
     ]
    },
    {
     "name": "stderr",
     "output_type": "stream",
     "text": [
      "127.0.0.1 - - [22/Nov/2019 05:49:16] \"POST / HTTP/1.1\" 200 -\n"
     ]
    },
    {
     "name": "stdout",
     "output_type": "stream",
     "text": [
      "{'age': 23, 'been2tko': 0, 'days': 4, 'budget': 30000, 'isFemale': 1}\n",
      "1\n",
      "[{'Types': '餅乾類', 'price': 1500, 'ranking': 83, 'souvenir': 'フェアリーケーキフェア「トーキョーステーションビスケット東京駅丸の内駅舎」', 'address': '東京駅グランスタB1F', 'url': 'http://www.fairycake.jp/tokyo-station-biscuits/'}, {'Types': '餅乾類', 'price': 450, 'ranking': 4, 'souvenir': 'アンド_ザ_フリット「ドライフリット」', 'address': '渋谷駅渋谷ヒカリエShinQs_B2F', 'url': 'http://andthefriet.com/driedfriet/'}, {'Types': '餅乾類', 'price': 480, 'ranking': 78, 'souvenir': '福太郎「めんべい」', 'address': '新宿駅伊勢丹B1F', 'url': 'http://candy-showtime.com'}, {'Types': '小蛋糕類', 'price': 486, 'ranking': 21, 'souvenir': 'TAICHIRO_MORINAGA「キャラメルラスク」', 'address': '新宿駅NEWoman（ニュウマン）エキナカ2F', 'url': 'http://www.morinaga.co.jp/taichiro/'}, {'Types': '小蛋糕類', 'price': 648, 'ranking': 100, 'souvenir': '豊島屋「鳩サブレー」', 'address': '品川駅エキュート品川サウス1F', 'url': 'なし'}, {'Types': '點心類', 'price': 401, 'ranking': 87, 'souvenir': 'パティスリー・サダハル・アオキ・パリ「東京焼きマカロンショコラ」', 'address': '渋谷駅渋谷ヒカリエShinQs B2F', 'url': 'http://www.sadaharuaoki.jp/newitem/467/'}, {'Types': '巧克力類', 'price': 1404, 'ranking': 38, 'souvenir': 'ピエール・マルコリーニ「マルコリーニ・マドレーヌ・ショコラ」', 'address': '羽田空港第2旅客ターミナル2F東京食賓館[3番時計台前]', 'url': 'https://store.c-c-c.co.jp/DefaultBrandTop.aspx'}, {'Types': '巧克力類', 'price': 1620, 'ranking': 45, 'souvenir': 'ホレンディッシェ・カカオシュトゥーベ「バウムシュピッツ」', 'address': '新宿駅伊勢丹B1F', 'url': 'https://isetan.mistore.jp/onlinestore/foods/kakaostube/index.html'}, {'Types': '夾心餅乾類', 'price': 864, 'ranking': 81, 'souvenir': '東京ミルクチーズ工場「ソルト＆カマンベール」', 'address': '東京駅京葉ストリート1F', 'url': 'http://www.rl-waffle.co.jp'}, {'Types': '夾心餅乾類', 'price': 864, 'ranking': 3, 'souvenir': 'Butter_Butler（バターバトラー）「バターフィナンシェ」', 'address': '新宿駅NEWoman（ニュウマン）エキナカ2F', 'url': 'http://andthefriet.com/driedfriet/'}]\n"
     ]
    }
   ],
   "source": [
    "#第零類分群:高花費 餅乾類 小蛋糕類 傳統點心類 夾心餅乾類; criteria: 伴手禮外型是否美觀大氣, 伴手禮知名度, 價格 , 美味程度\n",
    "#第一類分群:餅乾類 小蛋糕類 傳統點心類 巧克力類 夾心餅乾類 果乾類; criteria: 伴手禮知名度, 價格, 美味程度\n",
    "#第二類分群:餅乾類 小蛋糕類 傳統點心類 巧克力類 夾心餅乾類;criteria: 伴手禮知名度, 價格, 美味程度\n",
    "import pymysql\n",
    "import pymysql.cursors\n",
    "import joblib \n",
    "import numpy as np\n",
    "from flask import Flask\n",
    "import flask\n",
    "\n",
    "connection = pymysql.connect(host='mysql',\n",
    "                             user='root',\n",
    "                             password='iii',\n",
    "                             charset='utf8mb4',\n",
    "                             cursorclass=pymysql.cursors.DictCursor)\n",
    "\n",
    "app = Flask(__name__)\n",
    "@app.route(\"/\",methods=[\"POST\"])\n",
    "def recommend():\n",
    "    if flask.request.method == \"POST\":\n",
    "        userdata=flask.request.json\n",
    "    print(userdata)\n",
    "    cluster=clf.predict(np.array([userdata['age'],userdata['been2tko'],\n",
    "                                  userdata['days'],userdata['budget'],userdata['isFemale']]).reshape((1,-1)))[0]\n",
    "    print(cluster)\n",
    "    queryResult=[]\n",
    "    distribution_0={'餅乾類':3,'小蛋糕類':2,'點心類':3,'巧克力類':1,'夾心餅乾類':1}\n",
    "    distribution_1={'餅乾類':3,'小蛋糕類':2,'點心類':1,'巧克力類':2,'夾心餅乾類':2}\n",
    "    distribution_2={'餅乾類':3,'小蛋糕類':1,'點心類':2,'巧克力類':2,'夾心餅乾類':2}\n",
    "    if cluster == 0:\n",
    "        distribution=distribution_0\n",
    "    elif cluster == 1:\n",
    "        distribution=distribution_1\n",
    "    else:\n",
    "        distribution=distribution_2\n",
    "    with connection.cursor() as cursor:\n",
    "        sql = \"USE`test`\"\n",
    "        cursor.execute(sql)\n",
    "        for kind in list(distribution.keys()): \n",
    "            cursor.execute( \"SELECT * FROM `souvenir.csv` WHERE Types= '\"+kind+\"' ORDER BY RAND() LIMIT \"+str(distribution[kind]))          \n",
    "            queryResult+=cursor.fetchall()\n",
    "    print(queryResult)\n",
    "    return flask.jsonify(queryResult)\n",
    "#string, dict, tuple, Response instance\n",
    "if __name__ == \"__main__\":\n",
    "    clf = joblib.load('omiyage_clf.joblib')\n",
    "    \n",
    "    app.run(port=5002)\n",
    "                     #omiyage variables: 年齡, 去過次數, 去幾天 , 總預算, 性別-男:0；女:1\n",
    "    \n",
    "\n",
    "    "
   ]
  }
 ],
 "metadata": {
  "kernelspec": {
   "display_name": "Python 3",
   "language": "python",
   "name": "python3"
  },
  "language_info": {
   "codemirror_mode": {
    "name": "ipython",
    "version": 3
   },
   "file_extension": ".py",
   "mimetype": "text/x-python",
   "name": "python",
   "nbconvert_exporter": "python",
   "pygments_lexer": "ipython3",
   "version": "3.7.3"
  }
 },
 "nbformat": 4,
 "nbformat_minor": 2
}
