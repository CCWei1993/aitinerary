{
 "cells": [
  {
   "cell_type": "code",
   "execution_count": 1,
   "metadata": {},
   "outputs": [
    {
     "name": "stderr",
     "output_type": "stream",
     "text": [
      " * Running on http://127.0.0.1:5009/ (Press CTRL+C to quit)\n"
     ]
    },
    {
     "name": "stdout",
     "output_type": "stream",
     "text": [
      "userdata: {'age': 35, 'been2tko': 20, 'days': 4, 'totalBudget': 80000, 'gender': 0, 'oneBudget': 300}\n",
      "cls: 0\n",
      "8\n"
     ]
    },
    {
     "name": "stderr",
     "output_type": "stream",
     "text": [
      "127.0.0.1 - - [22/Nov/2019 01:38:07] \"POST / HTTP/1.1\" 200 -\n"
     ]
    },
    {
     "name": "stdout",
     "output_type": "stream",
     "text": [
      "`rest_catg` LIKE '%壽司%'OR `rest_catg` LIKE '%生魚片%' 1 1\n",
      "`rest_catg` LIKE '%天婦羅%'OR `rest_catg` LIKE '%炸%' 1 1\n",
      "`rest_catg` LIKE '%壽喜燒%'OR `rest_catg` LIKE '%涮涮鍋%' 1 1\n",
      "`rest_catg` LIKE '%拉麵%'OR `rest_catg` LIKE '%日式炒麵%' 1 1\n",
      "`rest_catg` LIKE '%牛%'OR `rest_catg` LIKE '%河豚%'OR `rest_catg` LIKE '%懷石%' 1 1\n",
      "`rest_catg` LIKE '%咖哩%'OR `rest_catg` LIKE '%丼飯%' 1 1\n",
      "`rest_catg` LIKE '%蕎麥麵%'OR `rest_catg` LIKE '%烏龍麵%' 1 1\n",
      "`rest_catg` LIKE '%鰻%'OR `rest_catg` LIKE '%燒肉%' 1 1\n",
      "`rest_catg` LIKE '%其他%' 0 0\n"
     ]
    },
    {
     "name": "stderr",
     "output_type": "stream",
     "text": [
      "127.0.0.1 - - [22/Nov/2019 01:38:13] \"POST / HTTP/1.1\" 200 -\n"
     ]
    },
    {
     "name": "stdout",
     "output_type": "stream",
     "text": [
      "userdata: {'age': 35, 'been2tko': 20, 'days': 4, 'totalBudget': 80000, 'gender': 0, 'oneBudget': 300}\n",
      "cls: 0\n",
      "8\n",
      "`rest_catg` LIKE '%壽司%'OR `rest_catg` LIKE '%生魚片%' 1 1\n",
      "`rest_catg` LIKE '%天婦羅%'OR `rest_catg` LIKE '%炸%' 1 1\n",
      "`rest_catg` LIKE '%壽喜燒%'OR `rest_catg` LIKE '%涮涮鍋%' 1 1\n",
      "`rest_catg` LIKE '%拉麵%'OR `rest_catg` LIKE '%日式炒麵%' 1 1\n",
      "`rest_catg` LIKE '%牛%'OR `rest_catg` LIKE '%河豚%'OR `rest_catg` LIKE '%懷石%' 1 1\n",
      "`rest_catg` LIKE '%咖哩%'OR `rest_catg` LIKE '%丼飯%' 1 1\n",
      "`rest_catg` LIKE '%蕎麥麵%'OR `rest_catg` LIKE '%烏龍麵%' 1 1\n",
      "`rest_catg` LIKE '%鰻%'OR `rest_catg` LIKE '%燒肉%' 1 1\n",
      "`rest_catg` LIKE '%其他%' 0 0\n"
     ]
    },
    {
     "name": "stderr",
     "output_type": "stream",
     "text": [
      "127.0.0.1 - - [22/Nov/2019 01:48:42] \"POST / HTTP/1.1\" 200 -\n"
     ]
    },
    {
     "name": "stdout",
     "output_type": "stream",
     "text": [
      "userdata: {'age': 0, 'been2tko': 5, 'days': 6, 'totalBudget': 100000, 'gender': 1, 'oneBudget': 400}\n",
      "cls: 1\n",
      "12\n",
      "`rest_catg` LIKE '%壽司%'OR `rest_catg` LIKE '%生魚片%' 2 2\n",
      "`rest_catg` LIKE '%天婦羅%'OR `rest_catg` LIKE '%炸%' 1 1\n",
      "`rest_catg` LIKE '%壽喜燒%'OR `rest_catg` LIKE '%涮涮鍋%' 2 2\n",
      "`rest_catg` LIKE '%拉麵%'OR `rest_catg` LIKE '%日式炒麵%' 2 2\n",
      "`rest_catg` LIKE '%牛%'OR `rest_catg` LIKE '%河豚%'OR `rest_catg` LIKE '%懷石%' 2 2\n",
      "`rest_catg` LIKE '%咖哩%'OR `rest_catg` LIKE '%丼飯%' 1 1\n",
      "`rest_catg` LIKE '%蕎麥麵%'OR `rest_catg` LIKE '%烏龍麵%' 1 1\n",
      "`rest_catg` LIKE '%鰻%'OR `rest_catg` LIKE '%燒肉%' 1 1\n",
      "`rest_catg` LIKE '%其他%' 0 0\n"
     ]
    },
    {
     "name": "stderr",
     "output_type": "stream",
     "text": [
      "127.0.0.1 - - [22/Nov/2019 01:48:48] \"POST / HTTP/1.1\" 200 -\n"
     ]
    },
    {
     "name": "stdout",
     "output_type": "stream",
     "text": [
      "userdata: {'age': 0, 'been2tko': 5, 'days': 6, 'totalBudget': 100000, 'gender': 1, 'oneBudget': 400}\n",
      "cls: 1\n",
      "12\n",
      "`rest_catg` LIKE '%壽司%'OR `rest_catg` LIKE '%生魚片%' 2 2\n",
      "`rest_catg` LIKE '%天婦羅%'OR `rest_catg` LIKE '%炸%' 1 1\n",
      "`rest_catg` LIKE '%壽喜燒%'OR `rest_catg` LIKE '%涮涮鍋%' 2 2\n",
      "`rest_catg` LIKE '%拉麵%'OR `rest_catg` LIKE '%日式炒麵%' 2 2\n",
      "`rest_catg` LIKE '%牛%'OR `rest_catg` LIKE '%河豚%'OR `rest_catg` LIKE '%懷石%' 2 2\n",
      "`rest_catg` LIKE '%咖哩%'OR `rest_catg` LIKE '%丼飯%' 1 1\n",
      "`rest_catg` LIKE '%蕎麥麵%'OR `rest_catg` LIKE '%烏龍麵%' 1 1\n",
      "`rest_catg` LIKE '%鰻%'OR `rest_catg` LIKE '%燒肉%' 1 1\n",
      "`rest_catg` LIKE '%其他%' 0 0\n"
     ]
    },
    {
     "name": "stderr",
     "output_type": "stream",
     "text": [
      "127.0.0.1 - - [22/Nov/2019 03:50:12] \"POST / HTTP/1.1\" 200 -\n"
     ]
    },
    {
     "name": "stdout",
     "output_type": "stream",
     "text": [
      "userdata: {'age': 28, 'been2tko': 3, 'days': 1, 'totalBudget': 100000, 'gender': 1, 'oneBudget': 200}\n",
      "cls: 1\n",
      "2\n",
      "`rest_catg` LIKE '%壽司%'OR `rest_catg` LIKE '%生魚片%' 1 1\n",
      "`rest_catg` LIKE '%天婦羅%'OR `rest_catg` LIKE '%炸%' 0 0\n",
      "`rest_catg` LIKE '%壽喜燒%'OR `rest_catg` LIKE '%涮涮鍋%' 0 0\n",
      "`rest_catg` LIKE '%拉麵%'OR `rest_catg` LIKE '%日式炒麵%' 1 1\n",
      "`rest_catg` LIKE '%牛%'OR `rest_catg` LIKE '%河豚%'OR `rest_catg` LIKE '%懷石%' 0 0\n",
      "`rest_catg` LIKE '%咖哩%'OR `rest_catg` LIKE '%丼飯%' 0 0\n",
      "`rest_catg` LIKE '%蕎麥麵%'OR `rest_catg` LIKE '%烏龍麵%' 0 0\n",
      "`rest_catg` LIKE '%鰻%'OR `rest_catg` LIKE '%燒肉%' 0 0\n",
      "`rest_catg` LIKE '%其他%' 0 0\n"
     ]
    },
    {
     "name": "stderr",
     "output_type": "stream",
     "text": [
      "127.0.0.1 - - [22/Nov/2019 03:50:15] \"POST / HTTP/1.1\" 200 -\n"
     ]
    },
    {
     "name": "stdout",
     "output_type": "stream",
     "text": [
      "userdata: {'age': 31, 'been2tko': 0, 'days': 7, 'totalBudget': 10000, 'gender': 0, 'oneBudget': 300}\n",
      "cls: 2\n",
      "14\n",
      "`rest_catg` LIKE '%壽司%'OR `rest_catg` LIKE '%生魚片%' 3 3\n",
      "`rest_catg` LIKE '%天婦羅%'OR `rest_catg` LIKE '%炸%' 2 2\n",
      "`rest_catg` LIKE '%壽喜燒%'OR `rest_catg` LIKE '%涮涮鍋%' 1 1\n",
      "`rest_catg` LIKE '%拉麵%'OR `rest_catg` LIKE '%日式炒麵%' 3 3\n",
      "`rest_catg` LIKE '%牛%'OR `rest_catg` LIKE '%河豚%'OR `rest_catg` LIKE '%懷石%' 2 2\n",
      "`rest_catg` LIKE '%咖哩%'OR `rest_catg` LIKE '%丼飯%' 1 1\n",
      "`rest_catg` LIKE '%蕎麥麵%'OR `rest_catg` LIKE '%烏龍麵%' 1 1\n",
      "`rest_catg` LIKE '%鰻%'OR `rest_catg` LIKE '%燒肉%' 1 1\n",
      "`rest_catg` LIKE '%其他%' 0 0\n"
     ]
    },
    {
     "name": "stderr",
     "output_type": "stream",
     "text": [
      "127.0.0.1 - - [22/Nov/2019 03:50:22] \"POST / HTTP/1.1\" 200 -\n"
     ]
    },
    {
     "name": "stdout",
     "output_type": "stream",
     "text": [
      "userdata: {'age': 31, 'been2tko': 0, 'days': 7, 'totalBudget': 10000, 'gender': 0, 'oneBudget': 300}\n",
      "cls: 2\n",
      "14\n",
      "`rest_catg` LIKE '%壽司%'OR `rest_catg` LIKE '%生魚片%' 3 3\n",
      "`rest_catg` LIKE '%天婦羅%'OR `rest_catg` LIKE '%炸%' 2 2\n",
      "`rest_catg` LIKE '%壽喜燒%'OR `rest_catg` LIKE '%涮涮鍋%' 1 1\n",
      "`rest_catg` LIKE '%拉麵%'OR `rest_catg` LIKE '%日式炒麵%' 3 3\n",
      "`rest_catg` LIKE '%牛%'OR `rest_catg` LIKE '%河豚%'OR `rest_catg` LIKE '%懷石%' 2 2\n",
      "`rest_catg` LIKE '%咖哩%'OR `rest_catg` LIKE '%丼飯%' 1 1\n",
      "`rest_catg` LIKE '%蕎麥麵%'OR `rest_catg` LIKE '%烏龍麵%' 1 1\n",
      "`rest_catg` LIKE '%鰻%'OR `rest_catg` LIKE '%燒肉%' 1 1\n",
      "`rest_catg` LIKE '%其他%' 0 0\n"
     ]
    },
    {
     "name": "stderr",
     "output_type": "stream",
     "text": [
      "127.0.0.1 - - [22/Nov/2019 03:50:27] \"POST / HTTP/1.1\" 200 -\n"
     ]
    },
    {
     "name": "stdout",
     "output_type": "stream",
     "text": [
      "userdata: {'age': 28, 'been2tko': 3, 'days': 1, 'totalBudget': 100000, 'gender': 1, 'oneBudget': 200}\n",
      "cls: 1\n",
      "2\n",
      "`rest_catg` LIKE '%壽司%'OR `rest_catg` LIKE '%生魚片%' 1 1\n",
      "`rest_catg` LIKE '%天婦羅%'OR `rest_catg` LIKE '%炸%' 0 0\n",
      "`rest_catg` LIKE '%壽喜燒%'OR `rest_catg` LIKE '%涮涮鍋%' 0 0\n",
      "`rest_catg` LIKE '%拉麵%'OR `rest_catg` LIKE '%日式炒麵%' 1 1\n",
      "`rest_catg` LIKE '%牛%'OR `rest_catg` LIKE '%河豚%'OR `rest_catg` LIKE '%懷石%' 0 0\n",
      "`rest_catg` LIKE '%咖哩%'OR `rest_catg` LIKE '%丼飯%' 0 0\n",
      "`rest_catg` LIKE '%蕎麥麵%'OR `rest_catg` LIKE '%烏龍麵%' 0 0\n",
      "`rest_catg` LIKE '%鰻%'OR `rest_catg` LIKE '%燒肉%' 0 0\n",
      "`rest_catg` LIKE '%其他%' 0 0\n"
     ]
    },
    {
     "name": "stderr",
     "output_type": "stream",
     "text": [
      "127.0.0.1 - - [22/Nov/2019 03:50:28] \"POST / HTTP/1.1\" 200 -\n"
     ]
    },
    {
     "name": "stdout",
     "output_type": "stream",
     "text": [
      "userdata: {'age': 31, 'been2tko': 0, 'days': 7, 'totalBudget': 10000, 'gender': 0, 'oneBudget': 300}\n",
      "cls: 2\n",
      "14\n",
      "`rest_catg` LIKE '%壽司%'OR `rest_catg` LIKE '%生魚片%' 3 3\n",
      "`rest_catg` LIKE '%天婦羅%'OR `rest_catg` LIKE '%炸%' 2 2\n",
      "`rest_catg` LIKE '%壽喜燒%'OR `rest_catg` LIKE '%涮涮鍋%' 1 1\n",
      "`rest_catg` LIKE '%拉麵%'OR `rest_catg` LIKE '%日式炒麵%' 3 3\n",
      "`rest_catg` LIKE '%牛%'OR `rest_catg` LIKE '%河豚%'OR `rest_catg` LIKE '%懷石%' 2 2\n",
      "`rest_catg` LIKE '%咖哩%'OR `rest_catg` LIKE '%丼飯%' 1 1\n",
      "`rest_catg` LIKE '%蕎麥麵%'OR `rest_catg` LIKE '%烏龍麵%' 1 1\n",
      "`rest_catg` LIKE '%鰻%'OR `rest_catg` LIKE '%燒肉%' 1 1\n",
      "`rest_catg` LIKE '%其他%' 0 0\n"
     ]
    },
    {
     "name": "stderr",
     "output_type": "stream",
     "text": [
      "127.0.0.1 - - [22/Nov/2019 03:50:36] \"POST / HTTP/1.1\" 200 -\n"
     ]
    },
    {
     "name": "stdout",
     "output_type": "stream",
     "text": [
      "userdata: {'age': 31, 'been2tko': 0, 'days': 7, 'totalBudget': 10000, 'gender': 0, 'oneBudget': 300}\n",
      "cls: 2\n",
      "14\n",
      "`rest_catg` LIKE '%壽司%'OR `rest_catg` LIKE '%生魚片%' 3 3\n",
      "`rest_catg` LIKE '%天婦羅%'OR `rest_catg` LIKE '%炸%' 2 2\n",
      "`rest_catg` LIKE '%壽喜燒%'OR `rest_catg` LIKE '%涮涮鍋%' 1 1\n",
      "`rest_catg` LIKE '%拉麵%'OR `rest_catg` LIKE '%日式炒麵%' 3 3\n",
      "`rest_catg` LIKE '%牛%'OR `rest_catg` LIKE '%河豚%'OR `rest_catg` LIKE '%懷石%' 2 2\n",
      "`rest_catg` LIKE '%咖哩%'OR `rest_catg` LIKE '%丼飯%' 1 1\n",
      "`rest_catg` LIKE '%蕎麥麵%'OR `rest_catg` LIKE '%烏龍麵%' 1 1\n",
      "`rest_catg` LIKE '%鰻%'OR `rest_catg` LIKE '%燒肉%' 1 1\n",
      "`rest_catg` LIKE '%其他%' 0 0\n"
     ]
    },
    {
     "name": "stderr",
     "output_type": "stream",
     "text": [
      "127.0.0.1 - - [22/Nov/2019 03:50:42] \"POST / HTTP/1.1\" 200 -\n"
     ]
    },
    {
     "name": "stdout",
     "output_type": "stream",
     "text": [
      "userdata: {'age': 31, 'been2tko': 0, 'days': 7, 'totalBudget': 10000, 'gender': 0, 'oneBudget': 300}\n",
      "cls: 2\n",
      "14\n",
      "`rest_catg` LIKE '%壽司%'OR `rest_catg` LIKE '%生魚片%' 3 3\n",
      "`rest_catg` LIKE '%天婦羅%'OR `rest_catg` LIKE '%炸%' 2 2\n",
      "`rest_catg` LIKE '%壽喜燒%'OR `rest_catg` LIKE '%涮涮鍋%' 1 1\n",
      "`rest_catg` LIKE '%拉麵%'OR `rest_catg` LIKE '%日式炒麵%' 3 3\n",
      "`rest_catg` LIKE '%牛%'OR `rest_catg` LIKE '%河豚%'OR `rest_catg` LIKE '%懷石%' 2 2\n",
      "`rest_catg` LIKE '%咖哩%'OR `rest_catg` LIKE '%丼飯%' 1 1\n",
      "`rest_catg` LIKE '%蕎麥麵%'OR `rest_catg` LIKE '%烏龍麵%' 1 1\n",
      "`rest_catg` LIKE '%鰻%'OR `rest_catg` LIKE '%燒肉%' 1 1\n",
      "`rest_catg` LIKE '%其他%' 0 0\n"
     ]
    },
    {
     "name": "stderr",
     "output_type": "stream",
     "text": [
      "127.0.0.1 - - [22/Nov/2019 03:50:47] \"POST / HTTP/1.1\" 200 -\n"
     ]
    },
    {
     "name": "stdout",
     "output_type": "stream",
     "text": [
      "userdata: {'age': 31, 'been2tko': 0, 'days': 7, 'totalBudget': 10000, 'gender': 0, 'oneBudget': 300}\n",
      "cls: 2\n",
      "14\n",
      "`rest_catg` LIKE '%壽司%'OR `rest_catg` LIKE '%生魚片%' 3 3\n",
      "`rest_catg` LIKE '%天婦羅%'OR `rest_catg` LIKE '%炸%' 2 2\n",
      "`rest_catg` LIKE '%壽喜燒%'OR `rest_catg` LIKE '%涮涮鍋%' 1 1\n",
      "`rest_catg` LIKE '%拉麵%'OR `rest_catg` LIKE '%日式炒麵%' 3 3\n",
      "`rest_catg` LIKE '%牛%'OR `rest_catg` LIKE '%河豚%'OR `rest_catg` LIKE '%懷石%' 2 2\n",
      "`rest_catg` LIKE '%咖哩%'OR `rest_catg` LIKE '%丼飯%' 1 1\n",
      "`rest_catg` LIKE '%蕎麥麵%'OR `rest_catg` LIKE '%烏龍麵%' 1 1\n",
      "`rest_catg` LIKE '%鰻%'OR `rest_catg` LIKE '%燒肉%' 1 1\n",
      "`rest_catg` LIKE '%其他%' 0 0\n"
     ]
    },
    {
     "name": "stderr",
     "output_type": "stream",
     "text": [
      "127.0.0.1 - - [22/Nov/2019 03:50:52] \"POST / HTTP/1.1\" 200 -\n"
     ]
    },
    {
     "name": "stdout",
     "output_type": "stream",
     "text": [
      "userdata: {'age': 31, 'been2tko': 0, 'days': 7, 'totalBudget': 10000, 'gender': 0, 'oneBudget': 300}\n",
      "cls: 2\n",
      "14\n",
      "`rest_catg` LIKE '%壽司%'OR `rest_catg` LIKE '%生魚片%' 3 3\n",
      "`rest_catg` LIKE '%天婦羅%'OR `rest_catg` LIKE '%炸%' 2 2\n",
      "`rest_catg` LIKE '%壽喜燒%'OR `rest_catg` LIKE '%涮涮鍋%' 1 1\n",
      "`rest_catg` LIKE '%拉麵%'OR `rest_catg` LIKE '%日式炒麵%' 3 3\n",
      "`rest_catg` LIKE '%牛%'OR `rest_catg` LIKE '%河豚%'OR `rest_catg` LIKE '%懷石%' 2 2\n",
      "`rest_catg` LIKE '%咖哩%'OR `rest_catg` LIKE '%丼飯%' 1 1\n",
      "`rest_catg` LIKE '%蕎麥麵%'OR `rest_catg` LIKE '%烏龍麵%' 1 1\n",
      "`rest_catg` LIKE '%鰻%'OR `rest_catg` LIKE '%燒肉%' 1 1\n",
      "`rest_catg` LIKE '%其他%' 0 0\n"
     ]
    },
    {
     "name": "stderr",
     "output_type": "stream",
     "text": [
      "127.0.0.1 - - [22/Nov/2019 03:50:58] \"POST / HTTP/1.1\" 200 -\n"
     ]
    },
    {
     "name": "stdout",
     "output_type": "stream",
     "text": [
      "userdata: {'age': 31, 'been2tko': 0, 'days': 7, 'totalBudget': 10000, 'gender': 0, 'oneBudget': 300}\n",
      "cls: 2\n",
      "14\n",
      "`rest_catg` LIKE '%壽司%'OR `rest_catg` LIKE '%生魚片%' 3 3\n",
      "`rest_catg` LIKE '%天婦羅%'OR `rest_catg` LIKE '%炸%' 2 2\n",
      "`rest_catg` LIKE '%壽喜燒%'OR `rest_catg` LIKE '%涮涮鍋%' 1 1\n",
      "`rest_catg` LIKE '%拉麵%'OR `rest_catg` LIKE '%日式炒麵%' 3 3\n",
      "`rest_catg` LIKE '%牛%'OR `rest_catg` LIKE '%河豚%'OR `rest_catg` LIKE '%懷石%' 2 2\n",
      "`rest_catg` LIKE '%咖哩%'OR `rest_catg` LIKE '%丼飯%' 1 1\n",
      "`rest_catg` LIKE '%蕎麥麵%'OR `rest_catg` LIKE '%烏龍麵%' 1 1\n",
      "`rest_catg` LIKE '%鰻%'OR `rest_catg` LIKE '%燒肉%' 1 1\n",
      "`rest_catg` LIKE '%其他%' 0 0\n"
     ]
    },
    {
     "name": "stderr",
     "output_type": "stream",
     "text": [
      "127.0.0.1 - - [22/Nov/2019 03:51:04] \"POST / HTTP/1.1\" 200 -\n"
     ]
    },
    {
     "name": "stdout",
     "output_type": "stream",
     "text": [
      "userdata: {'age': 31, 'been2tko': 0, 'days': 7, 'totalBudget': 10000, 'gender': 0, 'oneBudget': 300}\n",
      "cls: 2\n",
      "14\n",
      "`rest_catg` LIKE '%壽司%'OR `rest_catg` LIKE '%生魚片%' 3 3\n",
      "`rest_catg` LIKE '%天婦羅%'OR `rest_catg` LIKE '%炸%' 2 2\n",
      "`rest_catg` LIKE '%壽喜燒%'OR `rest_catg` LIKE '%涮涮鍋%' 1 1\n",
      "`rest_catg` LIKE '%拉麵%'OR `rest_catg` LIKE '%日式炒麵%' 3 3\n",
      "`rest_catg` LIKE '%牛%'OR `rest_catg` LIKE '%河豚%'OR `rest_catg` LIKE '%懷石%' 2 2\n",
      "`rest_catg` LIKE '%咖哩%'OR `rest_catg` LIKE '%丼飯%' 1 1\n",
      "`rest_catg` LIKE '%蕎麥麵%'OR `rest_catg` LIKE '%烏龍麵%' 1 1\n",
      "`rest_catg` LIKE '%鰻%'OR `rest_catg` LIKE '%燒肉%' 1 1\n",
      "`rest_catg` LIKE '%其他%' 0 0\n"
     ]
    },
    {
     "name": "stderr",
     "output_type": "stream",
     "text": [
      "127.0.0.1 - - [22/Nov/2019 03:51:09] \"POST / HTTP/1.1\" 200 -\n"
     ]
    },
    {
     "name": "stdout",
     "output_type": "stream",
     "text": [
      "userdata: {'age': 31, 'been2tko': 0, 'days': 7, 'totalBudget': 10000, 'gender': 0, 'oneBudget': 300}\n",
      "cls: 2\n",
      "14\n",
      "`rest_catg` LIKE '%壽司%'OR `rest_catg` LIKE '%生魚片%' 3 3\n",
      "`rest_catg` LIKE '%天婦羅%'OR `rest_catg` LIKE '%炸%' 2 2\n",
      "`rest_catg` LIKE '%壽喜燒%'OR `rest_catg` LIKE '%涮涮鍋%' 1 1\n",
      "`rest_catg` LIKE '%拉麵%'OR `rest_catg` LIKE '%日式炒麵%' 3 3\n",
      "`rest_catg` LIKE '%牛%'OR `rest_catg` LIKE '%河豚%'OR `rest_catg` LIKE '%懷石%' 2 2\n",
      "`rest_catg` LIKE '%咖哩%'OR `rest_catg` LIKE '%丼飯%' 1 1\n",
      "`rest_catg` LIKE '%蕎麥麵%'OR `rest_catg` LIKE '%烏龍麵%' 1 1\n",
      "`rest_catg` LIKE '%鰻%'OR `rest_catg` LIKE '%燒肉%' 1 1\n",
      "`rest_catg` LIKE '%其他%' 0 0\n"
     ]
    },
    {
     "name": "stderr",
     "output_type": "stream",
     "text": [
      "127.0.0.1 - - [22/Nov/2019 04:02:50] \"POST / HTTP/1.1\" 200 -\n"
     ]
    },
    {
     "name": "stdout",
     "output_type": "stream",
     "text": [
      "userdata: {'age': 29, 'been2tko': 1, 'days': 2, 'totalBudget': 50000, 'gender': 0, 'oneBudget': 500}\n",
      "cls: 2\n",
      "4\n",
      "`rest_catg` LIKE '%壽司%'OR `rest_catg` LIKE '%生魚片%' 1 1\n",
      "`rest_catg` LIKE '%天婦羅%'OR `rest_catg` LIKE '%炸%' 1 1\n",
      "`rest_catg` LIKE '%壽喜燒%'OR `rest_catg` LIKE '%涮涮鍋%' 0 0\n",
      "`rest_catg` LIKE '%拉麵%'OR `rest_catg` LIKE '%日式炒麵%' 1 1\n",
      "`rest_catg` LIKE '%牛%'OR `rest_catg` LIKE '%河豚%'OR `rest_catg` LIKE '%懷石%' 1 1\n",
      "`rest_catg` LIKE '%咖哩%'OR `rest_catg` LIKE '%丼飯%' 0 0\n",
      "`rest_catg` LIKE '%蕎麥麵%'OR `rest_catg` LIKE '%烏龍麵%' 0 0\n",
      "`rest_catg` LIKE '%鰻%'OR `rest_catg` LIKE '%燒肉%' 0 0\n",
      "`rest_catg` LIKE '%其他%' 0 0\n"
     ]
    },
    {
     "name": "stderr",
     "output_type": "stream",
     "text": [
      "127.0.0.1 - - [22/Nov/2019 04:06:59] \"POST / HTTP/1.1\" 200 -\n"
     ]
    },
    {
     "name": "stdout",
     "output_type": "stream",
     "text": [
      "userdata: {'age': 0, 'been2tko': 0, 'days': 4, 'totalBudget': 10000, 'gender': 0, 'oneBudget': 250}\n",
      "cls: 2\n",
      "8\n",
      "`rest_catg` LIKE '%壽司%'OR `rest_catg` LIKE '%生魚片%' 2 2\n",
      "`rest_catg` LIKE '%天婦羅%'OR `rest_catg` LIKE '%炸%' 1 1\n",
      "`rest_catg` LIKE '%壽喜燒%'OR `rest_catg` LIKE '%涮涮鍋%' 0 0\n",
      "`rest_catg` LIKE '%拉麵%'OR `rest_catg` LIKE '%日式炒麵%' 2 2\n",
      "`rest_catg` LIKE '%牛%'OR `rest_catg` LIKE '%河豚%'OR `rest_catg` LIKE '%懷石%' 1 1\n",
      "`rest_catg` LIKE '%咖哩%'OR `rest_catg` LIKE '%丼飯%' 1 1\n",
      "`rest_catg` LIKE '%蕎麥麵%'OR `rest_catg` LIKE '%烏龍麵%' 0 0\n",
      "`rest_catg` LIKE '%鰻%'OR `rest_catg` LIKE '%燒肉%' 1 1\n",
      "`rest_catg` LIKE '%其他%' 0 0\n"
     ]
    },
    {
     "name": "stderr",
     "output_type": "stream",
     "text": [
      "127.0.0.1 - - [22/Nov/2019 04:47:48] \"POST / HTTP/1.1\" 200 -\n"
     ]
    },
    {
     "name": "stdout",
     "output_type": "stream",
     "text": [
      "userdata: {'age': 7, 'been2tko': 1, 'days': 7, 'totalBudget': 40000, 'gender': 0, 'oneBudget': 200}\n",
      "cls: 2\n",
      "14\n",
      "`rest_catg` LIKE '%壽司%'OR `rest_catg` LIKE '%生魚片%' 3 3\n",
      "`rest_catg` LIKE '%天婦羅%'OR `rest_catg` LIKE '%炸%' 2 2\n",
      "`rest_catg` LIKE '%壽喜燒%'OR `rest_catg` LIKE '%涮涮鍋%' 1 1\n",
      "`rest_catg` LIKE '%拉麵%'OR `rest_catg` LIKE '%日式炒麵%' 3 3\n",
      "`rest_catg` LIKE '%牛%'OR `rest_catg` LIKE '%河豚%'OR `rest_catg` LIKE '%懷石%' 2 2\n",
      "`rest_catg` LIKE '%咖哩%'OR `rest_catg` LIKE '%丼飯%' 1 1\n",
      "`rest_catg` LIKE '%蕎麥麵%'OR `rest_catg` LIKE '%烏龍麵%' 1 1\n",
      "`rest_catg` LIKE '%鰻%'OR `rest_catg` LIKE '%燒肉%' 1 1\n",
      "`rest_catg` LIKE '%其他%' 0 0\n"
     ]
    },
    {
     "name": "stderr",
     "output_type": "stream",
     "text": [
      "127.0.0.1 - - [22/Nov/2019 04:48:53] \"POST / HTTP/1.1\" 200 -\n"
     ]
    },
    {
     "name": "stdout",
     "output_type": "stream",
     "text": [
      "userdata: {'age': 7, 'been2tko': 1, 'days': 7, 'totalBudget': 40000, 'gender': 0, 'oneBudget': 200}\n",
      "cls: 2\n",
      "14\n",
      "`rest_catg` LIKE '%壽司%'OR `rest_catg` LIKE '%生魚片%' 3 3\n",
      "`rest_catg` LIKE '%天婦羅%'OR `rest_catg` LIKE '%炸%' 2 2\n",
      "`rest_catg` LIKE '%壽喜燒%'OR `rest_catg` LIKE '%涮涮鍋%' 1 1\n",
      "`rest_catg` LIKE '%拉麵%'OR `rest_catg` LIKE '%日式炒麵%' 3 3\n",
      "`rest_catg` LIKE '%牛%'OR `rest_catg` LIKE '%河豚%'OR `rest_catg` LIKE '%懷石%' 2 2\n",
      "`rest_catg` LIKE '%咖哩%'OR `rest_catg` LIKE '%丼飯%' 1 1\n",
      "`rest_catg` LIKE '%蕎麥麵%'OR `rest_catg` LIKE '%烏龍麵%' 1 1\n",
      "`rest_catg` LIKE '%鰻%'OR `rest_catg` LIKE '%燒肉%' 1 1\n",
      "`rest_catg` LIKE '%其他%' 0 0\n"
     ]
    },
    {
     "name": "stderr",
     "output_type": "stream",
     "text": [
      "127.0.0.1 - - [22/Nov/2019 04:49:00] \"POST / HTTP/1.1\" 200 -\n"
     ]
    },
    {
     "name": "stdout",
     "output_type": "stream",
     "text": [
      "userdata: {'age': 7, 'been2tko': 1, 'days': 7, 'totalBudget': 40000, 'gender': 0, 'oneBudget': 200}\n",
      "cls: 2\n",
      "14\n",
      "`rest_catg` LIKE '%壽司%'OR `rest_catg` LIKE '%生魚片%' 3 3\n",
      "`rest_catg` LIKE '%天婦羅%'OR `rest_catg` LIKE '%炸%' 2 2\n",
      "`rest_catg` LIKE '%壽喜燒%'OR `rest_catg` LIKE '%涮涮鍋%' 1 1\n",
      "`rest_catg` LIKE '%拉麵%'OR `rest_catg` LIKE '%日式炒麵%' 3 3\n",
      "`rest_catg` LIKE '%牛%'OR `rest_catg` LIKE '%河豚%'OR `rest_catg` LIKE '%懷石%' 2 2\n",
      "`rest_catg` LIKE '%咖哩%'OR `rest_catg` LIKE '%丼飯%' 1 1\n",
      "`rest_catg` LIKE '%蕎麥麵%'OR `rest_catg` LIKE '%烏龍麵%' 1 1\n",
      "`rest_catg` LIKE '%鰻%'OR `rest_catg` LIKE '%燒肉%' 1 1\n",
      "`rest_catg` LIKE '%其他%' 0 0\n"
     ]
    },
    {
     "name": "stderr",
     "output_type": "stream",
     "text": [
      "127.0.0.1 - - [22/Nov/2019 04:49:07] \"POST / HTTP/1.1\" 200 -\n"
     ]
    },
    {
     "name": "stdout",
     "output_type": "stream",
     "text": [
      "userdata: {'age': 7, 'been2tko': 1, 'days': 7, 'totalBudget': 40000, 'gender': 0, 'oneBudget': 200}\n",
      "cls: 2\n",
      "14\n",
      "`rest_catg` LIKE '%壽司%'OR `rest_catg` LIKE '%生魚片%' 3 3\n",
      "`rest_catg` LIKE '%天婦羅%'OR `rest_catg` LIKE '%炸%' 2 2\n",
      "`rest_catg` LIKE '%壽喜燒%'OR `rest_catg` LIKE '%涮涮鍋%' 1 1\n",
      "`rest_catg` LIKE '%拉麵%'OR `rest_catg` LIKE '%日式炒麵%' 3 3\n",
      "`rest_catg` LIKE '%牛%'OR `rest_catg` LIKE '%河豚%'OR `rest_catg` LIKE '%懷石%' 2 2\n",
      "`rest_catg` LIKE '%咖哩%'OR `rest_catg` LIKE '%丼飯%' 1 1\n",
      "`rest_catg` LIKE '%蕎麥麵%'OR `rest_catg` LIKE '%烏龍麵%' 1 1\n",
      "`rest_catg` LIKE '%鰻%'OR `rest_catg` LIKE '%燒肉%' 1 1\n",
      "`rest_catg` LIKE '%其他%' 0 0\n"
     ]
    },
    {
     "name": "stderr",
     "output_type": "stream",
     "text": [
      "127.0.0.1 - - [22/Nov/2019 04:49:14] \"POST / HTTP/1.1\" 200 -\n"
     ]
    },
    {
     "name": "stdout",
     "output_type": "stream",
     "text": [
      "userdata: {'age': 7, 'been2tko': 1, 'days': 7, 'totalBudget': 40000, 'gender': 0, 'oneBudget': 200}\n",
      "cls: 2\n",
      "14\n",
      "`rest_catg` LIKE '%壽司%'OR `rest_catg` LIKE '%生魚片%' 3 3\n",
      "`rest_catg` LIKE '%天婦羅%'OR `rest_catg` LIKE '%炸%' 2 2\n",
      "`rest_catg` LIKE '%壽喜燒%'OR `rest_catg` LIKE '%涮涮鍋%' 1 1\n",
      "`rest_catg` LIKE '%拉麵%'OR `rest_catg` LIKE '%日式炒麵%' 3 3\n",
      "`rest_catg` LIKE '%牛%'OR `rest_catg` LIKE '%河豚%'OR `rest_catg` LIKE '%懷石%' 2 2\n",
      "`rest_catg` LIKE '%咖哩%'OR `rest_catg` LIKE '%丼飯%' 1 1\n",
      "`rest_catg` LIKE '%蕎麥麵%'OR `rest_catg` LIKE '%烏龍麵%' 1 1\n",
      "`rest_catg` LIKE '%鰻%'OR `rest_catg` LIKE '%燒肉%' 1 1\n",
      "`rest_catg` LIKE '%其他%' 0 0\n"
     ]
    },
    {
     "name": "stderr",
     "output_type": "stream",
     "text": [
      "127.0.0.1 - - [22/Nov/2019 04:49:22] \"POST / HTTP/1.1\" 200 -\n"
     ]
    },
    {
     "name": "stdout",
     "output_type": "stream",
     "text": [
      "userdata: {'age': 7, 'been2tko': 1, 'days': 7, 'totalBudget': 40000, 'gender': 0, 'oneBudget': 200}\n",
      "cls: 2\n",
      "14\n",
      "`rest_catg` LIKE '%壽司%'OR `rest_catg` LIKE '%生魚片%' 3 3\n",
      "`rest_catg` LIKE '%天婦羅%'OR `rest_catg` LIKE '%炸%' 2 2\n",
      "`rest_catg` LIKE '%壽喜燒%'OR `rest_catg` LIKE '%涮涮鍋%' 1 1\n",
      "`rest_catg` LIKE '%拉麵%'OR `rest_catg` LIKE '%日式炒麵%' 3 3\n",
      "`rest_catg` LIKE '%牛%'OR `rest_catg` LIKE '%河豚%'OR `rest_catg` LIKE '%懷石%' 2 2\n",
      "`rest_catg` LIKE '%咖哩%'OR `rest_catg` LIKE '%丼飯%' 1 1\n",
      "`rest_catg` LIKE '%蕎麥麵%'OR `rest_catg` LIKE '%烏龍麵%' 1 1\n",
      "`rest_catg` LIKE '%鰻%'OR `rest_catg` LIKE '%燒肉%' 1 1\n",
      "`rest_catg` LIKE '%其他%' 0 0\n"
     ]
    },
    {
     "name": "stderr",
     "output_type": "stream",
     "text": [
      "127.0.0.1 - - [22/Nov/2019 04:49:30] \"POST / HTTP/1.1\" 200 -\n"
     ]
    },
    {
     "name": "stdout",
     "output_type": "stream",
     "text": [
      "userdata: {'age': 7, 'been2tko': 1, 'days': 7, 'totalBudget': 40000, 'gender': 0, 'oneBudget': 200}\n",
      "cls: 2\n",
      "14\n",
      "`rest_catg` LIKE '%壽司%'OR `rest_catg` LIKE '%生魚片%' 3 3\n",
      "`rest_catg` LIKE '%天婦羅%'OR `rest_catg` LIKE '%炸%' 2 2\n",
      "`rest_catg` LIKE '%壽喜燒%'OR `rest_catg` LIKE '%涮涮鍋%' 1 1\n",
      "`rest_catg` LIKE '%拉麵%'OR `rest_catg` LIKE '%日式炒麵%' 3 3\n",
      "`rest_catg` LIKE '%牛%'OR `rest_catg` LIKE '%河豚%'OR `rest_catg` LIKE '%懷石%' 2 2\n",
      "`rest_catg` LIKE '%咖哩%'OR `rest_catg` LIKE '%丼飯%' 1 1\n",
      "`rest_catg` LIKE '%蕎麥麵%'OR `rest_catg` LIKE '%烏龍麵%' 1 1\n",
      "`rest_catg` LIKE '%鰻%'OR `rest_catg` LIKE '%燒肉%' 1 1\n",
      "`rest_catg` LIKE '%其他%' 0 0\n"
     ]
    },
    {
     "name": "stderr",
     "output_type": "stream",
     "text": [
      "127.0.0.1 - - [22/Nov/2019 04:49:36] \"POST / HTTP/1.1\" 200 -\n"
     ]
    },
    {
     "name": "stdout",
     "output_type": "stream",
     "text": [
      "userdata: {'age': 7, 'been2tko': 1, 'days': 7, 'totalBudget': 40000, 'gender': 0, 'oneBudget': 200}\n",
      "cls: 2\n",
      "14\n",
      "`rest_catg` LIKE '%壽司%'OR `rest_catg` LIKE '%生魚片%' 3 3\n",
      "`rest_catg` LIKE '%天婦羅%'OR `rest_catg` LIKE '%炸%' 2 2\n",
      "`rest_catg` LIKE '%壽喜燒%'OR `rest_catg` LIKE '%涮涮鍋%' 1 1\n",
      "`rest_catg` LIKE '%拉麵%'OR `rest_catg` LIKE '%日式炒麵%' 3 3\n",
      "`rest_catg` LIKE '%牛%'OR `rest_catg` LIKE '%河豚%'OR `rest_catg` LIKE '%懷石%' 2 2\n",
      "`rest_catg` LIKE '%咖哩%'OR `rest_catg` LIKE '%丼飯%' 1 1\n",
      "`rest_catg` LIKE '%蕎麥麵%'OR `rest_catg` LIKE '%烏龍麵%' 1 1\n",
      "`rest_catg` LIKE '%鰻%'OR `rest_catg` LIKE '%燒肉%' 1 1\n",
      "`rest_catg` LIKE '%其他%' 0 0\n"
     ]
    },
    {
     "name": "stderr",
     "output_type": "stream",
     "text": [
      "127.0.0.1 - - [22/Nov/2019 04:49:43] \"POST / HTTP/1.1\" 200 -\n"
     ]
    },
    {
     "name": "stdout",
     "output_type": "stream",
     "text": [
      "userdata: {'age': 7, 'been2tko': 1, 'days': 7, 'totalBudget': 40000, 'gender': 0, 'oneBudget': 200}\n",
      "cls: 2\n",
      "14\n",
      "`rest_catg` LIKE '%壽司%'OR `rest_catg` LIKE '%生魚片%' 3 3\n",
      "`rest_catg` LIKE '%天婦羅%'OR `rest_catg` LIKE '%炸%' 2 2\n",
      "`rest_catg` LIKE '%壽喜燒%'OR `rest_catg` LIKE '%涮涮鍋%' 1 1\n",
      "`rest_catg` LIKE '%拉麵%'OR `rest_catg` LIKE '%日式炒麵%' 3 3\n",
      "`rest_catg` LIKE '%牛%'OR `rest_catg` LIKE '%河豚%'OR `rest_catg` LIKE '%懷石%' 2 2\n",
      "`rest_catg` LIKE '%咖哩%'OR `rest_catg` LIKE '%丼飯%' 1 1\n",
      "`rest_catg` LIKE '%蕎麥麵%'OR `rest_catg` LIKE '%烏龍麵%' 1 1\n",
      "`rest_catg` LIKE '%鰻%'OR `rest_catg` LIKE '%燒肉%' 1 1\n",
      "`rest_catg` LIKE '%其他%' 0 0\n"
     ]
    },
    {
     "name": "stderr",
     "output_type": "stream",
     "text": [
      "127.0.0.1 - - [22/Nov/2019 04:49:50] \"POST / HTTP/1.1\" 200 -\n"
     ]
    },
    {
     "name": "stdout",
     "output_type": "stream",
     "text": [
      "userdata: {'age': 7, 'been2tko': 1, 'days': 7, 'totalBudget': 40000, 'gender': 0, 'oneBudget': 200}\n",
      "cls: 2\n",
      "14\n",
      "`rest_catg` LIKE '%壽司%'OR `rest_catg` LIKE '%生魚片%' 3 3\n",
      "`rest_catg` LIKE '%天婦羅%'OR `rest_catg` LIKE '%炸%' 2 2\n",
      "`rest_catg` LIKE '%壽喜燒%'OR `rest_catg` LIKE '%涮涮鍋%' 1 1\n",
      "`rest_catg` LIKE '%拉麵%'OR `rest_catg` LIKE '%日式炒麵%' 3 3\n",
      "`rest_catg` LIKE '%牛%'OR `rest_catg` LIKE '%河豚%'OR `rest_catg` LIKE '%懷石%' 2 2\n",
      "`rest_catg` LIKE '%咖哩%'OR `rest_catg` LIKE '%丼飯%' 1 1\n",
      "`rest_catg` LIKE '%蕎麥麵%'OR `rest_catg` LIKE '%烏龍麵%' 1 1\n",
      "`rest_catg` LIKE '%鰻%'OR `rest_catg` LIKE '%燒肉%' 1 1\n",
      "`rest_catg` LIKE '%其他%' 0 0\n"
     ]
    },
    {
     "name": "stderr",
     "output_type": "stream",
     "text": [
      "127.0.0.1 - - [22/Nov/2019 04:49:57] \"POST / HTTP/1.1\" 200 -\n"
     ]
    },
    {
     "name": "stdout",
     "output_type": "stream",
     "text": [
      "userdata: {'age': 7, 'been2tko': 1, 'days': 7, 'totalBudget': 40000, 'gender': 0, 'oneBudget': 200}\n",
      "cls: 2\n",
      "14\n",
      "`rest_catg` LIKE '%壽司%'OR `rest_catg` LIKE '%生魚片%' 3 3\n",
      "`rest_catg` LIKE '%天婦羅%'OR `rest_catg` LIKE '%炸%' 2 2\n",
      "`rest_catg` LIKE '%壽喜燒%'OR `rest_catg` LIKE '%涮涮鍋%' 1 1\n",
      "`rest_catg` LIKE '%拉麵%'OR `rest_catg` LIKE '%日式炒麵%' 3 3\n",
      "`rest_catg` LIKE '%牛%'OR `rest_catg` LIKE '%河豚%'OR `rest_catg` LIKE '%懷石%' 2 2\n",
      "`rest_catg` LIKE '%咖哩%'OR `rest_catg` LIKE '%丼飯%' 1 1\n",
      "`rest_catg` LIKE '%蕎麥麵%'OR `rest_catg` LIKE '%烏龍麵%' 1 1\n",
      "`rest_catg` LIKE '%鰻%'OR `rest_catg` LIKE '%燒肉%' 1 1\n",
      "`rest_catg` LIKE '%其他%' 0 0\n"
     ]
    },
    {
     "name": "stderr",
     "output_type": "stream",
     "text": [
      "127.0.0.1 - - [22/Nov/2019 04:50:05] \"POST / HTTP/1.1\" 200 -\n"
     ]
    },
    {
     "name": "stdout",
     "output_type": "stream",
     "text": [
      "userdata: {'age': 7, 'been2tko': 1, 'days': 7, 'totalBudget': 40000, 'gender': 0, 'oneBudget': 200}\n",
      "cls: 2\n",
      "14\n",
      "`rest_catg` LIKE '%壽司%'OR `rest_catg` LIKE '%生魚片%' 3 3\n",
      "`rest_catg` LIKE '%天婦羅%'OR `rest_catg` LIKE '%炸%' 2 2\n",
      "`rest_catg` LIKE '%壽喜燒%'OR `rest_catg` LIKE '%涮涮鍋%' 1 1\n",
      "`rest_catg` LIKE '%拉麵%'OR `rest_catg` LIKE '%日式炒麵%' 3 3\n",
      "`rest_catg` LIKE '%牛%'OR `rest_catg` LIKE '%河豚%'OR `rest_catg` LIKE '%懷石%' 2 2\n",
      "`rest_catg` LIKE '%咖哩%'OR `rest_catg` LIKE '%丼飯%' 1 1\n",
      "`rest_catg` LIKE '%蕎麥麵%'OR `rest_catg` LIKE '%烏龍麵%' 1 1\n",
      "`rest_catg` LIKE '%鰻%'OR `rest_catg` LIKE '%燒肉%' 1 1\n",
      "`rest_catg` LIKE '%其他%' 0 0\n"
     ]
    },
    {
     "name": "stderr",
     "output_type": "stream",
     "text": [
      "127.0.0.1 - - [22/Nov/2019 04:50:12] \"POST / HTTP/1.1\" 200 -\n"
     ]
    },
    {
     "name": "stdout",
     "output_type": "stream",
     "text": [
      "userdata: {'age': 7, 'been2tko': 1, 'days': 7, 'totalBudget': 40000, 'gender': 0, 'oneBudget': 200}\n",
      "cls: 2\n",
      "14\n",
      "`rest_catg` LIKE '%壽司%'OR `rest_catg` LIKE '%生魚片%' 3 3\n",
      "`rest_catg` LIKE '%天婦羅%'OR `rest_catg` LIKE '%炸%' 2 2\n",
      "`rest_catg` LIKE '%壽喜燒%'OR `rest_catg` LIKE '%涮涮鍋%' 1 1\n",
      "`rest_catg` LIKE '%拉麵%'OR `rest_catg` LIKE '%日式炒麵%' 3 3\n",
      "`rest_catg` LIKE '%牛%'OR `rest_catg` LIKE '%河豚%'OR `rest_catg` LIKE '%懷石%' 2 2\n",
      "`rest_catg` LIKE '%咖哩%'OR `rest_catg` LIKE '%丼飯%' 1 1\n",
      "`rest_catg` LIKE '%蕎麥麵%'OR `rest_catg` LIKE '%烏龍麵%' 1 1\n",
      "`rest_catg` LIKE '%鰻%'OR `rest_catg` LIKE '%燒肉%' 1 1\n",
      "`rest_catg` LIKE '%其他%' 0 0\n"
     ]
    },
    {
     "name": "stderr",
     "output_type": "stream",
     "text": [
      "127.0.0.1 - - [22/Nov/2019 04:50:21] \"POST / HTTP/1.1\" 200 -\n"
     ]
    },
    {
     "name": "stdout",
     "output_type": "stream",
     "text": [
      "userdata: {'age': 7, 'been2tko': 1, 'days': 7, 'totalBudget': 40000, 'gender': 0, 'oneBudget': 200}\n",
      "cls: 2\n",
      "14\n",
      "`rest_catg` LIKE '%壽司%'OR `rest_catg` LIKE '%生魚片%' 3 3\n",
      "`rest_catg` LIKE '%天婦羅%'OR `rest_catg` LIKE '%炸%' 2 2\n",
      "`rest_catg` LIKE '%壽喜燒%'OR `rest_catg` LIKE '%涮涮鍋%' 1 1\n",
      "`rest_catg` LIKE '%拉麵%'OR `rest_catg` LIKE '%日式炒麵%' 3 3\n",
      "`rest_catg` LIKE '%牛%'OR `rest_catg` LIKE '%河豚%'OR `rest_catg` LIKE '%懷石%' 2 2\n",
      "`rest_catg` LIKE '%咖哩%'OR `rest_catg` LIKE '%丼飯%' 1 1\n",
      "`rest_catg` LIKE '%蕎麥麵%'OR `rest_catg` LIKE '%烏龍麵%' 1 1\n",
      "`rest_catg` LIKE '%鰻%'OR `rest_catg` LIKE '%燒肉%' 1 1\n",
      "`rest_catg` LIKE '%其他%' 0 0\n"
     ]
    },
    {
     "name": "stderr",
     "output_type": "stream",
     "text": [
      "127.0.0.1 - - [22/Nov/2019 04:50:27] \"POST / HTTP/1.1\" 200 -\n"
     ]
    },
    {
     "name": "stdout",
     "output_type": "stream",
     "text": [
      "userdata: {'age': 7, 'been2tko': 1, 'days': 7, 'totalBudget': 40000, 'gender': 0, 'oneBudget': 200}\n",
      "cls: 2\n",
      "14\n",
      "`rest_catg` LIKE '%壽司%'OR `rest_catg` LIKE '%生魚片%' 3 3\n",
      "`rest_catg` LIKE '%天婦羅%'OR `rest_catg` LIKE '%炸%' 2 2\n",
      "`rest_catg` LIKE '%壽喜燒%'OR `rest_catg` LIKE '%涮涮鍋%' 1 1\n",
      "`rest_catg` LIKE '%拉麵%'OR `rest_catg` LIKE '%日式炒麵%' 3 3\n",
      "`rest_catg` LIKE '%牛%'OR `rest_catg` LIKE '%河豚%'OR `rest_catg` LIKE '%懷石%' 2 2\n",
      "`rest_catg` LIKE '%咖哩%'OR `rest_catg` LIKE '%丼飯%' 1 1\n",
      "`rest_catg` LIKE '%蕎麥麵%'OR `rest_catg` LIKE '%烏龍麵%' 1 1\n",
      "`rest_catg` LIKE '%鰻%'OR `rest_catg` LIKE '%燒肉%' 1 1\n",
      "`rest_catg` LIKE '%其他%' 0 0\n"
     ]
    },
    {
     "name": "stderr",
     "output_type": "stream",
     "text": [
      "127.0.0.1 - - [22/Nov/2019 04:50:35] \"POST / HTTP/1.1\" 200 -\n"
     ]
    },
    {
     "name": "stdout",
     "output_type": "stream",
     "text": [
      "userdata: {'age': 7, 'been2tko': 1, 'days': 7, 'totalBudget': 40000, 'gender': 0, 'oneBudget': 200}\n",
      "cls: 2\n",
      "14\n",
      "`rest_catg` LIKE '%壽司%'OR `rest_catg` LIKE '%生魚片%' 3 3\n",
      "`rest_catg` LIKE '%天婦羅%'OR `rest_catg` LIKE '%炸%' 2 2\n",
      "`rest_catg` LIKE '%壽喜燒%'OR `rest_catg` LIKE '%涮涮鍋%' 1 1\n",
      "`rest_catg` LIKE '%拉麵%'OR `rest_catg` LIKE '%日式炒麵%' 3 3\n",
      "`rest_catg` LIKE '%牛%'OR `rest_catg` LIKE '%河豚%'OR `rest_catg` LIKE '%懷石%' 2 2\n",
      "`rest_catg` LIKE '%咖哩%'OR `rest_catg` LIKE '%丼飯%' 1 1\n",
      "`rest_catg` LIKE '%蕎麥麵%'OR `rest_catg` LIKE '%烏龍麵%' 1 1\n",
      "`rest_catg` LIKE '%鰻%'OR `rest_catg` LIKE '%燒肉%' 1 1\n",
      "`rest_catg` LIKE '%其他%' 0 0\n"
     ]
    },
    {
     "name": "stderr",
     "output_type": "stream",
     "text": [
      "127.0.0.1 - - [22/Nov/2019 04:50:42] \"POST / HTTP/1.1\" 200 -\n"
     ]
    },
    {
     "name": "stdout",
     "output_type": "stream",
     "text": [
      "userdata: {'age': 7, 'been2tko': 1, 'days': 7, 'totalBudget': 40000, 'gender': 0, 'oneBudget': 200}\n",
      "cls: 2\n",
      "14\n",
      "`rest_catg` LIKE '%壽司%'OR `rest_catg` LIKE '%生魚片%' 3 3\n",
      "`rest_catg` LIKE '%天婦羅%'OR `rest_catg` LIKE '%炸%' 2 2\n",
      "`rest_catg` LIKE '%壽喜燒%'OR `rest_catg` LIKE '%涮涮鍋%' 1 1\n",
      "`rest_catg` LIKE '%拉麵%'OR `rest_catg` LIKE '%日式炒麵%' 3 3\n",
      "`rest_catg` LIKE '%牛%'OR `rest_catg` LIKE '%河豚%'OR `rest_catg` LIKE '%懷石%' 2 2\n",
      "`rest_catg` LIKE '%咖哩%'OR `rest_catg` LIKE '%丼飯%' 1 1\n",
      "`rest_catg` LIKE '%蕎麥麵%'OR `rest_catg` LIKE '%烏龍麵%' 1 1\n",
      "`rest_catg` LIKE '%鰻%'OR `rest_catg` LIKE '%燒肉%' 1 1\n",
      "`rest_catg` LIKE '%其他%' 0 0\n"
     ]
    },
    {
     "name": "stderr",
     "output_type": "stream",
     "text": [
      "127.0.0.1 - - [22/Nov/2019 04:50:43] \"POST / HTTP/1.1\" 200 -\n"
     ]
    },
    {
     "name": "stdout",
     "output_type": "stream",
     "text": [
      "userdata: {'age': 7, 'been2tko': 1, 'days': 7, 'totalBudget': 40000, 'gender': 0, 'oneBudget': 200}\n",
      "cls: 2\n",
      "14\n",
      "`rest_catg` LIKE '%壽司%'OR `rest_catg` LIKE '%生魚片%' 3 3\n",
      "`rest_catg` LIKE '%天婦羅%'OR `rest_catg` LIKE '%炸%' 2 2\n",
      "`rest_catg` LIKE '%壽喜燒%'OR `rest_catg` LIKE '%涮涮鍋%' 1 1\n",
      "`rest_catg` LIKE '%拉麵%'OR `rest_catg` LIKE '%日式炒麵%' 3 3\n",
      "`rest_catg` LIKE '%牛%'OR `rest_catg` LIKE '%河豚%'OR `rest_catg` LIKE '%懷石%' 2 2\n",
      "`rest_catg` LIKE '%咖哩%'OR `rest_catg` LIKE '%丼飯%' 1 1\n",
      "`rest_catg` LIKE '%蕎麥麵%'OR `rest_catg` LIKE '%烏龍麵%' 1 1\n",
      "`rest_catg` LIKE '%鰻%'OR `rest_catg` LIKE '%燒肉%' 1 1\n",
      "`rest_catg` LIKE '%其他%' 0 0\n"
     ]
    },
    {
     "name": "stderr",
     "output_type": "stream",
     "text": [
      "127.0.0.1 - - [22/Nov/2019 05:41:47] \"POST / HTTP/1.1\" 200 -\n"
     ]
    },
    {
     "name": "stdout",
     "output_type": "stream",
     "text": [
      "userdata: {'age': 0, 'been2tko': 1, 'days': 7, 'totalBudget': 30000, 'gender': 0, 'oneBudget': 1000}\n",
      "cls: 2\n",
      "14\n",
      "`rest_catg` LIKE '%壽司%'OR `rest_catg` LIKE '%生魚片%' 3 3\n",
      "`rest_catg` LIKE '%天婦羅%'OR `rest_catg` LIKE '%炸%' 2 2\n",
      "`rest_catg` LIKE '%壽喜燒%'OR `rest_catg` LIKE '%涮涮鍋%' 1 1\n",
      "`rest_catg` LIKE '%拉麵%'OR `rest_catg` LIKE '%日式炒麵%' 3 3\n",
      "`rest_catg` LIKE '%牛%'OR `rest_catg` LIKE '%河豚%'OR `rest_catg` LIKE '%懷石%' 2 2\n",
      "`rest_catg` LIKE '%咖哩%'OR `rest_catg` LIKE '%丼飯%' 1 1\n",
      "`rest_catg` LIKE '%蕎麥麵%'OR `rest_catg` LIKE '%烏龍麵%' 1 1\n",
      "`rest_catg` LIKE '%鰻%'OR `rest_catg` LIKE '%燒肉%' 1 1\n",
      "`rest_catg` LIKE '%其他%' 0 0\n"
     ]
    },
    {
     "name": "stderr",
     "output_type": "stream",
     "text": [
      "127.0.0.1 - - [22/Nov/2019 05:48:26] \"POST / HTTP/1.1\" 200 -\n"
     ]
    },
    {
     "name": "stdout",
     "output_type": "stream",
     "text": [
      "userdata: {'age': 23, 'been2tko': 0, 'days': 4, 'totalBudget': 30000, 'gender': 1, 'oneBudget': 500}\n",
      "cls: 1\n",
      "8\n",
      "`rest_catg` LIKE '%壽司%'OR `rest_catg` LIKE '%生魚片%' 1 1\n",
      "`rest_catg` LIKE '%天婦羅%'OR `rest_catg` LIKE '%炸%' 1 1\n",
      "`rest_catg` LIKE '%壽喜燒%'OR `rest_catg` LIKE '%涮涮鍋%' 1 1\n",
      "`rest_catg` LIKE '%拉麵%'OR `rest_catg` LIKE '%日式炒麵%' 2 2\n",
      "`rest_catg` LIKE '%牛%'OR `rest_catg` LIKE '%河豚%'OR `rest_catg` LIKE '%懷石%' 1 1\n",
      "`rest_catg` LIKE '%咖哩%'OR `rest_catg` LIKE '%丼飯%' 0 0\n",
      "`rest_catg` LIKE '%蕎麥麵%'OR `rest_catg` LIKE '%烏龍麵%' 1 1\n",
      "`rest_catg` LIKE '%鰻%'OR `rest_catg` LIKE '%燒肉%' 1 1\n",
      "`rest_catg` LIKE '%其他%' 0 0\n"
     ]
    },
    {
     "name": "stderr",
     "output_type": "stream",
     "text": [
      "127.0.0.1 - - [22/Nov/2019 05:48:39] \"POST / HTTP/1.1\" 200 -\n"
     ]
    },
    {
     "name": "stdout",
     "output_type": "stream",
     "text": [
      "userdata: {'age': 23, 'been2tko': 0, 'days': 4, 'totalBudget': 30000, 'gender': 1, 'oneBudget': 500}\n",
      "cls: 1\n",
      "8\n",
      "`rest_catg` LIKE '%壽司%'OR `rest_catg` LIKE '%生魚片%' 1 1\n",
      "`rest_catg` LIKE '%天婦羅%'OR `rest_catg` LIKE '%炸%' 1 1\n",
      "`rest_catg` LIKE '%壽喜燒%'OR `rest_catg` LIKE '%涮涮鍋%' 1 1\n",
      "`rest_catg` LIKE '%拉麵%'OR `rest_catg` LIKE '%日式炒麵%' 2 2\n",
      "`rest_catg` LIKE '%牛%'OR `rest_catg` LIKE '%河豚%'OR `rest_catg` LIKE '%懷石%' 1 1\n",
      "`rest_catg` LIKE '%咖哩%'OR `rest_catg` LIKE '%丼飯%' 0 0\n",
      "`rest_catg` LIKE '%蕎麥麵%'OR `rest_catg` LIKE '%烏龍麵%' 1 1\n",
      "`rest_catg` LIKE '%鰻%'OR `rest_catg` LIKE '%燒肉%' 1 1\n",
      "`rest_catg` LIKE '%其他%' 0 0\n"
     ]
    },
    {
     "name": "stderr",
     "output_type": "stream",
     "text": [
      "127.0.0.1 - - [22/Nov/2019 05:48:45] \"POST / HTTP/1.1\" 200 -\n"
     ]
    },
    {
     "name": "stdout",
     "output_type": "stream",
     "text": [
      "userdata: {'age': 23, 'been2tko': 0, 'days': 4, 'totalBudget': 30000, 'gender': 1, 'oneBudget': 500}\n",
      "cls: 1\n",
      "8\n",
      "`rest_catg` LIKE '%壽司%'OR `rest_catg` LIKE '%生魚片%' 1 1\n",
      "`rest_catg` LIKE '%天婦羅%'OR `rest_catg` LIKE '%炸%' 1 1\n",
      "`rest_catg` LIKE '%壽喜燒%'OR `rest_catg` LIKE '%涮涮鍋%' 1 1\n",
      "`rest_catg` LIKE '%拉麵%'OR `rest_catg` LIKE '%日式炒麵%' 2 2\n",
      "`rest_catg` LIKE '%牛%'OR `rest_catg` LIKE '%河豚%'OR `rest_catg` LIKE '%懷石%' 1 1\n",
      "`rest_catg` LIKE '%咖哩%'OR `rest_catg` LIKE '%丼飯%' 0 0\n",
      "`rest_catg` LIKE '%蕎麥麵%'OR `rest_catg` LIKE '%烏龍麵%' 1 1\n",
      "`rest_catg` LIKE '%鰻%'OR `rest_catg` LIKE '%燒肉%' 1 1\n",
      "`rest_catg` LIKE '%其他%' 0 0\n"
     ]
    },
    {
     "name": "stderr",
     "output_type": "stream",
     "text": [
      "127.0.0.1 - - [22/Nov/2019 05:48:50] \"POST / HTTP/1.1\" 200 -\n"
     ]
    },
    {
     "name": "stdout",
     "output_type": "stream",
     "text": [
      "userdata: {'age': 23, 'been2tko': 0, 'days': 4, 'totalBudget': 30000, 'gender': 1, 'oneBudget': 500}\n",
      "cls: 1\n",
      "8\n",
      "`rest_catg` LIKE '%壽司%'OR `rest_catg` LIKE '%生魚片%' 1 1\n",
      "`rest_catg` LIKE '%天婦羅%'OR `rest_catg` LIKE '%炸%' 1 1\n",
      "`rest_catg` LIKE '%壽喜燒%'OR `rest_catg` LIKE '%涮涮鍋%' 1 1\n",
      "`rest_catg` LIKE '%拉麵%'OR `rest_catg` LIKE '%日式炒麵%' 2 2\n",
      "`rest_catg` LIKE '%牛%'OR `rest_catg` LIKE '%河豚%'OR `rest_catg` LIKE '%懷石%' 1 1\n",
      "`rest_catg` LIKE '%咖哩%'OR `rest_catg` LIKE '%丼飯%' 0 0\n",
      "`rest_catg` LIKE '%蕎麥麵%'OR `rest_catg` LIKE '%烏龍麵%' 1 1\n",
      "`rest_catg` LIKE '%鰻%'OR `rest_catg` LIKE '%燒肉%' 1 1\n",
      "`rest_catg` LIKE '%其他%' 0 0\n"
     ]
    },
    {
     "name": "stderr",
     "output_type": "stream",
     "text": [
      "127.0.0.1 - - [22/Nov/2019 08:49:14] \"POST / HTTP/1.1\" 200 -\n"
     ]
    },
    {
     "name": "stdout",
     "output_type": "stream",
     "text": [
      "userdata: {'age': 30, 'been2tko': 6, 'days': 6, 'totalBudget': 40000, 'gender': 0, 'oneBudget': 1000}\n",
      "cls: 2\n",
      "12\n",
      "`rest_catg` LIKE '%壽司%'OR `rest_catg` LIKE '%生魚片%' 2 2\n",
      "`rest_catg` LIKE '%天婦羅%'OR `rest_catg` LIKE '%炸%' 1 1\n",
      "`rest_catg` LIKE '%壽喜燒%'OR `rest_catg` LIKE '%涮涮鍋%' 1 1\n",
      "`rest_catg` LIKE '%拉麵%'OR `rest_catg` LIKE '%日式炒麵%' 3 3\n",
      "`rest_catg` LIKE '%牛%'OR `rest_catg` LIKE '%河豚%'OR `rest_catg` LIKE '%懷石%' 2 2\n",
      "`rest_catg` LIKE '%咖哩%'OR `rest_catg` LIKE '%丼飯%' 1 1\n",
      "`rest_catg` LIKE '%蕎麥麵%'OR `rest_catg` LIKE '%烏龍麵%' 1 1\n",
      "`rest_catg` LIKE '%鰻%'OR `rest_catg` LIKE '%燒肉%' 1 1\n",
      "`rest_catg` LIKE '%其他%' 0 0\n"
     ]
    }
   ],
   "source": [
    "import pandas as pd\n",
    "import numpy as np\n",
    "from sqlalchemy import create_engine\n",
    "import pymysql.cursors\n",
    "import pymysql\n",
    "import codecs\n",
    "import os\n",
    "import joblib \n",
    "import numpy as np\n",
    "from flask import Flask\n",
    "import flask\n",
    "import random\n",
    "\n",
    "\n",
    "app = Flask(__name__)\n",
    "\n",
    "@app.route(\"/\",methods=[\"POST\"])\n",
    "def recommend():\n",
    "    \n",
    "    if flask.request.method == \"POST\":\n",
    "        userdata = flask.request.json\n",
    "        \n",
    "    print('userdata:', userdata) \n",
    "     \n",
    "    cls = clf.predict(np.array([userdata['age'], userdata['been2tko'],\n",
    "                                userdata['days'], userdata['totalBudget'], \n",
    "                                userdata['gender'], userdata['oneBudget']]).reshape((1,-1)))[0]\n",
    "    print('cls:', cls)    \n",
    "    \n",
    "    Result = []\n",
    "    \n",
    "    distribution_0 = [0.1746031746031746 ,  0.07936507936507936 , \n",
    "                       0.07936507936507936 ,  0.1746031746031746 , \n",
    "                       0.1746031746031746 ,  0.06349206349206349, \n",
    "                       0.1111111111111111,  0.14285714285714285 , \n",
    "                       0.0 ]\n",
    "    \n",
    "    distribution_1 = [0.19131148442456664,  0.1174003870576347 , \n",
    "                       0.1608654339084011,  0.19565745694974226, \n",
    "                       0.1746031746031746,  0.06087317979140515 , \n",
    "                       0.08694901494245873,  0.09130208293298156, \n",
    "                       0.013037917575526796 ]\n",
    "    \n",
    "    distribution_2 = [ 0.20488392783360218 ,  0.11707668350520666, \n",
    "                      0.06828247965477237 ,  0.21951864742200775 , \n",
    "                       0.15121416712546054 ,  0.08293168747068817 , \n",
    "                       0.0438939633458576,  0.11219844364240479 , \n",
    "                       0.0 ]   \n",
    "    \n",
    "    if cls == 0:\n",
    "        distribution = distribution_0\n",
    "    elif cls == 1:\n",
    "        distribution = distribution_1\n",
    "    else:\n",
    "        distribution = distribution_2\n",
    "    \n",
    "    distribution=[2*userdata['days']*i for i in distribution]\n",
    "    catg_num_list=[int(i) for i in distribution]\n",
    "    distribution=[distribution[i]-catg_num_list[i] for i in range(len(distribution))]\n",
    "    while sum(catg_num_list)<2*userdata['days']:\n",
    "        max_index=np.argmax(distribution)\n",
    "        catg_num_list[max_index]+=1\n",
    "        distribution[max_index]-=1\n",
    "    \n",
    "    print(sum(catg_num_list))\n",
    "    with conn.cursor() as cursor:\n",
    "        usedb = \"USE`test`\"\n",
    "        cursor.execute(usedb)\n",
    "         \n",
    "        for i, catg in enumerate(catg_list):\n",
    "            \n",
    "            # 處理食物類型複合值的部份         \n",
    "            for x, v_catg in enumerate(catg.split('或')):                \n",
    "                if x == 0:\n",
    "                    sql_where = \"`rest_catg` LIKE '%\"+v_catg+\"%'\"\n",
    "                else:\n",
    "                    sql_where += \"OR `rest_catg` LIKE '%\"+v_catg+\"%'\"                \n",
    "        \n",
    "            catg_num=catg_num_list[i]             \n",
    "            \n",
    "            sql = \"SELECT * FROM tabelog \" \\\n",
    "                  \"WHERE \"+sql_where+ \\\n",
    "                  \"AND (prices_lunch BETWEEN 0 AND \" + str(userdata['oneBudget']) + \" \" \\\n",
    "                  \"OR prices_dinner BETWEEN 0 AND \" + str(userdata['oneBudget']) + \") \" \\\n",
    "                  \"ORDER BY RAND() LIMIT \" + str(catg_num)\n",
    "            \n",
    "            cursor.execute(sql)\n",
    "            qResult=cursor.fetchall()\n",
    "            print(sql_where,catg_num,len(qResult))\n",
    "            Result += qResult\n",
    "    \n",
    "    return flask.jsonify(Result)\n",
    "\n",
    "\n",
    "#string, dict, tuple, Response instance\n",
    "if __name__ == \"__main__\":\n",
    "    conn = pymysql.connect(host = 'mysql',\n",
    "                       user = 'root',\n",
    "                       password = 'iii',\n",
    "                       charset = 'utf8mb4',\n",
    "                       cursorclass = pymysql.cursors.DictCursor)\n",
    "    clf = joblib.load('food_clf.joblib')\n",
    "    catg_list=['壽司或生魚片','天婦羅或炸','壽喜燒或涮涮鍋',\n",
    "               '拉麵或日式炒麵','牛或河豚或懷石','咖哩或丼飯',\n",
    "               '蕎麥麵或烏龍麵','鰻或燒肉','其他']\n",
    "    app.run(port = 5009)"
   ]
  },
  {
   "cell_type": "code",
   "execution_count": null,
   "metadata": {},
   "outputs": [],
   "source": []
  }
 ],
 "metadata": {
  "kernelspec": {
   "display_name": "Python 3",
   "language": "python",
   "name": "python3"
  },
  "language_info": {
   "codemirror_mode": {
    "name": "ipython",
    "version": 3
   },
   "file_extension": ".py",
   "mimetype": "text/x-python",
   "name": "python",
   "nbconvert_exporter": "python",
   "pygments_lexer": "ipython3",
   "version": "3.7.3"
  }
 },
 "nbformat": 4,
 "nbformat_minor": 2
}
