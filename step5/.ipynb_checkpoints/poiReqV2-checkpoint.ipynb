{
 "cells": [
  {
   "cell_type": "code",
   "execution_count": 1,
   "metadata": {},
   "outputs": [
    {
     "data": {
      "text/html": [
       "<div>\n",
       "<style scoped>\n",
       "    .dataframe tbody tr th:only-of-type {\n",
       "        vertical-align: middle;\n",
       "    }\n",
       "\n",
       "    .dataframe tbody tr th {\n",
       "        vertical-align: top;\n",
       "    }\n",
       "\n",
       "    .dataframe thead th {\n",
       "        text-align: right;\n",
       "    }\n",
       "</style>\n",
       "<table border=\"1\" class=\"dataframe\">\n",
       "  <thead>\n",
       "    <tr style=\"text-align: right;\">\n",
       "      <th></th>\n",
       "      <th>index</th>\n",
       "      <th>name</th>\n",
       "      <th>rank</th>\n",
       "      <th>address</th>\n",
       "      <th>child</th>\n",
       "      <th>latitude</th>\n",
       "      <th>longitude</th>\n",
       "      <th>score</th>\n",
       "      <th>chosen</th>\n",
       "    </tr>\n",
       "  </thead>\n",
       "  <tbody>\n",
       "    <tr>\n",
       "      <td>0</td>\n",
       "      <td>264</td>\n",
       "      <td>東京迪士尼樂園 Tokyo Disneyland</td>\n",
       "      <td>排名第 2的Maihama觀光 (共5家)</td>\n",
       "      <td>千葉縣浦安Maihama1-1279-8511</td>\n",
       "      <td>1</td>\n",
       "      <td>35.632906</td>\n",
       "      <td>139.880391</td>\n",
       "      <td>94</td>\n",
       "      <td>True</td>\n",
       "    </tr>\n",
       "  </tbody>\n",
       "</table>\n",
       "</div>"
      ],
      "text/plain": [
       "   index                      name                   rank  \\\n",
       "0    264  東京迪士尼樂園 Tokyo Disneyland  排名第 2的Maihama觀光 (共5家)   \n",
       "\n",
       "                   address  child   latitude   longitude  score  chosen  \n",
       "0  千葉縣浦安Maihama1-1279-8511      1  35.632906  139.880391     94    True  "
      ]
     },
     "execution_count": 1,
     "metadata": {},
     "output_type": "execute_result"
    }
   ],
   "source": [
    "#!pip install -U googlemaps\n",
    "#!pip install gmaps\n",
    "#!pip install networkx\n",
    "import networkx as nx\n",
    "import math\n",
    "import requests\n",
    "import json\n",
    "import pandas as pd\n",
    "import googlemaps\n",
    "import gmaps\n",
    "req = requests.post('http://127.0.0.1:5007/',\n",
    "                    json = {'age':20,'been2tko':5,'howlong':6,'budget':50000,\n",
    "                            'isFemale':1,'with_child':0,'crampedSechedule':True}\n",
    "                   )\n",
    "req.encoding='utf-8'\n",
    "req = req.json()\n",
    "day2=pd.read_json(req[1])\n",
    "# print(req.content.decode('utf-8'))"
   ]
  },
  {
   "cell_type": "code",
   "execution_count": 2,
   "metadata": {},
   "outputs": [],
   "source": [
    "with open('../apiKey.txt') as f:\n",
    "    api_key = f.readline()\n",
    "    f.close\n",
    "gmaps.configure(api_key=api_key)\n",
    "gm = googlemaps.Client(key=api_key)"
   ]
  },
  {
   "cell_type": "code",
   "execution_count": 3,
   "metadata": {},
   "outputs": [
    {
     "data": {
      "text/plain": [
       "1"
      ]
     },
     "execution_count": 3,
     "metadata": {},
     "output_type": "execute_result"
    }
   ],
   "source": [
    "len(day2)"
   ]
  },
  {
   "cell_type": "code",
   "execution_count": 4,
   "metadata": {},
   "outputs": [
    {
     "data": {
      "text/plain": [
       "[(35.632906, 139.880391)]"
      ]
     },
     "execution_count": 4,
     "metadata": {},
     "output_type": "execute_result"
    }
   ],
   "source": [
    "waypoints=[]\n",
    "for i in range(len(day2)):\n",
    "    spot=(day2['latitude'][i],day2['longitude'][i])\n",
    "    waypoints.append(spot)\n",
    "waypoints"
   ]
  },
  {
   "cell_type": "code",
   "execution_count": 5,
   "metadata": {},
   "outputs": [],
   "source": [
    "remu_hotel=(35.697795, 139.773679)\n",
    "d2optRt=gm.directions(remu_hotel,\n",
    "                      remu_hotel,\n",
    "                      waypoints=waypoints,\n",
    "                      optimize_waypoints=True, language='zh-TW')"
   ]
  },
  {
   "cell_type": "code",
   "execution_count": 6,
   "metadata": {},
   "outputs": [
    {
     "data": {
      "text/plain": [
       "{'distance': {'text': '20.2 公里', 'value': 20192},\n",
       " 'duration': {'text': '31 分鐘', 'value': 1838},\n",
       " 'end_address': '1-chōme-6 Kanda Sakumachō, Chiyoda City, Tōkyō-to 101-0025日本',\n",
       " 'end_location': {'lat': 35.6976678, 'lng': 139.7738844},\n",
       " 'start_address': '1-1 Maihama, Urayasu, Chiba 279-0031日本',\n",
       " 'start_location': {'lat': 35.6333892, 'lng': 139.8768205},\n",
       " 'steps': [{'distance': {'text': '0.1 公里', 'value': 124},\n",
       "   'duration': {'text': '1 分鐘', 'value': 44},\n",
       "   'end_location': {'lat': 35.6323697, 'lng': 139.8765113},\n",
       "   'html_instructions': '往<b>西南</b>',\n",
       "   'polyline': {'points': 'usnxEcuvtYrCnAD?B?DABANMBA@?L@'},\n",
       "   'start_location': {'lat': 35.6333892, 'lng': 139.8768205},\n",
       "   'travel_mode': 'DRIVING'},\n",
       "  {'distance': {'text': '2.3 公里', 'value': 2294},\n",
       "   'duration': {'text': '5 分鐘', 'value': 324},\n",
       "   'end_location': {'lat': 35.6249863, 'lng': 139.8911192},\n",
       "   'html_instructions': '靠<b>左</b>行駛',\n",
       "   'maneuver': 'turn-slight-left',\n",
       "   'polyline': {'points': 'imnxEesvtYBCBABABADCD?DAF?F?D@B@D@~DfBZNHBF@H@J?HAHAFCJEFEFGFIDGL[~A_EHQz@mBd@eABC?C@EjAqFBOBEDMDKBEDCFEjAi@LEDCFADAHADAB@H?JBtA^TFZHPDLBLDF@D?D?DAB?BAFC?ADCFEFGFCHEFCDAHCHCHAFAH?HAF?D@F?FBF@HBHBHBx@RfBb@zBj@hIuk@DYD[BYB]?C@S?C?S?YA]CUAUEYEUG[I[?AKWKYO[QYU]]c@uE_GiA{AOS'},\n",
       "   'start_location': {'lat': 35.6323697, 'lng': 139.8765113},\n",
       "   'travel_mode': 'DRIVING'},\n",
       "  {'distance': {'text': '1.1 公里', 'value': 1066},\n",
       "   'duration': {'text': '3 分鐘', 'value': 188},\n",
       "   'end_location': {'lat': 35.6320398, 'lng': 139.8909739},\n",
       "   'html_instructions': '靠<b>左</b>',\n",
       "   'maneuver': 'keep-left',\n",
       "   'polyline': {'points': 'e_mxEonytYa@e@{@eASWQQKKIGKIKGKEICICKAIAGAI?G?Q@I@I@IBE@KDGBEBIFKHKHGHIHKJEFSNe@r@}@lAWf@_C~CeB`CcBzB_AnAKLIMQa@qBiCQSGIQSm@u@gAwAMOm@s@wAgB'},\n",
       "   'start_location': {'lat': 35.6249863, 'lng': 139.8911192},\n",
       "   'travel_mode': 'DRIVING'},\n",
       "  {'distance': {'text': '0.5 公里', 'value': 513},\n",
       "   'duration': {'text': '1 分鐘', 'value': 68},\n",
       "   'end_location': {'lat': 35.6352787, 'lng': 139.8869288},\n",
       "   'html_instructions': '在<b>運動公園前（交差点）</b>處，向<b>左</b>轉 (<b>Ikspiari</b>/<wbr/><b>Tokyo</b>/<wbr/><b>Metropolitan Expressway Bayshore Route</b> 號誌)',\n",
       "   'maneuver': 'turn-left',\n",
       "   'polyline': {'points': 'gknxEqmytYyBvCUZUZgBbCa@f@k@v@u@bAq@~@q@|@iB`Cg@n@'},\n",
       "   'start_location': {'lat': 35.6320398, 'lng': 139.8909739},\n",
       "   'travel_mode': 'DRIVING'},\n",
       "  {'distance': {'text': '27 公尺', 'value': 27},\n",
       "   'duration': {'text': '1 分鐘', 'value': 2},\n",
       "   'end_location': {'lat': 35.6353876, 'lng': 139.8866603},\n",
       "   'html_instructions': '在<b>舞浜</b>處，向<b>左</b>緩轉向<b>010A-舞浜出口</b>',\n",
       "   'maneuver': 'turn-slight-left',\n",
       "   'polyline': {'points': 'o_oxEitxtYUt@'},\n",
       "   'start_location': {'lat': 35.6352787, 'lng': 139.8869288},\n",
       "   'travel_mode': 'DRIVING'},\n",
       "  {'distance': {'text': '0.8 公里', 'value': 826},\n",
       "   'duration': {'text': '1 分鐘', 'value': 68},\n",
       "   'end_location': {'lat': 35.638659, 'lng': 139.8787811},\n",
       "   'html_instructions': '靠<b>右</b>上<b>Metropolitan Expressway Bayshore Route</b>匝道，朝<b>Ginza</b>/<wbr/><b>Kosuge</b>走<div style=\"font-size:0.9em\">收費路段</div>',\n",
       "   'maneuver': 'ramp-right',\n",
       "   'polyline': {'points': 'e`oxEsrxtYyDhFUZOTKNINS^KRIPMVCLCFCJAHAHAHAR@\\\\?@?J@J@P?D?P?FALGt@?DG`AEj@CRCZAHCRCPEPCPCHEPEJENGJEHEHMTEHEFCFEHCFEJEJCFELAFCJENCNGVMl@On@k@xBADM^Sr@Y|@CDA@E@ID'},\n",
       "   'start_location': {'lat': 35.6353876, 'lng': 139.8866603},\n",
       "   'travel_mode': 'DRIVING'},\n",
       "  {'distance': {'text': '5.4 公里', 'value': 5446},\n",
       "   'duration': {'text': '4 分鐘', 'value': 256},\n",
       "   'end_location': {'lat': 35.6459572, 'lng': 139.8206753},\n",
       "   'html_instructions': '走<b>湾岸道路</b>/<wbr/><b>首都高速湾岸線</b><div style=\"font-size:0.9em\">收費路段</div>',\n",
       "   'maneuver': 'merge',\n",
       "   'polyline': {'points': 'stoxEkawtYk@xBa@zASx@Uz@kC|JGRSr@uAhFYfAq@dC_@|AGPADCFMd@GRAHKd@i@jBi@pBCDMf@Qp@w@vCK^AHuB|HEPENQr@Sp@K`@K^k@xBOf@{@`DwApFOf@Mf@c@`BITk@xBW`A}@hD_AnDMd@K`@GTERU`AKl@Kb@Gd@ETCXAJQ~ACTEXAH?DKpAIrAErBE`BGhACn@OzGEnBKjD?XAX?@?HAR?NCj@GxB?NAL?F?H?PARChACj@?RCdAAZEjBKnD?NIjCAn@GpBAP?F?HBLCpAEnAIvCEtAGfBOhGAf@Av@AN?LCn@Cz@AJKjFGhC?NCx@An@?~@@fCBb@HvCHhB@TFvAJnBDx@Bj@JbCBj@\\\\pHNnDLdCRxEFvAJpBDfAB`@?FHdBBn@@RDr@Bj@Dv@@d@Dp@D`A@FFhAFhAZjHP|EN|D'},\n",
       "   'start_location': {'lat': 35.638659, 'lng': 139.8787811},\n",
       "   'travel_mode': 'DRIVING'},\n",
       "  {'distance': {'text': '0.3 公里', 'value': 346},\n",
       "   'duration': {'text': '1 分鐘', 'value': 17},\n",
       "   'end_location': {'lat': 35.6454034, 'lng': 139.8169485},\n",
       "   'html_instructions': '在<b>Tatsumi JCT</b>交流道靠<b>左</b>，並循著<b>Hakozaki</b>/<wbr/><b>Ginza</b>的路標行駛<div style=\"font-size:0.9em\">收費路段</div>',\n",
       "   'maneuver': 'ramp-left',\n",
       "   'polyline': {'points': 'gbqxEgvktYFHHH@DBF?BD`@?LBf@Dh@Bb@Bj@@\\\\@L@\\\\@LDv@@^Dv@FfA?BJlAB\\\\D\\\\@HBTDR'},\n",
       "   'start_location': {'lat': 35.6459572, 'lng': 139.8206753},\n",
       "   'travel_mode': 'DRIVING'},\n",
       "  {'distance': {'text': '0.6 公里', 'value': 589},\n",
       "   'duration': {'text': '1 分鐘', 'value': 32},\n",
       "   'end_location': {'lat': 35.6467475, 'lng': 139.8123287},\n",
       "   'html_instructions': '靠<b>左</b>，繼續朝<b>首都高速９号深川線</b>/<wbr/><b>路徑 9</b>前進<div style=\"font-size:0.9em\">收費路段</div>',\n",
       "   'maneuver': 'keep-left',\n",
       "   'polyline': {'points': 'w~pxE}~jtYBZBJ?@Jh@FTDRBPFVH`@DZ@HJ^FZDJFRLh@BJJb@FZ?BDX@B@H@L@N@T@N?N?PATAL?BCNALCNCDCNGRGJEJCDEHKNGFCBCBCBABKF[ROHMDMDIBODi@He@FC@SBM@G@G@eANUL'},\n",
       "   'start_location': {'lat': 35.6454034, 'lng': 139.8169485},\n",
       "   'travel_mode': 'DRIVING'},\n",
       "  {'distance': {'text': '4.9 公里', 'value': 4869},\n",
       "   'duration': {'text': '4 分鐘', 'value': 250},\n",
       "   'end_location': {'lat': 35.680022, 'lng': 139.7875323},\n",
       "   'html_instructions': '接著走<b>首都高速９号深川線</b>/<wbr/><b>路徑 9</b><div style=\"font-size:0.9em\">收費路段</div>',\n",
       "   'polyline': {'points': 'egqxEabjtYmBPk@D]BE?c@D{@HC?C?E@UBM@[BG@a@Bc@DM@_@BK@c@DI?YBQBQ@c@D_CPK@K@k@D[Bk@DwAJq@FE@E?M@A?K@YBYBS@mAJG?[BUB]Bk@DWBo@Fm@DYBk@DYB[B_@BWBc@F]FC@A@WFUFE@MFGBIBGBOHKFMFKFYTOLGDQPGD[Zo@n@QPe@d@YXGFGFEDq@n@[ZSPGFWVUVIHGH[ZOPUREDE@EBGDSR[XSPCBEFGF]VGFOJEBCBEDGDIDGBs@^MDy@\\\\GB_@PSHYLMFOHk@Xq@\\\\e@VSLEBEBKFsAv@[PAB_@RA?MFEBGBGB_@NKBE@EB]FE@QDO@MBe@Dc@BE?E@A?s@FO@C?U@C?c@B]@_@?I?[@S?SAQ?O?E?K?WAI?YAG?[?QAa@?_@ASA[?G?c@AA?W?K?WAc@A]?E?c@AG?UAM?G?Y?K@S?A?OBI?IBE?KBC@QDKBE@UHKBIDUHMFE@CBA?WHIDSFC@E@]FC@O@K@M@G?M?K?I?A?KAUCA?KAUEA?OCWCKAOCQCWEUAAAC?S?O?E?O@G?KBE@ODQHC?EBIDKHIFIHCBGHGHA@IPIJABABA@CJELCHCHCLCL?BCLAJCNAF?DO|ACL?B?BEb@Gb@?D?BCRStBAFAFGj@C\\\\AJIj@MhAAJC\\\\I|@?VKpAMrAAJCRAPCNIdAGt@AFEh@ADGd@AFC\\\\ABG^AJIh@Ih@Ij@ABGd@CLGZEREPELM`@EJGLEJILGJIJGHMLKJQLMH[NMDIBKBMDOBODC?A@eARc@FG@UFUDODA?QFMFA?KDOHOHIFEDMJOPKJ?@EDCFABMPADSd@CDKZCHa@lAIVITCJCHELELKXKXGNGP]bACHOf@M^GJKXGVGNOf@Od@m@pBABADCFGPMd@ENELELELENGN_@rAGNENQh@IRQ`@GNA@IPCDGHEFA@IJKLCBKHMLKJ]VOJOL'},\n",
       "   'start_location': {'lat': 35.6467475, 'lng': 139.8123287},\n",
       "   'travel_mode': 'DRIVING'},\n",
       "  {'distance': {'text': '0.4 公里', 'value': 351},\n",
       "   'duration': {'text': '1 分鐘', 'value': 26},\n",
       "   'end_location': {'lat': 35.6806264, 'lng': 139.7844198},\n",
       "   'html_instructions': '在<b>Hakozaki JCT</b>交流道靠<b>左</b>，並循著<b>Shinjuku</b>/<wbr/><b>Metropolitan Expressway Inner Circular Route</b>/<wbr/><b>Ginza</b>/<wbr/><b>Metropolitan Expressway Route No.1</b>/<wbr/><b>Metropolitan Expressway Route No.3</b>/<wbr/><b>Metropolitan Expressway Route No.4</b>/<wbr/><b>Metropolitan Expressway Route No.5</b>的路標行駛<div style=\"font-size:0.9em\">收費路段</div>',\n",
       "   'maneuver': 'ramp-left',\n",
       "   'polyline': {'points': 'cwwxEagetYKFIFOJGFOHMJWPe@`@KJIJKLGHEHCFCHEJIRAHCNCTAT?DAN?J?H?B@H@J?F@F@B@HBJBNNh@Rj@Xz@LX@FDX'},\n",
       "   'start_location': {'lat': 35.680022, 'lng': 139.7875323},\n",
       "   'travel_mode': 'DRIVING'},\n",
       "  {'distance': {'text': '0.4 公里', 'value': 407},\n",
       "   'duration': {'text': '1 分鐘', 'value': 26},\n",
       "   'end_location': {'lat': 35.6811427, 'lng': 139.7806873},\n",
       "   'html_instructions': '走<b>向島線</b>/<wbr/><b>首都高速６号</b>/<wbr/><b>路徑 6</b><div style=\"font-size:0.9em\">收費路段</div>',\n",
       "   'maneuver': 'merge',\n",
       "   'polyline': {'points': '}zwxEssdtYN`@N`@j@dB`@lABHDNDLBV@V@T?RARATCPETIVGPCBCHKNGJMPMPABs@v@Y\\\\ABUVMNONMN'},\n",
       "   'start_location': {'lat': 35.6806264, 'lng': 139.7844198},\n",
       "   'travel_mode': 'DRIVING'},\n",
       "  {'distance': {'text': '0.6 公里', 'value': 551},\n",
       "   'duration': {'text': '1 分鐘', 'value': 35},\n",
       "   'end_location': {'lat': 35.6842806, 'lng': 139.7770363},\n",
       "   'html_instructions': '在<b>Edobashi JCT</b>交流道靠<b>右</b>，並循著<b>Metropolitan Expressway Inner Circular Route</b>的路標開往<b>Kandabashi</b>/<wbr/><b>Metropolitan Expressway Route No.5</b>/<wbr/><b>Kita-ikebukuro</b>/<wbr/><b>Chuo Expressway</b><div style=\"font-size:0.9em\">收費路段</div>',\n",
       "   'maneuver': 'ramp-right',\n",
       "   'polyline': {'points': 'c~wxEi|ctYSNGHA?QNIHA?OJMHGDEDUJC@OFKBEBE@KBODUDMBG@a@H[FG@i@J[FOBWFQHIBA?IFKDQNIFEFMLQVQ\\\\MXMXSd@ABUl@GRENAB?FCLCP?BAL?\\\\B^@JDZD`@?BDNBN'},\n",
       "   'start_location': {'lat': 35.6811427, 'lng': 139.7806873},\n",
       "   'travel_mode': 'DRIVING'},\n",
       "  {'distance': {'text': '0.3 公里', 'value': 349},\n",
       "   'duration': {'text': '1 分鐘', 'value': 25},\n",
       "   'end_location': {'lat': 35.6841646, 'lng': 139.7732396},\n",
       "   'html_instructions': '走<b>首都高速都心環状線</b>/<wbr/><b>C1</b><div style=\"font-size:0.9em\">收費路段</div>',\n",
       "   'maneuver': 'merge',\n",
       "   'polyline': {'points': 'wqxxEoectYD\\\\B\\\\TtBLlB@RDn@Bb@?BBNBL?v@AZAZANEn@EVGj@Gl@Gj@'},\n",
       "   'start_location': {'lat': 35.6842806, 'lng': 139.7770363},\n",
       "   'travel_mode': 'DRIVING'},\n",
       "  {'distance': {'text': '0.2 公里', 'value': 187},\n",
       "   'duration': {'text': '1 分鐘', 'value': 31},\n",
       "   'end_location': {'lat': 35.6841738, 'lng': 139.771399},\n",
       "   'html_instructions': '靠<b>右</b>於<b>30-Gofukubashi</b>出口 (<b>Yaesu</b> 出口) 下交流道，朝<b>Tokyo Sta</b>/<wbr/><b>Nihonbashi</b>前進<div style=\"font-size:0.9em\">收費路段</div>',\n",
       "   'maneuver': 'ramp-right',\n",
       "   'polyline': {'points': '_qxxEwmbtYCBCDCFALEV?@CP?@Gh@EZALS~A?DAH?D?D?H@F@DDLDDBDDBDDB@DBPN'},\n",
       "   'start_location': {'lat': 35.6841646, 'lng': 139.7732396},\n",
       "   'travel_mode': 'DRIVING'},\n",
       "  {'distance': {'text': '0.5 公里', 'value': 495},\n",
       "   'duration': {'text': '2 分鐘', 'value': 124},\n",
       "   'end_location': {'lat': 35.6836004, 'lng': 139.7766914},\n",
       "   'html_instructions': '向<b>左</b>轉',\n",
       "   'maneuver': 'turn-left',\n",
       "   'polyline': {'points': 'aqxxEgbbtYNgAXoBXqBL_AT{ANaAL}@QIDa@@UCcCAqC?cBAKAS'},\n",
       "   'start_location': {'lat': 35.6841738, 'lng': 139.771399},\n",
       "   'travel_mode': 'DRIVING'},\n",
       "  {'distance': {'text': '0.5 公里', 'value': 500},\n",
       "   'duration': {'text': '1 分鐘', 'value': 84},\n",
       "   'end_location': {'lat': 35.6879002, 'lng': 139.7762235},\n",
       "   'html_instructions': '在<b>江戸橋南（交差点）</b>處，向<b>左</b>轉，上<b>昭和通り</b>/<wbr/><b>都道316号</b>',\n",
       "   'maneuver': 'turn-left',\n",
       "   'polyline': {'points': 'omxxEicctY?SAMWEG?C?]?I?I?YBK?W@i@Be@BS@IDG@G@E@aABc@@m@DmADI?O@aAFy@DM?C@K@I?IBG@E@G@A@a@La@NKDOD_@L'},\n",
       "   'start_location': {'lat': 35.6836004, 'lng': 139.7766914},\n",
       "   'travel_mode': 'DRIVING'},\n",
       "  {'distance': {'text': '1.1 公里', 'value': 1098},\n",
       "   'duration': {'text': '3 分鐘', 'value': 187},\n",
       "   'end_location': {'lat': 35.6975072, 'lng': 139.7753738},\n",
       "   'html_instructions': '靠<b>右</b>行駛,繼續走<b>昭和通り</b>/<wbr/><b>都道316号</b><div style=\"font-size:0.9em\">繼續開在昭和通り上</div>',\n",
       "   'maneuver': 'turn-slight-right',\n",
       "   'polyline': {'points': 'khyxEk`ctY_@@C?[@i@Pg@Pa@LKDKBIBA@[Ha@NYHGBk@PKBsAd@OFa@Nc@NCBEDa@\\\\Q@g@Nu@TUHGBG@IBKBO?MAE?c@Eg@Ec@COAc@Cw@GeBO}@GUC}@Gu@Gw@GSCmBOWAUA_@ECAw@GwAIc@CM?I?u@CE?[?q@A'},\n",
       "   'start_location': {'lat': 35.6879002, 'lng': 139.7762235},\n",
       "   'travel_mode': 'DRIVING'},\n",
       "  {'distance': {'text': '0.1 公里', 'value': 132},\n",
       "   'duration': {'text': '1 分鐘', 'value': 37},\n",
       "   'end_location': {'lat': 35.6975334, 'lng': 139.7739145},\n",
       "   'html_instructions': '向<b>左</b>轉',\n",
       "   'maneuver': 'turn-left',\n",
       "   'polyline': {'points': 'md{xEa{btY?R?l@?@?f@ClA?bB?D'},\n",
       "   'start_location': {'lat': 35.6975072, 'lng': 139.7753738},\n",
       "   'travel_mode': 'DRIVING'},\n",
       "  {'distance': {'text': '22 公尺', 'value': 22},\n",
       "   'duration': {'text': '1 分鐘', 'value': 14},\n",
       "   'end_location': {'lat': 35.6976678, 'lng': 139.7738844},\n",
       "   'html_instructions': '向<b>右</b>轉',\n",
       "   'maneuver': 'turn-right',\n",
       "   'polyline': {'points': 'qd{xE}qbtY?L[G'},\n",
       "   'start_location': {'lat': 35.6975334, 'lng': 139.7739145},\n",
       "   'travel_mode': 'DRIVING'}],\n",
       " 'traffic_speed_entry': [],\n",
       " 'via_waypoint': []}"
      ]
     },
     "execution_count": 6,
     "metadata": {},
     "output_type": "execute_result"
    }
   ],
   "source": [
    "d2optRt[0]['legs'][1]"
   ]
  },
  {
   "cell_type": "code",
   "execution_count": 7,
   "metadata": {},
   "outputs": [
    {
     "name": "stdout",
     "output_type": "stream",
     "text": [
      "[0]\n",
      "[(35.632906, 139.880391)]\n",
      "[(35.632906, 139.880391)]\n"
     ]
    }
   ],
   "source": [
    "order = d2optRt[0]['waypoint_order']#list\n",
    "wpOrdered=[]\n",
    "for j in order:\n",
    "    wpOrdered.append(waypoints[j])\n",
    "print(order,waypoints,wpOrdered,sep='\\n')"
   ]
  },
  {
   "cell_type": "code",
   "execution_count": null,
   "metadata": {},
   "outputs": [],
   "source": []
  },
  {
   "cell_type": "code",
   "execution_count": 8,
   "metadata": {},
   "outputs": [],
   "source": [
    "#d2spot1=gm.directions(remu_hotel,\n",
    "#                      wpOrdered[0])\n",
    "#d2spot2=gm.directions(wpOrdered[0],\n",
    "#                      wpOrdered[1])\n",
    "#d2spot3=gm.directions(wpOrdered[1],\n",
    "#                      wpOrdered[2])\n",
    "#d2spot4=gm.directions(wpOrdered[2],\n",
    "#                      wpOrdered[3])\n",
    "#d2spoth=gm.directions(wpOrdered[3],\n",
    "#                      remu_hotel)"
   ]
  },
  {
   "cell_type": "code",
   "execution_count": 9,
   "metadata": {},
   "outputs": [
    {
     "name": "stdout",
     "output_type": "stream",
     "text": [
      "讓您久等了，第2天行程如下：\n",
      "首先參觀東京迪士尼樂園 Tokyo Disneyland約17.9 公里，通勤約需27 分鐘\n",
      "\n"
     ]
    }
   ],
   "source": [
    "routetext='讓您久等了，第2天行程如下：\\n首先'\n",
    "for k in range(len(day2)):\n",
    "    text = ('參觀'+day2['name'][order[k]]+'約'+\n",
    "            d2optRt[0]['legs'][k]['distance']['text']+'，通勤約需'+\n",
    "            d2optRt[0]['legs'][k]['duration']['text']+'\\n')\n",
    "    routetext+=text\n",
    "print(routetext)"
   ]
  },
  {
   "cell_type": "code",
   "execution_count": 10,
   "metadata": {},
   "outputs": [
    {
     "data": {
      "text/plain": [
       "\"\\nprint('讓您久等了。第二天行程如下：\\n雷姆飯店距離'+\\n      day2['name'][order[0]]+'約'+\\n      d2optRt[0]['legs'][0]['distance']['text']+'，通勤約需'+\\n      d2optRt[0]['legs'][0]['duration']['text']+'；'+\\n      day2['name'][order[0]]+'距離'+\\n      day2['name'][order[1]]+\\n      '約'+\\n      d2optRt[0]['legs'][1]['distance']['text']+'，通勤約需'+\\n      d2optRt[0]['legs'][1]['duration']['text']+'；'+\\n      day2['name'][order[1]]+'距離'+\\n      day2['name'][order[2]]+\\n      '約'+\\n      d2optRt[0]['legs'][2]['distance']['text']+'，通勤約需'+\\n      d2optRt[0]['legs'][2]['duration']['text']+'；'+\\n      day2['name'][order[2]]+'距離'+\\n      day2['name'][order[3]]+\\n      '約'+\\n      d2optRt[0]['legs'][3]['distance']['text']+'，通勤約需'+\\n      d2optRt[0]['legs'][3]['duration']['text']+'；'+\\n      day2['name'][order[3]]+'距離雷姆飯店約'+\\n      d2optRt[0]['legs'][4]['distance']['text']+'，通勤約需'+\\n      d2optRt[0]['legs'][4]['duration']['text'])\\n\""
      ]
     },
     "execution_count": 10,
     "metadata": {},
     "output_type": "execute_result"
    }
   ],
   "source": [
    "'''\n",
    "print('讓您久等了。第二天行程如下：\\n雷姆飯店距離'+\n",
    "      day2['name'][order[0]]+'約'+\n",
    "      d2optRt[0]['legs'][0]['distance']['text']+'，通勤約需'+\n",
    "      d2optRt[0]['legs'][0]['duration']['text']+'；'+\n",
    "      day2['name'][order[0]]+'距離'+\n",
    "      day2['name'][order[1]]+\n",
    "      '約'+\n",
    "      d2optRt[0]['legs'][1]['distance']['text']+'，通勤約需'+\n",
    "      d2optRt[0]['legs'][1]['duration']['text']+'；'+\n",
    "      day2['name'][order[1]]+'距離'+\n",
    "      day2['name'][order[2]]+\n",
    "      '約'+\n",
    "      d2optRt[0]['legs'][2]['distance']['text']+'，通勤約需'+\n",
    "      d2optRt[0]['legs'][2]['duration']['text']+'；'+\n",
    "      day2['name'][order[2]]+'距離'+\n",
    "      day2['name'][order[3]]+\n",
    "      '約'+\n",
    "      d2optRt[0]['legs'][3]['distance']['text']+'，通勤約需'+\n",
    "      d2optRt[0]['legs'][3]['duration']['text']+'；'+\n",
    "      day2['name'][order[3]]+'距離雷姆飯店約'+\n",
    "      d2optRt[0]['legs'][4]['distance']['text']+'，通勤約需'+\n",
    "      d2optRt[0]['legs'][4]['duration']['text'])\n",
    "'''"
   ]
  },
  {
   "cell_type": "code",
   "execution_count": 11,
   "metadata": {},
   "outputs": [],
   "source": [
    "from ipywidgets.embed import embed_minimal_html\n",
    "fig = gmaps.figure()\n",
    "locations=[]\n",
    "hover_text=[]\n",
    "label=[]\n",
    "for k in range(len(day2)):\n",
    "    hover_text.append(day2['name'][order[k]])\n",
    "    locations.append(wpOrdered[k])\n",
    "    label.append(str(k))\n",
    "marker_layer = gmaps.marker_layer(\n",
    "    locations=locations,\n",
    "    hover_text=hover_text,\n",
    "    label=label\n",
    ")\n",
    "fig.add_layer(marker_layer)\n",
    "fig\n",
    "embed_minimal_html('d2map.html', views=[fig])"
   ]
  },
  {
   "cell_type": "code",
   "execution_count": null,
   "metadata": {},
   "outputs": [],
   "source": []
  },
  {
   "cell_type": "code",
   "execution_count": null,
   "metadata": {},
   "outputs": [],
   "source": []
  }
 ],
 "metadata": {
  "kernelspec": {
   "display_name": "Python 3",
   "language": "python",
   "name": "python3"
  },
  "language_info": {
   "codemirror_mode": {
    "name": "ipython",
    "version": 3
   },
   "file_extension": ".py",
   "mimetype": "text/x-python",
   "name": "python",
   "nbconvert_exporter": "python",
   "pygments_lexer": "ipython3",
   "version": "3.7.3"
  }
 },
 "nbformat": 4,
 "nbformat_minor": 2
}
