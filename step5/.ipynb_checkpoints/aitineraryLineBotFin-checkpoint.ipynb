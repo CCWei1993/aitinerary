{
 "cells": [
  {
   "cell_type": "code",
   "execution_count": 1,
   "metadata": {},
   "outputs": [
    {
     "data": {
      "text/plain": [
       "'啟動伺服器基本樣版\\n設定業務功能\\n    當用戶關注時\\n        記錄個資，綁定菜單，回傳文字消息與圖片消息，介紹功能與使用方法\\n    當用戶點擊自定義菜單或輸入文字消息時\\n        傳送圖片消息或相應文字消息。\\n    當用戶點擊按鈕消息的時候\\n        會將用戶個資紀錄回檔案內，以供未來聯繫用'"
      ]
     },
     "execution_count": 1,
     "metadata": {},
     "output_type": "execute_result"
    }
   ],
   "source": [
    "'''啟動伺服器基本樣版\n",
    "設定業務功能\n",
    "    當用戶關注時\n",
    "        記錄個資，綁定菜單，回傳文字消息與圖片消息，介紹功能與使用方法\n",
    "    當用戶點擊自定義菜單或輸入文字消息時\n",
    "        傳送圖片消息或相應文字消息。\n",
    "    當用戶點擊按鈕消息的時候\n",
    "        會將用戶個資紀錄回檔案內，以供未來聯繫用'''"
   ]
  },
  {
   "cell_type": "code",
   "execution_count": 2,
   "metadata": {},
   "outputs": [
    {
     "name": "stdout",
     "output_type": "stream",
     "text": [
      "Collecting googlemaps\n",
      "  Downloading https://files.pythonhosted.org/packages/ce/a2/732003b9ed29a3b1e721aa8b95b4c1f3f69e6b5dd5648f43cccc457f52d9/googlemaps-3.1.4-py3-none-any.whl\n",
      "Requirement already satisfied, skipping upgrade: requests<3.0,>=2.20.0 in /opt/conda/lib/python3.7/site-packages (from googlemaps) (2.22.0)\n",
      "Requirement already satisfied, skipping upgrade: urllib3!=1.25.0,!=1.25.1,<1.26,>=1.21.1 in /opt/conda/lib/python3.7/site-packages (from requests<3.0,>=2.20.0->googlemaps) (1.25.3)\n",
      "Requirement already satisfied, skipping upgrade: chardet<3.1.0,>=3.0.2 in /opt/conda/lib/python3.7/site-packages (from requests<3.0,>=2.20.0->googlemaps) (3.0.4)\n",
      "Requirement already satisfied, skipping upgrade: idna<2.9,>=2.5 in /opt/conda/lib/python3.7/site-packages (from requests<3.0,>=2.20.0->googlemaps) (2.8)\n",
      "Requirement already satisfied, skipping upgrade: certifi>=2017.4.17 in /opt/conda/lib/python3.7/site-packages (from requests<3.0,>=2.20.0->googlemaps) (2019.9.11)\n",
      "Installing collected packages: googlemaps\n",
      "Successfully installed googlemaps-3.1.4\n",
      "\u001b[33mWARNING: You are using pip version 19.2.3, however version 19.3.1 is available.\n",
      "You should consider upgrading via the 'pip install --upgrade pip' command.\u001b[0m\n",
      "Collecting gmaps\n",
      "\u001b[?25l  Downloading https://files.pythonhosted.org/packages/4c/aa/4e659d3ab6efe55c265d8159c845e9168e4c79045aef8e5460f9511cc3a7/gmaps-0.9.0.tar.gz (1.1MB)\n",
      "\u001b[K     |████████████████████████████████| 1.1MB 1.3MB/s eta 0:00:01\n",
      "\u001b[?25hRequirement already satisfied: ipython>=5.3.0 in /opt/conda/lib/python3.7/site-packages (from gmaps) (7.8.0)\n",
      "Requirement already satisfied: ipywidgets>=7.0.0 in /opt/conda/lib/python3.7/site-packages (from gmaps) (7.5.1)\n",
      "Requirement already satisfied: traitlets>=4.3.0 in /opt/conda/lib/python3.7/site-packages (from gmaps) (4.3.2)\n",
      "Collecting geojson>=2.0.0 (from gmaps)\n",
      "  Downloading https://files.pythonhosted.org/packages/e4/8d/9e28e9af95739e6d2d2f8d4bef0b3432da40b7c3588fbad4298c1be09e48/geojson-2.5.0-py2.py3-none-any.whl\n",
      "Requirement already satisfied: six in /opt/conda/lib/python3.7/site-packages (from gmaps) (1.12.0)\n",
      "Requirement already satisfied: prompt-toolkit<2.1.0,>=2.0.0 in /opt/conda/lib/python3.7/site-packages (from ipython>=5.3.0->gmaps) (2.0.9)\n",
      "Requirement already satisfied: pygments in /opt/conda/lib/python3.7/site-packages (from ipython>=5.3.0->gmaps) (2.4.2)\n",
      "Requirement already satisfied: setuptools>=18.5 in /opt/conda/lib/python3.7/site-packages (from ipython>=5.3.0->gmaps) (41.0.1)\n",
      "Requirement already satisfied: jedi>=0.10 in /opt/conda/lib/python3.7/site-packages (from ipython>=5.3.0->gmaps) (0.15.1)\n",
      "Requirement already satisfied: backcall in /opt/conda/lib/python3.7/site-packages (from ipython>=5.3.0->gmaps) (0.1.0)\n",
      "Requirement already satisfied: decorator in /opt/conda/lib/python3.7/site-packages (from ipython>=5.3.0->gmaps) (4.4.0)\n",
      "Requirement already satisfied: pexpect; sys_platform != \"win32\" in /opt/conda/lib/python3.7/site-packages (from ipython>=5.3.0->gmaps) (4.7.0)\n",
      "Requirement already satisfied: pickleshare in /opt/conda/lib/python3.7/site-packages (from ipython>=5.3.0->gmaps) (0.7.5)\n",
      "Requirement already satisfied: nbformat>=4.2.0 in /opt/conda/lib/python3.7/site-packages (from ipywidgets>=7.0.0->gmaps) (4.4.0)\n",
      "Requirement already satisfied: ipykernel>=4.5.1 in /opt/conda/lib/python3.7/site-packages (from ipywidgets>=7.0.0->gmaps) (5.1.2)\n",
      "Requirement already satisfied: widgetsnbextension~=3.5.0 in /opt/conda/lib/python3.7/site-packages (from ipywidgets>=7.0.0->gmaps) (3.5.1)\n",
      "Requirement already satisfied: ipython_genutils in /opt/conda/lib/python3.7/site-packages (from traitlets>=4.3.0->gmaps) (0.2.0)\n",
      "Requirement already satisfied: wcwidth in /opt/conda/lib/python3.7/site-packages (from prompt-toolkit<2.1.0,>=2.0.0->ipython>=5.3.0->gmaps) (0.1.7)\n",
      "Requirement already satisfied: parso>=0.5.0 in /opt/conda/lib/python3.7/site-packages (from jedi>=0.10->ipython>=5.3.0->gmaps) (0.5.1)\n",
      "Requirement already satisfied: ptyprocess>=0.5 in /opt/conda/lib/python3.7/site-packages (from pexpect; sys_platform != \"win32\"->ipython>=5.3.0->gmaps) (0.6.0)\n",
      "Requirement already satisfied: jsonschema!=2.5.0,>=2.4 in /opt/conda/lib/python3.7/site-packages (from nbformat>=4.2.0->ipywidgets>=7.0.0->gmaps) (3.0.2)\n",
      "Requirement already satisfied: jupyter_core in /opt/conda/lib/python3.7/site-packages (from nbformat>=4.2.0->ipywidgets>=7.0.0->gmaps) (4.4.0)\n",
      "Requirement already satisfied: tornado>=4.2 in /opt/conda/lib/python3.7/site-packages (from ipykernel>=4.5.1->ipywidgets>=7.0.0->gmaps) (6.0.3)\n",
      "Requirement already satisfied: jupyter-client in /opt/conda/lib/python3.7/site-packages (from ipykernel>=4.5.1->ipywidgets>=7.0.0->gmaps) (5.3.1)\n",
      "Requirement already satisfied: notebook>=4.4.1 in /opt/conda/lib/python3.7/site-packages (from widgetsnbextension~=3.5.0->ipywidgets>=7.0.0->gmaps) (6.0.0)\n",
      "Requirement already satisfied: attrs>=17.4.0 in /opt/conda/lib/python3.7/site-packages (from jsonschema!=2.5.0,>=2.4->nbformat>=4.2.0->ipywidgets>=7.0.0->gmaps) (19.1.0)\n",
      "Requirement already satisfied: pyrsistent>=0.14.0 in /opt/conda/lib/python3.7/site-packages (from jsonschema!=2.5.0,>=2.4->nbformat>=4.2.0->ipywidgets>=7.0.0->gmaps) (0.15.4)\n",
      "Requirement already satisfied: pyzmq>=13 in /opt/conda/lib/python3.7/site-packages (from jupyter-client->ipykernel>=4.5.1->ipywidgets>=7.0.0->gmaps) (18.0.2)\n",
      "Requirement already satisfied: python-dateutil>=2.1 in /opt/conda/lib/python3.7/site-packages (from jupyter-client->ipykernel>=4.5.1->ipywidgets>=7.0.0->gmaps) (2.8.0)\n",
      "Requirement already satisfied: jinja2 in /opt/conda/lib/python3.7/site-packages (from notebook>=4.4.1->widgetsnbextension~=3.5.0->ipywidgets>=7.0.0->gmaps) (2.10.1)\n",
      "Requirement already satisfied: nbconvert in /opt/conda/lib/python3.7/site-packages (from notebook>=4.4.1->widgetsnbextension~=3.5.0->ipywidgets>=7.0.0->gmaps) (5.6.0)\n",
      "Requirement already satisfied: prometheus-client in /opt/conda/lib/python3.7/site-packages (from notebook>=4.4.1->widgetsnbextension~=3.5.0->ipywidgets>=7.0.0->gmaps) (0.7.1)\n",
      "Requirement already satisfied: Send2Trash in /opt/conda/lib/python3.7/site-packages (from notebook>=4.4.1->widgetsnbextension~=3.5.0->ipywidgets>=7.0.0->gmaps) (1.5.0)\n",
      "Requirement already satisfied: terminado>=0.8.1 in /opt/conda/lib/python3.7/site-packages (from notebook>=4.4.1->widgetsnbextension~=3.5.0->ipywidgets>=7.0.0->gmaps) (0.8.2)\n",
      "Requirement already satisfied: MarkupSafe>=0.23 in /opt/conda/lib/python3.7/site-packages (from jinja2->notebook>=4.4.1->widgetsnbextension~=3.5.0->ipywidgets>=7.0.0->gmaps) (1.1.1)\n",
      "Requirement already satisfied: mistune<2,>=0.8.1 in /opt/conda/lib/python3.7/site-packages (from nbconvert->notebook>=4.4.1->widgetsnbextension~=3.5.0->ipywidgets>=7.0.0->gmaps) (0.8.4)\n",
      "Requirement already satisfied: entrypoints>=0.2.2 in /opt/conda/lib/python3.7/site-packages (from nbconvert->notebook>=4.4.1->widgetsnbextension~=3.5.0->ipywidgets>=7.0.0->gmaps) (0.3)\n",
      "Requirement already satisfied: testpath in /opt/conda/lib/python3.7/site-packages (from nbconvert->notebook>=4.4.1->widgetsnbextension~=3.5.0->ipywidgets>=7.0.0->gmaps) (0.4.2)\n",
      "Requirement already satisfied: bleach in /opt/conda/lib/python3.7/site-packages (from nbconvert->notebook>=4.4.1->widgetsnbextension~=3.5.0->ipywidgets>=7.0.0->gmaps) (3.1.0)\n",
      "Requirement already satisfied: pandocfilters>=1.4.1 in /opt/conda/lib/python3.7/site-packages (from nbconvert->notebook>=4.4.1->widgetsnbextension~=3.5.0->ipywidgets>=7.0.0->gmaps) (1.4.2)\n",
      "Requirement already satisfied: defusedxml in /opt/conda/lib/python3.7/site-packages (from nbconvert->notebook>=4.4.1->widgetsnbextension~=3.5.0->ipywidgets>=7.0.0->gmaps) (0.5.0)\n",
      "Requirement already satisfied: webencodings in /opt/conda/lib/python3.7/site-packages (from bleach->nbconvert->notebook>=4.4.1->widgetsnbextension~=3.5.0->ipywidgets>=7.0.0->gmaps) (0.5.1)\n",
      "Building wheels for collected packages: gmaps\n",
      "  Building wheel for gmaps (setup.py) ... \u001b[?25ldone\n",
      "\u001b[?25h  Created wheel for gmaps: filename=gmaps-0.9.0-py2.py3-none-any.whl size=2076096 sha256=eb5b2b1ee3b673cc6882aba7477dffd03cfe94fb851242365edded3c0f6940ee\n",
      "  Stored in directory: /home/jovyan/.cache/pip/wheels/33/eb/41/5302168c36fc8ce8f48143bb58fde1015d5bc0c62bc3ddbb38\n",
      "Successfully built gmaps\n"
     ]
    },
    {
     "name": "stdout",
     "output_type": "stream",
     "text": [
      "Installing collected packages: geojson, gmaps\n",
      "Successfully installed geojson-2.5.0 gmaps-0.9.0\n",
      "\u001b[33mWARNING: You are using pip version 19.2.3, however version 19.3.1 is available.\n",
      "You should consider upgrading via the 'pip install --upgrade pip' command.\u001b[0m\n"
     ]
    }
   ],
   "source": [
    "\"\"\"啟用伺服器基本樣板\"\"\"\n",
    "!pip install -U googlemaps\n",
    "!pip install gmaps\n",
    "# 引用Web Server套件\n",
    "from flask import Flask, request, abort\n",
    "# 從linebot 套件包裡引用 LineBotApi 與 WebhookHandler 類別\n",
    "from linebot import (\n",
    "    LineBotApi, WebhookHandler\n",
    ")\n",
    "# 引用無效簽章錯誤\n",
    "from linebot.exceptions import (\n",
    "    InvalidSignatureError\n",
    ")\n",
    "# 載入json處理套件\n",
    "import json\n",
    "# 載入基礎設定檔\n",
    "secretFileContentJson=json.load(open(\"../line_secret_key\",'r'))\n",
    "server_url=secretFileContentJson.get(\"server_url\")\n",
    "# 設定Server啟用細節\n",
    "app = Flask(__name__,static_url_path = \"/images\" , static_folder = \"../images/\")\n",
    "# 生成實體物件\n",
    "line_bot_api = LineBotApi(secretFileContentJson.get(\"channel_access_token\"))\n",
    "handler = WebhookHandler(secretFileContentJson.get(\"secret_key\"))\n",
    "# 啟動server對外接口，使Line能丟消息進來\n",
    "@app.route(\"/\", methods=['POST'])\n",
    "def callback():\n",
    "    # get X-Line-Signature header value\n",
    "    signature = request.headers['X-Line-Signature']\n",
    "    # get request body as text\n",
    "    body = request.get_data(as_text=True)\n",
    "    app.logger.info(\"Request body: \" + body)\n",
    "    # handle webhook body\n",
    "    try:\n",
    "        handler.handle(body, signature)\n",
    "    except InvalidSignatureError:\n",
    "        abort(400)\n",
    "\n",
    "    return 'OK'"
   ]
  },
  {
   "cell_type": "code",
   "execution_count": 3,
   "metadata": {},
   "outputs": [],
   "source": [
    "\"\"\"當用戶關注Line@後，Line會發一個FollowEvent，\n",
    "我們接受到之後，取得用戶個資，對用戶綁定自定義菜單，會回傳四個消息給用戶\"\"\"\n",
    "'''歡迎訊息與提問'''\n",
    "'''製作文字與圖片的教學訊息'''\n",
    "# 將消息模型，文字收取消息與文字寄發消息 引入\n",
    "from linebot.models import (\n",
    "    MessageEvent,TextMessage,TextSendMessage,ImageSendMessage,\n",
    "    ImageMessage,MessageEvent,TemplateSendMessage,PostbackEvent,\n",
    "    ImagemapSendMessage,ImagemapArea, BaseSize, URIImagemapAction,\n",
    "    MessageImagemapAction,MessageAction,URIAction,PostbackAction,\n",
    "    DatetimePickerAction,CameraAction,CameraRollAction,\n",
    "    LocationAction,QuickReply, QuickReplyButton,FlexSendMessage,\n",
    "    BubbleContainer,CarouselContainer,StickerSendMessage\n",
    ")\n",
    "from linebot.models.template import(\n",
    "    ButtonsTemplate, ConfirmTemplate, CarouselTemplate, CarouselColumn\n",
    ")\n",
    "from datetime import *\n",
    "import pandas as pd\n",
    "import re\n",
    "import joblib\n",
    "import numpy as np\n",
    "import googlemaps\n",
    "import gmaps\n",
    "from ipywidgets.embed import embed_minimal_html\n",
    "\n",
    "# set key to gmaps & googlemaps API\n",
    "with open('../apiKey.txt') as f:\n",
    "    api_key = f.readline()\n",
    "    f.close\n",
    "gmaps.configure(api_key=api_key)\n",
    "gm = googlemaps.Client(key=api_key)"
   ]
  },
  {
   "cell_type": "code",
   "execution_count": 4,
   "metadata": {},
   "outputs": [],
   "source": [
    "# class for integrate msg 2 kafka\n",
    "class MsgToBackend:\n",
    "    def __init__(self, user_id):\n",
    "        self.user_id = user_id\n",
    "        \n",
    "    #flight request json:{age, been2tko, days, budget, isFemale, fbudget, dDate, rDate}\n",
    "    def msgflightprefer(self):\n",
    "        #chk the user's latest response for gender\n",
    "        colnames = ['userId', 'val_Id', 'gender', 'tStamp']\n",
    "        dfGen = pd.read_csv('../users_gender.csv', sep=',', header=None, names = colnames)\n",
    "        gen = dfGen.loc[dfGen.loc[(dfGen['userId']==self.user_id)]['tStamp'].idxmax()]['gender']\n",
    "        #chk the user's latest response for birthday\n",
    "        colnames = ['userId', 'val_Id', 'bDate', 'tStamp']\n",
    "        dfbDate = pd.read_csv('../users_birthday.csv', sep=',', header=None, names = colnames)\n",
    "        bDate = dfbDate.loc[dfbDate.loc[(dfbDate['userId']==self.user_id)]['tStamp'].idxmax()]['bDate']\n",
    "        #compute the user's age for classification\n",
    "        age = (datetime.now()-datetime.strptime(bDate, '%Y-%m-%d')).days//365\n",
    "        #chk the user's latest response for whether been to be Tokyo b4\n",
    "        colnames = ['userId', 'val_Id', 'toTko', 'tStamp']\n",
    "        dfTko = pd.read_csv('../users_been2tko.csv', sep=',', header=None, names = colnames)\n",
    "        tko = dfTko.loc[dfTko.loc[(dfTko['userId']==self.user_id)]['tStamp'].idxmax()]['toTko']\n",
    "        #chk the user's latest response for return date\n",
    "        colnames = ['userId', 'val_Id', 'rDate', 'tStamp']\n",
    "        dfRdate = pd.read_csv('../users_date_ret.csv', sep=',', header=None, names = colnames)\n",
    "        rDate = dfRdate.loc[dfRdate.loc[(dfRdate['userId']==self.user_id)]['tStamp'].idxmax()]['rDate']\n",
    "        #chk the user's latest response for departure date\n",
    "        colnames = ['userId', 'val_Id', 'dDate', 'tStamp']\n",
    "        dfDdate = pd.read_csv('../users_date_dept.csv', sep=',', header=None, names = colnames)\n",
    "        dDate = dfDdate.loc[dfDdate.loc[(dfDdate['userId']==self.user_id)]['tStamp'].idxmax()]['dDate']\n",
    "        #chk the user's latest response for flight budget\n",
    "        colnames = ['userId', 'val_Id', 'flightBudget', 'tStamp'] \n",
    "        dfFBudget = pd.read_csv('../users_flightBudget.csv', sep=',', header=None, names = colnames)\n",
    "        fBudget = dfFBudget.loc[dfFBudget.loc[(dfFBudget['userId']==self.user_id)]['tStamp'].idxmax()]['flightBudget']\n",
    "        #compute trip days for hotel and tour plan\n",
    "        tripDays = datetime.strptime(rDate, '%Y-%m-%d')-datetime.strptime(dDate, '%Y-%m-%d')\n",
    "        #chk the user's latest response for budget\n",
    "        colnames = ['userId', 'val_Id', 'budget', 'tStamp'] \n",
    "        dfb = pd.read_csv('../users_budget.csv', sep=',', header=None, names = colnames)\n",
    "        budget = dfb.loc[dfb.loc[(dfb['userId']==self.user_id)]['tStamp'].idxmax()]['budget']\n",
    "        #integrate the msg & send\n",
    "        msg_flightprefer = {'age':int(age),\n",
    "                            'been2tko':int(tko),\n",
    "                            'days':int(tripDays.days),\n",
    "                            'budget':int(budget),\n",
    "                            'isFemale':int(gen),\n",
    "                            'fbudget':int(fBudget),\n",
    "                            'dDate':str(dDate),\n",
    "                            'rDate':str(rDate)}\n",
    "        return msg_flightprefer\n",
    "    \n",
    "    def msgrestprefer(self):\n",
    "        #chk the user's latest response for gender\n",
    "        colnames = ['userId', 'val_Id', 'gender', 'tStamp']\n",
    "        dfGen = pd.read_csv('../users_gender.csv', sep=',', header=None, names = colnames)\n",
    "        gen = dfGen.loc[dfGen.loc[(dfGen['userId']==self.user_id)]['tStamp'].idxmax()]['gender']\n",
    "        #chk the user's latest response for birthday\n",
    "        colnames = ['userId', 'val_Id', 'bDate', 'tStamp']\n",
    "        dfbDate = pd.read_csv('../users_birthday.csv', sep=',', header=None, names = colnames)\n",
    "        bDate = dfbDate.loc[dfbDate.loc[(dfbDate['userId']==self.user_id)]['tStamp'].idxmax()]['bDate']\n",
    "        #compute the user's age for classification\n",
    "        age = (datetime.now()-datetime.strptime(bDate, '%Y-%m-%d')).days//365\n",
    "        #chk the user's latest response for whether been to be Tokyo b4\n",
    "        colnames = ['userId', 'val_Id', 'toTko', 'tStamp']\n",
    "        dfTko = pd.read_csv('../users_been2tko.csv', sep=',', header=None, names = colnames)\n",
    "        tko = dfTko.loc[dfTko.loc[(dfTko['userId']==self.user_id)]['tStamp'].idxmax()]['toTko']\n",
    "        #chk the user's latest response for return date\n",
    "        colnames = ['userId', 'val_Id', 'rDate', 'tStamp']\n",
    "        dfRdate = pd.read_csv('../users_date_ret.csv', sep=',', header=None, names = colnames)\n",
    "        rDate = dfRdate.loc[dfRdate.loc[(dfRdate['userId']==self.user_id)]['tStamp'].idxmax()]['rDate']\n",
    "        #chk the user's latest response for departure date\n",
    "        colnames = ['userId', 'val_Id', 'dDate', 'tStamp']\n",
    "        dfDdate = pd.read_csv('../users_date_dept.csv', sep=',', header=None, names = colnames)\n",
    "        dDate = dfDdate.loc[dfDdate.loc[(dfDdate['userId']==self.user_id)]['tStamp'].idxmax()]['dDate']\n",
    "        #chk the user's latest response for flight budget\n",
    "        colnames = ['userId', 'val_Id', 'restBudget', 'tStamp'] \n",
    "        dfrBudget = pd.read_csv('../users_restBudget.csv', sep=',', header=None, names = colnames)\n",
    "        rBudget = dfrBudget.loc[dfrBudget.loc[(dfrBudget['userId']==self.user_id)]['tStamp'].idxmax()]['restBudget']\n",
    "        #compute trip days for hotel and tour plan\n",
    "        tripDays = datetime.strptime(rDate, '%Y-%m-%d')-datetime.strptime(dDate, '%Y-%m-%d')\n",
    "        #chk the user's latest response for budget\n",
    "        colnames = ['userId', 'val_Id', 'budget', 'tStamp'] \n",
    "        dfb = pd.read_csv('../users_budget.csv', sep=',', header=None, names = colnames)\n",
    "        budget = dfb.loc[dfb.loc[(dfb['userId']==self.user_id)]['tStamp'].idxmax()]['budget']\n",
    "        #integrate the msg & send\n",
    "        # age(年齡), been2tko(旅遊次數), days(旅遊天數) , totalBudget(總預算), gender(性別 - 0:男  1:女), oneBudget(一餐預算)\n",
    "        msg_restprefer = {'age':int(age),\n",
    "                            'been2tko':int(tko),\n",
    "                            'days':int(tripDays.days),\n",
    "                            'totalBudget':int(budget),\n",
    "                            'gender':int(gen),\n",
    "                            'oneBudget':int(rBudget)}\n",
    "        return msg_restprefer\n",
    "    \n",
    "    def msghotgift(self):\n",
    "        #chk the user's latest response for gender\n",
    "        colnames = ['userId', 'val_Id', 'gender', 'tStamp']\n",
    "        dfGen = pd.read_csv('../users_gender.csv', sep=',', header=None, names = colnames)\n",
    "        gen = dfGen.loc[dfGen.loc[(dfGen['userId']==self.user_id)]['tStamp'].idxmax()]['gender']\n",
    "        #chk the user's latest response for birthday\n",
    "        colnames = ['userId', 'val_Id', 'bDate', 'tStamp']\n",
    "        dfbDate = pd.read_csv('../users_birthday.csv', sep=',', header=None, names = colnames)\n",
    "        bDate = dfbDate.loc[dfbDate.loc[(dfbDate['userId']==self.user_id)]['tStamp'].idxmax()]['bDate']\n",
    "        #compute the user's age for classification\n",
    "        age = (datetime.now()-datetime.strptime(bDate, '%Y-%m-%d')).days//365\n",
    "        #chk the user's latest response for whether been to be Tokyo b4\n",
    "        colnames = ['userId', 'val_Id', 'toTko', 'tStamp']\n",
    "        dfTko = pd.read_csv('../users_been2tko.csv', sep=',', header=None, names = colnames)\n",
    "        tko = dfTko.loc[dfTko.loc[(dfTko['userId']==self.user_id)]['tStamp'].idxmax()]['toTko']\n",
    "        #chk the user's latest response for return date\n",
    "        colnames = ['userId', 'val_Id', 'rDate', 'tStamp']\n",
    "        dfRdate = pd.read_csv('../users_date_ret.csv', sep=',', header=None, names = colnames)\n",
    "        rDate = dfRdate.loc[dfRdate.loc[(dfRdate['userId']==self.user_id)]['tStamp'].idxmax()]['rDate']\n",
    "        #chk the user's latest response for departure date\n",
    "        colnames = ['userId', 'val_Id', 'dDate', 'tStamp']\n",
    "        dfDdate = pd.read_csv('../users_date_dept.csv', sep=',', header=None, names = colnames)\n",
    "        dDate = dfDdate.loc[dfDdate.loc[(dfDdate['userId']==self.user_id)]['tStamp'].idxmax()]['dDate']\n",
    "        #compute trip days for hotel and tour plan\n",
    "        tripDays = datetime.strptime(rDate, '%Y-%m-%d')-datetime.strptime(dDate, '%Y-%m-%d')\n",
    "        #chk the user's latest response for budget\n",
    "        colnames = ['userId', 'val_Id', 'budget', 'tStamp'] \n",
    "        dfb = pd.read_csv('../users_budget.csv', sep=',', header=None, names = colnames)\n",
    "        budget = dfb.loc[dfb.loc[(dfb['userId']==self.user_id)]['tStamp'].idxmax()]['budget']\n",
    "        #integrate the msg & send\n",
    "        msg_hotgift = {'age':int(age),\n",
    "                            'been2tko':int(tko),\n",
    "                            'days':int(tripDays.days),\n",
    "                            'budget':int(budget),\n",
    "                            'isFemale':int(gen)}\n",
    "        return msg_hotgift\n",
    "    \n",
    "    def msghotel(self):\n",
    "        #chk the user's latest response for birthday\n",
    "        colnames = ['userId', 'val_Id', 'bDate', 'tStamp']\n",
    "        dfbDate = pd.read_csv('../users_birthday.csv', sep=',', header=None, names = colnames)\n",
    "        bDate = dfbDate.loc[dfbDate.loc[(dfbDate['userId']==self.user_id)]['tStamp'].idxmax()]['bDate']\n",
    "        #compute the user's age for classification\n",
    "        age = (datetime.now()-datetime.strptime(bDate, '%Y-%m-%d')).days//365\n",
    "        #chk the user's latest response for whether been to be Tokyo b4\n",
    "        colnames = ['userId', 'val_Id', 'toTko', 'tStamp']\n",
    "        dfTko = pd.read_csv('../users_been2tko.csv', sep=',', header=None, names = colnames)\n",
    "        tko = dfTko.loc[dfTko.loc[(dfTko['userId']==self.user_id)]['tStamp'].idxmax()]['toTko']\n",
    "        #chk the user's latest response for return date\n",
    "        colnames = ['userId', 'val_Id', 'rDate', 'tStamp']\n",
    "        dfRdate = pd.read_csv('../users_date_ret.csv', sep=',', header=None, names = colnames)\n",
    "        rDate = dfRdate.loc[dfRdate.loc[(dfRdate['userId']==self.user_id)]['tStamp'].idxmax()]['rDate']\n",
    "        #chk the user's latest response for departure date\n",
    "        colnames = ['userId', 'val_Id', 'dDate', 'tStamp']\n",
    "        dfDdate = pd.read_csv('../users_date_dept.csv', sep=',', header=None, names = colnames)\n",
    "        dDate = dfDdate.loc[dfDdate.loc[(dfDdate['userId']==self.user_id)]['tStamp'].idxmax()]['dDate']\n",
    "        #chk the user's latest response for flight budget\n",
    "        colnames = ['userId', 'val_Id', 'hotelBudget', 'tStamp'] \n",
    "        dfHBudget = pd.read_csv('../users_hotelBudget.csv', sep=',', header=None, names = colnames)\n",
    "        hBudget = dfHBudget.loc[dfHBudget.loc[(dfHBudget['userId']==self.user_id)]['tStamp'].idxmax()]['hotelBudget']\n",
    "        #compute trip days for hotel and tour plan\n",
    "        tripDays = datetime.strptime(rDate, '%Y-%m-%d')-datetime.strptime(dDate, '%Y-%m-%d')\n",
    "        #chk the user's latest response for budget\n",
    "        colnames = ['userId', 'val_Id', 'budget', 'tStamp'] \n",
    "        dfb = pd.read_csv('../users_budget.csv', sep=',', header=None, names = colnames)\n",
    "        budget = dfb.loc[dfb.loc[(dfb['userId']==self.user_id)]['tStamp'].idxmax()]['budget']\n",
    "        #chk the user's latest response for gender\n",
    "        colnames = ['userId', 'val_Id', 'gender', 'tStamp']\n",
    "        dfGen = pd.read_csv('../users_gender.csv', sep=',', header=None, names = colnames)\n",
    "        gen = dfGen.loc[dfGen.loc[(dfGen['userId']==self.user_id)]['tStamp'].idxmax()]['gender']\n",
    "        #integrate the msg & send\n",
    "        #hotel variables: 年齡, 去過次數, 去幾天 , 總預算, 性別-男:0；女:1, 住宿預算\n",
    "        msghotel = {'age':int(age),\n",
    "                     'been2tko':int(tko),\n",
    "                     'days':int(tripDays.days),\n",
    "                     'budget':int(budget),\n",
    "                     'isFemale':int(gen),\n",
    "                     'hotel budget':int(hBudget)}\n",
    "        return msghotel\n",
    "    \n",
    "    def msgpoi(self):\n",
    "        colnames = ['userId', 'val_Id', 'bDate', 'tStamp']\n",
    "        dfbDate = pd.read_csv('../users_birthday.csv', sep=',', header=None, names = colnames)\n",
    "        bDate = dfbDate.loc[dfbDate.loc[(dfbDate['userId']==self.user_id)]['tStamp'].idxmax()]['bDate']\n",
    "        #compute the user's age for classification\n",
    "        age = (datetime.now()-datetime.strptime(bDate, '%Y-%m-%d')).days//365\n",
    "        #chk the user's latest response for whether been to be Tokyo b4\n",
    "        colnames = ['userId', 'val_Id', 'toTko', 'tStamp']\n",
    "        dfTko = pd.read_csv('../users_been2tko.csv', sep=',', header=None, names = colnames)\n",
    "        tko = dfTko.loc[dfTko.loc[(dfTko['userId']==self.user_id)]['tStamp'].idxmax()]['toTko']\n",
    "        #chk the user's latest response for return date\n",
    "        colnames = ['userId', 'val_Id', 'rDate', 'tStamp']\n",
    "        dfRdate = pd.read_csv('../users_date_ret.csv', sep=',', header=None, names = colnames)\n",
    "        rDate = dfRdate.loc[dfRdate.loc[(dfRdate['userId']==self.user_id)]['tStamp'].idxmax()]['rDate']\n",
    "        #chk the user's latest response for departure date\n",
    "        colnames = ['userId', 'val_Id', 'dDate', 'tStamp']\n",
    "        dfDdate = pd.read_csv('../users_date_dept.csv', sep=',', header=None, names = colnames)\n",
    "        dDate = dfDdate.loc[dfDdate.loc[(dfDdate['userId']==self.user_id)]['tStamp'].idxmax()]['dDate']\n",
    "        #compute trip days for hotel and tour plan\n",
    "        tripDays = datetime.strptime(rDate, '%Y-%m-%d')-datetime.strptime(dDate, '%Y-%m-%d')\n",
    "        #chk the user's latest response for budget\n",
    "        colnames = ['userId', 'val_Id', 'budget', 'tStamp'] \n",
    "        dfb = pd.read_csv('../users_budget.csv', sep=',', header=None, names = colnames)\n",
    "        budget = dfb.loc[dfb.loc[(dfb['userId']==self.user_id)]['tStamp'].idxmax()]['budget']\n",
    "        #chk the user's latest response for gender\n",
    "        colnames = ['userId', 'val_Id', 'gender', 'tStamp']\n",
    "        dfGen = pd.read_csv('../users_gender.csv', sep=',', header=None, names = colnames)\n",
    "        gen = dfGen.loc[dfGen.loc[(dfGen['userId']==self.user_id)]['tStamp'].idxmax()]['gender']\n",
    "        #chk the user's latest response for partner\n",
    "        colnames = ['userId', 'val_Id', 'partner', 'tStamp']\n",
    "        dfp = pd.read_csv('../users_partner.csv', sep=',', header=None, names = colnames)\n",
    "        partner = dfp.loc[dfp.loc[(dfp['userId']==self.user_id)]['tStamp'].idxmax()]['partner']\n",
    "        if partner in (1,2,3,4,7):\n",
    "            with_child=0\n",
    "        else:\n",
    "            with_child=1\n",
    "        #chk the user's latest response for tour style\n",
    "        colnames = ['userId', 'val_Id', 'style', 'tStamp']\n",
    "        dfp = pd.read_csv('../users_style.csv', sep=',', header=None, names = colnames)\n",
    "        style = dfp.loc[dfp.loc[(dfp['userId']==self.user_id)]['tStamp'].idxmax()]['style']\n",
    "        #json = {'age':20,'been2tko':5,'howlong':6,'budget':50000,'isFemale':1,'with_child':0,'crampedSechedule':True}\n",
    "        #integrate the msg & send\n",
    "        msgpoi = {'age':int(age),\n",
    "                   'been2tko':int(tko),\n",
    "                   'howlong':int(tripDays.days),\n",
    "                   'budget':int(budget),\n",
    "                   'isFemale':int(gen),\n",
    "                   'with_child':int(with_child),\n",
    "                   'crampedSechedule':bool(style)}\n",
    "        return msgpoi"
   ]
  },
  {
   "cell_type": "code",
   "execution_count": 5,
   "metadata": {},
   "outputs": [],
   "source": [
    "# airplane variables: age, been2tko, 去幾天 , 總預算,is Female,機票花費\n",
    "# spot variables: age, been2tko, 去幾天 , 總預算,is Female\n",
    "# hotel variables: age, been2tko, 去幾天 , 總預算,is Female, 住宿預算¶\n",
    "# food variables: age, been2tko, 去幾天 , 總預算,is Female, 一餐預算\n",
    "# omiyage variables: age, been2tko, 去幾天 , 總預算,is Female\n",
    "# gender: female=1, male=0"
   ]
  },
  {
   "cell_type": "code",
   "execution_count": 6,
   "metadata": {},
   "outputs": [],
   "source": [
    "# Kafka preparation\n",
    "# Licensed under the Apache License, Version 2.0 (the \"License\");\n",
    "# you may not use this file except in compliance with the License.\n",
    "# You may obtain a copy of the License at\n",
    "#\n",
    "# http://www.apache.org/licenses/LICENSE-2.0\n",
    "#\n",
    "# Unless required by applicable law or agreed to in writing, software\n",
    "# distributed under the License is distributed on an \"AS IS\" BASIS,\n",
    "# WITHOUT WARRANTIES OR CONDITIONS OF ANY KIND, either express or implied.\n",
    "# See the License for the specific language governing permissions and\n",
    "# limitations under the License.\n",
    "#\n",
    "from confluent_kafka import Producer\n",
    "import sys\n",
    "from kafka import KafkaProducer\n",
    "import random, time\n",
    "\n",
    "# 用來接收從Consumer instance發出的error訊息\n",
    "def error_cb(err):\n",
    "    print('Error: %s' % err)\n",
    "    \n",
    "# 步驟1. 設定要連線到Kafka集群的相關設定\n",
    "props = {\n",
    "        # Kafka集群在那裡?\n",
    "        'bootstrap.servers': '10.128.0.10:9094',  # <-- 置換成要連接的Kafka集群\n",
    "        'error_cb': error_cb                    # 設定接收error訊息的callback函數\n",
    "}\n",
    "# 步驟2. 產生一個Kafka的Producer的實例\n",
    "producer = Producer(props)"
   ]
  },
  {
   "cell_type": "code",
   "execution_count": 7,
   "metadata": {},
   "outputs": [],
   "source": [
    "# template msg for questionnaire in customized tou\n",
    "genderTempMsg = TemplateSendMessage(\n",
    "    alt_text='Confirm template',\n",
    "    template=ConfirmTemplate(\n",
    "        text='您的性別是?',\n",
    "        actions=[\n",
    "            PostbackAction(\n",
    "                label='潮男',\n",
    "                display_text='::male:',\n",
    "                data='gender,0'),\n",
    "            PostbackAction(\n",
    "                label='靚女',\n",
    "                display_text='::female:',\n",
    "                data='gender,1')\n",
    "            \n",
    "        ]\n",
    "    )\n",
    ")\n",
    "\n",
    "styleTempMsg = TemplateSendMessage(\n",
    "    alt_text='Confirm template',\n",
    "    template=ConfirmTemplate(\n",
    "        text='您期望行程安排是...',\n",
    "        actions=[\n",
    "            PostbackAction(\n",
    "                label='緊湊',\n",
    "                display_text='::tight:',\n",
    "                data='style,1'),\n",
    "            PostbackAction(\n",
    "                label='悠閒',\n",
    "                display_text='::relaxed:',\n",
    "                data='style,0')\n",
    "            \n",
    "        ]\n",
    "    )\n",
    ")\n",
    "# profile should be saved only once in files, & be checked from next time user trigger a new journey planner\n",
    "birthdayTempMsg = TemplateSendMessage(\n",
    "    alt_text='Buttons template',\n",
    "    template=ButtonsTemplate(\n",
    "        thumbnail_image_url='https://images.unsplash.com/photo-1531956531700-dc0ee0f1f9a5?ixlib=rb-1.2.1&ixid=eyJhcHBfaWQiOjEyMDd9&auto=format&fit=crop&w=1050&q=80',\n",
    "        title='追憶似水年華',\n",
    "        text='您的出生年月日?',\n",
    "        actions=[\n",
    "            DatetimePickerAction(\n",
    "                label='請選擇出生年月日',\n",
    "                data='birthday',\n",
    "                mode='date',\n",
    "                initial=str(date.today()),\n",
    "                max=str(date.today()),\n",
    "                min=str(date.today()-timedelta(days=36525)))\n",
    "        ]\n",
    "    )\n",
    ")\n",
    "\n",
    "\n",
    "deptDateTempMsg = TemplateSendMessage(\n",
    "    alt_text='Buttons template',\n",
    "    template=ButtonsTemplate(\n",
    "        thumbnail_image_url='https://cdn.pixabay.com/photo/2013/11/24/19/55/eagle-217591_1280.jpg',\n",
    "        title='休息是為了不要再走路呢',\n",
    "        text='出去，現在',\n",
    "        actions=[\n",
    "            DatetimePickerAction(\n",
    "                label='出發日期',\n",
    "                data='deptDate',\n",
    "                mode='date',\n",
    "                initial=str(date.today()),\n",
    "                max=str(date.today()+timedelta(days=365)),\n",
    "                min=str(date.today()))\n",
    "        ]\n",
    "    )\n",
    ")\n",
    "\n",
    "retDateTempMsg = TemplateSendMessage(\n",
    "    alt_text='Buttons template',\n",
    "    template=ButtonsTemplate(\n",
    "        thumbnail_image_url='https://cdn.pixabay.com/photo/2016/02/07/21/19/hahn-1185703_1280.jpg',\n",
    "        title='回家則是因為發現$用完了呢',\n",
    "        text='返家潮正夯',\n",
    "        actions=[\n",
    "            DatetimePickerAction(\n",
    "                label='回國日期',\n",
    "                data='retDate',\n",
    "                mode='date',\n",
    "                initial=str(date.today()+timedelta(days=1)),\n",
    "                max=str(date.today()+timedelta(days=365)),\n",
    "                min=str(str(date.today()+timedelta(days=1))))]))\n",
    "\n",
    "# get to know the size & type of travel group\n",
    "AccTempMsg = TemplateSendMessage(\n",
    "    alt_text='Carousel template',\n",
    "    template=CarouselTemplate(\n",
    "        columns=[\n",
    "            CarouselColumn(\n",
    "                thumbnail_image_url='https://cdn.pixabay.com/photo/2012/02/27/15/36/africa-17344_1280.jpg',\n",
    "                title='人對了，風景都美了',\n",
    "                text='請問您預定跟誰去東京旅遊呢?',\n",
    "                actions=[\n",
    "                    PostbackAction(\n",
    "                        label='單獨',\n",
    "                        display_text='alone',\n",
    "                        data='partner,1'\n",
    "                    ),\n",
    "                    PostbackAction(\n",
    "                        label='情侶',\n",
    "                        display_text='couple',\n",
    "                        data='partner,2'\n",
    "                    ),\n",
    "                    PostbackAction(\n",
    "                        label='爸媽或長輩和我',\n",
    "                        display_text='dad&mom',\n",
    "                        data='partner,3'\n",
    "                    )\n",
    "                ]\n",
    "            ),\n",
    "            CarouselColumn(\n",
    "                thumbnail_image_url='https://cdn.pixabay.com/photo/2017/11/06/15/30/elephant-2923917_1280.jpg',\n",
    "                title='接續上題',\n",
    "                text='其他選項',\n",
    "                actions=[\n",
    "                    PostbackAction(\n",
    "                        label='與配偶兩人',\n",
    "                        display_text='wife&husband',\n",
    "                        data='partner,4'\n",
    "                    ),\n",
    "                    PostbackAction(\n",
    "                        label='配偶+小孩共3人以上',\n",
    "                        display_text='coreFamily',\n",
    "                        data='partner,5'\n",
    "                    ),\n",
    "                    PostbackAction(\n",
    "                        label='配偶，小孩以及長輩',\n",
    "                        display_text='family',\n",
    "                        data='partner,6'\n",
    "                    )\n",
    "                ]\n",
    "            ),\n",
    "            CarouselColumn(\n",
    "                thumbnail_image_url='https://cdn.pixabay.com/photo/2018/05/06/21/41/sheep-3379578_1280.jpg',\n",
    "                title='接續上題',\n",
    "                text='其他選項',\n",
    "                actions=[\n",
    "                    PostbackAction(\n",
    "                        label='跟同事，同學或好友一起',\n",
    "                        display_text='group',\n",
    "                        data='partner,7'\n",
    "                    ),\n",
    "                    PostbackAction(\n",
    "                        label='其他',\n",
    "                        display_text='group',\n",
    "                        data='partner,8'\n",
    "                    ),\n",
    "                    PostbackAction(\n",
    "                        label='其他',\n",
    "                        display_text='others',\n",
    "                        data='partner,8'\n",
    "                    )\n",
    "                ]\n",
    "            )\n",
    "        ]\n",
    "    )\n",
    ")\n",
    "\n",
    "faqTempMsg = TemplateSendMessage(\n",
    "    alt_text='Buttons template',\n",
    "    template=ButtonsTemplate(\n",
    "        thumbnail_image_url='https://images.unsplash.com/photo-1558647913-d1c0e5d478fa?ixlib=rb-1.2.1&ixid=eyJhcHBfaWQiOjEyMDd9&auto=format&fit=crop&w=1050&q=80',\n",
    "        title='疑難排解FAQ',\n",
    "        text='你為什麼不問問神奇海螺呢?',\n",
    "        actions=[\n",
    "            PostbackAction(\n",
    "                label='更新旅遊資料',\n",
    "                data='update'\n",
    "            ),\n",
    "            PostbackAction(\n",
    "                label='確認旅遊資料',\n",
    "                data='check'\n",
    "            ),\n",
    "            PostbackAction(\n",
    "                label='智遊行使用說明',\n",
    "                data='manual'\n",
    "            )\n",
    "        ]\n",
    "    )\n",
    ")\n",
    "\n",
    "poiTempMsg = TemplateSendMessage(\n",
    "    alt_text='Confirm template',\n",
    "    template=ConfirmTemplate(\n",
    "        text='您需要的是',\n",
    "        actions=[\n",
    "            PostbackAction(\n",
    "                label='景點推薦',\n",
    "                data='poiPush'),\n",
    "            PostbackAction(\n",
    "                label='景點辨識結果',\n",
    "                data='poiRecg')\n",
    "            \n",
    "        ]\n",
    "    )\n",
    ")"
   ]
  },
  {
   "cell_type": "code",
   "execution_count": 8,
   "metadata": {},
   "outputs": [],
   "source": [
    "# 消息清單\n",
    "reply_message_list = [\n",
    "    StickerSendMessage(package_id='11537',sticker_id='52002736'),\n",
    "    genderTempMsg\n",
    "]"
   ]
  },
  {
   "cell_type": "code",
   "execution_count": 9,
   "metadata": {},
   "outputs": [],
   "source": [
    "'''撰寫用戶關注時，我們要處理的商業邏輯\n",
    "1. 取得用戶個資，並存回伺服器\n",
    "2. 把先前製作好的自定義菜單，與用戶做綁定\n",
    "3. 回應用戶，歡迎用的文字消息與圖片消息'''\n",
    "# 載入Follow事件\n",
    "from linebot.models.events import (\n",
    "    FollowEvent\n",
    ")\n",
    "# 載入requests套件\n",
    "import requests\n",
    "# 告知handler，如果收到FollowEvent，則做下面的方法處理\n",
    "@handler.add(FollowEvent)\n",
    "def reply_text_and_get_user_profile(event):\n",
    "    # 取出消息內User的資料\n",
    "    user_profile = line_bot_api.get_profile(event.source.user_id)\n",
    "     # 將用戶資訊存在檔案內\n",
    "    with open(\"../users_log\", \"a\") as myfile:\n",
    "        myfile.write(str(user_profile.user_id)+','+str(user_profile.display_name)+','+str(event.timestamp))\n",
    "        myfile.write('\\r\\n')\n",
    "    # 將菜單綁定在用戶身上\n",
    "#    linkRichMenuId=secretFileContentJson.get(\"rich_menu_id\")\n",
    "#    linkMenuEndpoint='https://api.line.me/v2/bot/user/%s/richmenu/%s' % (event.source.user_id, linkRichMenuId)\n",
    "#    linkMenuRequestHeader={'Content-Type':'image/jpeg','Authorization':'Bearer %s' % secretFileContentJson[\"channel_access_token\"]}\n",
    "#    lineLinkMenuResponse=requests.post(linkMenuEndpoint,headers=linkMenuRequestHeader)\n",
    "    line_bot_api.link_rich_menu_to_user(event.source.user_id,\"richmenu-31cb1ce4af5f0053bd7637939d949577\")\n",
    "    # 回覆文字消息與圖片消息\n",
    "    line_bot_api.reply_message(\n",
    "        event.reply_token,\n",
    "        reply_message_list\n",
    "    )\n",
    "    print(user_profile.display_name)\n",
    "    print(user_profile.user_id)\n",
    "    print(user_profile.picture_url)\n",
    "    print(user_profile.status_message)"
   ]
  },
  {
   "cell_type": "code",
   "execution_count": 10,
   "metadata": {},
   "outputs": [],
   "source": [
    "'''將素材消息做成一本字典，當用戶發出相應消息時，可從此進行查找動作。'''\n",
    "template_message_dict = {\n",
    "    \"text\": reply_message_list\n",
    "}"
   ]
  },
  {
   "cell_type": "code",
   "execution_count": 11,
   "metadata": {},
   "outputs": [],
   "source": [
    "'''當用戶發出文字消息時，判斷文字內容是否包含[::text:]，\n",
    "    若有，則從template_message_dict 內找出相關訊息\n",
    "    若無，則回傳預設訊息。'''\n",
    "# 用戶發出文字消息時， 按條件內容, 回傳文字消息\n",
    "@handler.add(MessageEvent, message=TextMessage)\n",
    "def handle_message(event):\n",
    "    if(event.message.text.find('text')!= -1):\n",
    "        line_bot_api.reply_message(\n",
    "        event.reply_token,\n",
    "        reply_message_list)\n",
    "    else:\n",
    "        line_bot_api.reply_message(\n",
    "        event.reply_token,\n",
    "        TextSendMessage(text=\"請點擊菜單上圖面，取得更多幫助\"))"
   ]
  },
  {
   "cell_type": "code",
   "execution_count": 12,
   "metadata": {},
   "outputs": [],
   "source": [
    "'''若收到圖片消息時，先回覆用戶文字消息，並從Line上將照片拿回。'''\n",
    "@handler.add(MessageEvent, message=ImageMessage)\n",
    "def handle_message(event):\n",
    "    print('pic received')\n",
    "    picmsgli=[\n",
    "        StickerSendMessage(package_id='11537',sticker_id='52002756'),\n",
    "        TextMessage(text='圖片已上傳，AI小夥伴正全力解析中!還請稍待5秒後至\"圖文選單\">\"人氣景點\">\"景點辨識結果\"查詢，謝謝您!')\n",
    "    ]\n",
    "    user_profile = line_bot_api.get_profile(event.source.user_id)\n",
    "    line_bot_api.reply_message(event.reply_token,\n",
    "                               picmsgli)\n",
    "    message_content = line_bot_api.get_message_content(event.message.id)\n",
    "    with open('../images/'+str(event.message.id)+str(event.timestamp)+str(user_profile.user_id)+'.jpg', 'wb') as fd:\n",
    "        for chunk in message_content.iter_content():\n",
    "            fd.write(chunk)\n",
    "    with open('../images/'+str(event.message.id)+str(event.timestamp)+str(user_profile.user_id)+'.jpg', 'rb') as fd:\n",
    "        files = {'image': fd.read()}\n",
    "        req = requests.post('http://10.128.0.9:5000/',  files=files).json()\n",
    "        print(req)\n",
    "    with open(\"../users_pics.csv\", \"a\") as myfile:\n",
    "        for i in req:\n",
    "            myfile.write(str(user_profile.user_id)+','+i+','+str(req[i])+','+str(event.timestamp))\n",
    "            myfile.write('\\r\\n')\n",
    "    print(str(user_profile.user_id)+','+\n",
    "          str(event.message.id)+','+\n",
    "          str(event.message.type)+','+\n",
    "          str(event.message.content_provider)+','+\n",
    "          str(event.timestamp))"
   ]
  },
  {
   "cell_type": "code",
   "execution_count": 13,
   "metadata": {},
   "outputs": [],
   "source": [
    "'''設定一個Server入口，當有人訪問此入口，會對用戶進行消息推播,將上面設計的imagemap消息，推播給用戶'''\n",
    "@app.route(\"/pushMessage\", methods=['GET'])\n",
    "def push_message():\n",
    "    \n",
    "    json_object_strings = open(\"../users.txt\",'r')\n",
    "    json_array = []\n",
    "    user_id_array = []\n",
    "    \n",
    "    for json_object_string in json_object_strings:\n",
    "        json_object = json.loads(json_object_string)\n",
    "        json_array.append(json_object)\n",
    "    \n",
    "    for user_record in json_array:\n",
    "        user_id_array.append(user_record.get(\"user_id\"))\n",
    "    \n",
    "    line_bot_api.multicast(\n",
    "        user_id_array,\n",
    "        TextMessage(text='')\n",
    "    )\n",
    "\n",
    "    return 'OK'"
   ]
  },
  {
   "cell_type": "code",
   "execution_count": 14,
   "metadata": {},
   "outputs": [],
   "source": [
    "'''準備QuickReply的Button'''\n",
    "# 創建QuickReplyButton \n",
    "## 點擊後，以用戶身份發送文字消息\n",
    "## MessageAction\n",
    "textQuickReplyButton = QuickReplyButton(\n",
    "    action=MessageAction(\n",
    "        label=\"發送文字消息\", \n",
    "        text=\"text2\"\n",
    "    )\n",
    ")\n",
    "## 點擊後，彈跳出選擇時間之視窗\n",
    "## DatetimePickerAction\n",
    "dateQuickReplyButton = QuickReplyButton(\n",
    "    action=DatetimePickerAction(\n",
    "        label=\"時間選擇\",\n",
    "        data=\"data3\",                       \n",
    "        mode=\"date\"\n",
    "    )\n",
    ")\n",
    "## 點擊後，開啟相機\n",
    "## CameraAction\n",
    "cameraQuickReplyButton = QuickReplyButton(\n",
    "    action=CameraAction(label=\"拍照\")\n",
    ")\n",
    "## 點擊後，切換至照片相簿選擇\n",
    "cameraRollQRB = QuickReplyButton(\n",
    "    action=CameraRollAction(label=\"選擇照片\")\n",
    ")\n",
    "## 點擊後，跳出地理位置\n",
    "locationQRB = QuickReplyButton(\n",
    "    action=LocationAction(label=\"地理位置\")\n",
    ")\n",
    "## 點擊後，以Postback事件回應Server \n",
    "postbackQRB = QuickReplyButton(\n",
    "    action=PostbackAction(label=\"我是PostbackEvent\", data=\"data1\")\n",
    ")"
   ]
  },
  {
   "cell_type": "code",
   "execution_count": 15,
   "metadata": {},
   "outputs": [],
   "source": [
    "'''以QuickReply封裝該些QuickReply Button'''\n",
    "## 設計QuickReplyButton的List\n",
    "quickReplyList = QuickReply(\n",
    "    items = [textQuickReplyButton, dateQuickReplyButton, cameraQuickReplyButton, cameraRollQRB, locationQRB,postbackQRB]\n",
    ")"
   ]
  },
  {
   "cell_type": "code",
   "execution_count": 16,
   "metadata": {},
   "outputs": [],
   "source": [
    "'''製作TextSendMessage，並將剛封裝的QuickReply放入'''\n",
    "## 將quickReplyList 塞入TextSendMessage 中 \n",
    "from linebot.models import (\n",
    "    TextSendMessage,\n",
    ")\n",
    "quickReplyTextSendMessage = TextSendMessage(text='發送問題給用戶，請用戶回答', quick_reply=quickReplyList)"
   ]
  },
  {
   "cell_type": "code",
   "execution_count": 17,
   "metadata": {},
   "outputs": [],
   "source": [
    "'''設計一個字典'''\n",
    "template_message_dict = {\n",
    "    \"[::text:]reply\":quickReplyTextSendMessage\n",
    "}"
   ]
  },
  {
   "cell_type": "code",
   "execution_count": 18,
   "metadata": {},
   "outputs": [],
   "source": [
    "'''用戶發送文字消息時，會按此進行消息處理'''\n",
    "# 用戶發出文字消息時， 按條件內容, 回傳合適消息\n",
    "@handler.add(MessageEvent, message=TextMessage)\n",
    "def handle_message(event):\n",
    "    line_bot_api.reply_message(\n",
    "        event.reply_token,\n",
    "        template_message_dict.get(event.message.text)\n",
    "    )"
   ]
  },
  {
   "cell_type": "code",
   "execution_count": 19,
   "metadata": {},
   "outputs": [],
   "source": [
    "'''Flex Message Bubble的原稿Json開發者以後可將Bubble類型的Flex消息Json，對此處進行更換。'''\n",
    "flexBubbleContainerJsonString =\"\"\"\n",
    "{\n",
    "  \"type\": \"bubble\",\n",
    "  \"header\": {\n",
    "    \"type\": \"box\",\n",
    "    \"layout\": \"horizontal\",\n",
    "    \"contents\": [\n",
    "      {\n",
    "        \"type\": \"text\",\n",
    "        \"text\": \"NEWS DIGEST\",\n",
    "        \"weight\": \"bold\",\n",
    "        \"color\": \"#aaaaaa\",\n",
    "        \"size\": \"sm\"\n",
    "      }\n",
    "    ]\n",
    "  },\n",
    "  \"hero\": {\n",
    "    \"type\": \"image\",\n",
    "    \"url\": \"https://scdn.line-apps.com/n/channel_devcenter/img/fx/01_4_news.png\",\n",
    "    \"size\": \"full\",\n",
    "    \"aspectRatio\": \"20:13\",\n",
    "    \"aspectMode\": \"cover\",\n",
    "    \"action\": {\n",
    "      \"type\": \"uri\",\n",
    "      \"uri\": \"http://linecorp.com/\"\n",
    "    }\n",
    "  },\n",
    "  \"body\": {\n",
    "    \"type\": \"box\",\n",
    "    \"layout\": \"horizontal\",\n",
    "    \"spacing\": \"md\",\n",
    "    \"contents\": [\n",
    "      {\n",
    "        \"type\": \"box\",\n",
    "        \"layout\": \"vertical\",\n",
    "        \"flex\": 1,\n",
    "        \"contents\": [\n",
    "          {\n",
    "            \"type\": \"image\",\n",
    "            \"url\": \"https://scdn.line-apps.com/n/channel_devcenter/img/fx/02_1_news_thumbnail_1.png\",\n",
    "            \"aspectMode\": \"cover\",\n",
    "            \"aspectRatio\": \"4:3\",\n",
    "            \"size\": \"sm\",\n",
    "            \"gravity\": \"bottom\"\n",
    "          },\n",
    "          {\n",
    "            \"type\": \"image\",\n",
    "            \"url\": \"https://scdn.line-apps.com/n/channel_devcenter/img/fx/02_1_news_thumbnail_2.png\",\n",
    "            \"aspectMode\": \"cover\",\n",
    "            \"aspectRatio\": \"4:3\",\n",
    "            \"margin\": \"md\",\n",
    "            \"size\": \"sm\"\n",
    "          }\n",
    "        ]\n",
    "      },\n",
    "      {\n",
    "        \"type\": \"box\",\n",
    "        \"layout\": \"vertical\",\n",
    "        \"flex\": 2,\n",
    "        \"contents\": [\n",
    "          {\n",
    "            \"type\": \"text\",\n",
    "            \"text\": \"7 Things to Know for Today\",\n",
    "            \"gravity\": \"top\",\n",
    "            \"size\": \"xs\",\n",
    "            \"flex\": 1\n",
    "          },\n",
    "          {\n",
    "            \"type\": \"separator\"\n",
    "          },\n",
    "          {\n",
    "            \"type\": \"text\",\n",
    "            \"text\": \"Hay fever goes wild\",\n",
    "            \"gravity\": \"center\",\n",
    "            \"size\": \"xs\",\n",
    "            \"flex\": 2\n",
    "          },\n",
    "          {\n",
    "            \"type\": \"separator\"\n",
    "          },\n",
    "          {\n",
    "            \"type\": \"text\",\n",
    "            \"text\": \"LINE Pay Begins Barcode Payment Service\",\n",
    "            \"gravity\": \"center\",\n",
    "            \"size\": \"xs\",\n",
    "            \"flex\": 2\n",
    "          },\n",
    "          {\n",
    "            \"type\": \"separator\"\n",
    "          },\n",
    "          {\n",
    "            \"type\": \"text\",\n",
    "            \"text\": \"LINE Adds LINE Wallet\",\n",
    "            \"gravity\": \"bottom\",\n",
    "            \"size\": \"xs\",\n",
    "            \"flex\": 1\n",
    "          }\n",
    "        ]\n",
    "      }\n",
    "    ]\n",
    "  },\n",
    "  \"footer\": {\n",
    "    \"type\": \"box\",\n",
    "    \"layout\": \"horizontal\",\n",
    "    \"contents\": [\n",
    "      {\n",
    "        \"type\": \"button\",\n",
    "        \"action\": {\n",
    "          \"type\": \"uri\",\n",
    "          \"label\": \"More\",\n",
    "          \"uri\": \"https://linecorp.com\"\n",
    "        }\n",
    "      }\n",
    "    ]\n",
    "  }\n",
    "}\"\"\""
   ]
  },
  {
   "cell_type": "code",
   "execution_count": 20,
   "metadata": {},
   "outputs": [],
   "source": [
    "'''將bubble類型的json 進行轉換變成 Python可理解之類型物件,將該物件封裝進 Flex Message中'''\n",
    "import json\n",
    "bubbleContainer= BubbleContainer.new_from_json_dict(json.loads(flexBubbleContainerJsonString))\n",
    "flexBubbleSendMessage =  FlexSendMessage(alt_text=\"hello\", contents=bubbleContainer)"
   ]
  },
  {
   "cell_type": "code",
   "execution_count": 21,
   "metadata": {},
   "outputs": [],
   "source": [
    "'''設計一個Carousel Flex'''\n",
    "flexCarouselContainerJsonDict = \"\"\"\n",
    "{\n",
    "  \"type\": \"carousel\",\n",
    "  \"contents\": [\n",
    "    {\n",
    "      \"type\": \"bubble\",\n",
    "      \"hero\": {\n",
    "        \"type\": \"image\",\n",
    "        \"size\": \"full\",\n",
    "        \"aspectRatio\": \"20:13\",\n",
    "        \"aspectMode\": \"cover\",\n",
    "        \"url\": \"https://scdn.line-apps.com/n/channel_devcenter/img/fx/01_5_carousel.png\"\n",
    "      },\n",
    "      \"body\": {\n",
    "        \"type\": \"box\",\n",
    "        \"layout\": \"vertical\",\n",
    "        \"spacing\": \"sm\",\n",
    "        \"contents\": [\n",
    "          {\n",
    "            \"type\": \"text\",\n",
    "            \"text\": \"Arm Chair, White\",\n",
    "            \"wrap\": true,\n",
    "            \"weight\": \"bold\",\n",
    "            \"size\": \"xl\"\n",
    "          },\n",
    "          {\n",
    "            \"type\": \"box\",\n",
    "            \"layout\": \"baseline\",\n",
    "            \"contents\": [\n",
    "              {\n",
    "                \"type\": \"text\",\n",
    "                \"text\": \"$49\",\n",
    "                \"wrap\": true,\n",
    "                \"weight\": \"bold\",\n",
    "                \"size\": \"xl\",\n",
    "                \"flex\": 0\n",
    "              },\n",
    "              {\n",
    "                \"type\": \"text\",\n",
    "                \"text\": \".99\",\n",
    "                \"wrap\": true,\n",
    "                \"weight\": \"bold\",\n",
    "                \"size\": \"sm\",\n",
    "                \"flex\": 0\n",
    "              }\n",
    "            ]\n",
    "          }\n",
    "        ]\n",
    "      },\n",
    "      \"footer\": {\n",
    "        \"type\": \"box\",\n",
    "        \"layout\": \"vertical\",\n",
    "        \"spacing\": \"sm\",\n",
    "        \"contents\": [\n",
    "          {\n",
    "            \"type\": \"button\",\n",
    "            \"style\": \"primary\",\n",
    "            \"action\": {\n",
    "              \"type\": \"uri\",\n",
    "              \"label\": \"Add to Cart\",\n",
    "              \"uri\": \"https://linecorp.com\"\n",
    "            }\n",
    "          },\n",
    "          {\n",
    "            \"type\": \"button\",\n",
    "            \"action\": {\n",
    "              \"type\": \"uri\",\n",
    "              \"label\": \"Add to wishlist\",\n",
    "              \"uri\": \"https://linecorp.com\"\n",
    "            }\n",
    "          }\n",
    "        ]\n",
    "      }\n",
    "    },\n",
    "    {\n",
    "      \"type\": \"bubble\",\n",
    "      \"hero\": {\n",
    "        \"type\": \"image\",\n",
    "        \"size\": \"full\",\n",
    "        \"aspectRatio\": \"20:13\",\n",
    "        \"aspectMode\": \"cover\",\n",
    "        \"url\": \"https://scdn.line-apps.com/n/channel_devcenter/img/fx/01_6_carousel.png\"\n",
    "      },\n",
    "      \"body\": {\n",
    "        \"type\": \"box\",\n",
    "        \"layout\": \"vertical\",\n",
    "        \"spacing\": \"sm\",\n",
    "        \"contents\": [\n",
    "          {\n",
    "            \"type\": \"text\",\n",
    "            \"text\": \"Metal Desk Lamp\",\n",
    "            \"wrap\": true,\n",
    "            \"weight\": \"bold\",\n",
    "            \"size\": \"xl\"\n",
    "          },\n",
    "          {\n",
    "            \"type\": \"box\",\n",
    "            \"layout\": \"baseline\",\n",
    "            \"flex\": 1,\n",
    "            \"contents\": [\n",
    "              {\n",
    "                \"type\": \"text\",\n",
    "                \"text\": \"$11\",\n",
    "                \"wrap\": true,\n",
    "                \"weight\": \"bold\",\n",
    "                \"size\": \"xl\",\n",
    "                \"flex\": 0\n",
    "              },\n",
    "              {\n",
    "                \"type\": \"text\",\n",
    "                \"text\": \".99\",\n",
    "                \"wrap\": true,\n",
    "                \"weight\": \"bold\",\n",
    "                \"size\": \"sm\",\n",
    "                \"flex\": 0\n",
    "              }\n",
    "            ]\n",
    "          },\n",
    "          {\n",
    "            \"type\": \"text\",\n",
    "            \"text\": \"Temporarily out of stock\",\n",
    "            \"wrap\": true,\n",
    "            \"size\": \"xxs\",\n",
    "            \"margin\": \"md\",\n",
    "            \"color\": \"#ff5551\",\n",
    "            \"flex\": 0\n",
    "          }\n",
    "        ]\n",
    "      },\n",
    "      \"footer\": {\n",
    "        \"type\": \"box\",\n",
    "        \"layout\": \"vertical\",\n",
    "        \"spacing\": \"sm\",\n",
    "        \"contents\": [\n",
    "          {\n",
    "            \"type\": \"button\",\n",
    "            \"flex\": 2,\n",
    "            \"style\": \"primary\",\n",
    "            \"color\": \"#aaaaaa\",\n",
    "            \"action\": {\n",
    "              \"type\": \"uri\",\n",
    "              \"label\": \"Add to Cart\",\n",
    "              \"uri\": \"https://linecorp.com\"\n",
    "            }\n",
    "          },\n",
    "          {\n",
    "            \"type\": \"button\",\n",
    "            \"action\": {\n",
    "              \"type\": \"uri\",\n",
    "              \"label\": \"Add to wish list\",\n",
    "              \"uri\": \"https://linecorp.com\"\n",
    "            }\n",
    "          }\n",
    "        ]\n",
    "      }\n",
    "    },\n",
    "    {\n",
    "      \"type\": \"bubble\",\n",
    "      \"body\": {\n",
    "        \"type\": \"box\",\n",
    "        \"layout\": \"vertical\",\n",
    "        \"spacing\": \"sm\",\n",
    "        \"contents\": [\n",
    "          {\n",
    "            \"type\": \"button\",\n",
    "            \"flex\": 1,\n",
    "            \"gravity\": \"center\",\n",
    "            \"action\": {\n",
    "              \"type\": \"uri\",\n",
    "              \"label\": \"See more\",\n",
    "              \"uri\": \"https://linecorp.com\"\n",
    "            }\n",
    "          }\n",
    "        ]\n",
    "      }\n",
    "    }\n",
    "  ]\n",
    "}\n",
    "\n",
    "\"\"\""
   ]
  },
  {
   "cell_type": "code",
   "execution_count": 22,
   "metadata": {},
   "outputs": [],
   "source": [
    "'''將carousel類型的json 進行轉換變成 Python可理解之類型物件封裝進Flex Message中'''\n",
    "carouselContent = CarouselContainer.new_from_json_dict(json.loads(flexCarouselContainerJsonDict))\n",
    "flexCarouselSendMeesage =  FlexSendMessage(alt_text=\"hello\", contents=carouselContent)"
   ]
  },
  {
   "cell_type": "code",
   "execution_count": 23,
   "metadata": {},
   "outputs": [],
   "source": [
    "# 創建QuickReplyButton \n",
    "## 點擊後，以用戶身份發送文字消息\n",
    "## MessageAction\n",
    "## 點擊後，以Postback事件回應Server \n",
    "#budgetPBQRB = QuickReplyButton(action=MessageAction(label=\"格式為::預算金額:，輸入完後按此按鈕\", text=\"::budget:\"))\n",
    "#budgetQRTSM = TextSendMessage(text='請輸入此行總預算:新台幣整數', quick_reply=QuickReply(items=[budgetPBQRB]))"
   ]
  },
  {
   "cell_type": "code",
   "execution_count": 24,
   "metadata": {},
   "outputs": [],
   "source": [
    "'''設計一個字典\n",
    "當用戶輸入carousel，回傳 旋轉類型的Flex消息\n",
    "當用戶輸入bubble， 回傳 泡泡堆疊類型的Flex消息\n",
    "'''\n",
    "faq_msg_list = [\n",
    "    StickerSendMessage(package_id='11537',sticker_id='52002744'),\n",
    "    TextSendMessage(text='欲輸入東京地名關鍵字的話，格式為$地名，如$淺草；\\n\\n欲查詢疑難排解的話，格式為..問題，如..我身上已經沒有現金了，該怎麼處理?；\\n\\n若您想更新旅遊資訊，還請輸入::update:')\n",
    "]"
   ]
  },
  {
   "cell_type": "code",
   "execution_count": 25,
   "metadata": {},
   "outputs": [],
   "source": [
    "'''用戶發送文字消息時，會按此進行消息處理'''\n",
    "# 用戶發出文字消息時， 按條件內容, 回傳合適消息\n",
    "mantext = ('若欲辨別景點照片，請直接上傳照片即可；\\n若欲輸入預算，格式為$總預算$機票來回人均$每晚住宿$每餐人均，如$50000$16000$3200$500；\\n欲查詢疑難排解的話，格式為..問題，如..我身上已經沒有現金了，該怎麼處理?；\\n最後，如果發現無法使用各功能的話，還請確認與更新您的個人旅遊資訊喔，謝謝您!')\n",
    "@handler.add(MessageEvent, message=TextMessage)\n",
    "def handle_message(event):\n",
    "    user_profile = line_bot_api.get_profile(event.source.user_id)\n",
    "    mt = event.message.text\n",
    "    try:\n",
    "        if mt == \"::tripStart:\":\n",
    "            #deal w/ flight ticket\n",
    "            msgflightprefer = MsgToBackend(str(user_profile.user_id)).msgflightprefer()\n",
    "            print(msgflightprefer)\n",
    "            req = requests.post('http://127.0.0.1:5003/',json = msgflightprefer).json()\n",
    "            print(req)\n",
    "            rWkday = datetime.isoweekday(datetime.strptime(msgflightprefer['rDate'], '%Y-%m-%d'))\n",
    "            if rWkday == 1:\n",
    "                print('bk by mon')\n",
    "                rwkd = 'mo'\n",
    "            elif rWkday == 2:\n",
    "                rwkd = 'tu'\n",
    "                print('bk by tue')\n",
    "            elif rWkday == 3:\n",
    "                rwkd = 'we'\n",
    "                print('bk by wed')\n",
    "            elif rWkday == 4:\n",
    "                rwkd = 'th'\n",
    "                print('bk by thu')\n",
    "            elif rWkday == 5:\n",
    "                rwkd = 'fr'\n",
    "                print('bk by fri')\n",
    "            elif rWkday == 6:\n",
    "                rwkd = 'sa'\n",
    "                print('bk by sat')\n",
    "            else:\n",
    "                rwkd = 'su'\n",
    "                print('bk by sun')\n",
    "            flighttext=('讓您久等了。\\n依據您的偏好分析，最適合您的航班為'+\n",
    "                        req['airline']+'，參考價格為NTD$'+\n",
    "                        str(req['price'])+'。\\n\\n出發起飛時間為(台北)'+msgflightprefer['dDate']+'('+\n",
    "                        str(req['date_format(etd,\"%a\")'])+') '+\n",
    "                        str(req['time_format(etd,\"%T\")'])+'，需時'+\n",
    "                        str(req['time_format(sec_to_time(dur),\"%T\")'])+\n",
    "                        '，抵達時間為(東京)'+msgflightprefer['dDate']+'('+\n",
    "                        str(req['date_format(eta,\"%a\")'])+') '+\n",
    "                        str(req['time_format(eta,\"%T\")'])+\n",
    "                        '。\\n\\n回國起飛時間為(東京)'+msgflightprefer['rDate']+'('+\n",
    "                        str(req['date_format('+rwkd+'Etd,\"%a\")'])+') '+\n",
    "                        str(req['time_format('+rwkd+'Etd,\"%T\")'])+'，需時'+\n",
    "                        str(req['time_format(sec_to_time('+rwkd+'Dur),\"%T\")'])+\n",
    "                        '，抵達時間為(台北)'+msgflightprefer['rDate']+'('+\n",
    "                        str(req['date_format('+rwkd+'Eta,\"%a\")'])+') '+\n",
    "                        str(req['time_format('+rwkd+'Eta,\"%T\")'])+'。\\n---------------\\n')\n",
    "            \n",
    "            msgpoi = MsgToBackend(str(user_profile.user_id)).msgpoi()\n",
    "            print(msgpoi)\n",
    "            reqP = requests.post('http://127.0.0.1:5007/',json = msgpoi)\n",
    "            reqP.encoding='utf-8'\n",
    "            reqP = reqP.json()\n",
    "            print(reqP)\n",
    "            msghotel = MsgToBackend(str(user_profile.user_id)).msghotel()\n",
    "            print(msghotel)\n",
    "            reqH = requests.post('http://127.0.0.1:5008/',json = msghotel).json()\n",
    "            print(reqH)\n",
    "            hoteltext=('\\n\\n最適合您的飯店為\\n'+\n",
    "                        str(reqH['飯店名稱'])+'，'+\n",
    "                        str(int(reqH['星等']))+'顆星，用戶評價'+\n",
    "                        str(reqH['評價'])+'/5，\\n每晚參考價格為NTD$'+\n",
    "                        str(int(reqH['價格']))+'。\\n地址為'+\n",
    "                        str(reqH['地址'])+'。\\n\\n鄰近地鐵站：\\n'+\n",
    "                        str(reqH['交通1'])+'，\\n'+\n",
    "                        str(reqH['交通2'])+'。\\n\\n附近景點：\\n'+\n",
    "                        str(reqH['鄰近景點1'])+'，\\n'+\n",
    "                        str(reqH['鄰近景點2'])+'，\\n'+\n",
    "                        str(reqH['鄰近景點3'])+'。'\n",
    "                       )\n",
    "            \n",
    "            msgrestprefer = MsgToBackend(str(user_profile.user_id)).msgrestprefer()\n",
    "            print(msgrestprefer)\n",
    "            reqR = requests.post('http://127.0.0.1:5009/',json = msgrestprefer).json()\n",
    "            print(reqR)\n",
    "            restwelcome='讓您久等了，最適合您的餐廳如下列：\\n\\n'\n",
    "            restlist=''\n",
    "            for i in reqR:\n",
    "                rest_text=(\n",
    "                    str(i['store_nm_jp'])+'，'+\n",
    "                    str(i['rest_rating'])+'顆星'+'\\n餐飲型態為'+\n",
    "                    str(i['rest_catg'])+'\\n用餐約需'+\n",
    "                    str(i['meal_duration'])+'小時\\n參考價格為\\n午餐NTD$'+\n",
    "                    str(i['prices_lunch'])+'\\n晚餐NTD$'+\n",
    "                    str(i['prices_dinner'])+'\\n地址為\\n'+\n",
    "                    str(i['rest_addr'])+'\\n---------------\\n'\n",
    "                )\n",
    "                restlist+=rest_text\n",
    "                \n",
    "            hotel=(reqH['緯度'], reqH['經度'])\n",
    "            #read a day's POI as pandas df & loop\n",
    "            routetext_all=\"\"\n",
    "            \n",
    "            for d in range(len(reqP)):\n",
    "                day=pd.read_json(reqP[d])\n",
    "                # googlemaps direction API to determine order of POIs & output durations & distances\n",
    "                waypoints=[]\n",
    "                for i in range(len(day)):\n",
    "                    spot=(day['latitude'][i],day['longitude'][i])\n",
    "                    waypoints.append(spot)\n",
    "                    dOptRt=gm.directions(hotel,\n",
    "                                         hotel,\n",
    "                                         waypoints=waypoints,\n",
    "                                         optimize_waypoints=True,\n",
    "                                         language='zh-TW')\n",
    "                    order = dOptRt[0]['waypoint_order']#list\n",
    "                    wpOrdered=[]\n",
    "                for j in order:\n",
    "                    wpOrdered.append(waypoints[j])\n",
    "                    #print output\n",
    "                routetext='第'+str(d+1)+'天行程：\\n'\n",
    "                for k in range(len(day)):\n",
    "                    text = (day['name'][order[k]]+'約'+\n",
    "                            dOptRt[0]['legs'][k]['distance']['text']+'，景點間通勤約需'+\n",
    "                            dOptRt[0]['legs'][k]['duration']['text']+'。\\n---------------\\n')\n",
    "                    routetext+=text\n",
    "                    \n",
    "                #generate the map for a day's scheduled \n",
    "                fig = gmaps.figure()\n",
    "                locations=[]\n",
    "                hover_text=[]\n",
    "                label=[]\n",
    "                for k in range(len(day)):\n",
    "                    hover_text.append(day['name'][order[k]])\n",
    "                    locations.append(wpOrdered[k])\n",
    "                    label.append(str(k+1))\n",
    "                marker_layer = gmaps.marker_layer(locations=locations,\n",
    "                                                  hover_text=hover_text,\n",
    "                                                  label=label\n",
    "                                                 )\n",
    "                fig.add_layer(marker_layer)\n",
    "                embed_minimal_html('../images/'+'day'+\n",
    "                                   str(d+1)+'-'+\n",
    "                                   str(user_profile.user_id)+'-'+\n",
    "                                   str(event.timestamp)+'map.html', views=[fig])\n",
    "                routetext=(routetext+'\\n地圖連結：'+'https://'+\n",
    "                               str(server_url)+'/images/'+'day'+\n",
    "                               str(d+1)+'-'+\n",
    "                               str(user_profile.user_id)+'-'+\n",
    "                               str(event.timestamp)+'map.html\\n===============\\n'\n",
    "                              )\n",
    "                routetext_all += routetext\n",
    "            print(\"=====================\\n\",routetext_all,\"\\n=======================\")\n",
    "            tripText=[TextMessage(text=flighttext+hoteltext),\n",
    "                     TextMessage(text=routetext_all),\n",
    "                     TextMessage(text=restwelcome+restlist),\n",
    "                      StickerSendMessage(package_id='11537',sticker_id='52002734')\n",
    "                     ]\n",
    "            line_bot_api.reply_message(\n",
    "                event.reply_token,\n",
    "                tripText\n",
    "            )\n",
    "        elif mt == \"::POI:\":\n",
    "            line_bot_api.reply_message(\n",
    "                event.reply_token,\n",
    "                poiTempMsg\n",
    "            )\n",
    "\n",
    "        elif mt == \"::souvenir:\":\n",
    "            msghotgift = MsgToBackend(str(user_profile.user_id)).msghotgift()\n",
    "            req = requests.post('http://127.0.0.1:5002/', json = msghotgift).json()\n",
    "            print(msghotgift)\n",
    "            print(len(req),req)\n",
    "            giftwelcome='讓您久等了，最適合您的伴手禮如下：\\n\\n'\n",
    "            giftlist=''\n",
    "            for i in req:\n",
    "                rest_text=(\n",
    "                    str(i['souvenir'])+',價格約日幣'+\n",
    "                    str(i['price'])+',地址為'+\n",
    "                    str(i['address'])+',網址為'+\n",
    "                    str(i['url'])+'。\\n---------------\\n'\n",
    "                )\n",
    "                giftlist+=rest_text\n",
    "            gifttextli=[TextMessage(text=giftwelcome+giftlist),\n",
    "                        StickerSendMessage(package_id='11537',sticker_id='52002748')\n",
    "                       ]\n",
    "            line_bot_api.reply_message(\n",
    "                event.reply_token,\n",
    "                gifttextli\n",
    "            )\n",
    "        elif mt == \"::restaurant:\":\n",
    "            msgrestprefer = MsgToBackend(str(user_profile.user_id)).msgrestprefer()\n",
    "            print(msgrestprefer)\n",
    "            req = requests.post('http://127.0.0.1:5009/',json = msgrestprefer).json()\n",
    "            print(len(req),req)\n",
    "            restwelcome='讓您久等了，最適合您的餐廳如下列：\\n\\n'\n",
    "            restlist=''\n",
    "            for i in req:\n",
    "                rest_text=(\n",
    "                    str(i['store_nm_jp'])+'，'+\n",
    "                    str(i['rest_rating'])+'顆星'+'\\n餐飲型態為'+\n",
    "                    str(i['rest_catg'])+'\\n用餐約需'+\n",
    "                    str(i['meal_duration'])+'小時\\n參考價格為\\n午餐NTD$'+\n",
    "                    str(i['prices_lunch'])+'\\n晚餐NTD$'+\n",
    "                    str(i['prices_dinner'])+'\\n地址為\\n'+\n",
    "                    str(i['rest_addr'])+'\\n---------------\\n'\n",
    "                )\n",
    "                restlist+=rest_text\n",
    "            resttextli=[TextMessage(text=restwelcome+restlist),\n",
    "                        StickerSendMessage(package_id='11537',sticker_id='52002762')\n",
    "                       ]\n",
    "            line_bot_api.reply_message(\n",
    "                event.reply_token,resttextli\n",
    "            )\n",
    "        elif mt == \"::flightHotel:\":\n",
    "            msgflightprefer = MsgToBackend(str(user_profile.user_id)).msgflightprefer()\n",
    "            print(msgflightprefer)\n",
    "            req = requests.post('http://127.0.0.1:5003/',json = msgflightprefer).json()\n",
    "            print(req)\n",
    "            rWkday = datetime.isoweekday(datetime.strptime(msgflightprefer['rDate'], '%Y-%m-%d'))\n",
    "            if rWkday == 1:\n",
    "                print('bk by mon')\n",
    "                rwkd = 'mo'\n",
    "            elif rWkday == 2:\n",
    "                rwkd = 'tu'\n",
    "                print('bk by tue')\n",
    "            elif rWkday == 3:\n",
    "                rwkd = 'we'\n",
    "                print('bk by wed')\n",
    "            elif rWkday == 4:\n",
    "                rwkd = 'th'\n",
    "                print('bk by thu')\n",
    "            elif rWkday == 5:\n",
    "                rwkd = 'fr'\n",
    "                print('bk by fri')\n",
    "            elif rWkday == 6:\n",
    "                rwkd = 'sa'\n",
    "                print('bk by sat')\n",
    "            else:\n",
    "                rwkd = 'su'\n",
    "                print('bk by sun')\n",
    "            flighttext=('讓您久等了。\\n依據您的偏好分析，最適合您的航班為'+\n",
    "                        req['airline']+'，參考價格為NTD$'+\n",
    "                        str(req['price'])+'。\\n\\n出發起飛時間為(台北)'+msgflightprefer['dDate']+'('+\n",
    "                        str(req['date_format(etd,\"%a\")'])+') '+\n",
    "                        str(req['time_format(etd,\"%T\")'])+'，需時'+\n",
    "                        str(req['time_format(sec_to_time(dur),\"%T\")'])+\n",
    "                        '，抵達時間為(東京)'+msgflightprefer['dDate']+'('+\n",
    "                        str(req['date_format(eta,\"%a\")'])+') '+\n",
    "                        str(req['time_format(eta,\"%T\")'])+\n",
    "                        '。\\n\\n回國起飛時間為(東京)'+msgflightprefer['rDate']+'('+\n",
    "                        str(req['date_format('+rwkd+'Etd,\"%a\")'])+') '+\n",
    "                        str(req['time_format('+rwkd+'Etd,\"%T\")'])+'，需時'+\n",
    "                        str(req['time_format(sec_to_time('+rwkd+'Dur),\"%T\")'])+\n",
    "                        '，抵達時間為(台北)'+msgflightprefer['rDate']+'('+\n",
    "                        str(req['date_format('+rwkd+'Eta,\"%a\")'])+') '+\n",
    "                        str(req['time_format('+rwkd+'Eta,\"%T\")'])+'。\\n---------------\\n'\n",
    "                       )\n",
    "            msghotel = MsgToBackend(str(user_profile.user_id)).msghotel()\n",
    "            print(msghotel)\n",
    "            reqH = requests.post('http://127.0.0.1:5008/',json = msghotel).json()\n",
    "            print(reqH)\n",
    "            hoteltext=('\\n\\n最適合您的飯店為\\n'+\n",
    "                        str(reqH['飯店名稱'])+'，'+\n",
    "                        str(int(reqH['星等']))+'顆星，用戶評價'+\n",
    "                        str(reqH['評價'])+'/5，\\n每晚參考價格為NTD$'+\n",
    "                        str(int(reqH['價格']))+'。\\n地址為'+\n",
    "                        str(reqH['地址'])+'。\\n\\n鄰近地鐵站：\\n'+\n",
    "                        str(reqH['交通1'])+'，\\n'+\n",
    "                        str(reqH['交通2'])+'。\\n\\n附近景點：\\n'+\n",
    "                        str(reqH['鄰近景點1'])+'，\\n'+\n",
    "                        str(reqH['鄰近景點2'])+'，\\n'+\n",
    "                        str(reqH['鄰近景點3'])+'。'\n",
    "                       )\n",
    "            flihottextli=[TextMessage(text=flighttext+hoteltext),\n",
    "                          StickerSendMessage(package_id='11537',sticker_id='52002745')\n",
    "                         ]\n",
    "            print(flihottextli)\n",
    "            line_bot_api.reply_message(\n",
    "                event.reply_token,\n",
    "                flihottextli\n",
    "            )\n",
    "        elif mt == \"::FAQ:\":\n",
    "            line_bot_api.reply_message(\n",
    "                event.reply_token,\n",
    "                faqTempMsg\n",
    "            )\n",
    "        elif re.match('\\@\\d{1,2}$', mt):\n",
    "            with open(\"../users_been2tko.csv\", \"a\") as myfile:\n",
    "                myfile.write(str(user_profile.user_id)+',tko,'+mt.split('@')[1]+','+str(event.timestamp))\n",
    "                myfile.write('\\r\\n')\n",
    "            line_bot_api.reply_message(\n",
    "                event.reply_token,\n",
    "                TextMessage(text='請輸入旅遊總預算，機票來回人均預算，每晚住宿預算與每餐人均預算(格式為$總預算$機票來回人均$每晚住宿$每餐人均，如$50000$16000$3200$500)。')\n",
    "            )\n",
    "        elif re.match('^\\$[\\u4E00-\\u9FA5]+$', mt):\n",
    "            req = requests.post('http://127.0.0.1:5001/', json = {'spot':mt.split('$')[1]})\n",
    "            print(req)\n",
    "            line_bot_api.reply_message(\n",
    "                event.reply_token,\n",
    "                TextMessage(text=req.text)\n",
    "                )\n",
    "        elif re.match('\\.{2}[\\u4E00-\\u9FFF]+[\\uFF01-\\uFF5E]*[~!@#$%^&*()_+=\\-`\\[\\]{};:\".,<>/?\\|]*[\\u4E00-\\u9FFF]+[\\uFF01-\\uFF5E]*', mt):\n",
    "            req = requests.post('http://127.0.0.1:5004/', json = {'question':mt.split('..')[1]})\n",
    "            print(req)\n",
    "            problemtextli=[TextMessage(text=req.text),\n",
    "                           StickerSendMessage(package_id='11537',sticker_id='52002739')]\n",
    "            line_bot_api.reply_message(event.reply_token,\n",
    "                                       problemtextli\n",
    "                                      )\n",
    "        elif re.match('\\$\\d+\\$\\d+\\$\\d+\\$\\d+$', mt):\n",
    "            with open(\"../users_budget.csv\", \"a\") as myfile:\n",
    "                myfile.write(str(user_profile.user_id)+',budget,'+mt.split('$')[1]+','+str(event.timestamp))\n",
    "                myfile.write('\\r\\n')\n",
    "            with open(\"../users_flightBudget.csv\", \"a\") as myfile:\n",
    "                myfile.write(str(user_profile.user_id)+',flightbudget,'+mt.split('$')[2]+','+str(event.timestamp))\n",
    "                myfile.write('\\r\\n')\n",
    "            with open(\"../users_hotelBudget.csv\", \"a\") as myfile:\n",
    "                myfile.write(str(user_profile.user_id)+',hotelbudget,'+mt.split('$')[3]+','+str(event.timestamp))\n",
    "                myfile.write('\\r\\n')\n",
    "            with open(\"../users_restBudget.csv\", \"a\") as myfile:\n",
    "                myfile.write(str(user_profile.user_id)+',restbudget,'+mt.split('$')[4]+','+str(event.timestamp))\n",
    "                myfile.write('\\r\\n')\n",
    "            line_bot_api.reply_message(\n",
    "                event.reply_token,\n",
    "                AccTempMsg)\n",
    "        else:\n",
    "            gossiptextli=[\n",
    "                TextMessage(text='旅人，我喜歡聊天，但目前還是個非常木訥的小小AI機器人，所以還是要麻煩您遵照使用流程來走囉；使用方式請參照圖文選單>使用說明>智遊行使用說明'),\n",
    "                StickerSendMessage(package_id='11537',sticker_id='52002751')]\n",
    "            line_bot_api.reply_message(\n",
    "                event.reply_token,gossiptextli\n",
    "            )\n",
    "    except Exception as e:\n",
    "        e_type, e_value, e_traceback = sys.exc_info()\n",
    "        print(\"type ==> %s\" % (e_type))\n",
    "        print(\"value ==> %s\" % (e_value))\n",
    "        print(\"traceback ==> file name: %s\" % (e_traceback.tb_frame.f_code.co_filename))\n",
    "        print(\"traceback ==> line no: %s\" % (e_traceback.tb_lineno))\n",
    "        print(\"traceback ==> function name: %s\" % (e_traceback.tb_frame.f_code.co_name))\n",
    "        return e_traceback.tb_lineno\n",
    "        line_bot_api.reply_message(event.reply_token,TextSendMessage(text='您尚未完成旅遊偏好資訊輸入呢，還請點選圖文選單的使用說明並更新旅遊資訊喔!'))\n",
    "    finally:\n",
    "        print(mt)"
   ]
  },
  {
   "cell_type": "code",
   "execution_count": 26,
   "metadata": {},
   "outputs": [],
   "source": [
    "# airplane variables: age, been2tko, 去幾天 , 總預算,is Female,機票花費\n",
    "# spot variables: age, been2tko, 去幾天 , 總預算,is Female\n",
    "# hotel variables: age, been2tko, 去幾天 , 總預算,is Female, 住宿預算¶\n",
    "# food variables: age, been2tko, 去幾天 , 總預算,is Female, 一餐預算\n",
    "# omiyage variables: age, been2tko, 去幾天 , 總預算,is Female\n",
    "# gender: female=1, male=0"
   ]
  },
  {
   "cell_type": "code",
   "execution_count": 27,
   "metadata": {},
   "outputs": [],
   "source": [
    "'''deal w/ all POSTBackAction logics'''\n",
    "#用戶點擊button後，觸發postback event，對其回傳做相對應處理\n",
    "@handler.add(PostbackEvent)\n",
    "def handle_post_message(event):\n",
    "    user_profile = line_bot_api.get_profile(event.source.user_id)\n",
    "    \n",
    "    # read latest input of dept date\n",
    "#    colnames = ['userId', 'val_Id', 'dDate', 'tStamp']\n",
    "#    dfDdate = pd.read_csv('../users_date_dept.csv', sep=',', header=None, names = colnames)\n",
    "#    dDate = dfDdate.loc[dfDdate.loc[(dfDdate['userId']==user_profile.user_id)]['tStamp'].idxmax()]['dDate']\n",
    "#    print(len(dDate),type(dDate),'-'+dDate+'-')\n",
    "    # assign latest dept date as min. return date in temp. msg.\n",
    "#    retDateTempMsg = TemplateSendMessage(\n",
    "#    alt_text='Buttons template',\n",
    "#    template=ButtonsTemplate(\n",
    "#        thumbnail_image_url='https://cdn.pixabay.com/photo/2016/02/07/21/19/hahn-1185703_1280.jpg',\n",
    "#        title='回家則是因為發現$用完了呢',\n",
    "#        text='返家潮正夯',\n",
    "#        actions=[\n",
    "#            DatetimePickerAction(\n",
    "#                label='回國日期',\n",
    "#                data='retDate',\n",
    "#                mode='date',\n",
    "#                initial=dDate,\n",
    "#                max=str(date.today()+timedelta(days=365)),\n",
    "#                min=dDate)\n",
    "#        ]))\n",
    "    \n",
    "    if (event.postback.data.find('gender')== 0):\n",
    "        with open(\"../users_gender.csv\", \"a\") as myfile:\n",
    "            myfile.write(str(user_profile.user_id)+','+str(event.postback.data)+','+str(event.timestamp))\n",
    "            myfile.write('\\r\\n')\n",
    "        line_bot_api.reply_message(\n",
    "            event.reply_token,\n",
    "            [TextSendMessage(text='男生或女生?是個哲學的問題。'),\n",
    "             birthdayTempMsg\n",
    "            ]\n",
    "        )\n",
    "    elif (event.postback.data.find('birthday') == 0):\n",
    "        with open(\"../users_birthday.csv\", \"a\") as myfile:\n",
    "            myfile.write(str(user_profile.user_id)+','+str(event.postback.data)+','+str(event.postback.params['date'])+','+str(event.timestamp))\n",
    "            myfile.write('\\r\\n')\n",
    "        line_bot_api.reply_message(\n",
    "            event.reply_token,\n",
    "            TextSendMessage(text='奇幻旅程即將開始。請輸入您曾去過東京的次數，格式為@次數，如15次則寫為@15。'\n",
    "                           )\n",
    "        )\n",
    "    \n",
    "    elif (event.postback.data.find('poiPush') == 0):\n",
    "        msgpoi = MsgToBackend(str(user_profile.user_id)).msgpoi()\n",
    "        print(msgpoi)\n",
    "        reqP = requests.post('http://127.0.0.1:5007/',json = msgpoi)\n",
    "        reqP.encoding='utf-8'\n",
    "        reqP = reqP.json()\n",
    "        print(reqP)\n",
    "        routetext_all=''\n",
    "        for d in range(len(reqP)):\n",
    "            day=pd.read_json(reqP[d])\n",
    "            #print output\n",
    "            routetext=''\n",
    "            for k in range(len(day)):\n",
    "                text = (day['name'][k]+'\\n大東京都會'+\n",
    "                        day['rank'][k]+'\\n地址：'+\n",
    "                        day['address'][k]+'。\\n---------------\\n'\n",
    "                       )\n",
    "                routetext+=text\n",
    "            print(routetext,sep='\\n')\n",
    "            routetext_all+=routetext\n",
    "            print(routetext_all+'===============')\n",
    "        poitextli=[TextSendMessage(text=routetext_all),\n",
    "                   StickerSendMessage(package_id='11537',sticker_id='52002738')]\n",
    "        line_bot_api.reply_message(event.reply_token,poitextli)\n",
    "    \n",
    "    elif (event.postback.data.find('update') == 0):\n",
    "        line_bot_api.reply_message(\n",
    "            event.reply_token,\n",
    "            reply_message_list\n",
    "        )\n",
    "    elif (event.postback.data.find('hot_gift') == 0):\n",
    "        msghotgift = MsgToBackend(str(user_profile.user_id)).msghotgift()\n",
    "        req = requests.post('http://127.0.0.1:5002/', json = msghotgift)\n",
    "        gifttextwelcome=('讓您久等了。適合您的伴手禮如下:\\n')\n",
    "        for i in range(0,9):\n",
    "            gifttext=(str(req.json()[i]['souvenir'])+',價格約日幣'+\n",
    "                  str(req.json()[i]['price'])+',地址為'+\n",
    "                  str(req.json()[i]['address'])+',網址為'+\n",
    "                  str(req.json()[i]['url'])+'。\\n----------\\n')\n",
    "        gifttext=[gifttextwelcome, gifttext]\n",
    "        gifttextli=[TextMessage(text=gifttextlist),\n",
    "                    StickerSendMessage(package_id='11537',sticker_id='52002752')]\n",
    "        line_bot_api.reply_message(event.reply_token,gifttextli)\n",
    "        print(req.json())\n",
    "    elif (event.postback.data.find('partner') == 0):\n",
    "        with open(\"../users_partner.csv\", \"a\") as myfile:\n",
    "            myfile.write(str(user_profile.user_id)+','+str(event.postback.data)+','+str(event.timestamp))\n",
    "            myfile.write('\\r\\n')\n",
    "        line_bot_api.reply_message(\n",
    "            event.reply_token,\n",
    "            [TextMessage(text='與神同行，我不孤單'),\n",
    "             styleTempMsg\n",
    "            ]\n",
    "        )\n",
    "    elif (event.postback.data.find('style') == 0):\n",
    "        with open(\"../users_style.csv\", \"a\") as myfile:\n",
    "            myfile.write(str(user_profile.user_id)+','+str(event.postback.data)+','+str(event.timestamp))\n",
    "            myfile.write('\\r\\n')\n",
    "        line_bot_api.reply_message(\n",
    "            event.reply_token,\n",
    "            [TextMessage(text='悠閒或者緊湊，都是人生。'),\n",
    "             deptDateTempMsg\n",
    "            ]\n",
    "        )\n",
    "    elif (event.postback.data.find('check') == 0):\n",
    "        user_id=str(user_profile.user_id)\n",
    "        #chk the user's latest response for gender\n",
    "        colnames = ['userId', 'val_Id', 'gender', 'tStamp']\n",
    "        dfGen = pd.read_csv('../users_gender.csv', sep=',', header=None, names = colnames)\n",
    "        gen = dfGen.loc[dfGen.loc[(dfGen['userId']==user_id)]['tStamp'].idxmax()]['gender']\n",
    "        if gen == 1:\n",
    "            gender = '靚女'\n",
    "        else:\n",
    "            gender = '潮男'\n",
    "        #chk the user's latest response for birthday\n",
    "        colnames = ['userId', 'val_Id', 'bDate', 'tStamp']\n",
    "        dfbDate = pd.read_csv('../users_birthday.csv', sep=',', header=None, names = colnames)\n",
    "        bDate = dfbDate.loc[dfbDate.loc[(dfbDate['userId']==user_id)]['tStamp'].idxmax()]['bDate']\n",
    "        #chk the user's latest response for whether been to be Tokyo b4\n",
    "        colnames = ['userId', 'val_Id', 'toTko', 'tStamp']\n",
    "        dfTko = pd.read_csv('../users_been2tko.csv', sep=',', header=None, names = colnames)\n",
    "        tko = dfTko.loc[dfTko.loc[(dfTko['userId']==user_id)]['tStamp'].idxmax()]['toTko']\n",
    "        #chk the user's latest response for return date\n",
    "        colnames = ['userId', 'val_Id', 'rDate', 'tStamp']\n",
    "        dfRdate = pd.read_csv('../users_date_ret.csv', sep=',', header=None, names = colnames)\n",
    "        rDate = dfRdate.loc[dfRdate.loc[(dfRdate['userId']==user_id)]['tStamp'].idxmax()]['rDate']\n",
    "        #chk the user's latest response for departure date\n",
    "        colnames = ['userId', 'val_Id', 'dDate', 'tStamp']\n",
    "        dfDdate = pd.read_csv('../users_date_dept.csv', sep=',', header=None, names = colnames)\n",
    "        dDate = dfDdate.loc[dfDdate.loc[(dfDdate['userId']==user_id)]['tStamp'].idxmax()]['dDate']\n",
    "        #chk the user's latest response for flight budget\n",
    "        colnames = ['userId', 'val_Id', 'flightBudget', 'tStamp'] \n",
    "        dfFBudget = pd.read_csv('../users_flightBudget.csv', sep=',', header=None, names = colnames)\n",
    "        fBudget = dfFBudget.loc[dfFBudget.loc[(dfFBudget['userId']==user_id)]['tStamp'].idxmax()]['flightBudget']\n",
    "        #chk the user's latest response for budget\n",
    "        colnames = ['userId', 'val_Id', 'budget', 'tStamp'] \n",
    "        dfb = pd.read_csv('../users_budget.csv', sep=',', header=None, names = colnames)\n",
    "        budget = dfb.loc[dfb.loc[(dfb['userId']==user_id)]['tStamp'].idxmax()]['budget']\n",
    "        #chk the user's latest response for flight budget\n",
    "        colnames = ['userId', 'val_Id', 'restBudget', 'tStamp'] \n",
    "        dfrBudget = pd.read_csv('../users_restBudget.csv', sep=',', header=None, names = colnames)\n",
    "        rBudget = dfrBudget.loc[dfrBudget.loc[(dfrBudget['userId']==user_id)]['tStamp'].idxmax()]['restBudget']\n",
    "        #chk the user's latest response for flight budget\n",
    "        colnames = ['userId', 'val_Id', 'hotelBudget', 'tStamp'] \n",
    "        dfHBudget = pd.read_csv('../users_hotelBudget.csv', sep=',', header=None, names = colnames)\n",
    "        hBudget = dfHBudget.loc[dfHBudget.loc[(dfHBudget['userId']==user_id)]['tStamp'].idxmax()]['hotelBudget']        \n",
    "        #chk the user's latest response for partner\n",
    "        colnames = ['userId', 'val_Id', 'partner', 'tStamp']\n",
    "        dfp = pd.read_csv('../users_partner.csv', sep=',', header=None, names = colnames)\n",
    "        partner = dfp.loc[dfp.loc[(dfp['userId']==user_id)]['tStamp'].idxmax()]['partner']\n",
    "        if partner == 1:\n",
    "            part = '單獨'\n",
    "        elif partner == 2:\n",
    "            part = '情侶'\n",
    "        elif partner == 3:\n",
    "            part = '爸媽或長輩和我'\n",
    "        elif partner == 4:\n",
    "            part = '與配偶兩人'\n",
    "        elif partner == 5:\n",
    "            part = '配偶+小孩共3人以上'\n",
    "        elif partner == 6:\n",
    "            part = '配偶，小孩以及長輩'\n",
    "        elif partner == 7:\n",
    "            part = '跟同事，同學或好友一起'\n",
    "        else:\n",
    "            part = '其他'\n",
    "        #chk the user's latest response for partner\n",
    "        colnames = ['userId', 'val_Id', 'style', 'tStamp']\n",
    "        dfs = pd.read_csv('../users_style.csv', sep=',', header=None, names = colnames)\n",
    "        style = dfs.loc[dfs.loc[(dfs['userId']==user_id)]['tStamp'].idxmax()]['style']\n",
    "        if style == 0:\n",
    "            sty = '悠閒'\n",
    "        else:\n",
    "            sty = '緊湊'\n",
    "        checktextli=[TextMessage(text='您最新的旅遊偏好資訊如下：\\n性別：'+\n",
    "                         gender+'\\n生日：'+\n",
    "                         bDate+'\\n去過東京的次數：'+\n",
    "                         str(tko)+'\\n總預算NTD$'+\n",
    "                         str(budget)+'\\n來回機票人均預算NTD$'+\n",
    "                         str(fBudget)+'\\n每晚住宿預算NTD$'+\n",
    "                         str(hBudget)+'\\n每餐人均預算NTD$'+\n",
    "                         str(rBudget)+'\\n旅伴為'+\n",
    "                         part+'\\n旅遊風格為'+\n",
    "                         sty+'\\n出發日期為'+\n",
    "                         str(dDate)+'\\n回國日期為'+\n",
    "                         str(rDate)\n",
    "                                ),\n",
    "                     StickerSendMessage(package_id='11537',sticker_id='52002763')\n",
    "                    ]\n",
    "        line_bot_api.reply_message(event.reply_token,\n",
    "                                   checktextli\n",
    "                                  )\n",
    "        \n",
    "    elif (event.postback.data.find('deptDate') == 0):\n",
    "        with open(\"../users_date_dept.csv\", \"a\") as myfile:\n",
    "            myfile.write(str(user_profile.user_id)+','+str(event.postback.data)+','+str(event.postback.params['date'])+','+str(event.timestamp))\n",
    "            myfile.write('\\r\\n')\n",
    "        line_bot_api.reply_message(\n",
    "            event.reply_token,\n",
    "            [TextMessage(text='日日是好日'),\n",
    "             retDateTempMsg\n",
    "            ]\n",
    "        )\n",
    "    elif (event.postback.data.find('manual') == 0):\n",
    "        mantextli=[TextMessage(text=mantext),\n",
    "                   StickerSendMessage(package_id='11537',sticker_id='52002764')]\n",
    "        line_bot_api.reply_message(event.reply_token,\n",
    "                                   mantextli\n",
    "                                  )\n",
    "\n",
    "    elif (event.postback.data.find('poiRecg') == 0):\n",
    "        # '晴空塔','東京鐵塔','東京車站','東京都廳','國會議事堂','淺草雷門','富士電視台'\n",
    "        colnames = ['userId', 'val_Id', 'value', 'tStamp']\n",
    "        dfpic = pd.read_csv('../users_pics.csv', sep=',', header=None, names = colnames)\n",
    "        dfpiclist = dfpic.loc[(dfpic['userId']==user_profile.user_id)]\n",
    "        print(dfpiclist)\n",
    "        lastTStamp = dfpiclist.loc[(dfpiclist['userId']==user_profile.user_id)]['tStamp'].max()\n",
    "        print(lastTStamp)\n",
    "        dfLastTStamp = dfpiclist[(dfpiclist['tStamp']==lastTStamp)]\n",
    "        print(dfLastTStamp)\n",
    "        maxVal = dfLastTStamp['value'].max()*100\n",
    "        maxKey = dfLastTStamp.loc[dfLastTStamp['value'].idxmax()]['val_Id']\n",
    "        print(maxVal,maxKey)\n",
    "        picRecText='看來旅人您上傳的照片最像'+maxKey+'呢!準確度='+str(round(maxVal,2))+'%阿!'\n",
    "        print(picRecText)\n",
    "        poirecgtextli=[TextMessage(text=picRecText),\n",
    "                       StickerSendMessage(package_id='11537',sticker_id='52002735')\n",
    "                      ]\n",
    "        line_bot_api.reply_message(\n",
    "            event.reply_token,\n",
    "            poirecgtextli\n",
    "        )\n",
    "    elif (event.postback.data.find('retDate') == 0):\n",
    "        with open(\"../users_date_ret.csv\", \"a\") as myfile:\n",
    "            myfile.write(str(user_profile.user_id)+','+str(event.postback.data)+','+str(event.postback.params['date'])+','+str(event.timestamp))\n",
    "            myfile.write('\\r\\n')\n",
    "        retdatetextli=[TextMessage(text='感謝您耐心的填答。接著您可以點選圖文選單中的功能來開始您的奇幻旅程囉!'),\n",
    "                       StickerSendMessage(package_id='11537',sticker_id='52002734')\n",
    "                      ]\n",
    "        line_bot_api.reply_message(event.reply_token,retdatetextli)\n",
    "        \n",
    "#         msgflightprefer = MsgToBackend(str(user_profile.user_id)).msgflightprefer()\n",
    "#         msgflightprefer =json.dumps(msgflightprefer)\n",
    "# #        producer1 = KafkaProducer(\n",
    "        # 指定Kafka集群伺服器\n",
    "#        bootstrap_servers = [\"10.128.0.10:9094\"],\n",
    "        # 指定msgKey的序列化器, 若Key為None, 無法序列化, 透過producer直接給值\n",
    "        #key_serializer = str.encode,\n",
    "        # 指定msgValue的序列化器\n",
    "        #value_serializer = str.encode,\n",
    "#        value_serializer = lambda m: json.dumps(m).encode('ascii')\n",
    "#        )\n",
    "#        try:\n",
    "#            print(\"Start sending messages ...\")\n",
    "            # 產生要發佈到Kafka的訊息\n",
    "#            future1 = producer1.send(topic=\"flight1\", value='hihihi',key='a1')\n",
    "#            record_metadata1 = future1.get(timeout=10)\n",
    "#            print(record_metadata1)\n",
    "#            print(\"Message sending completed!\")\n",
    "        \n",
    "#        except Exception as e:\n",
    "            # 錯誤處理\n",
    "#            e_type, e_value, e_traceback = sys.exc_info()\n",
    "#            print(\"type ==> %s\" % (e_type))\n",
    "#            print(\"value ==> %s\" % (e_value))\n",
    "#            print(\"traceback ==> file name: %s\" % (e_traceback.tb_frame.f_code.co_filename))\n",
    "#            print(\"traceback ==> line no: %s\" % (e_traceback.tb_lineno))\n",
    "#            print(\"traceback ==> function name: %s\" % (e_traceback.tb_frame.f_code.co_name))\n",
    "#        finally:\n",
    "            # 關掉Producer實例的連線\n",
    "#            producer1.close()\n",
    "\n",
    "#         msgCounter=0\n",
    "#         # 步驟3. 指定想要發佈訊息的topic名稱\n",
    "#         try:\n",
    "#             # produce(topic, [value], [key], [partition], [on_delivery], [timestamp], [headers])\n",
    "#             producer.produce('flight', msgflightprefer, str(user_profile.user_id))\n",
    "#             msgCounter += 1\n",
    "#             print('Send ' + str(msgCounter) + ' messages to Kafka')\n",
    "#         except BufferError as e:\n",
    "#             # 錯誤處理\n",
    "#             sys.stderr.write('%% Local producer queue is full ({} messages awaiting delivery): try again\\n'\n",
    "#                          .format(len(producer)))\n",
    "#         except Exception as e:\n",
    "#             print(e)\n",
    "        # 步驟5. 確認所在Buffer的訊息都己經送出去給Kafka了\n",
    "#         producer.flush()\n",
    "        \n",
    "    else:\n",
    "        pass\n",
    "    print(str(user_profile.display_name)+','+str(user_profile.user_id))\n",
    "    print(event.postback)\n",
    "    print(str(event.timestamp)+','+str(datetime.fromtimestamp(event.timestamp/1000)))"
   ]
  },
  {
   "cell_type": "code",
   "execution_count": null,
   "metadata": {
    "scrolled": true
   },
   "outputs": [
    {
     "name": "stderr",
     "output_type": "stream",
     "text": [
      " * Running on http://0.0.0.0:5000/ (Press CTRL+C to quit)\n",
      "172.18.0.6 - - [22/Nov/2019 01:37:56] \"POST / HTTP/1.1\" 200 -\n"
     ]
    },
    {
     "name": "stdout",
     "output_type": "stream",
     "text": [
      "::FAQ:\n"
     ]
    },
    {
     "name": "stderr",
     "output_type": "stream",
     "text": [
      "172.18.0.6 - - [22/Nov/2019 01:37:57] \"POST / HTTP/1.1\" 200 -\n"
     ]
    },
    {
     "name": "stdout",
     "output_type": "stream",
     "text": [
      "R82-WTF,Ud23427619a8d0de9734e993431a4fab3\n",
      "{\"data\": \"faq\"}\n",
      "1574386675275,2019-11-22 01:37:55.275000\n"
     ]
    },
    {
     "name": "stderr",
     "output_type": "stream",
     "text": [
      "172.18.0.6 - - [22/Nov/2019 01:38:02] \"POST / HTTP/1.1\" 200 -\n"
     ]
    },
    {
     "name": "stdout",
     "output_type": "stream",
     "text": [
      "R82-WTF,Ud23427619a8d0de9734e993431a4fab3\n",
      "{\"data\": \"check\"}\n",
      "1574386680918,2019-11-22 01:38:00.918000\n"
     ]
    },
    {
     "name": "stderr",
     "output_type": "stream",
     "text": [
      "172.18.0.6 - - [22/Nov/2019 01:38:06] \"POST / HTTP/1.1\" 200 -\n"
     ]
    },
    {
     "name": "stdout",
     "output_type": "stream",
     "text": [
      "R82-WTF,Ud23427619a8d0de9734e993431a4fab3\n",
      "{\"data\": \"restaurant\"}\n",
      "1574386685565,2019-11-22 01:38:05.565000\n",
      "{'age': 35, 'been2tko': 20, 'days': 4, 'totalBudget': 80000, 'gender': 0, 'oneBudget': 300}\n",
      "8 [{'age': 42, 'cp_rating_dinner': 3.64, 'cp_rating_lunch': 4.43, 'feeling_rating_dinner': 4.09, 'feeling_rating_lunch': 4.32, 'female_prop': 23.73, 'label_code': 1, 'label_desc': '平消族', 'lat': 35.6705623, 'lng': 139.7606164, 'male_prop': 76.27, 'meal_duration': 1.0, 'prices_dinner': 9922, 'prices_lunch': 425, 'rest_addr': '東京都中央區銀座7-3-16', 'rest_area': '銀座', 'rest_catg': '壽司', 'rest_rating': 3.96, 'service_rating_dinner': 3.98, 'service_rating_lunch': 4.49, 'store_nm_en': 'Nojima', 'store_nm_jp': '野じま', 'transport': '距离銀座 362  米'}, {'age': 38, 'cp_rating_dinner': 3.91, 'cp_rating_lunch': 3.99, 'feeling_rating_dinner': 4.14, 'feeling_rating_lunch': 4.41, 'female_prop': 24.18, 'label_code': 0, 'label_desc': '高消族', 'lat': 35.6678322, 'lng': 139.7172361, 'male_prop': 75.82, 'meal_duration': 1.0, 'prices_dinner': 4961, 'prices_lunch': 425, 'rest_addr': '東京都港區南青山3-2-4', 'rest_area': '青山一丁目・外苑前', 'rest_catg': '天婦羅', 'rest_rating': 4.2, 'service_rating_dinner': 4.04, 'service_rating_lunch': 4.14, 'store_nm_en': 'Motoyoshi', 'store_nm_jp': '天ぷら 元吉', 'transport': '銀座線外苑前駅徒歩3分（神宮球場方向\\u3000１ａ出口）\\n\\n\\n距离外苑前 287  米'}, {'age': 43, 'cp_rating_dinner': 3.25, 'cp_rating_lunch': 3.17, 'feeling_rating_dinner': 4.1, 'feeling_rating_lunch': 4.23, 'female_prop': 22.36, 'label_code': 1, 'label_desc': '平消族', 'lat': 35.696381, 'lng': 139.768758, 'male_prop': 77.64, 'meal_duration': 1.0, 'prices_dinner': 2551, 'prices_lunch': 2551, 'rest_addr': '東京都韆代田區神田須田町1-15', 'rest_area': '神田・御茶之水', 'rest_catg': '壽喜燒/雞肉料理', 'rest_rating': 3.76, 'service_rating_dinner': 3.48, 'service_rating_lunch': 3.42, 'store_nm_en': 'Botan', 'store_nm_jp': 'ぼたん', 'transport': '東京メトロ丸ノ内線 淡路町駅 A3番出口 徒歩2分\\n都営新宿線 小川町駅 A3番出口 徒歩2分\\n東京メトロ銀座線 神田駅 6番出口 徒歩5分\\nＪＲ 神田駅 東口 徒歩7分\\nＪＲ 秋葉原駅 電気街口 徒歩7分\\nＪＲ 御茶ノ水駅 聖橋口 徒歩7分\\n\\n\\n距离淡路町 197  米'}, {'age': 37, 'cp_rating_dinner': 4.1, 'cp_rating_lunch': 4.19, 'feeling_rating_dinner': 3.34, 'feeling_rating_lunch': 3.29, 'female_prop': 23.93, 'label_code': 1, 'label_desc': '平消族', 'lat': 35.6480734, 'lng': 139.7416154, 'male_prop': 76.07, 'meal_duration': 1.0, 'prices_dinner': 142, 'prices_lunch': 142, 'rest_addr': '東京都港區三田2-16-4', 'rest_area': '田町・三田', 'rest_catg': '拉麵', 'rest_rating': 3.77, 'service_rating_dinner': 3.28, 'service_rating_lunch': 3.18, 'store_nm_en': 'Ramenjirou', 'store_nm_jp': 'ラーメン二郎 三田本店', 'transport': '都営地下鉄 浅草線・三田線「三田駅」A3出口より、徒歩8分\\nJR山手線・京浜東北線「田町駅」三田口（西口）より、徒歩10分\\n\\n\\n距离三田 541  米'}, {'age': 39, 'cp_rating_dinner': 3.52, 'cp_rating_lunch': 3.03, 'feeling_rating_dinner': 3.45, 'feeling_rating_lunch': 3.69, 'female_prop': 23.86, 'label_code': 1, 'label_desc': '平消族', 'lat': 35.6707809, 'lng': 139.7692631, 'male_prop': 76.14, 'meal_duration': 1.0, 'prices_dinner': 2551, 'prices_lunch': 425, 'rest_addr': '東京都中央區銀座3-12-5', 'rest_area': '銀座', 'rest_catg': '牛排/法式小酒館/餐飲酒館', 'rest_rating': 3.77, 'service_rating_dinner': 3.37, 'service_rating_lunch': 4.32, 'store_nm_en': 'Ibaia', 'store_nm_jp': 'IBAIA', 'transport': '距离東銀座 232  米'}, {'age': 40, 'cp_rating_dinner': 3.64, 'cp_rating_lunch': 3.82, 'feeling_rating_dinner': 3.51, 'feeling_rating_lunch': 3.77, 'female_prop': 22.65, 'label_code': 1, 'label_desc': '平消族', 'lat': 35.689853, 'lng': 139.7707942, 'male_prop': 77.35, 'meal_duration': 1.0, 'prices_dinner': 1276, 'prices_lunch': 142, 'rest_addr': '東京都韆代田區鍛冶町1-3-10', 'rest_area': '神田・御茶之水', 'rest_catg': '印度咖哩/日式小酒館', 'rest_rating': 3.76, 'service_rating_dinner': 3.51, 'service_rating_lunch': 3.66, 'store_nm_en': 'Budouya', 'store_nm_jp': '葡萄舎', 'transport': 'ＪＲ中央線・山手線・京浜東北線【神田駅】南口／西口\\u3000徒歩３分\\n東京メトロ銀座線【神田駅】徒歩５分\\n\\n\\n距离神田 263  米'}, {'age': 44, 'cp_rating_dinner': 3.4, 'cp_rating_lunch': 3.18, 'feeling_rating_dinner': 3.64, 'feeling_rating_lunch': 3.19, 'female_prop': 23.25, 'label_code': 1, 'label_desc': '平消族', 'lat': 35.7080382, 'lng': 139.7986447, 'male_prop': 76.75, 'meal_duration': 1.0, 'prices_dinner': 142, 'prices_lunch': 425, 'rest_addr': '東京都墨田區吾妻橋1-11-2', 'rest_area': '淺草', 'rest_catg': '蕎麥麵/日本酒/燒酒', 'rest_rating': 3.77, 'service_rating_dinner': 3.6, 'service_rating_lunch': 2.96, 'store_nm_en': 'Adumabashiyabusoba', 'store_nm_jp': '吾妻橋 やぶそば', 'transport': '都営浅草線・浅草駅下車、駒形橋方面出口から橋を渡ってすぐ目の前。約５分。\\n\\n\\n距离淺草 304  米'}, {'age': 39, 'cp_rating_dinner': 3.96, 'cp_rating_lunch': 4.0, 'feeling_rating_dinner': 3.35, 'feeling_rating_lunch': 3.27, 'female_prop': 23.48, 'label_code': 1, 'label_desc': '平消族', 'lat': 35.6854123, 'lng': 139.7753649, 'male_prop': 76.52, 'meal_duration': 1.5, 'prices_dinner': 142, 'prices_lunch': 142, 'rest_addr': '東京都中央區日本橋室町1-11-15', 'rest_area': '日本橋・京橋', 'rest_catg': '炸蝦丼飯・炸蝦便當/便當/星鰻', 'rest_rating': 3.77, 'service_rating_dinner': 3.39, 'service_rating_lunch': 3.28, 'store_nm_en': 'nihombashitendonkanekohannosuke', 'store_nm_jp': '日本橋 天丼 金子半之助 本店', 'transport': '東京メトロ半蔵門線・銀座線「三越前」駅(A1出口)から徒歩1分\\n東京メトロ東西線「日本橋」駅から徒歩4分\\nJR総武本線「新日本橋」駅から徒歩5分\\n\\n\\n距离三越前 157  米'}]\n"
     ]
    },
    {
     "name": "stderr",
     "output_type": "stream",
     "text": [
      "172.18.0.6 - - [22/Nov/2019 01:38:07] \"POST / HTTP/1.1\" 200 -\n"
     ]
    },
    {
     "name": "stdout",
     "output_type": "stream",
     "text": [
      "::restaurant:\n"
     ]
    },
    {
     "name": "stderr",
     "output_type": "stream",
     "text": [
      "172.18.0.6 - - [22/Nov/2019 01:38:11] \"POST / HTTP/1.1\" 200 -\n"
     ]
    },
    {
     "name": "stdout",
     "output_type": "stream",
     "text": [
      "R82-WTF,Ud23427619a8d0de9734e993431a4fab3\n",
      "{\"data\": \"tripStart\"}\n",
      "1574386690387,2019-11-22 01:38:10.387000\n",
      "{'age': 35, 'been2tko': 20, 'days': 4, 'budget': 80000, 'isFemale': 0, 'fbudget': 10000, 'dDate': '2019-11-20', 'rDate': '2019-11-24'}\n",
      "{'airline': 'EVA Air', 'date_format(eta,\"%a\")': 'Wed', 'date_format(etd,\"%a\")': 'Wed', 'date_format(suEta,\"%a\")': 'Sun', 'date_format(suEtd,\"%a\")': 'Sun', 'price': 12086, 'time_format(eta,\"%T\")': '12:00:00', 'time_format(etd,\"%T\")': '07:55:00', 'time_format(sec_to_time(dur),\"%T\")': '03:05:00', 'time_format(sec_to_time(suDur),\"%T\")': '04:05:00', 'time_format(suEta,\"%T\")': '17:05:00', 'time_format(suEtd,\"%T\")': '14:00:00'}\n",
      "bk by sun\n",
      "{'age': 35, 'been2tko': 20, 'howlong': 4, 'budget': 80000, 'isFemale': 0, 'with_child': 0, 'crampedSechedule': False}\n",
      "['[{\"index\":2,\"name\":\"淺草 Asakusa\",\"rank\":\"排名第 1的台東區觀光 (共560家)\",\"address\":\"東京都台東區\",\"child\":0.0087715012,\"latitude\":35.7125736,\"longitude\":139.7802043,\"score\":241,\"chosen\":true},{\"index\":48,\"name\":\"雷門 Nakamise Shopping Street (Kaminarimon)\",\"rank\":\"排名第 18的台東區觀光 (共560家)\",\"address\":\"東京都台東區淺草1丁目3\",\"child\":0.0048539208,\"latitude\":35.7110859,\"longitude\":139.7959648,\"score\":114,\"chosen\":true},{\"index\":35,\"name\":\"淺草文化觀光中心 Asakusa Culture Tourist Information Center\",\"rank\":\"排名第 3的台東區觀光 (共560家)\",\"address\":\"東京都台東區2-18-9 Kaminarimon111-0034\",\"child\":0.0040560983,\"latitude\":35.7106489,\"longitude\":139.7965348,\"score\":106,\"chosen\":true}]', '[{\"index\":59,\"name\":\"惠比壽啤酒紀念館 Museum of Yebisu Beer\",\"rank\":\"排名第 12的澀谷區觀光 (共279家)\",\"address\":\"東京都澀谷區惠比壽4-20-1\",\"child\":0.0,\"latitude\":35.643115,\"longitude\":139.7145631,\"score\":70,\"chosen\":true},{\"index\":83,\"name\":\"舊古河庭園 Kyu Fukukawa Teien\",\"rank\":\"排名第 1的北區觀光 (共102家)\",\"address\":\"東京都北區西原1-27-39114-0024\",\"child\":0.0,\"latitude\":35.7426086,\"longitude\":139.7463623,\"score\":114,\"chosen\":true},{\"index\":216,\"name\":\"目黑河燈飾展 megurogawa MINNA no ILLUMI\",\"rank\":\"排名第 7的品川區觀光 (共211家)\",\"address\":\"東京都品川區2-9-5 Higashi Gotanda141-0022\",\"child\":0.0,\"latitude\":35.6245967,\"longitude\":139.7264547,\"score\":70,\"chosen\":true}]', '[{\"index\":134,\"name\":\"太田現代美術博物館 Ota Memorial Museum of Art\",\"rank\":\"排名第 5的澀谷區觀光 (共279家)\",\"address\":\"東京都澀谷區惠比壽西2-8-1150-0001\",\"child\":0.0702455514,\"latitude\":35.6432025,\"longitude\":139.7145181,\"score\":70,\"chosen\":true},{\"index\":224,\"name\":\" Takashimaya Nihombashi\",\"rank\":\"排名第 24的中央區觀光 (共577家)\",\"address\":\"東京都中央區2-4-1 Nihombashi103-8265\",\"child\":0.0,\"latitude\":35.6807683,\"longitude\":139.7735492,\"score\":168,\"chosen\":true},{\"index\":109,\"name\":\" Kinuta Park\",\"rank\":\"排名第 2的世田谷區觀光 (共235家)\",\"address\":\"東京都世田谷區Kinuta Koen157-0075\",\"child\":0.1657865691,\"latitude\":35.6401495,\"longitude\":139.612061,\"score\":114,\"chosen\":true}]']\n",
      "{'age': 35, 'been2tko': 20, 'days': 4, 'budget': 80000, 'isFemale': 0, 'hotel budget': 3000}\n",
      "{'CP': 2.606635071, 'pre': 2.0, '交通1': '西馬?站 - 走路 5 分鐘', '交通2': '蓮沼站 - 走路 7 分鐘', '交通3': '東京, 日本 (HND-羽田機場) - 車程 12 分鐘', '交通便利性': '5', '價格': 1688.0, '地址': '7-49-5 Nishikamata, Ota-ku, 東京, Tokyo-to', '廚房': 0.0, '星等': 3.0, '經度': 139.713156, '網址': 'https://www.expedia.com.tw/Tokyo-Hotels-Nishitetsu-Inn-Kamata.h4595610.Hotel-Information?chkin=2019%2F10%2F4&chkout=2019%2F10%2F5&regionId=179900&destination=%E6%9D%B1%E4%BA%AC+%28%E5%8F%8A%E9%84%B0%E8%BF%91%E5%9C%B0%E5%8D%80%29%2C+%E6%97%A5%E6%9C%AC&swpToggleOn=true&rm1=a1&x_pwa=1&sort=recommended&top_dp=1688&top_cur=TWD&rfrr=HSR&pwa_ts=1570019249783', '緯度': 35.562478, '評價': 4.4, '鄰近景點1': '東京鐵塔 - 開車 12 分鐘', '鄰近景點2': '東京國際展示場 - 開車 14 分鐘', '鄰近景點3': '豐洲市場 - 開車 14 分鐘', '鄰近景點4': '澀谷十字路口 - 開車 15 分鐘', '鄰近景點5': '橫濱體育場 - 開車 35 分鐘', '飯店名稱': '蒲田西鐵飯店'}\n",
      "{'age': 35, 'been2tko': 20, 'days': 4, 'totalBudget': 80000, 'gender': 0, 'oneBudget': 300}\n",
      "[{'age': 41, 'cp_rating_dinner': 3.81, 'cp_rating_lunch': 4.23, 'feeling_rating_dinner': 3.98, 'feeling_rating_lunch': 4.83, 'female_prop': 24.18, 'label_code': 0, 'label_desc': '高消族', 'lat': 35.6676318, 'lng': 139.7179215, 'male_prop': 75.82, 'meal_duration': 1.0, 'prices_dinner': 7087, 'prices_lunch': 425, 'rest_addr': '東京都港區南青山3-2-8', 'rest_area': '青山一丁目・外苑前', 'rest_catg': '壽司', 'rest_rating': 4.39, 'service_rating_dinner': 4.21, 'service_rating_lunch': 4.83, 'store_nm_en': 'Umi', 'store_nm_jp': '海味', 'transport': '外苑前駅1a出口より徒歩10分\\n\\n\\n距离外苑前 303  米'}, {'age': 40, 'cp_rating_dinner': 3.57, 'cp_rating_lunch': 3.36, 'feeling_rating_dinner': 3.38, 'feeling_rating_lunch': 3.23, 'female_prop': 23.37, 'label_code': 1, 'label_desc': '平消族', 'lat': 35.708419, 'lng': 139.7737509, 'male_prop': 76.63, 'meal_duration': 1.0, 'prices_dinner': 142, 'prices_lunch': 425, 'rest_addr': '東京都檯東區上野4-3-4', 'rest_area': '上野・御徒町・湯島', 'rest_catg': '炸豬排/可樂餅・油炸食品/定食、食堂', 'rest_rating': 3.76, 'service_rating_dinner': 3.47, 'service_rating_lunch': 3.39, 'store_nm_en': 'tompachitei', 'store_nm_jp': 'とん八亭', 'transport': 'ＪＲ御徒町駅より徒歩２分\\n銀座線上野広小路より徒歩２分\\n大江戸線上野御徒町より徒歩２分\\n日比谷線仲御徒町より徒歩４分\\n千代田線湯島駅より徒歩５分\\n\\n\\n距离上野御徒町 61  米'}, {'age': 37, 'cp_rating_dinner': 3.9, 'cp_rating_lunch': 4.78, 'feeling_rating_dinner': 3.85, 'feeling_rating_lunch': 4.27, 'female_prop': 24.05, 'label_code': 0, 'label_desc': '高消族', 'lat': 35.6986017, 'lng': 139.7034726, 'male_prop': 75.95, 'meal_duration': 1.0, 'prices_dinner': 4961, 'prices_lunch': 2551, 'rest_addr': '東京都新宿區大久保1-12-3', 'rest_area': '新宿', 'rest_catg': '涮涮鍋/壽喜燒/牛肉料理', 'rest_rating': 4.02, 'service_rating_dinner': 3.91, 'service_rating_lunch': 3.85, 'store_nm_en': 'Toukyounikushabuya', 'store_nm_jp': '東京肉しゃぶ家', 'transport': 'JR新宿東口から徒歩10分\\nJR新大久保駅から徒歩8分\\n大江戸線東新宿から徒歩3分\\n西武新宿線西武新宿駅から徒歩4分\\n\\n\\n距离東新宿 375  米'}, {'age': 40, 'cp_rating_dinner': 3.14, 'cp_rating_lunch': 3.13, 'feeling_rating_dinner': 3.49, 'feeling_rating_lunch': 3.43, 'female_prop': 23.8, 'label_code': 1, 'label_desc': '平消族', 'lat': 35.6829352, 'lng': 139.7394101, 'male_prop': 76.2, 'meal_duration': 1.0, 'prices_dinner': 425, 'prices_lunch': 425, 'rest_addr': '東京都韆代田區平河町1-3-10', 'rest_area': '永田町・麴町・半藏門', 'rest_catg': '拉麵', 'rest_rating': 3.78, 'service_rating_dinner': 3.48, 'service_rating_lunch': 3.33, 'store_nm_en': 'soranoiro', 'store_nm_jp': 'SORANOIRO 本店', 'transport': '東京メトロ有楽町線麹町駅1番出口\\n1番出口を出て直進すぐの信号を右折。\\n松屋とつじ田の角を左折し、次の信号を渡った右手。\\n東京メトロ半蔵門線・半蔵門駅1番出口から徒歩４分\\n\\n\\n距离麴町 314  米'}, {'age': 37, 'cp_rating_dinner': 3.49, 'cp_rating_lunch': 3.64, 'feeling_rating_dinner': 4.3, 'feeling_rating_lunch': 4.39, 'female_prop': 24.45, 'label_code': 1, 'label_desc': '平消族', 'lat': 35.6674536, 'lng': 139.7068537, 'male_prop': 75.55, 'meal_duration': 1.0, 'prices_dinner': 7087, 'prices_lunch': 3543, 'rest_addr': '東京都澀穀區神宮前5-10-1', 'rest_area': '原宿', 'rest_catg': '鐵板燒/牛排', 'rest_rating': 3.76, 'service_rating_dinner': 4.16, 'service_rating_lunch': 4.32, 'store_nm_en': 'OMOTESANDO Ukai-tei', 'store_nm_jp': '表参道うかい亭', 'transport': '地下鉄銀座線・千代田線・半蔵門線\\u3000表参道駅A1出口\\u3000徒歩5分\\n地下鉄千代田線・副都心線\\u3000明治神宮駅4番出口\\u3000徒歩3分\\nＪＲ原宿駅\\u3000徒歩7分\\n\\n\\n距离明治神宮前 323  米'}, {'age': 43, 'cp_rating_dinner': 3.46, 'cp_rating_lunch': 3.57, 'feeling_rating_dinner': 3.51, 'feeling_rating_lunch': 3.47, 'female_prop': 23.59, 'label_code': 1, 'label_desc': '平消族', 'lat': 35.6951723, 'lng': 139.7638945, 'male_prop': 76.41, 'meal_duration': 1.0, 'prices_dinner': 142, 'prices_lunch': 709, 'rest_addr': '東京都韆代田區神田小川町2-8', 'rest_area': '神田・御茶之水', 'rest_catg': '炸豬排/咖哩飯/可樂餅・油炸食品', 'rest_rating': 3.8, 'service_rating_dinner': 3.57, 'service_rating_lunch': 3.81, 'store_nm_en': 'Ponchiken', 'store_nm_jp': 'ポンチ軒', 'transport': '都営地下鉄新宿線【小川町駅】徒歩４分\\n東京メトロ丸ノ内線【淡路町駅】徒歩６分\\n東京メトロ千代田線【新御茶ノ水駅】徒歩６分\\nＪＲ中央線・総武線【御茶ノ水駅】徒歩７分\\n\\n\\n距离小川町 224  米'}, {'age': 45, 'cp_rating_dinner': 3.56, 'cp_rating_lunch': 3.44, 'feeling_rating_dinner': 3.5, 'feeling_rating_lunch': 3.4, 'female_prop': 23.87, 'label_code': 1, 'label_desc': '平消族', 'lat': 35.7377996, 'lng': 139.7312093, 'male_prop': 76.13, 'meal_duration': 1.0, 'prices_dinner': 992, 'prices_lunch': 425, 'rest_addr': '東京都豐島區巢鴨4-14-15', 'rest_area': '北池袋・板橋車站周邊', 'rest_catg': '蕎麥麵', 'rest_rating': 3.78, 'service_rating_dinner': 3.55, 'service_rating_lunch': 3.4, 'store_nm_en': 'Teuchisobakikutani', 'store_nm_jp': '手打ちそば 菊谷 巣鴨本店', 'transport': '都電荒川線【庚申塚停留所】徒歩３分\\n都営地下鉄三田線【巣鴨駅】徒歩10分\\nＪＲ山手線【巣鴨駅】徒歩11分\\n\\n\\n距离庚申塚 229  米'}, {'age': 43, 'cp_rating_dinner': 3.24, 'cp_rating_lunch': 3.35, 'feeling_rating_dinner': 3.67, 'feeling_rating_lunch': 3.82, 'female_prop': 23.28, 'label_code': 1, 'label_desc': '平消族', 'lat': 35.6812097, 'lng': 139.7747558, 'male_prop': 76.72, 'meal_duration': 1.0, 'prices_dinner': 1984, 'prices_lunch': 425, 'rest_addr': '東京都中央區日本橋2-9-9', 'rest_area': '日本橋・京橋', 'rest_catg': '魚類料理・海鮮料理/星鰻/天婦羅', 'rest_rating': 3.77, 'service_rating_dinner': 3.39, 'service_rating_lunch': 3.56, 'store_nm_en': 'Tamai', 'store_nm_jp': '玉ゐ 本店', 'transport': 'ＪＲ東京駅八重洲口から高島屋デパート方面へ徒歩8分。東京メトロ銀座線・東西線、都営浅草線日本橋駅から徒歩3分。\\n\\n\\n距离日本橋 106  米'}]\n"
     ]
    },
    {
     "name": "stdout",
     "output_type": "stream",
     "text": [
      "=====================\n",
      " 第1天行程：\n",
      "淺草 Asakusa約20.1 公里，景點間通勤約需32 分鐘。\n",
      "---------------\n",
      "雷門 Nakamise Shopping Street (Kaminarimon)約1.8 公里，景點間通勤約需7 分鐘。\n",
      "---------------\n",
      "淺草文化觀光中心 Asakusa Culture Tourist Information Center約61 公尺，景點間通勤約需1 分鐘。\n",
      "---------------\n",
      "\n",
      "地圖連結：https://45a28610.ngrok.io/images/day1-Ud23427619a8d0de9734e993431a4fab3-1574386690386map.html\n",
      "===============\n",
      "第2天行程：\n",
      "舊古河庭園 Kyu Fukukawa Teien約31.8 公里，景點間通勤約需46 分鐘。\n",
      "---------------\n",
      "惠比壽啤酒紀念館 Museum of Yebisu Beer約17.5 公里，景點間通勤約需30 分鐘。\n",
      "---------------\n",
      "目黑河燈飾展 megurogawa MINNA no ILLUMI約3.1 公里，景點間通勤約需10 分鐘。\n",
      "---------------\n",
      "\n",
      "地圖連結：https://45a28610.ngrok.io/images/day2-Ud23427619a8d0de9734e993431a4fab3-1574386690386map.html\n",
      "===============\n",
      "第3天行程：\n",
      " Takashimaya Nihombashi約16.2 公里，景點間通勤約需29 分鐘。\n",
      "---------------\n",
      "太田現代美術博物館 Ota Memorial Museum of Art約9.3 公里，景點間通勤約需17 分鐘。\n",
      "---------------\n",
      " Kinuta Park約13.2 公里，景點間通勤約需26 分鐘。\n",
      "---------------\n",
      "\n",
      "地圖連結：https://45a28610.ngrok.io/images/day3-Ud23427619a8d0de9734e993431a4fab3-1574386690386map.html\n",
      "===============\n",
      " \n",
      "=======================\n"
     ]
    },
    {
     "name": "stderr",
     "output_type": "stream",
     "text": [
      "172.18.0.6 - - [22/Nov/2019 01:38:16] \"POST / HTTP/1.1\" 200 -\n"
     ]
    },
    {
     "name": "stdout",
     "output_type": "stream",
     "text": [
      "::tripStart:\n"
     ]
    },
    {
     "name": "stderr",
     "output_type": "stream",
     "text": [
      "172.18.0.6 - - [22/Nov/2019 01:38:20] \"GET /images/day3-Ud23427619a8d0de9734e993431a4fab3-1574386690386map.html HTTP/1.1\" 206 -\n",
      "172.18.0.6 - - [22/Nov/2019 01:38:20] \"GET /images/day2-Ud23427619a8d0de9734e993431a4fab3-1574386690386map.html HTTP/1.1\" 206 -\n",
      "172.18.0.6 - - [22/Nov/2019 01:38:20] \"GET /images/day1-Ud23427619a8d0de9734e993431a4fab3-1574386690386map.html HTTP/1.1\" 206 -\n",
      "172.18.0.6 - - [22/Nov/2019 01:38:21] \"GET /images/day3-Ud23427619a8d0de9734e993431a4fab3-1574386690386map.html HTTP/1.1\" 200 -\n",
      "172.18.0.6 - - [22/Nov/2019 01:38:21] \"GET /images/day2-Ud23427619a8d0de9734e993431a4fab3-1574386690386map.html HTTP/1.1\" 200 -\n",
      "172.18.0.6 - - [22/Nov/2019 01:38:21] \"GET /images/day1-Ud23427619a8d0de9734e993431a4fab3-1574386690386map.html HTTP/1.1\" 200 -\n",
      "172.18.0.6 - - [22/Nov/2019 01:38:29] \"POST / HTTP/1.1\" 200 -\n"
     ]
    },
    {
     "name": "stdout",
     "output_type": "stream",
     "text": [
      "R82-WTF,Ud23427619a8d0de9734e993431a4fab3\n",
      "{\"data\": \"souvenir\"}\n",
      "1574386708588,2019-11-22 01:38:28.588000\n",
      "{'age': 35, 'been2tko': 20, 'days': 4, 'budget': 80000, 'isFemale': 0}\n",
      "10 [{'Types': '餅乾類', 'address': '東京駅大丸東京4F', 'price': 1250, 'ranking': 41, 'souvenir': '東京カンパネラ「東京カンパネラ・ショコラ」', 'url': 'http://hacci1912.com/'}, {'Types': '餅乾類', 'address': '新宿駅伊勢丹B1F', 'price': 480, 'ranking': 78, 'souvenir': '福太郎「めんべい」', 'url': 'http://candy-showtime.com'}, {'Types': '餅乾類', 'address': '渋谷駅渋谷ヒカリエShinQs_B2F', 'price': 648, 'ranking': 57, 'souvenir': '桂新堂「渋谷えびせんべい」', 'url': 'http://www.keishindo.co.jp'}, {'Types': '小蛋糕類', 'address': '新宿駅NEWoman（ニュウマン）エキナカ2F', 'price': 486, 'ranking': 21, 'souvenir': 'TAICHIRO_MORINAGA「キャラメルラスク」', 'url': 'http://www.morinaga.co.jp/taichiro/'}, {'Types': '小蛋糕類', 'address': '池袋駅西武百貨店池袋本店B1F中央A3', 'price': 972, 'ranking': 62, 'souvenir': 'セバスチャン_ブイエ「タルトレット」', 'url': 'http://www.bouillet.jp/html/item/tartelette.html'}, {'Types': '點心類', 'address': '品川駅エキュート品川サウス1F', 'price': 840, 'ranking': 72, 'souvenir': '柿の木坂Quatre（キャトル）「うふプリン」', 'url': 'http://www.quatre.co.jp/shop/'}, {'Types': '點心類', 'address': '渋谷駅東急フードショーB1F', 'price': 324, 'ranking': 13, 'souvenir': 'La_Terre_saison（ラ_テール_セゾン）「大地のプリン“ウ・オ・レ”」', 'url': 'https://www.laterre.com/patisserie/'}, {'Types': '點心類', 'address': '東京ソラマチ1F', 'price': 550, 'ranking': 79, 'souvenir': 'candy_SHOW_TIME「TOKYO_SKYTREE_TOWN®_MIX」', 'url': 'http://candy-showtime.com'}, {'Types': '巧克力類', 'address': '東京駅グランスタB1F', 'price': 648, 'ranking': 46, 'souvenir': 'コロンバン「東京駅焼きショコラ」', 'url': 'http://www.wagashi-miyabian.com'}, {'Types': '夾心餅乾類', 'address': '銀座駅松屋銀座B1F', 'price': 1080, 'ranking': 15, 'souvenir': 'ミルフィユメゾン_フランセ「ミルフィユスペシャリテ」', 'url': 'http://millefeuillemaison.jp'}]\n"
     ]
    },
    {
     "name": "stderr",
     "output_type": "stream",
     "text": [
      "172.18.0.6 - - [22/Nov/2019 01:38:30] \"POST / HTTP/1.1\" 200 -\n"
     ]
    },
    {
     "name": "stdout",
     "output_type": "stream",
     "text": [
      "::souvenir:\n"
     ]
    },
    {
     "name": "stderr",
     "output_type": "stream",
     "text": [
      "172.18.0.6 - - [22/Nov/2019 01:38:39] \"POST / HTTP/1.1\" 200 -\n"
     ]
    },
    {
     "name": "stdout",
     "output_type": "stream",
     "text": [
      "R82-WTF,Ud23427619a8d0de9734e993431a4fab3\n",
      "{\"data\": \"poi\"}\n",
      "1574386719116,2019-11-22 01:38:39.116000\n"
     ]
    },
    {
     "name": "stderr",
     "output_type": "stream",
     "text": [
      "172.18.0.6 - - [22/Nov/2019 01:38:40] \"POST / HTTP/1.1\" 200 -\n"
     ]
    },
    {
     "name": "stdout",
     "output_type": "stream",
     "text": [
      "::POI:\n",
      "{'age': 35, 'been2tko': 20, 'howlong': 4, 'budget': 80000, 'isFemale': 0, 'with_child': 0, 'crampedSechedule': False}\n",
      "['[{\"index\":75,\"name\":\" The Sumida Hokusai Museum\",\"rank\":\"排名第 5的墨田區觀光 (共264家)\",\"address\":\"東京都墨田區2-7-2 Kamezawa130-0014\",\"child\":0.0904485493,\"latitude\":35.693465,\"longitude\":139.8006398,\"score\":70,\"chosen\":true},{\"index\":192,\"name\":\"隅田川花火大會 Sumida River Fireworks\",\"rank\":\"排名第 12的墨田區觀光 (共264家)\",\"address\":\"東京都墨田區\",\"child\":0.0,\"latitude\":35.7107479,\"longitude\":139.8016393,\"score\":70,\"chosen\":true},{\"index\":190,\"name\":\"目白庭園 Mejiro Garden\",\"rank\":\"排名第 10的豊島區觀光 (共179家)\",\"address\":\"東京都豊島區目白3-20-18171-0031\",\"child\":0.0,\"latitude\":35.7242271,\"longitude\":139.7054175,\"score\":114,\"chosen\":true}]', '[{\"index\":225,\"name\":\"東京馬拉松 Tokyo Marathon\",\"rank\":\"排名第 12的新宿區觀光 (共419家)\",\"address\":\"東京都新宿區2-8-1 NishishinjukuTokyo Metropolitan Government Building163-8001\",\"child\":0.0542821379,\"latitude\":35.6898531,\"longitude\":139.6917321,\"score\":70,\"chosen\":true},{\"index\":43,\"name\":\"八芳園 Happoen Garden\",\"rank\":\"排名第 2的港區觀光 (共626家)\",\"address\":\"東京都港區白金台1-1-1108-8631\",\"child\":0.0155306801,\"latitude\":35.6389883,\"longitude\":139.7297575,\"score\":114,\"chosen\":true},{\"index\":227,\"name\":\" Jujo Ginza Shopping Arcade\",\"rank\":\"排名第 4的北區觀光 (共102家)\",\"address\":\"東京都北區Jujonakahara114-0031\",\"child\":0.0,\"latitude\":35.7651834,\"longitude\":139.7204992,\"score\":114,\"chosen\":true}]']\n",
      " The Sumida Hokusai Museum\n",
      "大東京都會排名第 5的墨田區觀光 (共264家)\n",
      "地址：東京都墨田區2-7-2 Kamezawa130-0014。\n",
      "---------------\n",
      "隅田川花火大會 Sumida River Fireworks\n",
      "大東京都會排名第 12的墨田區觀光 (共264家)\n",
      "地址：東京都墨田區。\n",
      "---------------\n",
      "目白庭園 Mejiro Garden\n",
      "大東京都會排名第 10的豊島區觀光 (共179家)\n",
      "地址：東京都豊島區目白3-20-18171-0031。\n",
      "---------------\n",
      "\n",
      " The Sumida Hokusai Museum\n",
      "大東京都會排名第 5的墨田區觀光 (共264家)\n",
      "地址：東京都墨田區2-7-2 Kamezawa130-0014。\n",
      "---------------\n",
      "隅田川花火大會 Sumida River Fireworks\n",
      "大東京都會排名第 12的墨田區觀光 (共264家)\n",
      "地址：東京都墨田區。\n",
      "---------------\n",
      "目白庭園 Mejiro Garden\n",
      "大東京都會排名第 10的豊島區觀光 (共179家)\n",
      "地址：東京都豊島區目白3-20-18171-0031。\n",
      "---------------\n",
      "===============\n",
      "東京馬拉松 Tokyo Marathon\n",
      "大東京都會排名第 12的新宿區觀光 (共419家)\n",
      "地址：東京都新宿區2-8-1 NishishinjukuTokyo Metropolitan Government Building163-8001。\n",
      "---------------\n",
      "八芳園 Happoen Garden\n",
      "大東京都會排名第 2的港區觀光 (共626家)\n",
      "地址：東京都港區白金台1-1-1108-8631。\n",
      "---------------\n",
      " Jujo Ginza Shopping Arcade\n",
      "大東京都會排名第 4的北區觀光 (共102家)\n",
      "地址：東京都北區Jujonakahara114-0031。\n",
      "---------------\n",
      "\n",
      " The Sumida Hokusai Museum\n",
      "大東京都會排名第 5的墨田區觀光 (共264家)\n",
      "地址：東京都墨田區2-7-2 Kamezawa130-0014。\n",
      "---------------\n",
      "隅田川花火大會 Sumida River Fireworks\n",
      "大東京都會排名第 12的墨田區觀光 (共264家)\n",
      "地址：東京都墨田區。\n",
      "---------------\n",
      "目白庭園 Mejiro Garden\n",
      "大東京都會排名第 10的豊島區觀光 (共179家)\n",
      "地址：東京都豊島區目白3-20-18171-0031。\n",
      "---------------\n",
      "東京馬拉松 Tokyo Marathon\n",
      "大東京都會排名第 12的新宿區觀光 (共419家)\n",
      "地址：東京都新宿區2-8-1 NishishinjukuTokyo Metropolitan Government Building163-8001。\n",
      "---------------\n",
      "八芳園 Happoen Garden\n",
      "大東京都會排名第 2的港區觀光 (共626家)\n",
      "地址：東京都港區白金台1-1-1108-8631。\n",
      "---------------\n",
      " Jujo Ginza Shopping Arcade\n",
      "大東京都會排名第 4的北區觀光 (共102家)\n",
      "地址：東京都北區Jujonakahara114-0031。\n",
      "---------------\n",
      "===============\n"
     ]
    },
    {
     "name": "stderr",
     "output_type": "stream",
     "text": [
      "172.18.0.6 - - [22/Nov/2019 01:38:44] \"POST / HTTP/1.1\" 200 -\n"
     ]
    },
    {
     "name": "stdout",
     "output_type": "stream",
     "text": [
      "R82-WTF,Ud23427619a8d0de9734e993431a4fab3\n",
      "{\"data\": \"poiPush\"}\n",
      "1574386722641,2019-11-22 01:38:42.641000\n"
     ]
    },
    {
     "name": "stderr",
     "output_type": "stream",
     "text": [
      "172.18.0.6 - - [22/Nov/2019 01:38:46] \"POST / HTTP/1.1\" 200 -\n"
     ]
    },
    {
     "name": "stdout",
     "output_type": "stream",
     "text": [
      "R82-WTF,Ud23427619a8d0de9734e993431a4fab3\n",
      "{\"data\": \"flight-hotel\"}\n",
      "1574386725941,2019-11-22 01:38:45.941000\n",
      "{'age': 35, 'been2tko': 20, 'days': 4, 'budget': 80000, 'isFemale': 0, 'fbudget': 10000, 'dDate': '2019-11-20', 'rDate': '2019-11-24'}\n",
      "{'airline': 'EVA Air', 'date_format(eta,\"%a\")': 'Wed', 'date_format(etd,\"%a\")': 'Wed', 'date_format(suEta,\"%a\")': 'Sun', 'date_format(suEtd,\"%a\")': 'Sun', 'price': 12086, 'time_format(eta,\"%T\")': '12:00:00', 'time_format(etd,\"%T\")': '07:55:00', 'time_format(sec_to_time(dur),\"%T\")': '03:05:00', 'time_format(sec_to_time(suDur),\"%T\")': '04:05:00', 'time_format(suEta,\"%T\")': '17:05:00', 'time_format(suEtd,\"%T\")': '14:00:00'}\n",
      "bk by sun\n",
      "{'age': 35, 'been2tko': 20, 'days': 4, 'budget': 80000, 'isFemale': 0, 'hotel budget': 3000}\n",
      "{'CP': 3.684661525, 'pre': 2.0, '交通1': '京橋站 - 走路 2 分鐘', '交通2': '八丁堀站 - 走路 10 分鐘', '交通3': '東京, 日本 (HND-羽田機場) - 車程 15 分鐘', '交通便利性': '2', '價格': 1167.0, '地址': '2-5-4 Kyobashi, 東京, 東京', '廚房': 0.0, '星等': 3.0, '經度': 139.770714, '網址': 'https://www.expedia.com.tw/Tokyo-Hotels-Another-TOKYO.h34404110.Hotel-Information?chkin=2019%2F10%2F4&chkout=2019%2F10%2F5&regionId=179900&destination=%E6%9D%B1%E4%BA%AC+%28%E5%8F%8A%E9%84%B0%E8%BF%91%E5%9C%B0%E5%8D%80%29%2C+%E6%97%A5%E6%9C%AC&swpToggleOn=true&rm1=a1&x_pwa=1&sort=recommended&top_dp=1167&top_cur=TWD&rfrr=HSR&pwa_ts=1570019075313', '緯度': 35.676451, '評價': 4.3, '鄰近景點1': '歌舞伎座 - 步行 13 分鐘', '鄰近景點2': '皇居 - 步行 19 分鐘', '鄰近景點3': '國會議事堂 - 開車 3 分鐘', '鄰近景點4': '皇居東御苑 - 開車 5 分鐘', '鄰近景點5': '秋葉原電器街 - 開車 17 分鐘', '飯店名稱': '東京另一面飯店'}\n",
      "[{\"text\": \"\\u8b93\\u60a8\\u4e45\\u7b49\\u4e86\\u3002\\n\\u4f9d\\u64da\\u60a8\\u7684\\u504f\\u597d\\u5206\\u6790\\uff0c\\u6700\\u9069\\u5408\\u60a8\\u7684\\u822a\\u73ed\\u70baEVA Air\\uff0c\\u53c3\\u8003\\u50f9\\u683c\\u70baNTD$12086\\u3002\\n\\n\\u51fa\\u767c\\u8d77\\u98db\\u6642\\u9593\\u70ba(\\u53f0\\u5317)2019-11-20(Wed) 07:55:00\\uff0c\\u9700\\u664203:05:00\\uff0c\\u62b5\\u9054\\u6642\\u9593\\u70ba(\\u6771\\u4eac)2019-11-20(Wed) 12:00:00\\u3002\\n\\n\\u56de\\u570b\\u8d77\\u98db\\u6642\\u9593\\u70ba(\\u6771\\u4eac)2019-11-24(Sun) 14:00:00\\uff0c\\u9700\\u664204:05:00\\uff0c\\u62b5\\u9054\\u6642\\u9593\\u70ba(\\u53f0\\u5317)2019-11-24(Sun) 17:05:00\\u3002\\n---------------\\n\\n\\n\\u6700\\u9069\\u5408\\u60a8\\u7684\\u98ef\\u5e97\\u70ba\\n\\u6771\\u4eac\\u53e6\\u4e00\\u9762\\u98ef\\u5e97\\uff0c3\\u9846\\u661f\\uff0c\\u7528\\u6236\\u8a55\\u50f94.3/5\\uff0c\\n\\u6bcf\\u665a\\u53c3\\u8003\\u50f9\\u683c\\u70baNTD$1167\\u3002\\n\\u5730\\u5740\\u70ba2-5-4 Kyobashi, \\u6771\\u4eac, \\u6771\\u4eac\\u3002\\n\\n\\u9130\\u8fd1\\u5730\\u9435\\u7ad9\\uff1a\\n\\u4eac\\u6a4b\\u7ad9 - \\u8d70\\u8def 2 \\u5206\\u9418\\uff0c\\n\\u516b\\u4e01\\u5800\\u7ad9 - \\u8d70\\u8def 10 \\u5206\\u9418\\u3002\\n\\n\\u9644\\u8fd1\\u666f\\u9ede\\uff1a\\n\\u6b4c\\u821e\\u4f0e\\u5ea7 - \\u6b65\\u884c 13 \\u5206\\u9418\\uff0c\\n\\u7687\\u5c45 - \\u6b65\\u884c 19 \\u5206\\u9418\\uff0c\\n\\u570b\\u6703\\u8b70\\u4e8b\\u5802 - \\u958b\\u8eca 3 \\u5206\\u9418\\u3002\", \"type\": \"text\"}, {\"packageId\": \"11537\", \"stickerId\": \"52002745\", \"type\": \"sticker\"}]\n"
     ]
    },
    {
     "name": "stderr",
     "output_type": "stream",
     "text": [
      "172.18.0.6 - - [22/Nov/2019 01:38:47] \"POST / HTTP/1.1\" 200 -\n"
     ]
    },
    {
     "name": "stdout",
     "output_type": "stream",
     "text": [
      "::flightHotel:\n"
     ]
    },
    {
     "name": "stderr",
     "output_type": "stream",
     "text": [
      "172.18.0.6 - - [22/Nov/2019 01:41:45] \"POST / HTTP/1.1\" 200 -\n"
     ]
    },
    {
     "name": "stdout",
     "output_type": "stream",
     "text": [
      " ..您好\n",
      "<Response [200]>\n"
     ]
    },
    {
     "name": "stderr",
     "output_type": "stream",
     "text": [
      "172.18.0.6 - - [22/Nov/2019 01:42:03] \"POST / HTTP/1.1\" 200 -\n"
     ]
    },
    {
     "name": "stdout",
     "output_type": "stream",
     "text": [
      "..您好\n"
     ]
    },
    {
     "name": "stderr",
     "output_type": "stream",
     "text": [
      "172.18.0.6 - - [22/Nov/2019 01:42:15] \"POST / HTTP/1.1\" 200 -\n"
     ]
    },
    {
     "name": "stdout",
     "output_type": "stream",
     "text": [
      "您好\n",
      "pic received\n"
     ]
    },
    {
     "name": "stderr",
     "output_type": "stream",
     "text": [
      "172.18.0.6 - - [22/Nov/2019 01:44:20] \"POST / HTTP/1.1\" 200 -\n"
     ]
    },
    {
     "name": "stdout",
     "output_type": "stream",
     "text": [
      "{'國會議事堂': 1.5284427945516654e-07, '富士電視台': 7.227082043925748e-09, '晴空塔': 0.9963821172714233, '東京車站': 9.238634163244441e-11, '東京都廳': 1.4424316852057473e-08, '東京鐵塔': 0.003617519047111273, '淺草雷門': 2.1398368232894427e-07}\n",
      "Ud23427619a8d0de9734e993431a4fab3,10958673394516,image,{\"type\": \"line\"},1574387026368\n"
     ]
    },
    {
     "name": "stderr",
     "output_type": "stream",
     "text": [
      "172.18.0.6 - - [22/Nov/2019 01:44:20] \"POST / HTTP/1.1\" 200 -\n"
     ]
    },
    {
     "name": "stdout",
     "output_type": "stream",
     "text": [
      "R82-WTF,Ud23427619a8d0de9734e993431a4fab3\n",
      "{\"data\": \"poi\"}\n",
      "1574387032567,2019-11-22 01:43:52.567000\n"
     ]
    },
    {
     "name": "stderr",
     "output_type": "stream",
     "text": [
      "172.18.0.6 - - [22/Nov/2019 01:44:20] \"POST / HTTP/1.1\" 200 -\n"
     ]
    },
    {
     "name": "stdout",
     "output_type": "stream",
     "text": [
      "::POI:\n",
      "                                userId val_Id         value         tStamp\n",
      "0    Ud23427619a8d0de9734e993431a4fab3  國會議事堂  1.176341e-26  1573553869951\n",
      "1    Ud23427619a8d0de9734e993431a4fab3  富士電視台  2.356129e-33  1573553869951\n",
      "2    Ud23427619a8d0de9734e993431a4fab3    晴空塔  0.000000e+00  1573553869951\n",
      "3    Ud23427619a8d0de9734e993431a4fab3   東京車站  1.000000e+00  1573553869951\n",
      "4    Ud23427619a8d0de9734e993431a4fab3   東京都廳  0.000000e+00  1573553869951\n",
      "..                                 ...    ...           ...            ...\n",
      "268  Ud23427619a8d0de9734e993431a4fab3    晴空塔  9.963821e-01  1574387026368\n",
      "269  Ud23427619a8d0de9734e993431a4fab3   東京車站  9.238634e-11  1574387026368\n",
      "270  Ud23427619a8d0de9734e993431a4fab3   東京都廳  1.442432e-08  1574387026368\n",
      "271  Ud23427619a8d0de9734e993431a4fab3   東京鐵塔  3.617519e-03  1574387026368\n",
      "272  Ud23427619a8d0de9734e993431a4fab3   淺草雷門  2.139837e-07  1574387026368\n",
      "\n",
      "[140 rows x 4 columns]\n",
      "1574387026368\n",
      "                                userId val_Id         value         tStamp\n",
      "266  Ud23427619a8d0de9734e993431a4fab3  國會議事堂  1.528443e-07  1574387026368\n",
      "267  Ud23427619a8d0de9734e993431a4fab3  富士電視台  7.227082e-09  1574387026368\n",
      "268  Ud23427619a8d0de9734e993431a4fab3    晴空塔  9.963821e-01  1574387026368\n",
      "269  Ud23427619a8d0de9734e993431a4fab3   東京車站  9.238634e-11  1574387026368\n",
      "270  Ud23427619a8d0de9734e993431a4fab3   東京都廳  1.442432e-08  1574387026368\n",
      "271  Ud23427619a8d0de9734e993431a4fab3   東京鐵塔  3.617519e-03  1574387026368\n",
      "272  Ud23427619a8d0de9734e993431a4fab3   淺草雷門  2.139837e-07  1574387026368\n",
      "99.63821172714232 晴空塔\n",
      "看來旅人您上傳的照片最像晴空塔呢!準確度=99.64%阿!\n"
     ]
    },
    {
     "name": "stderr",
     "output_type": "stream",
     "text": [
      "172.18.0.6 - - [22/Nov/2019 01:44:24] \"POST / HTTP/1.1\" 200 -\n"
     ]
    },
    {
     "name": "stdout",
     "output_type": "stream",
     "text": [
      "R82-WTF,Ud23427619a8d0de9734e993431a4fab3\n",
      "{\"data\": \"poiRecg\"}\n",
      "1574387063488,2019-11-22 01:44:23.488000\n"
     ]
    },
    {
     "name": "stderr",
     "output_type": "stream",
     "text": [
      "172.18.0.6 - - [22/Nov/2019 01:44:41] \"POST / HTTP/1.1\" 200 -\n"
     ]
    },
    {
     "name": "stdout",
     "output_type": "stream",
     "text": [
      "R82-WTF,Ud23427619a8d0de9734e993431a4fab3\n",
      "{\"data\": \"faq\"}\n",
      "1574387080906,2019-11-22 01:44:40.906000\n"
     ]
    },
    {
     "name": "stderr",
     "output_type": "stream",
     "text": [
      "172.18.0.6 - - [22/Nov/2019 01:44:42] \"POST / HTTP/1.1\" 200 -\n"
     ]
    },
    {
     "name": "stdout",
     "output_type": "stream",
     "text": [
      "::FAQ:\n"
     ]
    },
    {
     "name": "stderr",
     "output_type": "stream",
     "text": [
      "172.18.0.6 - - [22/Nov/2019 01:44:47] \"POST / HTTP/1.1\" 200 -\n"
     ]
    },
    {
     "name": "stdout",
     "output_type": "stream",
     "text": [
      "R82-WTF,Ud23427619a8d0de9734e993431a4fab3\n",
      "{\"data\": \"manual\"}\n",
      "1574387085847,2019-11-22 01:44:45.847000\n"
     ]
    },
    {
     "name": "stderr",
     "output_type": "stream",
     "text": [
      "172.18.0.6 - - [22/Nov/2019 01:47:23] \"POST / HTTP/1.1\" 200 -\n"
     ]
    },
    {
     "name": "stdout",
     "output_type": "stream",
     "text": [
      "Watson Buffet(快樂自助餐)\n",
      "U0b000bbddf5328f9c1c199827fd8aa0a\n",
      "https://profile.line-scdn.net/0hgGs-rAtuOGhOVBU9Gy9HP3IRNgU5ej4gNmAjBjwGNVxmbSw_JmBwDj9VYFFiN3c2Jjt_Dz4EY1lk\n",
      "None\n"
     ]
    },
    {
     "name": "stderr",
     "output_type": "stream",
     "text": [
      "172.18.0.6 - - [22/Nov/2019 01:47:32] \"POST / HTTP/1.1\" 200 -\n"
     ]
    },
    {
     "name": "stdout",
     "output_type": "stream",
     "text": [
      "Watson Buffet(快樂自助餐),U0b000bbddf5328f9c1c199827fd8aa0a\n",
      "{\"data\": \"gender,1\"}\n",
      "1574387251364,2019-11-22 01:47:31.364000\n"
     ]
    },
    {
     "name": "stderr",
     "output_type": "stream",
     "text": [
      "172.18.0.6 - - [22/Nov/2019 01:47:36] \"POST / HTTP/1.1\" 200 -\n"
     ]
    },
    {
     "name": "stdout",
     "output_type": "stream",
     "text": [
      "Watson Buffet(快樂自助餐),U0b000bbddf5328f9c1c199827fd8aa0a\n",
      "{\"data\": \"birthday\", \"params\": {\"date\": \"2019-11-22\"}}\n",
      "1574387255386,2019-11-22 01:47:35.386000\n"
     ]
    },
    {
     "name": "stderr",
     "output_type": "stream",
     "text": [
      "172.18.0.6 - - [22/Nov/2019 01:47:49] \"POST / HTTP/1.1\" 200 -\n"
     ]
    },
    {
     "name": "stdout",
     "output_type": "stream",
     "text": [
      "@5\n"
     ]
    },
    {
     "name": "stderr",
     "output_type": "stream",
     "text": [
      "172.18.0.6 - - [22/Nov/2019 01:48:15] \"POST / HTTP/1.1\" 200 -\n"
     ]
    },
    {
     "name": "stdout",
     "output_type": "stream",
     "text": [
      "$100000$5000$3000$400\n"
     ]
    },
    {
     "name": "stderr",
     "output_type": "stream",
     "text": [
      "172.18.0.6 - - [22/Nov/2019 01:48:18] \"POST / HTTP/1.1\" 200 -\n"
     ]
    },
    {
     "name": "stdout",
     "output_type": "stream",
     "text": [
      "Watson Buffet(快樂自助餐),U0b000bbddf5328f9c1c199827fd8aa0a\n",
      "{\"data\": \"partner,3\"}\n",
      "1574387297405,2019-11-22 01:48:17.405000\n"
     ]
    },
    {
     "name": "stderr",
     "output_type": "stream",
     "text": [
      "172.18.0.6 - - [22/Nov/2019 01:48:22] \"POST / HTTP/1.1\" 200 -\n"
     ]
    },
    {
     "name": "stdout",
     "output_type": "stream",
     "text": [
      "Watson Buffet(快樂自助餐),U0b000bbddf5328f9c1c199827fd8aa0a\n",
      "{\"data\": \"style,1\"}\n",
      "1574387301186,2019-11-22 01:48:21.186000\n"
     ]
    },
    {
     "name": "stderr",
     "output_type": "stream",
     "text": [
      "172.18.0.6 - - [22/Nov/2019 01:48:28] \"POST / HTTP/1.1\" 200 -\n"
     ]
    },
    {
     "name": "stdout",
     "output_type": "stream",
     "text": [
      "Watson Buffet(快樂自助餐),U0b000bbddf5328f9c1c199827fd8aa0a\n",
      "{\"data\": \"deptDate\", \"params\": {\"date\": \"2019-11-29\"}}\n",
      "1574387307281,2019-11-22 01:48:27.281000\n"
     ]
    },
    {
     "name": "stderr",
     "output_type": "stream",
     "text": [
      "172.18.0.6 - - [22/Nov/2019 01:48:35] \"POST / HTTP/1.1\" 200 -\n"
     ]
    },
    {
     "name": "stdout",
     "output_type": "stream",
     "text": [
      "Watson Buffet(快樂自助餐),U0b000bbddf5328f9c1c199827fd8aa0a\n",
      "{\"data\": \"retDate\", \"params\": {\"date\": \"2019-12-05\"}}\n",
      "1574387314700,2019-11-22 01:48:34.700000\n"
     ]
    },
    {
     "name": "stderr",
     "output_type": "stream",
     "text": [
      "172.18.0.6 - - [22/Nov/2019 01:48:40] \"POST / HTTP/1.1\" 200 -\n"
     ]
    },
    {
     "name": "stdout",
     "output_type": "stream",
     "text": [
      "Watson Buffet(快樂自助餐),U0b000bbddf5328f9c1c199827fd8aa0a\n",
      "{\"data\": \"tripStart\"}\n",
      "1574387320197,2019-11-22 01:48:40.197000\n",
      "{'age': 0, 'been2tko': 5, 'days': 6, 'budget': 100000, 'isFemale': 1, 'fbudget': 5000, 'dDate': '2019-11-29', 'rDate': '2019-12-05'}\n",
      "{'airline': 'Scoot', 'date_format(eta,\"%a\")': 'Fri', 'date_format(etd,\"%a\")': 'Fri', 'date_format(thEta,\"%a\")': 'Thu', 'date_format(thEtd,\"%a\")': 'Thu', 'price': 7033, 'time_format(eta,\"%T\")': '10:45:00', 'time_format(etd,\"%T\")': '06:40:00', 'time_format(sec_to_time(dur),\"%T\")': '03:05:00', 'time_format(sec_to_time(thDur),\"%T\")': '04:20:00', 'time_format(thEta,\"%T\")': '23:30:00', 'time_format(thEtd,\"%T\")': '20:10:00'}\n",
      "bk by thu\n",
      "{'age': 0, 'been2tko': 5, 'howlong': 6, 'budget': 100000, 'isFemale': 1, 'with_child': 0, 'crampedSechedule': True}\n",
      "['[{\"index\":75,\"name\":\" The Sumida Hokusai Museum\",\"rank\":\"排名第 5的墨田區觀光 (共264家)\",\"address\":\"東京都墨田區2-7-2 Kamezawa130-0014\",\"child\":0.0904485493,\"latitude\":35.693465,\"longitude\":139.8006398,\"score\":70,\"chosen\":true},{\"index\":48,\"name\":\"雷門 Nakamise Shopping Street (Kaminarimon)\",\"rank\":\"排名第 18的台東區觀光 (共560家)\",\"address\":\"東京都台東區淺草1丁目3\",\"child\":0.0048539208,\"latitude\":35.7110859,\"longitude\":139.7959648,\"score\":114,\"chosen\":true},{\"index\":114,\"name\":\" Nippori Fabric Town\",\"rank\":\"排名第 1的荒川區觀光 (共75家)\",\"address\":\"東京都荒川區\",\"child\":0.0,\"latitude\":35.7359339,\"longitude\":139.7834758,\"score\":114,\"chosen\":true},{\"index\":56,\"name\":\"清澄庭園 Kiyosumi Teien\",\"rank\":\"排名第 4的江東區觀光 (共343家)\",\"address\":\"東京都江東區清澄3-3-9135-0024\",\"child\":0.0,\"latitude\":35.6797501,\"longitude\":139.7978028,\"score\":114,\"chosen\":true}]', '[{\"index\":199,\"name\":\"日本國立國會圖書館 National Diet Library\",\"rank\":\"排名第 35的千代田區觀光 (共446家)\",\"address\":\"東京都千代田區1-10-1, Nagatacho100-8924\",\"child\":0.0,\"latitude\":35.6784667,\"longitude\":139.7442197,\"score\":70,\"chosen\":true},{\"index\":150,\"name\":\"代代木八幡宮 Yoyogi Hachimangu Shrine\",\"rank\":\"排名第 13的澀谷區觀光 (共279家)\",\"address\":\"東京都澀谷區代代木5-1-1151-0053\",\"child\":0.0,\"latitude\":35.671594,\"longitude\":139.6884254,\"score\":114,\"chosen\":true},{\"index\":148,\"name\":\"東京站畫廊 Tokyo Station Gallery\",\"rank\":\"排名第 38的千代田區觀光 (共446家)\",\"address\":\"東京都千代田區1-9-1 Marunouchi100-0005\",\"child\":0.0943284166,\"latitude\":35.6817299,\"longitude\":139.7661852,\"score\":70,\"chosen\":true},{\"index\":176,\"name\":\"隅田公園 Sumida Park\",\"rank\":\"排名第 179的東京觀光 (共5,926家)\",\"address\":\"東京都\",\"child\":0.0082587131,\"latitude\":35.712484,\"longitude\":139.803964,\"score\":114,\"chosen\":true}]', '[{\"index\":233,\"name\":\"精工博物館 The Seiko Museum\",\"rank\":\"排名第 11的墨田區觀光 (共264家)\",\"address\":\"東京都墨田區3-9-7 Higashi Mukojima131-0032\",\"child\":0.1458601027,\"latitude\":35.7267061,\"longitude\":139.8132052,\"score\":70,\"chosen\":true},{\"index\":76,\"name\":\"原宿竹下通 Takeshita Street\",\"rank\":\"排名第 3的Jingumae觀光 (共24家)\",\"address\":\"東京都澀谷區Jingumae神宮前一丁目150-0001\",\"child\":0.2093790616,\"latitude\":35.671872,\"longitude\":139.7051782,\"score\":293,\"chosen\":true},{\"index\":71,\"name\":\"柴又帝釋天(帝釋天題經寺) Shibamata Taishakuten (Taishakuten Daikyoji Temple)\",\"rank\":\"排名第 2的葛飾區觀光 (共139家)\",\"address\":\"東京都葛飾區紫又7丁目10番3號125-0052\",\"child\":0.0,\"latitude\":35.758178,\"longitude\":139.8783651,\"score\":114,\"chosen\":true},{\"index\":209,\"name\":\"洗足池公園 Senzokuike Park\",\"rank\":\"排名第 7的大田區觀光 (共215家)\",\"address\":\"東京都大田區2-14-5 Minamisenzoku145-0063\",\"child\":0.0,\"latitude\":35.6027721,\"longitude\":139.6894663,\"score\":114,\"chosen\":true}]', '[{\"index\":237,\"name\":\"相田光男美術館 Mitsuo Aida Museum\",\"rank\":\"排名第 4的Marunouchi觀光 (共7家)\",\"address\":\"東京都千代田區Marunouchi3-5-1 MarunouchiTokyo International Forum B1100-0005\",\"child\":0.0,\"latitude\":35.6767429,\"longitude\":139.7637532,\"score\":70,\"chosen\":true},{\"index\":33,\"name\":\"合羽橋廚具街 Kappabashi Street (Kappabashi Dogugai)\",\"rank\":\"排名第 12的台東區觀光 (共560家)\",\"address\":\"東京都台東區松谷3-18-2111-0036\",\"child\":0.0602032791,\"latitude\":35.7165256,\"longitude\":139.7887735,\"score\":114,\"chosen\":true},{\"index\":46,\"name\":\"Kidzania兒童社會體驗活動中心 KidZania Tokyo\",\"rank\":\"排名第 1的Toyosu觀光 (共5家)\",\"address\":\"東京都江東區Toyosu豐洲2-4-9 Lalaport豐洲商城Urban Dock LaLaport Toyosu  North Port  3F135-8614\",\"child\":0.8848924101,\"latitude\":35.655718,\"longitude\":139.7926033,\"score\":114,\"chosen\":true},{\"index\":85,\"name\":\" Tokyo Metropolitan Government Buildings Observatories\",\"rank\":\"排名第 2的Nishishinjuku觀光 (共18家)\",\"address\":\"東京都新宿區Nishishinjuku2-8-145th floor, TMG No.1 Building163-8001\",\"child\":0.0115506732,\"latitude\":35.6962502,\"longitude\":139.6930519,\"score\":114,\"chosen\":true}]']\n",
      "{'age': 0, 'been2tko': 5, 'days': 6, 'budget': 100000, 'isFemale': 1, 'hotel budget': 3000}\n",
      "{'CP': 1.462718516, 'pre': 1.0, '交通1': '常盤台站 - 走路 11 分鐘', '交通2': '小竹向原站 - 走路 18 分鐘', '交通3': '東京, 日本 (NRT-成田國際機場) - 車程 54 分鐘', '交通便利性': '11', '價格': 2803.0, '地址': '36-4, Higashiyama-cho, Itabashi, 東京, 東京', '廚房': 1.0, '星等': 2.0, '經度': 139.685147, '網址': 'https://www.expedia.com.tw/Tokyo-Hotels-Smire-Stay-Tokyo.h16189084.Hotel-Information?chkin=2019%2F10%2F4&chkout=2019%2F10%2F5&regionId=179900&destination=%E6%9D%B1%E4%BA%AC+%28%E5%8F%8A%E9%84%B0%E8%BF%91%E5%9C%B0%E5%8D%80%29%2C+%E6%97%A5%E6%9C%AC&swpToggleOn=true&rm1=a1&x_pwa=1&sort=recommended&top_dp=2803&top_cur=TWD&rfrr=HSR&pwa_ts=1570019984501', '緯度': 35.753253, '評價': 4.1, '鄰近景點1': '東京巨蛋 - 開車 7 分鐘', '鄰近景點2': '靖國神社 - 開車 8 分鐘', '鄰近景點3': '新宿御苑 - 開車 10 分鐘', '鄰近景點4': '東京都廳舍 - 開車 11 分鐘', '鄰近景點5': '明治神宮 - 開車 13 分鐘', '飯店名稱': '斯米萊入住東京飯店'}\n",
      "{'age': 0, 'been2tko': 5, 'days': 6, 'totalBudget': 100000, 'gender': 1, 'oneBudget': 400}\n",
      "[{'age': 41, 'cp_rating_dinner': 4.27, 'cp_rating_lunch': 4.5, 'feeling_rating_dinner': 4.14, 'feeling_rating_lunch': 4.77, 'female_prop': 24.23, 'label_code': 0, 'label_desc': '高消族', 'lat': 35.7044914, 'lng': 139.6339121, 'male_prop': 75.77, 'meal_duration': 1.0, 'prices_dinner': 7087, 'prices_lunch': 7087, 'rest_addr': '東京都杉並區阿佐穀南3-44-4', 'rest_area': '阿佐谷', 'rest_catg': '壽司', 'rest_rating': 4.51, 'service_rating_dinner': 4.17, 'service_rating_lunch': 4.73, 'store_nm_en': 'Namba', 'store_nm_jp': '鮨 なんば 阿佐ヶ谷', 'transport': '阿佐ヶ谷駅徒歩２～３分\\n■南口を出て、交番の横を通り細い道をまっすぐ突き当たりまで進みます。\\n■右手にスマイルホテルがあるので、そこを右に曲がります。\\n■すぐに左へ行く道があるので、左に曲がりまっすぐ30mほど進みます。\\n（左へ行く道が二つあるので、手前側を曲がって下さいね）\\n■右手に鮨なんばがあります。\\n\\n\\n距离阿佐谷 158  米'}, {'age': 39, 'cp_rating_dinner': 3.67, 'cp_rating_lunch': 4.0, 'feeling_rating_dinner': 3.92, 'feeling_rating_lunch': 4.23, 'female_prop': 24.36, 'label_code': 1, 'label_desc': '平消族', 'lat': 35.6685571, 'lng': 139.7668952, 'male_prop': 75.64, 'meal_duration': 1.0, 'prices_dinner': 7087, 'prices_lunch': 1559, 'rest_addr': '東京都中央區銀座5-14-14', 'rest_area': '銀座', 'rest_catg': '壽司/和式餐馆 / 小菜/魚類料理・海鮮料理', 'rest_rating': 3.76, 'service_rating_dinner': 4.03, 'service_rating_lunch': 4.15, 'store_nm_en': 'Sushiginzaonodera', 'store_nm_jp': '鮨 銀座 おのでら', 'transport': '歌舞伎座正面の向こう側の路地を入って左側にございます。\\n\\n\\n距离東銀座 87  米'}, {'age': 41, 'cp_rating_dinner': 3.81, 'cp_rating_lunch': 4.09, 'feeling_rating_dinner': 3.65, 'feeling_rating_lunch': 3.76, 'female_prop': 23.81, 'label_code': 1, 'label_desc': '平消族', 'lat': 35.6677127, 'lng': 139.7705748, 'male_prop': 76.19, 'meal_duration': 1.0, 'prices_dinner': 4961, 'prices_lunch': 2551, 'rest_addr': '東京都中央區築地2-14-2', 'rest_area': '築地', 'rest_catg': '天婦羅', 'rest_rating': 3.82, 'service_rating_dinner': 3.57, 'service_rating_lunch': 3.61, 'store_nm_en': 'Nakagawa', 'store_nm_jp': 'なかがわ', 'transport': '築地駅２番出口より徒歩２分、１番出口から徒歩３分。\\n築地の小学校（？）のフェンスを右手に歩くと左側にあります。\\n\\n\\n距离築地 188  米'}, {'age': 40, 'cp_rating_dinner': 3.52, 'cp_rating_lunch': 3.7, 'feeling_rating_dinner': 3.75, 'feeling_rating_lunch': 3.74, 'female_prop': 24.31, 'label_code': 1, 'label_desc': '平消族', 'lat': 35.7159573, 'lng': 139.7936649, 'male_prop': 75.69, 'meal_duration': 1.0, 'prices_dinner': 1559, 'prices_lunch': 1276, 'rest_addr': '東京都檯東區淺草2-17-10', 'rest_area': '淺草', 'rest_catg': '壽喜燒/鍋類（其他）', 'rest_rating': 3.76, 'service_rating_dinner': 3.33, 'service_rating_lunch': 3.43, 'store_nm_en': 'Yonekyuuhonten', 'store_nm_jp': '米久本店', 'transport': 'つくばエクスプレス\\u3000浅草駅\\u3000徒歩３分\\n東京メトロ銀座線、東武伊勢崎線\\u3000浅草駅\\u3000徒歩９分\\n東京メトロ銀座線\\u3000田原町駅\\u3000徒歩９分\\n\\n\\n距离淺草 234  米'}, {'age': 37, 'cp_rating_dinner': 3.9, 'cp_rating_lunch': 4.78, 'feeling_rating_dinner': 3.85, 'feeling_rating_lunch': 4.27, 'female_prop': 24.05, 'label_code': 0, 'label_desc': '高消族', 'lat': 35.6986017, 'lng': 139.7034726, 'male_prop': 75.95, 'meal_duration': 1.0, 'prices_dinner': 4961, 'prices_lunch': 2551, 'rest_addr': '東京都新宿區大久保1-12-3', 'rest_area': '新宿', 'rest_catg': '涮涮鍋/壽喜燒/牛肉料理', 'rest_rating': 4.02, 'service_rating_dinner': 3.91, 'service_rating_lunch': 3.85, 'store_nm_en': 'Toukyounikushabuya', 'store_nm_jp': '東京肉しゃぶ家', 'transport': 'JR新宿東口から徒歩10分\\nJR新大久保駅から徒歩8分\\n大江戸線東新宿から徒歩3分\\n西武新宿線西武新宿駅から徒歩4分\\n\\n\\n距离東新宿 375  米'}, {'age': 41, 'cp_rating_dinner': 3.46, 'cp_rating_lunch': 3.59, 'feeling_rating_dinner': 3.33, 'feeling_rating_lunch': 3.74, 'female_prop': 23.83, 'label_code': 1, 'label_desc': '平消族', 'lat': 35.7761945, 'lng': 139.6291699, 'male_prop': 76.17, 'meal_duration': 1.0, 'prices_dinner': 142, 'prices_lunch': 142, 'rest_addr': '東京都練馬區旭町3-25-2', 'rest_area': '赤塚・成增', 'rest_catg': '沾麵/拉麵', 'rest_rating': 3.84, 'service_rating_dinner': 3.39, 'service_rating_lunch': 4.5, 'store_nm_en': 'Chuukasobabenten', 'store_nm_jp': '中華そば べんてん', 'transport': '東京メトロ有楽町線・副都心線 地下鉄成増駅1番出口から徒歩3分\\n東武東上線 成増駅南口から徒歩6分\\n\\n\\n距离地鐵成增 179  米'}, {'age': 41, 'cp_rating_dinner': 3.66, 'cp_rating_lunch': 4.1, 'feeling_rating_dinner': 3.7, 'feeling_rating_lunch': 4.02, 'female_prop': 23.71, 'label_code': 1, 'label_desc': '平消族', 'lat': 35.712677, 'lng': 139.7904714, 'male_prop': 76.29, 'meal_duration': 1.0, 'prices_dinner': 142, 'prices_lunch': 142, 'rest_addr': '東京都檯東區西淺草2-10-4', 'rest_area': '淺草', 'rest_catg': '拉麵', 'rest_rating': 3.87, 'service_rating_dinner': 3.64, 'service_rating_lunch': 3.95, 'store_nm_en': 'Memmitsui', 'store_nm_jp': '麺 みつヰ', 'transport': 'つくばエクスプレス線\\u3000浅草駅\\u3000国際通り出口B\\u3000徒歩３分\\n東京メトロ銀座線\\u3000田原町駅\\u3000徒歩４分\\n\\n\\n距离淺草 246  米'}, {'age': 40, 'cp_rating_dinner': 3.23, 'cp_rating_lunch': 4.56, 'feeling_rating_dinner': 3.56, 'feeling_rating_lunch': 4.38, 'female_prop': 24.23, 'label_code': 0, 'label_desc': '高消族', 'lat': 35.6633155, 'lng': 139.7346788, 'male_prop': 75.77, 'meal_duration': 1.5, 'prices_dinner': 15591, 'prices_lunch': 425, 'rest_addr': '東京都港區六本木3-8-8', 'rest_area': '六本木・乃木坂・西麻布', 'rest_catg': '河豚', 'rest_rating': 4.55, 'service_rating_dinner': 3.97, 'service_rating_lunch': 4.26, 'store_nm_en': 'Ajiman', 'store_nm_jp': '味満ん', 'transport': '六本木駅から１０分\\n\\n\\n距离六本木 324  米'}, {'age': 37, 'cp_rating_dinner': 3.9, 'cp_rating_lunch': 4.78, 'feeling_rating_dinner': 3.85, 'feeling_rating_lunch': 4.27, 'female_prop': 24.05, 'label_code': 0, 'label_desc': '高消族', 'lat': 35.6986017, 'lng': 139.7034726, 'male_prop': 75.95, 'meal_duration': 1.0, 'prices_dinner': 4961, 'prices_lunch': 2551, 'rest_addr': '東京都新宿區大久保1-12-3', 'rest_area': '新宿', 'rest_catg': '涮涮鍋/壽喜燒/牛肉料理', 'rest_rating': 4.02, 'service_rating_dinner': 3.91, 'service_rating_lunch': 3.85, 'store_nm_en': 'Toukyounikushabuya', 'store_nm_jp': '東京肉しゃぶ家', 'transport': 'JR新宿東口から徒歩10分\\nJR新大久保駅から徒歩8分\\n大江戸線東新宿から徒歩3分\\n西武新宿線西武新宿駅から徒歩4分\\n\\n\\n距离東新宿 375  米'}, {'age': 39, 'cp_rating_dinner': 3.51, 'cp_rating_lunch': 3.66, 'feeling_rating_dinner': 3.52, 'feeling_rating_lunch': 3.67, 'female_prop': 23.64, 'label_code': 1, 'label_desc': '平消族', 'lat': 35.6745083, 'lng': 139.7690144, 'male_prop': 76.36, 'meal_duration': 1.0, 'prices_dinner': 709, 'prices_lunch': 142, 'rest_addr': '東京都中央區銀座1-8-2', 'rest_area': '銀座', 'rest_catg': '印度料理/印度咖哩/餐飲酒館', 'rest_rating': 3.79, 'service_rating_dinner': 3.61, 'service_rating_lunch': 3.76, 'store_nm_en': 'Andhra Dining GINZA', 'store_nm_jp': 'アーンドラ・ダイニング 銀座', 'transport': '有楽町線\\u3000銀座１丁目駅\\u3000７番出口より徒歩２分\\n銀座線\\u3000京橋駅\\u3000１番出口より徒歩２分\\nコージーコーナー銀座一丁目店の隣\\n\\n\\n距离銀座一丁目 171  米'}, {'age': 44, 'cp_rating_dinner': 3.24, 'cp_rating_lunch': 3.24, 'feeling_rating_dinner': 3.98, 'feeling_rating_lunch': 4.32, 'female_prop': 24.39, 'label_code': 1, 'label_desc': '平消族', 'lat': 35.6995577, 'lng': 139.4108183, 'male_prop': 75.61, 'meal_duration': 1.0, 'prices_dinner': 1984, 'prices_lunch': 709, 'rest_addr': '東京都立川市曙町1-28-5', 'rest_area': '立川', 'rest_catg': '蕎麥麵/懷石 / 會席料理', 'rest_rating': 3.76, 'service_rating_dinner': 3.67, 'service_rating_lunch': 3.7, 'store_nm_en': 'Muan', 'store_nm_jp': '蕎麦懐石 無庵', 'transport': 'ＪＲ中央線、青梅線、南武線「立川駅」北口から徒歩６分。\\nまたは、多摩モノレール「立川北駅」北口から徒歩３分。\\n\\n\\n距离立川北 154  米'}, {'age': 39, 'cp_rating_dinner': 3.96, 'cp_rating_lunch': 4.0, 'feeling_rating_dinner': 3.35, 'feeling_rating_lunch': 3.27, 'female_prop': 23.48, 'label_code': 1, 'label_desc': '平消族', 'lat': 35.6854123, 'lng': 139.7753649, 'male_prop': 76.52, 'meal_duration': 1.5, 'prices_dinner': 142, 'prices_lunch': 142, 'rest_addr': '東京都中央區日本橋室町1-11-15', 'rest_area': '日本橋・京橋', 'rest_catg': '炸蝦丼飯・炸蝦便當/便當/星鰻', 'rest_rating': 3.77, 'service_rating_dinner': 3.39, 'service_rating_lunch': 3.28, 'store_nm_en': 'nihombashitendonkanekohannosuke', 'store_nm_jp': '日本橋 天丼 金子半之助 本店', 'transport': '東京メトロ半蔵門線・銀座線「三越前」駅(A1出口)から徒歩1分\\n東京メトロ東西線「日本橋」駅から徒歩4分\\nJR総武本線「新日本橋」駅から徒歩5分\\n\\n\\n距离三越前 157  米'}]\n"
     ]
    },
    {
     "name": "stdout",
     "output_type": "stream",
     "text": [
      "=====================\n",
      " 第1天行程：\n",
      "清澄庭園 Kiyosumi Teien約15.2 公里，景點間通勤約需23 分鐘。\n",
      "---------------\n",
      " The Sumida Hokusai Museum約1.9 公里，景點間通勤約需7 分鐘。\n",
      "---------------\n",
      "雷門 Nakamise Shopping Street (Kaminarimon)約2.5 公里，景點間通勤約需11 分鐘。\n",
      "---------------\n",
      " Nippori Fabric Town約3.8 公里，景點間通勤約需15 分鐘。\n",
      "---------------\n",
      "\n",
      "地圖連結：https://45a28610.ngrok.io/images/day1-U0b000bbddf5328f9c1c199827fd8aa0a-1574387320196map.html\n",
      "===============\n",
      "第2天行程：\n",
      "隅田公園 Sumida Park約19.9 公里，景點間通勤約需26 分鐘。\n",
      "---------------\n",
      "東京站畫廊 Tokyo Station Gallery約6.7 公里，景點間通勤約需10 分鐘。\n",
      "---------------\n",
      "日本國立國會圖書館 National Diet Library約3.4 公里，景點間通勤約需12 分鐘。\n",
      "---------------\n",
      "代代木八幡宮 Yoyogi Hachimangu Shrine約7.8 公里，景點間通勤約需13 分鐘。\n",
      "---------------\n",
      "\n",
      "地圖連結：https://45a28610.ngrok.io/images/day2-U0b000bbddf5328f9c1c199827fd8aa0a-1574387320196map.html\n",
      "===============\n",
      "第3天行程：\n",
      "原宿竹下通 Takeshita Street約17.5 公里，景點間通勤約需29 分鐘。\n",
      "---------------\n",
      "洗足池公園 Senzokuike Park約17.1 公里，景點間通勤約需30 分鐘。\n",
      "---------------\n",
      "精工博物館 The Seiko Museum約22.9 公里，景點間通勤約需31 分鐘。\n",
      "---------------\n",
      "柴又帝釋天(帝釋天題經寺) Shibamata Taishakuten (Taishakuten Daikyoji Temple)約9.0 公里，景點間通勤約需23 分鐘。\n",
      "---------------\n",
      "\n",
      "地圖連結：https://45a28610.ngrok.io/images/day3-U0b000bbddf5328f9c1c199827fd8aa0a-1574387320196map.html\n",
      "===============\n",
      "第4天行程：\n",
      "合羽橋廚具街 Kappabashi Street (Kappabashi Dogugai)約19.0 公里，景點間通勤約需29 分鐘。\n",
      "---------------\n",
      "Kidzania兒童社會體驗活動中心 KidZania Tokyo約9.5 公里，景點間通勤約需16 分鐘。\n",
      "---------------\n",
      "相田光男美術館 Mitsuo Aida Museum約4.5 公里，景點間通勤約需13 分鐘。\n",
      "---------------\n",
      " Tokyo Metropolitan Government Buildings Observatories約10.1 公里，景點間通勤約需19 分鐘。\n",
      "---------------\n",
      "\n",
      "地圖連結：https://45a28610.ngrok.io/images/day4-U0b000bbddf5328f9c1c199827fd8aa0a-1574387320196map.html\n",
      "===============\n",
      " \n",
      "=======================\n"
     ]
    },
    {
     "name": "stderr",
     "output_type": "stream",
     "text": [
      "172.18.0.6 - - [22/Nov/2019 01:48:47] \"POST / HTTP/1.1\" 200 -\n"
     ]
    },
    {
     "name": "stdout",
     "output_type": "stream",
     "text": [
      "::tripStart:\n"
     ]
    },
    {
     "name": "stderr",
     "output_type": "stream",
     "text": [
      "172.18.0.6 - - [22/Nov/2019 01:48:47] \"POST / HTTP/1.1\" 200 -\n"
     ]
    },
    {
     "name": "stdout",
     "output_type": "stream",
     "text": [
      "Watson Buffet(快樂自助餐),U0b000bbddf5328f9c1c199827fd8aa0a\n",
      "{\"data\": \"tripStart\"}\n",
      "1574387324141,2019-11-22 01:48:44.141000\n",
      "{'age': 0, 'been2tko': 5, 'days': 6, 'budget': 100000, 'isFemale': 1, 'fbudget': 5000, 'dDate': '2019-11-29', 'rDate': '2019-12-05'}\n",
      "{'airline': 'Scoot', 'date_format(eta,\"%a\")': 'Fri', 'date_format(etd,\"%a\")': 'Fri', 'date_format(thEta,\"%a\")': 'Thu', 'date_format(thEtd,\"%a\")': 'Thu', 'price': 7033, 'time_format(eta,\"%T\")': '10:45:00', 'time_format(etd,\"%T\")': '06:40:00', 'time_format(sec_to_time(dur),\"%T\")': '03:05:00', 'time_format(sec_to_time(thDur),\"%T\")': '04:20:00', 'time_format(thEta,\"%T\")': '23:30:00', 'time_format(thEtd,\"%T\")': '20:10:00'}\n",
      "bk by thu\n",
      "{'age': 0, 'been2tko': 5, 'howlong': 6, 'budget': 100000, 'isFemale': 1, 'with_child': 0, 'crampedSechedule': True}\n",
      "['[{\"index\":264,\"name\":\"東京迪士尼樂園 Tokyo Disneyland\",\"rank\":\"排名第 2的Maihama觀光 (共5家)\",\"address\":\"千葉縣浦安Maihama1-1279-8511\",\"child\":1.0,\"latitude\":35.632906,\"longitude\":139.880391,\"score\":94,\"chosen\":true}]', '[{\"index\":118,\"name\":\"朝倉雕塑館 ASAKURA Museum of Sculpture, Taito\",\"rank\":\"排名第 14的台東區觀光 (共560家)\",\"address\":\"東京都台東區谷中7-18-10110-0001\",\"child\":0.0,\"latitude\":35.7269979,\"longitude\":139.7685625,\"score\":70,\"chosen\":true},{\"index\":101,\"name\":\"新宿哥斯拉等比頭雕 Godzilla Head\",\"rank\":\"排名第 23的新宿區觀光 (共419家)\",\"address\":\"東京都新宿區1-19-1 KabukichoShinjuku Toho Bldg160-0021\",\"child\":0.2116729805,\"latitude\":35.6953105,\"longitude\":139.7020189,\"score\":114,\"chosen\":true},{\"index\":202,\"name\":\"上野動物園 Ueno Zoo\",\"rank\":\"排名第 36的台東區觀光 (共560家)\",\"address\":\"東京都台東區上野公園9-83110-8711\",\"child\":0.0352721635,\"latitude\":35.716055,\"longitude\":139.7709587,\"score\":183,\"chosen\":true},{\"index\":108,\"name\":\" Nissan Crossing\",\"rank\":\"排名第 6的中央區觀光 (共577家)\",\"address\":\"東京都中央區5-8-1 GInzaGinza Place 1F, 2F104-0061\",\"child\":0.0,\"latitude\":35.6708171,\"longitude\":139.7650395,\"score\":70,\"chosen\":true}]', '[{\"index\":88,\"name\":\"東京國立博物館 平成館 Tokyo National Museum The Heiseikan\",\"rank\":\"排名第 1的Uenokoen觀光 (共10家)\",\"address\":\"東京都台東區Uenokoen13-9 UenokoenInside Tokyo National Museum110-8712\",\"child\":0.0780507337,\"latitude\":35.7188351,\"longitude\":139.7765215,\"score\":70,\"chosen\":true},{\"index\":54,\"name\":\"東京都美術館 Tokyo Metropolitan Art Museum\",\"rank\":\"排名第 16的台東區觀光 (共560家)\",\"address\":\"東京都台東區8-36 Uenokoen110-0007\",\"child\":0.0205605849,\"latitude\":35.7125736,\"longitude\":139.7802043,\"score\":70,\"chosen\":true},{\"index\":106,\"name\":\"上野東照宮 Toshogu Shrine\",\"rank\":\"排名第 17的台東區觀光 (共560家)\",\"address\":\"東京都台東區上野公園9-88\",\"child\":0.0,\"latitude\":35.7153714,\"longitude\":139.7706346,\"score\":183,\"chosen\":true},{\"index\":27,\"name\":\"六義園 Rikugien Garden\",\"rank\":\"排名第 4的文京區觀光 (共297家)\",\"address\":\"東京都文京區本駒込6-16-3113-0021\",\"child\":0.0,\"latitude\":35.7327015,\"longitude\":139.7466817,\"score\":114,\"chosen\":true}]', '[{\"index\":42,\"name\":\"東京海賊王塔 TOKYO ONE PIECE TOWER\",\"rank\":\"排名第 16的港區觀光 (共626家)\",\"address\":\"東京都港區4-2-8 ShibakoenTokyo Tower Foot Town105-0011\",\"child\":0.2333411224,\"latitude\":35.658595,\"longitude\":139.745442,\"score\":70,\"chosen\":true},{\"index\":186,\"name\":\"紅磚廣場 Marunouchi Brick Square\",\"rank\":\"排名第 16的千代田區觀光 (共446家)\",\"address\":\"東京都千代田區2-6-1 Marunouchi100-0005\",\"child\":0.0,\"latitude\":35.695411,\"longitude\":139.7730113,\"score\":84,\"chosen\":true},{\"index\":38,\"name\":\"上野阿美橫丁商店街 Ameyoko Shopping Street\",\"rank\":\"排名第 2的Ueno觀光 (共7家)\",\"address\":\"東京都台東區UenoUeno\",\"child\":0.012643587,\"latitude\":35.7087296,\"longitude\":139.7741538,\"score\":400,\"chosen\":true},{\"index\":47,\"name\":\"墨田水族館 Sumida Aquarium\",\"rank\":\"排名第 1的Oshiage觀光 (共8家)\",\"address\":\"東京都墨田區Oshiage1-1-2 OshiageSolamachi 5F\\\\/6F131-0045\",\"child\":0.1931181898,\"latitude\":35.728881,\"longitude\":139.8144266,\"score\":114,\"chosen\":true}]', '[{\"index\":210,\"name\":\"東京藝術劇場 Tokyo Metropolitan Theatre\",\"rank\":\"排名第 6的豊島區觀光 (共179家)\",\"address\":\"東京都豊島區1-8-1 Nishiikebukuro171-0021\",\"child\":0.0,\"latitude\":35.7297303,\"longitude\":139.7080402,\"score\":70,\"chosen\":true},{\"index\":32,\"name\":\"彩虹大橋 Rainbow Bridge\",\"rank\":\"排名第 2的Daiba觀光 (共13家)\",\"address\":\"東京都港區Daiba3-33 Kaigan\",\"child\":0.0425893346,\"latitude\":35.6445516,\"longitude\":139.7600967,\"score\":114,\"chosen\":true},{\"index\":56,\"name\":\"清澄庭園 Kiyosumi Teien\",\"rank\":\"排名第 4的江東區觀光 (共343家)\",\"address\":\"東京都江東區清澄3-3-9135-0024\",\"child\":0.0,\"latitude\":35.6797501,\"longitude\":139.7978028,\"score\":114,\"chosen\":true},{\"index\":114,\"name\":\" Nippori Fabric Town\",\"rank\":\"排名第 1的荒川區觀光 (共75家)\",\"address\":\"東京都荒川區\",\"child\":0.0,\"latitude\":35.7359339,\"longitude\":139.7834758,\"score\":114,\"chosen\":true}]']\n",
      "{'age': 0, 'been2tko': 5, 'days': 6, 'budget': 100000, 'isFemale': 1, 'hotel budget': 3000}\n",
      "{'CP': 1.758445164, 'pre': 1.0, '交通1': '北品川站 - 走路 1 分鐘', '交通2': '天王洲島站 - 走路 16 分鐘', '交通3': '東京, 日本 (NRT-成田國際機場) - 車程 52 分鐘', '交通便利性': '1', '價格': 2161.0, '地址': '1-22-19, Kitashinagawa, Shinagawa-ku, 東京, Tokyo-to', '廚房': 1.0, '星等': 2.0, '經度': 139.740017, '網址': 'https://www.expedia.com.tw/Tokyo-Hotels-Flexstay-Inn-Shinagawa.h7298453.Hotel-Information?chkin=2019%2F10%2F4&chkout=2019%2F10%2F5&regionId=179900&destination=%E6%9D%B1%E4%BA%AC+%28%E5%8F%8A%E9%84%B0%E8%BF%91%E5%9C%B0%E5%8D%80%29%2C+%E6%97%A5%E6%9C%AC&swpToggleOn=true&rm1=a1&x_pwa=1&sort=recommended&top_dp=2161&top_cur=TWD&rfrr=HSR&pwa_ts=1570019670913', '緯度': 35.622058, '評價': 3.8, '鄰近景點1': '東京鐵塔 - 開車 5 分鐘', '鄰近景點2': '森美術館 - 開車 6 分鐘', '鄰近景點3': '東京中城 - 開車 6 分鐘', '鄰近景點4': '歌舞伎座 - 開車 7 分鐘', '鄰近景點5': '豐洲市場 - 開車 9 分鐘', '飯店名稱': '品川區弗萊斯泰旅館'}\n",
      "{'age': 0, 'been2tko': 5, 'days': 6, 'totalBudget': 100000, 'gender': 1, 'oneBudget': 400}\n",
      "[{'age': 41, 'cp_rating_dinner': 4.37, 'cp_rating_lunch': 4.22, 'feeling_rating_dinner': 4.54, 'feeling_rating_lunch': 4.52, 'female_prop': 24.26, 'label_code': 0, 'label_desc': '高消族', 'lat': 35.6818504, 'lng': 139.7849853, 'male_prop': 75.74, 'meal_duration': 1.0, 'prices_dinner': 7087, 'prices_lunch': 7087, 'rest_addr': '東京都中央區日本橋蠣殼町1-33-6', 'rest_area': '人形町・小傳馬町', 'rest_catg': '壽司', 'rest_rating': 4.81, 'service_rating_dinner': 4.59, 'service_rating_lunch': 4.6, 'store_nm_en': 'Sugita', 'store_nm_jp': '日本橋蛎殻町 すぎた', 'transport': '水天宮前駅4番出口から徒歩約2分\\n\\n\\n距离水天宮前 105  米'}, {'age': 39, 'cp_rating_dinner': 4.06, 'cp_rating_lunch': 4.28, 'feeling_rating_dinner': 4.17, 'feeling_rating_lunch': 4.17, 'female_prop': 24.16, 'label_code': 0, 'label_desc': '高消族', 'lat': 35.644589, 'lng': 139.7265049, 'male_prop': 75.84, 'meal_duration': 1.0, 'prices_dinner': 7087, 'prices_lunch': 3543, 'rest_addr': '東京都港區白金5-8-13', 'rest_area': '白金', 'rest_catg': '壽司', 'rest_rating': 4.28, 'service_rating_dinner': 4.14, 'service_rating_lunch': 4.25, 'store_nm_en': 'Imamura', 'store_nm_jp': '鮨 いまむら', 'transport': '白金高輪駅徒歩10分程度（北里大学病院へ向かって病院直前の右手）\\n\\n\\n距离白金高輪 722  米'}, {'age': 43, 'cp_rating_dinner': 3.46, 'cp_rating_lunch': 3.57, 'feeling_rating_dinner': 3.51, 'feeling_rating_lunch': 3.47, 'female_prop': 23.59, 'label_code': 1, 'label_desc': '平消族', 'lat': 35.6951723, 'lng': 139.7638945, 'male_prop': 76.41, 'meal_duration': 1.0, 'prices_dinner': 142, 'prices_lunch': 709, 'rest_addr': '東京都韆代田區神田小川町2-8', 'rest_area': '神田・御茶之水', 'rest_catg': '炸豬排/咖哩飯/可樂餅・油炸食品', 'rest_rating': 3.8, 'service_rating_dinner': 3.57, 'service_rating_lunch': 3.81, 'store_nm_en': 'Ponchiken', 'store_nm_jp': 'ポンチ軒', 'transport': '都営地下鉄新宿線【小川町駅】徒歩４分\\n東京メトロ丸ノ内線【淡路町駅】徒歩６分\\n東京メトロ千代田線【新御茶ノ水駅】徒歩６分\\nＪＲ中央線・総武線【御茶ノ水駅】徒歩７分\\n\\n\\n距离小川町 224  米'}, {'age': 41, 'cp_rating_dinner': 3.44, 'cp_rating_lunch': 3.43, 'feeling_rating_dinner': 4.1, 'feeling_rating_lunch': 3.96, 'female_prop': 24.32, 'label_code': 1, 'label_desc': '平消族', 'lat': 35.7138661, 'lng': 139.7726182, 'male_prop': 75.68, 'meal_duration': 1.5, 'prices_dinner': 1984, 'prices_lunch': 992, 'rest_addr': '東京都檯東區上野公園4-59', 'rest_area': '上野・御徒町・湯島', 'rest_catg': '懷石 / 會席料理/壽喜燒/日式甜點店', 'rest_rating': 3.76, 'service_rating_dinner': 3.57, 'service_rating_lunch': 3.5, 'store_nm_en': 'Inshoutei', 'store_nm_jp': '韻松亭', 'transport': 'JR・東京メトロ銀座線上野駅：徒歩10分\\n京成線上野駅：徒歩７分\\n都営大江戸線御徒町駅・東京メトロ日比谷線上野駅：徒歩13分\\n\\n\\n距离京成上野 260  米'}, {'age': 42, 'cp_rating_dinner': 3.56, 'cp_rating_lunch': 2.9, 'feeling_rating_dinner': 4.02, 'feeling_rating_lunch': 4.6, 'female_prop': 23.79, 'label_code': 1, 'label_desc': '平消族', 'lat': 35.6857974, 'lng': 139.7830806, 'male_prop': 76.21, 'meal_duration': 1.0, 'prices_dinner': 4961, 'prices_lunch': 3543, 'rest_addr': '東京都中央區日本橋人形町2-5-1', 'rest_area': '人形町・小傳馬町', 'rest_catg': '壽喜燒/和式餐馆 / 小菜', 'rest_rating': 3.82, 'service_rating_dinner': 3.88, 'service_rating_lunch': 4.4, 'store_nm_en': 'sukiyakikappouhiyama', 'store_nm_jp': 'すき焼割烹 日山', 'transport': '東京メトロ日比谷線・都営浅草線「人形町」駅より徒歩2分。\\n東京メトロ半蔵門線「水天宮」駅より徒歩5分\\n都営新宿線「浜町」駅より徒歩7分\\n\\n\\n距离人形町 66  米'}, {'age': 40, 'cp_rating_dinner': 3.43, 'cp_rating_lunch': 3.56, 'feeling_rating_dinner': 3.58, 'feeling_rating_lunch': 3.64, 'female_prop': 24.08, 'label_code': 1, 'label_desc': '平消族', 'lat': 35.7127117, 'lng': 139.6336032, 'male_prop': 75.92, 'meal_duration': 1.0, 'prices_dinner': 425, 'prices_lunch': 425, 'rest_addr': '東京都杉並區鬆菴3-37-22', 'rest_area': '西荻窪', 'rest_catg': '拉麵/沾麵/油麵', 'rest_rating': 4.1, 'service_rating_dinner': 3.43, 'service_rating_lunch': 3.5, 'store_nm_en': 'Mensonreiji', 'store_nm_jp': '麺尊 RAGE', 'transport': 'JR中央線「西荻窪」駅(南口)から徒歩4分\\n\\n\\n距离西荻窪 228  米'}, {'age': 41, 'cp_rating_dinner': 3.58, 'cp_rating_lunch': 3.47, 'feeling_rating_dinner': 3.22, 'feeling_rating_lunch': 3.1, 'female_prop': 23.77, 'label_code': 1, 'label_desc': '平消族', 'lat': 35.7632609, 'lng': 139.745983, 'male_prop': 76.23, 'meal_duration': 1.0, 'prices_dinner': 142, 'prices_lunch': 142, 'rest_addr': '東京都北區豐島4-5-3', 'rest_area': '十條', 'rest_catg': '拉麵', 'rest_rating': 3.82, 'service_rating_dinner': 3.23, 'service_rating_lunch': 3.17, 'store_nm_en': 'Chuukasobayaitou', 'store_nm_jp': '中華そば屋 伊藤', 'transport': '京浜東北線「王子駅」から都営バス（駅前ﾛｰﾀﾘｰではなく、信号先左側10番バス停）で(豊島団地行き)約5分、「豊島4丁目」下車徒歩4分\\n東武伊勢崎線「西新井駅」から都営バス（池袋東口行き）で「豊島4丁目」下車徒歩4分\\nJR「王子駅」から徒歩20分\\n東京メトロ南北線「王子神谷駅」2番出口から徒歩13分\\n\\n\\n距离王子神谷 936  米'}, {'age': 33, 'cp_rating_dinner': 4.02, 'cp_rating_lunch': 4.76, 'feeling_rating_dinner': 4.24, 'feeling_rating_lunch': 4.76, 'female_prop': 24.16, 'label_code': 0, 'label_desc': '高消族', 'lat': 35.6693111, 'lng': 139.7620223, 'male_prop': 75.84, 'meal_duration': 1.0, 'prices_dinner': 4961, 'prices_lunch': 425, 'rest_addr': '東京都中央區銀座7-7-7', 'rest_area': '銀座', 'rest_catg': '燒肉/牛排/和式餐馆 / 小菜', 'rest_rating': 4.26, 'service_rating_dinner': 4.41, 'service_rating_lunch': 4.76, 'store_nm_en': 'USHIGORO S', 'store_nm_jp': 'USHIGORO S. GINZA', 'transport': '東京メトロ 銀座線、日比谷線、丸ノ内線\\n銀座駅 B3番出口より徒歩3分 / A1番出口より徒歩5分\\n東京メトロ 日比谷線、浅草線\\n東銀座駅 A1番出口より徒歩7分\\nJR有楽町駅 中央口より徒歩7分\\nJR新橋駅 銀座口より徒歩8分\\n\\n\\n距离銀座 345  米'}, {'age': 38, 'cp_rating_dinner': 3.61, 'cp_rating_lunch': 3.5, 'feeling_rating_dinner': 3.66, 'feeling_rating_lunch': 3.57, 'female_prop': 23.96, 'label_code': 1, 'label_desc': '平消族', 'lat': 35.6756402, 'lng': 139.7683778, 'male_prop': 76.04, 'meal_duration': 2.0, 'prices_dinner': 1984, 'prices_lunch': 425, 'rest_addr': '東京都中央區京橋3-3-11', 'rest_area': '銀座', 'rest_catg': '義式/牛排/義大利麵', 'rest_rating': 3.76, 'service_rating_dinner': 3.47, 'service_rating_lunch': 3.29, 'store_nm_en': 'Fiorenza', 'store_nm_jp': 'イタリア料理 フィオレンツァ', 'transport': '銀座線京橋駅３番（東京ガーデンスクエア口）出て徒歩３分\\n有楽町線銀座一丁目駅７番から徒歩３分\\n東京駅八重洲口から徒歩８分\\nGoogleマップ検索すると、京橋3-3-11では地図情報が古く店の裏側が表示されます。3-3-11で検索すると玄関が出ます。\\n\\n\\n距离銀座一丁目 176  米'}, {'age': 41, 'cp_rating_dinner': 3.41, 'cp_rating_lunch': 3.72, 'feeling_rating_dinner': 3.27, 'feeling_rating_lunch': 3.44, 'female_prop': 24.43, 'label_code': 1, 'label_desc': '平消族', 'lat': 35.6987483, 'lng': 139.7582365, 'male_prop': 75.57, 'meal_duration': 1.0, 'prices_dinner': 142, 'prices_lunch': 142, 'rest_addr': '東京都韆代田區神田神保町1-64-2', 'rest_area': '神保町・水道橋', 'rest_catg': '亞洲・異國料理（其它）/湯咖哩', 'rest_rating': 3.76, 'service_rating_dinner': 3.09, 'service_rating_lunch': 3.43, 'store_nm_en': 'Panchimaharu', 'store_nm_jp': 'パンチマハル', 'transport': '・神保町駅から徒歩5分\\n・水道橋駅から徒歩6分\\n\\n\\n距离神保町 365  米'}, {'age': 44, 'cp_rating_dinner': 3.24, 'cp_rating_lunch': 3.24, 'feeling_rating_dinner': 3.98, 'feeling_rating_lunch': 4.32, 'female_prop': 24.39, 'label_code': 1, 'label_desc': '平消族', 'lat': 35.6995577, 'lng': 139.4108183, 'male_prop': 75.61, 'meal_duration': 1.0, 'prices_dinner': 1984, 'prices_lunch': 709, 'rest_addr': '東京都立川市曙町1-28-5', 'rest_area': '立川', 'rest_catg': '蕎麥麵/懷石 / 會席料理', 'rest_rating': 3.76, 'service_rating_dinner': 3.67, 'service_rating_lunch': 3.7, 'store_nm_en': 'Muan', 'store_nm_jp': '蕎麦懐石 無庵', 'transport': 'ＪＲ中央線、青梅線、南武線「立川駅」北口から徒歩６分。\\nまたは、多摩モノレール「立川北駅」北口から徒歩３分。\\n\\n\\n距离立川北 154  米'}, {'age': 43, 'cp_rating_dinner': 3.24, 'cp_rating_lunch': 3.35, 'feeling_rating_dinner': 3.67, 'feeling_rating_lunch': 3.82, 'female_prop': 23.28, 'label_code': 1, 'label_desc': '平消族', 'lat': 35.6812097, 'lng': 139.7747558, 'male_prop': 76.72, 'meal_duration': 1.0, 'prices_dinner': 1984, 'prices_lunch': 425, 'rest_addr': '東京都中央區日本橋2-9-9', 'rest_area': '日本橋・京橋', 'rest_catg': '魚類料理・海鮮料理/星鰻/天婦羅', 'rest_rating': 3.77, 'service_rating_dinner': 3.39, 'service_rating_lunch': 3.56, 'store_nm_en': 'Tamai', 'store_nm_jp': '玉ゐ 本店', 'transport': 'ＪＲ東京駅八重洲口から高島屋デパート方面へ徒歩8分。東京メトロ銀座線・東西線、都営浅草線日本橋駅から徒歩3分。\\n\\n\\n距离日本橋 106  米'}]\n"
     ]
    },
    {
     "name": "stdout",
     "output_type": "stream",
     "text": [
      "=====================\n",
      " 第1天行程：\n",
      "東京迪士尼樂園 Tokyo Disneyland約18.1 公里，景點間通勤約需31 分鐘。\n",
      "---------------\n",
      "\n",
      "地圖連結：https://45a28610.ngrok.io/images/day1-U0b000bbddf5328f9c1c199827fd8aa0a-1574387324139map.html\n",
      "===============\n",
      "第2天行程：\n",
      " Nissan Crossing約7.4 公里，景點間通勤約需17 分鐘。\n",
      "---------------\n",
      "朝倉雕塑館 ASAKURA Museum of Sculpture, Taito約9.1 公里，景點間通勤約需18 分鐘。\n",
      "---------------\n",
      "上野動物園 Ueno Zoo約1.5 公里，景點間通勤約需6 分鐘。\n",
      "---------------\n",
      "新宿哥斯拉等比頭雕 Godzilla Head約7.6 公里，景點間通勤約需30 分鐘。\n",
      "---------------\n",
      "\n",
      "地圖連結：https://45a28610.ngrok.io/images/day2-U0b000bbddf5328f9c1c199827fd8aa0a-1574387324139map.html\n",
      "===============\n",
      "第3天行程：\n",
      "東京都美術館 Tokyo Metropolitan Art Museum約12.5 公里，景點間通勤約需22 分鐘。\n",
      "---------------\n",
      "東京國立博物館 平成館 Tokyo National Museum The Heiseikan約1.8 公里，景點間通勤約需7 分鐘。\n",
      "---------------\n",
      "上野東照宮 Toshogu Shrine約1.2 公里，景點間通勤約需5 分鐘。\n",
      "---------------\n",
      "六義園 Rikugien Garden約3.4 公里，景點間通勤約需11 分鐘。\n",
      "---------------\n",
      "\n",
      "地圖連結：https://45a28610.ngrok.io/images/day3-U0b000bbddf5328f9c1c199827fd8aa0a-1574387324139map.html\n",
      "===============\n",
      "第4天行程：\n",
      "東京海賊王塔 TOKYO ONE PIECE TOWER約5.1 公里，景點間通勤約需16 分鐘。\n",
      "---------------\n",
      "墨田水族館 Sumida Aquarium約13.8 公里，景點間通勤約需20 分鐘。\n",
      "---------------\n",
      "上野阿美橫丁商店街 Ameyoko Shopping Street約5.3 公里，景點間通勤約需17 分鐘。\n",
      "---------------\n",
      "紅磚廣場 Marunouchi Brick Square約1.9 公里，景點間通勤約需7 分鐘。\n",
      "---------------\n",
      "\n",
      "地圖連結：https://45a28610.ngrok.io/images/day4-U0b000bbddf5328f9c1c199827fd8aa0a-1574387324139map.html\n",
      "===============\n",
      "第5天行程：\n",
      " Nippori Fabric Town約15.7 公里，景點間通勤約需30 分鐘。\n",
      "---------------\n",
      "東京藝術劇場 Tokyo Metropolitan Theatre約12.3 公里，景點間通勤約需26 分鐘。\n",
      "---------------\n",
      "清澄庭園 Kiyosumi Teien約11.7 公里，景點間通勤約需22 分鐘。\n",
      "---------------\n",
      "彩虹大橋 Rainbow Bridge約7.5 公里，景點間通勤約需19 分鐘。\n",
      "---------------\n",
      "\n",
      "地圖連結：https://45a28610.ngrok.io/images/day5-U0b000bbddf5328f9c1c199827fd8aa0a-1574387324139map.html\n",
      "===============\n",
      " \n",
      "=======================\n"
     ]
    },
    {
     "name": "stderr",
     "output_type": "stream",
     "text": [
      "172.18.0.6 - - [22/Nov/2019 01:48:53] \"POST / HTTP/1.1\" 200 -\n",
      "172.18.0.6 - - [22/Nov/2019 01:48:53] \"GET /images/day1-U0b000bbddf5328f9c1c199827fd8aa0a-1574387320196map.html HTTP/1.1\" 206 -\n"
     ]
    },
    {
     "name": "stdout",
     "output_type": "stream",
     "text": [
      "::tripStart:\n"
     ]
    },
    {
     "name": "stderr",
     "output_type": "stream",
     "text": [
      "172.18.0.6 - - [22/Nov/2019 01:48:54] \"GET /images/day1-U0b000bbddf5328f9c1c199827fd8aa0a-1574387320196map.html HTTP/1.1\" 200 -\n",
      "172.18.0.6 - - [22/Nov/2019 01:48:55] \"GET /images/day2-U0b000bbddf5328f9c1c199827fd8aa0a-1574387320196map.html HTTP/1.1\" 206 -\n",
      "172.18.0.6 - - [22/Nov/2019 01:48:56] \"GET /images/day2-U0b000bbddf5328f9c1c199827fd8aa0a-1574387320196map.html HTTP/1.1\" 200 -\n",
      "172.18.0.6 - - [22/Nov/2019 01:48:58] \"GET /images/day3-U0b000bbddf5328f9c1c199827fd8aa0a-1574387320196map.html HTTP/1.1\" 206 -\n",
      "172.18.0.6 - - [22/Nov/2019 01:48:59] \"GET /images/day3-U0b000bbddf5328f9c1c199827fd8aa0a-1574387320196map.html HTTP/1.1\" 200 -\n",
      "172.18.0.6 - - [22/Nov/2019 01:48:59] \"GET /images/day4-U0b000bbddf5328f9c1c199827fd8aa0a-1574387320196map.html HTTP/1.1\" 206 -\n",
      "172.18.0.6 - - [22/Nov/2019 01:49:00] \"GET /images/day4-U0b000bbddf5328f9c1c199827fd8aa0a-1574387320196map.html HTTP/1.1\" 200 -\n",
      "172.18.0.6 - - [22/Nov/2019 01:49:04] \"POST / HTTP/1.1\" 200 -\n"
     ]
    },
    {
     "name": "stdout",
     "output_type": "stream",
     "text": [
      "Watson Buffet(快樂自助餐),U0b000bbddf5328f9c1c199827fd8aa0a\n",
      "{\"data\": \"souvenir\"}\n",
      "1574387343568,2019-11-22 01:49:03.568000\n",
      "{'age': 0, 'been2tko': 5, 'days': 6, 'budget': 100000, 'isFemale': 1}\n",
      "10 [{'Types': '餅乾類', 'address': '上野駅エキュート上野3F', 'price': 580, 'ranking': 61, 'souvenir': 'ドルチェフェリーチェ「うえきゅんのキャンダック」', 'url': 'https://www.keyuca.com/dolce-felice/'}, {'Types': '餅乾類', 'address': '渋谷駅渋谷マークシティB1F', 'price': 1080, 'ranking': 67, 'souvenir': '銀座菊廼舎（きくのや）「冨貴寄-ふきよせ-」', 'url': 'http://www.testarossacafe.net/'}, {'Types': '餅乾類', 'address': '新宿駅伊勢丹B1F', 'price': 480, 'ranking': 78, 'souvenir': '福太郎「めんべい」', 'url': 'http://candy-showtime.com'}, {'Types': '小蛋糕類', 'address': '池袋駅西武百貨店池袋本店B1F中央A3', 'price': 972, 'ranking': 62, 'souvenir': 'セバスチャン_ブイエ「タルトレット」', 'url': 'http://www.bouillet.jp/html/item/tartelette.html'}, {'Types': '小蛋糕類', 'address': '上野駅エキュート上野3F', 'price': 850, 'ranking': 55, 'souvenir': 'マミーズ･アン･スリール「パンダのアップルパイ」', 'url': 'http://www.net-ekinaka.com/shop/g/gRNUNSWET1841-RSP5002/'}, {'Types': '點心類', 'address': '渋谷駅渋谷ヒカリエShinQs B2F', 'price': 1512, 'ranking': 29, 'souvenir': 'ピエール・エルメ・パリ「マカロン」', 'url': 'http://www.keishindo.co.jp'}, {'Types': '巧克力類', 'address': '銀座駅銀座三越B2F', 'price': 414, 'ranking': 36, 'souvenir': 'CAFE OHZAN（カフェオウザン）「クロワッサンラスク」', 'url': 'http://onlineshop.cafe-ohzan.com/'}, {'Types': '巧克力類', 'address': '羽田空港第2旅客ターミナル2F東京食賓館[3番時計台前]', 'price': 1404, 'ranking': 38, 'souvenir': 'ピエール・マルコリーニ「マルコリーニ・マドレーヌ・ショコラ」', 'url': 'https://store.c-c-c.co.jp/DefaultBrandTop.aspx'}, {'Types': '夾心餅乾類', 'address': '池袋駅 西武百貨店池袋本店B1F', 'price': 2096, 'ranking': 96, 'souvenir': '空いろ「つき」', 'url': 'https://www.lupicia.com/shop/lp.aspx'}, {'Types': '夾心餅乾類', 'address': '羽田空港第1旅客ターミナル2F東京食賓館[Eゲート前]', 'price': 540, 'ranking': 6, 'souvenir': 'N.Y.キャラメルサンド「N.Y.C.SAND（ニューヨークシティサンド）」', 'url': 'https://ringo-applepie.com'}]\n"
     ]
    },
    {
     "name": "stderr",
     "output_type": "stream",
     "text": [
      "172.18.0.6 - - [22/Nov/2019 01:49:05] \"POST / HTTP/1.1\" 200 -\n"
     ]
    },
    {
     "name": "stdout",
     "output_type": "stream",
     "text": [
      "::souvenir:\n"
     ]
    },
    {
     "name": "stderr",
     "output_type": "stream",
     "text": [
      "172.18.0.6 - - [22/Nov/2019 03:41:56] \"POST / HTTP/1.1\" 200 -\n"
     ]
    },
    {
     "name": "stdout",
     "output_type": "stream",
     "text": [
      "Sean K.\n",
      "Udab78edc8aea5ffd79ec528a8e18676e\n",
      "https://profile.line-scdn.net/0m02bc295f72512d8c4fc5c1d25cea4a94f19934b97ca2\n",
      "Hakuna Matata\n"
     ]
    },
    {
     "name": "stderr",
     "output_type": "stream",
     "text": [
      "172.18.0.6 - - [22/Nov/2019 03:42:04] \"POST / HTTP/1.1\" 200 -\n"
     ]
    },
    {
     "name": "stdout",
     "output_type": "stream",
     "text": [
      "Sean K.,Udab78edc8aea5ffd79ec528a8e18676e\n",
      "{\"data\": \"gender,0\"}\n",
      "1574394123383,2019-11-22 03:42:03.383000\n"
     ]
    },
    {
     "name": "stderr",
     "output_type": "stream",
     "text": [
      "172.18.0.6 - - [22/Nov/2019 03:42:38] \"POST / HTTP/1.1\" 200 -\n"
     ]
    },
    {
     "name": "stdout",
     "output_type": "stream",
     "text": [
      "Sean K.,Udab78edc8aea5ffd79ec528a8e18676e\n",
      "{\"data\": \"birthday\", \"params\": {\"date\": \"1988-10-18\"}}\n",
      "1574394157185,2019-11-22 03:42:37.185000\n"
     ]
    },
    {
     "name": "stderr",
     "output_type": "stream",
     "text": [
      "172.18.0.6 - - [22/Nov/2019 03:43:02] \"POST / HTTP/1.1\" 200 -\n"
     ]
    },
    {
     "name": "stdout",
     "output_type": "stream",
     "text": [
      "@6\n"
     ]
    },
    {
     "name": "stderr",
     "output_type": "stream",
     "text": [
      "172.18.0.6 - - [22/Nov/2019 03:44:07] \"POST / HTTP/1.1\" 200 -\n"
     ]
    },
    {
     "name": "stdout",
     "output_type": "stream",
     "text": [
      "$50000$20000$4000$1000\n"
     ]
    },
    {
     "name": "stderr",
     "output_type": "stream",
     "text": [
      "172.18.0.6 - - [22/Nov/2019 03:44:16] \"POST / HTTP/1.1\" 200 -\n"
     ]
    },
    {
     "name": "stdout",
     "output_type": "stream",
     "text": [
      "Sean K.,Udab78edc8aea5ffd79ec528a8e18676e\n",
      "{\"data\": \"partner,1\"}\n",
      "1574394254600,2019-11-22 03:44:14.600000\n"
     ]
    },
    {
     "name": "stderr",
     "output_type": "stream",
     "text": [
      "172.18.0.6 - - [22/Nov/2019 03:44:20] \"POST / HTTP/1.1\" 200 -\n"
     ]
    },
    {
     "name": "stdout",
     "output_type": "stream",
     "text": [
      "Sean K.,Udab78edc8aea5ffd79ec528a8e18676e\n",
      "{\"data\": \"style,0\"}\n",
      "1574394259896,2019-11-22 03:44:19.896000\n"
     ]
    },
    {
     "name": "stderr",
     "output_type": "stream",
     "text": [
      "172.18.0.6 - - [22/Nov/2019 03:44:43] \"POST / HTTP/1.1\" 200 -\n"
     ]
    },
    {
     "name": "stdout",
     "output_type": "stream",
     "text": [
      "Sean K.,Udab78edc8aea5ffd79ec528a8e18676e\n",
      "{\"data\": \"deptDate\", \"params\": {\"date\": \"2019-12-26\"}}\n",
      "1574394281493,2019-11-22 03:44:41.493000\n"
     ]
    },
    {
     "name": "stderr",
     "output_type": "stream",
     "text": [
      "172.18.0.6 - - [22/Nov/2019 03:44:52] \"POST / HTTP/1.1\" 200 -\n"
     ]
    },
    {
     "name": "stdout",
     "output_type": "stream",
     "text": [
      "Sean K.,Udab78edc8aea5ffd79ec528a8e18676e\n",
      "{\"data\": \"retDate\", \"params\": {\"date\": \"2019-11-30\"}}\n",
      "1574394291162,2019-11-22 03:44:51.162000\n"
     ]
    },
    {
     "name": "stderr",
     "output_type": "stream",
     "text": [
      "172.18.0.6 - - [22/Nov/2019 03:44:59] \"POST / HTTP/1.1\" 200 -\n"
     ]
    },
    {
     "name": "stdout",
     "output_type": "stream",
     "text": [
      "Nihili Feng\n",
      "U6862a7797fb21baaca9d110ccc061758\n",
      "https://profile.line-scdn.net/0hVyGJSLVSCVZ6MybuGl92AUZ2BzsNHQ8eAlZAYgo0AG5XCx1UElBAZFc6BGEHUBkJT1ZAYFk6BGdU\n",
      "None\n"
     ]
    },
    {
     "name": "stderr",
     "output_type": "stream",
     "text": [
      "172.18.0.6 - - [22/Nov/2019 03:45:15] \"POST / HTTP/1.1\" 200 -\n"
     ]
    },
    {
     "name": "stdout",
     "output_type": "stream",
     "text": [
      "Sean K.,Udab78edc8aea5ffd79ec528a8e18676e\n",
      "{\"data\": \"poi\"}\n",
      "1574394314458,2019-11-22 03:45:14.458000\n"
     ]
    },
    {
     "name": "stderr",
     "output_type": "stream",
     "text": [
      "172.18.0.6 - - [22/Nov/2019 03:45:15] \"POST / HTTP/1.1\" 200 -\n"
     ]
    },
    {
     "name": "stdout",
     "output_type": "stream",
     "text": [
      "::POI:\n"
     ]
    },
    {
     "name": "stderr",
     "output_type": "stream",
     "text": [
      "172.18.0.6 - - [22/Nov/2019 03:45:16] \"POST / HTTP/1.1\" 200 -\n"
     ]
    },
    {
     "name": "stdout",
     "output_type": "stream",
     "text": [
      "Nihili Feng,U6862a7797fb21baaca9d110ccc061758\n",
      "{\"data\": \"gender,0\"}\n",
      "1574394315144,2019-11-22 03:45:15.144000\n",
      "{'age': 31, 'been2tko': 6, 'howlong': -26, 'budget': 50000, 'isFemale': 0, 'with_child': 0, 'crampedSechedule': False}\n",
      "['[{\"index\":265,\"name\":\"東京迪士尼海洋樂園 Tokyo DisneySea\",\"rank\":\"排名第 1的Maihama觀光 (共5家)\",\"address\":\"千葉縣浦安Maihama1-13279-0031\",\"child\":0.75,\"latitude\":35.62675,\"longitude\":139.885095,\"score\":94,\"chosen\":true}]']\n",
      "東京迪士尼海洋樂園 Tokyo DisneySea\n",
      "大東京都會排名第 1的Maihama觀光 (共5家)\n",
      "地址：千葉縣浦安Maihama1-13279-0031。\n",
      "---------------\n",
      "\n",
      "東京迪士尼海洋樂園 Tokyo DisneySea\n",
      "大東京都會排名第 1的Maihama觀光 (共5家)\n",
      "地址：千葉縣浦安Maihama1-13279-0031。\n",
      "---------------\n",
      "===============\n"
     ]
    },
    {
     "name": "stderr",
     "output_type": "stream",
     "text": [
      "172.18.0.6 - - [22/Nov/2019 03:45:21] \"POST / HTTP/1.1\" 200 -\n"
     ]
    },
    {
     "name": "stdout",
     "output_type": "stream",
     "text": [
      "Sean K.,Udab78edc8aea5ffd79ec528a8e18676e\n",
      "{\"data\": \"poiPush\"}\n",
      "1574394319838,2019-11-22 03:45:19.838000\n"
     ]
    },
    {
     "name": "stderr",
     "output_type": "stream",
     "text": [
      "172.18.0.6 - - [22/Nov/2019 03:45:45] \"POST / HTTP/1.1\" 200 -\n"
     ]
    },
    {
     "name": "stdout",
     "output_type": "stream",
     "text": [
      "Nihili Feng,U6862a7797fb21baaca9d110ccc061758\n",
      "{\"data\": \"birthday\", \"params\": {\"date\": \"2019-11-22\"}}\n",
      "1574394344254,2019-11-22 03:45:44.254000\n"
     ]
    },
    {
     "name": "stderr",
     "output_type": "stream",
     "text": [
      "172.18.0.6 - - [22/Nov/2019 03:46:05] \"POST / HTTP/1.1\" 200 -\n"
     ]
    },
    {
     "name": "stdout",
     "output_type": "stream",
     "text": [
      "@0\n"
     ]
    },
    {
     "name": "stderr",
     "output_type": "stream",
     "text": [
      "172.18.0.6 - - [22/Nov/2019 03:46:09] \"POST / HTTP/1.1\" 200 -\n"
     ]
    },
    {
     "name": "stdout",
     "output_type": "stream",
     "text": [
      "Yu Liang\n",
      "Ud799fbc01cc9abf903a55f1889e3b1bd\n",
      "https://profile.line-scdn.net/0m0369ea8d72519a8fcc37f0337417581af7e5c5d35ba0\n",
      "The past cannot be changed. The future is yet in your power.\n"
     ]
    },
    {
     "name": "stderr",
     "output_type": "stream",
     "text": [
      "172.18.0.6 - - [22/Nov/2019 03:46:10] \"POST / HTTP/1.1\" 200 -\n"
     ]
    },
    {
     "name": "stdout",
     "output_type": "stream",
     "text": [
      "₣x Vicky\n",
      "U14770bc146b1d3631d0e51c6d9af7dda\n",
      "https://profile.line-scdn.net/0hW1yTQk6GCB5ELSNCqj53SXhoBnMzAw5WPB5HemYlBCw9Hk5MfxtCemJ-Xyk8Gh1PLUJBfGIsAnw8\n",
      "None\n"
     ]
    },
    {
     "name": "stderr",
     "output_type": "stream",
     "text": [
      "172.18.0.6 - - [22/Nov/2019 03:46:10] \"POST / HTTP/1.1\" 200 -\n"
     ]
    },
    {
     "name": "stdout",
     "output_type": "stream",
     "text": [
      "Sean K.,Udab78edc8aea5ffd79ec528a8e18676e\n",
      "{\"data\": \"faq\"}\n",
      "1574394369675,2019-11-22 03:46:09.675000\n"
     ]
    },
    {
     "name": "stderr",
     "output_type": "stream",
     "text": [
      "172.18.0.6 - - [22/Nov/2019 03:46:11] \"POST / HTTP/1.1\" 200 -\n"
     ]
    },
    {
     "name": "stdout",
     "output_type": "stream",
     "text": [
      "::FAQ:\n"
     ]
    },
    {
     "name": "stderr",
     "output_type": "stream",
     "text": [
      "172.18.0.6 - - [22/Nov/2019 03:46:15] \"POST / HTTP/1.1\" 200 -\n"
     ]
    },
    {
     "name": "stdout",
     "output_type": "stream",
     "text": [
      "Yu Liang,Ud799fbc01cc9abf903a55f1889e3b1bd\n",
      "{\"data\": \"gender,0\"}\n",
      "1574394374669,2019-11-22 03:46:14.669000\n"
     ]
    },
    {
     "name": "stderr",
     "output_type": "stream",
     "text": [
      "172.18.0.6 - - [22/Nov/2019 03:46:16] \"POST / HTTP/1.1\" 200 -\n"
     ]
    },
    {
     "name": "stdout",
     "output_type": "stream",
     "text": [
      "₣x Vicky,U14770bc146b1d3631d0e51c6d9af7dda\n",
      "{\"data\": \"gender,1\"}\n",
      "1574394375778,2019-11-22 03:46:15.778000\n"
     ]
    },
    {
     "name": "stderr",
     "output_type": "stream",
     "text": [
      "172.18.0.6 - - [22/Nov/2019 03:46:24] \"POST / HTTP/1.1\" 200 -\n"
     ]
    },
    {
     "name": "stdout",
     "output_type": "stream",
     "text": [
      "5000\n"
     ]
    },
    {
     "name": "stderr",
     "output_type": "stream",
     "text": [
      "172.18.0.6 - - [22/Nov/2019 03:46:25] \"POST / HTTP/1.1\" 200 -\n"
     ]
    },
    {
     "name": "stdout",
     "output_type": "stream",
     "text": [
      "Amelia\n",
      "Uf2ad0eb3c96bc7a6a472cde028fbea5b\n",
      "https://profile.line-scdn.net/0m01a0207e7251baa676d058105019fb13141f4acebe41\n",
      "None\n"
     ]
    },
    {
     "name": "stderr",
     "output_type": "stream",
     "text": [
      "172.18.0.6 - - [22/Nov/2019 03:46:31] \"POST / HTTP/1.1\" 200 -\n"
     ]
    },
    {
     "name": "stdout",
     "output_type": "stream",
     "text": [
      "Amelia,Uf2ad0eb3c96bc7a6a472cde028fbea5b\n",
      "{\"data\": \"gender,1\"}\n",
      "1574394390214,2019-11-22 03:46:30.214000\n"
     ]
    },
    {
     "name": "stderr",
     "output_type": "stream",
     "text": [
      "172.18.0.6 - - [22/Nov/2019 03:46:32] \"POST / HTTP/1.1\" 200 -\n"
     ]
    },
    {
     "name": "stdout",
     "output_type": "stream",
     "text": [
      "₣x Vicky,U14770bc146b1d3631d0e51c6d9af7dda\n",
      "{\"data\": \"birthday\", \"params\": {\"date\": \"1991-02-13\"}}\n",
      "1574394391349,2019-11-22 03:46:31.349000\n"
     ]
    },
    {
     "name": "stderr",
     "output_type": "stream",
     "text": [
      "172.18.0.6 - - [22/Nov/2019 03:46:35] \"POST / HTTP/1.1\" 200 -\n"
     ]
    },
    {
     "name": "stdout",
     "output_type": "stream",
     "text": [
      "$5000\n"
     ]
    },
    {
     "name": "stderr",
     "output_type": "stream",
     "text": [
      "172.18.0.6 - - [22/Nov/2019 03:46:42] \"POST / HTTP/1.1\" 200 -\n"
     ]
    },
    {
     "name": "stdout",
     "output_type": "stream",
     "text": [
      "Yu Liang,Ud799fbc01cc9abf903a55f1889e3b1bd\n",
      "{\"data\": \"birthday\", \"params\": {\"date\": \"1990-03-09\"}}\n",
      "1574394401377,2019-11-22 03:46:41.377000\n"
     ]
    },
    {
     "name": "stderr",
     "output_type": "stream",
     "text": [
      "172.18.0.6 - - [22/Nov/2019 03:46:48] \"POST / HTTP/1.1\" 200 -\n"
     ]
    },
    {
     "name": "stdout",
     "output_type": "stream",
     "text": [
      "Amelia,Uf2ad0eb3c96bc7a6a472cde028fbea5b\n",
      "{\"data\": \"birthday\", \"params\": {\"date\": \"1991-08-17\"}}\n",
      "1574394407275,2019-11-22 03:46:47.275000\n"
     ]
    },
    {
     "name": "stderr",
     "output_type": "stream",
     "text": [
      "172.18.0.6 - - [22/Nov/2019 03:46:48] \"POST / HTTP/1.1\" 200 -\n"
     ]
    },
    {
     "name": "stdout",
     "output_type": "stream",
     "text": [
      "Nihili Feng,U6862a7797fb21baaca9d110ccc061758\n",
      "{\"data\": \"gender,0\"}\n",
      "1574394407560,2019-11-22 03:46:47.560000\n"
     ]
    },
    {
     "name": "stderr",
     "output_type": "stream",
     "text": [
      "172.18.0.6 - - [22/Nov/2019 03:46:49] \"POST / HTTP/1.1\" 200 -\n"
     ]
    },
    {
     "name": "stdout",
     "output_type": "stream",
     "text": [
      "@3\n"
     ]
    },
    {
     "name": "stderr",
     "output_type": "stream",
     "text": [
      "172.18.0.6 - - [22/Nov/2019 03:47:03] \"POST / HTTP/1.1\" 200 -\n"
     ]
    },
    {
     "name": "stdout",
     "output_type": "stream",
     "text": [
      "1\n"
     ]
    },
    {
     "name": "stderr",
     "output_type": "stream",
     "text": [
      "172.18.0.6 - - [22/Nov/2019 03:47:04] \"POST / HTTP/1.1\" 200 -\n"
     ]
    },
    {
     "name": "stdout",
     "output_type": "stream",
     "text": [
      "Nihili Feng,U6862a7797fb21baaca9d110ccc061758\n",
      "{\"data\": \"birthday\", \"params\": {\"date\": \"1988-11-22\"}}\n",
      "1574394423684,2019-11-22 03:47:03.684000\n"
     ]
    },
    {
     "name": "stderr",
     "output_type": "stream",
     "text": [
      "172.18.0.6 - - [22/Nov/2019 03:47:06] \"POST / HTTP/1.1\" 200 -\n"
     ]
    },
    {
     "name": "stdout",
     "output_type": "stream",
     "text": [
      "@1\n"
     ]
    },
    {
     "name": "stderr",
     "output_type": "stream",
     "text": [
      "172.18.0.6 - - [22/Nov/2019 03:47:14] \"POST / HTTP/1.1\" 200 -\n"
     ]
    },
    {
     "name": "stdout",
     "output_type": "stream",
     "text": [
      "@0\n"
     ]
    },
    {
     "name": "stderr",
     "output_type": "stream",
     "text": [
      "172.18.0.6 - - [22/Nov/2019 03:47:16] \"POST / HTTP/1.1\" 200 -\n"
     ]
    },
    {
     "name": "stdout",
     "output_type": "stream",
     "text": [
      "35000\n"
     ]
    },
    {
     "name": "stderr",
     "output_type": "stream",
     "text": [
      "172.18.0.6 - - [22/Nov/2019 03:47:19] \"POST / HTTP/1.1\" 200 -\n"
     ]
    },
    {
     "name": "stdout",
     "output_type": "stream",
     "text": [
      "@1\n"
     ]
    },
    {
     "name": "stderr",
     "output_type": "stream",
     "text": [
      "172.18.0.6 - - [22/Nov/2019 03:47:21] \"POST / HTTP/1.1\" 200 -\n"
     ]
    },
    {
     "name": "stdout",
     "output_type": "stream",
     "text": [
      "$5000\n"
     ]
    },
    {
     "name": "stderr",
     "output_type": "stream",
     "text": [
      "172.18.0.6 - - [22/Nov/2019 03:47:38] \"POST / HTTP/1.1\" 200 -\n"
     ]
    },
    {
     "name": "stdout",
     "output_type": "stream",
     "text": [
      "$50000\n"
     ]
    },
    {
     "name": "stderr",
     "output_type": "stream",
     "text": [
      "172.18.0.6 - - [22/Nov/2019 03:47:45] \"POST / HTTP/1.1\" 200 -\n"
     ]
    },
    {
     "name": "stdout",
     "output_type": "stream",
     "text": [
      "$2500\n"
     ]
    },
    {
     "name": "stderr",
     "output_type": "stream",
     "text": [
      "172.18.0.6 - - [22/Nov/2019 03:47:46] \"POST / HTTP/1.1\" 200 -\n"
     ]
    },
    {
     "name": "stdout",
     "output_type": "stream",
     "text": [
      "Nihili Feng,U6862a7797fb21baaca9d110ccc061758\n",
      "{\"data\": \"birthday\", \"params\": {\"date\": \"1988-11-22\"}}\n",
      "1574394465672,2019-11-22 03:47:45.672000\n"
     ]
    },
    {
     "name": "stderr",
     "output_type": "stream",
     "text": [
      "172.18.0.6 - - [22/Nov/2019 03:47:56] \"POST / HTTP/1.1\" 200 -\n"
     ]
    },
    {
     "name": "stdout",
     "output_type": "stream",
     "text": [
      "@0\n"
     ]
    },
    {
     "name": "stderr",
     "output_type": "stream",
     "text": [
      "172.18.0.6 - - [22/Nov/2019 03:48:17] \"POST / HTTP/1.1\" 200 -\n"
     ]
    },
    {
     "name": "stdout",
     "output_type": "stream",
     "text": [
      "$50000$16000$3000$500\n"
     ]
    },
    {
     "name": "stderr",
     "output_type": "stream",
     "text": [
      "172.18.0.6 - - [22/Nov/2019 03:48:40] \"POST / HTTP/1.1\" 200 -\n"
     ]
    },
    {
     "name": "stdout",
     "output_type": "stream",
     "text": [
      "$100000$$20000$1000$$200\n"
     ]
    },
    {
     "name": "stderr",
     "output_type": "stream",
     "text": [
      "172.18.0.6 - - [22/Nov/2019 03:49:00] \"POST / HTTP/1.1\" 200 -\n"
     ]
    },
    {
     "name": "stdout",
     "output_type": "stream",
     "text": [
      "$10000$3000$1000$300\n"
     ]
    },
    {
     "name": "stderr",
     "output_type": "stream",
     "text": [
      "172.18.0.6 - - [22/Nov/2019 03:49:08] \"POST / HTTP/1.1\" 200 -\n"
     ]
    },
    {
     "name": "stdout",
     "output_type": "stream",
     "text": [
      "Yu Liang,Ud799fbc01cc9abf903a55f1889e3b1bd\n",
      "{\"data\": \"partner,2\"}\n",
      "1574394547578,2019-11-22 03:49:07.578000\n"
     ]
    },
    {
     "name": "stderr",
     "output_type": "stream",
     "text": [
      "172.18.0.6 - - [22/Nov/2019 03:49:13] \"POST / HTTP/1.1\" 200 -\n"
     ]
    },
    {
     "name": "stdout",
     "output_type": "stream",
     "text": [
      "Yu Liang,Ud799fbc01cc9abf903a55f1889e3b1bd\n",
      "{\"data\": \"style,0\"}\n",
      "1574394552149,2019-11-22 03:49:12.149000\n"
     ]
    },
    {
     "name": "stderr",
     "output_type": "stream",
     "text": [
      "172.18.0.6 - - [22/Nov/2019 03:49:15] \"POST / HTTP/1.1\" 200 -\n"
     ]
    },
    {
     "name": "stdout",
     "output_type": "stream",
     "text": [
      "$100000$$20000$1000$200\n"
     ]
    },
    {
     "name": "stderr",
     "output_type": "stream",
     "text": [
      "172.18.0.6 - - [22/Nov/2019 03:49:16] \"POST / HTTP/1.1\" 200 -\n"
     ]
    },
    {
     "name": "stdout",
     "output_type": "stream",
     "text": [
      "Nihili Feng,U6862a7797fb21baaca9d110ccc061758\n",
      "{\"data\": \"partner,1\"}\n",
      "1574394555489,2019-11-22 03:49:15.489000\n"
     ]
    },
    {
     "name": "stderr",
     "output_type": "stream",
     "text": [
      "172.18.0.6 - - [22/Nov/2019 03:49:21] \"POST / HTTP/1.1\" 200 -\n"
     ]
    },
    {
     "name": "stdout",
     "output_type": "stream",
     "text": [
      "Yu Liang,Ud799fbc01cc9abf903a55f1889e3b1bd\n",
      "{\"data\": \"deptDate\", \"params\": {\"date\": \"2019-11-30\"}}\n",
      "1574394560497,2019-11-22 03:49:20.497000\n"
     ]
    },
    {
     "name": "stderr",
     "output_type": "stream",
     "text": [
      "172.18.0.6 - - [22/Nov/2019 03:49:22] \"POST / HTTP/1.1\" 200 -\n"
     ]
    },
    {
     "name": "stdout",
     "output_type": "stream",
     "text": [
      "Nihili Feng,U6862a7797fb21baaca9d110ccc061758\n",
      "{\"data\": \"style,0\"}\n",
      "1574394561870,2019-11-22 03:49:21.870000\n"
     ]
    },
    {
     "name": "stderr",
     "output_type": "stream",
     "text": [
      "172.18.0.6 - - [22/Nov/2019 03:49:25] \"POST / HTTP/1.1\" 200 -\n"
     ]
    },
    {
     "name": "stdout",
     "output_type": "stream",
     "text": [
      "$100000$20000$1000$$200\n"
     ]
    },
    {
     "name": "stderr",
     "output_type": "stream",
     "text": [
      "172.18.0.6 - - [22/Nov/2019 03:49:31] \"POST / HTTP/1.1\" 200 -\n"
     ]
    },
    {
     "name": "stdout",
     "output_type": "stream",
     "text": [
      "$100000$20000$1000$200\n"
     ]
    },
    {
     "name": "stderr",
     "output_type": "stream",
     "text": [
      "172.18.0.6 - - [22/Nov/2019 03:49:32] \"POST / HTTP/1.1\" 200 -\n"
     ]
    },
    {
     "name": "stdout",
     "output_type": "stream",
     "text": [
      "Yu Liang,Ud799fbc01cc9abf903a55f1889e3b1bd\n",
      "{\"data\": \"retDate\", \"params\": {\"date\": \"2019-12-07\"}}\n",
      "1574394571138,2019-11-22 03:49:31.138000\n"
     ]
    },
    {
     "name": "stderr",
     "output_type": "stream",
     "text": [
      "172.18.0.6 - - [22/Nov/2019 03:49:33] \"POST / HTTP/1.1\" 200 -\n"
     ]
    },
    {
     "name": "stdout",
     "output_type": "stream",
     "text": [
      "Nihili Feng,U6862a7797fb21baaca9d110ccc061758\n",
      "{\"data\": \"deptDate\", \"params\": {\"date\": \"2019-11-30\"}}\n",
      "1574394572197,2019-11-22 03:49:32.197000\n"
     ]
    },
    {
     "name": "stderr",
     "output_type": "stream",
     "text": [
      "172.18.0.6 - - [22/Nov/2019 03:49:38] \"POST / HTTP/1.1\" 200 -\n"
     ]
    },
    {
     "name": "stdout",
     "output_type": "stream",
     "text": [
      "₣x Vicky,U14770bc146b1d3631d0e51c6d9af7dda\n",
      "{\"data\": \"partner,2\"}\n",
      "1574394577299,2019-11-22 03:49:37.299000\n"
     ]
    },
    {
     "name": "stderr",
     "output_type": "stream",
     "text": [
      "172.18.0.6 - - [22/Nov/2019 03:49:43] \"POST / HTTP/1.1\" 200 -\n"
     ]
    },
    {
     "name": "stdout",
     "output_type": "stream",
     "text": [
      "₣x Vicky,U14770bc146b1d3631d0e51c6d9af7dda\n",
      "{\"data\": \"style,0\"}\n",
      "1574394582272,2019-11-22 03:49:42.272000\n"
     ]
    },
    {
     "name": "stderr",
     "output_type": "stream",
     "text": [
      "172.18.0.6 - - [22/Nov/2019 03:49:50] \"POST / HTTP/1.1\" 200 -\n"
     ]
    },
    {
     "name": "stdout",
     "output_type": "stream",
     "text": [
      "₣x Vicky,U14770bc146b1d3631d0e51c6d9af7dda\n",
      "{\"data\": \"deptDate\", \"params\": {\"date\": \"2019-11-22\"}}\n",
      "1574394588850,2019-11-22 03:49:48.850000\n"
     ]
    },
    {
     "name": "stderr",
     "output_type": "stream",
     "text": [
      "172.18.0.6 - - [22/Nov/2019 03:49:51] \"POST / HTTP/1.1\" 200 -\n"
     ]
    },
    {
     "name": "stdout",
     "output_type": "stream",
     "text": [
      "Nihili Feng,U6862a7797fb21baaca9d110ccc061758\n",
      "{\"data\": \"retDate\", \"params\": {\"date\": \"2019-12-07\"}}\n",
      "1574394589608,2019-11-22 03:49:49.608000\n"
     ]
    },
    {
     "name": "stderr",
     "output_type": "stream",
     "text": [
      "172.18.0.6 - - [22/Nov/2019 03:50:01] \"POST / HTTP/1.1\" 200 -\n"
     ]
    },
    {
     "name": "stdout",
     "output_type": "stream",
     "text": [
      "₣x Vicky,U14770bc146b1d3631d0e51c6d9af7dda\n",
      "{\"data\": \"retDate\", \"params\": {\"date\": \"2019-11-23\"}}\n",
      "1574394600400,2019-11-22 03:50:00.400000\n"
     ]
    },
    {
     "name": "stderr",
     "output_type": "stream",
     "text": [
      "172.18.0.6 - - [22/Nov/2019 03:50:10] \"POST / HTTP/1.1\" 200 -\n"
     ]
    },
    {
     "name": "stdout",
     "output_type": "stream",
     "text": [
      "Yu Liang,Ud799fbc01cc9abf903a55f1889e3b1bd\n",
      "{\"data\": \"retDate\", \"params\": {\"date\": \"2019-12-02\"}}\n",
      "1574394609610,2019-11-22 03:50:09.610000\n"
     ]
    },
    {
     "name": "stderr",
     "output_type": "stream",
     "text": [
      "172.18.0.6 - - [22/Nov/2019 03:50:11] \"POST / HTTP/1.1\" 200 -\n"
     ]
    },
    {
     "name": "stdout",
     "output_type": "stream",
     "text": [
      "₣x Vicky,U14770bc146b1d3631d0e51c6d9af7dda\n",
      "{\"data\": \"restaurant\"}\n",
      "1574394610865,2019-11-22 03:50:10.865000\n",
      "{'age': 28, 'been2tko': 3, 'days': 1, 'totalBudget': 100000, 'gender': 1, 'oneBudget': 200}\n",
      "2 [{'age': 33, 'cp_rating_dinner': 4.11, 'cp_rating_lunch': 4.75, 'feeling_rating_dinner': 3.91, 'feeling_rating_lunch': 4.73, 'female_prop': 24.05, 'label_code': 0, 'label_desc': '高消族', 'lat': 35.6270047, 'lng': 139.7085856, 'male_prop': 75.95, 'meal_duration': 1.0, 'prices_dinner': 7087, 'prices_lunch': 2551, 'rest_addr': '東京都目黑區下目黑3-16-2', 'rest_area': '不動前・武藏小山・西小山', 'rest_catg': '壽司', 'rest_rating': 4.02, 'service_rating_dinner': 4.02, 'service_rating_lunch': 4.41, 'store_nm_en': 'Rammaru', 'store_nm_jp': 'らんまる', 'transport': '不動前駅から448m\\n\\n\\n距离不動前 448  米'}, {'age': 39, 'cp_rating_dinner': 3.59, 'cp_rating_lunch': 3.52, 'feeling_rating_dinner': 3.6, 'feeling_rating_lunch': 3.66, 'female_prop': 23.55, 'label_code': 1, 'label_desc': '平消族', 'lat': 35.7055685, 'lng': 139.6860926, 'male_prop': 76.45, 'meal_duration': 1.0, 'prices_dinner': 142, 'prices_lunch': 142, 'rest_addr': '東京都中野區東中野1-51-4', 'rest_area': '東中野', 'rest_catg': '拉麵/沾麵', 'rest_rating': 3.81, 'service_rating_dinner': 3.56, 'service_rating_lunch': 3.56, 'store_nm_en': 'Mendokorokinari', 'store_nm_jp': 'メンドコロ キナリ', 'transport': 'JR総武線 東中野駅 東口から徒歩1分\\n都営大江戸線 東中野駅 A1出入口から徒歩4分\\n東京メトロ東西線 落合駅 2b出入口から徒歩8分\\n\\n\\n距离東中野 318  米'}]\n"
     ]
    },
    {
     "name": "stderr",
     "output_type": "stream",
     "text": [
      "172.18.0.6 - - [22/Nov/2019 03:50:12] \"POST / HTTP/1.1\" 200 -\n"
     ]
    },
    {
     "name": "stdout",
     "output_type": "stream",
     "text": [
      "::restaurant:\n"
     ]
    },
    {
     "name": "stderr",
     "output_type": "stream",
     "text": [
      "172.18.0.6 - - [22/Nov/2019 03:50:13] \"POST / HTTP/1.1\" 200 -\n"
     ]
    },
    {
     "name": "stdout",
     "output_type": "stream",
     "text": [
      "Nihili Feng,U6862a7797fb21baaca9d110ccc061758\n",
      "{\"data\": \"tripStart\"}\n",
      "1574394612873,2019-11-22 03:50:12.873000\n",
      "{'age': 31, 'been2tko': 0, 'days': 7, 'budget': 10000, 'isFemale': 0, 'fbudget': 3000, 'dDate': '2019-11-30', 'rDate': '2019-12-07'}\n",
      "{'airline': 'Tigerair Taiwan', 'date_format(eta,\"%a\")': 'Sat', 'date_format(etd,\"%a\")': 'Sat', 'date_format(saEta,\"%a\")': 'Sat', 'date_format(saEtd,\"%a\")': 'Sat', 'price': 7767, 'time_format(eta,\"%T\")': '10:35:00', 'time_format(etd,\"%T\")': '06:35:00', 'time_format(saEta,\"%T\")': '21:50:00', 'time_format(saEtd,\"%T\")': '18:30:00', 'time_format(sec_to_time(dur),\"%T\")': '03:00:00', 'time_format(sec_to_time(saDur),\"%T\")': '04:20:00'}\n",
      "bk by sat\n",
      "{'age': 31, 'been2tko': 0, 'howlong': 7, 'budget': 10000, 'isFemale': 0, 'with_child': 0, 'crampedSechedule': False}\n",
      "['[{\"index\":2,\"name\":\"淺草 Asakusa\",\"rank\":\"排名第 1的台東區觀光 (共560家)\",\"address\":\"東京都台東區\",\"child\":0.0087715012,\"latitude\":35.7125736,\"longitude\":139.7802043,\"score\":241,\"chosen\":true},{\"index\":48,\"name\":\"雷門 Nakamise Shopping Street (Kaminarimon)\",\"rank\":\"排名第 18的台東區觀光 (共560家)\",\"address\":\"東京都台東區淺草1丁目3\",\"child\":0.0048539208,\"latitude\":35.7110859,\"longitude\":139.7959648,\"score\":114,\"chosen\":true},{\"index\":35,\"name\":\"淺草文化觀光中心 Asakusa Culture Tourist Information Center\",\"rank\":\"排名第 3的台東區觀光 (共560家)\",\"address\":\"東京都台東區2-18-9 Kaminarimon111-0034\",\"child\":0.0040560983,\"latitude\":35.7106489,\"longitude\":139.7965348,\"score\":106,\"chosen\":true}]', '[{\"index\":59,\"name\":\"惠比壽啤酒紀念館 Museum of Yebisu Beer\",\"rank\":\"排名第 12的澀谷區觀光 (共279家)\",\"address\":\"東京都澀谷區惠比壽4-20-1\",\"child\":0.0,\"latitude\":35.643115,\"longitude\":139.7145631,\"score\":70,\"chosen\":true},{\"index\":138,\"name\":\"東京大神宮 Tokyo Daijingu Shrine\",\"rank\":\"排名第 18的千代田區觀光 (共446家)\",\"address\":\"東京都千代田區富士見2-4-1102-0071\",\"child\":0.0,\"latitude\":35.6999583,\"longitude\":139.7462026,\"score\":114,\"chosen\":true},{\"index\":174,\"name\":\" Old Asakura family House\",\"rank\":\"排名第 3的目黑區觀光 (共108家)\",\"address\":\"東京都目黑區29-20 Sarugakucho150-0033\",\"child\":0.0659601586,\"latitude\":35.6414529,\"longitude\":139.6980773,\"score\":114,\"chosen\":true}]', '[{\"index\":225,\"name\":\"東京馬拉松 Tokyo Marathon\",\"rank\":\"排名第 12的新宿區觀光 (共419家)\",\"address\":\"東京都新宿區2-8-1 NishishinjukuTokyo Metropolitan Government Building163-8001\",\"child\":0.0542821379,\"latitude\":35.6898531,\"longitude\":139.6917321,\"score\":70,\"chosen\":true},{\"index\":164,\"name\":\"摺紙會館 Origami Kaikan\",\"rank\":\"排名第 21的文京區觀光 (共297家)\",\"address\":\"東京都文京區湯島1-7-14113-0034\",\"child\":0.2664738015,\"latitude\":35.7026405,\"longitude\":139.7650482,\"score\":70,\"chosen\":true},{\"index\":130,\"name\":\"日本國會議事堂 National Diet Building\",\"rank\":\"排名第 14的千代田區觀光 (共446家)\",\"address\":\"東京都千代田區永田町1丁目7番1號100-0014\",\"child\":0.0,\"latitude\":35.6758833,\"longitude\":139.7448849,\"score\":114,\"chosen\":true}]', '[{\"index\":124,\"name\":\"貨幣博物館 Bank of Japan Currency Museum\",\"rank\":\"排名第 11的中央區觀光 (共577家)\",\"address\":\"東京都中央區日本橋本石町1-3-1103-0021\",\"child\":0.170981757,\"latitude\":35.6852515,\"longitude\":139.7725791,\"score\":70,\"chosen\":true},{\"index\":261,\"name\":\" Tokyu Setagaya Line\",\"rank\":\"排名第 4的世田谷區觀光 (共235家)\",\"address\":\"東京都世田谷區154-0000\",\"child\":0.2283125382,\"latitude\":35.6465435,\"longitude\":139.6532215,\"score\":70,\"chosen\":true},{\"index\":38,\"name\":\"上野阿美橫丁商店街 Ameyoko Shopping Street\",\"rank\":\"排名第 2的Ueno觀光 (共7家)\",\"address\":\"東京都台東區UenoUeno\",\"child\":0.012643587,\"latitude\":35.7087296,\"longitude\":139.7741538,\"score\":400,\"chosen\":true}]', '[{\"index\":65,\"name\":\"消防博物館 Fire Museum\",\"rank\":\"排名第 1的Yotsuya觀光 (共9家)\",\"address\":\"東京都新宿區Yotsuya四谷3-10160-0004\",\"child\":0.851345428,\"latitude\":35.6879356,\"longitude\":139.7201799,\"score\":70,\"chosen\":true},{\"index\":181,\"name\":\"新丸之內大樓 Shin-Marunouchi Building\",\"rank\":\"排名第 30的千代田區觀光 (共446家)\",\"address\":\"東京都千代田區1-5-1 MarunouchiShin Marunouchi Bldg B1F100-6590\",\"child\":0.0,\"latitude\":35.6826212,\"longitude\":139.7642436,\"score\":84,\"chosen\":true},{\"index\":13,\"name\":\"東京都廳 Tokyo Metropolitan Government Buildings\",\"rank\":\"排名第 4的新宿區觀光 (共419家)\",\"address\":\"東京都新宿區西新宿2-8-1160-0023\",\"child\":0.0117124956,\"latitude\":35.6895877,\"longitude\":139.6914565,\"score\":114,\"chosen\":true}]', '[{\"index\":199,\"name\":\"日本國立國會圖書館 National Diet Library\",\"rank\":\"排名第 35的千代田區觀光 (共446家)\",\"address\":\"東京都千代田區1-10-1, Nagatacho100-8924\",\"child\":0.0,\"latitude\":35.6784667,\"longitude\":139.7442197,\"score\":70,\"chosen\":true},{\"index\":37,\"name\":\"泉岳寺 Sengaku-ji Temple\",\"rank\":\"排名第 11的港區觀光 (共626家)\",\"address\":\"東京都港區高輪2-20-20108-0074\",\"child\":0.0031644781,\"latitude\":35.6381278,\"longitude\":139.740135,\"score\":114,\"chosen\":true},{\"index\":50,\"name\":\"神田明神神社 Kanda Shrine\",\"rank\":\"排名第 15的千代田區觀光 (共446家)\",\"address\":\"東京都千代田區外神田2-16-2101-0021\",\"child\":0.0229834121,\"latitude\":35.702072,\"longitude\":139.7679235,\"score\":114,\"chosen\":true}]']\n",
      "{'age': 31, 'been2tko': 0, 'days': 7, 'budget': 10000, 'isFemale': 0, 'hotel budget': 1000}\n",
      "{'CP': 2.650762094, 'pre': 2.0, '交通1': '淺草站 - 走路 7 分鐘', '交通2': '東京晴空塔站 - 走路 17 分鐘', '交通3': '東京, 日本 (NRT-成田國際機場) - 車程 45 分鐘', '交通便利性': '7', '價格': 1509.0, '地址': '2-33-7 Asakusa, Taito-ku, 東京, Tokyo-to', '廚房': 0.0, '星等': 3.0, '經度': 139.798432, '網址': 'https://www.expedia.com.tw/Tokyo-Hotels-Via-Inn-Asakusa.h2850381.Hotel-Information?chkin=2019%2F10%2F4&chkout=2019%2F10%2F5&regionId=179900&destination=%E6%9D%B1%E4%BA%AC+%28%E5%8F%8A%E9%84%B0%E8%BF%91%E5%9C%B0%E5%8D%80%29%2C+%E6%97%A5%E6%9C%AC&swpToggleOn=true&rm1=a1&x_pwa=1&sort=recommended&top_dp=1509&top_cur=TWD&rfrr=HSR&pwa_ts=1570019332231', '緯度': 35.71507, '評價': 4.0, '鄰近景點1': '淺草神社 - 步行 2 分鐘', '鄰近景點2': '淺草寺雷門 - 步行 3 分鐘', '鄰近景點3': '東京晴空塔 - 步行 19 分鐘', '鄰近景點4': '東京國立博物館 - 開車 2 分鐘', '鄰近景點5': '江戶東京博物館 - 開車 3 分鐘', '飯店名稱': '維雅淺草飯店'}\n",
      "{'age': 31, 'been2tko': 0, 'days': 7, 'totalBudget': 10000, 'gender': 0, 'oneBudget': 300}\n",
      "[{'age': 36, 'cp_rating_dinner': 3.85, 'cp_rating_lunch': 3.65, 'feeling_rating_dinner': 4.15, 'feeling_rating_lunch': 3.79, 'female_prop': 24.13, 'label_code': 0, 'label_desc': '高消族', 'lat': 35.6610947, 'lng': 139.7057965, 'male_prop': 75.87, 'meal_duration': 1.0, 'prices_dinner': 9922, 'prices_lunch': 9922, 'rest_addr': '東京都澀穀區澀穀1-5-9', 'rest_area': '澀谷', 'rest_catg': '壽司/魚類料理・海鮮料理', 'rest_rating': 4.16, 'service_rating_dinner': 4.09, 'service_rating_lunch': 4.04, 'store_nm_en': 'Kurosaki', 'store_nm_jp': 'くろ﨑', 'transport': '渋谷駅から徒歩7分、表参道駅から徒歩10分\\n\\n\\n距离澀谷 497  米'}, {'age': 34, 'cp_rating_dinner': 3.95, 'cp_rating_lunch': 3.9, 'feeling_rating_dinner': 3.98, 'feeling_rating_lunch': 4.46, 'female_prop': 23.66, 'label_code': 0, 'label_desc': '高消族', 'lat': 35.6764472, 'lng': 139.7358886, 'male_prop': 76.34, 'meal_duration': 1.0, 'prices_dinner': 7087, 'prices_lunch': 3543, 'rest_addr': '東京都港區赤坂3-21-10', 'rest_area': '赤坂', 'rest_catg': '壽司', 'rest_rating': 3.94, 'service_rating_dinner': 4.03, 'service_rating_lunch': 4.41, 'store_nm_en': 'Kizaki', 'store_nm_jp': 'きざ㐂', 'transport': '赤阪見附駅より徒歩3分\\n\\n\\n距离赤坂見附 123  米'}, {'age': 33, 'cp_rating_dinner': 4.11, 'cp_rating_lunch': 4.75, 'feeling_rating_dinner': 3.91, 'feeling_rating_lunch': 4.73, 'female_prop': 24.05, 'label_code': 0, 'label_desc': '高消族', 'lat': 35.6270047, 'lng': 139.7085856, 'male_prop': 75.95, 'meal_duration': 1.0, 'prices_dinner': 7087, 'prices_lunch': 2551, 'rest_addr': '東京都目黑區下目黑3-16-2', 'rest_area': '不動前・武藏小山・西小山', 'rest_catg': '壽司', 'rest_rating': 4.02, 'service_rating_dinner': 4.02, 'service_rating_lunch': 4.41, 'store_nm_en': 'Rammaru', 'store_nm_jp': 'らんまる', 'transport': '不動前駅から448m\\n\\n\\n距离不動前 448  米'}, {'age': 36, 'cp_rating_dinner': 3.75, 'cp_rating_lunch': 4.29, 'feeling_rating_dinner': 4.46, 'feeling_rating_lunch': 4.3, 'female_prop': 24.22, 'label_code': 0, 'label_desc': '高消族', 'lat': 35.6853727, 'lng': 139.7287997, 'male_prop': 75.78, 'meal_duration': 1.0, 'prices_dinner': 19843, 'prices_lunch': 9922, 'rest_addr': '東京都新宿區四穀1-9-4', 'rest_area': '四之谷', 'rest_catg': '天婦羅/和式餐馆 / 小菜', 'rest_rating': 4.53, 'service_rating_dinner': 4.39, 'service_rating_lunch': 4.3, 'store_nm_en': 'Kusunoki', 'store_nm_jp': 'くすのき', 'transport': '四谷駅より徒歩３分\\n\\n\\n距离四谷 224  米'}, {'age': 39, 'cp_rating_dinner': 3.96, 'cp_rating_lunch': 4.0, 'feeling_rating_dinner': 3.35, 'feeling_rating_lunch': 3.27, 'female_prop': 23.48, 'label_code': 1, 'label_desc': '平消族', 'lat': 35.6854123, 'lng': 139.7753649, 'male_prop': 76.52, 'meal_duration': 1.5, 'prices_dinner': 142, 'prices_lunch': 142, 'rest_addr': '東京都中央區日本橋室町1-11-15', 'rest_area': '日本橋・京橋', 'rest_catg': '炸蝦丼飯・炸蝦便當/便當/星鰻', 'rest_rating': 3.77, 'service_rating_dinner': 3.39, 'service_rating_lunch': 3.28, 'store_nm_en': 'nihombashitendonkanekohannosuke', 'store_nm_jp': '日本橋 天丼 金子半之助 本店', 'transport': '東京メトロ半蔵門線・銀座線「三越前」駅(A1出口)から徒歩1分\\n東京メトロ東西線「日本橋」駅から徒歩4分\\nJR総武本線「新日本橋」駅から徒歩5分\\n\\n\\n距离三越前 157  米'}, {'age': 43, 'cp_rating_dinner': 3.25, 'cp_rating_lunch': 3.17, 'feeling_rating_dinner': 4.1, 'feeling_rating_lunch': 4.23, 'female_prop': 22.36, 'label_code': 1, 'label_desc': '平消族', 'lat': 35.696381, 'lng': 139.768758, 'male_prop': 77.64, 'meal_duration': 1.0, 'prices_dinner': 2551, 'prices_lunch': 2551, 'rest_addr': '東京都韆代田區神田須田町1-15', 'rest_area': '神田・御茶之水', 'rest_catg': '壽喜燒/雞肉料理', 'rest_rating': 3.76, 'service_rating_dinner': 3.48, 'service_rating_lunch': 3.42, 'store_nm_en': 'Botan', 'store_nm_jp': 'ぼたん', 'transport': '東京メトロ丸ノ内線 淡路町駅 A3番出口 徒歩2分\\n都営新宿線 小川町駅 A3番出口 徒歩2分\\n東京メトロ銀座線 神田駅 6番出口 徒歩5分\\nＪＲ 神田駅 東口 徒歩7分\\nＪＲ 秋葉原駅 電気街口 徒歩7分\\nＪＲ 御茶ノ水駅 聖橋口 徒歩7分\\n\\n\\n距离淡路町 197  米'}, {'age': 40, 'cp_rating_dinner': 3.37, 'cp_rating_lunch': 3.41, 'feeling_rating_dinner': 3.41, 'feeling_rating_lunch': 3.52, 'female_prop': 23.77, 'label_code': 1, 'label_desc': '平消族', 'lat': 35.6963968, 'lng': 139.7677876, 'male_prop': 76.23, 'meal_duration': 1.0, 'prices_dinner': 142, 'prices_lunch': 142, 'rest_addr': '東京都韆代田區神田淡路町2-4-4', 'rest_area': '神田・御茶之水', 'rest_catg': '拉麵', 'rest_rating': 3.76, 'service_rating_dinner': 3.48, 'service_rating_lunch': 3.69, 'store_nm_en': 'menkouushio', 'store_nm_jp': '麺巧 潮', 'transport': '東京メトロ丸ノ内線「淡路町」駅(A3出口)から徒歩1分\\n都営地下鉄新宿線「小川町」駅(A3出口)から徒歩2分\\n東京メトロ千代田線「新御茶ノ水」駅から徒歩4分\\nJR中央線「御茶ノ水」駅(聖橋口)から徒歩6分\\n\\n\\n距离淡路町 141  米'}, {'age': 40, 'cp_rating_dinner': 3.54, 'cp_rating_lunch': 3.59, 'feeling_rating_dinner': 3.31, 'feeling_rating_lunch': 3.27, 'female_prop': 21.79, 'label_code': 1, 'label_desc': '平消族', 'lat': 35.7107943, 'lng': 139.784484, 'male_prop': 78.21, 'meal_duration': 1.0, 'prices_dinner': 142, 'prices_lunch': 142, 'rest_addr': '東京都檯東區元淺草2-10-13', 'rest_area': '上野・御徒町・湯島', 'rest_catg': '拉麵', 'rest_rating': 3.75, 'service_rating_dinner': 3.47, 'service_rating_lunch': 3.5, 'store_nm_en': 'ra-meninariya', 'store_nm_jp': 'らーめん 稲荷屋', 'transport': '都道463号線沿い、「松が谷1丁目」交差点近く\\n稲荷町駅から181m\\n東京メトロ銀座線・稲荷町駅２番出口より徒歩3分\\nＪＲ・日比谷線\\u3000上野駅\\u3000徒歩13分\\n\\n\\n距离稻荷町 179  米'}, {'age': 41, 'cp_rating_dinner': 3.3, 'cp_rating_lunch': 3.32, 'feeling_rating_dinner': 3.22, 'feeling_rating_lunch': 3.41, 'female_prop': 24.21, 'label_code': 1, 'label_desc': '平消族', 'lat': 35.7766473, 'lng': 139.6317337, 'male_prop': 75.79, 'meal_duration': 1.0, 'prices_dinner': 425, 'prices_lunch': 425, 'rest_addr': '東京都闆橋區成增2-17-2', 'rest_area': '赤塚・成增', 'rest_catg': '拉麵/沾麵', 'rest_rating': 3.76, 'service_rating_dinner': 3.2, 'service_rating_lunch': 3.26, 'store_nm_en': 'chuukamentokorodoutombori', 'store_nm_jp': '中華めん処 道頓堀', 'transport': '東京メトロ有楽町線・副都心線【地下鉄成増駅】徒歩２分\\n東武東上線【成増駅】徒歩４分（南口）\\n\\n\\n距离地鐵成增 60  米'}, {'age': 41, 'cp_rating_dinner': 3.2, 'cp_rating_lunch': 3.2, 'feeling_rating_dinner': 3.61, 'feeling_rating_lunch': 3.57, 'female_prop': 23.81, 'label_code': 1, 'label_desc': '平消族', 'lat': 35.7079336, 'lng': 139.7723083, 'male_prop': 76.19, 'meal_duration': 2.0, 'prices_dinner': 1276, 'prices_lunch': 709, 'rest_addr': '東京都文京區湯島3-40-7', 'rest_area': '上野・御徒町・湯島', 'rest_catg': '西式料理/牛肉飯/漢堡', 'rest_rating': 3.77, 'service_rating_dinner': 3.51, 'service_rating_lunch': 3.44, 'store_nm_en': 'Gensenyoushokusakurai', 'store_nm_jp': '厳選洋食さくらい', 'transport': '東京メトロ銀座線上野広小路駅より徒歩1分 \\n山手線御徒町駅より徒歩3分\\n\\n\\n距离上野廣小路 73  米'}, {'age': 38, 'cp_rating_dinner': 3.52, 'cp_rating_lunch': 3.09, 'feeling_rating_dinner': 3.45, 'feeling_rating_lunch': 3.07, 'female_prop': 23.93, 'label_code': 1, 'label_desc': '平消族', 'lat': 35.6707809, 'lng': 139.7692631, 'male_prop': 76.07, 'meal_duration': 1.0, 'prices_dinner': 2551, 'prices_lunch': 425, 'rest_addr': '東京都中央區銀座3-12-5', 'rest_area': '銀座', 'rest_catg': '牛排/法式小酒館/餐飲酒館', 'rest_rating': 3.85, 'service_rating_dinner': 3.37, 'service_rating_lunch': 3.07, 'store_nm_en': 'Ibaia', 'store_nm_jp': 'IBAIA', 'transport': '距离東銀座 232  米'}, {'age': 38, 'cp_rating_dinner': 3.25, 'cp_rating_lunch': 3.22, 'feeling_rating_dinner': 3.63, 'feeling_rating_lunch': 3.56, 'female_prop': 24.14, 'label_code': 1, 'label_desc': '平消族', 'lat': 35.7025257, 'lng': 139.6197278, 'male_prop': 75.86, 'meal_duration': 1.0, 'prices_dinner': 709, 'prices_lunch': 709, 'rest_addr': '東京都杉並區荻窪5-20-7', 'rest_area': '荻窪', 'rest_catg': '歐風咖哩/咖哩飯', 'rest_rating': 4.13, 'service_rating_dinner': 3.87, 'service_rating_lunch': 3.91, 'store_nm_en': 'Tomato', 'store_nm_jp': 'トマト', 'transport': '荻窪駅から徒歩５分弱。(南口から荻窪南口仲通り商店街に入り、コープとうきょうの先を左に入ってすぐ)\\n\\n\\n距离荻窪 230  米'}, {'age': 45, 'cp_rating_dinner': 3.26, 'cp_rating_lunch': 3.2, 'feeling_rating_dinner': 3.55, 'feeling_rating_lunch': 3.47, 'female_prop': 23.58, 'label_code': 1, 'label_desc': '平消族', 'lat': 35.7030253, 'lng': 139.5997564, 'male_prop': 76.42, 'meal_duration': 1.0, 'prices_dinner': 992, 'prices_lunch': 425, 'rest_addr': '東京都杉並區西荻南3-10-1', 'rest_area': '西荻窪', 'rest_catg': '蕎麥麵', 'rest_rating': 3.76, 'service_rating_dinner': 3.58, 'service_rating_lunch': 3.4, 'store_nm_en': 'nishiogikubokurama', 'store_nm_jp': '西荻窪 鞍馬', 'transport': 'ＪＲ中央線【西荻窪駅】南口\\u3000徒歩１分\\n\\n\\n距离西荻窪 86  米'}, {'age': 43, 'cp_rating_dinner': 3.24, 'cp_rating_lunch': 3.35, 'feeling_rating_dinner': 3.67, 'feeling_rating_lunch': 3.82, 'female_prop': 23.28, 'label_code': 1, 'label_desc': '平消族', 'lat': 35.6812097, 'lng': 139.7747558, 'male_prop': 76.72, 'meal_duration': 1.0, 'prices_dinner': 1984, 'prices_lunch': 425, 'rest_addr': '東京都中央區日本橋2-9-9', 'rest_area': '日本橋・京橋', 'rest_catg': '魚類料理・海鮮料理/星鰻/天婦羅', 'rest_rating': 3.77, 'service_rating_dinner': 3.39, 'service_rating_lunch': 3.56, 'store_nm_en': 'Tamai', 'store_nm_jp': '玉ゐ 本店', 'transport': 'ＪＲ東京駅八重洲口から高島屋デパート方面へ徒歩8分。東京メトロ銀座線・東西線、都営浅草線日本橋駅から徒歩3分。\\n\\n\\n距离日本橋 106  米'}]\n"
     ]
    },
    {
     "name": "stdout",
     "output_type": "stream",
     "text": [
      "=====================\n",
      " 第1天行程：\n",
      "淺草 Asakusa約2.5 公里，景點間通勤約需8 分鐘。\n",
      "---------------\n",
      "雷門 Nakamise Shopping Street (Kaminarimon)約1.8 公里，景點間通勤約需7 分鐘。\n",
      "---------------\n",
      "淺草文化觀光中心 Asakusa Culture Tourist Information Center約61 公尺，景點間通勤約需1 分鐘。\n",
      "---------------\n",
      "\n",
      "地圖連結：https://45a28610.ngrok.io/images/day1-U6862a7797fb21baaca9d110ccc061758-1574394612872map.html\n",
      "===============\n",
      "第2天行程：\n",
      "惠比壽啤酒紀念館 Museum of Yebisu Beer約15.3 公里，景點間通勤約需24 分鐘。\n",
      "---------------\n",
      " Old Asakura family House約2.8 公里，景點間通勤約需10 分鐘。\n",
      "---------------\n",
      "東京大神宮 Tokyo Daijingu Shrine約12.4 公里，景點間通勤約需23 分鐘。\n",
      "---------------\n",
      "\n",
      "地圖連結：https://45a28610.ngrok.io/images/day2-U6862a7797fb21baaca9d110ccc061758-1574394612872map.html\n",
      "===============\n",
      "第3天行程：\n",
      "摺紙會館 Origami Kaikan約4.0 公里，景點間通勤約需14 分鐘。\n",
      "---------------\n",
      "日本國會議事堂 National Diet Building約5.2 公里，景點間通勤約需16 分鐘。\n",
      "---------------\n",
      "東京馬拉松 Tokyo Marathon約8.5 公里，景點間通勤約需14 分鐘。\n",
      "---------------\n",
      "\n",
      "地圖連結：https://45a28610.ngrok.io/images/day3-U6862a7797fb21baaca9d110ccc061758-1574394612872map.html\n",
      "===============\n",
      "第4天行程：\n",
      " Tokyu Setagaya Line約23.1 公里，景點間通勤約需36 分鐘。\n",
      "---------------\n",
      "貨幣博物館 Bank of Japan Currency Museum約15.6 公里，景點間通勤約需26 分鐘。\n",
      "---------------\n",
      "上野阿美橫丁商店街 Ameyoko Shopping Street約4.0 公里，景點間通勤約需10 分鐘。\n",
      "---------------\n",
      "\n",
      "地圖連結：https://45a28610.ngrok.io/images/day4-U6862a7797fb21baaca9d110ccc061758-1574394612872map.html\n",
      "===============\n",
      "第5天行程：\n",
      "新丸之內大樓 Shin-Marunouchi Building約7.9 公里，景點間通勤約需16 分鐘。\n",
      "---------------\n",
      "消防博物館 Fire Museum約5.4 公里，景點間通勤約需15 分鐘。\n",
      "---------------\n",
      "東京都廳 Tokyo Metropolitan Government Buildings約4.5 公里，景點間通勤約需9 分鐘。\n",
      "---------------\n",
      "\n",
      "地圖連結：https://45a28610.ngrok.io/images/day5-U6862a7797fb21baaca9d110ccc061758-1574394612872map.html\n",
      "===============\n",
      "第6天行程：\n",
      "泉岳寺 Sengaku-ji Temple約13.2 公里，景點間通勤約需22 分鐘。\n",
      "---------------\n",
      "日本國立國會圖書館 National Diet Library約5.2 公里，景點間通勤約需16 分鐘。\n",
      "---------------\n",
      "神田明神神社 Kanda Shrine約4.9 公里，景點間通勤約需15 分鐘。\n",
      "---------------\n",
      "\n",
      "地圖連結：https://45a28610.ngrok.io/images/day6-U6862a7797fb21baaca9d110ccc061758-1574394612872map.html\n",
      "===============\n",
      " \n",
      "=======================\n"
     ]
    },
    {
     "name": "stderr",
     "output_type": "stream",
     "text": [
      "172.18.0.6 - - [22/Nov/2019 03:50:19] \"POST / HTTP/1.1\" 200 -\n"
     ]
    },
    {
     "name": "stdout",
     "output_type": "stream",
     "text": [
      "::tripStart:\n"
     ]
    },
    {
     "name": "stderr",
     "output_type": "stream",
     "text": [
      "172.18.0.6 - - [22/Nov/2019 03:50:20] \"POST / HTTP/1.1\" 200 -\n"
     ]
    },
    {
     "name": "stdout",
     "output_type": "stream",
     "text": [
      "Nihili Feng,U6862a7797fb21baaca9d110ccc061758\n",
      "{\"data\": \"tripStart\"}\n",
      "1574394615657,2019-11-22 03:50:15.657000\n",
      "{'age': 31, 'been2tko': 0, 'days': 7, 'budget': 10000, 'isFemale': 0, 'fbudget': 3000, 'dDate': '2019-11-30', 'rDate': '2019-12-07'}\n",
      "{'airline': 'Tigerair Taiwan', 'date_format(eta,\"%a\")': 'Sat', 'date_format(etd,\"%a\")': 'Sat', 'date_format(saEta,\"%a\")': 'Sat', 'date_format(saEtd,\"%a\")': 'Sat', 'price': 7767, 'time_format(eta,\"%T\")': '10:35:00', 'time_format(etd,\"%T\")': '06:35:00', 'time_format(saEta,\"%T\")': '21:50:00', 'time_format(saEtd,\"%T\")': '18:30:00', 'time_format(sec_to_time(dur),\"%T\")': '03:00:00', 'time_format(sec_to_time(saDur),\"%T\")': '04:20:00'}\n",
      "bk by sat\n",
      "{'age': 31, 'been2tko': 0, 'howlong': 7, 'budget': 10000, 'isFemale': 0, 'with_child': 0, 'crampedSechedule': False}\n",
      "['[{\"index\":2,\"name\":\"淺草 Asakusa\",\"rank\":\"排名第 1的台東區觀光 (共560家)\",\"address\":\"東京都台東區\",\"child\":0.0087715012,\"latitude\":35.7125736,\"longitude\":139.7802043,\"score\":241,\"chosen\":true},{\"index\":48,\"name\":\"雷門 Nakamise Shopping Street (Kaminarimon)\",\"rank\":\"排名第 18的台東區觀光 (共560家)\",\"address\":\"東京都台東區淺草1丁目3\",\"child\":0.0048539208,\"latitude\":35.7110859,\"longitude\":139.7959648,\"score\":114,\"chosen\":true},{\"index\":35,\"name\":\"淺草文化觀光中心 Asakusa Culture Tourist Information Center\",\"rank\":\"排名第 3的台東區觀光 (共560家)\",\"address\":\"東京都台東區2-18-9 Kaminarimon111-0034\",\"child\":0.0040560983,\"latitude\":35.7106489,\"longitude\":139.7965348,\"score\":106,\"chosen\":true}]', '[{\"index\":265,\"name\":\"東京迪士尼海洋樂園 Tokyo DisneySea\",\"rank\":\"排名第 1的Maihama觀光 (共5家)\",\"address\":\"千葉縣浦安Maihama1-13279-0031\",\"child\":0.75,\"latitude\":35.62675,\"longitude\":139.885095,\"score\":94,\"chosen\":true}]', '[{\"index\":226,\"name\":\" Nittere Plaza\",\"rank\":\"排名第 50的港區觀光 (共626家)\",\"address\":\"東京都港區1-6-1 HigashishinbashiNippon Television Tower105-0021\",\"child\":0.233813924,\"latitude\":35.6644037,\"longitude\":139.7599456,\"score\":70,\"chosen\":true},{\"index\":108,\"name\":\" Nissan Crossing\",\"rank\":\"排名第 6的中央區觀光 (共577家)\",\"address\":\"東京都中央區5-8-1 GInzaGinza Place 1F, 2F104-0061\",\"child\":0.0,\"latitude\":35.6708171,\"longitude\":139.7650395,\"score\":70,\"chosen\":true},{\"index\":13,\"name\":\"東京都廳 Tokyo Metropolitan Government Buildings\",\"rank\":\"排名第 4的新宿區觀光 (共419家)\",\"address\":\"東京都新宿區西新宿2-8-1160-0023\",\"child\":0.0117124956,\"latitude\":35.6895877,\"longitude\":139.6914565,\"score\":114,\"chosen\":true}]', '[{\"index\":63,\"name\":\"東京國立近代美術館 The National Museum of Modern Art\",\"rank\":\"排名第 8的千代田區觀光 (共446家)\",\"address\":\"東京都千代田區北之丸公園3-1102-0091\",\"child\":0.0331610791,\"latitude\":35.6919267,\"longitude\":139.7505761,\"score\":70,\"chosen\":true},{\"index\":236,\"name\":\"東京國際會展中心 Tokyo Big Sight\",\"rank\":\"排名第 16的江東區觀光 (共343家)\",\"address\":\"東京都江東區有明3-21-1135-0063\",\"child\":0.0,\"latitude\":35.6421522,\"longitude\":139.8130282,\"score\":114,\"chosen\":true},{\"index\":109,\"name\":\" Kinuta Park\",\"rank\":\"排名第 2的世田谷區觀光 (共235家)\",\"address\":\"東京都世田谷區Kinuta Koen157-0075\",\"child\":0.1657865691,\"latitude\":35.6401495,\"longitude\":139.612061,\"score\":114,\"chosen\":true}]', '[{\"index\":54,\"name\":\"東京都美術館 Tokyo Metropolitan Art Museum\",\"rank\":\"排名第 16的台東區觀光 (共560家)\",\"address\":\"東京都台東區8-36 Uenokoen110-0007\",\"child\":0.0205605849,\"latitude\":35.7125736,\"longitude\":139.7802043,\"score\":70,\"chosen\":true},{\"index\":6,\"name\":\"東京國立博物館 Tokyo National Museum\",\"rank\":\"排名第 5的台東區觀光 (共560家)\",\"address\":\"東京都台東區上野公園13-9110-0007\",\"child\":0.0509912925,\"latitude\":35.719252,\"longitude\":139.7760709,\"score\":114,\"chosen\":true},{\"index\":106,\"name\":\"上野東照宮 Toshogu Shrine\",\"rank\":\"排名第 17的台東區觀光 (共560家)\",\"address\":\"東京都台東區上野公園9-88\",\"child\":0.0,\"latitude\":35.7153714,\"longitude\":139.7706346,\"score\":183,\"chosen\":true}]', '[{\"index\":192,\"name\":\"隅田川花火大會 Sumida River Fireworks\",\"rank\":\"排名第 12的墨田區觀光 (共264家)\",\"address\":\"東京都墨田區\",\"child\":0.0,\"latitude\":35.7107479,\"longitude\":139.8016393,\"score\":70,\"chosen\":true},{\"index\":260,\"name\":\"板橋花火節 Itabashi Fireworks\",\"rank\":\"排名第 1的板橋區觀光 (共81家)\",\"address\":\"東京都板橋區4 Funado174-0041\",\"child\":0.0,\"latitude\":35.7512308,\"longitude\":139.7185838,\"score\":70,\"chosen\":true},{\"index\":193,\"name\":\"大江戶古董市場 - 東京國際論壇 Oedo Antique Market - Tokyo International Forum\",\"rank\":\"排名第 55的千代田區觀光 (共446家)\",\"address\":\"東京都千代田區3-5-1 MarunouchiTokyo International Forum100-0005\",\"child\":0.0199828611,\"latitude\":35.6767429,\"longitude\":139.7637532,\"score\":84,\"chosen\":true}]', '[{\"index\":42,\"name\":\"東京海賊王塔 TOKYO ONE PIECE TOWER\",\"rank\":\"排名第 16的港區觀光 (共626家)\",\"address\":\"東京都港區4-2-8 ShibakoenTokyo Tower Foot Town105-0011\",\"child\":0.2333411224,\"latitude\":35.658595,\"longitude\":139.745442,\"score\":70,\"chosen\":true},{\"index\":24,\"name\":\"國技館 Ryogoku Kokugikan\",\"rank\":\"排名第 2的墨田區觀光 (共264家)\",\"address\":\"東京都墨田區橫綱1-3-28130-0015\",\"child\":0.0488325107,\"latitude\":35.6961682,\"longitude\":139.7936475,\"score\":114,\"chosen\":true},{\"index\":138,\"name\":\"東京大神宮 Tokyo Daijingu Shrine\",\"rank\":\"排名第 18的千代田區觀光 (共446家)\",\"address\":\"東京都千代田區富士見2-4-1102-0071\",\"child\":0.0,\"latitude\":35.6999583,\"longitude\":139.7462026,\"score\":114,\"chosen\":true}]']\n",
      "{'age': 31, 'been2tko': 0, 'days': 7, 'budget': 10000, 'isFemale': 0, 'hotel budget': 1000}\n",
      "{'CP': 2.760942761, 'pre': 2.0, '交通1': '新越谷站 - 走路 2 分鐘', '交通2': '見沼代親水公園站 - 走路 4 分鐘', '交通3': '東京, 日本 (HND-羽田機場) - 車程 26 分鐘', '交通便利性': '2', '價格': 1485.0, '地址': '4-14-22 Nishihokima, Adachi-ku, 東京, 東京', '廚房': 0.0, '星等': 3.0, '經度': 139.801534, '網址': 'https://www.expedia.com.tw/Tokyo-Hotels-BUSINESS-HOTEL-La-Firenze.h27535496.Hotel-Information?chkin=2019%2F10%2F4&chkout=2019%2F10%2F5&regionId=179900&destination=%E6%9D%B1%E4%BA%AC+%28%E5%8F%8A%E9%84%B0%E8%BF%91%E5%9C%B0%E5%8D%80%29%2C+%E6%97%A5%E6%9C%AC&swpToggleOn=true&rm1=a1&x_pwa=1&sort=recommended&top_dp=1485&top_cur=TWD&rfrr=HSR&pwa_ts=1570019332227', '緯度': 35.807457, '評價': 4.1, '鄰近景點1': '國立科學博物館 - 開車 10 分鐘', '鄰近景點2': '東京國立博物館 - 開車 10 分鐘', '鄰近景點3': '淺草神社 - 開車 10 分鐘', '鄰近景點4': '淺草寺雷門 - 開車 10 分鐘', '鄰近景點5': '上野公園 - 開車 10 分鐘', '飯店名稱': '佛羅倫斯商務飯店'}\n",
      "{'age': 31, 'been2tko': 0, 'days': 7, 'totalBudget': 10000, 'gender': 0, 'oneBudget': 300}\n",
      "[{'age': 39, 'cp_rating_dinner': 3.67, 'cp_rating_lunch': 4.0, 'feeling_rating_dinner': 3.92, 'feeling_rating_lunch': 4.23, 'female_prop': 24.36, 'label_code': 1, 'label_desc': '平消族', 'lat': 35.6685571, 'lng': 139.7668952, 'male_prop': 75.64, 'meal_duration': 1.0, 'prices_dinner': 7087, 'prices_lunch': 1559, 'rest_addr': '東京都中央區銀座5-14-14', 'rest_area': '銀座', 'rest_catg': '壽司/和式餐馆 / 小菜/魚類料理・海鮮料理', 'rest_rating': 3.76, 'service_rating_dinner': 4.03, 'service_rating_lunch': 4.15, 'store_nm_en': 'Sushiginzaonodera', 'store_nm_jp': '鮨 銀座 おのでら', 'transport': '歌舞伎座正面の向こう側の路地を入って左側にございます。\\n\\n\\n距离東銀座 87  米'}, {'age': 40, 'cp_rating_dinner': 4.1, 'cp_rating_lunch': 4.08, 'feeling_rating_dinner': 3.69, 'feeling_rating_lunch': 3.9, 'female_prop': 23.69, 'label_code': 1, 'label_desc': '平消族', 'lat': 35.6664231, 'lng': 139.7573577, 'male_prop': 76.31, 'meal_duration': 1.0, 'prices_dinner': 4961, 'prices_lunch': 3543, 'rest_addr': '東京都港區新橋2-16-1', 'rest_area': '新橋・汐留', 'rest_catg': '壽司', 'rest_rating': 3.93, 'service_rating_dinner': 3.81, 'service_rating_lunch': 4.17, 'store_nm_en': 'shimbashitsuruhachi', 'store_nm_jp': '新橋鶴八', 'transport': 'JR、地下鉄銀座線、都営地下鉄浅草線新橋駅から徒歩1~5分\\n\\n\\n距离新橋 70  米'}, {'age': 46, 'cp_rating_dinner': 3.5, 'cp_rating_lunch': 3.85, 'feeling_rating_dinner': 3.64, 'feeling_rating_lunch': 3.69, 'female_prop': 23.6, 'label_code': 1, 'label_desc': '平消族', 'lat': 35.7129511, 'lng': 139.7976804, 'male_prop': 76.4, 'meal_duration': 1.0, 'prices_dinner': 3543, 'prices_lunch': 3543, 'rest_addr': '東京都檯東區淺草2-1-16', 'rest_area': '淺草', 'rest_catg': '壽司/魚類料理・海鮮料理/日式料理（其他）', 'rest_rating': 3.78, 'service_rating_dinner': 3.69, 'service_rating_lunch': 3.72, 'store_nm_en': 'Bentenyamamiyakozushi', 'store_nm_jp': '弁天山美家古寿司', 'transport': '東京メトロ銀座線\\n７番出口より徒歩３分\\n（その他多数アクセス方法あり）\\n\\n\\n距离淺草 263  米'}, {'age': 39, 'cp_rating_dinner': 3.96, 'cp_rating_lunch': 4.0, 'feeling_rating_dinner': 3.35, 'feeling_rating_lunch': 3.27, 'female_prop': 23.48, 'label_code': 1, 'label_desc': '平消族', 'lat': 35.6854123, 'lng': 139.7753649, 'male_prop': 76.52, 'meal_duration': 1.5, 'prices_dinner': 142, 'prices_lunch': 142, 'rest_addr': '東京都中央區日本橋室町1-11-15', 'rest_area': '日本橋・京橋', 'rest_catg': '炸蝦丼飯・炸蝦便當/便當/星鰻', 'rest_rating': 3.77, 'service_rating_dinner': 3.39, 'service_rating_lunch': 3.28, 'store_nm_en': 'nihombashitendonkanekohannosuke', 'store_nm_jp': '日本橋 天丼 金子半之助 本店', 'transport': '東京メトロ半蔵門線・銀座線「三越前」駅(A1出口)から徒歩1分\\n東京メトロ東西線「日本橋」駅から徒歩4分\\nJR総武本線「新日本橋」駅から徒歩5分\\n\\n\\n距离三越前 157  米'}, {'age': 43, 'cp_rating_dinner': 3.24, 'cp_rating_lunch': 3.35, 'feeling_rating_dinner': 3.67, 'feeling_rating_lunch': 3.82, 'female_prop': 23.28, 'label_code': 1, 'label_desc': '平消族', 'lat': 35.6812097, 'lng': 139.7747558, 'male_prop': 76.72, 'meal_duration': 1.0, 'prices_dinner': 1984, 'prices_lunch': 425, 'rest_addr': '東京都中央區日本橋2-9-9', 'rest_area': '日本橋・京橋', 'rest_catg': '魚類料理・海鮮料理/星鰻/天婦羅', 'rest_rating': 3.77, 'service_rating_dinner': 3.39, 'service_rating_lunch': 3.56, 'store_nm_en': 'Tamai', 'store_nm_jp': '玉ゐ 本店', 'transport': 'ＪＲ東京駅八重洲口から高島屋デパート方面へ徒歩8分。東京メトロ銀座線・東西線、都営浅草線日本橋駅から徒歩3分。\\n\\n\\n距离日本橋 106  米'}, {'age': 40, 'cp_rating_dinner': 3.59, 'cp_rating_lunch': 3.97, 'feeling_rating_dinner': 3.68, 'feeling_rating_lunch': 3.91, 'female_prop': 23.92, 'label_code': 1, 'label_desc': '平消族', 'lat': 35.6696498, 'lng': 139.7616456, 'male_prop': 76.08, 'meal_duration': 1.0, 'prices_dinner': 7087, 'prices_lunch': 425, 'rest_addr': '東京都中央區銀座7-6-16', 'rest_area': '銀座', 'rest_catg': '鐵板燒/壽喜燒/牛排', 'rest_rating': 3.77, 'service_rating_dinner': 3.58, 'service_rating_lunch': 3.99, 'store_nm_en': 'Okahan', 'store_nm_jp': '岡半 本店', 'transport': '東京メトロ銀座線・丸の内線・日比谷線\\u3000銀座駅\\u3000B6出口\\u3000徒歩6分\\n東京メトロ銀座線・都営地下鉄浅草線\\u3000新橋駅\\u30003番出口\\u3000徒歩7分\\nJR東海道線\\u3000新橋駅\\u3000銀座口\\u3000徒歩8分\\n\\n\\n距离銀座 334  米'}, {'age': 39, 'cp_rating_dinner': 4.1, 'cp_rating_lunch': 4.19, 'feeling_rating_dinner': 3.34, 'feeling_rating_lunch': 3.29, 'female_prop': 23.74, 'label_code': 1, 'label_desc': '平消族', 'lat': 35.6480734, 'lng': 139.7416154, 'male_prop': 76.26, 'meal_duration': 1.0, 'prices_dinner': 142, 'prices_lunch': 142, 'rest_addr': '東京都港區三田2-16-4', 'rest_area': '田町・三田', 'rest_catg': '拉麵', 'rest_rating': 3.77, 'service_rating_dinner': 3.28, 'service_rating_lunch': 3.18, 'store_nm_en': 'Ramenjirou', 'store_nm_jp': 'ラーメン二郎 三田本店', 'transport': '都営地下鉄 浅草線・三田線「三田駅」A3出口より、徒歩8分\\nJR山手線・京浜東北線「田町駅」三田口（西口）より、徒歩10分\\n\\n\\n距离三田 541  米'}, {'age': 40, 'cp_rating_dinner': 3.14, 'cp_rating_lunch': 3.13, 'feeling_rating_dinner': 3.49, 'feeling_rating_lunch': 3.43, 'female_prop': 23.8, 'label_code': 1, 'label_desc': '平消族', 'lat': 35.6829352, 'lng': 139.7394101, 'male_prop': 76.2, 'meal_duration': 1.0, 'prices_dinner': 425, 'prices_lunch': 425, 'rest_addr': '東京都韆代田區平河町1-3-10', 'rest_area': '永田町・麴町・半藏門', 'rest_catg': '拉麵', 'rest_rating': 3.78, 'service_rating_dinner': 3.48, 'service_rating_lunch': 3.33, 'store_nm_en': 'soranoiro', 'store_nm_jp': 'SORANOIRO 本店', 'transport': '東京メトロ有楽町線麹町駅1番出口\\n1番出口を出て直進すぐの信号を右折。\\n松屋とつじ田の角を左折し、次の信号を渡った右手。\\n東京メトロ半蔵門線・半蔵門駅1番出口から徒歩４分\\n\\n\\n距离麴町 314  米'}, {'age': 40, 'cp_rating_dinner': 3.05, 'cp_rating_lunch': 2.99, 'feeling_rating_dinner': 3.58, 'feeling_rating_lunch': 3.67, 'female_prop': 23.57, 'label_code': 1, 'label_desc': '平消族', 'lat': 35.7310346, 'lng': 139.7607955, 'male_prop': 76.43, 'meal_duration': 1.0, 'prices_dinner': 425, 'prices_lunch': 425, 'rest_addr': '東京都文京區韆馱木4-21-3', 'rest_area': '日暮里', 'rest_catg': '拉麵/中式麵類（其他）', 'rest_rating': 3.8, 'service_rating_dinner': 3.88, 'service_rating_lunch': 3.87, 'store_nm_en': 'Kamunabi', 'store_nm_jp': '神名備', 'transport': 'JR山手線「西日暮里」駅から徒歩10分\\n東京メトロ千代田線「千駄木」駅(2番出口)から徒歩10分\\n\\n\\n距离西日暮里 556  米'}, {'age': 45, 'cp_rating_dinner': 3.8, 'cp_rating_lunch': 3.63, 'feeling_rating_dinner': 3.82, 'feeling_rating_lunch': 3.82, 'female_prop': 23.81, 'label_code': 0, 'label_desc': '高消族', 'lat': 35.7248752, 'lng': 139.78377, 'male_prop': 76.19, 'meal_duration': 1.0, 'prices_dinner': 7087, 'prices_lunch': 4961, 'rest_addr': '東京都檯東區根岸4-3-2', 'rest_area': '鶯谷・入谷', 'rest_catg': '牛排/懷石 / 會席料理/洋酒吧', 'rest_rating': 3.83, 'service_rating_dinner': 4.05, 'service_rating_lunch': 4.72, 'store_nm_en': 'SADAYA', 'store_nm_jp': '定谷', 'transport': '鶯谷駅より徒歩8分\\n入谷駅より徒歩5分\\n\\n\\n距离入谷 458  米'}, {'age': 41, 'cp_rating_dinner': 3.2, 'cp_rating_lunch': 3.2, 'feeling_rating_dinner': 3.61, 'feeling_rating_lunch': 3.57, 'female_prop': 23.81, 'label_code': 1, 'label_desc': '平消族', 'lat': 35.7079336, 'lng': 139.7723083, 'male_prop': 76.19, 'meal_duration': 2.0, 'prices_dinner': 1276, 'prices_lunch': 709, 'rest_addr': '東京都文京區湯島3-40-7', 'rest_area': '上野・御徒町・湯島', 'rest_catg': '西式料理/牛肉飯/漢堡', 'rest_rating': 3.77, 'service_rating_dinner': 3.51, 'service_rating_lunch': 3.44, 'store_nm_en': 'Gensenyoushokusakurai', 'store_nm_jp': '厳選洋食さくらい', 'transport': '東京メトロ銀座線上野広小路駅より徒歩1分 \\n山手線御徒町駅より徒歩3分\\n\\n\\n距离上野廣小路 73  米'}, {'age': 37, 'cp_rating_dinner': 3.58, 'cp_rating_lunch': 4.16, 'feeling_rating_dinner': 3.3, 'feeling_rating_lunch': 3.61, 'female_prop': 23.86, 'label_code': 1, 'label_desc': '平消族', 'lat': 35.7064461, 'lng': 139.6181886, 'male_prop': 76.14, 'meal_duration': 1.0, 'prices_dinner': 425, 'prices_lunch': 425, 'rest_addr': '東京都杉並區天沼3-8-2', 'rest_area': '荻窪', 'rest_catg': '咖哩飯', 'rest_rating': 3.78, 'service_rating_dinner': 3.22, 'service_rating_lunch': 3.73, 'store_nm_en': 'Yoshidakare', 'store_nm_jp': '吉田カレー ', 'transport': '距离荻窪 276  米'}, {'age': 44, 'cp_rating_dinner': 2.97, 'cp_rating_lunch': 3.01, 'feeling_rating_dinner': 3.91, 'feeling_rating_lunch': 4.13, 'female_prop': 23.63, 'label_code': 1, 'label_desc': '平消族', 'lat': 35.6971459, 'lng': 139.7674443, 'male_prop': 76.37, 'meal_duration': 1.0, 'prices_dinner': 992, 'prices_lunch': 425, 'rest_addr': '東京都韆代田區神田淡路町2-10', 'rest_area': '神田・御茶之水', 'rest_catg': '蕎麥麵', 'rest_rating': 3.78, 'service_rating_dinner': 3.48, 'service_rating_lunch': 3.57, 'store_nm_en': 'Kandayabusoba', 'store_nm_jp': 'かんだやぶそば', 'transport': 'ＪＲ神田駅あるいは秋葉原より5分\\nメトロ銀座線神田駅または丸ノ内線淡路町駅より3分\\n\\n\\n距离淡路町 233  米'}, {'age': 43, 'cp_rating_dinner': 3.24, 'cp_rating_lunch': 3.35, 'feeling_rating_dinner': 3.67, 'feeling_rating_lunch': 3.82, 'female_prop': 23.28, 'label_code': 1, 'label_desc': '平消族', 'lat': 35.6812097, 'lng': 139.7747558, 'male_prop': 76.72, 'meal_duration': 1.0, 'prices_dinner': 1984, 'prices_lunch': 425, 'rest_addr': '東京都中央區日本橋2-9-9', 'rest_area': '日本橋・京橋', 'rest_catg': '魚類料理・海鮮料理/星鰻/天婦羅', 'rest_rating': 3.77, 'service_rating_dinner': 3.39, 'service_rating_lunch': 3.56, 'store_nm_en': 'Tamai', 'store_nm_jp': '玉ゐ 本店', 'transport': 'ＪＲ東京駅八重洲口から高島屋デパート方面へ徒歩8分。東京メトロ銀座線・東西線、都営浅草線日本橋駅から徒歩3分。\\n\\n\\n距离日本橋 106  米'}]\n"
     ]
    },
    {
     "name": "stdout",
     "output_type": "stream",
     "text": [
      "=====================\n",
      " 第1天行程：\n",
      "淺草 Asakusa約11.2 公里，景點間通勤約需28 分鐘。\n",
      "---------------\n",
      "雷門 Nakamise Shopping Street (Kaminarimon)約1.8 公里，景點間通勤約需7 分鐘。\n",
      "---------------\n",
      "淺草文化觀光中心 Asakusa Culture Tourist Information Center約61 公尺，景點間通勤約需1 分鐘。\n",
      "---------------\n",
      "\n",
      "地圖連結：https://45a28610.ngrok.io/images/day1-U6862a7797fb21baaca9d110ccc061758-1574394615656map.html\n",
      "===============\n",
      "第2天行程：\n",
      "東京迪士尼海洋樂園 Tokyo DisneySea約27.8 公里，景點間通勤約需38 分鐘。\n",
      "---------------\n",
      "\n",
      "地圖連結：https://45a28610.ngrok.io/images/day2-U6862a7797fb21baaca9d110ccc061758-1574394615656map.html\n",
      "===============\n",
      "第3天行程：\n",
      "東京都廳 Tokyo Metropolitan Government Buildings約23.5 公里，景點間通勤約需38 分鐘。\n",
      "---------------\n",
      " Nittere Plaza約9.4 公里，景點間通勤約需16 分鐘。\n",
      "---------------\n",
      " Nissan Crossing約1.3 公里，景點間通勤約需5 分鐘。\n",
      "---------------\n",
      "\n",
      "地圖連結：https://45a28610.ngrok.io/images/day3-U6862a7797fb21baaca9d110ccc061758-1574394615656map.html\n",
      "===============\n",
      "第4天行程：\n",
      "東京國立近代美術館 The National Museum of Modern Art約23.7 公里，景點間通勤約需31 分鐘。\n",
      "---------------\n",
      " Kinuta Park約19.0 公里，景點間通勤約需28 分鐘。\n",
      "---------------\n",
      "東京國際會展中心 Tokyo Big Sight約25.0 公里，景點間通勤約需35 分鐘。\n",
      "---------------\n",
      "\n",
      "地圖連結：https://45a28610.ngrok.io/images/day4-U6862a7797fb21baaca9d110ccc061758-1574394615656map.html\n",
      "===============\n",
      "第5天行程：\n",
      "東京都美術館 Tokyo Metropolitan Art Museum約11.2 公里，景點間通勤約需28 分鐘。\n",
      "---------------\n",
      "上野東照宮 Toshogu Shrine約1.6 公里，景點間通勤約需6 分鐘。\n",
      "---------------\n",
      "東京國立博物館 Tokyo National Museum約1.3 公里，景點間通勤約需5 分鐘。\n",
      "---------------\n",
      "\n",
      "地圖連結：https://45a28610.ngrok.io/images/day5-U6862a7797fb21baaca9d110ccc061758-1574394615656map.html\n",
      "===============\n",
      "第6天行程：\n",
      "板橋花火節 Itabashi Fireworks約14.6 公里，景點間通勤約需30 分鐘。\n",
      "---------------\n",
      "大江戶古董市場 - 東京國際論壇 Oedo Antique Market - Tokyo International Forum約13.9 公里，景點間通勤約需19 分鐘。\n",
      "---------------\n",
      "隅田川花火大會 Sumida River Fireworks約7.3 公里，景點間通勤約需14 分鐘。\n",
      "---------------\n",
      "\n",
      "地圖連結：https://45a28610.ngrok.io/images/day6-U6862a7797fb21baaca9d110ccc061758-1574394615656map.html\n",
      "===============\n",
      "第7天行程：\n",
      "國技館 Ryogoku Kokugikan約17.8 公里，景點間通勤約需33 分鐘。\n",
      "---------------\n",
      "東京海賊王塔 TOKYO ONE PIECE TOWER約7.9 公里，景點間通勤約需22 分鐘。\n",
      "---------------\n",
      "東京大神宮 Tokyo Daijingu Shrine約8.2 公里，景點間通勤約需15 分鐘。\n",
      "---------------\n",
      "\n",
      "地圖連結：https://45a28610.ngrok.io/images/day7-U6862a7797fb21baaca9d110ccc061758-1574394615656map.html\n",
      "===============\n",
      " \n",
      "=======================\n"
     ]
    },
    {
     "name": "stderr",
     "output_type": "stream",
     "text": [
      "172.18.0.6 - - [22/Nov/2019 03:50:26] \"POST / HTTP/1.1\" 200 -\n"
     ]
    },
    {
     "name": "stdout",
     "output_type": "stream",
     "text": [
      "type ==> <class 'linebot.exceptions.LineBotApiError'>\n",
      "value ==> LineBotApiError: status_code=400, error_response={\"details\": [{\"message\": \"Length must be between 0 and 2000\", \"property\": \"messages[1].text\"}], \"message\": \"The request body has 1 error(s)\"}\n",
      "traceback ==> file name: <ipython-input-25-a23c8ff16dbb>\n",
      "traceback ==> line no: 156\n",
      "traceback ==> function name: handle_message\n",
      "::tripStart:\n",
      "{'age': 28, 'been2tko': 3, 'days': 1, 'totalBudget': 100000, 'gender': 1, 'oneBudget': 200}\n",
      "2 [{'age': 38, 'cp_rating_dinner': 3.94, 'cp_rating_lunch': 3.79, 'feeling_rating_dinner': 4.16, 'feeling_rating_lunch': 2.73, 'female_prop': 24.05, 'label_code': 0, 'label_desc': '高消族', 'lat': 35.6559209, 'lng': 139.7428184, 'male_prop': 75.95, 'meal_duration': 1.0, 'prices_dinner': 7087, 'prices_lunch': 4961, 'rest_addr': '東京都港區東痲佈1-29-15', 'rest_area': '濱松町・芝公園', 'rest_catg': '壽司', 'rest_rating': 4.04, 'service_rating_dinner': 4.07, 'service_rating_lunch': 2.73, 'store_nm_en': 'Sushisugaya', 'store_nm_jp': '鮨 すが弥', 'transport': '都営大江戸線\\u3000赤羽橋駅（中之橋出口）より徒歩2分\\n東京メトロ\\u3000麻布十番駅（３番出口）より徒歩7分\\n都営三田線\\u3000芝公園駅（A4出口）より徒歩10分\\n\\n\\n距离赤羽橋 132  米'}, {'age': 42, 'cp_rating_dinner': 3.08, 'cp_rating_lunch': 2.9, 'feeling_rating_dinner': 3.34, 'feeling_rating_lunch': 3.34, 'female_prop': 23.23, 'label_code': 1, 'label_desc': '平消族', 'lat': 35.6817353, 'lng': 139.6275168, 'male_prop': 76.77, 'meal_duration': 1.0, 'prices_dinner': 425, 'prices_lunch': 425, 'rest_addr': '東京都杉並區浜田山3-31-4', 'rest_area': '永福町～濱田山', 'rest_catg': '拉麵/沾麵', 'rest_rating': 3.77, 'service_rating_dinner': 3.38, 'service_rating_lunch': 3.41, 'store_nm_en': 'Tantantei', 'store_nm_jp': 'たんたん亭', 'transport': '井の頭線\\u3000浜田山駅\\u3000徒歩３０秒\\n\\n\\n距离濱田山 25  米'}]\n"
     ]
    },
    {
     "name": "stderr",
     "output_type": "stream",
     "text": [
      "172.18.0.6 - - [22/Nov/2019 03:50:27] \"POST / HTTP/1.1\" 200 -\n"
     ]
    },
    {
     "name": "stdout",
     "output_type": "stream",
     "text": [
      "::restaurant:\n"
     ]
    },
    {
     "name": "stderr",
     "output_type": "stream",
     "text": [
      "172.18.0.6 - - [22/Nov/2019 03:50:27] \"POST / HTTP/1.1\" 200 -\n"
     ]
    },
    {
     "name": "stdout",
     "output_type": "stream",
     "text": [
      "₣x Vicky,U14770bc146b1d3631d0e51c6d9af7dda\n",
      "{\"data\": \"restaurant\"}\n",
      "1574394618725,2019-11-22 03:50:18.725000\n",
      "{'age': 31, 'been2tko': 0, 'days': 7, 'budget': 10000, 'isFemale': 0, 'fbudget': 3000, 'dDate': '2019-11-30', 'rDate': '2019-12-07'}\n",
      "{'airline': 'Tigerair Taiwan', 'date_format(eta,\"%a\")': 'Sat', 'date_format(etd,\"%a\")': 'Sat', 'date_format(saEta,\"%a\")': 'Sat', 'date_format(saEtd,\"%a\")': 'Sat', 'price': 7767, 'time_format(eta,\"%T\")': '10:35:00', 'time_format(etd,\"%T\")': '06:35:00', 'time_format(saEta,\"%T\")': '21:50:00', 'time_format(saEtd,\"%T\")': '18:30:00', 'time_format(sec_to_time(dur),\"%T\")': '03:00:00', 'time_format(sec_to_time(saDur),\"%T\")': '04:20:00'}\n",
      "bk by sat\n",
      "{'age': 31, 'been2tko': 0, 'howlong': 7, 'budget': 10000, 'isFemale': 0, 'with_child': 0, 'crampedSechedule': False}\n",
      "['[{\"index\":2,\"name\":\"淺草 Asakusa\",\"rank\":\"排名第 1的台東區觀光 (共560家)\",\"address\":\"東京都台東區\",\"child\":0.0087715012,\"latitude\":35.7125736,\"longitude\":139.7802043,\"score\":241,\"chosen\":true},{\"index\":48,\"name\":\"雷門 Nakamise Shopping Street (Kaminarimon)\",\"rank\":\"排名第 18的台東區觀光 (共560家)\",\"address\":\"東京都台東區淺草1丁目3\",\"child\":0.0048539208,\"latitude\":35.7110859,\"longitude\":139.7959648,\"score\":114,\"chosen\":true},{\"index\":35,\"name\":\"淺草文化觀光中心 Asakusa Culture Tourist Information Center\",\"rank\":\"排名第 3的台東區觀光 (共560家)\",\"address\":\"東京都台東區2-18-9 Kaminarimon111-0034\",\"child\":0.0040560983,\"latitude\":35.7106489,\"longitude\":139.7965348,\"score\":106,\"chosen\":true}]', '[{\"index\":264,\"name\":\"東京迪士尼樂園 Tokyo Disneyland\",\"rank\":\"排名第 2的Maihama觀光 (共5家)\",\"address\":\"千葉縣浦安Maihama1-1279-8511\",\"child\":1.0,\"latitude\":35.632906,\"longitude\":139.880391,\"score\":94,\"chosen\":true}]', '[{\"index\":172,\"name\":\"春花園 BONSAI 美術館 Shunkaen BONSAI Museum\",\"rank\":\"排名第 5的江戶川區觀光 (共191家)\",\"address\":\"東京都江戶川區1-29-16 Nihori132-0001\",\"child\":0.3118335945,\"latitude\":35.702613,\"longitude\":139.888161,\"score\":70,\"chosen\":true},{\"index\":228,\"name\":\" Suga Shrine\",\"rank\":\"排名第 37的新宿區觀光 (共419家)\",\"address\":\"東京都新宿區5 Sugacho160-0018\",\"child\":0.0,\"latitude\":35.6938253,\"longitude\":139.7033559,\"score\":114,\"chosen\":true},{\"index\":38,\"name\":\"上野阿美橫丁商店街 Ameyoko Shopping Street\",\"rank\":\"排名第 2的Ueno觀光 (共7家)\",\"address\":\"東京都台東區UenoUeno\",\"child\":0.012643587,\"latitude\":35.7087296,\"longitude\":139.7741538,\"score\":400,\"chosen\":true}]', '[{\"index\":233,\"name\":\"精工博物館 The Seiko Museum\",\"rank\":\"排名第 11的墨田區觀光 (共264家)\",\"address\":\"東京都墨田區3-9-7 Higashi Mukojima131-0032\",\"child\":0.1458601027,\"latitude\":35.7267061,\"longitude\":139.8132052,\"score\":70,\"chosen\":true},{\"index\":206,\"name\":\" Tower Hall Funabori\",\"rank\":\"排名第 7的江戶川區觀光 (共191家)\",\"address\":\"東京都江戶川區4-1-1 Funabori134-0091\",\"child\":0.0,\"latitude\":35.7067011,\"longitude\":139.8681899,\"score\":114,\"chosen\":true},{\"index\":117,\"name\":\"神保町二手書街 Kanda Jimbocho Bookstore Area\",\"rank\":\"排名第 10的千代田區觀光 (共446家)\",\"address\":\"東京都千代田區Kanda Jinbocho101-0003\",\"child\":0.0,\"latitude\":35.6954378,\"longitude\":139.7675549,\"score\":114,\"chosen\":true}]', '[{\"index\":118,\"name\":\"朝倉雕塑館 ASAKURA Museum of Sculpture, Taito\",\"rank\":\"排名第 14的台東區觀光 (共560家)\",\"address\":\"東京都台東區谷中7-18-10110-0001\",\"child\":0.0,\"latitude\":35.7269979,\"longitude\":139.7685625,\"score\":70,\"chosen\":true},{\"index\":220,\"name\":\" Yamamototei\",\"rank\":\"排名第 6的葛飾區觀光 (共139家)\",\"address\":\"東京都葛飾區7-19-32 Shibamata125-0052\",\"child\":0.0,\"latitude\":35.758035,\"longitude\":139.880048,\"score\":114,\"chosen\":true},{\"index\":185,\"name\":\"尼古拉東正教教堂 Holy Resurrection Cathedral\",\"rank\":\"排名第 26的千代田區觀光 (共446家)\",\"address\":\"東京都千代田區神田駿河台4-1101-0062\",\"child\":0.0,\"latitude\":35.6986726,\"longitude\":139.7655274,\"score\":114,\"chosen\":true}]', '[{\"index\":225,\"name\":\"東京馬拉松 Tokyo Marathon\",\"rank\":\"排名第 12的新宿區觀光 (共419家)\",\"address\":\"東京都新宿區2-8-1 NishishinjukuTokyo Metropolitan Government Building163-8001\",\"child\":0.0542821379,\"latitude\":35.6898531,\"longitude\":139.6917321,\"score\":70,\"chosen\":true},{\"index\":186,\"name\":\"紅磚廣場 Marunouchi Brick Square\",\"rank\":\"排名第 16的千代田區觀光 (共446家)\",\"address\":\"東京都千代田區2-6-1 Marunouchi100-0005\",\"child\":0.0,\"latitude\":35.695411,\"longitude\":139.7730113,\"score\":84,\"chosen\":true},{\"index\":95,\"name\":\"東京椿山莊大酒店 Hotel Chinzanso Tokyo Garden\",\"rank\":\"排名第 1的文京區觀光 (共297家)\",\"address\":\"東京都文京區關口2-10-8112-8667\",\"child\":0.0,\"latitude\":35.7123558,\"longitude\":139.7252878,\"score\":114,\"chosen\":true}]', '[{\"index\":223,\"name\":\" Billboard Live音樂餐廳 Billboard Live Tokyo\",\"rank\":\"排名第 4的Akasaka觀光 (共18家)\",\"address\":\"東京都港區Akasaka9-7-44F107-0052\",\"child\":0.0,\"latitude\":35.6578091,\"longitude\":139.717307,\"score\":70,\"chosen\":true},{\"index\":27,\"name\":\"六義園 Rikugien Garden\",\"rank\":\"排名第 4的文京區觀光 (共297家)\",\"address\":\"東京都文京區本駒込6-16-3113-0021\",\"child\":0.0,\"latitude\":35.7327015,\"longitude\":139.7466817,\"score\":114,\"chosen\":true},{\"index\":96,\"name\":\"水元公園 Mizumoto Park\",\"rank\":\"排名第 1的葛飾區觀光 (共139家)\",\"address\":\"東京都葛飾區水元公園125-0034\",\"child\":0.0,\"latitude\":35.787198,\"longitude\":139.8698408,\"score\":114,\"chosen\":true}]']\n",
      "{'age': 31, 'been2tko': 0, 'days': 7, 'budget': 10000, 'isFemale': 0, 'hotel budget': 1000}\n",
      "{'CP': 3.21872714, 'pre': 2.0, '交通1': '春日站 - 走路 2 分鐘', '交通2': '水道橋站 - 走路 12 分鐘', '交通3': '東京, 日本 (HND-羽田機場) - 車程 18 分鐘', '交通便利性': '2', '價格': 1367.0, '地址': '4-23-14, Hongo, Bunkyo, 東京, 東京', '廚房': 0.0, '星等': 3.0, '經度': 139.753231, '網址': 'https://www.expedia.com.tw/Tokyo-Hotels-Dormy-Inn-Korakuen-Hot-Springs.h24042563.Hotel-Information?chkin=2019%2F10%2F4&chkout=2019%2F10%2F5&regionId=179900&destination=%E6%9D%B1%E4%BA%AC+%28%E5%8F%8A%E9%84%B0%E8%BF%91%E5%9C%B0%E5%8D%80%29%2C+%E6%97%A5%E6%9C%AC&swpToggleOn=true&rm1=a1&x_pwa=1&sort=recommended&top_dp=1367&top_cur=TWD&rfrr=HSR&pwa_ts=1570019075315', '緯度': 35.710062, '評價': 4.4, '鄰近景點1': 'LaQua 東京巨蛋後樂園 - 步行 6 分鐘', '鄰近景點2': '東京巨蛋 - 步行 9 分鐘', '鄰近景點3': '小石川後樂園庭園 - 步行 17 分鐘', '鄰近景點4': '靖國神社 - 開車 3 分鐘', '鄰近景點5': '上野公園 - 開車 3 分鐘', '飯店名稱': '後樂園溫泉多米飯店'}\n",
      "{'age': 31, 'been2tko': 0, 'days': 7, 'totalBudget': 10000, 'gender': 0, 'oneBudget': 300}\n",
      "[{'age': 36, 'cp_rating_dinner': 3.95, 'cp_rating_lunch': 4.44, 'feeling_rating_dinner': 3.97, 'feeling_rating_lunch': 3.71, 'female_prop': 23.7, 'label_code': 1, 'label_desc': '平消族', 'lat': 35.6616402, 'lng': 139.7276928, 'male_prop': 76.3, 'meal_duration': 1.0, 'prices_dinner': 7087, 'prices_lunch': 425, 'rest_addr': '東京都港區西痲佈1-2-3', 'rest_area': '六本木・乃木坂・西麻布', 'rest_catg': '壽司', 'rest_rating': 3.94, 'service_rating_dinner': 3.95, 'service_rating_lunch': 3.71, 'store_nm_en': 'Murase', 'store_nm_jp': '鮓 村瀬', 'transport': 'メトロ六本木駅2番出口から徒歩5分\\n\\n\\n距离六本木 345  米'}, {'age': 36, 'cp_rating_dinner': 3.63, 'cp_rating_lunch': 4.39, 'feeling_rating_dinner': 4.27, 'feeling_rating_lunch': 4.86, 'female_prop': 24.18, 'label_code': 0, 'label_desc': '高消族', 'lat': 35.6549808, 'lng': 139.7347034, 'male_prop': 75.82, 'meal_duration': 1.0, 'prices_dinner': 12756, 'prices_lunch': 425, 'rest_addr': '東京都港區痲佈十番2-9-5', 'rest_area': '麻布十番', 'rest_catg': '壽司', 'rest_rating': 4.4, 'service_rating_dinner': 4.29, 'service_rating_lunch': 4.86, 'store_nm_en': 'Sushifujinaga', 'store_nm_jp': '鮓 ふじなが', 'transport': '距离麻布十番 206  米'}, {'age': 38, 'cp_rating_dinner': 3.95, 'cp_rating_lunch': 3.95, 'feeling_rating_dinner': 4.04, 'feeling_rating_lunch': 3.92, 'female_prop': 24.23, 'label_code': 0, 'label_desc': '高消族', 'lat': 35.6161111, 'lng': 139.6243322, 'male_prop': 75.77, 'meal_duration': 1.0, 'prices_dinner': 7087, 'prices_lunch': 7087, 'rest_addr': '東京都世田穀區玉川3-21-8', 'rest_area': '二子玉川', 'rest_catg': '壽司', 'rest_rating': 4.58, 'service_rating_dinner': 3.98, 'service_rating_lunch': 3.82, 'store_nm_en': 'Kimura', 'store_nm_jp': 'すし 喜邑', 'transport': '二子玉川駅徒歩7分\\n\\n\\n距离二子玉川 536  米'}, {'age': 43, 'cp_rating_dinner': 3.37, 'cp_rating_lunch': 3.54, 'feeling_rating_dinner': 3.89, 'feeling_rating_lunch': 4.05, 'female_prop': 23.5, 'label_code': 1, 'label_desc': '平消族', 'lat': 35.7251106, 'lng': 139.7970368, 'male_prop': 76.5, 'meal_duration': 1.5, 'prices_dinner': 709, 'prices_lunch': 709, 'rest_addr': '東京都檯東區日本隄1-9-2', 'rest_area': '町屋・南千住', 'rest_catg': '炸蝦丼飯・炸蝦便當/天婦羅', 'rest_rating': 3.77, 'service_rating_dinner': 3.33, 'service_rating_lunch': 3.64, 'store_nm_en': 'Dotenoiseya', 'store_nm_jp': '土手の伊勢屋', 'transport': '地下鉄日比谷線：三ノ輪駅から徒歩10分\\nJR常磐線：南千住駅から徒歩15分\\n吉原大門交差点そば\\n\\n\\n距离三之輪 722  米'}, {'age': 43, 'cp_rating_dinner': 3.24, 'cp_rating_lunch': 3.35, 'feeling_rating_dinner': 3.67, 'feeling_rating_lunch': 3.82, 'female_prop': 23.28, 'label_code': 1, 'label_desc': '平消族', 'lat': 35.6812097, 'lng': 139.7747558, 'male_prop': 76.72, 'meal_duration': 1.0, 'prices_dinner': 1984, 'prices_lunch': 425, 'rest_addr': '東京都中央區日本橋2-9-9', 'rest_area': '日本橋・京橋', 'rest_catg': '魚類料理・海鮮料理/星鰻/天婦羅', 'rest_rating': 3.77, 'service_rating_dinner': 3.39, 'service_rating_lunch': 3.56, 'store_nm_en': 'Tamai', 'store_nm_jp': '玉ゐ 本店', 'transport': 'ＪＲ東京駅八重洲口から高島屋デパート方面へ徒歩8分。東京メトロ銀座線・東西線、都営浅草線日本橋駅から徒歩3分。\\n\\n\\n距离日本橋 106  米'}, {'age': 42, 'cp_rating_dinner': 3.56, 'cp_rating_lunch': 2.9, 'feeling_rating_dinner': 4.02, 'feeling_rating_lunch': 4.6, 'female_prop': 23.79, 'label_code': 1, 'label_desc': '平消族', 'lat': 35.6857974, 'lng': 139.7830806, 'male_prop': 76.21, 'meal_duration': 1.0, 'prices_dinner': 4961, 'prices_lunch': 3543, 'rest_addr': '東京都中央區日本橋人形町2-5-1', 'rest_area': '人形町・小傳馬町', 'rest_catg': '壽喜燒/和式餐馆 / 小菜', 'rest_rating': 3.82, 'service_rating_dinner': 3.88, 'service_rating_lunch': 4.4, 'store_nm_en': 'sukiyakikappouhiyama', 'store_nm_jp': 'すき焼割烹 日山', 'transport': '東京メトロ日比谷線・都営浅草線「人形町」駅より徒歩2分。\\n東京メトロ半蔵門線「水天宮」駅より徒歩5分\\n都営新宿線「浜町」駅より徒歩7分\\n\\n\\n距离人形町 66  米'}, {'age': 44, 'cp_rating_dinner': 3.34, 'cp_rating_lunch': 3.16, 'feeling_rating_dinner': 3.31, 'feeling_rating_lunch': 3.12, 'female_prop': 23.76, 'label_code': 1, 'label_desc': '平消族', 'lat': 35.7047118, 'lng': 139.7265409, 'male_prop': 76.24, 'meal_duration': 1.0, 'prices_dinner': 142, 'prices_lunch': 425, 'rest_addr': '東京都新宿區弁天町20', 'rest_area': '早稻田周邊', 'rest_catg': '拉麵/沾麵', 'rest_rating': 3.86, 'service_rating_dinner': 3.22, 'service_rating_lunch': 3.24, 'store_nm_en': 'Jikaseichuukasobatoshioka', 'store_nm_jp': '自家製中華そば としおか', 'transport': '東京メトロ東西線「早稲田」駅(１番出口)より、徒歩6分\\n\\n\\n距离早稻田 507  米'}, {'age': 41, 'cp_rating_dinner': 3.54, 'cp_rating_lunch': 3.05, 'feeling_rating_dinner': 3.54, 'feeling_rating_lunch': 3.29, 'female_prop': 23.81, 'label_code': 1, 'label_desc': '平消族', 'lat': 35.7067541, 'lng': 139.7616291, 'male_prop': 76.19, 'meal_duration': 1.0, 'prices_dinner': 142, 'prices_lunch': 142, 'rest_addr': '東京都文京區本鄉3-30-7', 'rest_area': '本鄉・東大周邊', 'rest_catg': '拉麵', 'rest_rating': 3.87, 'service_rating_dinner': 3.5, 'service_rating_lunch': 3.27, 'store_nm_en': 'Chuukasobanishino', 'store_nm_jp': '中華蕎麦にし乃', 'transport': '都営地下鉄大江戸線\\u3000本郷３丁目駅\\u3000徒歩２分\\n東京メトロ丸ノ内線\\u3000本郷３丁目駅\\u3000徒歩５分\\n\\n\\n距离本鄉三丁目 136  米'}, {'age': 36, 'cp_rating_dinner': 3.43, 'cp_rating_lunch': 3.85, 'feeling_rating_dinner': 3.43, 'feeling_rating_lunch': 3.68, 'female_prop': 24.45, 'label_code': 1, 'label_desc': '平消族', 'lat': 35.7111908, 'lng': 139.7218964, 'male_prop': 75.55, 'meal_duration': 1.0, 'prices_dinner': 425, 'prices_lunch': 425, 'rest_addr': '東京都新宿區西早稻田1-10-4', 'rest_area': '早稻田周邊', 'rest_catg': '拉麵', 'rest_rating': 3.76, 'service_rating_dinner': 3.47, 'service_rating_lunch': 3.91, 'store_nm_en': 'Ramengantetsu', 'store_nm_jp': 'ラーメン巌哲', 'transport': '都電荒川線「早稲田」電停から徒歩2分\\n東京メトロ東西線「早稲田」駅(3a出口)から徒歩10分\\n\\n\\n距离早稻田 294  米'}, {'age': 39, 'cp_rating_dinner': 3.52, 'cp_rating_lunch': 3.03, 'feeling_rating_dinner': 3.45, 'feeling_rating_lunch': 3.69, 'female_prop': 23.86, 'label_code': 1, 'label_desc': '平消族', 'lat': 35.6707809, 'lng': 139.7692631, 'male_prop': 76.14, 'meal_duration': 1.0, 'prices_dinner': 2551, 'prices_lunch': 425, 'rest_addr': '東京都中央區銀座3-12-5', 'rest_area': '銀座', 'rest_catg': '牛排/法式小酒館/餐飲酒館', 'rest_rating': 3.77, 'service_rating_dinner': 3.37, 'service_rating_lunch': 4.32, 'store_nm_en': 'Ibaia', 'store_nm_jp': 'IBAIA', 'transport': '距离東銀座 232  米'}, {'age': 39, 'cp_rating_dinner': 3.71, 'cp_rating_lunch': 4.45, 'feeling_rating_dinner': 4.13, 'feeling_rating_lunch': 4.88, 'female_prop': 24.18, 'label_code': 0, 'label_desc': '高消族', 'lat': 35.6800689, 'lng': 139.7734028, 'male_prop': 75.82, 'meal_duration': 1.0, 'prices_dinner': 9922, 'prices_lunch': 9922, 'rest_addr': '東京都中央區日本橋3-8-13', 'rest_area': '日本橋・京橋', 'rest_catg': '牛排/法式/魚類料理・海鮮料理', 'rest_rating': 4.41, 'service_rating_dinner': 4.29, 'service_rating_lunch': 4.88, 'store_nm_en': 'Vesta', 'store_nm_jp': 'ウェスタ', 'transport': '東京メトロ銀座線「日本橋」駅 B1出口より徒歩 2 分\\n\\n\\n距离日本橋 260  米'}, {'age': 43, 'cp_rating_dinner': 3.36, 'cp_rating_lunch': 3.54, 'feeling_rating_dinner': 3.37, 'feeling_rating_lunch': 3.49, 'female_prop': 23.83, 'label_code': 1, 'label_desc': '平消族', 'lat': 35.6954922, 'lng': 139.7684364, 'male_prop': 76.17, 'meal_duration': 1.0, 'prices_dinner': 142, 'prices_lunch': 709, 'rest_addr': '東京都韆代田區神田須田町1-8-4', 'rest_area': '神田・御茶之水', 'rest_catg': '炸豬排/炸豬丼飯・炸豬排便當', 'rest_rating': 3.83, 'service_rating_dinner': 3.37, 'service_rating_lunch': 3.48, 'store_nm_en': 'Tonkatsuyamaichi', 'store_nm_jp': 'とんかつ やまいち', 'transport': '東京メトロ丸ノ内線【淡路町駅】徒歩１分（Ａ１地上口）\\n都営地下鉄新宿線【小川町駅】徒歩２分\\n東京メトロ銀座線【神田駅】徒歩４分\\nＪＲ中央線・山手線・京浜東北線【神田駅】徒歩７分\\n\\n\\n距离淡路町 103  米'}, {'age': 43, 'cp_rating_dinner': 3.82, 'cp_rating_lunch': 4.07, 'feeling_rating_dinner': 4.13, 'feeling_rating_lunch': 4.3, 'female_prop': 24.21, 'label_code': 0, 'label_desc': '高消族', 'lat': 35.6583941, 'lng': 139.723053, 'male_prop': 75.79, 'meal_duration': 1.5, 'prices_dinner': 15591, 'prices_lunch': 425, 'rest_addr': '東京都港區西痲佈2-15-1', 'rest_area': '表參道', 'rest_catg': '懷石 / 會席料理/和式餐馆 / 小菜/蕎麥麵', 'rest_rating': 4.49, 'service_rating_dinner': 4.2, 'service_rating_lunch': 4.42, 'store_nm_en': 'Goryukubo', 'store_nm_jp': '豪龍久保', 'transport': '地下鉄銀座線表参道駅 A4番出口 徒歩10分 \\n地下鉄半蔵門線表参道駅 A4番出口 徒歩10分 \\n地下鉄千代田線表参道駅 A4番出口 徒歩10分 \\n地下鉄千代田線乃木坂駅 5番出口 徒歩10分\\n\\n\\n距离乃木坂 738  米'}, {'age': 43, 'cp_rating_dinner': 3.24, 'cp_rating_lunch': 3.35, 'feeling_rating_dinner': 3.67, 'feeling_rating_lunch': 3.82, 'female_prop': 23.28, 'label_code': 1, 'label_desc': '平消族', 'lat': 35.6812097, 'lng': 139.7747558, 'male_prop': 76.72, 'meal_duration': 1.0, 'prices_dinner': 1984, 'prices_lunch': 425, 'rest_addr': '東京都中央區日本橋2-9-9', 'rest_area': '日本橋・京橋', 'rest_catg': '魚類料理・海鮮料理/星鰻/天婦羅', 'rest_rating': 3.77, 'service_rating_dinner': 3.39, 'service_rating_lunch': 3.56, 'store_nm_en': 'Tamai', 'store_nm_jp': '玉ゐ 本店', 'transport': 'ＪＲ東京駅八重洲口から高島屋デパート方面へ徒歩8分。東京メトロ銀座線・東西線、都営浅草線日本橋駅から徒歩3分。\\n\\n\\n距离日本橋 106  米'}]\n"
     ]
    },
    {
     "name": "stdout",
     "output_type": "stream",
     "text": [
      "=====================\n",
      " 第1天行程：\n",
      "淺草 Asakusa約3.1 公里，景點間通勤約需12 分鐘。\n",
      "---------------\n",
      "雷門 Nakamise Shopping Street (Kaminarimon)約1.8 公里，景點間通勤約需7 分鐘。\n",
      "---------------\n",
      "淺草文化觀光中心 Asakusa Culture Tourist Information Center約61 公尺，景點間通勤約需1 分鐘。\n",
      "---------------\n",
      "\n",
      "地圖連結：https://45a28610.ngrok.io/images/day1-U6862a7797fb21baaca9d110ccc061758-1574394622902map.html\n",
      "===============\n",
      "第2天行程：\n",
      "東京迪士尼樂園 Tokyo Disneyland約19.3 公里，景點間通勤約需28 分鐘。\n",
      "---------------\n",
      "\n",
      "地圖連結：https://45a28610.ngrok.io/images/day2-U6862a7797fb21baaca9d110ccc061758-1574394622902map.html\n",
      "===============\n",
      "第3天行程：\n",
      "上野阿美橫丁商店街 Ameyoko Shopping Street約2.3 公里，景點間通勤約需9 分鐘。\n",
      "---------------\n",
      "春花園 BONSAI 美術館 Shunkaen BONSAI Museum約12.8 公里，景點間通勤約需26 分鐘。\n",
      "---------------\n",
      " Suga Shrine約24.5 公里，景點間通勤約需33 分鐘。\n",
      "---------------\n",
      "\n",
      "地圖連結：https://45a28610.ngrok.io/images/day3-U6862a7797fb21baaca9d110ccc061758-1574394622902map.html\n",
      "===============\n",
      "第4天行程：\n",
      "神保町二手書街 Kanda Jimbocho Bookstore Area約2.6 公里，景點間通勤約需9 分鐘。\n",
      "---------------\n",
      "精工博物館 The Seiko Museum約10.0 公里，景點間通勤約需14 分鐘。\n",
      "---------------\n",
      " Tower Hall Funabori約9.3 公里，景點間通勤約需19 分鐘。\n",
      "---------------\n",
      "\n",
      "地圖連結：https://45a28610.ngrok.io/images/day4-U6862a7797fb21baaca9d110ccc061758-1574394622902map.html\n",
      "===============\n",
      "第5天行程：\n",
      "尼古拉東正教教堂 Holy Resurrection Cathedral約2.4 公里，景點間通勤約需9 分鐘。\n",
      "---------------\n",
      " Yamamototei約20.3 公里，景點間通勤約需34 分鐘。\n",
      "---------------\n",
      "朝倉雕塑館 ASAKURA Museum of Sculpture, Taito約18.4 公里，景點間通勤約需39 分鐘。\n",
      "---------------\n",
      "\n",
      "地圖連結：https://45a28610.ngrok.io/images/day5-U6862a7797fb21baaca9d110ccc061758-1574394622902map.html\n",
      "===============\n",
      "第6天行程：\n",
      "東京椿山莊大酒店 Hotel Chinzanso Tokyo Garden約3.3 公里，景點間通勤約需11 分鐘。\n",
      "---------------\n",
      "東京馬拉松 Tokyo Marathon約6.3 公里，景點間通勤約需23 分鐘。\n",
      "---------------\n",
      "紅磚廣場 Marunouchi Brick Square約11.1 公里，景點間通勤約需19 分鐘。\n",
      "---------------\n",
      "\n",
      "地圖連結：https://45a28610.ngrok.io/images/day6-U6862a7797fb21baaca9d110ccc061758-1574394622902map.html\n",
      "===============\n",
      "第7天行程：\n",
      " Billboard Live音樂餐廳 Billboard Live Tokyo約9.2 公里，景點間通勤約需18 分鐘。\n",
      "---------------\n",
      "水元公園 Mizumoto Park約27.4 公里，景點間通勤約需40 分鐘。\n",
      "---------------\n",
      "六義園 Rikugien Garden約17.7 公里，景點間通勤約需38 分鐘。\n",
      "---------------\n",
      "\n",
      "地圖連結：https://45a28610.ngrok.io/images/day7-U6862a7797fb21baaca9d110ccc061758-1574394622902map.html\n",
      "===============\n",
      " \n",
      "=======================\n"
     ]
    },
    {
     "name": "stderr",
     "output_type": "stream",
     "text": [
      "172.18.0.6 - - [22/Nov/2019 03:50:33] \"POST / HTTP/1.1\" 200 -\n"
     ]
    },
    {
     "name": "stdout",
     "output_type": "stream",
     "text": [
      "type ==> <class 'linebot.exceptions.LineBotApiError'>\n",
      "value ==> LineBotApiError: status_code=400, error_response={\"details\": [{\"message\": \"Length must be between 0 and 2000\", \"property\": \"messages[1].text\"}], \"message\": \"The request body has 1 error(s)\"}\n",
      "traceback ==> file name: <ipython-input-25-a23c8ff16dbb>\n",
      "traceback ==> line no: 156\n",
      "traceback ==> function name: handle_message\n",
      "::tripStart:\n",
      "Nihili Feng,U6862a7797fb21baaca9d110ccc061758\n",
      "{\"data\": \"tripStart\"}\n",
      "1574394622904,2019-11-22 03:50:22.904000\n",
      "Nihili Feng,U6862a7797fb21baaca9d110ccc061758\n",
      "{\"data\": \"tripStart\"}\n",
      "1574394623404,2019-11-22 03:50:23.404000\n",
      "{'age': 31, 'been2tko': 0, 'days': 7, 'budget': 10000, 'isFemale': 0, 'fbudget': 3000, 'dDate': '2019-11-30', 'rDate': '2019-12-07'}\n",
      "{'airline': 'Tigerair Taiwan', 'date_format(eta,\"%a\")': 'Sat', 'date_format(etd,\"%a\")': 'Sat', 'date_format(saEta,\"%a\")': 'Sat', 'date_format(saEtd,\"%a\")': 'Sat', 'price': 7767, 'time_format(eta,\"%T\")': '10:35:00', 'time_format(etd,\"%T\")': '06:35:00', 'time_format(saEta,\"%T\")': '21:50:00', 'time_format(saEtd,\"%T\")': '18:30:00', 'time_format(sec_to_time(dur),\"%T\")': '03:00:00', 'time_format(sec_to_time(saDur),\"%T\")': '04:20:00'}\n",
      "bk by sat\n",
      "{'age': 31, 'been2tko': 0, 'howlong': 7, 'budget': 10000, 'isFemale': 0, 'with_child': 0, 'crampedSechedule': False}\n",
      "['[{\"index\":2,\"name\":\"淺草 Asakusa\",\"rank\":\"排名第 1的台東區觀光 (共560家)\",\"address\":\"東京都台東區\",\"child\":0.0087715012,\"latitude\":35.7125736,\"longitude\":139.7802043,\"score\":241,\"chosen\":true},{\"index\":48,\"name\":\"雷門 Nakamise Shopping Street (Kaminarimon)\",\"rank\":\"排名第 18的台東區觀光 (共560家)\",\"address\":\"東京都台東區淺草1丁目3\",\"child\":0.0048539208,\"latitude\":35.7110859,\"longitude\":139.7959648,\"score\":114,\"chosen\":true},{\"index\":35,\"name\":\"淺草文化觀光中心 Asakusa Culture Tourist Information Center\",\"rank\":\"排名第 3的台東區觀光 (共560家)\",\"address\":\"東京都台東區2-18-9 Kaminarimon111-0034\",\"child\":0.0040560983,\"latitude\":35.7106489,\"longitude\":139.7965348,\"score\":106,\"chosen\":true}]', '[{\"index\":63,\"name\":\"東京國立近代美術館 The National Museum of Modern Art\",\"rank\":\"排名第 8的千代田區觀光 (共446家)\",\"address\":\"東京都千代田區北之丸公園3-1102-0091\",\"child\":0.0331610791,\"latitude\":35.6919267,\"longitude\":139.7505761,\"score\":70,\"chosen\":true},{\"index\":76,\"name\":\"原宿竹下通 Takeshita Street\",\"rank\":\"排名第 3的Jingumae觀光 (共24家)\",\"address\":\"東京都澀谷區Jingumae神宮前一丁目150-0001\",\"child\":0.2093790616,\"latitude\":35.671872,\"longitude\":139.7051782,\"score\":293,\"chosen\":true},{\"index\":201,\"name\":\"井草八幡宮 Igusa Hachimangu Folklore Collection\",\"rank\":\"排名第 4的杉並區觀光 (共215家)\",\"address\":\"東京都杉並區善福寺1-33167-0041\",\"child\":0.0,\"latitude\":35.7127546,\"longitude\":139.5974053,\"score\":114,\"chosen\":true}]', '[{\"index\":187,\"name\":\"月島燒 文字燒街 Tsukishima Monjya Street\",\"rank\":\"排名第 25的中央區觀光 (共577家)\",\"address\":\"東京都中央區Tsukishima\",\"child\":0.0773768629,\"latitude\":35.6635905,\"longitude\":139.7818227,\"score\":70,\"chosen\":true},{\"index\":127,\"name\":\"日本武道館 Nippon Budokan\",\"rank\":\"排名第 25的千代田區觀光 (共446家)\",\"address\":\"東京都千代田區北之丸公園2-3102-0091\",\"child\":0.0,\"latitude\":35.6919267,\"longitude\":139.7505761,\"score\":114,\"chosen\":true},{\"index\":51,\"name\":\" Diver City Tokyo購物廣場 Diver City Tokyo Plaza\",\"rank\":\"排名第 8的江東區觀光 (共343家)\",\"address\":\"東京都江東區1-1-10 Aomi135-0064\",\"child\":0.1594495359,\"latitude\":35.6253599,\"longitude\":139.7759888,\"score\":84,\"chosen\":true}]', '[{\"index\":205,\"name\":\"靖國神社御靈祭 Mitama Matsuri\",\"rank\":\"排名第 57的千代田區觀光 (共446家)\",\"address\":\"東京都千代田區3-1-1 Kudan Kita102-8246\",\"child\":0.0,\"latitude\":35.694136,\"longitude\":139.743849,\"score\":70,\"chosen\":true},{\"index\":179,\"name\":\"東鄉神社 Togo Shrine\",\"rank\":\"排名第 18的澀谷區觀光 (共279家)\",\"address\":\"東京都澀谷區神宮前1-5-3150-0001\",\"child\":0.0178339272,\"latitude\":35.6713961,\"longitude\":139.7061356,\"score\":114,\"chosen\":true},{\"index\":80,\"name\":\"世界貿易中心大廈眺望台 Observatory, Seaside Top\",\"rank\":\"排名第 5的港區觀光 (共626家)\",\"address\":\"東京都港區濱松町2-4-1World Trade Center Building105-0013\",\"child\":0.0,\"latitude\":35.656162,\"longitude\":139.756559,\"score\":114,\"chosen\":true}]', '[{\"index\":99,\"name\":\"東京杜莎夫人蠟像館 Madame Tussauds Tokyo\",\"rank\":\"排名第 3的Daiba觀光 (共13家)\",\"address\":\"東京都港區Daiba1-6-1 DaibaDecks Tokyo Beach Island Mall 3F135-0091\",\"child\":0.294644919,\"latitude\":35.6290775,\"longitude\":139.7759233,\"score\":70,\"chosen\":true},{\"index\":42,\"name\":\"東京海賊王塔 TOKYO ONE PIECE TOWER\",\"rank\":\"排名第 16的港區觀光 (共626家)\",\"address\":\"東京都港區4-2-8 ShibakoenTokyo Tower Foot Town105-0011\",\"child\":0.2333411224,\"latitude\":35.658595,\"longitude\":139.745442,\"score\":70,\"chosen\":true},{\"index\":52,\"name\":\"葛西臨海水族園 Tokyo Sea Life Park\",\"rank\":\"排名第 2的江戶川區觀光 (共191家)\",\"address\":\"東京都江戶川區臨海町6-2-3134-0086\",\"child\":0.2949781858,\"latitude\":35.6423888,\"longitude\":139.8602808,\"score\":114,\"chosen\":true}]', '[{\"index\":189,\"name\":\"三社祭 Sanja Matsuri\",\"rank\":\"排名第 19的台東區觀光 (共560家)\",\"address\":\"東京都台東區2-3-1 AsakusaAsakusa Shrine111-0032\",\"child\":0.0864315783,\"latitude\":35.7147651,\"longitude\":139.7966553,\"score\":70,\"chosen\":true},{\"index\":225,\"name\":\"東京馬拉松 Tokyo Marathon\",\"rank\":\"排名第 12的新宿區觀光 (共419家)\",\"address\":\"東京都新宿區2-8-1 NishishinjukuTokyo Metropolitan Government Building163-8001\",\"child\":0.0542821379,\"latitude\":35.6898531,\"longitude\":139.6917321,\"score\":70,\"chosen\":true},{\"index\":192,\"name\":\"隅田川花火大會 Sumida River Fireworks\",\"rank\":\"排名第 12的墨田區觀光 (共264家)\",\"address\":\"東京都墨田區\",\"child\":0.0,\"latitude\":35.7107479,\"longitude\":139.8016393,\"score\":70,\"chosen\":true}]']\n",
      "{'age': 31, 'been2tko': 0, 'days': 7, 'budget': 10000, 'isFemale': 0, 'hotel budget': 1000}\n",
      "{'CP': 2.933333333, 'pre': 2.0, '交通1': '西葛西站 - 走路 3 分鐘', '交通2': '葛西臨海公園站 - 走路 5 分鐘', '交通3': '東京, 日本 (NRT-成田國際機場) - 車程 41 分鐘', '交通便利性': '3', '價格': 1500.0, '地址': '6-15-24 Nishikasai, Edogawa-ku, 東京, 東京', '廚房': 0.0, '星等': 3.0, '經度': 139.860193, '網址': 'https://www.expedia.com.tw/Tokyo-Hotels-APA-Hotel-TKP-Tokyo-Nishikasai.h19840240.Hotel-Information?chkin=2019%2F10%2F4&chkout=2019%2F10%2F5&regionId=179900&destination=%E6%9D%B1%E4%BA%AC+%28%E5%8F%8A%E9%84%B0%E8%BF%91%E5%9C%B0%E5%8D%80%29%2C+%E6%97%A5%E6%9C%AC&swpToggleOn=true&rm1=a1&x_pwa=1&sort=recommended&top_dp=1500&top_cur=TWD&rfrr=HSR&pwa_ts=1570019160171', '緯度': 35.664367, '評價': 4.4, '鄰近景點1': '東京都葛西臨海水族園 - 開車 5 分鐘', '鄰近景點2': '東京迪士尼樂園? - 開車 8 分鐘', '鄰近景點3': '江戶東京博物館 - 開車 8 分鐘', '鄰近景點4': '豐洲市場 - 開車 9 分鐘', '鄰近景點5': '東京晴空塔 - 開車 24 分鐘', '飯店名稱': 'TKP 東京西葛西 APA 飯店'}\n",
      "{'age': 31, 'been2tko': 0, 'days': 7, 'totalBudget': 10000, 'gender': 0, 'oneBudget': 300}\n",
      "[{'age': 42, 'cp_rating_dinner': 4.26, 'cp_rating_lunch': 3.77, 'feeling_rating_dinner': 4.52, 'feeling_rating_lunch': 4.18, 'female_prop': 24.24, 'label_code': 0, 'label_desc': '高消族', 'lat': 35.6609872, 'lng': 139.7260606, 'male_prop': 75.76, 'meal_duration': 1.0, 'prices_dinner': 9922, 'prices_lunch': 425, 'rest_addr': '東京都港區東痲佈1-7-9', 'rest_area': '濱松町・芝公園', 'rest_catg': '壽司', 'rest_rating': 4.66, 'service_rating_dinner': 4.52, 'service_rating_lunch': 4.18, 'store_nm_en': 'Amamoto', 'store_nm_jp': '東麻布 天本', 'transport': '都営大江戸線 赤羽橋駅 徒歩4分 \\n東京メトロ日比谷線 神谷町駅 徒歩10分 \\n\\n\\n距离赤羽橋 258  米'}, {'age': 36, 'cp_rating_dinner': 3.98, 'cp_rating_lunch': 3.33, 'feeling_rating_dinner': 3.96, 'feeling_rating_lunch': 4.17, 'female_prop': 23.67, 'label_code': 1, 'label_desc': '平消族', 'lat': 35.6860577, 'lng': 139.6925323, 'male_prop': 76.33, 'meal_duration': 1.0, 'prices_dinner': 7087, 'prices_lunch': 425, 'rest_addr': '東京都新宿區西新宿3-4-1', 'rest_area': '新宿', 'rest_catg': '壽司', 'rest_rating': 3.81, 'service_rating_dinner': 3.92, 'service_rating_lunch': 4.17, 'store_nm_en': 'Sushiiwase', 'store_nm_jp': 'すし岩瀬', 'transport': '距离都廳前 507  米'}, {'age': 39, 'cp_rating_dinner': 3.96, 'cp_rating_lunch': 4.39, 'feeling_rating_dinner': 4.22, 'feeling_rating_lunch': 4.43, 'female_prop': 24.23, 'label_code': 0, 'label_desc': '高消族', 'lat': 35.6680341, 'lng': 139.7627025, 'male_prop': 75.77, 'meal_duration': 1.0, 'prices_dinner': 7087, 'prices_lunch': 3543, 'rest_addr': '東京都中央區銀座8-10-2', 'rest_area': '銀座', 'rest_catg': '壽司', 'rest_rating': 4.59, 'service_rating_dinner': 4.19, 'service_rating_lunch': 4.43, 'store_nm_en': 'Arai', 'store_nm_jp': '鮨 あらい', 'transport': '東京メトロ「銀座駅」A5出口から徒歩5～6分\\n\\n\\n距离新橋 443  米'}, {'age': 40, 'cp_rating_dinner': 3.97, 'cp_rating_lunch': 4.23, 'feeling_rating_dinner': 4.0, 'feeling_rating_lunch': 4.17, 'female_prop': 24.11, 'label_code': 0, 'label_desc': '高消族', 'lat': 35.6862925, 'lng': 139.7845504, 'male_prop': 75.89, 'meal_duration': 1.0, 'prices_dinner': 3543, 'prices_lunch': 3543, 'rest_addr': '東京都中央區日本橋人形町2-22-11', 'rest_area': '人形町・小傳馬町', 'rest_catg': '天婦羅/蕎麥麵', 'rest_rating': 4.08, 'service_rating_dinner': 4.05, 'service_rating_lunch': 4.26, 'store_nm_en': 'nihombashisonoji', 'store_nm_jp': '日本橋 蕎ノ字', 'transport': '東京メトロ日比谷線【人形町駅】徒歩３分\\n都営地下鉄浅草線【人形町駅】徒歩４分\\n東京メトロ半蔵門線【水天宮前駅】徒歩５分\\n都営地下鉄新宿線【浜町駅】徒歩６分\\n\\n\\n距离人形町 187  米'}, {'age': 42, 'cp_rating_dinner': 3.51, 'cp_rating_lunch': 3.7, 'feeling_rating_dinner': 3.76, 'feeling_rating_lunch': 3.92, 'female_prop': 23.73, 'label_code': 1, 'label_desc': '平消族', 'lat': 35.6712108, 'lng': 139.7632032, 'male_prop': 76.27, 'meal_duration': 1.0, 'prices_dinner': 7087, 'prices_lunch': 2551, 'rest_addr': '東京都中央區銀座5-5-13', 'rest_area': '銀座', 'rest_catg': '天婦羅', 'rest_rating': 3.87, 'service_rating_dinner': 3.65, 'service_rating_lunch': 4.0, 'store_nm_en': 'Kondo', 'store_nm_jp': 'てんぷら 近藤', 'transport': '東京メトロ\\u3000銀座駅\\u3000徒歩３分（B5出口）\\n\\n\\n距离銀座 115  米'}, {'age': 40, 'cp_rating_dinner': 3.52, 'cp_rating_lunch': 3.7, 'feeling_rating_dinner': 3.75, 'feeling_rating_lunch': 3.74, 'female_prop': 24.31, 'label_code': 1, 'label_desc': '平消族', 'lat': 35.7159573, 'lng': 139.7936649, 'male_prop': 75.69, 'meal_duration': 1.0, 'prices_dinner': 1559, 'prices_lunch': 1276, 'rest_addr': '東京都檯東區淺草2-17-10', 'rest_area': '淺草', 'rest_catg': '壽喜燒/鍋類（其他）', 'rest_rating': 3.76, 'service_rating_dinner': 3.33, 'service_rating_lunch': 3.43, 'store_nm_en': 'Yonekyuuhonten', 'store_nm_jp': '米久本店', 'transport': 'つくばエクスプレス\\u3000浅草駅\\u3000徒歩３分\\n東京メトロ銀座線、東武伊勢崎線\\u3000浅草駅\\u3000徒歩９分\\n東京メトロ銀座線\\u3000田原町駅\\u3000徒歩９分\\n\\n\\n距离淺草 234  米'}, {'age': 40, 'cp_rating_dinner': 3.62, 'cp_rating_lunch': 3.41, 'feeling_rating_dinner': 3.69, 'feeling_rating_lunch': 3.57, 'female_prop': 23.7, 'label_code': 1, 'label_desc': '平消族', 'lat': 35.6945468, 'lng': 139.7172078, 'male_prop': 76.3, 'meal_duration': 1.0, 'prices_dinner': 142, 'prices_lunch': 142, 'rest_addr': '東京都新宿區市穀檯町18-5', 'rest_area': '早稻田周邊', 'rest_catg': '拉麵/担担麵/乾擔擔麵', 'rest_rating': 3.94, 'service_rating_dinner': 3.81, 'service_rating_lunch': 3.66, 'store_nm_en': 'Menanchitose', 'store_nm_jp': '麺庵ちとせ', 'transport': '曙橋駅 徒歩6分\\n若松河田駅 徒歩9分\\n\\n\\n距离若松河田 522  米'}, {'age': 39, 'cp_rating_dinner': 3.73, 'cp_rating_lunch': 3.88, 'feeling_rating_dinner': 3.77, 'feeling_rating_lunch': 4.1, 'female_prop': 24.11, 'label_code': 1, 'label_desc': '平消族', 'lat': 35.5908248, 'lng': 139.7327699, 'male_prop': 75.89, 'meal_duration': 1.0, 'prices_dinner': 142, 'prices_lunch': 142, 'rest_addr': '東京都品川區南大井6-11-10', 'rest_area': '大森・平和島', 'rest_catg': '拉麵/沾麵', 'rest_rating': 4.12, 'service_rating_dinner': 3.75, 'service_rating_lunch': 4.08, 'store_nm_en': 'Homemade Ramen Muginae', 'store_nm_jp': 'Homemade Ramen 麦苗', 'transport': '・京浜急行本線「大森海岸」駅より、徒歩７分\\n・JR京浜東北線「大森」駅(北口)より、徒歩７分\\n\\n\\n距离大森海岸 416  米'}, {'age': 42, 'cp_rating_dinner': 3.55, 'cp_rating_lunch': 4.0, 'feeling_rating_dinner': 3.65, 'feeling_rating_lunch': 3.59, 'female_prop': 23.84, 'label_code': 1, 'label_desc': '平消族', 'lat': 35.7073817, 'lng': 139.6183183, 'male_prop': 76.16, 'meal_duration': 1.0, 'prices_dinner': 142, 'prices_lunch': 142, 'rest_addr': '東京都杉並區天沼3-10-16-102', 'rest_area': '荻窪', 'rest_catg': '拉麵/沾麵', 'rest_rating': 3.83, 'service_rating_dinner': 3.73, 'service_rating_lunch': 3.5, 'store_nm_en': 'Uchoku', 'store_nm_jp': '迂直', 'transport': '荻窪駅北口から徒歩5分\\n\\n\\n距离荻窪 351  米'}, {'age': 38, 'cp_rating_dinner': 3.39, 'cp_rating_lunch': 3.71, 'feeling_rating_dinner': 4.24, 'feeling_rating_lunch': 4.28, 'female_prop': 23.88, 'label_code': 1, 'label_desc': '平消族', 'lat': 35.6680794, 'lng': 139.767323, 'male_prop': 76.12, 'meal_duration': 1.0, 'prices_dinner': 7087, 'prices_lunch': 3543, 'rest_addr': '東京都中央區銀座5-15-8', 'rest_area': '銀座', 'rest_catg': '鐵板燒/牛排', 'rest_rating': 3.77, 'service_rating_dinner': 4.16, 'service_rating_lunch': 4.11, 'store_nm_en': 'GINZA Ukai-tei', 'store_nm_jp': '銀座うかい亭', 'transport': '東京メトロ「東銀座駅」6番出口から徒歩3分\\n\\n\\n距离東銀座 148  米'}, {'age': 44, 'cp_rating_dinner': 4.21, 'cp_rating_lunch': 4.56, 'feeling_rating_dinner': 3.94, 'feeling_rating_lunch': 4.49, 'female_prop': 23.73, 'label_code': 1, 'label_desc': '平消族', 'lat': 35.6920609, 'lng': 139.7216055, 'male_prop': 76.27, 'meal_duration': 1.5, 'prices_dinner': 4961, 'prices_lunch': 425, 'rest_addr': '東京都新宿區住吉町2-18', 'rest_area': '曙橋・四之谷三丁目', 'rest_catg': '懷石 / 會席料理/和式餐馆 / 小菜/河豚', 'rest_rating': 3.92, 'service_rating_dinner': 4.18, 'service_rating_lunch': 4.54, 'store_nm_en': 'Marutomi', 'store_nm_jp': 'まる富', 'transport': '都営新宿線曙橋駅\\u3000徒歩1分\\nA1番出口を出て、「オールワン（不動産店）」を左、「フレッシュネスバーガー」を右に曲がりますと、すぐ右手にございます。富マークの丸い看板が目印です。\\n\\n\\n距离曙橋 92  米'}, {'age': 40, 'cp_rating_dinner': 3.13, 'cp_rating_lunch': 3.12, 'feeling_rating_dinner': 3.51, 'feeling_rating_lunch': 3.59, 'female_prop': 23.81, 'label_code': 1, 'label_desc': '平消族', 'lat': 35.6956832, 'lng': 139.7585142, 'male_prop': 76.19, 'meal_duration': 1.0, 'prices_dinner': 425, 'prices_lunch': 425, 'rest_addr': '東京都韆代田區神田神保町1-9', 'rest_area': '神保町・水道橋', 'rest_catg': '咖哩飯/歐風咖哩', 'rest_rating': 3.77, 'service_rating_dinner': 3.41, 'service_rating_lunch': 3.43, 'store_nm_en': 'Gaviaru', 'store_nm_jp': 'ガヴィアル', 'transport': '都営三田線\\u3000神保町駅\\u3000徒歩1分\\n都営新宿線\\u3000神保町駅\\u3000徒歩1分\\n東京メトロ半蔵門線\\u3000神保町駅\\u3000徒歩1分\\n\\n\\n距离神保町 37  米'}, {'age': 45, 'cp_rating_dinner': 3.56, 'cp_rating_lunch': 3.44, 'feeling_rating_dinner': 3.5, 'feeling_rating_lunch': 3.4, 'female_prop': 23.87, 'label_code': 1, 'label_desc': '平消族', 'lat': 35.7377996, 'lng': 139.7312093, 'male_prop': 76.13, 'meal_duration': 1.0, 'prices_dinner': 992, 'prices_lunch': 425, 'rest_addr': '東京都豐島區巢鴨4-14-15', 'rest_area': '北池袋・板橋車站周邊', 'rest_catg': '蕎麥麵', 'rest_rating': 3.78, 'service_rating_dinner': 3.55, 'service_rating_lunch': 3.4, 'store_nm_en': 'Teuchisobakikutani', 'store_nm_jp': '手打ちそば 菊谷 巣鴨本店', 'transport': '都電荒川線【庚申塚停留所】徒歩３分\\n都営地下鉄三田線【巣鴨駅】徒歩10分\\nＪＲ山手線【巣鴨駅】徒歩11分\\n\\n\\n距离庚申塚 229  米'}, {'age': 39, 'cp_rating_dinner': 3.96, 'cp_rating_lunch': 4.0, 'feeling_rating_dinner': 3.35, 'feeling_rating_lunch': 3.27, 'female_prop': 23.48, 'label_code': 1, 'label_desc': '平消族', 'lat': 35.6854123, 'lng': 139.7753649, 'male_prop': 76.52, 'meal_duration': 1.5, 'prices_dinner': 142, 'prices_lunch': 142, 'rest_addr': '東京都中央區日本橋室町1-11-15', 'rest_area': '日本橋・京橋', 'rest_catg': '炸蝦丼飯・炸蝦便當/便當/星鰻', 'rest_rating': 3.77, 'service_rating_dinner': 3.39, 'service_rating_lunch': 3.28, 'store_nm_en': 'nihombashitendonkanekohannosuke', 'store_nm_jp': '日本橋 天丼 金子半之助 本店', 'transport': '東京メトロ半蔵門線・銀座線「三越前」駅(A1出口)から徒歩1分\\n東京メトロ東西線「日本橋」駅から徒歩4分\\nJR総武本線「新日本橋」駅から徒歩5分\\n\\n\\n距离三越前 157  米'}]\n"
     ]
    },
    {
     "name": "stdout",
     "output_type": "stream",
     "text": [
      "=====================\n",
      " 第1天行程：\n",
      "雷門 Nakamise Shopping Street (Kaminarimon)約16.6 公里，景點間通勤約需24 分鐘。\n",
      "---------------\n",
      "淺草文化觀光中心 Asakusa Culture Tourist Information Center約61 公尺，景點間通勤約需1 分鐘。\n",
      "---------------\n",
      "淺草 Asakusa約2.0 公里，景點間通勤約需8 分鐘。\n",
      "---------------\n",
      "\n",
      "地圖連結：https://45a28610.ngrok.io/images/day1-U6862a7797fb21baaca9d110ccc061758-1574394623403map.html\n",
      "===============\n",
      "第2天行程：\n",
      "井草八幡宮 Igusa Hachimangu Folklore Collection約39.7 公里，景點間通勤約需54 分鐘。\n",
      "---------------\n",
      "原宿竹下通 Takeshita Street約15.8 公里，景點間通勤約需35 分鐘。\n",
      "---------------\n",
      "東京國立近代美術館 The National Museum of Modern Art約6.4 公里，景點間通勤約需14 分鐘。\n",
      "---------------\n",
      "\n",
      "地圖連結：https://45a28610.ngrok.io/images/day2-U6862a7797fb21baaca9d110ccc061758-1574394623403map.html\n",
      "===============\n",
      "第3天行程：\n",
      " Diver City Tokyo購物廣場 Diver City Tokyo Plaza約12.4 公里，景點間通勤約需19 分鐘。\n",
      "---------------\n",
      "日本武道館 Nippon Budokan約13.2 公里，景點間通勤約需19 分鐘。\n",
      "---------------\n",
      "月島燒 文字燒街 Tsukishima Monjya Street約6.5 公里，景點間通勤約需15 分鐘。\n",
      "---------------\n",
      "\n",
      "地圖連結：https://45a28610.ngrok.io/images/day3-U6862a7797fb21baaca9d110ccc061758-1574394623403map.html\n",
      "===============\n",
      "第4天行程：\n",
      "靖國神社御靈祭 Mitama Matsuri約19.0 公里，景點間通勤約需29 分鐘。\n",
      "---------------\n",
      "東鄉神社 Togo Shrine約5.6 公里，景點間通勤約需17 分鐘。\n",
      "---------------\n",
      "世界貿易中心大廈眺望台 Observatory, Seaside Top約7.7 公里，景點間通勤約需19 分鐘。\n",
      "---------------\n",
      "\n",
      "地圖連結：https://45a28610.ngrok.io/images/day4-U6862a7797fb21baaca9d110ccc061758-1574394623403map.html\n",
      "===============\n",
      "第5天行程：\n",
      "葛西臨海水族園 Tokyo Sea Life Park約4.5 公里，景點間通勤約需14 分鐘。\n",
      "---------------\n",
      "東京杜莎夫人蠟像館 Madame Tussauds Tokyo約10.4 公里，景點間通勤約需19 分鐘。\n",
      "---------------\n",
      "東京海賊王塔 TOKYO ONE PIECE TOWER約8.2 公里，景點間通勤約需14 分鐘。\n",
      "---------------\n",
      "\n",
      "地圖連結：https://45a28610.ngrok.io/images/day5-U6862a7797fb21baaca9d110ccc061758-1574394623403map.html\n",
      "===============\n",
      "第6天行程：\n",
      "隅田川花火大會 Sumida River Fireworks約16.1 公里，景點間通勤約需21 分鐘。\n",
      "---------------\n",
      "三社祭 Sanja Matsuri約1.6 公里，景點間通勤約需7 分鐘。\n",
      "---------------\n",
      "東京馬拉松 Tokyo Marathon約17.1 公里，景點間通勤約需27 分鐘。\n",
      "---------------\n",
      "\n",
      "地圖連結：https://45a28610.ngrok.io/images/day6-U6862a7797fb21baaca9d110ccc061758-1574394623403map.html\n",
      "===============\n",
      " \n",
      "=======================\n",
      "::tripStart:\n",
      "Nihili Feng,U6862a7797fb21baaca9d110ccc061758\n",
      "{\"data\": \"tripStart\"}\n",
      "1574394623872,2019-11-22 03:50:23.872000\n",
      "{'age': 31, 'been2tko': 0, 'days': 7, 'budget': 10000, 'isFemale': 0, 'fbudget': 3000, 'dDate': '2019-11-30', 'rDate': '2019-12-07'}\n",
      "{'airline': 'Tigerair Taiwan', 'date_format(eta,\"%a\")': 'Sat', 'date_format(etd,\"%a\")': 'Sat', 'date_format(saEta,\"%a\")': 'Sat', 'date_format(saEtd,\"%a\")': 'Sat', 'price': 7767, 'time_format(eta,\"%T\")': '10:35:00', 'time_format(etd,\"%T\")': '06:35:00', 'time_format(saEta,\"%T\")': '21:50:00', 'time_format(saEtd,\"%T\")': '18:30:00', 'time_format(sec_to_time(dur),\"%T\")': '03:00:00', 'time_format(sec_to_time(saDur),\"%T\")': '04:20:00'}\n",
      "bk by sat\n",
      "{'age': 31, 'been2tko': 0, 'howlong': 7, 'budget': 10000, 'isFemale': 0, 'with_child': 0, 'crampedSechedule': False}\n",
      "['[{\"index\":91,\"name\":\"地鐵博物館 Subway Museum\",\"rank\":\"排名第 3的江戶川區觀光 (共191家)\",\"address\":\"東京都江戶川區東葛西6-3-1134-0084\",\"child\":0.2354396254,\"latitude\":35.6635434,\"longitude\":139.8741668,\"score\":70,\"chosen\":true},{\"index\":228,\"name\":\" Suga Shrine\",\"rank\":\"排名第 37的新宿區觀光 (共419家)\",\"address\":\"東京都新宿區5 Sugacho160-0018\",\"child\":0.0,\"latitude\":35.6938253,\"longitude\":139.7033559,\"score\":114,\"chosen\":true},{\"index\":181,\"name\":\"新丸之內大樓 Shin-Marunouchi Building\",\"rank\":\"排名第 30的千代田區觀光 (共446家)\",\"address\":\"東京都千代田區1-5-1 MarunouchiShin Marunouchi Bldg B1F100-6590\",\"child\":0.0,\"latitude\":35.6826212,\"longitude\":139.7642436,\"score\":84,\"chosen\":true}]', '[{\"index\":196,\"name\":\"日本損保東鄉青兒美術館 Seiji Togo Memorial Sompo Japan Nipponkoa Museum of Art\",\"rank\":\"排名第 3的Nishishinjuku觀光 (共18家)\",\"address\":\"東京都新宿區Nishishinjuku1-26-1Sompo Japan Nipponkoa Head Office Bldg. 42F160-8338\",\"child\":0.0,\"latitude\":35.6924495,\"longitude\":139.6958457,\"score\":70,\"chosen\":true},{\"index\":195,\"name\":\"有棲川宮紀念公園 Arisugawa-no-miya Memorial Park\",\"rank\":\"排名第 15的港區觀光 (共626家)\",\"address\":\"東京都港區南麻布5-7106-0047\",\"child\":0.1133680925,\"latitude\":35.6528503,\"longitude\":139.7249685,\"score\":114,\"chosen\":true},{\"index\":152,\"name\":\"皇居外苑 Kokyo Gaien National Garden\",\"rank\":\"排名第 13的千代田區觀光 (共446家)\",\"address\":\"東京都千代田區皇居外苑3-1100-0002\",\"child\":0.0,\"latitude\":35.6834249,\"longitude\":139.7604161,\"score\":114,\"chosen\":true}]', '[{\"index\":42,\"name\":\"東京海賊王塔 TOKYO ONE PIECE TOWER\",\"rank\":\"排名第 16的港區觀光 (共626家)\",\"address\":\"東京都港區4-2-8 ShibakoenTokyo Tower Foot Town105-0011\",\"child\":0.2333411224,\"latitude\":35.658595,\"longitude\":139.745442,\"score\":70,\"chosen\":true},{\"index\":100,\"name\":\"舊芝離宮恩賜庭園 Former Shiba Rikyu Gardens\",\"rank\":\"排名第 18的港區觀光 (共626家)\",\"address\":\"東京都港區1-4-1 Kaigan105-0022\",\"child\":0.0,\"latitude\":35.6557371,\"longitude\":139.7580118,\"score\":114,\"chosen\":true},{\"index\":191,\"name\":\"東京都進代文學博物館 Marquis Maeda Old Western Style House\",\"rank\":\"排名第 4的目黑區觀光 (共108家)\",\"address\":\"東京都目黑區4-3-53 KomabaKomaba Park153-0041\",\"child\":0.0,\"latitude\":35.6618801,\"longitude\":139.6802469,\"score\":114,\"chosen\":true}]', '[{\"index\":233,\"name\":\"精工博物館 The Seiko Museum\",\"rank\":\"排名第 11的墨田區觀光 (共264家)\",\"address\":\"東京都墨田區3-9-7 Higashi Mukojima131-0032\",\"child\":0.1458601027,\"latitude\":35.7267061,\"longitude\":139.8132052,\"score\":70,\"chosen\":true},{\"index\":229,\"name\":\"胡蘿蔔塔 Carrot Tower\",\"rank\":\"排名第 10的世田谷區觀光 (共235家)\",\"address\":\"東京都世田谷區4-1-1 Taishido154-0004\",\"child\":0.0,\"latitude\":35.6424096,\"longitude\":139.6548295,\"score\":114,\"chosen\":true},{\"index\":131,\"name\":\"100 Steps Stairs\",\"rank\":\"排名第 6的目黑區觀光 (共108家)\",\"address\":\"東京都目黑區1-8-1 ShimomeguroMeguro Gajoen153-0064\",\"child\":0.0966658634,\"latitude\":35.630626,\"longitude\":139.714274,\"score\":114,\"chosen\":true}]', '[{\"index\":225,\"name\":\"東京馬拉松 Tokyo Marathon\",\"rank\":\"排名第 12的新宿區觀光 (共419家)\",\"address\":\"東京都新宿區2-8-1 NishishinjukuTokyo Metropolitan Government Building163-8001\",\"child\":0.0542821379,\"latitude\":35.6898531,\"longitude\":139.6917321,\"score\":70,\"chosen\":true},{\"index\":79,\"name\":\"銀座三越 Ginza Mitsukoshi\",\"rank\":\"排名第 8的中央區觀光 (共577家)\",\"address\":\"東京都中央區銀座4-6-16104-8212\",\"child\":0.0148736923,\"latitude\":35.6713332,\"longitude\":139.7656872,\"score\":84,\"chosen\":true},{\"index\":40,\"name\":\" Roppongi Hills, Shop & Restaurant\",\"rank\":\"排名第 2的Roppongi觀光 (共17家)\",\"address\":\"東京都港區Roppongi6-10-1106-6108\",\"child\":0.0484038683,\"latitude\":35.6609354,\"longitude\":139.7287598,\"score\":84,\"chosen\":true}]']\n",
      "{'age': 31, 'been2tko': 0, 'days': 7, 'budget': 10000, 'isFemale': 0, 'hotel budget': 1000}\n",
      "{'CP': 3.032659409, 'pre': 2.0, '交通1': '森下站 - 走路 7 分鐘', '交通2': '馬?町站 - 走路 18 分鐘', '交通3': '東京, 日本 (NRT-成田國際機場) - 車程 45 分鐘', '交通便利性': '7', '價格': 1286.0, '地址': '3-43-8, Nihonbashi Hama-cho, Chuo-ku, 東京, Tokyo-to', '廚房': 0.0, '星等': 3.0, '經度': 139.791635, '網址': 'https://www.expedia.com.tw/Tokyo-Hotels-APA-Hotel-Nihombashi-Hamachoeki-Minami.h4095759.Hotel-Information?chkin=2019%2F10%2F4&chkout=2019%2F10%2F5&regionId=179900&destination=%E6%9D%B1%E4%BA%AC+%28%E5%8F%8A%E9%84%B0%E8%BF%91%E5%9C%B0%E5%8D%80%29%2C+%E6%97%A5%E6%9C%AC&swpToggleOn=true&rm1=a1&x_pwa=1&sort=recommended&top_dp=1286&top_cur=TWD&rfrr=HSR&pwa_ts=1570019075362', '緯度': 35.686301, '評價': 3.9, '鄰近景點1': '濱町公園 - 步行 6 分鐘', '鄰近景點2': '江戶東京博物館 - 開車 2 分鐘', '鄰近景點3': '歌舞伎座 - 開車 3 分鐘', '鄰近景點4': '秋葉原電器街 - 開車 3 分鐘', '鄰近景點5': '淺草公會堂 - 開車 14 分鐘', '飯店名稱': '日本橋濱町站南 APA 飯店'}\n",
      "{'age': 31, 'been2tko': 0, 'days': 7, 'totalBudget': 10000, 'gender': 0, 'oneBudget': 300}\n",
      "[{'age': 41, 'cp_rating_dinner': 4.37, 'cp_rating_lunch': 4.22, 'feeling_rating_dinner': 4.54, 'feeling_rating_lunch': 4.52, 'female_prop': 24.26, 'label_code': 0, 'label_desc': '高消族', 'lat': 35.6818504, 'lng': 139.7849853, 'male_prop': 75.74, 'meal_duration': 1.0, 'prices_dinner': 7087, 'prices_lunch': 7087, 'rest_addr': '東京都中央區日本橋蠣殼町1-33-6', 'rest_area': '人形町・小傳馬町', 'rest_catg': '壽司', 'rest_rating': 4.81, 'service_rating_dinner': 4.59, 'service_rating_lunch': 4.6, 'store_nm_en': 'Sugita', 'store_nm_jp': '日本橋蛎殻町 すぎた', 'transport': '水天宮前駅4番出口から徒歩約2分\\n\\n\\n距离水天宮前 105  米'}, {'age': 33, 'cp_rating_dinner': 4.11, 'cp_rating_lunch': 4.75, 'feeling_rating_dinner': 3.91, 'feeling_rating_lunch': 4.73, 'female_prop': 24.05, 'label_code': 0, 'label_desc': '高消族', 'lat': 35.6270047, 'lng': 139.7085856, 'male_prop': 75.95, 'meal_duration': 1.0, 'prices_dinner': 7087, 'prices_lunch': 2551, 'rest_addr': '東京都目黑區下目黑3-16-2', 'rest_area': '不動前・武藏小山・西小山', 'rest_catg': '壽司', 'rest_rating': 4.02, 'service_rating_dinner': 4.02, 'service_rating_lunch': 4.41, 'store_nm_en': 'Rammaru', 'store_nm_jp': 'らんまる', 'transport': '不動前駅から448m\\n\\n\\n距离不動前 448  米'}, {'age': 38, 'cp_rating_dinner': 3.94, 'cp_rating_lunch': 3.79, 'feeling_rating_dinner': 4.16, 'feeling_rating_lunch': 2.73, 'female_prop': 24.05, 'label_code': 0, 'label_desc': '高消族', 'lat': 35.6559209, 'lng': 139.7428184, 'male_prop': 75.95, 'meal_duration': 1.0, 'prices_dinner': 7087, 'prices_lunch': 4961, 'rest_addr': '東京都港區東痲佈1-29-15', 'rest_area': '濱松町・芝公園', 'rest_catg': '壽司', 'rest_rating': 4.04, 'service_rating_dinner': 4.07, 'service_rating_lunch': 2.73, 'store_nm_en': 'Sushisugaya', 'store_nm_jp': '鮨 すが弥', 'transport': '都営大江戸線\\u3000赤羽橋駅（中之橋出口）より徒歩2分\\n東京メトロ\\u3000麻布十番駅（３番出口）より徒歩7分\\n都営三田線\\u3000芝公園駅（A4出口）より徒歩10分\\n\\n\\n距离赤羽橋 132  米'}, {'age': 41, 'cp_rating_dinner': 3.46, 'cp_rating_lunch': 4.24, 'feeling_rating_dinner': 3.92, 'feeling_rating_lunch': 4.06, 'female_prop': 24.05, 'label_code': 0, 'label_desc': '高消族', 'lat': 35.6754994, 'lng': 139.7930975, 'male_prop': 75.95, 'meal_duration': 1.0, 'prices_dinner': 7087, 'prices_lunch': 7087, 'rest_addr': '東京都江東區福住1-3-1', 'rest_area': '門前仲町・木場・東陽町', 'rest_catg': '天婦羅', 'rest_rating': 4.04, 'service_rating_dinner': 3.65, 'service_rating_lunch': 3.99, 'store_nm_en': 'Mikawa Zezankyo', 'store_nm_jp': 'みかわ 是山居', 'transport': '東西線\\u3000大江戸線・門前仲町駅歩いて８分。\\n\\n\\n距离門前仲町 463  米'}, {'age': 42, 'cp_rating_dinner': 3.64, 'cp_rating_lunch': 3.75, 'feeling_rating_dinner': 3.28, 'feeling_rating_lunch': 3.34, 'female_prop': 23.96, 'label_code': 1, 'label_desc': '平消族', 'lat': 35.5604869, 'lng': 139.7171267, 'male_prop': 76.04, 'meal_duration': 1.0, 'prices_dinner': 142, 'prices_lunch': 425, 'rest_addr': '東京都大田區蒲田5-43-7', 'rest_area': '蒲田', 'rest_catg': '咖哩飯/炸豬排/咖哩（其它）', 'rest_rating': 3.75, 'service_rating_dinner': 3.34, 'service_rating_lunch': 3.34, 'store_nm_en': 'Tonkatsuaokinokareyaippekoppe', 'store_nm_jp': 'とんかつ檍のカレー屋いっぺこっぺ', 'transport': 'ＪＲ京浜東北線「蒲田」駅東口より徒歩４分\\n東急多摩川線・池上線「蒲田」駅より徒歩７分\\n京急本線・空港線「京急蒲田」駅西口より徒歩10分\\n蒲田駅から244m\\n\\n\\n距离蒲田 241  米'}, {'age': 41, 'cp_rating_dinner': 3.44, 'cp_rating_lunch': 3.43, 'feeling_rating_dinner': 4.1, 'feeling_rating_lunch': 3.96, 'female_prop': 24.32, 'label_code': 1, 'label_desc': '平消族', 'lat': 35.7138661, 'lng': 139.7726182, 'male_prop': 75.68, 'meal_duration': 1.5, 'prices_dinner': 1984, 'prices_lunch': 992, 'rest_addr': '東京都檯東區上野公園4-59', 'rest_area': '上野・御徒町・湯島', 'rest_catg': '懷石 / 會席料理/壽喜燒/日式甜點店', 'rest_rating': 3.76, 'service_rating_dinner': 3.57, 'service_rating_lunch': 3.5, 'store_nm_en': 'Inshoutei', 'store_nm_jp': '韻松亭', 'transport': 'JR・東京メトロ銀座線上野駅：徒歩10分\\n京成線上野駅：徒歩７分\\n都営大江戸線御徒町駅・東京メトロ日比谷線上野駅：徒歩13分\\n\\n\\n距离京成上野 260  米'}, {'age': 41, 'cp_rating_dinner': 3.3, 'cp_rating_lunch': 3.32, 'feeling_rating_dinner': 3.22, 'feeling_rating_lunch': 3.41, 'female_prop': 24.21, 'label_code': 1, 'label_desc': '平消族', 'lat': 35.7766473, 'lng': 139.6317337, 'male_prop': 75.79, 'meal_duration': 1.0, 'prices_dinner': 425, 'prices_lunch': 425, 'rest_addr': '東京都闆橋區成增2-17-2', 'rest_area': '赤塚・成增', 'rest_catg': '拉麵/沾麵', 'rest_rating': 3.76, 'service_rating_dinner': 3.2, 'service_rating_lunch': 3.26, 'store_nm_en': 'chuukamentokorodoutombori', 'store_nm_jp': '中華めん処 道頓堀', 'transport': '東京メトロ有楽町線・副都心線【地下鉄成増駅】徒歩２分\\n東武東上線【成増駅】徒歩４分（南口）\\n\\n\\n距离地鐵成增 60  米'}, {'age': 41, 'cp_rating_dinner': 3.39, 'cp_rating_lunch': 3.37, 'feeling_rating_dinner': 3.48, 'feeling_rating_lunch': 3.22, 'female_prop': 23.79, 'label_code': 1, 'label_desc': '平消族', 'lat': 35.679585, 'lng': 139.8699329, 'male_prop': 76.21, 'meal_duration': 1.0, 'prices_dinner': 142, 'prices_lunch': 142, 'rest_addr': '東京都江戶川區船堀6-7-13', 'rest_area': '船堀～篠崎', 'rest_catg': '拉麵', 'rest_rating': 3.77, 'service_rating_dinner': 3.45, 'service_rating_lunch': 3.43, 'store_nm_en': 'Ooshima', 'store_nm_jp': '大島', 'transport': '船堀駅徒歩8分\\n船堀駅と船堀タワーの間の道を南東方面へ。\\n船堀スポーツ公園を過ぎると右手に店舗が見えます。\\n\\n\\n距离船堀 696  米'}, {'age': 42, 'cp_rating_dinner': 3.59, 'cp_rating_lunch': 3.24, 'feeling_rating_dinner': 3.54, 'feeling_rating_lunch': 3.18, 'female_prop': 23.92, 'label_code': 1, 'label_desc': '平消族', 'lat': 35.7859161, 'lng': 139.6746957, 'male_prop': 76.08, 'meal_duration': 1.0, 'prices_dinner': 142, 'prices_lunch': 142, 'rest_addr': '東京都闆橋區蓮根3-8-14', 'rest_area': '板橋區公所前～（都營三田線）', 'rest_catg': '拉麵/沾麵', 'rest_rating': 3.85, 'service_rating_dinner': 3.59, 'service_rating_lunch': 3.18, 'store_nm_en': 'Kotobukiseimenyoshikawa', 'store_nm_jp': '寿製麺 よしかわ 西台駅前店', 'transport': '距离西台 213  米'}, {'age': 41, 'cp_rating_dinner': 3.2, 'cp_rating_lunch': 3.2, 'feeling_rating_dinner': 3.61, 'feeling_rating_lunch': 3.57, 'female_prop': 23.81, 'label_code': 1, 'label_desc': '平消族', 'lat': 35.7079336, 'lng': 139.7723083, 'male_prop': 76.19, 'meal_duration': 2.0, 'prices_dinner': 1276, 'prices_lunch': 709, 'rest_addr': '東京都文京區湯島3-40-7', 'rest_area': '上野・御徒町・湯島', 'rest_catg': '西式料理/牛肉飯/漢堡', 'rest_rating': 3.77, 'service_rating_dinner': 3.51, 'service_rating_lunch': 3.44, 'store_nm_en': 'Gensenyoushokusakurai', 'store_nm_jp': '厳選洋食さくらい', 'transport': '東京メトロ銀座線上野広小路駅より徒歩1分 \\n山手線御徒町駅より徒歩3分\\n\\n\\n距离上野廣小路 73  米'}, {'age': 38, 'cp_rating_dinner': 3.48, 'cp_rating_lunch': 4.54, 'feeling_rating_dinner': 3.71, 'feeling_rating_lunch': 4.25, 'female_prop': 24.14, 'label_code': 1, 'label_desc': '平消族', 'lat': 35.7125736, 'lng': 139.7802043, 'male_prop': 75.86, 'meal_duration': 1.5, 'prices_dinner': 4961, 'prices_lunch': 425, 'rest_addr': '東京都檯東區鬆が穀3-8-1', 'rest_area': '上野・御徒町・湯島', 'rest_catg': '河豚/鍋類（其他）', 'rest_rating': 4.14, 'service_rating_dinner': 3.8, 'service_rating_lunch': 3.85, 'store_nm_en': 'Makino', 'store_nm_jp': 'ふぐ 牧野', 'transport': '距离稻荷町 528  米'}, {'age': 39, 'cp_rating_dinner': 3.23, 'cp_rating_lunch': 3.38, 'feeling_rating_dinner': 3.05, 'feeling_rating_lunch': 3.25, 'female_prop': 23.53, 'label_code': 1, 'label_desc': '平消族', 'lat': 35.6249193, 'lng': 139.7196924, 'male_prop': 76.47, 'meal_duration': 1.0, 'prices_dinner': 425, 'prices_lunch': 142, 'rest_addr': '東京都品川區西五反田2-31-5', 'rest_area': '五反田・高輪台', 'rest_catg': '湯咖哩', 'rest_rating': 3.77, 'service_rating_dinner': 3.02, 'service_rating_lunch': 3.26, 'store_nm_en': 'kare-nomiseudon', 'store_nm_jp': 'かれーの店 うどん ', 'transport': 'JR山手線「五反田」駅西口\\n→右手大きい通りに東京三菱ＵＦＪ・ａｍｐｍ\\n→大きい通りを山手線を背中に直進\\n→目黒川・ツタヤ通過\\n→ブックオフを右折（山手通り）\\n→ココイチを通過し右折\\n→赤い看板が見えたら到着です。\\n都営浅草線から行く場合、A２番出口が便利です。\\n\\n\\n距离大崎廣小路 357  米'}, {'age': 41, 'cp_rating_dinner': 3.57, 'cp_rating_lunch': 4.03, 'feeling_rating_dinner': 3.67, 'feeling_rating_lunch': 3.76, 'female_prop': 23.86, 'label_code': 1, 'label_desc': '平消族', 'lat': 35.6547425, 'lng': 139.7260883, 'male_prop': 76.14, 'meal_duration': 1.0, 'prices_dinner': 1276, 'prices_lunch': 425, 'rest_addr': '東京都港區西痲佈3-8-6', 'rest_area': '廣尾', 'rest_catg': '蕎麥麵', 'rest_rating': 3.78, 'service_rating_dinner': 3.57, 'service_rating_lunch': 3.83, 'store_nm_en': 'sobatajima', 'store_nm_jp': '蕎麦 たじま', 'transport': '日比谷線広尾駅より5分。有栖川公園を右手に坂を上ったコンビニの向かい側。\\n大江戸線六本木駅より10分。\\n\\n\\n距离廣尾 477  米'}, {'age': 43, 'cp_rating_dinner': 3.24, 'cp_rating_lunch': 3.35, 'feeling_rating_dinner': 3.67, 'feeling_rating_lunch': 3.82, 'female_prop': 23.28, 'label_code': 1, 'label_desc': '平消族', 'lat': 35.6812097, 'lng': 139.7747558, 'male_prop': 76.72, 'meal_duration': 1.0, 'prices_dinner': 1984, 'prices_lunch': 425, 'rest_addr': '東京都中央區日本橋2-9-9', 'rest_area': '日本橋・京橋', 'rest_catg': '魚類料理・海鮮料理/星鰻/天婦羅', 'rest_rating': 3.77, 'service_rating_dinner': 3.39, 'service_rating_lunch': 3.56, 'store_nm_en': 'Tamai', 'store_nm_jp': '玉ゐ 本店', 'transport': 'ＪＲ東京駅八重洲口から高島屋デパート方面へ徒歩8分。東京メトロ銀座線・東西線、都営浅草線日本橋駅から徒歩3分。\\n\\n\\n距离日本橋 106  米'}]\n"
     ]
    },
    {
     "name": "stdout",
     "output_type": "stream",
     "text": [
      "=====================\n",
      " 第1天行程：\n",
      "地鐵博物館 Subway Museum約13.8 公里，景點間通勤約需21 分鐘。\n",
      "---------------\n",
      "新丸之內大樓 Shin-Marunouchi Building約16.4 公里，景點間通勤約需24 分鐘。\n",
      "---------------\n",
      " Suga Shrine約11.5 公里，景點間通勤約需20 分鐘。\n",
      "---------------\n",
      "\n",
      "地圖連結：https://45a28610.ngrok.io/images/day1-U6862a7797fb21baaca9d110ccc061758-1574394623871map.html\n",
      "===============\n",
      "第2天行程：\n",
      "皇居外苑 Kokyo Gaien National Garden約4.0 公里，景點間通勤約需12 分鐘。\n",
      "---------------\n",
      "有棲川宮紀念公園 Arisugawa-no-miya Memorial Park約5.2 公里，景點間通勤約需16 分鐘。\n",
      "---------------\n",
      "日本損保東鄉青兒美術館 Seiji Togo Memorial Sompo Japan Nipponkoa Museum of Art約7.6 公里，景點間通勤約需18 分鐘。\n",
      "---------------\n",
      "\n",
      "地圖連結：https://45a28610.ngrok.io/images/day2-U6862a7797fb21baaca9d110ccc061758-1574394623871map.html\n",
      "===============\n",
      "第3天行程：\n",
      "舊芝離宮恩賜庭園 Former Shiba Rikyu Gardens約5.4 公里，景點間通勤約需14 分鐘。\n",
      "---------------\n",
      "東京海賊王塔 TOKYO ONE PIECE TOWER約1.8 公里，景點間通勤約需7 分鐘。\n",
      "---------------\n",
      "東京都進代文學博物館 Marquis Maeda Old Western Style House約8.6 公里，景點間通勤約需16 分鐘。\n",
      "---------------\n",
      "\n",
      "地圖連結：https://45a28610.ngrok.io/images/day3-U6862a7797fb21baaca9d110ccc061758-1574394623871map.html\n",
      "===============\n",
      "第4天行程：\n",
      "精工博物館 The Seiko Museum約7.5 公里，景點間通勤約需11 分鐘。\n",
      "---------------\n",
      "100 Steps Stairs約18.6 公里，景點間通勤約需25 分鐘。\n",
      "---------------\n",
      "胡蘿蔔塔 Carrot Tower約7.3 公里，景點間通勤約需19 分鐘。\n",
      "---------------\n",
      "\n",
      "地圖連結：https://45a28610.ngrok.io/images/day4-U6862a7797fb21baaca9d110ccc061758-1574394623871map.html\n",
      "===============\n",
      "第5天行程：\n",
      "東京馬拉松 Tokyo Marathon約12.8 公里，景點間通勤約需22 分鐘。\n",
      "---------------\n",
      " Roppongi Hills, Shop & Restaurant約8.0 公里，景點間通勤約需19 分鐘。\n",
      "---------------\n",
      "銀座三越 Ginza Mitsukoshi約4.7 公里，景點間通勤約需14 分鐘。\n",
      "---------------\n",
      "\n",
      "地圖連結：https://45a28610.ngrok.io/images/day5-U6862a7797fb21baaca9d110ccc061758-1574394623871map.html\n",
      "===============\n",
      " \n",
      "=======================\n",
      "::tripStart:\n",
      "Nihili Feng,U6862a7797fb21baaca9d110ccc061758\n",
      "{\"data\": \"tripStart\"}\n",
      "1574394624074,2019-11-22 03:50:24.074000\n",
      "{'age': 31, 'been2tko': 0, 'days': 7, 'budget': 10000, 'isFemale': 0, 'fbudget': 3000, 'dDate': '2019-11-30', 'rDate': '2019-12-07'}\n",
      "{'airline': 'Tigerair Taiwan', 'date_format(eta,\"%a\")': 'Sat', 'date_format(etd,\"%a\")': 'Sat', 'date_format(saEta,\"%a\")': 'Sat', 'date_format(saEtd,\"%a\")': 'Sat', 'price': 7767, 'time_format(eta,\"%T\")': '10:35:00', 'time_format(etd,\"%T\")': '06:35:00', 'time_format(saEta,\"%T\")': '21:50:00', 'time_format(saEtd,\"%T\")': '18:30:00', 'time_format(sec_to_time(dur),\"%T\")': '03:00:00', 'time_format(sec_to_time(saDur),\"%T\")': '04:20:00'}\n",
      "bk by sat\n",
      "{'age': 31, 'been2tko': 0, 'howlong': 7, 'budget': 10000, 'isFemale': 0, 'with_child': 0, 'crampedSechedule': False}\n",
      "['[{\"index\":205,\"name\":\"靖國神社御靈祭 Mitama Matsuri\",\"rank\":\"排名第 57的千代田區觀光 (共446家)\",\"address\":\"東京都千代田區3-1-1 Kudan Kita102-8246\",\"child\":0.0,\"latitude\":35.694136,\"longitude\":139.743849,\"score\":70,\"chosen\":true},{\"index\":239,\"name\":\" Amuse Museum\",\"rank\":\"排名第 51的台東區觀光 (共560家)\",\"address\":\"東京都台東區2-34-3 Asakusa111-0032\",\"child\":0.0,\"latitude\":35.7145365,\"longitude\":139.7979333,\"score\":70,\"chosen\":true},{\"index\":127,\"name\":\"日本武道館 Nippon Budokan\",\"rank\":\"排名第 25的千代田區觀光 (共446家)\",\"address\":\"東京都千代田區北之丸公園2-3102-0091\",\"child\":0.0,\"latitude\":35.6919267,\"longitude\":139.7505761,\"score\":114,\"chosen\":true}]', '[{\"index\":54,\"name\":\"東京都美術館 Tokyo Metropolitan Art Museum\",\"rank\":\"排名第 16的台東區觀光 (共560家)\",\"address\":\"東京都台東區8-36 Uenokoen110-0007\",\"child\":0.0205605849,\"latitude\":35.7125736,\"longitude\":139.7802043,\"score\":70,\"chosen\":true},{\"index\":6,\"name\":\"東京國立博物館 Tokyo National Museum\",\"rank\":\"排名第 5的台東區觀光 (共560家)\",\"address\":\"東京都台東區上野公園13-9110-0007\",\"child\":0.0509912925,\"latitude\":35.719252,\"longitude\":139.7760709,\"score\":114,\"chosen\":true},{\"index\":106,\"name\":\"上野東照宮 Toshogu Shrine\",\"rank\":\"排名第 17的台東區觀光 (共560家)\",\"address\":\"東京都台東區上野公園9-88\",\"child\":0.0,\"latitude\":35.7153714,\"longitude\":139.7706346,\"score\":183,\"chosen\":true}]', '[{\"index\":173,\"name\":\"出光美術館 Idemitsu Museum\",\"rank\":\"排名第 1的Marunouchi觀光 (共7家)\",\"address\":\"東京都千代田區Marunouchi3-1-1 Marunouchi9F Teigeki Building100-0005\",\"child\":0.0,\"latitude\":35.6767601,\"longitude\":139.7611088,\"score\":70,\"chosen\":true},{\"index\":113,\"name\":\"築地本願寺 Tsukiji Honganji Temple\",\"rank\":\"排名第 14的中央區觀光 (共577家)\",\"address\":\"東京都中央區築地3-15-1104-0045\",\"child\":0.0040449578,\"latitude\":35.6667982,\"longitude\":139.7719172,\"score\":114,\"chosen\":true},{\"index\":238,\"name\":\"銀座東急Plaza購物中心 Tokyu Plaza Ginza\",\"rank\":\"排名第 23的中央區觀光 (共577家)\",\"address\":\"東京都中央區5-2-1 Ginza104-0061\",\"child\":0.0,\"latitude\":35.6721757,\"longitude\":139.7624406,\"score\":84,\"chosen\":true}]', '[{\"index\":194,\"name\":\"東京都寫真美術館 Tokyo Photographic Art Museum\",\"rank\":\"排名第 5的目黑區觀光 (共108家)\",\"address\":\"東京都目黑區三田1-13-3-惠比壽公園綜合商業區內In Ebisu Garden Place153-0062\",\"child\":0.0,\"latitude\":35.642145,\"longitude\":139.713487,\"score\":70,\"chosen\":true},{\"index\":262,\"name\":\" The University Art Museum - Tokyo University of the Arts\",\"rank\":\"排名第 41的台東區觀光 (共560家)\",\"address\":\"東京都台東區12-8 Uenokoen110-8714\",\"child\":0.0,\"latitude\":35.7192698,\"longitude\":139.7722674,\"score\":70,\"chosen\":true},{\"index\":22,\"name\":\"東京國立美術館 The National Art Center, Tokyo\",\"rank\":\"排名第 7的港區觀光 (共626家)\",\"address\":\"東京都港區7-22-2 Roppongi106-8558\",\"child\":0.0171414473,\"latitude\":35.665289,\"longitude\":139.726374,\"score\":70,\"chosen\":true}]', '[{\"index\":45,\"name\":\"東京都庭園美術館 Tokyo Metropolitan Teien Art Museum\",\"rank\":\"排名第 9的港區觀光 (共626家)\",\"address\":\"東京都港區白金台5-21-9108-0071\",\"child\":0.0,\"latitude\":35.6381742,\"longitude\":139.7198607,\"score\":70,\"chosen\":true},{\"index\":71,\"name\":\"柴又帝釋天(帝釋天題經寺) Shibamata Taishakuten (Taishakuten Daikyoji Temple)\",\"rank\":\"排名第 2的葛飾區觀光 (共139家)\",\"address\":\"東京都葛飾區紫又7丁目10番3號125-0052\",\"child\":0.0,\"latitude\":35.758178,\"longitude\":139.8783651,\"score\":114,\"chosen\":true},{\"index\":97,\"name\":\"深川不動堂 Fukagawa Fudodo\",\"rank\":\"排名第 6的江東區觀光 (共343家)\",\"address\":\"東京都江東區1-17-13 Tomioka135-0047\",\"child\":0.0,\"latitude\":35.6730205,\"longitude\":139.798301,\"score\":114,\"chosen\":true}]']\n",
      "{'age': 31, 'been2tko': 0, 'days': 7, 'budget': 10000, 'isFemale': 0, 'hotel budget': 1000}\n",
      "{'CP': 2.982954545, 'pre': 2.0, '交通1': '淺草站 - 走路 4 分鐘', '交通2': '東京晴空塔站 - 走路 20 分鐘', '交通3': '東京, 日本 (NRT-成田國際機場) - 車程 45 分鐘', '交通便利性': '4', '價格': 1408.0, '地址': '1-5-3, Asakusa, Taito-ku, 東京', '廚房': 0.0, '星等': 3.0, '經度': 139.79419, '網址': 'https://www.expedia.com.tw/Tokyo-Hotels-Asakusa-Central-Hotel.h16517781.Hotel-Information?chkin=2019%2F10%2F4&chkout=2019%2F10%2F5&regionId=179900&destination=%E6%9D%B1%E4%BA%AC+%28%E5%8F%8A%E9%84%B0%E8%BF%91%E5%9C%B0%E5%8D%80%29%2C+%E6%97%A5%E6%9C%AC&swpToggleOn=true&rm1=a1&x_pwa=1&sort=recommended&top_dp=1408&top_cur=TWD&rfrr=HSR&pwa_ts=1570019406618', '緯度': 35.71144, '評價': 4.2, '鄰近景點1': '淺草寺雷門 - 步行 7 分鐘', '鄰近景點2': '淺草神社 - 步行 7 分鐘', '鄰近景點3': '東京晴空塔 - 開車 2 分鐘', '鄰近景點4': '國立科學博物館 - 開車 3 分鐘', '鄰近景點5': '江戶東京博物館 - 開車 3 分鐘', '飯店名稱': '淺草中央飯店'}\n",
      "{'age': 31, 'been2tko': 0, 'days': 7, 'totalBudget': 10000, 'gender': 0, 'oneBudget': 300}\n",
      "[{'age': 44, 'cp_rating_dinner': 3.55, 'cp_rating_lunch': 2.98, 'feeling_rating_dinner': 3.74, 'feeling_rating_lunch': 3.09, 'female_prop': 23.85, 'label_code': 1, 'label_desc': '平消族', 'lat': 35.6903894, 'lng': 139.7826271, 'male_prop': 76.15, 'meal_duration': 1.0, 'prices_dinner': 4961, 'prices_lunch': 1559, 'rest_addr': '東京都中央區東日本橋3-1-3', 'rest_area': '人形町・小傳馬町', 'rest_catg': '壽司', 'rest_rating': 3.83, 'service_rating_dinner': 3.76, 'service_rating_lunch': 3.0, 'store_nm_en': 'Sushiichijou', 'store_nm_jp': '鮨 一條', 'transport': '馬喰横山駅より徒歩3分\\n\\n\\n距离馬食橫山 201  米'}, {'age': 42, 'cp_rating_dinner': 3.23, 'cp_rating_lunch': 3.65, 'feeling_rating_dinner': 4.22, 'feeling_rating_lunch': 4.31, 'female_prop': 24.19, 'label_code': 0, 'label_desc': '高消族', 'lat': 35.6714573, 'lng': 139.7609932, 'male_prop': 75.81, 'meal_duration': 1.0, 'prices_dinner': 15591, 'prices_lunch': 7087, 'rest_addr': '東京都中央區銀座6-3-15', 'rest_area': '銀座', 'rest_catg': '壽司', 'rest_rating': 4.46, 'service_rating_dinner': 4.26, 'service_rating_lunch': 4.32, 'store_nm_en': 'Kiyota', 'store_nm_jp': 'きよ田', 'transport': '東京メトロ 各 銀座駅C2出口\\u3000徒歩5分\\n\\n\\n距离銀座 293  米'}, {'age': 36, 'cp_rating_dinner': 3.98, 'cp_rating_lunch': 3.33, 'feeling_rating_dinner': 3.96, 'feeling_rating_lunch': 4.17, 'female_prop': 23.67, 'label_code': 1, 'label_desc': '平消族', 'lat': 35.6860577, 'lng': 139.6925323, 'male_prop': 76.33, 'meal_duration': 1.0, 'prices_dinner': 7087, 'prices_lunch': 425, 'rest_addr': '東京都新宿區西新宿3-4-1', 'rest_area': '新宿', 'rest_catg': '壽司', 'rest_rating': 3.81, 'service_rating_dinner': 3.92, 'service_rating_lunch': 4.17, 'store_nm_en': 'Sushiiwase', 'store_nm_jp': 'すし岩瀬', 'transport': '距离都廳前 507  米'}, {'age': 41, 'cp_rating_dinner': 3.81, 'cp_rating_lunch': 4.09, 'feeling_rating_dinner': 3.65, 'feeling_rating_lunch': 3.76, 'female_prop': 23.81, 'label_code': 1, 'label_desc': '平消族', 'lat': 35.6677127, 'lng': 139.7705748, 'male_prop': 76.19, 'meal_duration': 1.0, 'prices_dinner': 4961, 'prices_lunch': 2551, 'rest_addr': '東京都中央區築地2-14-2', 'rest_area': '築地', 'rest_catg': '天婦羅', 'rest_rating': 3.82, 'service_rating_dinner': 3.57, 'service_rating_lunch': 3.61, 'store_nm_en': 'Nakagawa', 'store_nm_jp': 'なかがわ', 'transport': '築地駅２番出口より徒歩２分、１番出口から徒歩３分。\\n築地の小学校（？）のフェンスを右手に歩くと左側にあります。\\n\\n\\n距离築地 188  米'}, {'age': 39, 'cp_rating_dinner': 3.57, 'cp_rating_lunch': 3.91, 'feeling_rating_dinner': 4.09, 'feeling_rating_lunch': 4.38, 'female_prop': 23.91, 'label_code': 0, 'label_desc': '高消族', 'lat': 35.6701362, 'lng': 139.7611416, 'male_prop': 76.09, 'meal_duration': 1.0, 'prices_dinner': 7087, 'prices_lunch': 7087, 'rest_addr': '東京都中央區銀座7-4-5', 'rest_area': '銀座', 'rest_catg': '天婦羅', 'rest_rating': 3.84, 'service_rating_dinner': 4.07, 'service_rating_lunch': 4.3, 'store_nm_en': 'Tempuraiwai', 'store_nm_jp': '天冨良 いわ井', 'transport': '距离銀座 338  米'}, {'age': 43, 'cp_rating_dinner': 3.25, 'cp_rating_lunch': 3.17, 'feeling_rating_dinner': 4.1, 'feeling_rating_lunch': 4.23, 'female_prop': 22.36, 'label_code': 1, 'label_desc': '平消族', 'lat': 35.696381, 'lng': 139.768758, 'male_prop': 77.64, 'meal_duration': 1.0, 'prices_dinner': 2551, 'prices_lunch': 2551, 'rest_addr': '東京都韆代田區神田須田町1-15', 'rest_area': '神田・御茶之水', 'rest_catg': '壽喜燒/雞肉料理', 'rest_rating': 3.76, 'service_rating_dinner': 3.48, 'service_rating_lunch': 3.42, 'store_nm_en': 'Botan', 'store_nm_jp': 'ぼたん', 'transport': '東京メトロ丸ノ内線 淡路町駅 A3番出口 徒歩2分\\n都営新宿線 小川町駅 A3番出口 徒歩2分\\n東京メトロ銀座線 神田駅 6番出口 徒歩5分\\nＪＲ 神田駅 東口 徒歩7分\\nＪＲ 秋葉原駅 電気街口 徒歩7分\\nＪＲ 御茶ノ水駅 聖橋口 徒歩7分\\n\\n\\n距离淡路町 197  米'}, {'age': 36, 'cp_rating_dinner': 3.42, 'cp_rating_lunch': 3.44, 'feeling_rating_dinner': 3.43, 'feeling_rating_lunch': 3.43, 'female_prop': 23.83, 'label_code': 1, 'label_desc': '平消族', 'lat': 35.7330425, 'lng': 139.7021772, 'male_prop': 76.17, 'meal_duration': 1.0, 'prices_dinner': 425, 'prices_lunch': 425, 'rest_addr': '東京都豐島區池袋3-1-4', 'rest_area': '要町～平和台（有樂町線）', 'rest_catg': '拉麵', 'rest_rating': 3.78, 'service_rating_dinner': 3.46, 'service_rating_lunch': 3.41, 'store_nm_en': 'Mendokoroshinohara', 'store_nm_jp': '麺処 篠はら', 'transport': '東京メトロ有楽町線\\u3000要町駅\\u3000徒歩５分\\n各線\\u3000池袋駅\\u3000西口徒歩１０分\\n\\n\\n距离要町 315  米'}, {'age': 42, 'cp_rating_dinner': 3.3, 'cp_rating_lunch': 3.32, 'feeling_rating_dinner': 3.25, 'feeling_rating_lunch': 3.36, 'female_prop': 23.56, 'label_code': 1, 'label_desc': '平消族', 'lat': 35.6870985, 'lng': 139.764569, 'male_prop': 76.44, 'meal_duration': 1.0, 'prices_dinner': 425, 'prices_lunch': 142, 'rest_addr': '東京都韆代田區汍の內1-9-1', 'rest_area': '丸之內・大手町', 'rest_catg': '沾麵/拉麵', 'rest_rating': 3.79, 'service_rating_dinner': 3.36, 'service_rating_lunch': 3.36, 'store_nm_en': 'Rokurinsha', 'store_nm_jp': '六厘舎', 'transport': 'JR各線「東京」駅の八重洲口B1F\\n在来線、東海道新幹線 八重洲中央南口改札を出て、すぐ右へ。階段下りてすぐ 。\\nもしくは、八重洲地下中央改札出て右へ。突き当たり手前左側。\\n\\n\\n距离東京 130  米'}, {'age': 38, 'cp_rating_dinner': 3.55, 'cp_rating_lunch': 3.3, 'feeling_rating_dinner': 3.74, 'feeling_rating_lunch': 3.68, 'female_prop': 27.71, 'label_code': 2, 'label_desc': '低消族', 'lat': 35.6974531, 'lng': 139.7596196, 'male_prop': 72.29, 'meal_duration': 1.0, 'prices_dinner': 142, 'prices_lunch': 142, 'rest_addr': '東京都韆代田區神田猿樂町1-2-4', 'rest_area': '神保町・水道橋', 'rest_catg': '沾麵/拉麵', 'rest_rating': 3.75, 'service_rating_dinner': 3.69, 'service_rating_lunch': 3.87, 'store_nm_en': 'Kandakatsumoto', 'store_nm_jp': '神田 勝本', 'transport': '地下鉄神保町駅 A5出口\\u3000徒歩5分\\nJR御茶ノ水駅 御茶ノ水口\\u3000徒歩7分\\n地下鉄新御茶ノ水駅 B3b出口\\u3000徒歩10分\\n\\n\\n距离神保町 251  米'}, {'age': 40, 'cp_rating_dinner': 3.66, 'cp_rating_lunch': 3.71, 'feeling_rating_dinner': 3.92, 'feeling_rating_lunch': 4.02, 'female_prop': 24.16, 'label_code': 1, 'label_desc': '平消族', 'lat': 35.6717099, 'lng': 139.76326, 'male_prop': 75.84, 'meal_duration': 1.0, 'prices_dinner': 4961, 'prices_lunch': 2551, 'rest_addr': '東京都中央區銀座5-4-6', 'rest_area': '銀座', 'rest_catg': '鐵板燒/牛排', 'rest_rating': 3.76, 'service_rating_dinner': 4.12, 'service_rating_lunch': 4.01, 'store_nm_en': 'Kira Ginza', 'store_nm_jp': '佐賀牛 季楽 銀座 ', 'transport': '東京メトロ日比谷線・丸の内線・銀座線「銀座駅」B5出口から徒歩1分\\n\\n\\n距离銀座 84  米'}, {'age': 37, 'cp_rating_dinner': 3.49, 'cp_rating_lunch': 3.64, 'feeling_rating_dinner': 4.3, 'feeling_rating_lunch': 4.39, 'female_prop': 24.45, 'label_code': 1, 'label_desc': '平消族', 'lat': 35.6674536, 'lng': 139.7068537, 'male_prop': 75.55, 'meal_duration': 1.0, 'prices_dinner': 7087, 'prices_lunch': 3543, 'rest_addr': '東京都澀穀區神宮前5-10-1', 'rest_area': '原宿', 'rest_catg': '鐵板燒/牛排', 'rest_rating': 3.76, 'service_rating_dinner': 4.16, 'service_rating_lunch': 4.32, 'store_nm_en': 'OMOTESANDO Ukai-tei', 'store_nm_jp': '表参道うかい亭', 'transport': '地下鉄銀座線・千代田線・半蔵門線\\u3000表参道駅A1出口\\u3000徒歩5分\\n地下鉄千代田線・副都心線\\u3000明治神宮駅4番出口\\u3000徒歩3分\\nＪＲ原宿駅\\u3000徒歩7分\\n\\n\\n距离明治神宮前 323  米'}, {'age': 40, 'cp_rating_dinner': 3.34, 'cp_rating_lunch': 3.62, 'feeling_rating_dinner': 3.18, 'feeling_rating_lunch': 3.33, 'female_prop': 24.21, 'label_code': 1, 'label_desc': '平消族', 'lat': 35.6973764, 'lng': 139.7597146, 'male_prop': 75.79, 'meal_duration': 1.0, 'prices_dinner': 142, 'prices_lunch': 142, 'rest_addr': '東京都韆代田區神田猿樂町1-2-3', 'rest_area': '神保町・水道橋', 'rest_catg': '印度咖哩/咖哩飯', 'rest_rating': 3.76, 'service_rating_dinner': 3.15, 'service_rating_lunch': 3.21, 'store_nm_en': 'Indokarekama', 'store_nm_jp': 'インドカレーカーマ', 'transport': '都営地下鉄三田線・新宿線、東京メトロ半蔵門線【神保町駅】徒歩４分\\n中央線・総武線・東京メトロ丸ノ内線【御茶ノ水】徒歩10分\\n\\n\\n距离神保町 243  米'}, {'age': 45, 'cp_rating_dinner': 3.42, 'cp_rating_lunch': 3.37, 'feeling_rating_dinner': 3.85, 'feeling_rating_lunch': 3.76, 'female_prop': 23.45, 'label_code': 1, 'label_desc': '平消族', 'lat': 35.7205432, 'lng': 139.7645591, 'male_prop': 76.55, 'meal_duration': 1.0, 'prices_dinner': 142, 'prices_lunch': 425, 'rest_addr': '東京都文京區根津2-32-8', 'rest_area': '根津・千駄木・谷中', 'rest_catg': '蕎麥麵', 'rest_rating': 3.77, 'service_rating_dinner': 3.59, 'service_rating_lunch': 3.64, 'store_nm_en': 'teuchisobanedutakajou', 'store_nm_jp': '手打ちそば 根津 鷹匠', 'transport': '東京メトロ千代田線【根津駅】徒歩５分\\n東京メトロ千代田線【千駄木駅】徒歩８分\\n\\n\\n距离根津 371  米'}, {'age': 39, 'cp_rating_dinner': 3.96, 'cp_rating_lunch': 4.0, 'feeling_rating_dinner': 3.35, 'feeling_rating_lunch': 3.27, 'female_prop': 23.48, 'label_code': 1, 'label_desc': '平消族', 'lat': 35.6854123, 'lng': 139.7753649, 'male_prop': 76.52, 'meal_duration': 1.5, 'prices_dinner': 142, 'prices_lunch': 142, 'rest_addr': '東京都中央區日本橋室町1-11-15', 'rest_area': '日本橋・京橋', 'rest_catg': '炸蝦丼飯・炸蝦便當/便當/星鰻', 'rest_rating': 3.77, 'service_rating_dinner': 3.39, 'service_rating_lunch': 3.28, 'store_nm_en': 'nihombashitendonkanekohannosuke', 'store_nm_jp': '日本橋 天丼 金子半之助 本店', 'transport': '東京メトロ半蔵門線・銀座線「三越前」駅(A1出口)から徒歩1分\\n東京メトロ東西線「日本橋」駅から徒歩4分\\nJR総武本線「新日本橋」駅から徒歩5分\\n\\n\\n距离三越前 157  米'}]\n"
     ]
    },
    {
     "name": "stdout",
     "output_type": "stream",
     "text": [
      "=====================\n",
      " 第1天行程：\n",
      " Amuse Museum約1.2 公里，景點間通勤約需8 分鐘。\n",
      "---------------\n",
      "日本武道館 Nippon Budokan約8.9 公里，景點間通勤約需16 分鐘。\n",
      "---------------\n",
      "靖國神社御靈祭 Mitama Matsuri約2.1 公里，景點間通勤約需6 分鐘。\n",
      "---------------\n",
      "\n",
      "地圖連結：https://45a28610.ngrok.io/images/day1-U6862a7797fb21baaca9d110ccc061758-1574394624073map.html\n",
      "===============\n",
      "第2天行程：\n",
      "上野東照宮 Toshogu Shrine約2.9 公里，景點間通勤約需11 分鐘。\n",
      "---------------\n",
      "東京國立博物館 Tokyo National Museum約1.3 公里，景點間通勤約需5 分鐘。\n",
      "---------------\n",
      "東京都美術館 Tokyo Metropolitan Art Museum約1.9 公里，景點間通勤約需7 分鐘。\n",
      "---------------\n",
      "\n",
      "地圖連結：https://45a28610.ngrok.io/images/day2-U6862a7797fb21baaca9d110ccc061758-1574394624073map.html\n",
      "===============\n",
      "第3天行程：\n",
      "築地本願寺 Tsukiji Honganji Temple約7.4 公里，景點間通勤約需15 分鐘。\n",
      "---------------\n",
      "銀座東急Plaza購物中心 Tokyu Plaza Ginza約1.7 公里，景點間通勤約需7 分鐘。\n",
      "---------------\n",
      "出光美術館 Idemitsu Museum約1.6 公里，景點間通勤約需7 分鐘。\n",
      "---------------\n",
      "\n",
      "地圖連結：https://45a28610.ngrok.io/images/day3-U6862a7797fb21baaca9d110ccc061758-1574394624073map.html\n",
      "===============\n",
      "第4天行程：\n",
      "東京國立美術館 The National Art Center, Tokyo約14.4 公里，景點間通勤約需26 分鐘。\n",
      "---------------\n",
      "東京都寫真美術館 Tokyo Photographic Art Museum約4.1 公里，景點間通勤約需12 分鐘。\n",
      "---------------\n",
      " The University Art Museum - Tokyo University of the Arts約15.5 公里，景點間通勤約需23 分鐘。\n",
      "---------------\n",
      "\n",
      "地圖連結：https://45a28610.ngrok.io/images/day4-U6862a7797fb21baaca9d110ccc061758-1574394624073map.html\n",
      "===============\n",
      "第5天行程：\n",
      "東京都庭園美術館 Tokyo Metropolitan Teien Art Museum約15.1 公里，景點間通勤約需22 分鐘。\n",
      "---------------\n",
      "深川不動堂 Fukagawa Fudodo約18.0 公里，景點間通勤約需19 分鐘。\n",
      "---------------\n",
      "柴又帝釋天(帝釋天題經寺) Shibamata Taishakuten (Taishakuten Daikyoji Temple)約17.8 公里，景點間通勤約需28 分鐘。\n",
      "---------------\n",
      "\n",
      "地圖連結：https://45a28610.ngrok.io/images/day5-U6862a7797fb21baaca9d110ccc061758-1574394624073map.html\n",
      "===============\n",
      " \n",
      "=======================\n"
     ]
    },
    {
     "name": "stderr",
     "output_type": "stream",
     "text": [
      "172.18.0.6 - - [22/Nov/2019 03:50:51] \"POST / HTTP/1.1\" 200 -\n"
     ]
    },
    {
     "name": "stdout",
     "output_type": "stream",
     "text": [
      "::tripStart:\n",
      "Nihili Feng,U6862a7797fb21baaca9d110ccc061758\n",
      "{\"data\": \"tripStart\"}\n",
      "1574394624805,2019-11-22 03:50:24.805000\n",
      "{'age': 31, 'been2tko': 0, 'days': 7, 'budget': 10000, 'isFemale': 0, 'fbudget': 3000, 'dDate': '2019-11-30', 'rDate': '2019-12-07'}\n",
      "{'airline': 'Tigerair Taiwan', 'date_format(eta,\"%a\")': 'Sat', 'date_format(etd,\"%a\")': 'Sat', 'date_format(saEta,\"%a\")': 'Sat', 'date_format(saEtd,\"%a\")': 'Sat', 'price': 7767, 'time_format(eta,\"%T\")': '10:35:00', 'time_format(etd,\"%T\")': '06:35:00', 'time_format(saEta,\"%T\")': '21:50:00', 'time_format(saEtd,\"%T\")': '18:30:00', 'time_format(sec_to_time(dur),\"%T\")': '03:00:00', 'time_format(sec_to_time(saDur),\"%T\")': '04:20:00'}\n",
      "bk by sat\n",
      "{'age': 31, 'been2tko': 0, 'howlong': 7, 'budget': 10000, 'isFemale': 0, 'with_child': 0, 'crampedSechedule': False}\n",
      "['[{\"index\":265,\"name\":\"東京迪士尼海洋樂園 Tokyo DisneySea\",\"rank\":\"排名第 1的Maihama觀光 (共5家)\",\"address\":\"千葉縣浦安Maihama1-13279-0031\",\"child\":0.75,\"latitude\":35.62675,\"longitude\":139.885095,\"score\":94,\"chosen\":true}]', '[{\"index\":75,\"name\":\" The Sumida Hokusai Museum\",\"rank\":\"排名第 5的墨田區觀光 (共264家)\",\"address\":\"東京都墨田區2-7-2 Kamezawa130-0014\",\"child\":0.0904485493,\"latitude\":35.693465,\"longitude\":139.8006398,\"score\":70,\"chosen\":true},{\"index\":264,\"name\":\"東京迪士尼樂園 Tokyo Disneyland\",\"rank\":\"排名第 2的Maihama觀光 (共5家)\",\"address\":\"千葉縣浦安Maihama1-1279-8511\",\"child\":1.0,\"latitude\":35.632906,\"longitude\":139.880391,\"score\":94,\"chosen\":true},{\"index\":123,\"name\":\" Kuhombutsu Joshin-ji Temple\",\"rank\":\"排名第 8的世田谷區觀光 (共235家)\",\"address\":\"東京都世田谷區7-41-3 Okusawa158-0083\",\"child\":0.0790883819,\"latitude\":35.6081252,\"longitude\":139.661249,\"score\":114,\"chosen\":true}]', '[{\"index\":136,\"name\":\"原美術館 Hara Museum of Contemporary Art (Hara Bijutsukan)\",\"rank\":\"排名第 6的品川區觀光 (共211家)\",\"address\":\"東京都品川區北品川4-7-25140-0001\",\"child\":0.0,\"latitude\":35.6218719,\"longitude\":139.7364627,\"score\":70,\"chosen\":true},{\"index\":49,\"name\":\"築地外圍海鮮市場 Tsukiji Jogaii Market\",\"rank\":\"排名第 7的中央區觀光 (共577家)\",\"address\":\"東京都中央區築地104-0045\",\"child\":0.0016342908,\"latitude\":35.6640869,\"longitude\":139.7715977,\"score\":200,\"chosen\":true},{\"index\":216,\"name\":\"目黑河燈飾展 megurogawa MINNA no ILLUMI\",\"rank\":\"排名第 7的品川區觀光 (共211家)\",\"address\":\"東京都品川區2-9-5 Higashi Gotanda141-0022\",\"child\":0.0,\"latitude\":35.6245967,\"longitude\":139.7264547,\"score\":70,\"chosen\":true}]', '[{\"index\":196,\"name\":\"日本損保東鄉青兒美術館 Seiji Togo Memorial Sompo Japan Nipponkoa Museum of Art\",\"rank\":\"排名第 3的Nishishinjuku觀光 (共18家)\",\"address\":\"東京都新宿區Nishishinjuku1-26-1Sompo Japan Nipponkoa Head Office Bldg. 42F160-8338\",\"child\":0.0,\"latitude\":35.6924495,\"longitude\":139.6958457,\"score\":70,\"chosen\":true},{\"index\":25,\"name\":\"歌舞伎劇場 Kabukiza Theater\",\"rank\":\"排名第 1的Ginza觀光 (共50家)\",\"address\":\"東京都中央區Ginza銀座4-12-15104-0061\",\"child\":0.0365922182,\"latitude\":35.6696465,\"longitude\":139.7679235,\"score\":70,\"chosen\":true},{\"index\":46,\"name\":\"Kidzania兒童社會體驗活動中心 KidZania Tokyo\",\"rank\":\"排名第 1的Toyosu觀光 (共5家)\",\"address\":\"東京都江東區Toyosu豐洲2-4-9 Lalaport豐洲商城Urban Dock LaLaport Toyosu  North Port  3F135-8614\",\"child\":0.8848924101,\"latitude\":35.655718,\"longitude\":139.7926033,\"score\":114,\"chosen\":true}]', '[{\"index\":88,\"name\":\"東京國立博物館 平成館 Tokyo National Museum The Heiseikan\",\"rank\":\"排名第 1的Uenokoen觀光 (共10家)\",\"address\":\"東京都台東區Uenokoen13-9 UenokoenInside Tokyo National Museum110-8712\",\"child\":0.0780507337,\"latitude\":35.7188351,\"longitude\":139.7765215,\"score\":70,\"chosen\":true},{\"index\":54,\"name\":\"東京都美術館 Tokyo Metropolitan Art Museum\",\"rank\":\"排名第 16的台東區觀光 (共560家)\",\"address\":\"東京都台東區8-36 Uenokoen110-0007\",\"child\":0.0205605849,\"latitude\":35.7125736,\"longitude\":139.7802043,\"score\":70,\"chosen\":true},{\"index\":106,\"name\":\"上野東照宮 Toshogu Shrine\",\"rank\":\"排名第 17的台東區觀光 (共560家)\",\"address\":\"東京都台東區上野公園9-88\",\"child\":0.0,\"latitude\":35.7153714,\"longitude\":139.7706346,\"score\":183,\"chosen\":true}]', '[{\"index\":118,\"name\":\"朝倉雕塑館 ASAKURA Museum of Sculpture, Taito\",\"rank\":\"排名第 14的台東區觀光 (共560家)\",\"address\":\"東京都台東區谷中7-18-10110-0001\",\"child\":0.0,\"latitude\":35.7269979,\"longitude\":139.7685625,\"score\":70,\"chosen\":true},{\"index\":5,\"name\":\"銀座 Ginza\",\"rank\":\"排名第 3的中央區觀光 (共577家)\",\"address\":\"東京都中央區銀座104-0061\",\"child\":0.011018824,\"latitude\":35.6712228,\"longitude\":139.7664859,\"score\":114,\"chosen\":true},{\"index\":146,\"name\":\"文京居民活動中心 Bunkyo Civic Center\",\"rank\":\"排名第 7的文京區觀光 (共297家)\",\"address\":\"東京都文京區1-16-21 Kasuga112-0003\",\"child\":0.0349650762,\"latitude\":35.7083399,\"longitude\":139.7351057,\"score\":114,\"chosen\":true}]']\n",
      "{'age': 31, 'been2tko': 0, 'days': 7, 'budget': 10000, 'isFemale': 0, 'hotel budget': 1000}\n",
      "{'CP': 2.982954545, 'pre': 2.0, '交通1': '淺草站 - 走路 4 分鐘', '交通2': '東京晴空塔站 - 走路 20 分鐘', '交通3': '東京, 日本 (NRT-成田國際機場) - 車程 45 分鐘', '交通便利性': '4', '價格': 1408.0, '地址': '1-5-3, Asakusa, Taito-ku, 東京', '廚房': 0.0, '星等': 3.0, '經度': 139.79419, '網址': 'https://www.expedia.com.tw/Tokyo-Hotels-Asakusa-Central-Hotel.h16517781.Hotel-Information?chkin=2019%2F10%2F4&chkout=2019%2F10%2F5&regionId=179900&destination=%E6%9D%B1%E4%BA%AC+%28%E5%8F%8A%E9%84%B0%E8%BF%91%E5%9C%B0%E5%8D%80%29%2C+%E6%97%A5%E6%9C%AC&swpToggleOn=true&rm1=a1&x_pwa=1&sort=recommended&top_dp=1408&top_cur=TWD&rfrr=HSR&pwa_ts=1570019406618', '緯度': 35.71144, '評價': 4.2, '鄰近景點1': '淺草寺雷門 - 步行 7 分鐘', '鄰近景點2': '淺草神社 - 步行 7 分鐘', '鄰近景點3': '東京晴空塔 - 開車 2 分鐘', '鄰近景點4': '國立科學博物館 - 開車 3 分鐘', '鄰近景點5': '江戶東京博物館 - 開車 3 分鐘', '飯店名稱': '淺草中央飯店'}\n",
      "{'age': 31, 'been2tko': 0, 'days': 7, 'totalBudget': 10000, 'gender': 0, 'oneBudget': 300}\n",
      "[{'age': 41, 'cp_rating_dinner': 4.37, 'cp_rating_lunch': 4.22, 'feeling_rating_dinner': 4.54, 'feeling_rating_lunch': 4.52, 'female_prop': 24.26, 'label_code': 0, 'label_desc': '高消族', 'lat': 35.6818504, 'lng': 139.7849853, 'male_prop': 75.74, 'meal_duration': 1.0, 'prices_dinner': 7087, 'prices_lunch': 7087, 'rest_addr': '東京都中央區日本橋蠣殼町1-33-6', 'rest_area': '人形町・小傳馬町', 'rest_catg': '壽司', 'rest_rating': 4.81, 'service_rating_dinner': 4.59, 'service_rating_lunch': 4.6, 'store_nm_en': 'Sugita', 'store_nm_jp': '日本橋蛎殻町 すぎた', 'transport': '水天宮前駅4番出口から徒歩約2分\\n\\n\\n距离水天宮前 105  米'}, {'age': 44, 'cp_rating_dinner': 3.55, 'cp_rating_lunch': 2.98, 'feeling_rating_dinner': 3.74, 'feeling_rating_lunch': 3.09, 'female_prop': 23.85, 'label_code': 1, 'label_desc': '平消族', 'lat': 35.6903894, 'lng': 139.7826271, 'male_prop': 76.15, 'meal_duration': 1.0, 'prices_dinner': 4961, 'prices_lunch': 1559, 'rest_addr': '東京都中央區東日本橋3-1-3', 'rest_area': '人形町・小傳馬町', 'rest_catg': '壽司', 'rest_rating': 3.83, 'service_rating_dinner': 3.76, 'service_rating_lunch': 3.0, 'store_nm_en': 'Sushiichijou', 'store_nm_jp': '鮨 一條', 'transport': '馬喰横山駅より徒歩3分\\n\\n\\n距离馬食橫山 201  米'}, {'age': 38, 'cp_rating_dinner': 3.94, 'cp_rating_lunch': 3.79, 'feeling_rating_dinner': 4.16, 'feeling_rating_lunch': 2.73, 'female_prop': 24.05, 'label_code': 0, 'label_desc': '高消族', 'lat': 35.6559209, 'lng': 139.7428184, 'male_prop': 75.95, 'meal_duration': 1.0, 'prices_dinner': 7087, 'prices_lunch': 4961, 'rest_addr': '東京都港區東痲佈1-29-15', 'rest_area': '濱松町・芝公園', 'rest_catg': '壽司', 'rest_rating': 4.04, 'service_rating_dinner': 4.07, 'service_rating_lunch': 2.73, 'store_nm_en': 'Sushisugaya', 'store_nm_jp': '鮨 すが弥', 'transport': '都営大江戸線\\u3000赤羽橋駅（中之橋出口）より徒歩2分\\n東京メトロ\\u3000麻布十番駅（３番出口）より徒歩7分\\n都営三田線\\u3000芝公園駅（A4出口）より徒歩10分\\n\\n\\n距离赤羽橋 132  米'}, {'age': 41, 'cp_rating_dinner': 3.71, 'cp_rating_lunch': 3.78, 'feeling_rating_dinner': 3.84, 'feeling_rating_lunch': 3.95, 'female_prop': 24.16, 'label_code': 0, 'label_desc': '高消族', 'lat': 35.6764568, 'lng': 139.770446, 'male_prop': 75.84, 'meal_duration': 1.0, 'prices_dinner': 7087, 'prices_lunch': 3543, 'rest_addr': '東京都中央區京橋2-5-2', 'rest_area': '日本橋・京橋', 'rest_catg': '天婦羅', 'rest_rating': 4.31, 'service_rating_dinner': 3.84, 'service_rating_lunch': 3.99, 'store_nm_en': 'Fukamachi', 'store_nm_jp': 'てんぷら 深町', 'transport': '東京メトロ銀座線 京橋駅 徒歩1分 \\n\\n\\n距离京橋 44  米'}, {'age': 37, 'cp_rating_dinner': 4.26, 'cp_rating_lunch': 3.63, 'feeling_rating_dinner': 4.68, 'feeling_rating_lunch': 3.75, 'female_prop': 24.24, 'label_code': 0, 'label_desc': '高消族', 'lat': 35.6555932, 'lng': 139.7347677, 'male_prop': 75.76, 'meal_duration': 1.0, 'prices_dinner': 9922, 'prices_lunch': 425, 'rest_addr': '東京都港區痲佈十番2-8-6', 'rest_area': '麻布十番', 'rest_catg': '天婦羅', 'rest_rating': 4.56, 'service_rating_dinner': 4.62, 'service_rating_lunch': 3.4, 'store_nm_en': 'Takiya', 'store_nm_jp': 'たきや', 'transport': '都営大江戸線「麻布十番」駅\\u30007番出口\\u3000徒歩3分\\n東京メトロ南北線麻「布十番駅」駅\\u30004番出口\\u3000徒歩3分\\n\\n\\n距离麻布十番 156  米'}, {'age': 37, 'cp_rating_dinner': 3.9, 'cp_rating_lunch': 4.78, 'feeling_rating_dinner': 3.85, 'feeling_rating_lunch': 4.27, 'female_prop': 24.05, 'label_code': 0, 'label_desc': '高消族', 'lat': 35.6986017, 'lng': 139.7034726, 'male_prop': 75.95, 'meal_duration': 1.0, 'prices_dinner': 4961, 'prices_lunch': 2551, 'rest_addr': '東京都新宿區大久保1-12-3', 'rest_area': '新宿', 'rest_catg': '涮涮鍋/壽喜燒/牛肉料理', 'rest_rating': 4.02, 'service_rating_dinner': 3.91, 'service_rating_lunch': 3.85, 'store_nm_en': 'Toukyounikushabuya', 'store_nm_jp': '東京肉しゃぶ家', 'transport': 'JR新宿東口から徒歩10分\\nJR新大久保駅から徒歩8分\\n大江戸線東新宿から徒歩3分\\n西武新宿線西武新宿駅から徒歩4分\\n\\n\\n距离東新宿 375  米'}, {'age': 39, 'cp_rating_dinner': 3.98, 'cp_rating_lunch': 3.83, 'feeling_rating_dinner': 3.34, 'feeling_rating_lunch': 2.95, 'female_prop': 23.77, 'label_code': 1, 'label_desc': '平消族', 'lat': 35.6575445, 'lng': 139.5734779, 'male_prop': 76.23, 'meal_duration': 1.0, 'prices_dinner': 142, 'prices_lunch': 142, 'rest_addr': '東京都調佈市西つつじヶ丘3-25-52', 'rest_area': '調布', 'rest_catg': '拉麵', 'rest_rating': 3.85, 'service_rating_dinner': 3.32, 'service_rating_lunch': 2.84, 'store_nm_en': 'Shibasakitei', 'store_nm_jp': '柴崎亭', 'transport': '京王線つつじヶ丘駅より徒歩三分\\n\\n\\n距离杜鵑丘 131  米'}, {'age': 35, 'cp_rating_dinner': 3.42, 'cp_rating_lunch': 3.98, 'feeling_rating_dinner': 3.77, 'feeling_rating_lunch': 4.31, 'female_prop': 23.81, 'label_code': 1, 'label_desc': '平消族', 'lat': 35.7163051, 'lng': 139.7285696, 'male_prop': 76.19, 'meal_duration': 1.0, 'prices_dinner': 425, 'prices_lunch': 425, 'rest_addr': '東京都文京區音羽1-17-16', 'rest_area': '大塚・護國寺', 'rest_catg': '拉麵/沾麵', 'rest_rating': 3.82, 'service_rating_dinner': 3.59, 'service_rating_lunch': 3.93, 'store_nm_en': 'MENSHO', 'store_nm_jp': 'MENSHO', 'transport': '東京メトロ有楽町線 護国寺駅 6番出口から徒歩2分\\n\\n\\n距离護國寺 337  米'}, {'age': 40, 'cp_rating_dinner': 3.45, 'cp_rating_lunch': 3.51, 'feeling_rating_dinner': 3.28, 'feeling_rating_lunch': 3.16, 'female_prop': 26.53, 'label_code': 2, 'label_desc': '低消族', 'lat': 35.7223898, 'lng': 139.6524692, 'male_prop': 73.47, 'meal_duration': 1.0, 'prices_dinner': 142, 'prices_lunch': 142, 'rest_addr': '東京都中野區野方6-23-12', 'rest_area': '下落合・鷺之宮・下井草', 'rest_catg': '拉麵', 'rest_rating': 3.75, 'service_rating_dinner': 3.45, 'service_rating_lunch': 3.56, 'store_nm_en': 'Misomendokorohanamichi', 'store_nm_jp': '味噌麺処 花道', 'transport': '西武新宿線「野方」駅(北口)から商店街を通り徒歩４分。\\u3000\\n\\n\\n距离野方 314  米'}, {'age': 33, 'cp_rating_dinner': 4.02, 'cp_rating_lunch': 4.76, 'feeling_rating_dinner': 4.24, 'feeling_rating_lunch': 4.76, 'female_prop': 24.16, 'label_code': 0, 'label_desc': '高消族', 'lat': 35.6693111, 'lng': 139.7620223, 'male_prop': 75.84, 'meal_duration': 1.0, 'prices_dinner': 4961, 'prices_lunch': 425, 'rest_addr': '東京都中央區銀座7-7-7', 'rest_area': '銀座', 'rest_catg': '燒肉/牛排/和式餐馆 / 小菜', 'rest_rating': 4.26, 'service_rating_dinner': 4.41, 'service_rating_lunch': 4.76, 'store_nm_en': 'USHIGORO S', 'store_nm_jp': 'USHIGORO S. GINZA', 'transport': '東京メトロ 銀座線、日比谷線、丸ノ内線\\n銀座駅 B3番出口より徒歩3分 / A1番出口より徒歩5分\\n東京メトロ 日比谷線、浅草線\\n東銀座駅 A1番出口より徒歩7分\\nJR有楽町駅 中央口より徒歩7分\\nJR新橋駅 銀座口より徒歩8分\\n\\n\\n距离銀座 345  米'}, {'age': 33, 'cp_rating_dinner': 3.66, 'cp_rating_lunch': 3.43, 'feeling_rating_dinner': 4.03, 'feeling_rating_lunch': 4.26, 'female_prop': 24.24, 'label_code': 0, 'label_desc': '高消族', 'lat': 35.6812537, 'lng': 139.691277, 'male_prop': 75.76, 'meal_duration': 2.0, 'prices_dinner': 9922, 'prices_lunch': 9922, 'rest_addr': '東京都澀穀區代々木4-22-17', 'rest_area': '新宿', 'rest_catg': '法式/牛排/蛋糕', 'rest_rating': 4.62, 'service_rating_dinner': 4.14, 'service_rating_lunch': 4.53, 'store_nm_en': 'Bon.nu', 'store_nm_jp': 'ボニュ', 'transport': 'JR代々木駅 徒歩10分\\n京王新線初台駅 徒歩6分\\n小田急線参宮橋駅 徒歩6分\\n\\n\\n距离參宮橋 358  米'}, {'age': 37, 'cp_rating_dinner': 3.8, 'cp_rating_lunch': 3.85, 'feeling_rating_dinner': 3.57, 'feeling_rating_lunch': 3.92, 'female_prop': 24.13, 'label_code': 1, 'label_desc': '平消族', 'lat': 35.6986708, 'lng': 139.6975592, 'male_prop': 75.87, 'meal_duration': 1.0, 'prices_dinner': 142, 'prices_lunch': 142, 'rest_addr': '東京都新宿區百人町1-24-7', 'rest_area': '大久保・新大久保', 'rest_catg': '咖哩（其它）/台灣料理/咖哩飯', 'rest_rating': 4.12, 'service_rating_dinner': 3.76, 'service_rating_lunch': 3.82, 'store_nm_en': 'Supaishikareroka', 'store_nm_jp': 'SPICY CURRY 魯珈', 'transport': 'ＪＲ中央線（各駅停車）【大久保駅】南口\\u3000徒歩２分\\n西武新宿線【西武新宿駅】北口\\u3000徒歩５分\\nＪＲ山手線【新大久保駅】徒歩７分\\n都営地下鉄大江戸線【新宿西口駅】徒歩９分（地下通路Ｄ５地上口）\\nＪＲ各線【新宿駅】西口\\u3000徒歩12分\\n\\n\\n距离大久保 211  米'}, {'age': 41, 'cp_rating_dinner': 3.88, 'cp_rating_lunch': 4.0, 'feeling_rating_dinner': 3.45, 'feeling_rating_lunch': 3.5, 'female_prop': 23.72, 'label_code': 1, 'label_desc': '平消族', 'lat': 35.6966872, 'lng': 139.7601392, 'male_prop': 76.28, 'meal_duration': 1.0, 'prices_dinner': 142, 'prices_lunch': 142, 'rest_addr': '東京都韆代田區神田小川町3-16-1', 'rest_area': '神保町・水道橋', 'rest_catg': '烏龍麵', 'rest_rating': 3.87, 'service_rating_dinner': 3.5, 'service_rating_lunch': 3.53, 'store_nm_en': 'Udon Maruka', 'store_nm_jp': 'うどん 丸香', 'transport': '都営地下鉄・東京メトロ「神保町」駅(A5出口)から徒歩4分\\nJR中央・総武線各駅停車「御茶ノ水」駅(御茶ノ水橋口)から徒歩7分\\n\\n\\n距离神保町 219  米'}, {'age': 43, 'cp_rating_dinner': 3.24, 'cp_rating_lunch': 3.35, 'feeling_rating_dinner': 3.67, 'feeling_rating_lunch': 3.82, 'female_prop': 23.28, 'label_code': 1, 'label_desc': '平消族', 'lat': 35.6812097, 'lng': 139.7747558, 'male_prop': 76.72, 'meal_duration': 1.0, 'prices_dinner': 1984, 'prices_lunch': 425, 'rest_addr': '東京都中央區日本橋2-9-9', 'rest_area': '日本橋・京橋', 'rest_catg': '魚類料理・海鮮料理/星鰻/天婦羅', 'rest_rating': 3.77, 'service_rating_dinner': 3.39, 'service_rating_lunch': 3.56, 'store_nm_en': 'Tamai', 'store_nm_jp': '玉ゐ 本店', 'transport': 'ＪＲ東京駅八重洲口から高島屋デパート方面へ徒歩8分。東京メトロ銀座線・東西線、都営浅草線日本橋駅から徒歩3分。\\n\\n\\n距离日本橋 106  米'}]\n"
     ]
    },
    {
     "name": "stdout",
     "output_type": "stream",
     "text": [
      "=====================\n",
      " 第1天行程：\n",
      "東京迪士尼海洋樂園 Tokyo DisneySea約18.1 公里，景點間通勤約需28 分鐘。\n",
      "---------------\n",
      "\n",
      "地圖連結：https://45a28610.ngrok.io/images/day1-U6862a7797fb21baaca9d110ccc061758-1574394624803map.html\n",
      "===============\n",
      "第2天行程：\n",
      " The Sumida Hokusai Museum約2.9 公里，景點間通勤約需12 分鐘。\n",
      "---------------\n",
      "東京迪士尼樂園 Tokyo Disneyland約15.2 公里，景點間通勤約需25 分鐘。\n",
      "---------------\n",
      " Kuhombutsu Joshin-ji Temple約30.7 公里，景點間通勤約需48 分鐘。\n",
      "---------------\n",
      "\n",
      "地圖連結：https://45a28610.ngrok.io/images/day2-U6862a7797fb21baaca9d110ccc061758-1574394624803map.html\n",
      "===============\n",
      "第3天行程：\n",
      "築地外圍海鮮市場 Tsukiji Jogaii Market約7.6 公里，景點間通勤約需16 分鐘。\n",
      "---------------\n",
      "原美術館 Hara Museum of Contemporary Art (Hara Bijutsukan)約8.1 公里，景點間通勤約需19 分鐘。\n",
      "---------------\n",
      "目黑河燈飾展 megurogawa MINNA no ILLUMI約1.2 公里，景點間通勤約需4 分鐘。\n",
      "---------------\n",
      "\n",
      "地圖連結：https://45a28610.ngrok.io/images/day3-U6862a7797fb21baaca9d110ccc061758-1574394624803map.html\n",
      "===============\n",
      "第4天行程：\n",
      "Kidzania兒童社會體驗活動中心 KidZania Tokyo約9.5 公里，景點間通勤約需19 分鐘。\n",
      "---------------\n",
      "歌舞伎劇場 Kabukiza Theater約3.6 公里，景點間通勤約需10 分鐘。\n",
      "---------------\n",
      "日本損保東鄉青兒美術館 Seiji Togo Memorial Sompo Japan Nipponkoa Museum of Art約13.3 公里，景點間通勤約需19 分鐘。\n",
      "---------------\n",
      "\n",
      "地圖連結：https://45a28610.ngrok.io/images/day4-U6862a7797fb21baaca9d110ccc061758-1574394624803map.html\n",
      "===============\n",
      "第5天行程：\n",
      "上野東照宮 Toshogu Shrine約2.9 公里，景點間通勤約需11 分鐘。\n",
      "---------------\n",
      "東京國立博物館 平成館 Tokyo National Museum The Heiseikan約1.3 公里，景點間通勤約需5 分鐘。\n",
      "---------------\n",
      "東京都美術館 Tokyo Metropolitan Art Museum約1.9 公里，景點間通勤約需7 分鐘。\n",
      "---------------\n",
      "\n",
      "地圖連結：https://45a28610.ngrok.io/images/day5-U6862a7797fb21baaca9d110ccc061758-1574394624803map.html\n",
      "===============\n",
      "第6天行程：\n",
      "朝倉雕塑館 ASAKURA Museum of Sculpture, Taito約4.0 公里，景點間通勤約需17 分鐘。\n",
      "---------------\n",
      "文京居民活動中心 Bunkyo Civic Center約5.2 公里，景點間通勤約需19 分鐘。\n",
      "---------------\n",
      "銀座 Ginza約7.7 公里，景點間通勤約需18 分鐘。\n",
      "---------------\n",
      "\n",
      "地圖連結：https://45a28610.ngrok.io/images/day6-U6862a7797fb21baaca9d110ccc061758-1574394624803map.html\n",
      "===============\n",
      " \n",
      "=======================\n",
      "type ==> <class 'linebot.exceptions.LineBotApiError'>\n",
      "value ==> LineBotApiError: status_code=400, error_response={\"details\": [], \"message\": \"Invalid reply token\"}\n",
      "traceback ==> file name: <ipython-input-25-a23c8ff16dbb>\n",
      "traceback ==> line no: 156\n",
      "traceback ==> function name: handle_message\n",
      "::tripStart:\n",
      "Nihili Feng,U6862a7797fb21baaca9d110ccc061758\n",
      "{\"data\": \"tripStart\"}\n",
      "1574394624994,2019-11-22 03:50:24.994000\n",
      "{'age': 31, 'been2tko': 0, 'days': 7, 'budget': 10000, 'isFemale': 0, 'fbudget': 3000, 'dDate': '2019-11-30', 'rDate': '2019-12-07'}\n",
      "{'airline': 'Tigerair Taiwan', 'date_format(eta,\"%a\")': 'Sat', 'date_format(etd,\"%a\")': 'Sat', 'date_format(saEta,\"%a\")': 'Sat', 'date_format(saEtd,\"%a\")': 'Sat', 'price': 7767, 'time_format(eta,\"%T\")': '10:35:00', 'time_format(etd,\"%T\")': '06:35:00', 'time_format(saEta,\"%T\")': '21:50:00', 'time_format(saEtd,\"%T\")': '18:30:00', 'time_format(sec_to_time(dur),\"%T\")': '03:00:00', 'time_format(sec_to_time(saDur),\"%T\")': '04:20:00'}\n",
      "bk by sat\n",
      "{'age': 31, 'been2tko': 0, 'howlong': 7, 'budget': 10000, 'isFemale': 0, 'with_child': 0, 'crampedSechedule': False}\n",
      "['[{\"index\":2,\"name\":\"淺草 Asakusa\",\"rank\":\"排名第 1的台東區觀光 (共560家)\",\"address\":\"東京都台東區\",\"child\":0.0087715012,\"latitude\":35.7125736,\"longitude\":139.7802043,\"score\":241,\"chosen\":true},{\"index\":48,\"name\":\"雷門 Nakamise Shopping Street (Kaminarimon)\",\"rank\":\"排名第 18的台東區觀光 (共560家)\",\"address\":\"東京都台東區淺草1丁目3\",\"child\":0.0048539208,\"latitude\":35.7110859,\"longitude\":139.7959648,\"score\":114,\"chosen\":true},{\"index\":35,\"name\":\"淺草文化觀光中心 Asakusa Culture Tourist Information Center\",\"rank\":\"排名第 3的台東區觀光 (共560家)\",\"address\":\"東京都台東區2-18-9 Kaminarimon111-0034\",\"child\":0.0040560983,\"latitude\":35.7106489,\"longitude\":139.7965348,\"score\":106,\"chosen\":true}]', '[{\"index\":265,\"name\":\"東京迪士尼海洋樂園 Tokyo DisneySea\",\"rank\":\"排名第 1的Maihama觀光 (共5家)\",\"address\":\"千葉縣浦安Maihama1-13279-0031\",\"child\":0.75,\"latitude\":35.62675,\"longitude\":139.885095,\"score\":94,\"chosen\":true}]', '[{\"index\":225,\"name\":\"東京馬拉松 Tokyo Marathon\",\"rank\":\"排名第 12的新宿區觀光 (共419家)\",\"address\":\"東京都新宿區2-8-1 NishishinjukuTokyo Metropolitan Government Building163-8001\",\"child\":0.0542821379,\"latitude\":35.6898531,\"longitude\":139.6917321,\"score\":70,\"chosen\":true},{\"index\":51,\"name\":\" Diver City Tokyo購物廣場 Diver City Tokyo Plaza\",\"rank\":\"排名第 8的江東區觀光 (共343家)\",\"address\":\"東京都江東區1-1-10 Aomi135-0064\",\"child\":0.1594495359,\"latitude\":35.6253599,\"longitude\":139.7759888,\"score\":84,\"chosen\":true},{\"index\":9,\"name\":\"江戶東京博物館 Edo-Tokyo Museum\",\"rank\":\"排名第 1的墨田區觀光 (共264家)\",\"address\":\"東京都墨田區橫綱1-4-1130-0015\",\"child\":0.111052142,\"latitude\":35.6991952,\"longitude\":139.796385,\"score\":70,\"chosen\":true}]', '[{\"index\":59,\"name\":\"惠比壽啤酒紀念館 Museum of Yebisu Beer\",\"rank\":\"排名第 12的澀谷區觀光 (共279家)\",\"address\":\"東京都澀谷區惠比壽4-20-1\",\"child\":0.0,\"latitude\":35.643115,\"longitude\":139.7145631,\"score\":70,\"chosen\":true},{\"index\":99,\"name\":\"東京杜莎夫人蠟像館 Madame Tussauds Tokyo\",\"rank\":\"排名第 3的Daiba觀光 (共13家)\",\"address\":\"東京都港區Daiba1-6-1 DaibaDecks Tokyo Beach Island Mall 3F135-0091\",\"child\":0.294644919,\"latitude\":35.6290775,\"longitude\":139.7759233,\"score\":70,\"chosen\":true},{\"index\":38,\"name\":\"上野阿美橫丁商店街 Ameyoko Shopping Street\",\"rank\":\"排名第 2的Ueno觀光 (共7家)\",\"address\":\"東京都台東區UenoUeno\",\"child\":0.012643587,\"latitude\":35.7087296,\"longitude\":139.7741538,\"score\":400,\"chosen\":true}]', '[{\"index\":207,\"name\":\"東京車展 Tokyo Motor Show\",\"rank\":\"排名第 25的江東區觀光 (共343家)\",\"address\":\"東京都江東區3-11 AriakeTokyo Big Sight135-0063\",\"child\":0.0,\"latitude\":35.6296259,\"longitude\":139.7944847,\"score\":70,\"chosen\":true},{\"index\":55,\"name\":\"東京清真寺暨土耳其文化中心 Tokyo Camii & Turkish Culture Center\",\"rank\":\"排名第 3的澀谷區觀光 (共279家)\",\"address\":\"東京都澀谷區1-19 Oyamacho151-0065\",\"child\":0.0258656868,\"latitude\":35.668191,\"longitude\":139.676556,\"score\":114,\"chosen\":true},{\"index\":12,\"name\":\"森美術館 Mori Art Museum\",\"rank\":\"排名第 6的港區觀光 (共626家)\",\"address\":\"東京都港區六本木6-10-1 六本木Hills森塔53層Roppongi Hills Mori Tower 53F106-6150\",\"child\":0.0293691567,\"latitude\":35.6602384,\"longitude\":139.7300767,\"score\":70,\"chosen\":true}]', '[{\"index\":189,\"name\":\"三社祭 Sanja Matsuri\",\"rank\":\"排名第 19的台東區觀光 (共560家)\",\"address\":\"東京都台東區2-3-1 AsakusaAsakusa Shrine111-0032\",\"child\":0.0864315783,\"latitude\":35.7147651,\"longitude\":139.7966553,\"score\":70,\"chosen\":true},{\"index\":192,\"name\":\"隅田川花火大會 Sumida River Fireworks\",\"rank\":\"排名第 12的墨田區觀光 (共264家)\",\"address\":\"東京都墨田區\",\"child\":0.0,\"latitude\":35.7107479,\"longitude\":139.8016393,\"score\":70,\"chosen\":true},{\"index\":130,\"name\":\"日本國會議事堂 National Diet Building\",\"rank\":\"排名第 14的千代田區觀光 (共446家)\",\"address\":\"東京都千代田區永田町1丁目7番1號100-0014\",\"child\":0.0,\"latitude\":35.6758833,\"longitude\":139.7448849,\"score\":114,\"chosen\":true}]', '[{\"index\":45,\"name\":\"東京都庭園美術館 Tokyo Metropolitan Teien Art Museum\",\"rank\":\"排名第 9的港區觀光 (共626家)\",\"address\":\"東京都港區白金台5-21-9108-0071\",\"child\":0.0,\"latitude\":35.6381742,\"longitude\":139.7198607,\"score\":70,\"chosen\":true},{\"index\":5,\"name\":\"銀座 Ginza\",\"rank\":\"排名第 3的中央區觀光 (共577家)\",\"address\":\"東京都中央區銀座104-0061\",\"child\":0.011018824,\"latitude\":35.6712228,\"longitude\":139.7664859,\"score\":114,\"chosen\":true},{\"index\":90,\"name\":\"舊岩崎府邸庭園 Kyu Iwasakitei Teien\",\"rank\":\"排名第 15的台東區觀光 (共560家)\",\"address\":\"東京都台東區池之端1-3-45110-0008\",\"child\":0.0,\"latitude\":35.7094029,\"longitude\":139.767604,\"score\":114,\"chosen\":true}]']\n",
      "{'age': 31, 'been2tko': 0, 'days': 7, 'budget': 10000, 'isFemale': 0, 'hotel budget': 1000}\n",
      "{'CP': 2.982954545, 'pre': 2.0, '交通1': '淺草站 - 走路 4 分鐘', '交通2': '東京晴空塔站 - 走路 20 分鐘', '交通3': '東京, 日本 (NRT-成田國際機場) - 車程 45 分鐘', '交通便利性': '4', '價格': 1408.0, '地址': '1-5-3, Asakusa, Taito-ku, 東京', '廚房': 0.0, '星等': 3.0, '經度': 139.79419, '網址': 'https://www.expedia.com.tw/Tokyo-Hotels-Asakusa-Central-Hotel.h16517781.Hotel-Information?chkin=2019%2F10%2F4&chkout=2019%2F10%2F5&regionId=179900&destination=%E6%9D%B1%E4%BA%AC+%28%E5%8F%8A%E9%84%B0%E8%BF%91%E5%9C%B0%E5%8D%80%29%2C+%E6%97%A5%E6%9C%AC&swpToggleOn=true&rm1=a1&x_pwa=1&sort=recommended&top_dp=1408&top_cur=TWD&rfrr=HSR&pwa_ts=1570019406618', '緯度': 35.71144, '評價': 4.2, '鄰近景點1': '淺草寺雷門 - 步行 7 分鐘', '鄰近景點2': '淺草神社 - 步行 7 分鐘', '鄰近景點3': '東京晴空塔 - 開車 2 分鐘', '鄰近景點4': '國立科學博物館 - 開車 3 分鐘', '鄰近景點5': '江戶東京博物館 - 開車 3 分鐘', '飯店名稱': '淺草中央飯店'}\n",
      "{'age': 31, 'been2tko': 0, 'days': 7, 'totalBudget': 10000, 'gender': 0, 'oneBudget': 300}\n",
      "[{'age': 42, 'cp_rating_dinner': 3.64, 'cp_rating_lunch': 4.43, 'feeling_rating_dinner': 4.09, 'feeling_rating_lunch': 4.32, 'female_prop': 23.73, 'label_code': 1, 'label_desc': '平消族', 'lat': 35.6705623, 'lng': 139.7606164, 'male_prop': 76.27, 'meal_duration': 1.0, 'prices_dinner': 9922, 'prices_lunch': 425, 'rest_addr': '東京都中央區銀座7-3-16', 'rest_area': '銀座', 'rest_catg': '壽司', 'rest_rating': 3.96, 'service_rating_dinner': 3.98, 'service_rating_lunch': 4.49, 'store_nm_en': 'Nojima', 'store_nm_jp': '野じま', 'transport': '距离銀座 362  米'}, {'age': 39, 'cp_rating_dinner': 4.05, 'cp_rating_lunch': 4.25, 'feeling_rating_dinner': 3.45, 'feeling_rating_lunch': 3.62, 'female_prop': 23.53, 'label_code': 1, 'label_desc': '平消族', 'lat': 35.6940309, 'lng': 139.7537719, 'male_prop': 76.47, 'meal_duration': 1.0, 'prices_dinner': 1984, 'prices_lunch': 709, 'rest_addr': '東京都韆代田區汍の內2-6-1', 'rest_area': '丸之內・大手町', 'rest_catg': '壽司/和式餐馆 / 小菜/魚類料理・海鮮料理', 'rest_rating': 3.79, 'service_rating_dinner': 3.66, 'service_rating_lunch': 3.83, 'store_nm_en': 'Mantenzushi', 'store_nm_jp': 'まんてん鮨 丸の内', 'transport': 'ＪＲ東京駅南口：徒歩5分\\u3000\\nＪＲ有楽町駅国際フォーラム口：徒歩5分\\u3000\\n地下鉄千代田線二重橋前駅3番出口：徒歩3分\\u3000\\n\\n\\n距离二重橋前 178  米'}, {'age': 40, 'cp_rating_dinner': 3.69, 'cp_rating_lunch': 3.74, 'feeling_rating_dinner': 3.36, 'feeling_rating_lunch': 3.47, 'female_prop': 24.3, 'label_code': 1, 'label_desc': '平消族', 'lat': 35.6646178, 'lng': 139.7722158, 'male_prop': 75.7, 'meal_duration': 1.0, 'prices_dinner': 1984, 'prices_lunch': 992, 'rest_addr': '東京都中央區築地6-21-2', 'rest_area': '築地', 'rest_catg': '壽司', 'rest_rating': 3.76, 'service_rating_dinner': 3.51, 'service_rating_lunch': 3.64, 'store_nm_en': 'Tsukijisushidai', 'store_nm_jp': '築地すし大 本館', 'transport': '東京メトロ日比谷線 築地駅より徒歩5分\\n\\n\\n距离築地 387  米'}, {'age': 42, 'cp_rating_dinner': 3.64, 'cp_rating_lunch': 3.75, 'feeling_rating_dinner': 3.28, 'feeling_rating_lunch': 3.34, 'female_prop': 23.96, 'label_code': 1, 'label_desc': '平消族', 'lat': 35.5604869, 'lng': 139.7171267, 'male_prop': 76.04, 'meal_duration': 1.0, 'prices_dinner': 142, 'prices_lunch': 425, 'rest_addr': '東京都大田區蒲田5-43-7', 'rest_area': '蒲田', 'rest_catg': '咖哩飯/炸豬排/咖哩（其它）', 'rest_rating': 3.75, 'service_rating_dinner': 3.34, 'service_rating_lunch': 3.34, 'store_nm_en': 'Tonkatsuaokinokareyaippekoppe', 'store_nm_jp': 'とんかつ檍のカレー屋いっぺこっぺ', 'transport': 'ＪＲ京浜東北線「蒲田」駅東口より徒歩４分\\n東急多摩川線・池上線「蒲田」駅より徒歩７分\\n京急本線・空港線「京急蒲田」駅西口より徒歩10分\\n蒲田駅から244m\\n\\n\\n距离蒲田 241  米'}, {'age': 40, 'cp_rating_dinner': 3.57, 'cp_rating_lunch': 3.36, 'feeling_rating_dinner': 3.38, 'feeling_rating_lunch': 3.23, 'female_prop': 23.37, 'label_code': 1, 'label_desc': '平消族', 'lat': 35.708419, 'lng': 139.7737509, 'male_prop': 76.63, 'meal_duration': 1.0, 'prices_dinner': 142, 'prices_lunch': 425, 'rest_addr': '東京都檯東區上野4-3-4', 'rest_area': '上野・御徒町・湯島', 'rest_catg': '炸豬排/可樂餅・油炸食品/定食、食堂', 'rest_rating': 3.76, 'service_rating_dinner': 3.47, 'service_rating_lunch': 3.39, 'store_nm_en': 'tompachitei', 'store_nm_jp': 'とん八亭', 'transport': 'ＪＲ御徒町駅より徒歩２分\\n銀座線上野広小路より徒歩２分\\n大江戸線上野御徒町より徒歩２分\\n日比谷線仲御徒町より徒歩４分\\n千代田線湯島駅より徒歩５分\\n\\n\\n距离上野御徒町 61  米'}, {'age': 40, 'cp_rating_dinner': 3.52, 'cp_rating_lunch': 3.7, 'feeling_rating_dinner': 3.75, 'feeling_rating_lunch': 3.74, 'female_prop': 24.31, 'label_code': 1, 'label_desc': '平消族', 'lat': 35.7159573, 'lng': 139.7936649, 'male_prop': 75.69, 'meal_duration': 1.0, 'prices_dinner': 1559, 'prices_lunch': 1276, 'rest_addr': '東京都檯東區淺草2-17-10', 'rest_area': '淺草', 'rest_catg': '壽喜燒/鍋類（其他）', 'rest_rating': 3.76, 'service_rating_dinner': 3.33, 'service_rating_lunch': 3.43, 'store_nm_en': 'Yonekyuuhonten', 'store_nm_jp': '米久本店', 'transport': 'つくばエクスプレス\\u3000浅草駅\\u3000徒歩３分\\n東京メトロ銀座線、東武伊勢崎線\\u3000浅草駅\\u3000徒歩９分\\n東京メトロ銀座線\\u3000田原町駅\\u3000徒歩９分\\n\\n\\n距离淺草 234  米'}, {'age': 41, 'cp_rating_dinner': 3.34, 'cp_rating_lunch': 3.27, 'feeling_rating_dinner': 3.37, 'feeling_rating_lunch': 3.4, 'female_prop': 23.88, 'label_code': 1, 'label_desc': '平消族', 'lat': 35.6288487, 'lng': 139.6891563, 'male_prop': 76.12, 'meal_duration': 1.0, 'prices_dinner': 425, 'prices_lunch': 142, 'rest_addr': '東京都目黑區鷹番2-4-9', 'rest_area': '學藝大學・都立大學', 'rest_catg': '拉麵/沾麵/日式料理（其他）', 'rest_rating': 3.78, 'service_rating_dinner': 3.32, 'service_rating_lunch': 3.4, 'store_nm_en': 'Mendokorobigiya', 'store_nm_jp': '麺処 びぎ屋', 'transport': '東急東横線「学芸大学」駅から徒歩5分\\n\\n\\n距离學藝大學 359  米'}, {'age': 43, 'cp_rating_dinner': 3.7, 'cp_rating_lunch': 4.07, 'feeling_rating_dinner': 3.7, 'feeling_rating_lunch': 3.27, 'female_prop': 23.74, 'label_code': 1, 'label_desc': '平消族', 'lat': 35.764106, 'lng': 139.8475896, 'male_prop': 76.26, 'meal_duration': 1.0, 'prices_dinner': 142, 'prices_lunch': 142, 'rest_addr': '東京都葛飾區龜有3-11-11', 'rest_area': '葛飾・柴又', 'rest_catg': '拉麵/沾麵', 'rest_rating': 3.95, 'service_rating_dinner': 3.67, 'service_rating_lunch': 3.75, 'store_nm_en': 'teuchishikichoutakasuimennonokura', 'store_nm_jp': '手打式超多加水麺 ののくら', 'transport': 'J R亀有駅南口徒歩4分\\n\\n\\n距离龜有 282  米'}, {'age': 39, 'cp_rating_dinner': 3.14, 'cp_rating_lunch': 3.11, 'feeling_rating_dinner': 3.29, 'feeling_rating_lunch': 3.27, 'female_prop': 24.05, 'label_code': 1, 'label_desc': '平消族', 'lat': 35.7467427, 'lng': 139.805509, 'male_prop': 75.95, 'meal_duration': 1.0, 'prices_dinner': 425, 'prices_lunch': 425, 'rest_addr': '東京都足立區韆住東2-4-17', 'rest_area': '北千住', 'rest_catg': '拉麵', 'rest_rating': 3.76, 'service_rating_dinner': 3.27, 'service_rating_lunch': 3.23, 'store_nm_en': 'Gyuukotsuramemmatadoru', 'store_nm_jp': '牛骨らぁ麺マタドール', 'transport': 'JR常磐線「北千住」駅(東口)から徒歩4分\\n\\n\\n距离北千住 280  米'}, {'age': 33, 'cp_rating_dinner': 4.01, 'cp_rating_lunch': 4.85, 'feeling_rating_dinner': 3.67, 'feeling_rating_lunch': 4.96, 'female_prop': 24.19, 'label_code': 0, 'label_desc': '高消族', 'lat': 35.7048182, 'lng': 139.6376702, 'male_prop': 75.81, 'meal_duration': 1.0, 'prices_dinner': 3543, 'prices_lunch': 425, 'rest_addr': '東京都杉並區阿佐ヶ穀南2-17-2', 'rest_area': '阿佐谷', 'rest_catg': '燒肉/牛肉料理/牛舌', 'rest_rating': 4.42, 'service_rating_dinner': 3.95, 'service_rating_lunch': 4.96, 'store_nm_en': 'SATO Buriand', 'store_nm_jp': 'SATOブリアン にごう', 'transport': '阿佐ヶ谷駅すぐ\\n\\n\\n距离阿佐谷 180  米'}, {'age': 38, 'cp_rating_dinner': 3.37, 'cp_rating_lunch': 3.86, 'feeling_rating_dinner': 3.64, 'feeling_rating_lunch': 3.46, 'female_prop': 23.82, 'label_code': 1, 'label_desc': '平消族', 'lat': 35.6646246, 'lng': 139.7289483, 'male_prop': 76.18, 'meal_duration': 1.0, 'prices_dinner': 3543, 'prices_lunch': 425, 'rest_addr': '東京都港區六本木7-10-2', 'rest_area': '六本木・乃木坂・西麻布', 'rest_catg': '牛排/洋酒吧', 'rest_rating': 3.82, 'service_rating_dinner': 3.52, 'service_rating_lunch': 3.64, 'store_nm_en': 'SHONZUI', 'store_nm_jp': '祥瑞', 'transport': '大江戸戦\\u3000六本木駅\\u3000徒歩５分\\n千代田線\\u3000乃木坂\\u3000徒歩１０分内\\n\\n\\n距离六本木 293  米'}, {'age': 40, 'cp_rating_dinner': 3.64, 'cp_rating_lunch': 4.06, 'feeling_rating_dinner': 3.37, 'feeling_rating_lunch': 3.62, 'female_prop': 23.49, 'label_code': 1, 'label_desc': '平消族', 'lat': 35.6588208, 'lng': 139.7557888, 'male_prop': 76.51, 'meal_duration': 1.0, 'prices_dinner': 709, 'prices_lunch': 425, 'rest_addr': '東京都港區浜鬆町1-11-12', 'rest_area': '濱松町・芝公園', 'rest_catg': '炸豬排/咖哩（其它）', 'rest_rating': 3.79, 'service_rating_dinner': 3.47, 'service_rating_lunch': 3.59, 'store_nm_en': 'tonkatsuaoki', 'store_nm_jp': 'とんかつ檍 大門店', 'transport': 'JR山手線、京浜東北線「浜松町」駅より徒歩７分\\n都営大江戸線「大門」駅より徒歩5分\\n第一京浜「大門」交差点を新橋方向へ。\\n信号のある一つ目の交差点を右へ。一つ目の十字路を過ぎてすぐに左側。\\n\\n\\n距离大門 244  米'}, {'age': 44, 'cp_rating_dinner': 3.5, 'cp_rating_lunch': 3.61, 'feeling_rating_dinner': 3.86, 'feeling_rating_lunch': 3.81, 'female_prop': 23.36, 'label_code': 1, 'label_desc': '平消族', 'lat': 35.6576252, 'lng': 139.3080111, 'male_prop': 76.64, 'meal_duration': 1.0, 'prices_dinner': 142, 'prices_lunch': 709, 'rest_addr': '東京都八王子市韆人町3-14-11', 'rest_area': '八王子', 'rest_catg': '蕎麥麵', 'rest_rating': 3.76, 'service_rating_dinner': 3.72, 'service_rating_lunch': 3.64, 'store_nm_en': 'sobazabou', 'store_nm_jp': '蕎麦 坐忘', 'transport': 'JR西八王子駅より歩いて１０分程度\\n\\n\\n距离西八王子 421  米'}, {'age': 39, 'cp_rating_dinner': 3.96, 'cp_rating_lunch': 4.0, 'feeling_rating_dinner': 3.35, 'feeling_rating_lunch': 3.27, 'female_prop': 23.48, 'label_code': 1, 'label_desc': '平消族', 'lat': 35.6854123, 'lng': 139.7753649, 'male_prop': 76.52, 'meal_duration': 1.5, 'prices_dinner': 142, 'prices_lunch': 142, 'rest_addr': '東京都中央區日本橋室町1-11-15', 'rest_area': '日本橋・京橋', 'rest_catg': '炸蝦丼飯・炸蝦便當/便當/星鰻', 'rest_rating': 3.77, 'service_rating_dinner': 3.39, 'service_rating_lunch': 3.28, 'store_nm_en': 'nihombashitendonkanekohannosuke', 'store_nm_jp': '日本橋 天丼 金子半之助 本店', 'transport': '東京メトロ半蔵門線・銀座線「三越前」駅(A1出口)から徒歩1分\\n東京メトロ東西線「日本橋」駅から徒歩4分\\nJR総武本線「新日本橋」駅から徒歩5分\\n\\n\\n距离三越前 157  米'}]\n"
     ]
    },
    {
     "name": "stdout",
     "output_type": "stream",
     "text": [
      "=====================\n",
      " 第1天行程：\n",
      "雷門 Nakamise Shopping Street (Kaminarimon)約0.6 公里，景點間通勤約需4 分鐘。\n",
      "---------------\n",
      "淺草文化觀光中心 Asakusa Culture Tourist Information Center約61 公尺，景點間通勤約需1 分鐘。\n",
      "---------------\n",
      "淺草 Asakusa約2.0 公里，景點間通勤約需8 分鐘。\n",
      "---------------\n",
      "\n",
      "地圖連結：https://45a28610.ngrok.io/images/day1-U6862a7797fb21baaca9d110ccc061758-1574394624993map.html\n",
      "===============\n",
      "第2天行程：\n",
      "東京迪士尼海洋樂園 Tokyo DisneySea約18.1 公里，景點間通勤約需28 分鐘。\n",
      "---------------\n",
      "\n",
      "地圖連結：https://45a28610.ngrok.io/images/day2-U6862a7797fb21baaca9d110ccc061758-1574394624993map.html\n",
      "===============\n",
      "第3天行程：\n",
      "江戶東京博物館 Edo-Tokyo Museum約2.1 公里，景點間通勤約需9 分鐘。\n",
      "---------------\n",
      " Diver City Tokyo購物廣場 Diver City Tokyo Plaza約13.6 公里，景點間通勤約需18 分鐘。\n",
      "---------------\n",
      "東京馬拉松 Tokyo Marathon約18.1 公里，景點間通勤約需25 分鐘。\n",
      "---------------\n",
      "\n",
      "地圖連結：https://45a28610.ngrok.io/images/day3-U6862a7797fb21baaca9d110ccc061758-1574394624993map.html\n",
      "===============\n",
      "第4天行程：\n",
      "上野阿美橫丁商店街 Ameyoko Shopping Street約2.4 公里，景點間通勤約需10 分鐘。\n",
      "---------------\n",
      "東京杜莎夫人蠟像館 Madame Tussauds Tokyo約12.6 公里，景點間通勤約需19 分鐘。\n",
      "---------------\n",
      "惠比壽啤酒紀念館 Museum of Yebisu Beer約10.1 公里，景點間通勤約需17 分鐘。\n",
      "---------------\n",
      "\n",
      "地圖連結：https://45a28610.ngrok.io/images/day4-U6862a7797fb21baaca9d110ccc061758-1574394624993map.html\n",
      "===============\n",
      "第5天行程：\n",
      "東京車展 Tokyo Motor Show約14.7 公里，景點間通勤約需23 分鐘。\n",
      "---------------\n",
      "森美術館 Mori Art Museum約9.9 公里，景點間通勤約需17 分鐘。\n",
      "---------------\n",
      "東京清真寺暨土耳其文化中心 Tokyo Camii & Turkish Culture Center約5.7 公里，景點間通勤約需19 分鐘。\n",
      "---------------\n",
      "\n",
      "地圖連結：https://45a28610.ngrok.io/images/day5-U6862a7797fb21baaca9d110ccc061758-1574394624993map.html\n",
      "===============\n",
      "第6天行程：\n",
      "三社祭 Sanja Matsuri約1.4 公里，景點間通勤約需9 分鐘。\n",
      "---------------\n",
      "日本國會議事堂 National Diet Building約10.8 公里，景點間通勤約需23 分鐘。\n",
      "---------------\n",
      "隅田川花火大會 Sumida River Fireworks約11.1 公里，景點間通勤約需17 分鐘。\n",
      "---------------\n",
      "\n",
      "地圖連結：https://45a28610.ngrok.io/images/day6-U6862a7797fb21baaca9d110ccc061758-1574394624993map.html\n",
      "===============\n",
      "第7天行程：\n",
      "銀座 Ginza約7.1 公里，景點間通勤約需15 分鐘。\n",
      "---------------\n",
      "東京都庭園美術館 Tokyo Metropolitan Teien Art Museum約8.6 公里，景點間通勤約需13 分鐘。\n",
      "---------------\n",
      "舊岩崎府邸庭園 Kyu Iwasakitei Teien約15.2 公里，景點間通勤約需23 分鐘。\n",
      "---------------\n",
      "\n",
      "地圖連結：https://45a28610.ngrok.io/images/day7-U6862a7797fb21baaca9d110ccc061758-1574394624993map.html\n",
      "===============\n",
      " \n",
      "=======================\n",
      "type ==> <class 'linebot.exceptions.LineBotApiError'>\n",
      "value ==> LineBotApiError: status_code=400, error_response={\"details\": [{\"message\": \"Length must be between 0 and 2000\", \"property\": \"messages[1].text\"}], \"message\": \"The request body has 1 error(s)\"}\n",
      "traceback ==> file name: <ipython-input-25-a23c8ff16dbb>\n",
      "traceback ==> line no: 156\n",
      "traceback ==> function name: handle_message\n",
      "::tripStart:\n",
      "Nihili Feng,U6862a7797fb21baaca9d110ccc061758\n",
      "{\"data\": \"tripStart\"}\n",
      "1574394625174,2019-11-22 03:50:25.174000\n",
      "{'age': 31, 'been2tko': 0, 'days': 7, 'budget': 10000, 'isFemale': 0, 'fbudget': 3000, 'dDate': '2019-11-30', 'rDate': '2019-12-07'}\n",
      "{'airline': 'Tigerair Taiwan', 'date_format(eta,\"%a\")': 'Sat', 'date_format(etd,\"%a\")': 'Sat', 'date_format(saEta,\"%a\")': 'Sat', 'date_format(saEtd,\"%a\")': 'Sat', 'price': 7767, 'time_format(eta,\"%T\")': '10:35:00', 'time_format(etd,\"%T\")': '06:35:00', 'time_format(saEta,\"%T\")': '21:50:00', 'time_format(saEtd,\"%T\")': '18:30:00', 'time_format(sec_to_time(dur),\"%T\")': '03:00:00', 'time_format(sec_to_time(saDur),\"%T\")': '04:20:00'}\n",
      "bk by sat\n",
      "{'age': 31, 'been2tko': 0, 'howlong': 7, 'budget': 10000, 'isFemale': 0, 'with_child': 0, 'crampedSechedule': False}\n",
      "['[{\"index\":265,\"name\":\"東京迪士尼海洋樂園 Tokyo DisneySea\",\"rank\":\"排名第 1的Maihama觀光 (共5家)\",\"address\":\"千葉縣浦安Maihama1-13279-0031\",\"child\":0.75,\"latitude\":35.62675,\"longitude\":139.885095,\"score\":94,\"chosen\":true}]', '[{\"index\":54,\"name\":\"東京都美術館 Tokyo Metropolitan Art Museum\",\"rank\":\"排名第 16的台東區觀光 (共560家)\",\"address\":\"東京都台東區8-36 Uenokoen110-0007\",\"child\":0.0205605849,\"latitude\":35.7125736,\"longitude\":139.7802043,\"score\":70,\"chosen\":true},{\"index\":6,\"name\":\"東京國立博物館 Tokyo National Museum\",\"rank\":\"排名第 5的台東區觀光 (共560家)\",\"address\":\"東京都台東區上野公園13-9110-0007\",\"child\":0.0509912925,\"latitude\":35.719252,\"longitude\":139.7760709,\"score\":114,\"chosen\":true},{\"index\":106,\"name\":\"上野東照宮 Toshogu Shrine\",\"rank\":\"排名第 17的台東區觀光 (共560家)\",\"address\":\"東京都台東區上野公園9-88\",\"child\":0.0,\"latitude\":35.7153714,\"longitude\":139.7706346,\"score\":183,\"chosen\":true}]', '[{\"index\":63,\"name\":\"東京國立近代美術館 The National Museum of Modern Art\",\"rank\":\"排名第 8的千代田區觀光 (共446家)\",\"address\":\"東京都千代田區北之丸公園3-1102-0091\",\"child\":0.0331610791,\"latitude\":35.6919267,\"longitude\":139.7505761,\"score\":70,\"chosen\":true},{\"index\":239,\"name\":\" Amuse Museum\",\"rank\":\"排名第 51的台東區觀光 (共560家)\",\"address\":\"東京都台東區2-34-3 Asakusa111-0032\",\"child\":0.0,\"latitude\":35.7145365,\"longitude\":139.7979333,\"score\":70,\"chosen\":true},{\"index\":71,\"name\":\"柴又帝釋天(帝釋天題經寺) Shibamata Taishakuten (Taishakuten Daikyoji Temple)\",\"rank\":\"排名第 2的葛飾區觀光 (共139家)\",\"address\":\"東京都葛飾區紫又7丁目10番3號125-0052\",\"child\":0.0,\"latitude\":35.758178,\"longitude\":139.8783651,\"score\":114,\"chosen\":true}]', '[{\"index\":205,\"name\":\"靖國神社御靈祭 Mitama Matsuri\",\"rank\":\"排名第 57的千代田區觀光 (共446家)\",\"address\":\"東京都千代田區3-1-1 Kudan Kita102-8246\",\"child\":0.0,\"latitude\":35.694136,\"longitude\":139.743849,\"score\":70,\"chosen\":true},{\"index\":134,\"name\":\"太田現代美術博物館 Ota Memorial Museum of Art\",\"rank\":\"排名第 5的澀谷區觀光 (共279家)\",\"address\":\"東京都澀谷區惠比壽西2-8-1150-0001\",\"child\":0.0702455514,\"latitude\":35.6432025,\"longitude\":139.7145181,\"score\":70,\"chosen\":true},{\"index\":242,\"name\":\"湯島聖堂 Yushima Seido\",\"rank\":\"排名第 18的文京區觀光 (共297家)\",\"address\":\"東京都文京區湯島1-4-25113-0034\",\"child\":0.0,\"latitude\":35.7003326,\"longitude\":139.7668053,\"score\":114,\"chosen\":true}]', '[{\"index\":189,\"name\":\"三社祭 Sanja Matsuri\",\"rank\":\"排名第 19的台東區觀光 (共560家)\",\"address\":\"東京都台東區2-3-1 AsakusaAsakusa Shrine111-0032\",\"child\":0.0864315783,\"latitude\":35.7147651,\"longitude\":139.7966553,\"score\":70,\"chosen\":true},{\"index\":225,\"name\":\"東京馬拉松 Tokyo Marathon\",\"rank\":\"排名第 12的新宿區觀光 (共419家)\",\"address\":\"東京都新宿區2-8-1 NishishinjukuTokyo Metropolitan Government Building163-8001\",\"child\":0.0542821379,\"latitude\":35.6898531,\"longitude\":139.6917321,\"score\":70,\"chosen\":true},{\"index\":192,\"name\":\"隅田川花火大會 Sumida River Fireworks\",\"rank\":\"排名第 12的墨田區觀光 (共264家)\",\"address\":\"東京都墨田區\",\"child\":0.0,\"latitude\":35.7107479,\"longitude\":139.8016393,\"score\":70,\"chosen\":true}]', '[{\"index\":91,\"name\":\"地鐵博物館 Subway Museum\",\"rank\":\"排名第 3的江戶川區觀光 (共191家)\",\"address\":\"東京都江戶川區東葛西6-3-1134-0084\",\"child\":0.2354396254,\"latitude\":35.6635434,\"longitude\":139.8741668,\"score\":70,\"chosen\":true},{\"index\":171,\"name\":\"五島美術館 The Gotoh Museum\",\"rank\":\"排名第 15的世田谷區觀光 (共235家)\",\"address\":\"東京都世田谷區上野毛3-9-25158-0093\",\"child\":0.0,\"latitude\":35.6120302,\"longitude\":139.6351672,\"score\":114,\"chosen\":true},{\"index\":34,\"name\":\"增上寺 Zojo-ji Temple\",\"rank\":\"排名第 14的港區觀光 (共626家)\",\"address\":\"東京都港區芝公園4-7-35105-0011\",\"child\":0.0433876233,\"latitude\":35.6573226,\"longitude\":139.7482785,\"score\":114,\"chosen\":true}]']\n",
      "{'age': 31, 'been2tko': 0, 'days': 7, 'budget': 10000, 'isFemale': 0, 'hotel budget': 1000}\n",
      "{'CP': 3.897116134, 'pre': 2.0, '交通1': '船堀站 - 走路 5 分鐘', '交通2': '新小岩站 - 走路 17 分鐘', '交通3': '東京, 日本 (NRT-成田國際機場) - 車程 41 分鐘', '交通便利性': '5', '價格': 1283.0, '地址': '1-2-5 Nishishinkoiwa, Katsushika, 東京, 東京', '廚房': 0.0, '星等': 3.0, '經度': 139.847048, '網址': 'https://www.expedia.com.tw/Tokyo-Hotels-Cypress-Inn-Tokyo.h36955721.Hotel-Information?chkin=2019%2F10%2F4&chkout=2019%2F10%2F5&regionId=179900&destination=%E6%9D%B1%E4%BA%AC+%28%E5%8F%8A%E9%84%B0%E8%BF%91%E5%9C%B0%E5%8D%80%29%2C+%E6%97%A5%E6%9C%AC&swpToggleOn=true&rm1=a1&x_pwa=1&sort=recommended&top_dp=1283&top_cur=TWD&rfrr=HSR&pwa_ts=1570019592728', '緯度': 35.720697, '評價': 5.0, '鄰近景點1': '東京晴空塔 - 開車 6 分鐘', '鄰近景點2': '淺草神社 - 開車 7 分鐘', '鄰近景點3': '淺草寺雷門 - 開車 7 分鐘', '鄰近景點4': '江戶東京博物館 - 開車 8 分鐘', '鄰近景點5': '東京國立博物館 - 開車 9 分鐘', '飯店名稱': '東京賽普拉斯旅館'}\n",
      "{'age': 31, 'been2tko': 0, 'days': 7, 'totalBudget': 10000, 'gender': 0, 'oneBudget': 300}\n",
      "[{'age': 37, 'cp_rating_dinner': 3.49, 'cp_rating_lunch': 4.28, 'feeling_rating_dinner': 3.65, 'feeling_rating_lunch': 3.8, 'female_prop': 24.15, 'label_code': 0, 'label_desc': '高消族', 'lat': 35.6586837, 'lng': 139.7319453, 'male_prop': 75.85, 'meal_duration': 1.0, 'prices_dinner': 9922, 'prices_lunch': 7087, 'rest_addr': '東京都港區六本木6-10-1', 'rest_area': '六本木・乃木坂・西麻布', 'rest_catg': '壽司', 'rest_rating': 4.12, 'service_rating_dinner': 3.83, 'service_rating_lunch': 4.29, 'store_nm_en': 'Sukiyabashi Jiro', 'store_nm_jp': 'すきやばし 次郎 六本木ヒルズ店', 'transport': '東京メトロ 麻布十番駅 徒歩１０分、六本木駅 徒歩１０分\\n\\n\\n距离六本木 387  米'}, {'age': 38, 'cp_rating_dinner': 3.59, 'cp_rating_lunch': 4.01, 'feeling_rating_dinner': 3.92, 'feeling_rating_lunch': 3.88, 'female_prop': 24.14, 'label_code': 0, 'label_desc': '高消族', 'lat': 35.6601101, 'lng': 139.7265923, 'male_prop': 75.86, 'meal_duration': 1.0, 'prices_dinner': 7087, 'prices_lunch': 3543, 'rest_addr': '東京都港區西痲佈3-1-15', 'rest_area': '六本木・乃木坂・西麻布', 'rest_catg': '壽司', 'rest_rating': 4.16, 'service_rating_dinner': 3.83, 'service_rating_lunch': 4.16, 'store_nm_en': 'Sushi Tsu', 'store_nm_jp': '江戸前鮓 すし通', 'transport': '六本木駅1c出口より徒歩8分\\n大江戸線六本木駅からは、徒歩２０分\\n\\n\\n距离六本木 519  米'}, {'age': 39, 'cp_rating_dinner': 4.06, 'cp_rating_lunch': 4.27, 'feeling_rating_dinner': 3.6, 'feeling_rating_lunch': 4.39, 'female_prop': 23.66, 'label_code': 1, 'label_desc': '平消族', 'lat': 35.6703533, 'lng': 139.7598446, 'male_prop': 76.34, 'meal_duration': 1.0, 'prices_dinner': 4961, 'prices_lunch': 425, 'rest_addr': '東京都中央區銀座7-2-14', 'rest_area': '銀座', 'rest_catg': '壽司', 'rest_rating': 3.92, 'service_rating_dinner': 3.82, 'service_rating_lunch': 4.39, 'store_nm_en': 'Sushidokoroyamada', 'store_nm_jp': '鮨處やまだ', 'transport': '新橋駅より徒歩5分\\n\\n\\n距离內幸町 367  米'}, {'age': 40, 'cp_rating_dinner': 3.97, 'cp_rating_lunch': 4.23, 'feeling_rating_dinner': 4.0, 'feeling_rating_lunch': 4.17, 'female_prop': 24.11, 'label_code': 0, 'label_desc': '高消族', 'lat': 35.6862925, 'lng': 139.7845504, 'male_prop': 75.89, 'meal_duration': 1.0, 'prices_dinner': 3543, 'prices_lunch': 3543, 'rest_addr': '東京都中央區日本橋人形町2-22-11', 'rest_area': '人形町・小傳馬町', 'rest_catg': '天婦羅/蕎麥麵', 'rest_rating': 4.08, 'service_rating_dinner': 4.05, 'service_rating_lunch': 4.26, 'store_nm_en': 'nihombashisonoji', 'store_nm_jp': '日本橋 蕎ノ字', 'transport': '東京メトロ日比谷線【人形町駅】徒歩３分\\n都営地下鉄浅草線【人形町駅】徒歩４分\\n東京メトロ半蔵門線【水天宮前駅】徒歩５分\\n都営地下鉄新宿線【浜町駅】徒歩６分\\n\\n\\n距离人形町 187  米'}, {'age': 43, 'cp_rating_dinner': 3.92, 'cp_rating_lunch': 4.83, 'feeling_rating_dinner': 4.13, 'feeling_rating_lunch': 5.0, 'female_prop': 24.16, 'label_code': 0, 'label_desc': '高消族', 'lat': 35.6948689, 'lng': 139.7171534, 'male_prop': 75.84, 'meal_duration': 1.0, 'prices_dinner': 7087, 'prices_lunch': 425, 'rest_addr': '東京都新宿區餘丁町1-14', 'rest_area': '曙橋・四之谷三丁目', 'rest_catg': '天婦羅', 'rest_rating': 4.25, 'service_rating_dinner': 4.17, 'service_rating_lunch': 5.0, 'store_nm_en': 'Kyorakutei', 'store_nm_jp': '天ぷら 蕎楽亭', 'transport': '距离若松河田 479  米'}, {'age': 43, 'cp_rating_dinner': 3.25, 'cp_rating_lunch': 3.17, 'feeling_rating_dinner': 4.1, 'feeling_rating_lunch': 4.23, 'female_prop': 22.36, 'label_code': 1, 'label_desc': '平消族', 'lat': 35.696381, 'lng': 139.768758, 'male_prop': 77.64, 'meal_duration': 1.0, 'prices_dinner': 2551, 'prices_lunch': 2551, 'rest_addr': '東京都韆代田區神田須田町1-15', 'rest_area': '神田・御茶之水', 'rest_catg': '壽喜燒/雞肉料理', 'rest_rating': 3.76, 'service_rating_dinner': 3.48, 'service_rating_lunch': 3.42, 'store_nm_en': 'Botan', 'store_nm_jp': 'ぼたん', 'transport': '東京メトロ丸ノ内線 淡路町駅 A3番出口 徒歩2分\\n都営新宿線 小川町駅 A3番出口 徒歩2分\\n東京メトロ銀座線 神田駅 6番出口 徒歩5分\\nＪＲ 神田駅 東口 徒歩7分\\nＪＲ 秋葉原駅 電気街口 徒歩7分\\nＪＲ 御茶ノ水駅 聖橋口 徒歩7分\\n\\n\\n距离淡路町 197  米'}, {'age': 43, 'cp_rating_dinner': 3.7, 'cp_rating_lunch': 4.07, 'feeling_rating_dinner': 3.7, 'feeling_rating_lunch': 3.27, 'female_prop': 23.74, 'label_code': 1, 'label_desc': '平消族', 'lat': 35.764106, 'lng': 139.8475896, 'male_prop': 76.26, 'meal_duration': 1.0, 'prices_dinner': 142, 'prices_lunch': 142, 'rest_addr': '東京都葛飾區龜有3-11-11', 'rest_area': '葛飾・柴又', 'rest_catg': '拉麵/沾麵', 'rest_rating': 3.95, 'service_rating_dinner': 3.67, 'service_rating_lunch': 3.75, 'store_nm_en': 'teuchishikichoutakasuimennonokura', 'store_nm_jp': '手打式超多加水麺 ののくら', 'transport': 'J R亀有駅南口徒歩4分\\n\\n\\n距离龜有 282  米'}, {'age': 38, 'cp_rating_dinner': 3.3, 'cp_rating_lunch': 3.21, 'feeling_rating_dinner': 3.55, 'feeling_rating_lunch': 3.62, 'female_prop': 23.55, 'label_code': 1, 'label_desc': '平消族', 'lat': 35.6689587, 'lng': 139.7643052, 'male_prop': 76.45, 'meal_duration': 1.0, 'prices_dinner': 425, 'prices_lunch': 425, 'rest_addr': '東京都中央區銀座6-12-12', 'rest_area': '銀座', 'rest_catg': '拉麵/沾麵', 'rest_rating': 3.78, 'service_rating_dinner': 3.42, 'service_rating_lunch': 3.6, 'store_nm_en': 'Mugitooribu', 'store_nm_jp': 'むぎとオリーブ 銀座店', 'transport': '・東京メトロ都営浅草線「東銀座」駅(A1出口)より、徒歩５分\\n・東京メトロ丸の内線/銀座線/日比谷線「銀座」駅(A5出口)より、徒歩６分\\n・東京メトロ有楽町線「銀座一丁目」駅(９番出口)より、徒歩10分\\n・JR「新橋」駅(汐留口)より、徒歩12分\\n\\n\\n距离東銀座 284  米'}, {'age': 38, 'cp_rating_dinner': 3.29, 'cp_rating_lunch': 3.39, 'feeling_rating_dinner': 3.53, 'feeling_rating_lunch': 3.5, 'female_prop': 23.79, 'label_code': 1, 'label_desc': '平消族', 'lat': 35.7329471, 'lng': 139.740621, 'male_prop': 76.21, 'meal_duration': 1.0, 'prices_dinner': 425, 'prices_lunch': 425, 'rest_addr': '東京都豐島區巢鴨1-14-1', 'rest_area': '巢鴨・駒込・白山', 'rest_catg': '拉麵/沾麵', 'rest_rating': 3.83, 'service_rating_dinner': 3.41, 'service_rating_lunch': 3.41, 'store_nm_en': 'Japanizusobanudorutsuta', 'store_nm_jp': 'Japanese Soba Noodles 蔦', 'transport': '・JR山手線「巣鴨」駅(南口)より、徒歩２分\\n・都営三田線「巣鴨」駅(A1出口)より、徒歩３分\\n\\n\\n距离巢鴨 128  米'}, {'age': 38, 'cp_rating_dinner': 3.52, 'cp_rating_lunch': 3.09, 'feeling_rating_dinner': 3.45, 'feeling_rating_lunch': 3.07, 'female_prop': 23.93, 'label_code': 1, 'label_desc': '平消族', 'lat': 35.6707809, 'lng': 139.7692631, 'male_prop': 76.07, 'meal_duration': 1.0, 'prices_dinner': 2551, 'prices_lunch': 425, 'rest_addr': '東京都中央區銀座3-12-5', 'rest_area': '銀座', 'rest_catg': '牛排/法式小酒館/餐飲酒館', 'rest_rating': 3.85, 'service_rating_dinner': 3.37, 'service_rating_lunch': 3.07, 'store_nm_en': 'Ibaia', 'store_nm_jp': 'IBAIA', 'transport': '距离東銀座 232  米'}, {'age': 44, 'cp_rating_dinner': 4.21, 'cp_rating_lunch': 4.56, 'feeling_rating_dinner': 3.94, 'feeling_rating_lunch': 4.49, 'female_prop': 23.73, 'label_code': 1, 'label_desc': '平消族', 'lat': 35.6920609, 'lng': 139.7216055, 'male_prop': 76.27, 'meal_duration': 1.5, 'prices_dinner': 4961, 'prices_lunch': 425, 'rest_addr': '東京都新宿區住吉町2-18', 'rest_area': '曙橋・四之谷三丁目', 'rest_catg': '懷石 / 會席料理/和式餐馆 / 小菜/河豚', 'rest_rating': 3.92, 'service_rating_dinner': 4.18, 'service_rating_lunch': 4.54, 'store_nm_en': 'Marutomi', 'store_nm_jp': 'まる富', 'transport': '都営新宿線曙橋駅\\u3000徒歩1分\\nA1番出口を出て、「オールワン（不動産店）」を左、「フレッシュネスバーガー」を右に曲がりますと、すぐ右手にございます。富マークの丸い看板が目印です。\\n\\n\\n距离曙橋 92  米'}, {'age': 39, 'cp_rating_dinner': 3.7, 'cp_rating_lunch': 3.99, 'feeling_rating_dinner': 3.21, 'feeling_rating_lunch': 3.59, 'female_prop': 22.22, 'label_code': 1, 'label_desc': '平消族', 'lat': 35.7014842, 'lng': 139.7047629, 'male_prop': 77.78, 'meal_duration': 1.0, 'prices_dinner': 992, 'prices_lunch': 709, 'rest_addr': '東京都新宿區大久保2-19-1', 'rest_area': '大久保・新大久保', 'rest_catg': '泰式料理/泰式咖哩', 'rest_rating': 3.76, 'service_rating_dinner': 3.24, 'service_rating_lunch': 3.39, 'store_nm_en': 'Baan Tum', 'store_nm_jp': 'バーン・タム', 'transport': '東京メトロ副都心線【東新宿駅】徒歩５分\\nＪＲ山手線【新大久保駅】徒歩６分\\nＪＲ中央線【大久保駅】徒歩10分\\n\\n\\n距离新大久保 408  米'}, {'age': 45, 'cp_rating_dinner': 3.17, 'cp_rating_lunch': 3.54, 'feeling_rating_dinner': 3.71, 'feeling_rating_lunch': 3.89, 'female_prop': 23.49, 'label_code': 1, 'label_desc': '平消族', 'lat': 35.689367, 'lng': 139.7717422, 'male_prop': 76.51, 'meal_duration': 1.0, 'prices_dinner': 1276, 'prices_lunch': 425, 'rest_addr': '東京都中央區日本橋室町4-1-13', 'rest_area': '神田・御茶之水', 'rest_catg': '蕎麥麵', 'rest_rating': 3.79, 'service_rating_dinner': 3.48, 'service_rating_lunch': 3.69, 'store_nm_en': 'Muromachisunaba', 'store_nm_jp': '室町砂場', 'transport': 'ＪＲ 「神田」駅\\u3000徒歩4分\\nＪＲ 「新日本橋」駅\\u3000徒歩3分\\n東京メトロ銀座線 「三越前」駅\\u3000徒歩3分\\n\\n\\n距离新日本橋 206  米'}, {'age': 39, 'cp_rating_dinner': 3.96, 'cp_rating_lunch': 4.0, 'feeling_rating_dinner': 3.35, 'feeling_rating_lunch': 3.27, 'female_prop': 23.48, 'label_code': 1, 'label_desc': '平消族', 'lat': 35.6854123, 'lng': 139.7753649, 'male_prop': 76.52, 'meal_duration': 1.5, 'prices_dinner': 142, 'prices_lunch': 142, 'rest_addr': '東京都中央區日本橋室町1-11-15', 'rest_area': '日本橋・京橋', 'rest_catg': '炸蝦丼飯・炸蝦便當/便當/星鰻', 'rest_rating': 3.77, 'service_rating_dinner': 3.39, 'service_rating_lunch': 3.28, 'store_nm_en': 'nihombashitendonkanekohannosuke', 'store_nm_jp': '日本橋 天丼 金子半之助 本店', 'transport': '東京メトロ半蔵門線・銀座線「三越前」駅(A1出口)から徒歩1分\\n東京メトロ東西線「日本橋」駅から徒歩4分\\nJR総武本線「新日本橋」駅から徒歩5分\\n\\n\\n距离三越前 157  米'}]\n"
     ]
    },
    {
     "name": "stdout",
     "output_type": "stream",
     "text": [
      "=====================\n",
      " 第1天行程：\n",
      "東京迪士尼海洋樂園 Tokyo DisneySea約17.7 公里，景點間通勤約需27 分鐘。\n",
      "---------------\n",
      "\n",
      "地圖連結：https://45a28610.ngrok.io/images/day1-U6862a7797fb21baaca9d110ccc061758-1574394625173map.html\n",
      "===============\n",
      "第2天行程：\n",
      "東京國立博物館 Tokyo National Museum約9.0 公里，景點間通勤約需28 分鐘。\n",
      "---------------\n",
      "上野東照宮 Toshogu Shrine約1.2 公里，景點間通勤約需5 分鐘。\n",
      "---------------\n",
      "東京都美術館 Tokyo Metropolitan Art Museum約1.4 公里，景點間通勤約需6 分鐘。\n",
      "---------------\n",
      "\n",
      "地圖連結：https://45a28610.ngrok.io/images/day2-U6862a7797fb21baaca9d110ccc061758-1574394625173map.html\n",
      "===============\n",
      "第3天行程：\n",
      "東京國立近代美術館 The National Museum of Modern Art約16.1 公里，景點間通勤約需21 分鐘。\n",
      "---------------\n",
      " Amuse Museum約8.9 公里，景點間通勤約需19 分鐘。\n",
      "---------------\n",
      "柴又帝釋天(帝釋天題經寺) Shibamata Taishakuten (Taishakuten Daikyoji Temple)約10.9 公里，景點間通勤約需28 分鐘。\n",
      "---------------\n",
      "\n",
      "地圖連結：https://45a28610.ngrok.io/images/day3-U6862a7797fb21baaca9d110ccc061758-1574394625173map.html\n",
      "===============\n",
      "第4天行程：\n",
      "太田現代美術博物館 Ota Memorial Museum of Art約22.3 公里，景點間通勤約需30 分鐘。\n",
      "---------------\n",
      "靖國神社御靈祭 Mitama Matsuri約8.6 公里，景點間通勤約需19 分鐘。\n",
      "---------------\n",
      "湯島聖堂 Yushima Seido約3.0 公里，景點間通勤約需9 分鐘。\n",
      "---------------\n",
      "\n",
      "地圖連結：https://45a28610.ngrok.io/images/day4-U6862a7797fb21baaca9d110ccc061758-1574394625173map.html\n",
      "===============\n",
      "第5天行程：\n",
      "東京馬拉松 Tokyo Marathon約24.0 公里，景點間通勤約需31 分鐘。\n",
      "---------------\n",
      "隅田川花火大會 Sumida River Fireworks約16.2 公里，景點間通勤約需23 分鐘。\n",
      "---------------\n",
      "三社祭 Sanja Matsuri約1.6 公里，景點間通勤約需7 分鐘。\n",
      "---------------\n",
      "\n",
      "地圖連結：https://45a28610.ngrok.io/images/day5-U6862a7797fb21baaca9d110ccc061758-1574394625173map.html\n",
      "===============\n",
      "第6天行程：\n",
      "五島美術館 The Gotoh Museum約33.1 公里，景點間通勤約需44 分鐘。\n",
      "---------------\n",
      "增上寺 Zojo-ji Temple約16.9 公里，景點間通勤約需27 分鐘。\n",
      "---------------\n",
      "地鐵博物館 Subway Museum約16.7 公里，景點間通勤約需24 分鐘。\n",
      "---------------\n",
      "\n",
      "地圖連結：https://45a28610.ngrok.io/images/day6-U6862a7797fb21baaca9d110ccc061758-1574394625173map.html\n",
      "===============\n",
      " \n",
      "=======================\n",
      "type ==> <class 'linebot.exceptions.LineBotApiError'>\n",
      "value ==> LineBotApiError: status_code=400, error_response={\"details\": [], \"message\": \"Invalid reply token\"}\n",
      "traceback ==> file name: <ipython-input-25-a23c8ff16dbb>\n",
      "traceback ==> line no: 156\n",
      "traceback ==> function name: handle_message\n",
      "::tripStart:\n",
      "Nihili Feng,U6862a7797fb21baaca9d110ccc061758\n",
      "{\"data\": \"tripStart\"}\n",
      "1574394625434,2019-11-22 03:50:25.434000\n",
      "{'age': 31, 'been2tko': 0, 'days': 7, 'budget': 10000, 'isFemale': 0, 'fbudget': 3000, 'dDate': '2019-11-30', 'rDate': '2019-12-07'}\n",
      "{'airline': 'Tigerair Taiwan', 'date_format(eta,\"%a\")': 'Sat', 'date_format(etd,\"%a\")': 'Sat', 'date_format(saEta,\"%a\")': 'Sat', 'date_format(saEtd,\"%a\")': 'Sat', 'price': 7767, 'time_format(eta,\"%T\")': '10:35:00', 'time_format(etd,\"%T\")': '06:35:00', 'time_format(saEta,\"%T\")': '21:50:00', 'time_format(saEtd,\"%T\")': '18:30:00', 'time_format(sec_to_time(dur),\"%T\")': '03:00:00', 'time_format(sec_to_time(saDur),\"%T\")': '04:20:00'}\n",
      "bk by sat\n",
      "{'age': 31, 'been2tko': 0, 'howlong': 7, 'budget': 10000, 'isFemale': 0, 'with_child': 0, 'crampedSechedule': False}\n",
      "['[{\"index\":2,\"name\":\"淺草 Asakusa\",\"rank\":\"排名第 1的台東區觀光 (共560家)\",\"address\":\"東京都台東區\",\"child\":0.0087715012,\"latitude\":35.7125736,\"longitude\":139.7802043,\"score\":241,\"chosen\":true},{\"index\":48,\"name\":\"雷門 Nakamise Shopping Street (Kaminarimon)\",\"rank\":\"排名第 18的台東區觀光 (共560家)\",\"address\":\"東京都台東區淺草1丁目3\",\"child\":0.0048539208,\"latitude\":35.7110859,\"longitude\":139.7959648,\"score\":114,\"chosen\":true},{\"index\":35,\"name\":\"淺草文化觀光中心 Asakusa Culture Tourist Information Center\",\"rank\":\"排名第 3的台東區觀光 (共560家)\",\"address\":\"東京都台東區2-18-9 Kaminarimon111-0034\",\"child\":0.0040560983,\"latitude\":35.7106489,\"longitude\":139.7965348,\"score\":106,\"chosen\":true}]', '[{\"index\":264,\"name\":\"東京迪士尼樂園 Tokyo Disneyland\",\"rank\":\"排名第 2的Maihama觀光 (共5家)\",\"address\":\"千葉縣浦安Maihama1-1279-8511\",\"child\":1.0,\"latitude\":35.632906,\"longitude\":139.880391,\"score\":94,\"chosen\":true}]', '[{\"index\":173,\"name\":\"出光美術館 Idemitsu Museum\",\"rank\":\"排名第 1的Marunouchi觀光 (共7家)\",\"address\":\"東京都千代田區Marunouchi3-1-1 Marunouchi9F Teigeki Building100-0005\",\"child\":0.0,\"latitude\":35.6767601,\"longitude\":139.7611088,\"score\":70,\"chosen\":true},{\"index\":34,\"name\":\"增上寺 Zojo-ji Temple\",\"rank\":\"排名第 14的港區觀光 (共626家)\",\"address\":\"東京都港區芝公園4-7-35105-0011\",\"child\":0.0433876233,\"latitude\":35.6573226,\"longitude\":139.7482785,\"score\":114,\"chosen\":true},{\"index\":25,\"name\":\"歌舞伎劇場 Kabukiza Theater\",\"rank\":\"排名第 1的Ginza觀光 (共50家)\",\"address\":\"東京都中央區Ginza銀座4-12-15104-0061\",\"child\":0.0365922182,\"latitude\":35.6696465,\"longitude\":139.7679235,\"score\":70,\"chosen\":true}]', '[{\"index\":192,\"name\":\"隅田川花火大會 Sumida River Fireworks\",\"rank\":\"排名第 12的墨田區觀光 (共264家)\",\"address\":\"東京都墨田區\",\"child\":0.0,\"latitude\":35.7107479,\"longitude\":139.8016393,\"score\":70,\"chosen\":true},{\"index\":260,\"name\":\"板橋花火節 Itabashi Fireworks\",\"rank\":\"排名第 1的板橋區觀光 (共81家)\",\"address\":\"東京都板橋區4 Funado174-0041\",\"child\":0.0,\"latitude\":35.7512308,\"longitude\":139.7185838,\"score\":70,\"chosen\":true},{\"index\":193,\"name\":\"大江戶古董市場 - 東京國際論壇 Oedo Antique Market - Tokyo International Forum\",\"rank\":\"排名第 55的千代田區觀光 (共446家)\",\"address\":\"東京都千代田區3-5-1 MarunouchiTokyo International Forum100-0005\",\"child\":0.0199828611,\"latitude\":35.6767429,\"longitude\":139.7637532,\"score\":84,\"chosen\":true}]', '[{\"index\":210,\"name\":\"東京藝術劇場 Tokyo Metropolitan Theatre\",\"rank\":\"排名第 6的豊島區觀光 (共179家)\",\"address\":\"東京都豊島區1-8-1 Nishiikebukuro171-0021\",\"child\":0.0,\"latitude\":35.7297303,\"longitude\":139.7080402,\"score\":70,\"chosen\":true},{\"index\":218,\"name\":\"東京跨海大橋 Tokyo Gate Bridge\",\"rank\":\"排名第 10的江東區觀光 (共343家)\",\"address\":\"東京都江東區Wakasu136-0083\",\"child\":0.0,\"latitude\":35.6252108,\"longitude\":139.8265777,\"score\":114,\"chosen\":true},{\"index\":125,\"name\":\" Honda Welcome Plaza Aoyama\",\"rank\":\"排名第 1的Minamiaoyama觀光 (共12家)\",\"address\":\"東京都港區Minamiaoyama2-1-1 Minamiaoyama1 Field Honda Aoyama Building107-8556\",\"child\":0.3001415468,\"latitude\":35.6724769,\"longitude\":139.7238891,\"score\":114,\"chosen\":true}]', '[{\"index\":233,\"name\":\"精工博物館 The Seiko Museum\",\"rank\":\"排名第 11的墨田區觀光 (共264家)\",\"address\":\"東京都墨田區3-9-7 Higashi Mukojima131-0032\",\"child\":0.1458601027,\"latitude\":35.7267061,\"longitude\":139.8132052,\"score\":70,\"chosen\":true},{\"index\":215,\"name\":\"葛飾柴又寅先生紀念館 Katsushika Shibamata Torasan Memorial Hall\",\"rank\":\"排名第 3的葛飾區觀光 (共139家)\",\"address\":\"東京都葛飾區6-22-19 Shibamata125-0052\",\"child\":0.0,\"latitude\":35.7571506,\"longitude\":139.8805282,\"score\":70,\"chosen\":true},{\"index\":113,\"name\":\"築地本願寺 Tsukiji Honganji Temple\",\"rank\":\"排名第 14的中央區觀光 (共577家)\",\"address\":\"東京都中央區築地3-15-1104-0045\",\"child\":0.0040449578,\"latitude\":35.6667982,\"longitude\":139.7719172,\"score\":114,\"chosen\":true}]', '[{\"index\":63,\"name\":\"東京國立近代美術館 The National Museum of Modern Art\",\"rank\":\"排名第 8的千代田區觀光 (共446家)\",\"address\":\"東京都千代田區北之丸公園3-1102-0091\",\"child\":0.0331610791,\"latitude\":35.6919267,\"longitude\":139.7505761,\"score\":70,\"chosen\":true},{\"index\":141,\"name\":\" Hikarie 涉谷店 Shibuya Hikarie\",\"rank\":\"排名第 23的澀谷區觀光 (共279家)\",\"address\":\"東京都澀谷區2-21-1 Shibuya150-0002\",\"child\":0.0,\"latitude\":35.6591474,\"longitude\":139.7035034,\"score\":84,\"chosen\":true},{\"index\":238,\"name\":\"銀座東急Plaza購物中心 Tokyu Plaza Ginza\",\"rank\":\"排名第 23的中央區觀光 (共577家)\",\"address\":\"東京都中央區5-2-1 Ginza104-0061\",\"child\":0.0,\"latitude\":35.6721757,\"longitude\":139.7624406,\"score\":84,\"chosen\":true}]']\n",
      "{'age': 31, 'been2tko': 0, 'days': 7, 'budget': 10000, 'isFemale': 0, 'hotel budget': 1000}\n",
      "{'CP': 3.684661525, 'pre': 2.0, '交通1': '京橋站 - 走路 2 分鐘', '交通2': '八丁堀站 - 走路 10 分鐘', '交通3': '東京, 日本 (HND-羽田機場) - 車程 15 分鐘', '交通便利性': '2', '價格': 1167.0, '地址': '2-5-4 Kyobashi, 東京, 東京', '廚房': 0.0, '星等': 3.0, '經度': 139.770714, '網址': 'https://www.expedia.com.tw/Tokyo-Hotels-Another-TOKYO.h34404110.Hotel-Information?chkin=2019%2F10%2F4&chkout=2019%2F10%2F5&regionId=179900&destination=%E6%9D%B1%E4%BA%AC+%28%E5%8F%8A%E9%84%B0%E8%BF%91%E5%9C%B0%E5%8D%80%29%2C+%E6%97%A5%E6%9C%AC&swpToggleOn=true&rm1=a1&x_pwa=1&sort=recommended&top_dp=1167&top_cur=TWD&rfrr=HSR&pwa_ts=1570019075313', '緯度': 35.676451, '評價': 4.3, '鄰近景點1': '歌舞伎座 - 步行 13 分鐘', '鄰近景點2': '皇居 - 步行 19 分鐘', '鄰近景點3': '國會議事堂 - 開車 3 分鐘', '鄰近景點4': '皇居東御苑 - 開車 5 分鐘', '鄰近景點5': '秋葉原電器街 - 開車 17 分鐘', '飯店名稱': '東京另一面飯店'}\n",
      "{'age': 31, 'been2tko': 0, 'days': 7, 'totalBudget': 10000, 'gender': 0, 'oneBudget': 300}\n",
      "[{'age': 33, 'cp_rating_dinner': 4.11, 'cp_rating_lunch': 4.75, 'feeling_rating_dinner': 3.91, 'feeling_rating_lunch': 4.73, 'female_prop': 24.05, 'label_code': 0, 'label_desc': '高消族', 'lat': 35.6270047, 'lng': 139.7085856, 'male_prop': 75.95, 'meal_duration': 1.0, 'prices_dinner': 7087, 'prices_lunch': 2551, 'rest_addr': '東京都目黑區下目黑3-16-2', 'rest_area': '不動前・武藏小山・西小山', 'rest_catg': '壽司', 'rest_rating': 4.02, 'service_rating_dinner': 4.02, 'service_rating_lunch': 4.41, 'store_nm_en': 'Rammaru', 'store_nm_jp': 'らんまる', 'transport': '不動前駅から448m\\n\\n\\n距离不動前 448  米'}, {'age': 42, 'cp_rating_dinner': 4.26, 'cp_rating_lunch': 3.77, 'feeling_rating_dinner': 4.52, 'feeling_rating_lunch': 4.18, 'female_prop': 24.24, 'label_code': 0, 'label_desc': '高消族', 'lat': 35.6609872, 'lng': 139.7260606, 'male_prop': 75.76, 'meal_duration': 1.0, 'prices_dinner': 9922, 'prices_lunch': 425, 'rest_addr': '東京都港區東痲佈1-7-9', 'rest_area': '濱松町・芝公園', 'rest_catg': '壽司', 'rest_rating': 4.66, 'service_rating_dinner': 4.52, 'service_rating_lunch': 4.18, 'store_nm_en': 'Amamoto', 'store_nm_jp': '東麻布 天本', 'transport': '都営大江戸線 赤羽橋駅 徒歩4分 \\n東京メトロ日比谷線 神谷町駅 徒歩10分 \\n\\n\\n距离赤羽橋 258  米'}, {'age': 42, 'cp_rating_dinner': 3.64, 'cp_rating_lunch': 4.43, 'feeling_rating_dinner': 4.09, 'feeling_rating_lunch': 4.32, 'female_prop': 23.73, 'label_code': 1, 'label_desc': '平消族', 'lat': 35.6705623, 'lng': 139.7606164, 'male_prop': 76.27, 'meal_duration': 1.0, 'prices_dinner': 9922, 'prices_lunch': 425, 'rest_addr': '東京都中央區銀座7-3-16', 'rest_area': '銀座', 'rest_catg': '壽司', 'rest_rating': 3.96, 'service_rating_dinner': 3.98, 'service_rating_lunch': 4.49, 'store_nm_en': 'Nojima', 'store_nm_jp': '野じま', 'transport': '距离銀座 362  米'}, {'age': 42, 'cp_rating_dinner': 3.51, 'cp_rating_lunch': 3.7, 'feeling_rating_dinner': 3.76, 'feeling_rating_lunch': 3.92, 'female_prop': 23.73, 'label_code': 1, 'label_desc': '平消族', 'lat': 35.6712108, 'lng': 139.7632032, 'male_prop': 76.27, 'meal_duration': 1.0, 'prices_dinner': 7087, 'prices_lunch': 2551, 'rest_addr': '東京都中央區銀座5-5-13', 'rest_area': '銀座', 'rest_catg': '天婦羅', 'rest_rating': 3.87, 'service_rating_dinner': 3.65, 'service_rating_lunch': 4.0, 'store_nm_en': 'Kondo', 'store_nm_jp': 'てんぷら 近藤', 'transport': '東京メトロ\\u3000銀座駅\\u3000徒歩３分（B5出口）\\n\\n\\n距离銀座 115  米'}, {'age': 42, 'cp_rating_dinner': 3.64, 'cp_rating_lunch': 3.75, 'feeling_rating_dinner': 3.28, 'feeling_rating_lunch': 3.34, 'female_prop': 23.96, 'label_code': 1, 'label_desc': '平消族', 'lat': 35.5604869, 'lng': 139.7171267, 'male_prop': 76.04, 'meal_duration': 1.0, 'prices_dinner': 142, 'prices_lunch': 425, 'rest_addr': '東京都大田區蒲田5-43-7', 'rest_area': '蒲田', 'rest_catg': '咖哩飯/炸豬排/咖哩（其它）', 'rest_rating': 3.75, 'service_rating_dinner': 3.34, 'service_rating_lunch': 3.34, 'store_nm_en': 'Tonkatsuaokinokareyaippekoppe', 'store_nm_jp': 'とんかつ檍のカレー屋いっぺこっぺ', 'transport': 'ＪＲ京浜東北線「蒲田」駅東口より徒歩４分\\n東急多摩川線・池上線「蒲田」駅より徒歩７分\\n京急本線・空港線「京急蒲田」駅西口より徒歩10分\\n蒲田駅から244m\\n\\n\\n距离蒲田 241  米'}, {'age': 37, 'cp_rating_dinner': 3.9, 'cp_rating_lunch': 4.78, 'feeling_rating_dinner': 3.85, 'feeling_rating_lunch': 4.27, 'female_prop': 24.05, 'label_code': 0, 'label_desc': '高消族', 'lat': 35.6986017, 'lng': 139.7034726, 'male_prop': 75.95, 'meal_duration': 1.0, 'prices_dinner': 4961, 'prices_lunch': 2551, 'rest_addr': '東京都新宿區大久保1-12-3', 'rest_area': '新宿', 'rest_catg': '涮涮鍋/壽喜燒/牛肉料理', 'rest_rating': 4.02, 'service_rating_dinner': 3.91, 'service_rating_lunch': 3.85, 'store_nm_en': 'Toukyounikushabuya', 'store_nm_jp': '東京肉しゃぶ家', 'transport': 'JR新宿東口から徒歩10分\\nJR新大久保駅から徒歩8分\\n大江戸線東新宿から徒歩3分\\n西武新宿線西武新宿駅から徒歩4分\\n\\n\\n距离東新宿 375  米'}, {'age': 42, 'cp_rating_dinner': 3.55, 'cp_rating_lunch': 4.0, 'feeling_rating_dinner': 3.65, 'feeling_rating_lunch': 3.59, 'female_prop': 23.84, 'label_code': 1, 'label_desc': '平消族', 'lat': 35.7073817, 'lng': 139.6183183, 'male_prop': 76.16, 'meal_duration': 1.0, 'prices_dinner': 142, 'prices_lunch': 142, 'rest_addr': '東京都杉並區天沼3-10-16-102', 'rest_area': '荻窪', 'rest_catg': '拉麵/沾麵', 'rest_rating': 3.83, 'service_rating_dinner': 3.73, 'service_rating_lunch': 3.5, 'store_nm_en': 'Uchoku', 'store_nm_jp': '迂直', 'transport': '荻窪駅北口から徒歩5分\\n\\n\\n距离荻窪 351  米'}, {'age': 39, 'cp_rating_dinner': 3.51, 'cp_rating_lunch': 3.42, 'feeling_rating_dinner': 3.67, 'feeling_rating_lunch': 3.51, 'female_prop': 23.6, 'label_code': 1, 'label_desc': '平消族', 'lat': 35.775017, 'lng': 139.8044129, 'male_prop': 76.4, 'meal_duration': 1.0, 'prices_dinner': 142, 'prices_lunch': 142, 'rest_addr': '東京都足立區一ツ傢2-14-6', 'rest_area': '綾瀬・竹之塚', 'rest_catg': '拉麵', 'rest_rating': 3.79, 'service_rating_dinner': 3.61, 'service_rating_lunch': 3.4, 'store_nm_en': 'Tanakashouten', 'store_nm_jp': '田中商店 本店', 'transport': 'つくばエクスプレス 六町駅 A1出口から徒歩約13分\\n東武伊勢崎線 竹ノ塚駅 東口から徒歩約25分\\n東武バスセントラル綾瀬駅～花畑団地線にて一ツ家１丁目下車、目の前が店舗です。\\n\\n\\n距离六町 996  米'}, {'age': 39, 'cp_rating_dinner': 3.51, 'cp_rating_lunch': 3.36, 'feeling_rating_dinner': 3.41, 'feeling_rating_lunch': 3.4, 'female_prop': 23.71, 'label_code': 1, 'label_desc': '平消族', 'lat': 35.7611213, 'lng': 139.7224477, 'male_prop': 76.29, 'meal_duration': 1.0, 'prices_dinner': 142, 'prices_lunch': 142, 'rest_addr': '東京都北區上十條1-13-2', 'rest_area': '十條', 'rest_catg': '拉麵/沾麵/油麵', 'rest_rating': 3.81, 'service_rating_dinner': 3.44, 'service_rating_lunch': 3.44, 'store_nm_en': 'niboshisobaru', 'store_nm_jp': '煮干そば 流。', 'transport': 'JR埼京線「十条」駅(南口)から徒歩1分\\n\\n\\n距离十條 85  米'}, {'age': 37, 'cp_rating_dinner': 3.91, 'cp_rating_lunch': 3.86, 'feeling_rating_dinner': 3.47, 'feeling_rating_lunch': 3.47, 'female_prop': 24.19, 'label_code': 0, 'label_desc': '高消族', 'lat': 35.6768685, 'lng': 139.7362442, 'male_prop': 75.81, 'meal_duration': 1.0, 'prices_dinner': 4961, 'prices_lunch': 425, 'rest_addr': '東京都港區赤坂3-9-12', 'rest_area': '赤坂', 'rest_catg': '燒肉/牛肉料理/烤內臟', 'rest_rating': 4.36, 'service_rating_dinner': 4.0, 'service_rating_lunch': 3.7, 'store_nm_en': 'Akasakaraimon', 'store_nm_jp': '赤坂 らいもん', 'transport': '距离赤坂見附 94  米'}, {'age': 33, 'cp_rating_dinner': 3.82, 'cp_rating_lunch': 2.9, 'feeling_rating_dinner': 4.09, 'feeling_rating_lunch': 5.0, 'female_prop': 24.06, 'label_code': 0, 'label_desc': '高消族', 'lat': 35.7009601, 'lng': 139.7402039, 'male_prop': 75.94, 'meal_duration': 1.0, 'prices_dinner': 7087, 'prices_lunch': 425, 'rest_addr': '東京都新宿區神樂坂3-6', 'rest_area': '飯田橋・神樂坂', 'rest_catg': '鐵板燒/日式料理（其他）/牛排', 'rest_rating': 4.07, 'service_rating_dinner': 4.3, 'service_rating_lunch': 4.64, 'store_nm_en': 'Kakugazakateppanyakinakamura', 'store_nm_jp': '神楽坂\\u3000鉄板焼 中むら', 'transport': '都営地下鉄大江戸線【牛込神楽坂駅】\\nA3出口から徒歩５分\\n東京メトロ有楽町線・南北線【飯田橋駅】\\nB3 出口から徒歩４分\\nＪＲ中央線（各駅停車）【飯田橋駅】西口徒歩６分\\n東京メトロ東西線【神楽坂駅】出入口１徒歩７分\\n\\n\\n距离飯田橋 397  米'}, {'age': 39, 'cp_rating_dinner': 3.51, 'cp_rating_lunch': 3.66, 'feeling_rating_dinner': 3.52, 'feeling_rating_lunch': 3.67, 'female_prop': 23.64, 'label_code': 1, 'label_desc': '平消族', 'lat': 35.6745083, 'lng': 139.7690144, 'male_prop': 76.36, 'meal_duration': 1.0, 'prices_dinner': 709, 'prices_lunch': 142, 'rest_addr': '東京都中央區銀座1-8-2', 'rest_area': '銀座', 'rest_catg': '印度料理/印度咖哩/餐飲酒館', 'rest_rating': 3.79, 'service_rating_dinner': 3.61, 'service_rating_lunch': 3.76, 'store_nm_en': 'Andhra Dining GINZA', 'store_nm_jp': 'アーンドラ・ダイニング 銀座', 'transport': '有楽町線\\u3000銀座１丁目駅\\u3000７番出口より徒歩２分\\n銀座線\\u3000京橋駅\\u3000１番出口より徒歩２分\\nコージーコーナー銀座一丁目店の隣\\n\\n\\n距离銀座一丁目 171  米'}, {'age': 45, 'cp_rating_dinner': 3.17, 'cp_rating_lunch': 3.54, 'feeling_rating_dinner': 3.71, 'feeling_rating_lunch': 3.89, 'female_prop': 23.49, 'label_code': 1, 'label_desc': '平消族', 'lat': 35.689367, 'lng': 139.7717422, 'male_prop': 76.51, 'meal_duration': 1.0, 'prices_dinner': 1276, 'prices_lunch': 425, 'rest_addr': '東京都中央區日本橋室町4-1-13', 'rest_area': '神田・御茶之水', 'rest_catg': '蕎麥麵', 'rest_rating': 3.79, 'service_rating_dinner': 3.48, 'service_rating_lunch': 3.69, 'store_nm_en': 'Muromachisunaba', 'store_nm_jp': '室町砂場', 'transport': 'ＪＲ 「神田」駅\\u3000徒歩4分\\nＪＲ 「新日本橋」駅\\u3000徒歩3分\\n東京メトロ銀座線 「三越前」駅\\u3000徒歩3分\\n\\n\\n距离新日本橋 206  米'}, {'age': 43, 'cp_rating_dinner': 3.24, 'cp_rating_lunch': 3.35, 'feeling_rating_dinner': 3.67, 'feeling_rating_lunch': 3.82, 'female_prop': 23.28, 'label_code': 1, 'label_desc': '平消族', 'lat': 35.6812097, 'lng': 139.7747558, 'male_prop': 76.72, 'meal_duration': 1.0, 'prices_dinner': 1984, 'prices_lunch': 425, 'rest_addr': '東京都中央區日本橋2-9-9', 'rest_area': '日本橋・京橋', 'rest_catg': '魚類料理・海鮮料理/星鰻/天婦羅', 'rest_rating': 3.77, 'service_rating_dinner': 3.39, 'service_rating_lunch': 3.56, 'store_nm_en': 'Tamai', 'store_nm_jp': '玉ゐ 本店', 'transport': 'ＪＲ東京駅八重洲口から高島屋デパート方面へ徒歩8分。東京メトロ銀座線・東西線、都営浅草線日本橋駅から徒歩3分。\\n\\n\\n距离日本橋 106  米'}]\n"
     ]
    },
    {
     "name": "stdout",
     "output_type": "stream",
     "text": [
      "=====================\n",
      " 第1天行程：\n",
      "淺草 Asakusa約4.9 公里，景點間通勤約需8 分鐘。\n",
      "---------------\n",
      "雷門 Nakamise Shopping Street (Kaminarimon)約1.8 公里，景點間通勤約需7 分鐘。\n",
      "---------------\n",
      "淺草文化觀光中心 Asakusa Culture Tourist Information Center約61 公尺，景點間通勤約需1 分鐘。\n",
      "---------------\n",
      "\n",
      "地圖連結：https://45a28610.ngrok.io/images/day1-U6862a7797fb21baaca9d110ccc061758-1574394625433map.html\n",
      "===============\n",
      "第2天行程：\n",
      "東京迪士尼樂園 Tokyo Disneyland約15.6 公里，景點間通勤約需20 分鐘。\n",
      "---------------\n",
      "\n",
      "地圖連結：https://45a28610.ngrok.io/images/day2-U6862a7797fb21baaca9d110ccc061758-1574394625433map.html\n",
      "===============\n",
      "第3天行程：\n",
      "歌舞伎劇場 Kabukiza Theater約0.9 公里，景點間通勤約需3 分鐘。\n",
      "---------------\n",
      "增上寺 Zojo-ji Temple約3.0 公里，景點間通勤約需10 分鐘。\n",
      "---------------\n",
      "出光美術館 Idemitsu Museum約3.1 公里，景點間通勤約需10 分鐘。\n",
      "---------------\n",
      "\n",
      "地圖連結：https://45a28610.ngrok.io/images/day3-U6862a7797fb21baaca9d110ccc061758-1574394625433map.html\n",
      "===============\n",
      "第4天行程：\n",
      "隅田川花火大會 Sumida River Fireworks約6.5 公里，景點間通勤約需11 分鐘。\n",
      "---------------\n",
      "板橋花火節 Itabashi Fireworks約16.9 公里，景點間通勤約需23 分鐘。\n",
      "---------------\n",
      "大江戶古董市場 - 東京國際論壇 Oedo Antique Market - Tokyo International Forum約13.9 公里，景點間通勤約需19 分鐘。\n",
      "---------------\n",
      "\n",
      "地圖連結：https://45a28610.ngrok.io/images/day4-U6862a7797fb21baaca9d110ccc061758-1574394625433map.html\n",
      "===============\n",
      "第5天行程：\n",
      "東京跨海大橋 Tokyo Gate Bridge約12.9 公里，景點間通勤約需20 分鐘。\n",
      "---------------\n",
      "東京藝術劇場 Tokyo Metropolitan Theatre約21.3 公里，景點間通勤約需34 分鐘。\n",
      "---------------\n",
      " Honda Welcome Plaza Aoyama約12.3 公里，景點間通勤約需21 分鐘。\n",
      "---------------\n",
      "\n",
      "地圖連結：https://45a28610.ngrok.io/images/day5-U6862a7797fb21baaca9d110ccc061758-1574394625433map.html\n",
      "===============\n",
      "第6天行程：\n",
      "精工博物館 The Seiko Museum約8.6 公里，景點間通勤約需11 分鐘。\n",
      "---------------\n",
      "葛飾柴又寅先生紀念館 Katsushika Shibamata Torasan Memorial Hall約9.4 公里，景點間通勤約需24 分鐘。\n",
      "---------------\n",
      "築地本願寺 Tsukiji Honganji Temple約23.3 公里，景點間通勤約需34 分鐘。\n",
      "---------------\n",
      "\n",
      "地圖連結：https://45a28610.ngrok.io/images/day6-U6862a7797fb21baaca9d110ccc061758-1574394625433map.html\n",
      "===============\n",
      "第7天行程：\n",
      "東京國立近代美術館 The National Museum of Modern Art約4.3 公里，景點間通勤約需8 分鐘。\n",
      "---------------\n",
      " Hikarie 涉谷店 Shibuya Hikarie約8.1 公里，景點間通勤約需16 分鐘。\n",
      "---------------\n",
      "銀座東急Plaza購物中心 Tokyu Plaza Ginza約9.7 公里，景點間通勤約需19 分鐘。\n",
      "---------------\n",
      "\n",
      "地圖連結：https://45a28610.ngrok.io/images/day7-U6862a7797fb21baaca9d110ccc061758-1574394625433map.html\n",
      "===============\n",
      " \n",
      "=======================\n"
     ]
    },
    {
     "name": "stderr",
     "output_type": "stream",
     "text": [
      "172.18.0.6 - - [22/Nov/2019 03:51:14] \"POST / HTTP/1.1\" 200 -\n",
      "172.18.0.6 - - [22/Nov/2019 03:51:14] \"GET /images/day1-U6862a7797fb21baaca9d110ccc061758-1574394612872map.html HTTP/1.1\" 206 -\n",
      "172.18.0.6 - - [22/Nov/2019 03:51:14] \"GET /images/day4-U6862a7797fb21baaca9d110ccc061758-1574394612872map.html HTTP/1.1\" 206 -\n"
     ]
    },
    {
     "name": "stdout",
     "output_type": "stream",
     "text": [
      "type ==> <class 'linebot.exceptions.LineBotApiError'>\n",
      "value ==> LineBotApiError: status_code=400, error_response={\"details\": [{\"message\": \"Length must be between 0 and 2000\", \"property\": \"messages[1].text\"}], \"message\": \"The request body has 1 error(s)\"}\n",
      "traceback ==> file name: <ipython-input-25-a23c8ff16dbb>\n",
      "traceback ==> line no: 156\n",
      "traceback ==> function name: handle_message\n",
      "::tripStart:\n"
     ]
    },
    {
     "name": "stderr",
     "output_type": "stream",
     "text": [
      "172.18.0.6 - - [22/Nov/2019 03:51:15] \"POST / HTTP/1.1\" 200 -\n"
     ]
    },
    {
     "name": "stdout",
     "output_type": "stream",
     "text": [
      "₣x Vicky,U14770bc146b1d3631d0e51c6d9af7dda\n",
      "{\"data\": \"poi\"}\n",
      "1574394634641,2019-11-22 03:50:34.641000\n"
     ]
    },
    {
     "name": "stderr",
     "output_type": "stream",
     "text": [
      "172.18.0.6 - - [22/Nov/2019 03:51:15] \"POST / HTTP/1.1\" 200 -\n",
      "172.18.0.6 - - [22/Nov/2019 03:51:15] \"GET /images/day6-U6862a7797fb21baaca9d110ccc061758-1574394612872map.html HTTP/1.1\" 206 -\n"
     ]
    },
    {
     "name": "stdout",
     "output_type": "stream",
     "text": [
      "type ==> <class 'linebot.exceptions.LineBotApiError'>\n",
      "value ==> LineBotApiError: status_code=400, error_response={\"details\": [], \"message\": \"Invalid reply token\"}\n",
      "traceback ==> file name: <ipython-input-25-a23c8ff16dbb>\n",
      "traceback ==> line no: 161\n",
      "traceback ==> function name: handle_message\n",
      "::POI:\n"
     ]
    },
    {
     "name": "stderr",
     "output_type": "stream",
     "text": [
      "172.18.0.6 - - [22/Nov/2019 03:51:38] \"GET /images/day1-U6862a7797fb21baaca9d110ccc061758-1574394623403map.html HTTP/1.1\" 206 -\n",
      "172.18.0.6 - - [22/Nov/2019 03:51:40] \"GET /images/day1-U6862a7797fb21baaca9d110ccc061758-1574394623403map.html HTTP/1.1\" 200 -\n",
      "172.18.0.6 - - [22/Nov/2019 03:51:41] \"GET /images/day1-U6862a7797fb21baaca9d110ccc061758-1574394623871map.html HTTP/1.1\" 206 -\n",
      "172.18.0.6 - - [22/Nov/2019 03:51:42] \"GET /images/day1-U6862a7797fb21baaca9d110ccc061758-1574394623871map.html HTTP/1.1\" 200 -\n",
      "172.18.0.6 - - [22/Nov/2019 03:51:42] \"GET /images/day2-U6862a7797fb21baaca9d110ccc061758-1574394623403map.html HTTP/1.1\" 206 -\n",
      "172.18.0.6 - - [22/Nov/2019 03:51:43] \"GET /images/day1-U6862a7797fb21baaca9d110ccc061758-1574394624073map.html HTTP/1.1\" 206 -\n",
      "172.18.0.6 - - [22/Nov/2019 03:51:43] \"GET /images/day2-U6862a7797fb21baaca9d110ccc061758-1574394623403map.html HTTP/1.1\" 200 -\n",
      "172.18.0.6 - - [22/Nov/2019 03:51:44] \"GET /images/day1-U6862a7797fb21baaca9d110ccc061758-1574394624073map.html HTTP/1.1\" 200 -\n",
      "172.18.0.6 - - [22/Nov/2019 03:51:44] \"GET /images/day2-U6862a7797fb21baaca9d110ccc061758-1574394623871map.html HTTP/1.1\" 206 -\n",
      "172.18.0.6 - - [22/Nov/2019 03:51:45] \"GET /images/day2-U6862a7797fb21baaca9d110ccc061758-1574394623871map.html HTTP/1.1\" 200 -\n",
      "172.18.0.6 - - [22/Nov/2019 03:51:45] \"GET /images/day3-U6862a7797fb21baaca9d110ccc061758-1574394623403map.html HTTP/1.1\" 206 -\n",
      "172.18.0.6 - - [22/Nov/2019 03:51:46] \"GET /images/day2-U6862a7797fb21baaca9d110ccc061758-1574394624073map.html HTTP/1.1\" 206 -\n",
      "172.18.0.6 - - [22/Nov/2019 03:51:46] \"GET /images/day3-U6862a7797fb21baaca9d110ccc061758-1574394623403map.html HTTP/1.1\" 200 -\n",
      "172.18.0.6 - - [22/Nov/2019 03:51:47] \"GET /images/day2-U6862a7797fb21baaca9d110ccc061758-1574394624073map.html HTTP/1.1\" 200 -\n",
      "172.18.0.6 - - [22/Nov/2019 03:51:48] \"GET /images/day3-U6862a7797fb21baaca9d110ccc061758-1574394623871map.html HTTP/1.1\" 206 -\n",
      "172.18.0.6 - - [22/Nov/2019 03:51:48] \"GET /images/day4-U6862a7797fb21baaca9d110ccc061758-1574394623403map.html HTTP/1.1\" 206 -\n",
      "172.18.0.6 - - [22/Nov/2019 03:51:49] \"GET /images/day3-U6862a7797fb21baaca9d110ccc061758-1574394623871map.html HTTP/1.1\" 200 -\n",
      "172.18.0.6 - - [22/Nov/2019 03:51:49] \"GET /images/day4-U6862a7797fb21baaca9d110ccc061758-1574394623403map.html HTTP/1.1\" 200 -\n",
      "172.18.0.6 - - [22/Nov/2019 03:51:50] \"GET /images/day3-U6862a7797fb21baaca9d110ccc061758-1574394624073map.html HTTP/1.1\" 206 -\n",
      "172.18.0.6 - - [22/Nov/2019 03:51:51] \"GET /images/day3-U6862a7797fb21baaca9d110ccc061758-1574394624073map.html HTTP/1.1\" 200 -\n",
      "172.18.0.6 - - [22/Nov/2019 03:51:51] \"GET /images/day4-U6862a7797fb21baaca9d110ccc061758-1574394623871map.html HTTP/1.1\" 206 -\n",
      "172.18.0.6 - - [22/Nov/2019 03:51:52] \"GET /images/day5-U6862a7797fb21baaca9d110ccc061758-1574394623403map.html HTTP/1.1\" 206 -\n",
      "172.18.0.6 - - [22/Nov/2019 03:51:52] \"GET /images/day4-U6862a7797fb21baaca9d110ccc061758-1574394623871map.html HTTP/1.1\" 200 -\n",
      "172.18.0.6 - - [22/Nov/2019 03:51:53] \"GET /images/day5-U6862a7797fb21baaca9d110ccc061758-1574394623403map.html HTTP/1.1\" 200 -\n",
      "172.18.0.6 - - [22/Nov/2019 03:51:53] \"GET /images/day4-U6862a7797fb21baaca9d110ccc061758-1574394624073map.html HTTP/1.1\" 206 -\n",
      "172.18.0.6 - - [22/Nov/2019 03:51:54] \"GET /images/day4-U6862a7797fb21baaca9d110ccc061758-1574394624073map.html HTTP/1.1\" 200 -\n",
      "172.18.0.6 - - [22/Nov/2019 03:51:54] \"GET /images/day5-U6862a7797fb21baaca9d110ccc061758-1574394623871map.html HTTP/1.1\" 206 -\n",
      "172.18.0.6 - - [22/Nov/2019 03:51:55] \"GET /images/day5-U6862a7797fb21baaca9d110ccc061758-1574394623871map.html HTTP/1.1\" 200 -\n",
      "172.18.0.6 - - [22/Nov/2019 03:51:55] \"GET /images/day6-U6862a7797fb21baaca9d110ccc061758-1574394623403map.html HTTP/1.1\" 206 -\n",
      "172.18.0.6 - - [22/Nov/2019 03:51:57] \"GET /images/day6-U6862a7797fb21baaca9d110ccc061758-1574394623403map.html HTTP/1.1\" 200 -\n",
      "172.18.0.6 - - [22/Nov/2019 03:51:57] \"GET /images/day5-U6862a7797fb21baaca9d110ccc061758-1574394624073map.html HTTP/1.1\" 206 -\n",
      "172.18.0.6 - - [22/Nov/2019 03:51:58] \"GET /images/day5-U6862a7797fb21baaca9d110ccc061758-1574394624073map.html HTTP/1.1\" 200 -\n",
      "172.18.0.6 - - [22/Nov/2019 03:57:37] \"POST / HTTP/1.1\" 200 -\n"
     ]
    },
    {
     "name": "stdout",
     "output_type": "stream",
     "text": [
      "Nihili Feng,U6862a7797fb21baaca9d110ccc061758\n",
      "{\"data\": \"flight-hotel\"}\n",
      "1574395056502,2019-11-22 03:57:36.502000\n",
      "{'age': 31, 'been2tko': 0, 'days': 7, 'budget': 10000, 'isFemale': 0, 'fbudget': 3000, 'dDate': '2019-11-30', 'rDate': '2019-12-07'}\n",
      "{'airline': 'Tigerair Taiwan', 'date_format(eta,\"%a\")': 'Sat', 'date_format(etd,\"%a\")': 'Sat', 'date_format(saEta,\"%a\")': 'Sat', 'date_format(saEtd,\"%a\")': 'Sat', 'price': 7767, 'time_format(eta,\"%T\")': '10:35:00', 'time_format(etd,\"%T\")': '06:35:00', 'time_format(saEta,\"%T\")': '21:50:00', 'time_format(saEtd,\"%T\")': '18:30:00', 'time_format(sec_to_time(dur),\"%T\")': '03:00:00', 'time_format(sec_to_time(saDur),\"%T\")': '04:20:00'}\n",
      "bk by sat\n",
      "{'age': 31, 'been2tko': 0, 'days': 7, 'budget': 10000, 'isFemale': 0, 'hotel budget': 1000}\n",
      "{'CP': 2.982954545, 'pre': 2.0, '交通1': '淺草站 - 走路 4 分鐘', '交通2': '東京晴空塔站 - 走路 20 分鐘', '交通3': '東京, 日本 (NRT-成田國際機場) - 車程 45 分鐘', '交通便利性': '4', '價格': 1408.0, '地址': '1-5-3, Asakusa, Taito-ku, 東京', '廚房': 0.0, '星等': 3.0, '經度': 139.79419, '網址': 'https://www.expedia.com.tw/Tokyo-Hotels-Asakusa-Central-Hotel.h16517781.Hotel-Information?chkin=2019%2F10%2F4&chkout=2019%2F10%2F5&regionId=179900&destination=%E6%9D%B1%E4%BA%AC+%28%E5%8F%8A%E9%84%B0%E8%BF%91%E5%9C%B0%E5%8D%80%29%2C+%E6%97%A5%E6%9C%AC&swpToggleOn=true&rm1=a1&x_pwa=1&sort=recommended&top_dp=1408&top_cur=TWD&rfrr=HSR&pwa_ts=1570019406618', '緯度': 35.71144, '評價': 4.2, '鄰近景點1': '淺草寺雷門 - 步行 7 分鐘', '鄰近景點2': '淺草神社 - 步行 7 分鐘', '鄰近景點3': '東京晴空塔 - 開車 2 分鐘', '鄰近景點4': '國立科學博物館 - 開車 3 分鐘', '鄰近景點5': '江戶東京博物館 - 開車 3 分鐘', '飯店名稱': '淺草中央飯店'}\n",
      "[{\"text\": \"\\u8b93\\u60a8\\u4e45\\u7b49\\u4e86\\u3002\\n\\u4f9d\\u64da\\u60a8\\u7684\\u504f\\u597d\\u5206\\u6790\\uff0c\\u6700\\u9069\\u5408\\u60a8\\u7684\\u822a\\u73ed\\u70baTigerair Taiwan\\uff0c\\u53c3\\u8003\\u50f9\\u683c\\u70baNTD$7767\\u3002\\n\\n\\u51fa\\u767c\\u8d77\\u98db\\u6642\\u9593\\u70ba(\\u53f0\\u5317)2019-11-30(Sat) 06:35:00\\uff0c\\u9700\\u664203:00:00\\uff0c\\u62b5\\u9054\\u6642\\u9593\\u70ba(\\u6771\\u4eac)2019-11-30(Sat) 10:35:00\\u3002\\n\\n\\u56de\\u570b\\u8d77\\u98db\\u6642\\u9593\\u70ba(\\u6771\\u4eac)2019-12-07(Sat) 18:30:00\\uff0c\\u9700\\u664204:20:00\\uff0c\\u62b5\\u9054\\u6642\\u9593\\u70ba(\\u53f0\\u5317)2019-12-07(Sat) 21:50:00\\u3002\\n---------------\\n\\n\\n\\u6700\\u9069\\u5408\\u60a8\\u7684\\u98ef\\u5e97\\u70ba\\n\\u6dfa\\u8349\\u4e2d\\u592e\\u98ef\\u5e97\\uff0c3\\u9846\\u661f\\uff0c\\u7528\\u6236\\u8a55\\u50f94.2/5\\uff0c\\n\\u6bcf\\u665a\\u53c3\\u8003\\u50f9\\u683c\\u70baNTD$1408\\u3002\\n\\u5730\\u5740\\u70ba1-5-3, Asakusa, Taito-ku, \\u6771\\u4eac\\u3002\\n\\n\\u9130\\u8fd1\\u5730\\u9435\\u7ad9\\uff1a\\n\\u6dfa\\u8349\\u7ad9 - \\u8d70\\u8def 4 \\u5206\\u9418\\uff0c\\n\\u6771\\u4eac\\u6674\\u7a7a\\u5854\\u7ad9 - \\u8d70\\u8def 20 \\u5206\\u9418\\u3002\\n\\n\\u9644\\u8fd1\\u666f\\u9ede\\uff1a\\n\\u6dfa\\u8349\\u5bfa\\u96f7\\u9580 - \\u6b65\\u884c 7 \\u5206\\u9418\\uff0c\\n\\u6dfa\\u8349\\u795e\\u793e - \\u6b65\\u884c 7 \\u5206\\u9418\\uff0c\\n\\u6771\\u4eac\\u6674\\u7a7a\\u5854 - \\u958b\\u8eca 2 \\u5206\\u9418\\u3002\", \"type\": \"text\"}, {\"packageId\": \"11537\", \"stickerId\": \"52002745\", \"type\": \"sticker\"}]\n"
     ]
    },
    {
     "name": "stderr",
     "output_type": "stream",
     "text": [
      "172.18.0.6 - - [22/Nov/2019 03:57:38] \"POST / HTTP/1.1\" 200 -\n"
     ]
    },
    {
     "name": "stdout",
     "output_type": "stream",
     "text": [
      "::flightHotel:\n"
     ]
    },
    {
     "name": "stderr",
     "output_type": "stream",
     "text": [
      "172.18.0.6 - - [22/Nov/2019 03:58:16] \"POST / HTTP/1.1\" 200 -\n"
     ]
    },
    {
     "name": "stdout",
     "output_type": "stream",
     "text": [
      "Nihili Feng,U6862a7797fb21baaca9d110ccc061758\n",
      "{\"data\": \"souvenir\"}\n",
      "1574395095643,2019-11-22 03:58:15.643000\n",
      "{'age': 31, 'been2tko': 0, 'days': 7, 'budget': 10000, 'isFemale': 0}\n",
      "10 [{'Types': '餅乾類', 'address': '渋谷駅渋谷マークシティB1F', 'price': 1080, 'ranking': 67, 'souvenir': '銀座菊廼舎（きくのや）「冨貴寄-ふきよせ-」', 'url': 'http://www.testarossacafe.net/'}, {'Types': '餅乾類', 'address': '新宿駅伊勢丹B1F', 'price': 1080, 'ranking': 71, 'souvenir': 'ノワ・ドゥ・ブール「サブレ・アマンド」', 'url': 'http://noix-de-beurre.com'}, {'Types': '餅乾類', 'address': '東京駅グランスタB1F', 'price': 648, 'ranking': 30, 'souvenir': '桂新堂「パンダの旅」', 'url': 'http://www.keishindo.co.jp'}, {'Types': '小蛋糕類', 'address': '銀座駅周辺東京都中央区銀座5丁目6-15座STONE［ザ・ストーン］1F', 'price': 756, 'ranking': 5, 'souvenir': 'ねんりん家_銀座本店「はちみつ香マウントバーム」', 'url': 'https://www.nenrinya.jp'}, {'Types': '點心類', 'address': '東京スカイツリー東京ソラマチ 2F', 'price': 648, 'ranking': 33, 'souvenir': 'ねんりん家「ちいさなバームツリーの東京バームツリーボックス」', 'url': 'https://www.nenrinya.jp/littlebaumtree/'}, {'Types': '點心類', 'address': '新宿駅小田急百貨店本館B2F', 'price': 216, 'ranking': 84, 'souvenir': 'モロゾフ「カスタードプリン」', 'url': 'http://www.morozoff.co.jp/products/pudding/'}, {'Types': '巧克力類', 'address': '銀座駅銀座三越B2F', 'price': 414, 'ranking': 36, 'souvenir': 'CAFE OHZAN（カフェオウザン）「クロワッサンラスク」', 'url': 'http://onlineshop.cafe-ohzan.com/'}, {'Types': '巧克力類', 'address': '東京駅グランスタB1F', 'price': 648, 'ranking': 46, 'souvenir': 'コロンバン「東京駅焼きショコラ」', 'url': 'http://www.wagashi-miyabian.com'}, {'Types': '夾心餅乾類', 'address': '東京駅構内南通路', 'price': 1080, 'ranking': 2, 'souvenir': 'かみなり舎「ニューヨークパーフェクトチーズ」', 'url': 'なし'}, {'Types': '夾心餅乾類', 'address': '東京駅グランスタB1F', 'price': 1300, 'ranking': 82, 'souvenir': 'ワッフル・ケーキの店エール・エル（R.L）「東京駅限定ワッフル10個セット」', 'url': 'http://www.rl-waffle.co.jp'}]\n"
     ]
    },
    {
     "name": "stderr",
     "output_type": "stream",
     "text": [
      "172.18.0.6 - - [22/Nov/2019 03:58:17] \"POST / HTTP/1.1\" 200 -\n"
     ]
    },
    {
     "name": "stdout",
     "output_type": "stream",
     "text": [
      "::souvenir:\n"
     ]
    },
    {
     "name": "stderr",
     "output_type": "stream",
     "text": [
      "172.18.0.6 - - [22/Nov/2019 04:02:49] \"POST / HTTP/1.1\" 200 -\n"
     ]
    },
    {
     "name": "stdout",
     "output_type": "stream",
     "text": [
      "Yu Liang,Ud799fbc01cc9abf903a55f1889e3b1bd\n",
      "{\"data\": \"restaurant\"}\n",
      "1574395368780,2019-11-22 04:02:48.780000\n",
      "{'age': 29, 'been2tko': 1, 'days': 2, 'totalBudget': 50000, 'gender': 0, 'oneBudget': 500}\n",
      "4 [{'age': 41, 'cp_rating_dinner': 4.03, 'cp_rating_lunch': 4.94, 'feeling_rating_dinner': 4.11, 'feeling_rating_lunch': 4.96, 'female_prop': 24.16, 'label_code': 0, 'label_desc': '高消族', 'lat': 35.6732418, 'lng': 139.7695984, 'male_prop': 75.84, 'meal_duration': 1.0, 'prices_dinner': 7087, 'prices_lunch': 425, 'rest_addr': '東京都中央區銀座1-14-14', 'rest_area': '銀座', 'rest_catg': '壽司', 'rest_rating': 4.27, 'service_rating_dinner': 4.1, 'service_rating_lunch': 4.88, 'store_nm_en': 'Sushi Takahashi', 'store_nm_jp': '鮨 たかはし', 'transport': '東京メトロ\\u3000有楽町線\\u3000銀座一丁目駅\\u300010番･11番出口から徒歩２分\\n銀座駅、京橋駅からも徒歩圏内\\n\\n\\n距离銀座一丁目 244  米'}, {'age': 38, 'cp_rating_dinner': 3.91, 'cp_rating_lunch': 3.99, 'feeling_rating_dinner': 4.14, 'feeling_rating_lunch': 4.41, 'female_prop': 24.18, 'label_code': 0, 'label_desc': '高消族', 'lat': 35.6678322, 'lng': 139.7172361, 'male_prop': 75.82, 'meal_duration': 1.0, 'prices_dinner': 4961, 'prices_lunch': 425, 'rest_addr': '東京都港區南青山3-2-4', 'rest_area': '青山一丁目・外苑前', 'rest_catg': '天婦羅', 'rest_rating': 4.2, 'service_rating_dinner': 4.04, 'service_rating_lunch': 4.14, 'store_nm_en': 'Motoyoshi', 'store_nm_jp': '天ぷら 元吉', 'transport': '銀座線外苑前駅徒歩3分（神宮球場方向\\u3000１ａ出口）\\n\\n\\n距离外苑前 287  米'}, {'age': 37, 'cp_rating_dinner': 3.33, 'cp_rating_lunch': 3.18, 'feeling_rating_dinner': 3.45, 'feeling_rating_lunch': 3.39, 'female_prop': 22.56, 'label_code': 1, 'label_desc': '平消族', 'lat': 35.6951794, 'lng': 139.7004923, 'male_prop': 77.44, 'meal_duration': 1.0, 'prices_dinner': 142, 'prices_lunch': 142, 'rest_addr': '東京都新宿區歌舞伎町1-27-3', 'rest_area': '新宿', 'rest_catg': '拉麵', 'rest_rating': 3.75, 'service_rating_dinner': 3.4, 'service_rating_lunch': 3.39, 'store_nm_en': 'Yakiagoshioramentakahashi', 'store_nm_jp': '焼きあご塩らー麺 たかはし 新宿本店', 'transport': '西武新宿駅より1分。\\n新宿駅東口より５分。\\n新宿大ガード東交差点より、大久保方面に徒歩１分。\\nカラオケ館西武新宿駅前店のすぐ裏手です。\\n\\n\\n距离西武新宿 116  米'}, {'age': 38, 'cp_rating_dinner': 3.52, 'cp_rating_lunch': 3.09, 'feeling_rating_dinner': 3.45, 'feeling_rating_lunch': 3.07, 'female_prop': 23.93, 'label_code': 1, 'label_desc': '平消族', 'lat': 35.6707809, 'lng': 139.7692631, 'male_prop': 76.07, 'meal_duration': 1.0, 'prices_dinner': 2551, 'prices_lunch': 425, 'rest_addr': '東京都中央區銀座3-12-5', 'rest_area': '銀座', 'rest_catg': '牛排/法式小酒館/餐飲酒館', 'rest_rating': 3.85, 'service_rating_dinner': 3.37, 'service_rating_lunch': 3.07, 'store_nm_en': 'Ibaia', 'store_nm_jp': 'IBAIA', 'transport': '距离東銀座 232  米'}]\n"
     ]
    },
    {
     "name": "stderr",
     "output_type": "stream",
     "text": [
      "172.18.0.6 - - [22/Nov/2019 04:02:50] \"POST / HTTP/1.1\" 200 -\n"
     ]
    },
    {
     "name": "stdout",
     "output_type": "stream",
     "text": [
      "::restaurant:\n"
     ]
    },
    {
     "name": "stderr",
     "output_type": "stream",
     "text": [
      "172.18.0.6 - - [22/Nov/2019 04:04:08] \"POST / HTTP/1.1\" 200 -\n"
     ]
    },
    {
     "name": "stdout",
     "output_type": "stream",
     "text": [
      "::FAQ:\n"
     ]
    },
    {
     "name": "stderr",
     "output_type": "stream",
     "text": [
      "172.18.0.6 - - [22/Nov/2019 04:04:09] \"POST / HTTP/1.1\" 200 -\n"
     ]
    },
    {
     "name": "stdout",
     "output_type": "stream",
     "text": [
      "Nihili Feng,U6862a7797fb21baaca9d110ccc061758\n",
      "{\"data\": \"faq\"}\n",
      "1574395447413,2019-11-22 04:04:07.413000\n"
     ]
    },
    {
     "name": "stderr",
     "output_type": "stream",
     "text": [
      "172.18.0.6 - - [22/Nov/2019 04:04:17] \"POST / HTTP/1.1\" 200 -\n"
     ]
    },
    {
     "name": "stdout",
     "output_type": "stream",
     "text": [
      "Nihili Feng,U6862a7797fb21baaca9d110ccc061758\n",
      "{\"data\": \"update\"}\n",
      "1574395456339,2019-11-22 04:04:16.339000\n"
     ]
    },
    {
     "name": "stderr",
     "output_type": "stream",
     "text": [
      "172.18.0.6 - - [22/Nov/2019 04:04:20] \"POST / HTTP/1.1\" 200 -\n"
     ]
    },
    {
     "name": "stdout",
     "output_type": "stream",
     "text": [
      "Nihili Feng,U6862a7797fb21baaca9d110ccc061758\n",
      "{\"data\": \"gender,0\"}\n",
      "1574395459790,2019-11-22 04:04:19.790000\n"
     ]
    },
    {
     "name": "stderr",
     "output_type": "stream",
     "text": [
      "172.18.0.6 - - [22/Nov/2019 04:04:30] \"POST / HTTP/1.1\" 200 -\n"
     ]
    },
    {
     "name": "stdout",
     "output_type": "stream",
     "text": [
      "Nihili Feng,U6862a7797fb21baaca9d110ccc061758\n",
      "{\"data\": \"birthday\", \"params\": {\"date\": \"2019-11-22\"}}\n",
      "1574395469753,2019-11-22 04:04:29.753000\n"
     ]
    },
    {
     "name": "stderr",
     "output_type": "stream",
     "text": [
      "172.18.0.6 - - [22/Nov/2019 04:04:41] \"POST / HTTP/1.1\" 200 -\n"
     ]
    },
    {
     "name": "stdout",
     "output_type": "stream",
     "text": [
      "@0\n"
     ]
    },
    {
     "name": "stderr",
     "output_type": "stream",
     "text": [
      "172.18.0.6 - - [22/Nov/2019 04:04:44] \"POST / HTTP/1.1\" 200 -\n"
     ]
    },
    {
     "name": "stdout",
     "output_type": "stream",
     "text": [
      "Yu Liang,Ud799fbc01cc9abf903a55f1889e3b1bd\n",
      "{\"data\": \"flight-hotel\"}\n",
      "1574395483156,2019-11-22 04:04:43.156000\n",
      "{'age': 29, 'been2tko': 1, 'days': 2, 'budget': 50000, 'isFemale': 0, 'fbudget': 16000, 'dDate': '2019-11-30', 'rDate': '2019-12-02'}\n",
      "{'airline': 'Tigerair Taiwan', 'date_format(eta,\"%a\")': 'Sat', 'date_format(etd,\"%a\")': 'Sat', 'date_format(moEta,\"%a\")': 'Mon', 'date_format(moEtd,\"%a\")': 'Mon', 'price': 7767, 'time_format(eta,\"%T\")': '10:35:00', 'time_format(etd,\"%T\")': '06:35:00', 'time_format(moEta,\"%T\")': '07:55:00', 'time_format(moEtd,\"%T\")': '05:00:00', 'time_format(sec_to_time(dur),\"%T\")': '03:00:00', 'time_format(sec_to_time(moDur),\"%T\")': '03:55:00'}\n",
      "bk by mon\n",
      "{'age': 29, 'been2tko': 1, 'days': 2, 'budget': 50000, 'isFemale': 0, 'hotel budget': 3000}\n",
      "{'CP': 3.897116134, 'pre': 2.0, '交通1': '船堀站 - 走路 5 分鐘', '交通2': '新小岩站 - 走路 17 分鐘', '交通3': '東京, 日本 (NRT-成田國際機場) - 車程 41 分鐘', '交通便利性': '5', '價格': 1283.0, '地址': '1-2-5 Nishishinkoiwa, Katsushika, 東京, 東京', '廚房': 0.0, '星等': 3.0, '經度': 139.847048, '網址': 'https://www.expedia.com.tw/Tokyo-Hotels-Cypress-Inn-Tokyo.h36955721.Hotel-Information?chkin=2019%2F10%2F4&chkout=2019%2F10%2F5&regionId=179900&destination=%E6%9D%B1%E4%BA%AC+%28%E5%8F%8A%E9%84%B0%E8%BF%91%E5%9C%B0%E5%8D%80%29%2C+%E6%97%A5%E6%9C%AC&swpToggleOn=true&rm1=a1&x_pwa=1&sort=recommended&top_dp=1283&top_cur=TWD&rfrr=HSR&pwa_ts=1570019592728', '緯度': 35.720697, '評價': 5.0, '鄰近景點1': '東京晴空塔 - 開車 6 分鐘', '鄰近景點2': '淺草神社 - 開車 7 分鐘', '鄰近景點3': '淺草寺雷門 - 開車 7 分鐘', '鄰近景點4': '江戶東京博物館 - 開車 8 分鐘', '鄰近景點5': '東京國立博物館 - 開車 9 分鐘', '飯店名稱': '東京賽普拉斯旅館'}\n",
      "[{\"text\": \"\\u8b93\\u60a8\\u4e45\\u7b49\\u4e86\\u3002\\n\\u4f9d\\u64da\\u60a8\\u7684\\u504f\\u597d\\u5206\\u6790\\uff0c\\u6700\\u9069\\u5408\\u60a8\\u7684\\u822a\\u73ed\\u70baTigerair Taiwan\\uff0c\\u53c3\\u8003\\u50f9\\u683c\\u70baNTD$7767\\u3002\\n\\n\\u51fa\\u767c\\u8d77\\u98db\\u6642\\u9593\\u70ba(\\u53f0\\u5317)2019-11-30(Sat) 06:35:00\\uff0c\\u9700\\u664203:00:00\\uff0c\\u62b5\\u9054\\u6642\\u9593\\u70ba(\\u6771\\u4eac)2019-11-30(Sat) 10:35:00\\u3002\\n\\n\\u56de\\u570b\\u8d77\\u98db\\u6642\\u9593\\u70ba(\\u6771\\u4eac)2019-12-02(Mon) 05:00:00\\uff0c\\u9700\\u664203:55:00\\uff0c\\u62b5\\u9054\\u6642\\u9593\\u70ba(\\u53f0\\u5317)2019-12-02(Mon) 07:55:00\\u3002\\n---------------\\n\\n\\n\\u6700\\u9069\\u5408\\u60a8\\u7684\\u98ef\\u5e97\\u70ba\\n\\u6771\\u4eac\\u8cfd\\u666e\\u62c9\\u65af\\u65c5\\u9928\\uff0c3\\u9846\\u661f\\uff0c\\u7528\\u6236\\u8a55\\u50f95.0/5\\uff0c\\n\\u6bcf\\u665a\\u53c3\\u8003\\u50f9\\u683c\\u70baNTD$1283\\u3002\\n\\u5730\\u5740\\u70ba1-2-5 Nishishinkoiwa, Katsushika, \\u6771\\u4eac, \\u6771\\u4eac\\u3002\\n\\n\\u9130\\u8fd1\\u5730\\u9435\\u7ad9\\uff1a\\n\\u8239\\u5800\\u7ad9 - \\u8d70\\u8def 5 \\u5206\\u9418\\uff0c\\n\\u65b0\\u5c0f\\u5ca9\\u7ad9 - \\u8d70\\u8def 17 \\u5206\\u9418\\u3002\\n\\n\\u9644\\u8fd1\\u666f\\u9ede\\uff1a\\n\\u6771\\u4eac\\u6674\\u7a7a\\u5854 - \\u958b\\u8eca 6 \\u5206\\u9418\\uff0c\\n\\u6dfa\\u8349\\u795e\\u793e - \\u958b\\u8eca 7 \\u5206\\u9418\\uff0c\\n\\u6dfa\\u8349\\u5bfa\\u96f7\\u9580 - \\u958b\\u8eca 7 \\u5206\\u9418\\u3002\", \"type\": \"text\"}, {\"packageId\": \"11537\", \"stickerId\": \"52002745\", \"type\": \"sticker\"}]\n"
     ]
    },
    {
     "name": "stderr",
     "output_type": "stream",
     "text": [
      "172.18.0.6 - - [22/Nov/2019 04:04:44] \"POST / HTTP/1.1\" 200 -\n"
     ]
    },
    {
     "name": "stdout",
     "output_type": "stream",
     "text": [
      "::flightHotel:\n"
     ]
    },
    {
     "name": "stderr",
     "output_type": "stream",
     "text": [
      "172.18.0.6 - - [22/Nov/2019 04:04:57] \"POST / HTTP/1.1\" 200 -\n"
     ]
    },
    {
     "name": "stdout",
     "output_type": "stream",
     "text": [
      "Yu Liang,Ud799fbc01cc9abf903a55f1889e3b1bd\n",
      "{\"data\": \"souvenir\"}\n",
      "1574395496786,2019-11-22 04:04:56.786000\n",
      "{'age': 29, 'been2tko': 1, 'days': 2, 'budget': 50000, 'isFemale': 0}\n",
      "10 [{'Types': '餅乾類', 'address': '銀座駅松屋銀座B1F', 'price': 2160, 'ranking': 22, 'souvenir': 'BABBI銀座松屋「グランワッフェリーニ セット」', 'url': 'http://www.babbi.co.jp'}, {'Types': '餅乾類', 'address': '渋谷駅渋谷ヒカリエShinQs_B2F', 'price': 648, 'ranking': 57, 'souvenir': '桂新堂「渋谷えびせんべい」', 'url': 'http://www.keishindo.co.jp'}, {'Types': '餅乾類', 'address': '銀座駅周辺東京都中央区銀座5-6-9松崎ビル1階', 'price': 1080, 'ranking': 24, 'souvenir': '大江戸菓子匠銀座松崎煎餅「瓦煎餅三味胴」', 'url': 'http://terraconfect.tokyo/fromageterra/'}, {'Types': '小蛋糕類', 'address': '銀座駅銀座三越B2F', 'price': 778, 'ranking': 20, 'souvenir': 'フレデリック・カッセル銀座三越「ミルフイユ・ヴァニーユ」', 'url': 'http://www.frederic-cassel.jp/specialite/'}, {'Types': '點心類', 'address': '池袋駅周辺東京都豊島区南池袋2-18-5', 'price': 180, 'ranking': 74, 'souvenir': 'すずめや「どら焼き」', 'url': 'https://www.d-suzumeya.com'}, {'Types': '點心類', 'address': '浅草駅エキミセ1F', 'price': 778, 'ranking': 51, 'souvenir': '浅草満願堂「栗入り芋きん」', 'url': 'https://www.yokumoku.jp/yokumoku/cms/preview.php'}, {'Types': '巧克力類', 'address': '品川駅エキュート品川サウス1F', 'price': 702, 'ranking': 42, 'souvenir': 'ベルン「ミルフィーユ」', 'url': 'http://hacci1912.com/'}, {'Types': '巧克力類', 'address': '羽田空港第2旅客ターミナル2F東京食賓館[3番時計台前]', 'price': 1404, 'ranking': 38, 'souvenir': 'ピエール・マルコリーニ「マルコリーニ・マドレーヌ・ショコラ」', 'url': 'https://store.c-c-c.co.jp/DefaultBrandTop.aspx'}, {'Types': '夾心餅乾類', 'address': '銀座駅松屋銀座B1F', 'price': 1080, 'ranking': 15, 'souvenir': 'ミルフィユメゾン_フランセ「ミルフィユスペシャリテ」', 'url': 'http://millefeuillemaison.jp'}, {'Types': '夾心餅乾類', 'address': '東京駅グランスタB1F', 'price': 1300, 'ranking': 82, 'souvenir': 'ワッフル・ケーキの店エール・エル（R.L）「東京駅限定ワッフル10個セット」', 'url': 'http://www.rl-waffle.co.jp'}]\n"
     ]
    },
    {
     "name": "stderr",
     "output_type": "stream",
     "text": [
      "172.18.0.6 - - [22/Nov/2019 04:04:58] \"POST / HTTP/1.1\" 200 -\n"
     ]
    },
    {
     "name": "stdout",
     "output_type": "stream",
     "text": [
      "::souvenir:\n"
     ]
    },
    {
     "name": "stderr",
     "output_type": "stream",
     "text": [
      "172.18.0.6 - - [22/Nov/2019 04:05:47] \"POST / HTTP/1.1\" 200 -\n"
     ]
    },
    {
     "name": "stdout",
     "output_type": "stream",
     "text": [
      "Yu Liang,Ud799fbc01cc9abf903a55f1889e3b1bd\n",
      "{\"data\": \"faq\"}\n",
      "1574395546705,2019-11-22 04:05:46.705000\n"
     ]
    },
    {
     "name": "stderr",
     "output_type": "stream",
     "text": [
      "172.18.0.6 - - [22/Nov/2019 04:05:48] \"POST / HTTP/1.1\" 200 -\n"
     ]
    },
    {
     "name": "stdout",
     "output_type": "stream",
     "text": [
      "::FAQ:\n"
     ]
    },
    {
     "name": "stderr",
     "output_type": "stream",
     "text": [
      "172.18.0.6 - - [22/Nov/2019 04:06:01] \"POST / HTTP/1.1\" 200 -\n"
     ]
    },
    {
     "name": "stdout",
     "output_type": "stream",
     "text": [
      "$10000$1500$1500$250\n"
     ]
    },
    {
     "name": "stderr",
     "output_type": "stream",
     "text": [
      "172.18.0.6 - - [22/Nov/2019 04:06:02] \"POST / HTTP/1.1\" 200 -\n"
     ]
    },
    {
     "name": "stdout",
     "output_type": "stream",
     "text": [
      "Yu Liang,Ud799fbc01cc9abf903a55f1889e3b1bd\n",
      "{\"data\": \"check\"}\n",
      "1574395561273,2019-11-22 04:06:01.273000\n"
     ]
    },
    {
     "name": "stderr",
     "output_type": "stream",
     "text": [
      "172.18.0.6 - - [22/Nov/2019 04:06:05] \"POST / HTTP/1.1\" 200 -\n"
     ]
    },
    {
     "name": "stdout",
     "output_type": "stream",
     "text": [
      "Nihili Feng,U6862a7797fb21baaca9d110ccc061758\n",
      "{\"data\": \"partner,1\"}\n",
      "1574395564607,2019-11-22 04:06:04.607000\n"
     ]
    },
    {
     "name": "stderr",
     "output_type": "stream",
     "text": [
      "172.18.0.6 - - [22/Nov/2019 04:06:11] \"POST / HTTP/1.1\" 200 -\n"
     ]
    },
    {
     "name": "stdout",
     "output_type": "stream",
     "text": [
      "Yu Liang,Ud799fbc01cc9abf903a55f1889e3b1bd\n",
      "{\"data\": \"poi\"}\n",
      "1574395570613,2019-11-22 04:06:10.613000\n"
     ]
    },
    {
     "name": "stderr",
     "output_type": "stream",
     "text": [
      "172.18.0.6 - - [22/Nov/2019 04:06:12] \"POST / HTTP/1.1\" 200 -\n"
     ]
    },
    {
     "name": "stdout",
     "output_type": "stream",
     "text": [
      "::POI:\n",
      "{'age': 29, 'been2tko': 1, 'howlong': 2, 'budget': 50000, 'isFemale': 0, 'with_child': 0, 'crampedSechedule': False}\n",
      "['[{\"index\":2,\"name\":\"淺草 Asakusa\",\"rank\":\"排名第 1的台東區觀光 (共560家)\",\"address\":\"東京都台東區\",\"child\":0.0087715012,\"latitude\":35.7125736,\"longitude\":139.7802043,\"score\":241,\"chosen\":true},{\"index\":48,\"name\":\"雷門 Nakamise Shopping Street (Kaminarimon)\",\"rank\":\"排名第 18的台東區觀光 (共560家)\",\"address\":\"東京都台東區淺草1丁目3\",\"child\":0.0048539208,\"latitude\":35.7110859,\"longitude\":139.7959648,\"score\":114,\"chosen\":true},{\"index\":35,\"name\":\"淺草文化觀光中心 Asakusa Culture Tourist Information Center\",\"rank\":\"排名第 3的台東區觀光 (共560家)\",\"address\":\"東京都台東區2-18-9 Kaminarimon111-0034\",\"child\":0.0040560983,\"latitude\":35.7106489,\"longitude\":139.7965348,\"score\":106,\"chosen\":true}]', '[{\"index\":264,\"name\":\"東京迪士尼樂園 Tokyo Disneyland\",\"rank\":\"排名第 2的Maihama觀光 (共5家)\",\"address\":\"千葉縣浦安Maihama1-1279-8511\",\"child\":1.0,\"latitude\":35.632906,\"longitude\":139.880391,\"score\":94,\"chosen\":true}]']\n",
      "淺草 Asakusa\n",
      "大東京都會排名第 1的台東區觀光 (共560家)\n",
      "地址：東京都台東區。\n",
      "---------------\n",
      "雷門 Nakamise Shopping Street (Kaminarimon)\n",
      "大東京都會排名第 18的台東區觀光 (共560家)\n",
      "地址：東京都台東區淺草1丁目3。\n",
      "---------------\n",
      "淺草文化觀光中心 Asakusa Culture Tourist Information Center\n",
      "大東京都會排名第 3的台東區觀光 (共560家)\n",
      "地址：東京都台東區2-18-9 Kaminarimon111-0034。\n",
      "---------------\n",
      "\n",
      "淺草 Asakusa\n",
      "大東京都會排名第 1的台東區觀光 (共560家)\n",
      "地址：東京都台東區。\n",
      "---------------\n",
      "雷門 Nakamise Shopping Street (Kaminarimon)\n",
      "大東京都會排名第 18的台東區觀光 (共560家)\n",
      "地址：東京都台東區淺草1丁目3。\n",
      "---------------\n",
      "淺草文化觀光中心 Asakusa Culture Tourist Information Center\n",
      "大東京都會排名第 3的台東區觀光 (共560家)\n",
      "地址：東京都台東區2-18-9 Kaminarimon111-0034。\n",
      "---------------\n",
      "===============\n",
      "東京迪士尼樂園 Tokyo Disneyland\n",
      "大東京都會排名第 2的Maihama觀光 (共5家)\n",
      "地址：千葉縣浦安Maihama1-1279-8511。\n",
      "---------------\n",
      "\n",
      "淺草 Asakusa\n",
      "大東京都會排名第 1的台東區觀光 (共560家)\n",
      "地址：東京都台東區。\n",
      "---------------\n",
      "雷門 Nakamise Shopping Street (Kaminarimon)\n",
      "大東京都會排名第 18的台東區觀光 (共560家)\n",
      "地址：東京都台東區淺草1丁目3。\n",
      "---------------\n",
      "淺草文化觀光中心 Asakusa Culture Tourist Information Center\n",
      "大東京都會排名第 3的台東區觀光 (共560家)\n",
      "地址：東京都台東區2-18-9 Kaminarimon111-0034。\n",
      "---------------\n",
      "東京迪士尼樂園 Tokyo Disneyland\n",
      "大東京都會排名第 2的Maihama觀光 (共5家)\n",
      "地址：千葉縣浦安Maihama1-1279-8511。\n",
      "---------------\n",
      "===============\n"
     ]
    },
    {
     "name": "stderr",
     "output_type": "stream",
     "text": [
      "172.18.0.6 - - [22/Nov/2019 04:06:16] \"POST / HTTP/1.1\" 200 -\n"
     ]
    },
    {
     "name": "stdout",
     "output_type": "stream",
     "text": [
      "Yu Liang,Ud799fbc01cc9abf903a55f1889e3b1bd\n",
      "{\"data\": \"poiPush\"}\n",
      "1574395574424,2019-11-22 04:06:14.424000\n"
     ]
    },
    {
     "name": "stderr",
     "output_type": "stream",
     "text": [
      "172.18.0.6 - - [22/Nov/2019 04:06:22] \"POST / HTTP/1.1\" 200 -\n"
     ]
    },
    {
     "name": "stdout",
     "output_type": "stream",
     "text": [
      "Nihili Feng,U6862a7797fb21baaca9d110ccc061758\n",
      "{\"data\": \"style,0\"}\n",
      "1574395581061,2019-11-22 04:06:21.061000\n"
     ]
    },
    {
     "name": "stderr",
     "output_type": "stream",
     "text": [
      "172.18.0.6 - - [22/Nov/2019 04:06:30] \"POST / HTTP/1.1\" 200 -\n"
     ]
    },
    {
     "name": "stdout",
     "output_type": "stream",
     "text": [
      "Nihili Feng,U6862a7797fb21baaca9d110ccc061758\n",
      "{\"data\": \"deptDate\", \"params\": {\"date\": \"2019-12-04\"}}\n",
      "1574395589339,2019-11-22 04:06:29.339000\n"
     ]
    },
    {
     "name": "stderr",
     "output_type": "stream",
     "text": [
      "172.18.0.6 - - [22/Nov/2019 04:06:43] \"POST / HTTP/1.1\" 200 -\n"
     ]
    },
    {
     "name": "stdout",
     "output_type": "stream",
     "text": [
      "Nihili Feng,U6862a7797fb21baaca9d110ccc061758\n",
      "{\"data\": \"retDate\", \"params\": {\"date\": \"2019-12-08\"}}\n",
      "1574395601859,2019-11-22 04:06:41.859000\n"
     ]
    },
    {
     "name": "stderr",
     "output_type": "stream",
     "text": [
      "172.18.0.6 - - [22/Nov/2019 04:06:44] \"POST / HTTP/1.1\" 200 -\n"
     ]
    },
    {
     "name": "stdout",
     "output_type": "stream",
     "text": [
      "Amelia,Uf2ad0eb3c96bc7a6a472cde028fbea5b\n",
      "{\"data\": \"poi\"}\n",
      "1574395603892,2019-11-22 04:06:43.892000\n"
     ]
    },
    {
     "name": "stderr",
     "output_type": "stream",
     "text": [
      "172.18.0.6 - - [22/Nov/2019 04:06:45] \"POST / HTTP/1.1\" 200 -\n"
     ]
    },
    {
     "name": "stdout",
     "output_type": "stream",
     "text": [
      "::POI:\n"
     ]
    },
    {
     "name": "stderr",
     "output_type": "stream",
     "text": [
      "[2019-11-22 04:06:50,829] ERROR in app: Exception on / [POST]\n",
      "Traceback (most recent call last):\n",
      "  File \"/opt/conda/lib/python3.7/site-packages/flask/app.py\", line 1982, in wsgi_app\n",
      "    response = self.full_dispatch_request()\n",
      "  File \"/opt/conda/lib/python3.7/site-packages/flask/app.py\", line 1614, in full_dispatch_request\n",
      "    rv = self.handle_user_exception(e)\n",
      "  File \"/opt/conda/lib/python3.7/site-packages/flask/app.py\", line 1517, in handle_user_exception\n",
      "    reraise(exc_type, exc_value, tb)\n",
      "  File \"/opt/conda/lib/python3.7/site-packages/flask/_compat.py\", line 33, in reraise\n",
      "    raise value\n",
      "  File \"/opt/conda/lib/python3.7/site-packages/flask/app.py\", line 1612, in full_dispatch_request\n",
      "    rv = self.dispatch_request()\n",
      "  File \"/opt/conda/lib/python3.7/site-packages/flask/app.py\", line 1598, in dispatch_request\n",
      "    return self.view_functions[rule.endpoint](**req.view_args)\n",
      "  File \"<ipython-input-2-d64f2e56086e>\", line 34, in callback\n",
      "    handler.handle(body, signature)\n",
      "  File \"/opt/conda/lib/python3.7/site-packages/linebot/webhook.py\", line 260, in handle\n",
      "    func(event)\n",
      "  File \"<ipython-input-27-47f437c60a92>\", line 50, in handle_post_message\n",
      "    msgpoi = MsgToBackend(str(user_profile.user_id)).msgpoi()\n",
      "  File \"<ipython-input-4-64bee36f3f84>\", line 187, in msgpoi\n",
      "    rDate = dfRdate.loc[dfRdate.loc[(dfRdate['userId']==self.user_id)]['tStamp'].idxmax()]['rDate']\n",
      "  File \"/opt/conda/lib/python3.7/site-packages/pandas/core/series.py\", line 2277, in idxmax\n",
      "    i = nanops.nanargmax(com.values_from_object(self), skipna=skipna)\n",
      "  File \"/opt/conda/lib/python3.7/site-packages/pandas/core/nanops.py\", line 70, in _f\n",
      "    return f(*args, **kwargs)\n",
      "  File \"/opt/conda/lib/python3.7/site-packages/pandas/core/nanops.py\", line 881, in nanargmax\n",
      "    result = values.argmax(axis)\n",
      "ValueError: attempt to get argmax of an empty sequence\n",
      "172.18.0.6 - - [22/Nov/2019 04:06:51] \"POST / HTTP/1.1\" 500 -\n",
      "[2019-11-22 04:06:55,951] ERROR in app: Exception on / [POST]\n",
      "Traceback (most recent call last):\n",
      "  File \"/opt/conda/lib/python3.7/site-packages/flask/app.py\", line 1982, in wsgi_app\n",
      "    response = self.full_dispatch_request()\n",
      "  File \"/opt/conda/lib/python3.7/site-packages/flask/app.py\", line 1614, in full_dispatch_request\n",
      "    rv = self.handle_user_exception(e)\n",
      "  File \"/opt/conda/lib/python3.7/site-packages/flask/app.py\", line 1517, in handle_user_exception\n",
      "    reraise(exc_type, exc_value, tb)\n",
      "  File \"/opt/conda/lib/python3.7/site-packages/flask/_compat.py\", line 33, in reraise\n",
      "    raise value\n",
      "  File \"/opt/conda/lib/python3.7/site-packages/flask/app.py\", line 1612, in full_dispatch_request\n",
      "    rv = self.dispatch_request()\n",
      "  File \"/opt/conda/lib/python3.7/site-packages/flask/app.py\", line 1598, in dispatch_request\n",
      "    return self.view_functions[rule.endpoint](**req.view_args)\n",
      "  File \"<ipython-input-2-d64f2e56086e>\", line 34, in callback\n",
      "    handler.handle(body, signature)\n",
      "  File \"/opt/conda/lib/python3.7/site-packages/linebot/webhook.py\", line 260, in handle\n",
      "    func(event)\n",
      "  File \"<ipython-input-27-47f437c60a92>\", line 50, in handle_post_message\n",
      "    msgpoi = MsgToBackend(str(user_profile.user_id)).msgpoi()\n",
      "  File \"<ipython-input-4-64bee36f3f84>\", line 187, in msgpoi\n",
      "    rDate = dfRdate.loc[dfRdate.loc[(dfRdate['userId']==self.user_id)]['tStamp'].idxmax()]['rDate']\n",
      "  File \"/opt/conda/lib/python3.7/site-packages/pandas/core/series.py\", line 2277, in idxmax\n",
      "    i = nanops.nanargmax(com.values_from_object(self), skipna=skipna)\n",
      "  File \"/opt/conda/lib/python3.7/site-packages/pandas/core/nanops.py\", line 70, in _f\n",
      "    return f(*args, **kwargs)\n",
      "  File \"/opt/conda/lib/python3.7/site-packages/pandas/core/nanops.py\", line 881, in nanargmax\n",
      "    result = values.argmax(axis)\n",
      "ValueError: attempt to get argmax of an empty sequence\n",
      "172.18.0.6 - - [22/Nov/2019 04:06:55] \"POST / HTTP/1.1\" 500 -\n",
      "[2019-11-22 04:06:56,927] ERROR in app: Exception on / [POST]\n",
      "Traceback (most recent call last):\n",
      "  File \"/opt/conda/lib/python3.7/site-packages/flask/app.py\", line 1982, in wsgi_app\n",
      "    response = self.full_dispatch_request()\n",
      "  File \"/opt/conda/lib/python3.7/site-packages/flask/app.py\", line 1614, in full_dispatch_request\n",
      "    rv = self.handle_user_exception(e)\n",
      "  File \"/opt/conda/lib/python3.7/site-packages/flask/app.py\", line 1517, in handle_user_exception\n",
      "    reraise(exc_type, exc_value, tb)\n",
      "  File \"/opt/conda/lib/python3.7/site-packages/flask/_compat.py\", line 33, in reraise\n",
      "    raise value\n",
      "  File \"/opt/conda/lib/python3.7/site-packages/flask/app.py\", line 1612, in full_dispatch_request\n",
      "    rv = self.dispatch_request()\n",
      "  File \"/opt/conda/lib/python3.7/site-packages/flask/app.py\", line 1598, in dispatch_request\n",
      "    return self.view_functions[rule.endpoint](**req.view_args)\n",
      "  File \"<ipython-input-2-d64f2e56086e>\", line 34, in callback\n",
      "    handler.handle(body, signature)\n",
      "  File \"/opt/conda/lib/python3.7/site-packages/linebot/webhook.py\", line 260, in handle\n",
      "    func(event)\n",
      "  File \"<ipython-input-27-47f437c60a92>\", line 50, in handle_post_message\n",
      "    msgpoi = MsgToBackend(str(user_profile.user_id)).msgpoi()\n",
      "  File \"<ipython-input-4-64bee36f3f84>\", line 187, in msgpoi\n",
      "    rDate = dfRdate.loc[dfRdate.loc[(dfRdate['userId']==self.user_id)]['tStamp'].idxmax()]['rDate']\n",
      "  File \"/opt/conda/lib/python3.7/site-packages/pandas/core/series.py\", line 2277, in idxmax\n",
      "    i = nanops.nanargmax(com.values_from_object(self), skipna=skipna)\n",
      "  File \"/opt/conda/lib/python3.7/site-packages/pandas/core/nanops.py\", line 70, in _f\n",
      "    return f(*args, **kwargs)\n",
      "  File \"/opt/conda/lib/python3.7/site-packages/pandas/core/nanops.py\", line 881, in nanargmax\n",
      "    result = values.argmax(axis)\n",
      "ValueError: attempt to get argmax of an empty sequence\n",
      "172.18.0.6 - - [22/Nov/2019 04:06:56] \"POST / HTTP/1.1\" 500 -\n",
      "[2019-11-22 04:06:57,591] ERROR in app: Exception on / [POST]\n",
      "Traceback (most recent call last):\n",
      "  File \"/opt/conda/lib/python3.7/site-packages/flask/app.py\", line 1982, in wsgi_app\n",
      "    response = self.full_dispatch_request()\n",
      "  File \"/opt/conda/lib/python3.7/site-packages/flask/app.py\", line 1614, in full_dispatch_request\n",
      "    rv = self.handle_user_exception(e)\n",
      "  File \"/opt/conda/lib/python3.7/site-packages/flask/app.py\", line 1517, in handle_user_exception\n",
      "    reraise(exc_type, exc_value, tb)\n",
      "  File \"/opt/conda/lib/python3.7/site-packages/flask/_compat.py\", line 33, in reraise\n",
      "    raise value\n",
      "  File \"/opt/conda/lib/python3.7/site-packages/flask/app.py\", line 1612, in full_dispatch_request\n",
      "    rv = self.dispatch_request()\n",
      "  File \"/opt/conda/lib/python3.7/site-packages/flask/app.py\", line 1598, in dispatch_request\n",
      "    return self.view_functions[rule.endpoint](**req.view_args)\n",
      "  File \"<ipython-input-2-d64f2e56086e>\", line 34, in callback\n",
      "    handler.handle(body, signature)\n",
      "  File \"/opt/conda/lib/python3.7/site-packages/linebot/webhook.py\", line 260, in handle\n",
      "    func(event)\n",
      "  File \"<ipython-input-27-47f437c60a92>\", line 50, in handle_post_message\n",
      "    msgpoi = MsgToBackend(str(user_profile.user_id)).msgpoi()\n",
      "  File \"<ipython-input-4-64bee36f3f84>\", line 187, in msgpoi\n",
      "    rDate = dfRdate.loc[dfRdate.loc[(dfRdate['userId']==self.user_id)]['tStamp'].idxmax()]['rDate']\n",
      "  File \"/opt/conda/lib/python3.7/site-packages/pandas/core/series.py\", line 2277, in idxmax\n",
      "    i = nanops.nanargmax(com.values_from_object(self), skipna=skipna)\n",
      "  File \"/opt/conda/lib/python3.7/site-packages/pandas/core/nanops.py\", line 70, in _f\n",
      "    return f(*args, **kwargs)\n",
      "  File \"/opt/conda/lib/python3.7/site-packages/pandas/core/nanops.py\", line 881, in nanargmax\n",
      "    result = values.argmax(axis)\n",
      "ValueError: attempt to get argmax of an empty sequence\n",
      "172.18.0.6 - - [22/Nov/2019 04:06:57] \"POST / HTTP/1.1\" 500 -\n",
      "172.18.0.6 - - [22/Nov/2019 04:06:57] \"POST / HTTP/1.1\" 200 -\n"
     ]
    },
    {
     "name": "stdout",
     "output_type": "stream",
     "text": [
      "Nihili Feng,U6862a7797fb21baaca9d110ccc061758\n",
      "{\"data\": \"tripStart\"}\n",
      "1574395616855,2019-11-22 04:06:56.855000\n",
      "{'age': 0, 'been2tko': 0, 'days': 4, 'budget': 10000, 'isFemale': 0, 'fbudget': 1500, 'dDate': '2019-12-04', 'rDate': '2019-12-08'}\n",
      "{'airline': 'Tigerair Taiwan', 'date_format(eta,\"%a\")': 'Wed', 'date_format(etd,\"%a\")': 'Wed', 'date_format(suEta,\"%a\")': 'Sun', 'date_format(suEtd,\"%a\")': 'Sun', 'price': 7767, 'time_format(eta,\"%T\")': '10:35:00', 'time_format(etd,\"%T\")': '06:35:00', 'time_format(sec_to_time(dur),\"%T\")': '03:00:00', 'time_format(sec_to_time(suDur),\"%T\")': '03:55:00', 'time_format(suEta,\"%T\")': '07:55:00', 'time_format(suEtd,\"%T\")': '05:00:00'}\n",
      "bk by sun\n",
      "{'age': 0, 'been2tko': 0, 'howlong': 4, 'budget': 10000, 'isFemale': 0, 'with_child': 0, 'crampedSechedule': False}\n",
      "['[{\"index\":2,\"name\":\"淺草 Asakusa\",\"rank\":\"排名第 1的台東區觀光 (共560家)\",\"address\":\"東京都台東區\",\"child\":0.0087715012,\"latitude\":35.7125736,\"longitude\":139.7802043,\"score\":241,\"chosen\":true},{\"index\":48,\"name\":\"雷門 Nakamise Shopping Street (Kaminarimon)\",\"rank\":\"排名第 18的台東區觀光 (共560家)\",\"address\":\"東京都台東區淺草1丁目3\",\"child\":0.0048539208,\"latitude\":35.7110859,\"longitude\":139.7959648,\"score\":114,\"chosen\":true},{\"index\":35,\"name\":\"淺草文化觀光中心 Asakusa Culture Tourist Information Center\",\"rank\":\"排名第 3的台東區觀光 (共560家)\",\"address\":\"東京都台東區2-18-9 Kaminarimon111-0034\",\"child\":0.0040560983,\"latitude\":35.7106489,\"longitude\":139.7965348,\"score\":106,\"chosen\":true}]', '[{\"index\":264,\"name\":\"東京迪士尼樂園 Tokyo Disneyland\",\"rank\":\"排名第 2的Maihama觀光 (共5家)\",\"address\":\"千葉縣浦安Maihama1-1279-8511\",\"child\":1.0,\"latitude\":35.632906,\"longitude\":139.880391,\"score\":94,\"chosen\":true}]', '[{\"index\":54,\"name\":\"東京都美術館 Tokyo Metropolitan Art Museum\",\"rank\":\"排名第 16的台東區觀光 (共560家)\",\"address\":\"東京都台東區8-36 Uenokoen110-0007\",\"child\":0.0205605849,\"latitude\":35.7125736,\"longitude\":139.7802043,\"score\":70,\"chosen\":true},{\"index\":6,\"name\":\"東京國立博物館 Tokyo National Museum\",\"rank\":\"排名第 5的台東區觀光 (共560家)\",\"address\":\"東京都台東區上野公園13-9110-0007\",\"child\":0.0509912925,\"latitude\":35.719252,\"longitude\":139.7760709,\"score\":114,\"chosen\":true},{\"index\":106,\"name\":\"上野東照宮 Toshogu Shrine\",\"rank\":\"排名第 17的台東區觀光 (共560家)\",\"address\":\"東京都台東區上野公園9-88\",\"child\":0.0,\"latitude\":35.7153714,\"longitude\":139.7706346,\"score\":183,\"chosen\":true}]', '[{\"index\":63,\"name\":\"東京國立近代美術館 The National Museum of Modern Art\",\"rank\":\"排名第 8的千代田區觀光 (共446家)\",\"address\":\"東京都千代田區北之丸公園3-1102-0091\",\"child\":0.0331610791,\"latitude\":35.6919267,\"longitude\":139.7505761,\"score\":70,\"chosen\":true},{\"index\":45,\"name\":\"東京都庭園美術館 Tokyo Metropolitan Teien Art Museum\",\"rank\":\"排名第 9的港區觀光 (共626家)\",\"address\":\"東京都港區白金台5-21-9108-0071\",\"child\":0.0,\"latitude\":35.6381742,\"longitude\":139.7198607,\"score\":70,\"chosen\":true},{\"index\":183,\"name\":\"東京國際會館 Tokyo International Forum\",\"rank\":\"排名第 3的Marunouchi觀光 (共7家)\",\"address\":\"東京都千代田區Marunouchi丸之內3-5-1100-0005\",\"child\":0.0155741588,\"latitude\":35.676927,\"longitude\":139.7642496,\"score\":114,\"chosen\":true}]']\n",
      "{'age': 0, 'been2tko': 0, 'days': 4, 'budget': 10000, 'isFemale': 0, 'hotel budget': 1500}\n",
      "{'CP': 2.567094516, 'pre': 2.0, '交通1': '馬?町站 - 走路 2 分鐘', '交通2': '馬??山站 - 走路 3 分鐘', '交通3': '東京, 日本 (HND-羽田機場) - 車程 16 分鐘', '交通便利性': '2', '價格': 1714.0, '地址': '1-14-1 Higashi Kanda, 東京, 東京', '廚房': 0.0, '星等': 3.0, '經度': 139.781061, '網址': 'https://www.expedia.com.tw/Tokyo-Hotels-APA-Hotel-Nihombashi-Bakurocho-Ekikita.h22177446.Hotel-Information?chkin=2019%2F10%2F4&chkout=2019%2F10%2F5&regionId=179900&destination=%E6%9D%B1%E4%BA%AC+%28%E5%8F%8A%E9%84%B0%E8%BF%91%E5%9C%B0%E5%8D%80%29%2C+%E6%97%A5%E6%9C%AC&swpToggleOn=true&rm1=a1&x_pwa=1&sort=recommended&top_dp=1714&top_cur=TWD&rfrr=HSR&pwa_ts=1570019075357', '緯度': 35.693651, '評價': 4.4, '鄰近景點1': '秋葉原電器街 - 步行 14 分鐘', '鄰近景點2': '上野公園 - 開車 3 分鐘', '鄰近景點3': '淺草神社 - 開車 3 分鐘', '鄰近景點4': '淺草寺雷門 - 開車 3 分鐘', '鄰近景點5': '皇居東御苑 - 開車 5 分鐘', '飯店名稱': '日本橋馬?町車站 APA 飯店'}\n",
      "{'age': 0, 'been2tko': 0, 'days': 4, 'totalBudget': 10000, 'gender': 0, 'oneBudget': 250}\n",
      "[{'age': 35, 'cp_rating_dinner': 3.95, 'cp_rating_lunch': 3.94, 'feeling_rating_dinner': 4.09, 'feeling_rating_lunch': 4.42, 'female_prop': 24.06, 'label_code': 0, 'label_desc': '高消族', 'lat': 35.6663435, 'lng': 139.7646428, 'male_prop': 75.94, 'meal_duration': 1.0, 'prices_dinner': 7087, 'prices_lunch': 3543, 'rest_addr': '東京都中央區銀座8-18-16', 'rest_area': '築地', 'rest_catg': '壽司', 'rest_rating': 4.06, 'service_rating_dinner': 4.03, 'service_rating_lunch': 4.22, 'store_nm_en': 'Sushisatake', 'store_nm_jp': 'すし佐竹', 'transport': '都営大江戸線\\u3000築地市場駅\\u3000A2出口より徒歩５分\\n東京メトロ日比谷線\\u3000東銀座駅\\u3000４番出口より徒歩８分\\nJR山手線\\u3000新橋駅\\u3000烏森口より徒歩１０分\\n\\n\\n距离築地市場 263  米'}, {'age': 42, 'cp_rating_dinner': 3.97, 'cp_rating_lunch': 4.0, 'feeling_rating_dinner': 3.97, 'feeling_rating_lunch': 3.81, 'female_prop': 23.92, 'label_code': 1, 'label_desc': '平消族', 'lat': 35.6697444, 'lng': 139.7619383, 'male_prop': 76.08, 'meal_duration': 1.0, 'prices_dinner': 7087, 'prices_lunch': 425, 'rest_addr': '東京都中央區銀座7-6-5', 'rest_area': '銀座', 'rest_catg': '壽司', 'rest_rating': 3.78, 'service_rating_dinner': 3.98, 'service_rating_lunch': 4.0, 'store_nm_en': 'Sushi Take', 'store_nm_jp': '鮨竹', 'transport': '銀座駅A1出口より徒歩5分\\n\\n\\n距离銀座 310  米'}, {'age': 43, 'cp_rating_dinner': 3.36, 'cp_rating_lunch': 3.54, 'feeling_rating_dinner': 3.37, 'feeling_rating_lunch': 3.49, 'female_prop': 23.83, 'label_code': 1, 'label_desc': '平消族', 'lat': 35.6954922, 'lng': 139.7684364, 'male_prop': 76.17, 'meal_duration': 1.0, 'prices_dinner': 142, 'prices_lunch': 709, 'rest_addr': '東京都韆代田區神田須田町1-8-4', 'rest_area': '神田・御茶之水', 'rest_catg': '炸豬排/炸豬丼飯・炸豬排便當', 'rest_rating': 3.83, 'service_rating_dinner': 3.37, 'service_rating_lunch': 3.48, 'store_nm_en': 'Tonkatsuyamaichi', 'store_nm_jp': 'とんかつ やまいち', 'transport': '東京メトロ丸ノ内線【淡路町駅】徒歩１分（Ａ１地上口）\\n都営地下鉄新宿線【小川町駅】徒歩２分\\n東京メトロ銀座線【神田駅】徒歩４分\\nＪＲ中央線・山手線・京浜東北線【神田駅】徒歩７分\\n\\n\\n距离淡路町 103  米'}, {'age': 38, 'cp_rating_dinner': 3.21, 'cp_rating_lunch': 3.27, 'feeling_rating_dinner': 3.14, 'feeling_rating_lunch': 3.23, 'female_prop': 23.88, 'label_code': 1, 'label_desc': '平消族', 'lat': 35.6898738, 'lng': 139.7022762, 'male_prop': 76.12, 'meal_duration': 1.0, 'prices_dinner': 142, 'prices_lunch': 142, 'rest_addr': '東京都新宿區新宿3-35-7', 'rest_area': '新宿', 'rest_catg': '拉麵/日式小酒館/丼類（其他）', 'rest_rating': 3.77, 'service_rating_dinner': 3.18, 'service_rating_lunch': 3.28, 'store_nm_en': 'Menyakaijin', 'store_nm_jp': '麺屋海神', 'transport': 'JR新宿駅東南口\\u3000徒歩30秒\\n西武新宿線\\u3000西武新宿駅\\u3000徒歩7分\\n\\n\\n距离新宿 186  米'}, {'age': 38, 'cp_rating_dinner': 3.29, 'cp_rating_lunch': 3.41, 'feeling_rating_dinner': 3.22, 'feeling_rating_lunch': 3.11, 'female_prop': 24.81, 'label_code': 1, 'label_desc': '平消族', 'lat': 35.5446551, 'lng': 139.4424082, 'male_prop': 75.19, 'meal_duration': 1.0, 'prices_dinner': 142, 'prices_lunch': 142, 'rest_addr': '東京都町田市森野1-12-13', 'rest_area': '町田', 'rest_catg': '拉麵', 'rest_rating': 3.76, 'service_rating_dinner': 3.28, 'service_rating_lunch': 3.27, 'store_nm_en': 'Machidashirubashioramenshinka', 'store_nm_jp': '町田汁場 しおらーめん進化 町田駅前店', 'transport': '小田急線町田駅から徒歩3分\\nJR横浜線町田駅西口から徒歩5分\\n\\n\\n距离町田 392  米'}, {'age': 45, 'cp_rating_dinner': 4.26, 'cp_rating_lunch': 4.05, 'feeling_rating_dinner': 3.85, 'feeling_rating_lunch': 3.72, 'female_prop': 24.33, 'label_code': 1, 'label_desc': '平消族', 'lat': 35.7458335, 'lng': 139.8054129, 'male_prop': 75.67, 'meal_duration': 1.0, 'prices_dinner': 142, 'prices_lunch': 709, 'rest_addr': '東京都足立區韆住東2-2-1', 'rest_area': '北千住', 'rest_catg': '豆腐料理・油豆腐料理/懷石 / 會席料理', 'rest_rating': 3.76, 'service_rating_dinner': 3.9, 'service_rating_lunch': 3.82, 'store_nm_en': 'Uzukino', 'store_nm_jp': '宇豆基野 本店', 'transport': '北千住駅から徒歩7分\\n\\n\\n距离北千住 384  米'}, {'age': 45, 'cp_rating_dinner': 3.5, 'cp_rating_lunch': 3.78, 'feeling_rating_dinner': 3.5, 'feeling_rating_lunch': 3.53, 'female_prop': 23.6, 'label_code': 1, 'label_desc': '平消族', 'lat': 35.6919343, 'lng': 139.765581, 'male_prop': 76.4, 'meal_duration': 2.0, 'prices_dinner': 2551, 'prices_lunch': 425, 'rest_addr': '東京都韆代田區內神田1-15-7', 'rest_area': '神田・御茶之水', 'rest_catg': '西式料理/可樂餅・油炸食品/咖哩飯', 'rest_rating': 3.77, 'service_rating_dinner': 3.34, 'service_rating_lunch': 3.63, 'store_nm_en': 'Shichijou', 'store_nm_jp': '七條', 'transport': '地下鉄千代田線「新御茶ノ水」駅B6番出口より徒歩4分\\n地下鉄新宿線「小川町」駅A6番出口より徒歩5分\\n地下鉄丸ノ内線「淡路町」駅\\nJR東北本線「神田」駅西口より徒歩7分\\n\\n\\n距离小川町 355  米'}, {'age': 39, 'cp_rating_dinner': 3.96, 'cp_rating_lunch': 4.0, 'feeling_rating_dinner': 3.35, 'feeling_rating_lunch': 3.27, 'female_prop': 23.48, 'label_code': 1, 'label_desc': '平消族', 'lat': 35.6854123, 'lng': 139.7753649, 'male_prop': 76.52, 'meal_duration': 1.5, 'prices_dinner': 142, 'prices_lunch': 142, 'rest_addr': '東京都中央區日本橋室町1-11-15', 'rest_area': '日本橋・京橋', 'rest_catg': '炸蝦丼飯・炸蝦便當/便當/星鰻', 'rest_rating': 3.77, 'service_rating_dinner': 3.39, 'service_rating_lunch': 3.28, 'store_nm_en': 'nihombashitendonkanekohannosuke', 'store_nm_jp': '日本橋 天丼 金子半之助 本店', 'transport': '東京メトロ半蔵門線・銀座線「三越前」駅(A1出口)から徒歩1分\\n東京メトロ東西線「日本橋」駅から徒歩4分\\nJR総武本線「新日本橋」駅から徒歩5分\\n\\n\\n距离三越前 157  米'}]\n"
     ]
    },
    {
     "name": "stdout",
     "output_type": "stream",
     "text": [
      "=====================\n",
      " 第1天行程：\n",
      "雷門 Nakamise Shopping Street (Kaminarimon)約2.6 公里，景點間通勤約需10 分鐘。\n",
      "---------------\n",
      "淺草文化觀光中心 Asakusa Culture Tourist Information Center約61 公尺，景點間通勤約需1 分鐘。\n",
      "---------------\n",
      "淺草 Asakusa約2.0 公里，景點間通勤約需8 分鐘。\n",
      "---------------\n",
      "\n",
      "地圖連結：https://45a28610.ngrok.io/images/day1-U6862a7797fb21baaca9d110ccc061758-1574395616853map.html\n",
      "===============\n",
      "第2天行程：\n",
      "東京迪士尼樂園 Tokyo Disneyland約15.1 公里，景點間通勤約需24 分鐘。\n",
      "---------------\n",
      "\n",
      "地圖連結：https://45a28610.ngrok.io/images/day2-U6862a7797fb21baaca9d110ccc061758-1574395616853map.html\n",
      "===============\n",
      "第3天行程：\n",
      "上野東照宮 Toshogu Shrine約4.2 公里，景點間通勤約需11 分鐘。\n",
      "---------------\n",
      "東京國立博物館 Tokyo National Museum約1.3 公里，景點間通勤約需5 分鐘。\n",
      "---------------\n",
      "東京都美術館 Tokyo Metropolitan Art Museum約1.9 公里，景點間通勤約需7 分鐘。\n",
      "---------------\n",
      "\n",
      "地圖連結：https://45a28610.ngrok.io/images/day3-U6862a7797fb21baaca9d110ccc061758-1574395616853map.html\n",
      "===============\n",
      "第4天行程：\n",
      "東京國際會館 Tokyo International Forum約3.8 公里，景點間通勤約需12 分鐘。\n",
      "---------------\n",
      "東京都庭園美術館 Tokyo Metropolitan Teien Art Museum約8.7 公里，景點間通勤約需15 分鐘。\n",
      "---------------\n",
      "東京國立近代美術館 The National Museum of Modern Art約10.2 公里，景點間通勤約需15 分鐘。\n",
      "---------------\n",
      "\n",
      "地圖連結：https://45a28610.ngrok.io/images/day4-U6862a7797fb21baaca9d110ccc061758-1574395616853map.html\n",
      "===============\n",
      " \n",
      "=======================\n"
     ]
    },
    {
     "name": "stderr",
     "output_type": "stream",
     "text": [
      "172.18.0.6 - - [22/Nov/2019 04:07:02] \"POST / HTTP/1.1\" 200 -\n"
     ]
    },
    {
     "name": "stdout",
     "output_type": "stream",
     "text": [
      "::tripStart:\n"
     ]
    },
    {
     "name": "stderr",
     "output_type": "stream",
     "text": [
      "[2019-11-22 04:07:02,895] ERROR in app: Exception on / [POST]\n",
      "Traceback (most recent call last):\n",
      "  File \"/opt/conda/lib/python3.7/site-packages/flask/app.py\", line 1982, in wsgi_app\n",
      "    response = self.full_dispatch_request()\n",
      "  File \"/opt/conda/lib/python3.7/site-packages/flask/app.py\", line 1614, in full_dispatch_request\n",
      "    rv = self.handle_user_exception(e)\n",
      "  File \"/opt/conda/lib/python3.7/site-packages/flask/app.py\", line 1517, in handle_user_exception\n",
      "    reraise(exc_type, exc_value, tb)\n",
      "  File \"/opt/conda/lib/python3.7/site-packages/flask/_compat.py\", line 33, in reraise\n",
      "    raise value\n",
      "  File \"/opt/conda/lib/python3.7/site-packages/flask/app.py\", line 1612, in full_dispatch_request\n",
      "    rv = self.dispatch_request()\n",
      "  File \"/opt/conda/lib/python3.7/site-packages/flask/app.py\", line 1598, in dispatch_request\n",
      "    return self.view_functions[rule.endpoint](**req.view_args)\n",
      "  File \"<ipython-input-2-d64f2e56086e>\", line 34, in callback\n",
      "    handler.handle(body, signature)\n",
      "  File \"/opt/conda/lib/python3.7/site-packages/linebot/webhook.py\", line 260, in handle\n",
      "    func(event)\n",
      "  File \"<ipython-input-27-47f437c60a92>\", line 50, in handle_post_message\n",
      "    msgpoi = MsgToBackend(str(user_profile.user_id)).msgpoi()\n",
      "  File \"<ipython-input-4-64bee36f3f84>\", line 187, in msgpoi\n",
      "    rDate = dfRdate.loc[dfRdate.loc[(dfRdate['userId']==self.user_id)]['tStamp'].idxmax()]['rDate']\n",
      "  File \"/opt/conda/lib/python3.7/site-packages/pandas/core/series.py\", line 2277, in idxmax\n",
      "    i = nanops.nanargmax(com.values_from_object(self), skipna=skipna)\n",
      "  File \"/opt/conda/lib/python3.7/site-packages/pandas/core/nanops.py\", line 70, in _f\n",
      "    return f(*args, **kwargs)\n",
      "  File \"/opt/conda/lib/python3.7/site-packages/pandas/core/nanops.py\", line 881, in nanargmax\n",
      "    result = values.argmax(axis)\n",
      "ValueError: attempt to get argmax of an empty sequence\n",
      "172.18.0.6 - - [22/Nov/2019 04:07:02] \"POST / HTTP/1.1\" 500 -\n",
      "[2019-11-22 04:07:03,161] ERROR in app: Exception on / [POST]\n",
      "Traceback (most recent call last):\n",
      "  File \"/opt/conda/lib/python3.7/site-packages/flask/app.py\", line 1982, in wsgi_app\n",
      "    response = self.full_dispatch_request()\n",
      "  File \"/opt/conda/lib/python3.7/site-packages/flask/app.py\", line 1614, in full_dispatch_request\n",
      "    rv = self.handle_user_exception(e)\n",
      "  File \"/opt/conda/lib/python3.7/site-packages/flask/app.py\", line 1517, in handle_user_exception\n",
      "    reraise(exc_type, exc_value, tb)\n",
      "  File \"/opt/conda/lib/python3.7/site-packages/flask/_compat.py\", line 33, in reraise\n",
      "    raise value\n",
      "  File \"/opt/conda/lib/python3.7/site-packages/flask/app.py\", line 1612, in full_dispatch_request\n",
      "    rv = self.dispatch_request()\n",
      "  File \"/opt/conda/lib/python3.7/site-packages/flask/app.py\", line 1598, in dispatch_request\n",
      "    return self.view_functions[rule.endpoint](**req.view_args)\n",
      "  File \"<ipython-input-2-d64f2e56086e>\", line 34, in callback\n",
      "    handler.handle(body, signature)\n",
      "  File \"/opt/conda/lib/python3.7/site-packages/linebot/webhook.py\", line 260, in handle\n",
      "    func(event)\n",
      "  File \"<ipython-input-27-47f437c60a92>\", line 50, in handle_post_message\n",
      "    msgpoi = MsgToBackend(str(user_profile.user_id)).msgpoi()\n",
      "  File \"<ipython-input-4-64bee36f3f84>\", line 187, in msgpoi\n",
      "    rDate = dfRdate.loc[dfRdate.loc[(dfRdate['userId']==self.user_id)]['tStamp'].idxmax()]['rDate']\n",
      "  File \"/opt/conda/lib/python3.7/site-packages/pandas/core/series.py\", line 2277, in idxmax\n",
      "    i = nanops.nanargmax(com.values_from_object(self), skipna=skipna)\n",
      "  File \"/opt/conda/lib/python3.7/site-packages/pandas/core/nanops.py\", line 70, in _f\n",
      "    return f(*args, **kwargs)\n",
      "  File \"/opt/conda/lib/python3.7/site-packages/pandas/core/nanops.py\", line 881, in nanargmax\n",
      "    result = values.argmax(axis)\n",
      "ValueError: attempt to get argmax of an empty sequence\n",
      "172.18.0.6 - - [22/Nov/2019 04:07:03] \"POST / HTTP/1.1\" 500 -\n",
      "[2019-11-22 04:07:03,501] ERROR in app: Exception on / [POST]\n",
      "Traceback (most recent call last):\n",
      "  File \"/opt/conda/lib/python3.7/site-packages/flask/app.py\", line 1982, in wsgi_app\n",
      "    response = self.full_dispatch_request()\n",
      "  File \"/opt/conda/lib/python3.7/site-packages/flask/app.py\", line 1614, in full_dispatch_request\n",
      "    rv = self.handle_user_exception(e)\n",
      "  File \"/opt/conda/lib/python3.7/site-packages/flask/app.py\", line 1517, in handle_user_exception\n",
      "    reraise(exc_type, exc_value, tb)\n",
      "  File \"/opt/conda/lib/python3.7/site-packages/flask/_compat.py\", line 33, in reraise\n",
      "    raise value\n",
      "  File \"/opt/conda/lib/python3.7/site-packages/flask/app.py\", line 1612, in full_dispatch_request\n",
      "    rv = self.dispatch_request()\n",
      "  File \"/opt/conda/lib/python3.7/site-packages/flask/app.py\", line 1598, in dispatch_request\n",
      "    return self.view_functions[rule.endpoint](**req.view_args)\n",
      "  File \"<ipython-input-2-d64f2e56086e>\", line 34, in callback\n",
      "    handler.handle(body, signature)\n",
      "  File \"/opt/conda/lib/python3.7/site-packages/linebot/webhook.py\", line 260, in handle\n",
      "    func(event)\n",
      "  File \"<ipython-input-27-47f437c60a92>\", line 50, in handle_post_message\n",
      "    msgpoi = MsgToBackend(str(user_profile.user_id)).msgpoi()\n",
      "  File \"<ipython-input-4-64bee36f3f84>\", line 187, in msgpoi\n",
      "    rDate = dfRdate.loc[dfRdate.loc[(dfRdate['userId']==self.user_id)]['tStamp'].idxmax()]['rDate']\n",
      "  File \"/opt/conda/lib/python3.7/site-packages/pandas/core/series.py\", line 2277, in idxmax\n",
      "    i = nanops.nanargmax(com.values_from_object(self), skipna=skipna)\n",
      "  File \"/opt/conda/lib/python3.7/site-packages/pandas/core/nanops.py\", line 70, in _f\n",
      "    return f(*args, **kwargs)\n",
      "  File \"/opt/conda/lib/python3.7/site-packages/pandas/core/nanops.py\", line 881, in nanargmax\n",
      "    result = values.argmax(axis)\n",
      "ValueError: attempt to get argmax of an empty sequence\n",
      "172.18.0.6 - - [22/Nov/2019 04:07:03] \"POST / HTTP/1.1\" 500 -\n",
      "[2019-11-22 04:07:03,737] ERROR in app: Exception on / [POST]\n",
      "Traceback (most recent call last):\n",
      "  File \"/opt/conda/lib/python3.7/site-packages/flask/app.py\", line 1982, in wsgi_app\n",
      "    response = self.full_dispatch_request()\n",
      "  File \"/opt/conda/lib/python3.7/site-packages/flask/app.py\", line 1614, in full_dispatch_request\n",
      "    rv = self.handle_user_exception(e)\n",
      "  File \"/opt/conda/lib/python3.7/site-packages/flask/app.py\", line 1517, in handle_user_exception\n",
      "    reraise(exc_type, exc_value, tb)\n",
      "  File \"/opt/conda/lib/python3.7/site-packages/flask/_compat.py\", line 33, in reraise\n",
      "    raise value\n",
      "  File \"/opt/conda/lib/python3.7/site-packages/flask/app.py\", line 1612, in full_dispatch_request\n",
      "    rv = self.dispatch_request()\n",
      "  File \"/opt/conda/lib/python3.7/site-packages/flask/app.py\", line 1598, in dispatch_request\n",
      "    return self.view_functions[rule.endpoint](**req.view_args)\n",
      "  File \"<ipython-input-2-d64f2e56086e>\", line 34, in callback\n",
      "    handler.handle(body, signature)\n",
      "  File \"/opt/conda/lib/python3.7/site-packages/linebot/webhook.py\", line 260, in handle\n",
      "    func(event)\n",
      "  File \"<ipython-input-27-47f437c60a92>\", line 50, in handle_post_message\n",
      "    msgpoi = MsgToBackend(str(user_profile.user_id)).msgpoi()\n",
      "  File \"<ipython-input-4-64bee36f3f84>\", line 187, in msgpoi\n",
      "    rDate = dfRdate.loc[dfRdate.loc[(dfRdate['userId']==self.user_id)]['tStamp'].idxmax()]['rDate']\n",
      "  File \"/opt/conda/lib/python3.7/site-packages/pandas/core/series.py\", line 2277, in idxmax\n",
      "    i = nanops.nanargmax(com.values_from_object(self), skipna=skipna)\n",
      "  File \"/opt/conda/lib/python3.7/site-packages/pandas/core/nanops.py\", line 70, in _f\n",
      "    return f(*args, **kwargs)\n",
      "  File \"/opt/conda/lib/python3.7/site-packages/pandas/core/nanops.py\", line 881, in nanargmax\n",
      "    result = values.argmax(axis)\n",
      "ValueError: attempt to get argmax of an empty sequence\n",
      "172.18.0.6 - - [22/Nov/2019 04:07:03] \"POST / HTTP/1.1\" 500 -\n",
      "[2019-11-22 04:07:04,250] ERROR in app: Exception on / [POST]\n",
      "Traceback (most recent call last):\n",
      "  File \"/opt/conda/lib/python3.7/site-packages/flask/app.py\", line 1982, in wsgi_app\n",
      "    response = self.full_dispatch_request()\n",
      "  File \"/opt/conda/lib/python3.7/site-packages/flask/app.py\", line 1614, in full_dispatch_request\n",
      "    rv = self.handle_user_exception(e)\n",
      "  File \"/opt/conda/lib/python3.7/site-packages/flask/app.py\", line 1517, in handle_user_exception\n",
      "    reraise(exc_type, exc_value, tb)\n",
      "  File \"/opt/conda/lib/python3.7/site-packages/flask/_compat.py\", line 33, in reraise\n",
      "    raise value\n",
      "  File \"/opt/conda/lib/python3.7/site-packages/flask/app.py\", line 1612, in full_dispatch_request\n",
      "    rv = self.dispatch_request()\n",
      "  File \"/opt/conda/lib/python3.7/site-packages/flask/app.py\", line 1598, in dispatch_request\n",
      "    return self.view_functions[rule.endpoint](**req.view_args)\n",
      "  File \"<ipython-input-2-d64f2e56086e>\", line 34, in callback\n",
      "    handler.handle(body, signature)\n",
      "  File \"/opt/conda/lib/python3.7/site-packages/linebot/webhook.py\", line 260, in handle\n",
      "    func(event)\n",
      "  File \"<ipython-input-27-47f437c60a92>\", line 50, in handle_post_message\n",
      "    msgpoi = MsgToBackend(str(user_profile.user_id)).msgpoi()\n",
      "  File \"<ipython-input-4-64bee36f3f84>\", line 187, in msgpoi\n",
      "    rDate = dfRdate.loc[dfRdate.loc[(dfRdate['userId']==self.user_id)]['tStamp'].idxmax()]['rDate']\n",
      "  File \"/opt/conda/lib/python3.7/site-packages/pandas/core/series.py\", line 2277, in idxmax\n",
      "    i = nanops.nanargmax(com.values_from_object(self), skipna=skipna)\n",
      "  File \"/opt/conda/lib/python3.7/site-packages/pandas/core/nanops.py\", line 70, in _f\n",
      "    return f(*args, **kwargs)\n",
      "  File \"/opt/conda/lib/python3.7/site-packages/pandas/core/nanops.py\", line 881, in nanargmax\n",
      "    result = values.argmax(axis)\n",
      "ValueError: attempt to get argmax of an empty sequence\n"
     ]
    },
    {
     "name": "stderr",
     "output_type": "stream",
     "text": [
      "172.18.0.6 - - [22/Nov/2019 04:07:04] \"POST / HTTP/1.1\" 500 -\n",
      "172.18.0.6 - - [22/Nov/2019 04:07:11] \"POST / HTTP/1.1\" 200 -\n"
     ]
    },
    {
     "name": "stdout",
     "output_type": "stream",
     "text": [
      "type ==> <class 'ValueError'>\n",
      "value ==> attempt to get argmax of an empty sequence\n",
      "traceback ==> file name: <ipython-input-25-a23c8ff16dbb>\n",
      "traceback ==> line no: 165\n",
      "traceback ==> function name: handle_message\n",
      "::souvenir:\n"
     ]
    },
    {
     "name": "stderr",
     "output_type": "stream",
     "text": [
      "172.18.0.6 - - [22/Nov/2019 04:07:11] \"POST / HTTP/1.1\" 200 -\n"
     ]
    },
    {
     "name": "stdout",
     "output_type": "stream",
     "text": [
      "Amelia,Uf2ad0eb3c96bc7a6a472cde028fbea5b\n",
      "{\"data\": \"souvenir\"}\n",
      "1574395630186,2019-11-22 04:07:10.186000\n"
     ]
    },
    {
     "name": "stderr",
     "output_type": "stream",
     "text": [
      "172.18.0.6 - - [22/Nov/2019 04:07:15] \"GET /images/day1-U6862a7797fb21baaca9d110ccc061758-1574395616853map.html HTTP/1.1\" 206 -\n",
      "172.18.0.6 - - [22/Nov/2019 04:07:16] \"GET /images/day1-U6862a7797fb21baaca9d110ccc061758-1574395616853map.html HTTP/1.1\" 200 -\n",
      "172.18.0.6 - - [22/Nov/2019 04:07:19] \"GET /images/day2-U6862a7797fb21baaca9d110ccc061758-1574395616853map.html HTTP/1.1\" 206 -\n",
      "172.18.0.6 - - [22/Nov/2019 04:07:20] \"GET /images/day2-U6862a7797fb21baaca9d110ccc061758-1574395616853map.html HTTP/1.1\" 200 -\n",
      "172.18.0.6 - - [22/Nov/2019 04:07:22] \"GET /images/day3-U6862a7797fb21baaca9d110ccc061758-1574395616853map.html HTTP/1.1\" 206 -\n",
      "172.18.0.6 - - [22/Nov/2019 04:07:23] \"GET /images/day3-U6862a7797fb21baaca9d110ccc061758-1574395616853map.html HTTP/1.1\" 200 -\n",
      "172.18.0.6 - - [22/Nov/2019 04:07:24] \"GET /images/day4-U6862a7797fb21baaca9d110ccc061758-1574395616853map.html HTTP/1.1\" 206 -\n",
      "172.18.0.6 - - [22/Nov/2019 04:07:25] \"GET /images/day4-U6862a7797fb21baaca9d110ccc061758-1574395616853map.html HTTP/1.1\" 200 -\n",
      "[2019-11-22 04:08:21,553] ERROR in app: Exception on / [POST]\n",
      "Traceback (most recent call last):\n",
      "  File \"/opt/conda/lib/python3.7/site-packages/flask/app.py\", line 1982, in wsgi_app\n",
      "    response = self.full_dispatch_request()\n",
      "  File \"/opt/conda/lib/python3.7/site-packages/flask/app.py\", line 1614, in full_dispatch_request\n",
      "    rv = self.handle_user_exception(e)\n",
      "  File \"/opt/conda/lib/python3.7/site-packages/flask/app.py\", line 1517, in handle_user_exception\n",
      "    reraise(exc_type, exc_value, tb)\n",
      "  File \"/opt/conda/lib/python3.7/site-packages/flask/_compat.py\", line 33, in reraise\n",
      "    raise value\n",
      "  File \"/opt/conda/lib/python3.7/site-packages/flask/app.py\", line 1612, in full_dispatch_request\n",
      "    rv = self.dispatch_request()\n",
      "  File \"/opt/conda/lib/python3.7/site-packages/flask/app.py\", line 1598, in dispatch_request\n",
      "    return self.view_functions[rule.endpoint](**req.view_args)\n",
      "  File \"<ipython-input-2-d64f2e56086e>\", line 34, in callback\n",
      "    handler.handle(body, signature)\n",
      "  File \"/opt/conda/lib/python3.7/site-packages/linebot/webhook.py\", line 260, in handle\n",
      "    func(event)\n",
      "  File \"<ipython-input-27-47f437c60a92>\", line 50, in handle_post_message\n",
      "    msgpoi = MsgToBackend(str(user_profile.user_id)).msgpoi()\n",
      "  File \"<ipython-input-4-64bee36f3f84>\", line 187, in msgpoi\n",
      "    rDate = dfRdate.loc[dfRdate.loc[(dfRdate['userId']==self.user_id)]['tStamp'].idxmax()]['rDate']\n",
      "  File \"/opt/conda/lib/python3.7/site-packages/pandas/core/series.py\", line 2277, in idxmax\n",
      "    i = nanops.nanargmax(com.values_from_object(self), skipna=skipna)\n",
      "  File \"/opt/conda/lib/python3.7/site-packages/pandas/core/nanops.py\", line 70, in _f\n",
      "    return f(*args, **kwargs)\n",
      "  File \"/opt/conda/lib/python3.7/site-packages/pandas/core/nanops.py\", line 881, in nanargmax\n",
      "    result = values.argmax(axis)\n",
      "ValueError: attempt to get argmax of an empty sequence\n",
      "172.18.0.6 - - [22/Nov/2019 04:08:21] \"POST / HTTP/1.1\" 500 -\n",
      "172.18.0.6 - - [22/Nov/2019 04:08:26] \"POST / HTTP/1.1\" 200 -\n"
     ]
    },
    {
     "name": "stdout",
     "output_type": "stream",
     "text": [
      "Amelia,Uf2ad0eb3c96bc7a6a472cde028fbea5b\n",
      "{\"data\": \"flight-hotel\"}\n",
      "1574395705362,2019-11-22 04:08:25.362000\n"
     ]
    },
    {
     "name": "stderr",
     "output_type": "stream",
     "text": [
      "172.18.0.6 - - [22/Nov/2019 04:08:26] \"POST / HTTP/1.1\" 200 -\n"
     ]
    },
    {
     "name": "stdout",
     "output_type": "stream",
     "text": [
      "type ==> <class 'ValueError'>\n",
      "value ==> attempt to get argmax of an empty sequence\n",
      "traceback ==> file name: <ipython-input-25-a23c8ff16dbb>\n",
      "traceback ==> line no: 211\n",
      "traceback ==> function name: handle_message\n",
      "::flightHotel:\n"
     ]
    },
    {
     "name": "stderr",
     "output_type": "stream",
     "text": [
      "[2019-11-22 04:08:31,976] ERROR in app: Exception on / [POST]\n",
      "Traceback (most recent call last):\n",
      "  File \"/opt/conda/lib/python3.7/site-packages/flask/app.py\", line 1982, in wsgi_app\n",
      "    response = self.full_dispatch_request()\n",
      "  File \"/opt/conda/lib/python3.7/site-packages/flask/app.py\", line 1614, in full_dispatch_request\n",
      "    rv = self.handle_user_exception(e)\n",
      "  File \"/opt/conda/lib/python3.7/site-packages/flask/app.py\", line 1517, in handle_user_exception\n",
      "    reraise(exc_type, exc_value, tb)\n",
      "  File \"/opt/conda/lib/python3.7/site-packages/flask/_compat.py\", line 33, in reraise\n",
      "    raise value\n",
      "  File \"/opt/conda/lib/python3.7/site-packages/flask/app.py\", line 1612, in full_dispatch_request\n",
      "    rv = self.dispatch_request()\n",
      "  File \"/opt/conda/lib/python3.7/site-packages/flask/app.py\", line 1598, in dispatch_request\n",
      "    return self.view_functions[rule.endpoint](**req.view_args)\n",
      "  File \"<ipython-input-2-d64f2e56086e>\", line 34, in callback\n",
      "    handler.handle(body, signature)\n",
      "  File \"/opt/conda/lib/python3.7/site-packages/linebot/webhook.py\", line 260, in handle\n",
      "    func(event)\n",
      "  File \"<ipython-input-27-47f437c60a92>\", line 50, in handle_post_message\n",
      "    msgpoi = MsgToBackend(str(user_profile.user_id)).msgpoi()\n",
      "  File \"<ipython-input-4-64bee36f3f84>\", line 187, in msgpoi\n",
      "    rDate = dfRdate.loc[dfRdate.loc[(dfRdate['userId']==self.user_id)]['tStamp'].idxmax()]['rDate']\n",
      "  File \"/opt/conda/lib/python3.7/site-packages/pandas/core/series.py\", line 2277, in idxmax\n",
      "    i = nanops.nanargmax(com.values_from_object(self), skipna=skipna)\n",
      "  File \"/opt/conda/lib/python3.7/site-packages/pandas/core/nanops.py\", line 70, in _f\n",
      "    return f(*args, **kwargs)\n",
      "  File \"/opt/conda/lib/python3.7/site-packages/pandas/core/nanops.py\", line 881, in nanargmax\n",
      "    result = values.argmax(axis)\n",
      "ValueError: attempt to get argmax of an empty sequence\n",
      "172.18.0.6 - - [22/Nov/2019 04:08:31] \"POST / HTTP/1.1\" 500 -\n",
      "[2019-11-22 04:08:32,508] ERROR in app: Exception on / [POST]\n",
      "Traceback (most recent call last):\n",
      "  File \"/opt/conda/lib/python3.7/site-packages/flask/app.py\", line 1982, in wsgi_app\n",
      "    response = self.full_dispatch_request()\n",
      "  File \"/opt/conda/lib/python3.7/site-packages/flask/app.py\", line 1614, in full_dispatch_request\n",
      "    rv = self.handle_user_exception(e)\n",
      "  File \"/opt/conda/lib/python3.7/site-packages/flask/app.py\", line 1517, in handle_user_exception\n",
      "    reraise(exc_type, exc_value, tb)\n",
      "  File \"/opt/conda/lib/python3.7/site-packages/flask/_compat.py\", line 33, in reraise\n",
      "    raise value\n",
      "  File \"/opt/conda/lib/python3.7/site-packages/flask/app.py\", line 1612, in full_dispatch_request\n",
      "    rv = self.dispatch_request()\n",
      "  File \"/opt/conda/lib/python3.7/site-packages/flask/app.py\", line 1598, in dispatch_request\n",
      "    return self.view_functions[rule.endpoint](**req.view_args)\n",
      "  File \"<ipython-input-2-d64f2e56086e>\", line 34, in callback\n",
      "    handler.handle(body, signature)\n",
      "  File \"/opt/conda/lib/python3.7/site-packages/linebot/webhook.py\", line 260, in handle\n",
      "    func(event)\n",
      "  File \"<ipython-input-27-47f437c60a92>\", line 50, in handle_post_message\n",
      "    msgpoi = MsgToBackend(str(user_profile.user_id)).msgpoi()\n",
      "  File \"<ipython-input-4-64bee36f3f84>\", line 187, in msgpoi\n",
      "    rDate = dfRdate.loc[dfRdate.loc[(dfRdate['userId']==self.user_id)]['tStamp'].idxmax()]['rDate']\n",
      "  File \"/opt/conda/lib/python3.7/site-packages/pandas/core/series.py\", line 2277, in idxmax\n",
      "    i = nanops.nanargmax(com.values_from_object(self), skipna=skipna)\n",
      "  File \"/opt/conda/lib/python3.7/site-packages/pandas/core/nanops.py\", line 70, in _f\n",
      "    return f(*args, **kwargs)\n",
      "  File \"/opt/conda/lib/python3.7/site-packages/pandas/core/nanops.py\", line 881, in nanargmax\n",
      "    result = values.argmax(axis)\n",
      "ValueError: attempt to get argmax of an empty sequence\n",
      "172.18.0.6 - - [22/Nov/2019 04:08:32] \"POST / HTTP/1.1\" 500 -\n",
      "[2019-11-22 04:08:33,019] ERROR in app: Exception on / [POST]\n",
      "Traceback (most recent call last):\n",
      "  File \"/opt/conda/lib/python3.7/site-packages/flask/app.py\", line 1982, in wsgi_app\n",
      "    response = self.full_dispatch_request()\n",
      "  File \"/opt/conda/lib/python3.7/site-packages/flask/app.py\", line 1614, in full_dispatch_request\n",
      "    rv = self.handle_user_exception(e)\n",
      "  File \"/opt/conda/lib/python3.7/site-packages/flask/app.py\", line 1517, in handle_user_exception\n",
      "    reraise(exc_type, exc_value, tb)\n",
      "  File \"/opt/conda/lib/python3.7/site-packages/flask/_compat.py\", line 33, in reraise\n",
      "    raise value\n",
      "  File \"/opt/conda/lib/python3.7/site-packages/flask/app.py\", line 1612, in full_dispatch_request\n",
      "    rv = self.dispatch_request()\n",
      "  File \"/opt/conda/lib/python3.7/site-packages/flask/app.py\", line 1598, in dispatch_request\n",
      "    return self.view_functions[rule.endpoint](**req.view_args)\n",
      "  File \"<ipython-input-2-d64f2e56086e>\", line 34, in callback\n",
      "    handler.handle(body, signature)\n",
      "  File \"/opt/conda/lib/python3.7/site-packages/linebot/webhook.py\", line 260, in handle\n",
      "    func(event)\n",
      "  File \"<ipython-input-27-47f437c60a92>\", line 50, in handle_post_message\n",
      "    msgpoi = MsgToBackend(str(user_profile.user_id)).msgpoi()\n",
      "  File \"<ipython-input-4-64bee36f3f84>\", line 187, in msgpoi\n",
      "    rDate = dfRdate.loc[dfRdate.loc[(dfRdate['userId']==self.user_id)]['tStamp'].idxmax()]['rDate']\n",
      "  File \"/opt/conda/lib/python3.7/site-packages/pandas/core/series.py\", line 2277, in idxmax\n",
      "    i = nanops.nanargmax(com.values_from_object(self), skipna=skipna)\n",
      "  File \"/opt/conda/lib/python3.7/site-packages/pandas/core/nanops.py\", line 70, in _f\n",
      "    return f(*args, **kwargs)\n",
      "  File \"/opt/conda/lib/python3.7/site-packages/pandas/core/nanops.py\", line 881, in nanargmax\n",
      "    result = values.argmax(axis)\n",
      "ValueError: attempt to get argmax of an empty sequence\n",
      "172.18.0.6 - - [22/Nov/2019 04:08:33] \"POST / HTTP/1.1\" 500 -\n",
      "[2019-11-22 04:08:33,940] ERROR in app: Exception on / [POST]\n",
      "Traceback (most recent call last):\n",
      "  File \"/opt/conda/lib/python3.7/site-packages/flask/app.py\", line 1982, in wsgi_app\n",
      "    response = self.full_dispatch_request()\n",
      "  File \"/opt/conda/lib/python3.7/site-packages/flask/app.py\", line 1614, in full_dispatch_request\n",
      "    rv = self.handle_user_exception(e)\n",
      "  File \"/opt/conda/lib/python3.7/site-packages/flask/app.py\", line 1517, in handle_user_exception\n",
      "    reraise(exc_type, exc_value, tb)\n",
      "  File \"/opt/conda/lib/python3.7/site-packages/flask/_compat.py\", line 33, in reraise\n",
      "    raise value\n",
      "  File \"/opt/conda/lib/python3.7/site-packages/flask/app.py\", line 1612, in full_dispatch_request\n",
      "    rv = self.dispatch_request()\n",
      "  File \"/opt/conda/lib/python3.7/site-packages/flask/app.py\", line 1598, in dispatch_request\n",
      "    return self.view_functions[rule.endpoint](**req.view_args)\n",
      "  File \"<ipython-input-2-d64f2e56086e>\", line 34, in callback\n",
      "    handler.handle(body, signature)\n",
      "  File \"/opt/conda/lib/python3.7/site-packages/linebot/webhook.py\", line 260, in handle\n",
      "    func(event)\n",
      "  File \"<ipython-input-27-47f437c60a92>\", line 230, in handle_post_message\n",
      "    maxKey = dfLastTStamp.loc[dfLastTStamp['value'].idxmax()]['val_Id']\n",
      "  File \"/opt/conda/lib/python3.7/site-packages/pandas/core/series.py\", line 2277, in idxmax\n",
      "    i = nanops.nanargmax(com.values_from_object(self), skipna=skipna)\n",
      "  File \"/opt/conda/lib/python3.7/site-packages/pandas/core/nanops.py\", line 70, in _f\n",
      "    return f(*args, **kwargs)\n",
      "  File \"/opt/conda/lib/python3.7/site-packages/pandas/core/nanops.py\", line 881, in nanargmax\n",
      "    result = values.argmax(axis)\n",
      "ValueError: attempt to get argmax of an empty sequence\n",
      "172.18.0.6 - - [22/Nov/2019 04:08:33] \"POST / HTTP/1.1\" 500 -\n"
     ]
    },
    {
     "name": "stdout",
     "output_type": "stream",
     "text": [
      "Empty DataFrame\n",
      "Columns: [userId, val_Id, value, tStamp]\n",
      "Index: []\n",
      "nan\n",
      "Empty DataFrame\n",
      "Columns: [userId, val_Id, value, tStamp]\n",
      "Index: []\n"
     ]
    },
    {
     "name": "stderr",
     "output_type": "stream",
     "text": [
      "[2019-11-22 04:08:34,424] ERROR in app: Exception on / [POST]\n",
      "Traceback (most recent call last):\n",
      "  File \"/opt/conda/lib/python3.7/site-packages/flask/app.py\", line 1982, in wsgi_app\n",
      "    response = self.full_dispatch_request()\n",
      "  File \"/opt/conda/lib/python3.7/site-packages/flask/app.py\", line 1614, in full_dispatch_request\n",
      "    rv = self.handle_user_exception(e)\n",
      "  File \"/opt/conda/lib/python3.7/site-packages/flask/app.py\", line 1517, in handle_user_exception\n",
      "    reraise(exc_type, exc_value, tb)\n",
      "  File \"/opt/conda/lib/python3.7/site-packages/flask/_compat.py\", line 33, in reraise\n",
      "    raise value\n",
      "  File \"/opt/conda/lib/python3.7/site-packages/flask/app.py\", line 1612, in full_dispatch_request\n",
      "    rv = self.dispatch_request()\n",
      "  File \"/opt/conda/lib/python3.7/site-packages/flask/app.py\", line 1598, in dispatch_request\n",
      "    return self.view_functions[rule.endpoint](**req.view_args)\n",
      "  File \"<ipython-input-2-d64f2e56086e>\", line 34, in callback\n",
      "    handler.handle(body, signature)\n",
      "  File \"/opt/conda/lib/python3.7/site-packages/linebot/webhook.py\", line 260, in handle\n",
      "    func(event)\n",
      "  File \"<ipython-input-27-47f437c60a92>\", line 50, in handle_post_message\n",
      "    msgpoi = MsgToBackend(str(user_profile.user_id)).msgpoi()\n",
      "  File \"<ipython-input-4-64bee36f3f84>\", line 187, in msgpoi\n",
      "    rDate = dfRdate.loc[dfRdate.loc[(dfRdate['userId']==self.user_id)]['tStamp'].idxmax()]['rDate']\n",
      "  File \"/opt/conda/lib/python3.7/site-packages/pandas/core/series.py\", line 2277, in idxmax\n",
      "    i = nanops.nanargmax(com.values_from_object(self), skipna=skipna)\n",
      "  File \"/opt/conda/lib/python3.7/site-packages/pandas/core/nanops.py\", line 70, in _f\n",
      "    return f(*args, **kwargs)\n",
      "  File \"/opt/conda/lib/python3.7/site-packages/pandas/core/nanops.py\", line 881, in nanargmax\n",
      "    result = values.argmax(axis)\n",
      "ValueError: attempt to get argmax of an empty sequence\n",
      "172.18.0.6 - - [22/Nov/2019 04:08:34] \"POST / HTTP/1.1\" 500 -\n",
      "172.18.0.6 - - [22/Nov/2019 04:09:18] \"GET /images/day4-U6862a7797fb21baaca9d110ccc061758-1574395616853map.html HTTP/1.1\" 200 -\n",
      "172.18.0.6 - - [22/Nov/2019 04:09:20] \"GET /favicon.ico HTTP/1.1\" 404 -\n",
      "172.18.0.6 - - [22/Nov/2019 04:09:21] \"GET /images/jupyter-gmaps.js HTTP/1.1\" 404 -\n",
      "[2019-11-22 04:10:02,804] ERROR in app: Exception on / [POST]\n",
      "Traceback (most recent call last):\n",
      "  File \"/opt/conda/lib/python3.7/site-packages/flask/app.py\", line 1982, in wsgi_app\n",
      "    response = self.full_dispatch_request()\n",
      "  File \"/opt/conda/lib/python3.7/site-packages/flask/app.py\", line 1614, in full_dispatch_request\n",
      "    rv = self.handle_user_exception(e)\n",
      "  File \"/opt/conda/lib/python3.7/site-packages/flask/app.py\", line 1517, in handle_user_exception\n",
      "    reraise(exc_type, exc_value, tb)\n",
      "  File \"/opt/conda/lib/python3.7/site-packages/flask/_compat.py\", line 33, in reraise\n",
      "    raise value\n",
      "  File \"/opt/conda/lib/python3.7/site-packages/flask/app.py\", line 1612, in full_dispatch_request\n",
      "    rv = self.dispatch_request()\n",
      "  File \"/opt/conda/lib/python3.7/site-packages/flask/app.py\", line 1598, in dispatch_request\n",
      "    return self.view_functions[rule.endpoint](**req.view_args)\n",
      "  File \"<ipython-input-2-d64f2e56086e>\", line 34, in callback\n",
      "    handler.handle(body, signature)\n",
      "  File \"/opt/conda/lib/python3.7/site-packages/linebot/webhook.py\", line 260, in handle\n",
      "    func(event)\n",
      "  File \"<ipython-input-27-47f437c60a92>\", line 50, in handle_post_message\n",
      "    msgpoi = MsgToBackend(str(user_profile.user_id)).msgpoi()\n",
      "  File \"<ipython-input-4-64bee36f3f84>\", line 187, in msgpoi\n",
      "    rDate = dfRdate.loc[dfRdate.loc[(dfRdate['userId']==self.user_id)]['tStamp'].idxmax()]['rDate']\n",
      "  File \"/opt/conda/lib/python3.7/site-packages/pandas/core/series.py\", line 2277, in idxmax\n",
      "    i = nanops.nanargmax(com.values_from_object(self), skipna=skipna)\n",
      "  File \"/opt/conda/lib/python3.7/site-packages/pandas/core/nanops.py\", line 70, in _f\n",
      "    return f(*args, **kwargs)\n",
      "  File \"/opt/conda/lib/python3.7/site-packages/pandas/core/nanops.py\", line 881, in nanargmax\n",
      "    result = values.argmax(axis)\n",
      "ValueError: attempt to get argmax of an empty sequence\n",
      "172.18.0.6 - - [22/Nov/2019 04:10:02] \"POST / HTTP/1.1\" 500 -\n",
      "[2019-11-22 04:10:03,276] ERROR in app: Exception on / [POST]\n",
      "Traceback (most recent call last):\n",
      "  File \"/opt/conda/lib/python3.7/site-packages/flask/app.py\", line 1982, in wsgi_app\n",
      "    response = self.full_dispatch_request()\n",
      "  File \"/opt/conda/lib/python3.7/site-packages/flask/app.py\", line 1614, in full_dispatch_request\n",
      "    rv = self.handle_user_exception(e)\n",
      "  File \"/opt/conda/lib/python3.7/site-packages/flask/app.py\", line 1517, in handle_user_exception\n",
      "    reraise(exc_type, exc_value, tb)\n",
      "  File \"/opt/conda/lib/python3.7/site-packages/flask/_compat.py\", line 33, in reraise\n",
      "    raise value\n",
      "  File \"/opt/conda/lib/python3.7/site-packages/flask/app.py\", line 1612, in full_dispatch_request\n",
      "    rv = self.dispatch_request()\n",
      "  File \"/opt/conda/lib/python3.7/site-packages/flask/app.py\", line 1598, in dispatch_request\n",
      "    return self.view_functions[rule.endpoint](**req.view_args)\n",
      "  File \"<ipython-input-2-d64f2e56086e>\", line 34, in callback\n",
      "    handler.handle(body, signature)\n",
      "  File \"/opt/conda/lib/python3.7/site-packages/linebot/webhook.py\", line 260, in handle\n",
      "    func(event)\n",
      "  File \"<ipython-input-27-47f437c60a92>\", line 50, in handle_post_message\n",
      "    msgpoi = MsgToBackend(str(user_profile.user_id)).msgpoi()\n",
      "  File \"<ipython-input-4-64bee36f3f84>\", line 187, in msgpoi\n",
      "    rDate = dfRdate.loc[dfRdate.loc[(dfRdate['userId']==self.user_id)]['tStamp'].idxmax()]['rDate']\n",
      "  File \"/opt/conda/lib/python3.7/site-packages/pandas/core/series.py\", line 2277, in idxmax\n",
      "    i = nanops.nanargmax(com.values_from_object(self), skipna=skipna)\n",
      "  File \"/opt/conda/lib/python3.7/site-packages/pandas/core/nanops.py\", line 70, in _f\n",
      "    return f(*args, **kwargs)\n",
      "  File \"/opt/conda/lib/python3.7/site-packages/pandas/core/nanops.py\", line 881, in nanargmax\n",
      "    result = values.argmax(axis)\n",
      "ValueError: attempt to get argmax of an empty sequence\n",
      "172.18.0.6 - - [22/Nov/2019 04:10:03] \"POST / HTTP/1.1\" 500 -\n",
      "[2019-11-22 04:10:13,927] ERROR in app: Exception on / [POST]\n",
      "Traceback (most recent call last):\n",
      "  File \"/opt/conda/lib/python3.7/site-packages/flask/app.py\", line 1982, in wsgi_app\n",
      "    response = self.full_dispatch_request()\n",
      "  File \"/opt/conda/lib/python3.7/site-packages/flask/app.py\", line 1614, in full_dispatch_request\n",
      "    rv = self.handle_user_exception(e)\n",
      "  File \"/opt/conda/lib/python3.7/site-packages/flask/app.py\", line 1517, in handle_user_exception\n",
      "    reraise(exc_type, exc_value, tb)\n",
      "  File \"/opt/conda/lib/python3.7/site-packages/flask/_compat.py\", line 33, in reraise\n",
      "    raise value\n",
      "  File \"/opt/conda/lib/python3.7/site-packages/flask/app.py\", line 1612, in full_dispatch_request\n",
      "    rv = self.dispatch_request()\n",
      "  File \"/opt/conda/lib/python3.7/site-packages/flask/app.py\", line 1598, in dispatch_request\n",
      "    return self.view_functions[rule.endpoint](**req.view_args)\n",
      "  File \"<ipython-input-2-d64f2e56086e>\", line 34, in callback\n",
      "    handler.handle(body, signature)\n",
      "  File \"/opt/conda/lib/python3.7/site-packages/linebot/webhook.py\", line 260, in handle\n",
      "    func(event)\n",
      "  File \"<ipython-input-27-47f437c60a92>\", line 50, in handle_post_message\n",
      "    msgpoi = MsgToBackend(str(user_profile.user_id)).msgpoi()\n",
      "  File \"<ipython-input-4-64bee36f3f84>\", line 187, in msgpoi\n",
      "    rDate = dfRdate.loc[dfRdate.loc[(dfRdate['userId']==self.user_id)]['tStamp'].idxmax()]['rDate']\n",
      "  File \"/opt/conda/lib/python3.7/site-packages/pandas/core/series.py\", line 2277, in idxmax\n",
      "    i = nanops.nanargmax(com.values_from_object(self), skipna=skipna)\n",
      "  File \"/opt/conda/lib/python3.7/site-packages/pandas/core/nanops.py\", line 70, in _f\n",
      "    return f(*args, **kwargs)\n",
      "  File \"/opt/conda/lib/python3.7/site-packages/pandas/core/nanops.py\", line 881, in nanargmax\n",
      "    result = values.argmax(axis)\n",
      "ValueError: attempt to get argmax of an empty sequence\n",
      "172.18.0.6 - - [22/Nov/2019 04:10:13] \"POST / HTTP/1.1\" 500 -\n",
      "[2019-11-22 04:10:14,411] ERROR in app: Exception on / [POST]\n",
      "Traceback (most recent call last):\n",
      "  File \"/opt/conda/lib/python3.7/site-packages/flask/app.py\", line 1982, in wsgi_app\n",
      "    response = self.full_dispatch_request()\n",
      "  File \"/opt/conda/lib/python3.7/site-packages/flask/app.py\", line 1614, in full_dispatch_request\n",
      "    rv = self.handle_user_exception(e)\n",
      "  File \"/opt/conda/lib/python3.7/site-packages/flask/app.py\", line 1517, in handle_user_exception\n",
      "    reraise(exc_type, exc_value, tb)\n",
      "  File \"/opt/conda/lib/python3.7/site-packages/flask/_compat.py\", line 33, in reraise\n",
      "    raise value\n",
      "  File \"/opt/conda/lib/python3.7/site-packages/flask/app.py\", line 1612, in full_dispatch_request\n",
      "    rv = self.dispatch_request()\n",
      "  File \"/opt/conda/lib/python3.7/site-packages/flask/app.py\", line 1598, in dispatch_request\n",
      "    return self.view_functions[rule.endpoint](**req.view_args)\n",
      "  File \"<ipython-input-2-d64f2e56086e>\", line 34, in callback\n",
      "    handler.handle(body, signature)\n",
      "  File \"/opt/conda/lib/python3.7/site-packages/linebot/webhook.py\", line 260, in handle\n",
      "    func(event)\n",
      "  File \"<ipython-input-27-47f437c60a92>\", line 50, in handle_post_message\n",
      "    msgpoi = MsgToBackend(str(user_profile.user_id)).msgpoi()\n",
      "  File \"<ipython-input-4-64bee36f3f84>\", line 187, in msgpoi\n",
      "    rDate = dfRdate.loc[dfRdate.loc[(dfRdate['userId']==self.user_id)]['tStamp'].idxmax()]['rDate']\n",
      "  File \"/opt/conda/lib/python3.7/site-packages/pandas/core/series.py\", line 2277, in idxmax\n",
      "    i = nanops.nanargmax(com.values_from_object(self), skipna=skipna)\n",
      "  File \"/opt/conda/lib/python3.7/site-packages/pandas/core/nanops.py\", line 70, in _f\n",
      "    return f(*args, **kwargs)\n",
      "  File \"/opt/conda/lib/python3.7/site-packages/pandas/core/nanops.py\", line 881, in nanargmax\n",
      "    result = values.argmax(axis)\n",
      "ValueError: attempt to get argmax of an empty sequence\n"
     ]
    },
    {
     "name": "stderr",
     "output_type": "stream",
     "text": [
      "172.18.0.6 - - [22/Nov/2019 04:10:14] \"POST / HTTP/1.1\" 500 -\n",
      "[2019-11-22 04:10:14,885] ERROR in app: Exception on / [POST]\n",
      "Traceback (most recent call last):\n",
      "  File \"/opt/conda/lib/python3.7/site-packages/flask/app.py\", line 1982, in wsgi_app\n",
      "    response = self.full_dispatch_request()\n",
      "  File \"/opt/conda/lib/python3.7/site-packages/flask/app.py\", line 1614, in full_dispatch_request\n",
      "    rv = self.handle_user_exception(e)\n",
      "  File \"/opt/conda/lib/python3.7/site-packages/flask/app.py\", line 1517, in handle_user_exception\n",
      "    reraise(exc_type, exc_value, tb)\n",
      "  File \"/opt/conda/lib/python3.7/site-packages/flask/_compat.py\", line 33, in reraise\n",
      "    raise value\n",
      "  File \"/opt/conda/lib/python3.7/site-packages/flask/app.py\", line 1612, in full_dispatch_request\n",
      "    rv = self.dispatch_request()\n",
      "  File \"/opt/conda/lib/python3.7/site-packages/flask/app.py\", line 1598, in dispatch_request\n",
      "    return self.view_functions[rule.endpoint](**req.view_args)\n",
      "  File \"<ipython-input-2-d64f2e56086e>\", line 34, in callback\n",
      "    handler.handle(body, signature)\n",
      "  File \"/opt/conda/lib/python3.7/site-packages/linebot/webhook.py\", line 260, in handle\n",
      "    func(event)\n",
      "  File \"<ipython-input-27-47f437c60a92>\", line 50, in handle_post_message\n",
      "    msgpoi = MsgToBackend(str(user_profile.user_id)).msgpoi()\n",
      "  File \"<ipython-input-4-64bee36f3f84>\", line 187, in msgpoi\n",
      "    rDate = dfRdate.loc[dfRdate.loc[(dfRdate['userId']==self.user_id)]['tStamp'].idxmax()]['rDate']\n",
      "  File \"/opt/conda/lib/python3.7/site-packages/pandas/core/series.py\", line 2277, in idxmax\n",
      "    i = nanops.nanargmax(com.values_from_object(self), skipna=skipna)\n",
      "  File \"/opt/conda/lib/python3.7/site-packages/pandas/core/nanops.py\", line 70, in _f\n",
      "    return f(*args, **kwargs)\n",
      "  File \"/opt/conda/lib/python3.7/site-packages/pandas/core/nanops.py\", line 881, in nanargmax\n",
      "    result = values.argmax(axis)\n",
      "ValueError: attempt to get argmax of an empty sequence\n",
      "172.18.0.6 - - [22/Nov/2019 04:10:14] \"POST / HTTP/1.1\" 500 -\n",
      "172.18.0.6 - - [22/Nov/2019 04:10:23] \"POST / HTTP/1.1\" 200 -\n"
     ]
    },
    {
     "name": "stdout",
     "output_type": "stream",
     "text": [
      "Amelia,Uf2ad0eb3c96bc7a6a472cde028fbea5b\n",
      "{\"data\": \"poi\"}\n",
      "1574395822802,2019-11-22 04:10:22.802000\n"
     ]
    },
    {
     "name": "stderr",
     "output_type": "stream",
     "text": [
      "172.18.0.6 - - [22/Nov/2019 04:10:24] \"POST / HTTP/1.1\" 200 -\n"
     ]
    },
    {
     "name": "stdout",
     "output_type": "stream",
     "text": [
      "::POI:\n"
     ]
    },
    {
     "name": "stderr",
     "output_type": "stream",
     "text": [
      "[2019-11-22 04:10:27,642] ERROR in app: Exception on / [POST]\n",
      "Traceback (most recent call last):\n",
      "  File \"/opt/conda/lib/python3.7/site-packages/flask/app.py\", line 1982, in wsgi_app\n",
      "    response = self.full_dispatch_request()\n",
      "  File \"/opt/conda/lib/python3.7/site-packages/flask/app.py\", line 1614, in full_dispatch_request\n",
      "    rv = self.handle_user_exception(e)\n",
      "  File \"/opt/conda/lib/python3.7/site-packages/flask/app.py\", line 1517, in handle_user_exception\n",
      "    reraise(exc_type, exc_value, tb)\n",
      "  File \"/opt/conda/lib/python3.7/site-packages/flask/_compat.py\", line 33, in reraise\n",
      "    raise value\n",
      "  File \"/opt/conda/lib/python3.7/site-packages/flask/app.py\", line 1612, in full_dispatch_request\n",
      "    rv = self.dispatch_request()\n",
      "  File \"/opt/conda/lib/python3.7/site-packages/flask/app.py\", line 1598, in dispatch_request\n",
      "    return self.view_functions[rule.endpoint](**req.view_args)\n",
      "  File \"<ipython-input-2-d64f2e56086e>\", line 34, in callback\n",
      "    handler.handle(body, signature)\n",
      "  File \"/opt/conda/lib/python3.7/site-packages/linebot/webhook.py\", line 260, in handle\n",
      "    func(event)\n",
      "  File \"<ipython-input-27-47f437c60a92>\", line 50, in handle_post_message\n",
      "    msgpoi = MsgToBackend(str(user_profile.user_id)).msgpoi()\n",
      "  File \"<ipython-input-4-64bee36f3f84>\", line 187, in msgpoi\n",
      "    rDate = dfRdate.loc[dfRdate.loc[(dfRdate['userId']==self.user_id)]['tStamp'].idxmax()]['rDate']\n",
      "  File \"/opt/conda/lib/python3.7/site-packages/pandas/core/series.py\", line 2277, in idxmax\n",
      "    i = nanops.nanargmax(com.values_from_object(self), skipna=skipna)\n",
      "  File \"/opt/conda/lib/python3.7/site-packages/pandas/core/nanops.py\", line 70, in _f\n",
      "    return f(*args, **kwargs)\n",
      "  File \"/opt/conda/lib/python3.7/site-packages/pandas/core/nanops.py\", line 881, in nanargmax\n",
      "    result = values.argmax(axis)\n",
      "ValueError: attempt to get argmax of an empty sequence\n",
      "172.18.0.6 - - [22/Nov/2019 04:10:27] \"POST / HTTP/1.1\" 500 -\n",
      "[2019-11-22 04:10:28,997] ERROR in app: Exception on / [POST]\n",
      "Traceback (most recent call last):\n",
      "  File \"/opt/conda/lib/python3.7/site-packages/flask/app.py\", line 1982, in wsgi_app\n",
      "    response = self.full_dispatch_request()\n",
      "  File \"/opt/conda/lib/python3.7/site-packages/flask/app.py\", line 1614, in full_dispatch_request\n",
      "    rv = self.handle_user_exception(e)\n",
      "  File \"/opt/conda/lib/python3.7/site-packages/flask/app.py\", line 1517, in handle_user_exception\n",
      "    reraise(exc_type, exc_value, tb)\n",
      "  File \"/opt/conda/lib/python3.7/site-packages/flask/_compat.py\", line 33, in reraise\n",
      "    raise value\n",
      "  File \"/opt/conda/lib/python3.7/site-packages/flask/app.py\", line 1612, in full_dispatch_request\n",
      "    rv = self.dispatch_request()\n",
      "  File \"/opt/conda/lib/python3.7/site-packages/flask/app.py\", line 1598, in dispatch_request\n",
      "    return self.view_functions[rule.endpoint](**req.view_args)\n",
      "  File \"<ipython-input-2-d64f2e56086e>\", line 34, in callback\n",
      "    handler.handle(body, signature)\n",
      "  File \"/opt/conda/lib/python3.7/site-packages/linebot/webhook.py\", line 260, in handle\n",
      "    func(event)\n",
      "  File \"<ipython-input-27-47f437c60a92>\", line 50, in handle_post_message\n",
      "    msgpoi = MsgToBackend(str(user_profile.user_id)).msgpoi()\n",
      "  File \"<ipython-input-4-64bee36f3f84>\", line 187, in msgpoi\n",
      "    rDate = dfRdate.loc[dfRdate.loc[(dfRdate['userId']==self.user_id)]['tStamp'].idxmax()]['rDate']\n",
      "  File \"/opt/conda/lib/python3.7/site-packages/pandas/core/series.py\", line 2277, in idxmax\n",
      "    i = nanops.nanargmax(com.values_from_object(self), skipna=skipna)\n",
      "  File \"/opt/conda/lib/python3.7/site-packages/pandas/core/nanops.py\", line 70, in _f\n",
      "    return f(*args, **kwargs)\n",
      "  File \"/opt/conda/lib/python3.7/site-packages/pandas/core/nanops.py\", line 881, in nanargmax\n",
      "    result = values.argmax(axis)\n",
      "ValueError: attempt to get argmax of an empty sequence\n",
      "172.18.0.6 - - [22/Nov/2019 04:10:28] \"POST / HTTP/1.1\" 500 -\n",
      "[2019-11-22 04:10:29,906] ERROR in app: Exception on / [POST]\n",
      "Traceback (most recent call last):\n",
      "  File \"/opt/conda/lib/python3.7/site-packages/flask/app.py\", line 1982, in wsgi_app\n",
      "    response = self.full_dispatch_request()\n",
      "  File \"/opt/conda/lib/python3.7/site-packages/flask/app.py\", line 1614, in full_dispatch_request\n",
      "    rv = self.handle_user_exception(e)\n",
      "  File \"/opt/conda/lib/python3.7/site-packages/flask/app.py\", line 1517, in handle_user_exception\n",
      "    reraise(exc_type, exc_value, tb)\n",
      "  File \"/opt/conda/lib/python3.7/site-packages/flask/_compat.py\", line 33, in reraise\n",
      "    raise value\n",
      "  File \"/opt/conda/lib/python3.7/site-packages/flask/app.py\", line 1612, in full_dispatch_request\n",
      "    rv = self.dispatch_request()\n",
      "  File \"/opt/conda/lib/python3.7/site-packages/flask/app.py\", line 1598, in dispatch_request\n",
      "    return self.view_functions[rule.endpoint](**req.view_args)\n",
      "  File \"<ipython-input-2-d64f2e56086e>\", line 34, in callback\n",
      "    handler.handle(body, signature)\n",
      "  File \"/opt/conda/lib/python3.7/site-packages/linebot/webhook.py\", line 260, in handle\n",
      "    func(event)\n",
      "  File \"<ipython-input-27-47f437c60a92>\", line 50, in handle_post_message\n",
      "    msgpoi = MsgToBackend(str(user_profile.user_id)).msgpoi()\n",
      "  File \"<ipython-input-4-64bee36f3f84>\", line 187, in msgpoi\n",
      "    rDate = dfRdate.loc[dfRdate.loc[(dfRdate['userId']==self.user_id)]['tStamp'].idxmax()]['rDate']\n",
      "  File \"/opt/conda/lib/python3.7/site-packages/pandas/core/series.py\", line 2277, in idxmax\n",
      "    i = nanops.nanargmax(com.values_from_object(self), skipna=skipna)\n",
      "  File \"/opt/conda/lib/python3.7/site-packages/pandas/core/nanops.py\", line 70, in _f\n",
      "    return f(*args, **kwargs)\n",
      "  File \"/opt/conda/lib/python3.7/site-packages/pandas/core/nanops.py\", line 881, in nanargmax\n",
      "    result = values.argmax(axis)\n",
      "ValueError: attempt to get argmax of an empty sequence\n",
      "172.18.0.6 - - [22/Nov/2019 04:10:29] \"POST / HTTP/1.1\" 500 -\n",
      "172.18.0.6 - - [22/Nov/2019 04:10:33] \"POST / HTTP/1.1\" 200 -\n"
     ]
    },
    {
     "name": "stdout",
     "output_type": "stream",
     "text": [
      "Amelia,Uf2ad0eb3c96bc7a6a472cde028fbea5b\n",
      "{\"data\": \"restaurant\"}\n",
      "1574395832651,2019-11-22 04:10:32.651000\n"
     ]
    },
    {
     "name": "stderr",
     "output_type": "stream",
     "text": [
      "172.18.0.6 - - [22/Nov/2019 04:10:33] \"POST / HTTP/1.1\" 200 -\n"
     ]
    },
    {
     "name": "stdout",
     "output_type": "stream",
     "text": [
      "type ==> <class 'ValueError'>\n",
      "value ==> attempt to get argmax of an empty sequence\n",
      "traceback ==> file name: <ipython-input-25-a23c8ff16dbb>\n",
      "traceback ==> line no: 187\n",
      "traceback ==> function name: handle_message\n",
      "::restaurant:\n"
     ]
    },
    {
     "name": "stderr",
     "output_type": "stream",
     "text": [
      "[2019-11-22 04:10:36,443] ERROR in app: Exception on / [POST]\n",
      "Traceback (most recent call last):\n",
      "  File \"/opt/conda/lib/python3.7/site-packages/flask/app.py\", line 1982, in wsgi_app\n",
      "    response = self.full_dispatch_request()\n",
      "  File \"/opt/conda/lib/python3.7/site-packages/flask/app.py\", line 1614, in full_dispatch_request\n",
      "    rv = self.handle_user_exception(e)\n",
      "  File \"/opt/conda/lib/python3.7/site-packages/flask/app.py\", line 1517, in handle_user_exception\n",
      "    reraise(exc_type, exc_value, tb)\n",
      "  File \"/opt/conda/lib/python3.7/site-packages/flask/_compat.py\", line 33, in reraise\n",
      "    raise value\n",
      "  File \"/opt/conda/lib/python3.7/site-packages/flask/app.py\", line 1612, in full_dispatch_request\n",
      "    rv = self.dispatch_request()\n",
      "  File \"/opt/conda/lib/python3.7/site-packages/flask/app.py\", line 1598, in dispatch_request\n",
      "    return self.view_functions[rule.endpoint](**req.view_args)\n",
      "  File \"<ipython-input-2-d64f2e56086e>\", line 34, in callback\n",
      "    handler.handle(body, signature)\n",
      "  File \"/opt/conda/lib/python3.7/site-packages/linebot/webhook.py\", line 260, in handle\n",
      "    func(event)\n",
      "  File \"<ipython-input-27-47f437c60a92>\", line 50, in handle_post_message\n",
      "    msgpoi = MsgToBackend(str(user_profile.user_id)).msgpoi()\n",
      "  File \"<ipython-input-4-64bee36f3f84>\", line 187, in msgpoi\n",
      "    rDate = dfRdate.loc[dfRdate.loc[(dfRdate['userId']==self.user_id)]['tStamp'].idxmax()]['rDate']\n",
      "  File \"/opt/conda/lib/python3.7/site-packages/pandas/core/series.py\", line 2277, in idxmax\n",
      "    i = nanops.nanargmax(com.values_from_object(self), skipna=skipna)\n",
      "  File \"/opt/conda/lib/python3.7/site-packages/pandas/core/nanops.py\", line 70, in _f\n",
      "    return f(*args, **kwargs)\n",
      "  File \"/opt/conda/lib/python3.7/site-packages/pandas/core/nanops.py\", line 881, in nanargmax\n",
      "    result = values.argmax(axis)\n",
      "ValueError: attempt to get argmax of an empty sequence\n",
      "172.18.0.6 - - [22/Nov/2019 04:10:36] \"POST / HTTP/1.1\" 500 -\n",
      "[2019-11-22 04:10:36,905] ERROR in app: Exception on / [POST]\n",
      "Traceback (most recent call last):\n",
      "  File \"/opt/conda/lib/python3.7/site-packages/flask/app.py\", line 1982, in wsgi_app\n",
      "    response = self.full_dispatch_request()\n",
      "  File \"/opt/conda/lib/python3.7/site-packages/flask/app.py\", line 1614, in full_dispatch_request\n",
      "    rv = self.handle_user_exception(e)\n",
      "  File \"/opt/conda/lib/python3.7/site-packages/flask/app.py\", line 1517, in handle_user_exception\n",
      "    reraise(exc_type, exc_value, tb)\n",
      "  File \"/opt/conda/lib/python3.7/site-packages/flask/_compat.py\", line 33, in reraise\n",
      "    raise value\n",
      "  File \"/opt/conda/lib/python3.7/site-packages/flask/app.py\", line 1612, in full_dispatch_request\n",
      "    rv = self.dispatch_request()\n",
      "  File \"/opt/conda/lib/python3.7/site-packages/flask/app.py\", line 1598, in dispatch_request\n",
      "    return self.view_functions[rule.endpoint](**req.view_args)\n",
      "  File \"<ipython-input-2-d64f2e56086e>\", line 34, in callback\n",
      "    handler.handle(body, signature)\n",
      "  File \"/opt/conda/lib/python3.7/site-packages/linebot/webhook.py\", line 260, in handle\n",
      "    func(event)\n",
      "  File \"<ipython-input-27-47f437c60a92>\", line 50, in handle_post_message\n",
      "    msgpoi = MsgToBackend(str(user_profile.user_id)).msgpoi()\n",
      "  File \"<ipython-input-4-64bee36f3f84>\", line 187, in msgpoi\n",
      "    rDate = dfRdate.loc[dfRdate.loc[(dfRdate['userId']==self.user_id)]['tStamp'].idxmax()]['rDate']\n",
      "  File \"/opt/conda/lib/python3.7/site-packages/pandas/core/series.py\", line 2277, in idxmax\n",
      "    i = nanops.nanargmax(com.values_from_object(self), skipna=skipna)\n",
      "  File \"/opt/conda/lib/python3.7/site-packages/pandas/core/nanops.py\", line 70, in _f\n",
      "    return f(*args, **kwargs)\n",
      "  File \"/opt/conda/lib/python3.7/site-packages/pandas/core/nanops.py\", line 881, in nanargmax\n",
      "    result = values.argmax(axis)\n",
      "ValueError: attempt to get argmax of an empty sequence\n",
      "172.18.0.6 - - [22/Nov/2019 04:10:36] \"POST / HTTP/1.1\" 500 -\n",
      "172.18.0.6 - - [22/Nov/2019 04:12:44] \"POST / HTTP/1.1\" 200 -\n"
     ]
    },
    {
     "name": "stdout",
     "output_type": "stream",
     "text": [
      "Amelia,Uf2ad0eb3c96bc7a6a472cde028fbea5b\n",
      "{\"data\": \"souvenir\"}\n",
      "1574395963522,2019-11-22 04:12:43.522000\n"
     ]
    },
    {
     "name": "stderr",
     "output_type": "stream",
     "text": [
      "172.18.0.6 - - [22/Nov/2019 04:12:44] \"POST / HTTP/1.1\" 200 -\n"
     ]
    },
    {
     "name": "stdout",
     "output_type": "stream",
     "text": [
      "type ==> <class 'ValueError'>\n",
      "value ==> attempt to get argmax of an empty sequence\n",
      "traceback ==> file name: <ipython-input-25-a23c8ff16dbb>\n",
      "traceback ==> line no: 165\n",
      "traceback ==> function name: handle_message\n",
      "::souvenir:\n"
     ]
    },
    {
     "name": "stderr",
     "output_type": "stream",
     "text": [
      "172.18.0.6 - - [22/Nov/2019 04:20:50] \"POST / HTTP/1.1\" 200 -\n"
     ]
    },
    {
     "name": "stdout",
     "output_type": "stream",
     "text": [
      "陳長趯\n",
      "Uea7f9d36592e745d0a4d77641c317d46\n",
      "https://profile.line-scdn.net/0hqu2muo99LloPFAT0mSZRDTNRIDd4OigSd3FoOS0TdGggJ24POnYxbioRcmwjdmgKNiZgaykTdT8g\n",
      "None\n"
     ]
    },
    {
     "name": "stderr",
     "output_type": "stream",
     "text": [
      "172.18.0.6 - - [22/Nov/2019 04:20:53] \"POST / HTTP/1.1\" 200 -\n"
     ]
    },
    {
     "name": "stdout",
     "output_type": "stream",
     "text": [
      "邱冠樺\n",
      "U14958caf21c381e0505151aec57e3926\n",
      "https://profile.line-scdn.net/0hJpcKUO3DFV9eMjgAjwhqCGJ3GzIpHBMXJlFaPn5hGT9xUVMMZF0JaXo2Smt2C1sINwFdbnhlS2p7\n",
      "W.L.\n"
     ]
    },
    {
     "name": "stderr",
     "output_type": "stream",
     "text": [
      "172.18.0.6 - - [22/Nov/2019 04:20:57] \"POST / HTTP/1.1\" 200 -\n"
     ]
    },
    {
     "name": "stdout",
     "output_type": "stream",
     "text": [
      "陳長趯,Uea7f9d36592e745d0a4d77641c317d46\n",
      "{\"data\": \"gender,0\"}\n",
      "1574396456091,2019-11-22 04:20:56.091000\n"
     ]
    },
    {
     "name": "stderr",
     "output_type": "stream",
     "text": [
      "172.18.0.6 - - [22/Nov/2019 04:21:18] \"POST / HTTP/1.1\" 200 -\n"
     ]
    },
    {
     "name": "stdout",
     "output_type": "stream",
     "text": [
      "陳長趯,Uea7f9d36592e745d0a4d77641c317d46\n",
      "{\"data\": \"birthday\", \"params\": {\"date\": \"1990-01-01\"}}\n",
      "1574396477558,2019-11-22 04:21:17.558000\n"
     ]
    },
    {
     "name": "stderr",
     "output_type": "stream",
     "text": [
      "172.18.0.6 - - [22/Nov/2019 04:21:34] \"POST / HTTP/1.1\" 200 -\n"
     ]
    },
    {
     "name": "stdout",
     "output_type": "stream",
     "text": [
      "@2\n"
     ]
    },
    {
     "name": "stderr",
     "output_type": "stream",
     "text": [
      "172.18.0.6 - - [22/Nov/2019 04:21:39] \"POST / HTTP/1.1\" 200 -\n"
     ]
    },
    {
     "name": "stdout",
     "output_type": "stream",
     "text": [
      "盧坤悅\n",
      "U066a72942d2a6f2e2088336efa92ba46\n",
      "https://profile.line-scdn.net/0h-pCbZMYIcl9-G1_MWEYNCEJefDIJNXQXBilqOA8YKG9QKWEJQnk0OVkdfD8BfmIJFi0_OQ4eJWZS\n",
      "怕，你就輸一輩子\n"
     ]
    },
    {
     "name": "stderr",
     "output_type": "stream",
     "text": [
      "172.18.0.6 - - [22/Nov/2019 04:21:45] \"POST / HTTP/1.1\" 200 -\n"
     ]
    },
    {
     "name": "stdout",
     "output_type": "stream",
     "text": [
      "Erving\n",
      "U374824a0557f0767db8c194dae6c6002\n",
      "https://profile.line-scdn.net/0m017cc40e725181f3eb0733a2ed4e8c374abdb8647b8d\n",
      "北風狂\n"
     ]
    },
    {
     "name": "stderr",
     "output_type": "stream",
     "text": [
      "172.18.0.6 - - [22/Nov/2019 04:22:10] \"POST / HTTP/1.1\" 200 -\n"
     ]
    },
    {
     "name": "stdout",
     "output_type": "stream",
     "text": [
      "盧坤悅,U066a72942d2a6f2e2088336efa92ba46\n",
      "{\"data\": \"gender,0\"}\n",
      "1574396529207,2019-11-22 04:22:09.207000\n"
     ]
    },
    {
     "name": "stderr",
     "output_type": "stream",
     "text": [
      "172.18.0.6 - - [22/Nov/2019 04:22:13] \"POST / HTTP/1.1\" 200 -\n"
     ]
    },
    {
     "name": "stdout",
     "output_type": "stream",
     "text": [
      "Erving,U374824a0557f0767db8c194dae6c6002\n",
      "{\"data\": \"gender,0\"}\n",
      "1574396532953,2019-11-22 04:22:12.953000\n"
     ]
    },
    {
     "name": "stderr",
     "output_type": "stream",
     "text": [
      "172.18.0.6 - - [22/Nov/2019 04:24:16] \"POST / HTTP/1.1\" 200 -\n"
     ]
    },
    {
     "name": "stdout",
     "output_type": "stream",
     "text": [
      "Erving,U374824a0557f0767db8c194dae6c6002\n",
      "{\"data\": \"birthday\", \"params\": {\"date\": \"2019-11-04\"}}\n",
      "1574396655663,2019-11-22 04:24:15.663000\n"
     ]
    },
    {
     "name": "stderr",
     "output_type": "stream",
     "text": [
      "172.18.0.6 - - [22/Nov/2019 04:25:59] \"POST / HTTP/1.1\" 200 -\n"
     ]
    },
    {
     "name": "stdout",
     "output_type": "stream",
     "text": [
      "Erving,U374824a0557f0767db8c194dae6c6002\n",
      "{\"data\": \"birthday\", \"params\": {\"date\": \"2012-05-31\"}}\n",
      "1574396758360,2019-11-22 04:25:58.360000\n"
     ]
    },
    {
     "name": "stderr",
     "output_type": "stream",
     "text": [
      "172.18.0.6 - - [22/Nov/2019 04:45:12] \"POST / HTTP/1.1\" 200 -\n"
     ]
    },
    {
     "name": "stdout",
     "output_type": "stream",
     "text": [
      "@1\n"
     ]
    },
    {
     "name": "stderr",
     "output_type": "stream",
     "text": [
      "172.18.0.6 - - [22/Nov/2019 04:46:28] \"POST / HTTP/1.1\" 200 -\n"
     ]
    },
    {
     "name": "stdout",
     "output_type": "stream",
     "text": [
      "$40000$12000$2000$200\n"
     ]
    },
    {
     "name": "stderr",
     "output_type": "stream",
     "text": [
      "172.18.0.6 - - [22/Nov/2019 04:46:52] \"POST / HTTP/1.1\" 200 -\n"
     ]
    },
    {
     "name": "stdout",
     "output_type": "stream",
     "text": [
      "Erving,U374824a0557f0767db8c194dae6c6002\n",
      "{\"data\": \"partner,4\"}\n",
      "1574398010849,2019-11-22 04:46:50.849000\n"
     ]
    },
    {
     "name": "stderr",
     "output_type": "stream",
     "text": [
      "172.18.0.6 - - [22/Nov/2019 04:46:57] \"POST / HTTP/1.1\" 200 -\n"
     ]
    },
    {
     "name": "stdout",
     "output_type": "stream",
     "text": [
      "Erving,U374824a0557f0767db8c194dae6c6002\n",
      "{\"data\": \"style,0\"}\n",
      "1574398016861,2019-11-22 04:46:56.861000\n"
     ]
    },
    {
     "name": "stderr",
     "output_type": "stream",
     "text": [
      "172.18.0.6 - - [22/Nov/2019 04:47:16] \"POST / HTTP/1.1\" 200 -\n"
     ]
    },
    {
     "name": "stdout",
     "output_type": "stream",
     "text": [
      "Erving,U374824a0557f0767db8c194dae6c6002\n",
      "{\"data\": \"deptDate\", \"params\": {\"date\": \"2020-03-31\"}}\n",
      "1574398034711,2019-11-22 04:47:14.711000\n"
     ]
    },
    {
     "name": "stderr",
     "output_type": "stream",
     "text": [
      "172.18.0.6 - - [22/Nov/2019 04:47:28] \"POST / HTTP/1.1\" 200 -\n"
     ]
    },
    {
     "name": "stdout",
     "output_type": "stream",
     "text": [
      "Erving,U374824a0557f0767db8c194dae6c6002\n",
      "{\"data\": \"retDate\", \"params\": {\"date\": \"2020-04-07\"}}\n",
      "1574398047268,2019-11-22 04:47:27.268000\n"
     ]
    },
    {
     "name": "stderr",
     "output_type": "stream",
     "text": [
      "172.18.0.6 - - [22/Nov/2019 04:47:46] \"POST / HTTP/1.1\" 200 -\n"
     ]
    },
    {
     "name": "stdout",
     "output_type": "stream",
     "text": [
      "Erving,U374824a0557f0767db8c194dae6c6002\n",
      "{\"data\": \"tripStart\"}\n",
      "1574398065844,2019-11-22 04:47:45.844000\n",
      "{'age': 7, 'been2tko': 1, 'days': 7, 'budget': 40000, 'isFemale': 0, 'fbudget': 12000, 'dDate': '2020-03-31', 'rDate': '2020-04-07'}\n",
      "{'airline': 'Tigerair Taiwan', 'date_format(eta,\"%a\")': 'Tue', 'date_format(etd,\"%a\")': 'Tue', 'date_format(tuEta,\"%a\")': 'Tue', 'date_format(tuEtd,\"%a\")': 'Tue', 'price': 8067, 'time_format(eta,\"%T\")': '10:35:00', 'time_format(etd,\"%T\")': '06:35:00', 'time_format(sec_to_time(dur),\"%T\")': '03:00:00', 'time_format(sec_to_time(tuDur),\"%T\")': '03:55:00', 'time_format(tuEta,\"%T\")': '07:55:00', 'time_format(tuEtd,\"%T\")': '05:00:00'}\n",
      "bk by tue\n",
      "{'age': 7, 'been2tko': 1, 'howlong': 7, 'budget': 40000, 'isFemale': 0, 'with_child': 0, 'crampedSechedule': False}\n",
      "['[{\"index\":2,\"name\":\"淺草 Asakusa\",\"rank\":\"排名第 1的台東區觀光 (共560家)\",\"address\":\"東京都台東區\",\"child\":0.0087715012,\"latitude\":35.7125736,\"longitude\":139.7802043,\"score\":241,\"chosen\":true},{\"index\":48,\"name\":\"雷門 Nakamise Shopping Street (Kaminarimon)\",\"rank\":\"排名第 18的台東區觀光 (共560家)\",\"address\":\"東京都台東區淺草1丁目3\",\"child\":0.0048539208,\"latitude\":35.7110859,\"longitude\":139.7959648,\"score\":114,\"chosen\":true},{\"index\":35,\"name\":\"淺草文化觀光中心 Asakusa Culture Tourist Information Center\",\"rank\":\"排名第 3的台東區觀光 (共560家)\",\"address\":\"東京都台東區2-18-9 Kaminarimon111-0034\",\"child\":0.0040560983,\"latitude\":35.7106489,\"longitude\":139.7965348,\"score\":106,\"chosen\":true}]', '[{\"index\":264,\"name\":\"東京迪士尼樂園 Tokyo Disneyland\",\"rank\":\"排名第 2的Maihama觀光 (共5家)\",\"address\":\"千葉縣浦安Maihama1-1279-8511\",\"child\":1.0,\"latitude\":35.632906,\"longitude\":139.880391,\"score\":94,\"chosen\":true}]', '[{\"index\":173,\"name\":\"出光美術館 Idemitsu Museum\",\"rank\":\"排名第 1的Marunouchi觀光 (共7家)\",\"address\":\"東京都千代田區Marunouchi3-1-1 Marunouchi9F Teigeki Building100-0005\",\"child\":0.0,\"latitude\":35.6767601,\"longitude\":139.7611088,\"score\":70,\"chosen\":true},{\"index\":107,\"name\":\"陽光國際水族館 Sunshine Aquarium\",\"rank\":\"排名第 7的豊島區觀光 (共179家)\",\"address\":\"東京都豊島區3-1-3 HigashiikebukuroWorld Import Mart Bldg. Rooftop170-0013\",\"child\":0.5248449333,\"latitude\":35.7330243,\"longitude\":139.6966416,\"score\":114,\"chosen\":true},{\"index\":129,\"name\":\"陽光城60展望台 Sky Circus Sunshine60 Observatory\",\"rank\":\"排名第 4的豊島區觀光 (共179家)\",\"address\":\"東京都豊島區東池袋3-1-1Sunshine City Sunshine 60170-8630\",\"child\":0.1832037516,\"latitude\":35.72898,\"longitude\":139.719791,\"score\":114,\"chosen\":true}]', '[{\"index\":59,\"name\":\"惠比壽啤酒紀念館 Museum of Yebisu Beer\",\"rank\":\"排名第 12的澀谷區觀光 (共279家)\",\"address\":\"東京都澀谷區惠比壽4-20-1\",\"child\":0.0,\"latitude\":35.643115,\"longitude\":139.7145631,\"score\":70,\"chosen\":true},{\"index\":113,\"name\":\"築地本願寺 Tsukiji Honganji Temple\",\"rank\":\"排名第 14的中央區觀光 (共577家)\",\"address\":\"東京都中央區築地3-15-1104-0045\",\"child\":0.0040449578,\"latitude\":35.6667982,\"longitude\":139.7719172,\"score\":114,\"chosen\":true},{\"index\":196,\"name\":\"日本損保東鄉青兒美術館 Seiji Togo Memorial Sompo Japan Nipponkoa Museum of Art\",\"rank\":\"排名第 3的Nishishinjuku觀光 (共18家)\",\"address\":\"東京都新宿區Nishishinjuku1-26-1Sompo Japan Nipponkoa Head Office Bldg. 42F160-8338\",\"child\":0.0,\"latitude\":35.6924495,\"longitude\":139.6958457,\"score\":70,\"chosen\":true}]', '[{\"index\":205,\"name\":\"靖國神社御靈祭 Mitama Matsuri\",\"rank\":\"排名第 57的千代田區觀光 (共446家)\",\"address\":\"東京都千代田區3-1-1 Kudan Kita102-8246\",\"child\":0.0,\"latitude\":35.694136,\"longitude\":139.743849,\"score\":70,\"chosen\":true},{\"index\":179,\"name\":\"東鄉神社 Togo Shrine\",\"rank\":\"排名第 18的澀谷區觀光 (共279家)\",\"address\":\"東京都澀谷區神宮前1-5-3150-0001\",\"child\":0.0178339272,\"latitude\":35.6713961,\"longitude\":139.7061356,\"score\":114,\"chosen\":true},{\"index\":56,\"name\":\"清澄庭園 Kiyosumi Teien\",\"rank\":\"排名第 4的江東區觀光 (共343家)\",\"address\":\"東京都江東區清澄3-3-9135-0024\",\"child\":0.0,\"latitude\":35.6797501,\"longitude\":139.7978028,\"score\":114,\"chosen\":true}]', '[{\"index\":134,\"name\":\"太田現代美術博物館 Ota Memorial Museum of Art\",\"rank\":\"排名第 5的澀谷區觀光 (共279家)\",\"address\":\"東京都澀谷區惠比壽西2-8-1150-0001\",\"child\":0.0702455514,\"latitude\":35.6432025,\"longitude\":139.7145181,\"score\":70,\"chosen\":true},{\"index\":14,\"name\":\"森大廈 六本木之丘展望台 Tokyo City View Observation Deck (Roppongihills)\",\"rank\":\"排名第 1的Roppongi觀光 (共17家)\",\"address\":\"東京都港區Roppongi六本木6-10-1 六本木Hills森塔5106-6182\",\"child\":0.0145483456,\"latitude\":35.6603919,\"longitude\":139.7292542,\"score\":168,\"chosen\":true},{\"index\":98,\"name\":\"NHK放送主題公園 NHK Studio Park\",\"rank\":\"排名第 15的澀谷區觀光 (共279家)\",\"address\":\"東京都澀谷區神南2-2-1150-8001\",\"child\":0.7453327629,\"latitude\":35.6656706,\"longitude\":139.696881,\"score\":114,\"chosen\":true}]', '[{\"index\":42,\"name\":\"東京海賊王塔 TOKYO ONE PIECE TOWER\",\"rank\":\"排名第 16的港區觀光 (共626家)\",\"address\":\"東京都港區4-2-8 ShibakoenTokyo Tower Foot Town105-0011\",\"child\":0.2333411224,\"latitude\":35.658595,\"longitude\":139.745442,\"score\":70,\"chosen\":true},{\"index\":16,\"name\":\"東京車站 Tokyo Central Railway Station\",\"rank\":\"排名第 3的千代田區觀光 (共446家)\",\"address\":\"東京都千代田區丸之內1-9-1100-0005\",\"child\":0.0175098739,\"latitude\":35.6809712,\"longitude\":139.7659268,\"score\":114,\"chosen\":true},{\"index\":11,\"name\":\"濱離宮恩賜庭園 Hama Rikyu Gardens\",\"rank\":\"排名第 2的中央區觀光 (共577家)\",\"address\":\"東京都中央區濱離宮庭園1-1104-0046\",\"child\":0.0095749723,\"latitude\":35.6597374,\"longitude\":139.7634925,\"score\":114,\"chosen\":true}]']\n",
      "{'age': 7, 'been2tko': 1, 'days': 7, 'budget': 40000, 'isFemale': 0, 'hotel budget': 2000}\n",
      "{'CP': 2.643948296, 'pre': 2.0, '交通1': '北千住站 - 走路 3 分鐘', '交通2': '五反野站 - 走路 10 分鐘', '交通3': '東京, 日本 (HND-羽田機場) - 車程 34 分鐘', '交通便利性': '3', '價格': 1702.0, '地址': 'Umeda 2-8-5, Adachi-ku, 東京', '廚房': 0.0, '星等': 3.0, '經度': 139.803099, '網址': 'https://www.expedia.com.tw/Tokyo-Hotels-RYOKAN-DAY-SHIZUKU.h18340218.Hotel-Information?chkin=2019%2F10%2F4&chkout=2019%2F10%2F5&regionId=179900&destination=%E6%9D%B1%E4%BA%AC+%28%E5%8F%8A%E9%84%B0%E8%BF%91%E5%9C%B0%E5%8D%80%29%2C+%E6%97%A5%E6%9C%AC&swpToggleOn=true&rm1=a1&x_pwa=1&sort=recommended&top_dp=1702&top_cur=TWD&rfrr=HSR&pwa_ts=1570019670967', '緯度': 35.767463, '評價': 4.5, '鄰近景點1': '國立科學博物館 - 開車 6 分鐘', '鄰近景點2': '東京國立博物館 - 開車 6 分鐘', '鄰近景點3': '淺草神社 - 開車 6 分鐘', '鄰近景點4': '淺草寺雷門 - 開車 6 分鐘', '鄰近景點5': '東京晴空塔 - 開車 7 分鐘', '飯店名稱': '水滴日子日式旅館'}\n",
      "{'age': 7, 'been2tko': 1, 'days': 7, 'totalBudget': 40000, 'gender': 0, 'oneBudget': 200}\n",
      "[{'age': 42, 'cp_rating_dinner': 3.95, 'cp_rating_lunch': 4.02, 'feeling_rating_dinner': 3.96, 'feeling_rating_lunch': 3.2, 'female_prop': 24.0, 'label_code': 1, 'label_desc': '平消族', 'lat': 35.6827017, 'lng': 139.7837998, 'male_prop': 76.0, 'meal_duration': 1.0, 'prices_dinner': 4961, 'prices_lunch': 2551, 'rest_addr': '東京都中央區日本橋蠣殼町1-30-2', 'rest_area': '人形町・小傳馬町', 'rest_catg': '壽司', 'rest_rating': 3.99, 'service_rating_dinner': 3.77, 'service_rating_lunch': 3.56, 'store_nm_en': 'Takagakinosushi', 'store_nm_jp': '高柿の鮨', 'transport': '距离水天宮前 135  米'}, {'age': 41, 'cp_rating_dinner': 3.94, 'cp_rating_lunch': 4.81, 'feeling_rating_dinner': 3.92, 'feeling_rating_lunch': 5.0, 'female_prop': 23.81, 'label_code': 1, 'label_desc': '平消族', 'lat': 35.6554989, 'lng': 139.6926724, 'male_prop': 76.19, 'meal_duration': 1.0, 'prices_dinner': 7087, 'prices_lunch': 425, 'rest_addr': '東京都澀穀區神泉町10-12', 'rest_area': '澀谷', 'rest_catg': '壽司', 'rest_rating': 3.83, 'service_rating_dinner': 3.98, 'service_rating_lunch': 5.0, 'store_nm_en': 'Kozasa', 'store_nm_jp': '小笹', 'transport': '京王井の頭線【神泉駅】徒歩４分\\n東京メトロ半蔵門線、東急田園都市線【渋谷駅】徒歩11分\\nＪＲ山手線【渋谷駅】ハチ公口\\u3000徒歩13分\\n\\n\\n距离神泉 215  米'}, {'age': 33, 'cp_rating_dinner': 4.11, 'cp_rating_lunch': 4.75, 'feeling_rating_dinner': 3.91, 'feeling_rating_lunch': 4.73, 'female_prop': 24.05, 'label_code': 0, 'label_desc': '高消族', 'lat': 35.6270047, 'lng': 139.7085856, 'male_prop': 75.95, 'meal_duration': 1.0, 'prices_dinner': 7087, 'prices_lunch': 2551, 'rest_addr': '東京都目黑區下目黑3-16-2', 'rest_area': '不動前・武藏小山・西小山', 'rest_catg': '壽司', 'rest_rating': 4.02, 'service_rating_dinner': 4.02, 'service_rating_lunch': 4.41, 'store_nm_en': 'Rammaru', 'store_nm_jp': 'らんまる', 'transport': '不動前駅から448m\\n\\n\\n距离不動前 448  米'}, {'age': 39, 'cp_rating_dinner': 3.96, 'cp_rating_lunch': 4.0, 'feeling_rating_dinner': 3.35, 'feeling_rating_lunch': 3.27, 'female_prop': 23.48, 'label_code': 1, 'label_desc': '平消族', 'lat': 35.6854123, 'lng': 139.7753649, 'male_prop': 76.52, 'meal_duration': 1.5, 'prices_dinner': 142, 'prices_lunch': 142, 'rest_addr': '東京都中央區日本橋室町1-11-15', 'rest_area': '日本橋・京橋', 'rest_catg': '炸蝦丼飯・炸蝦便當/便當/星鰻', 'rest_rating': 3.77, 'service_rating_dinner': 3.39, 'service_rating_lunch': 3.28, 'store_nm_en': 'nihombashitendonkanekohannosuke', 'store_nm_jp': '日本橋 天丼 金子半之助 本店', 'transport': '東京メトロ半蔵門線・銀座線「三越前」駅(A1出口)から徒歩1分\\n東京メトロ東西線「日本橋」駅から徒歩4分\\nJR総武本線「新日本橋」駅から徒歩5分\\n\\n\\n距离三越前 157  米'}, {'age': 37, 'cp_rating_dinner': 3.9, 'cp_rating_lunch': 3.77, 'feeling_rating_dinner': 3.57, 'feeling_rating_lunch': 3.9, 'female_prop': 23.73, 'label_code': 1, 'label_desc': '平消族', 'lat': 35.7076769, 'lng': 139.7598878, 'male_prop': 76.27, 'meal_duration': 1.0, 'prices_dinner': 3543, 'prices_lunch': 425, 'rest_addr': '東京都文京區本鄉4-2-4', 'rest_area': '本鄉・東大周邊', 'rest_catg': '天婦羅/和式餐馆 / 小菜', 'rest_rating': 3.95, 'service_rating_dinner': 3.75, 'service_rating_lunch': 3.89, 'store_nm_en': 'Edomaeshinsaku', 'store_nm_jp': '江戸前晋作', 'transport': '大江戸線\\u3000本郷三丁目駅\\u30003番出口から徒歩１分\\n丸ノ内線\\u3000本郷三丁目駅\\u3000から徒歩４分\\n都営三田線\\u3000春日駅から徒歩10分\\n\\n\\n距离本鄉三丁目 45  米'}, {'age': 43, 'cp_rating_dinner': 3.25, 'cp_rating_lunch': 3.17, 'feeling_rating_dinner': 4.1, 'feeling_rating_lunch': 4.23, 'female_prop': 22.36, 'label_code': 1, 'label_desc': '平消族', 'lat': 35.696381, 'lng': 139.768758, 'male_prop': 77.64, 'meal_duration': 1.0, 'prices_dinner': 2551, 'prices_lunch': 2551, 'rest_addr': '東京都韆代田區神田須田町1-15', 'rest_area': '神田・御茶之水', 'rest_catg': '壽喜燒/雞肉料理', 'rest_rating': 3.76, 'service_rating_dinner': 3.48, 'service_rating_lunch': 3.42, 'store_nm_en': 'Botan', 'store_nm_jp': 'ぼたん', 'transport': '東京メトロ丸ノ内線 淡路町駅 A3番出口 徒歩2分\\n都営新宿線 小川町駅 A3番出口 徒歩2分\\n東京メトロ銀座線 神田駅 6番出口 徒歩5分\\nＪＲ 神田駅 東口 徒歩7分\\nＪＲ 秋葉原駅 電気街口 徒歩7分\\nＪＲ 御茶ノ水駅 聖橋口 徒歩7分\\n\\n\\n距离淡路町 197  米'}, {'age': 37, 'cp_rating_dinner': 3.67, 'cp_rating_lunch': 3.69, 'feeling_rating_dinner': 3.23, 'feeling_rating_lunch': 3.2, 'female_prop': 24.31, 'label_code': 1, 'label_desc': '平消族', 'lat': 35.6640047, 'lng': 139.6785079, 'male_prop': 75.69, 'meal_duration': 1.0, 'prices_dinner': 142, 'prices_lunch': 142, 'rest_addr': '東京都目黑區駒場4-6-8', 'rest_area': '代代木上原・東北澤', 'rest_catg': '拉麵', 'rest_rating': 3.76, 'service_rating_dinner': 3.45, 'service_rating_lunch': 3.58, 'store_nm_en': 'Senrigan', 'store_nm_jp': '千里眼', 'transport': '・小田急線小田原線「東北沢」駅(東口)より、徒歩８分\\n・京王井の頭線「駒場東大前」駅または「池ノ上」駅より、徒歩10分\\n\\u3000東急バス[渋55]バス停は駒場ﾘｻｰﾁｷｬﾝﾊﾟｽと代々木上原の中間辺り\\n\\n\\n距离東北澤 516  米'}, {'age': 37, 'cp_rating_dinner': 3.49, 'cp_rating_lunch': 3.71, 'feeling_rating_dinner': 3.65, 'feeling_rating_lunch': 3.72, 'female_prop': 23.9, 'label_code': 1, 'label_desc': '平消族', 'lat': 35.6907506, 'lng': 139.7037512, 'male_prop': 76.1, 'meal_duration': 1.0, 'prices_dinner': 142, 'prices_lunch': 142, 'rest_addr': '東京都新宿區新宿3-31-5', 'rest_area': '新宿', 'rest_catg': '拉麵/沾麵/乾擔擔麵', 'rest_rating': 3.84, 'service_rating_dinner': 3.65, 'service_rating_lunch': 3.73, 'store_nm_en': 'Ramenhayashida', 'store_nm_jp': 'らぁ麺 はやし田 新宿本店', 'transport': 'JR山手線「新宿」駅、東京メトロ副都心線・都営新宿線「新宿三丁目」駅にて下車。\\nマルイ本店のすぐ裏の狭い路地に面している。雑居ビルの間にあるので、間違えて行き過ぎないように。\\n\\n\\n距离新宿三丁目 63  米'}, {'age': 41, 'cp_rating_dinner': 3.3, 'cp_rating_lunch': 3.32, 'feeling_rating_dinner': 3.22, 'feeling_rating_lunch': 3.41, 'female_prop': 24.21, 'label_code': 1, 'label_desc': '平消族', 'lat': 35.7766473, 'lng': 139.6317337, 'male_prop': 75.79, 'meal_duration': 1.0, 'prices_dinner': 425, 'prices_lunch': 425, 'rest_addr': '東京都闆橋區成增2-17-2', 'rest_area': '赤塚・成增', 'rest_catg': '拉麵/沾麵', 'rest_rating': 3.76, 'service_rating_dinner': 3.2, 'service_rating_lunch': 3.26, 'store_nm_en': 'chuukamentokorodoutombori', 'store_nm_jp': '中華めん処 道頓堀', 'transport': '東京メトロ有楽町線・副都心線【地下鉄成増駅】徒歩２分\\n東武東上線【成増駅】徒歩４分（南口）\\n\\n\\n距离地鐵成增 60  米'}, {'age': 37, 'cp_rating_dinner': 3.89, 'cp_rating_lunch': 4.56, 'feeling_rating_dinner': 3.97, 'feeling_rating_lunch': 4.94, 'female_prop': 24.16, 'label_code': 0, 'label_desc': '高消族', 'lat': 35.6871991, 'lng': 139.7785687, 'male_prop': 75.84, 'meal_duration': 1.0, 'prices_dinner': 4961, 'prices_lunch': 425, 'rest_addr': '東京都中央區日本橋小舟町11-11', 'rest_area': '人形町・小傳馬町', 'rest_catg': '牛肉料理/燒肉/炭燒', 'rest_rating': 4.25, 'service_rating_dinner': 3.99, 'service_rating_lunch': 4.87, 'store_nm_en': 'Oniku Karyu', 'store_nm_jp': 'おにく 花柳', 'transport': '距离人形町 371  米'}, {'age': 41, 'cp_rating_dinner': 3.2, 'cp_rating_lunch': 3.2, 'feeling_rating_dinner': 3.61, 'feeling_rating_lunch': 3.57, 'female_prop': 23.81, 'label_code': 1, 'label_desc': '平消族', 'lat': 35.7079336, 'lng': 139.7723083, 'male_prop': 76.19, 'meal_duration': 2.0, 'prices_dinner': 1276, 'prices_lunch': 709, 'rest_addr': '東京都文京區湯島3-40-7', 'rest_area': '上野・御徒町・湯島', 'rest_catg': '西式料理/牛肉飯/漢堡', 'rest_rating': 3.77, 'service_rating_dinner': 3.51, 'service_rating_lunch': 3.44, 'store_nm_en': 'Gensenyoushokusakurai', 'store_nm_jp': '厳選洋食さくらい', 'transport': '東京メトロ銀座線上野広小路駅より徒歩1分 \\n山手線御徒町駅より徒歩3分\\n\\n\\n距离上野廣小路 73  米'}, {'age': 38, 'cp_rating_dinner': 3.55, 'cp_rating_lunch': 3.56, 'feeling_rating_dinner': 3.31, 'feeling_rating_lunch': 3.32, 'female_prop': 28.51, 'label_code': 2, 'label_desc': '低消族', 'lat': 35.6971475, 'lng': 139.7761727, 'male_prop': 71.49, 'meal_duration': 1.0, 'prices_dinner': 425, 'prices_lunch': 425, 'rest_addr': '東京都韆代田區神田佐久間河岸50', 'rest_area': '秋葉原', 'rest_catg': '印度料理/印度咖哩', 'rest_rating': 3.75, 'service_rating_dinner': 3.33, 'service_rating_lunch': 3.46, 'store_nm_en': 'Indhianresutoranaruthi', 'store_nm_jp': 'インディアンレストラン\\u3000アールティ', 'transport': '東京メトロ 日比谷線「秋葉原駅」4出口より、徒歩1分\\n都営地下鉄 新宿線「岩本町駅」A4出口より、徒歩2分\\nJR総武線・山手線・京浜東北線「秋葉原駅」昭和通り口より、徒歩3分\\n首都圏新都市鉄道 つくばエクスプレス「秋葉原駅」A1出口より、徒歩3分\\n\\n\\n距离岩本町 205  米'}, {'age': 43, 'cp_rating_dinner': 3.39, 'cp_rating_lunch': 3.48, 'feeling_rating_dinner': 3.79, 'feeling_rating_lunch': 3.93, 'female_prop': 23.55, 'label_code': 1, 'label_desc': '平消族', 'lat': 35.6961583, 'lng': 139.7688606, 'male_prop': 76.45, 'meal_duration': 1.0, 'prices_dinner': 425, 'prices_lunch': 425, 'rest_addr': '東京都韆代田區神田須田町1-13', 'rest_area': '神田・御茶之水', 'rest_catg': '蕎麥麵', 'rest_rating': 3.79, 'service_rating_dinner': 3.45, 'service_rating_lunch': 3.64, 'store_nm_en': 'Kandamatsuya', 'store_nm_jp': '神田まつや', 'transport': '東京メトロ丸ノ内線【淡路町駅】徒歩２分\\n都営地下鉄新宿線【小川町駅】徒歩３分\\n東京メトロ銀座線【神田駅】徒歩４分\\nＪＲ中央線【神田駅】徒歩７分\\n\\n\\n距离淡路町 158  米'}, {'age': 43, 'cp_rating_dinner': 3.24, 'cp_rating_lunch': 3.35, 'feeling_rating_dinner': 3.67, 'feeling_rating_lunch': 3.82, 'female_prop': 23.28, 'label_code': 1, 'label_desc': '平消族', 'lat': 35.6812097, 'lng': 139.7747558, 'male_prop': 76.72, 'meal_duration': 1.0, 'prices_dinner': 1984, 'prices_lunch': 425, 'rest_addr': '東京都中央區日本橋2-9-9', 'rest_area': '日本橋・京橋', 'rest_catg': '魚類料理・海鮮料理/星鰻/天婦羅', 'rest_rating': 3.77, 'service_rating_dinner': 3.39, 'service_rating_lunch': 3.56, 'store_nm_en': 'Tamai', 'store_nm_jp': '玉ゐ 本店', 'transport': 'ＪＲ東京駅八重洲口から高島屋デパート方面へ徒歩8分。東京メトロ銀座線・東西線、都営浅草線日本橋駅から徒歩3分。\\n\\n\\n距离日本橋 106  米'}]\n"
     ]
    },
    {
     "name": "stdout",
     "output_type": "stream",
     "text": [
      "=====================\n",
      " 第1天行程：\n",
      "淺草 Asakusa約7.2 公里，景點間通勤約需19 分鐘。\n",
      "---------------\n",
      "雷門 Nakamise Shopping Street (Kaminarimon)約1.8 公里，景點間通勤約需7 分鐘。\n",
      "---------------\n",
      "淺草文化觀光中心 Asakusa Culture Tourist Information Center約61 公尺，景點間通勤約需1 分鐘。\n",
      "---------------\n",
      "\n",
      "地圖連結：https://45a28610.ngrok.io/images/day1-U374824a0557f0767db8c194dae6c6002-1574398065843map.html\n",
      "===============\n",
      "第2天行程：\n",
      "東京迪士尼樂園 Tokyo Disneyland約20.5 公里，景點間通勤約需26 分鐘。\n",
      "---------------\n",
      "\n",
      "地圖連結：https://45a28610.ngrok.io/images/day2-U374824a0557f0767db8c194dae6c6002-1574398065843map.html\n",
      "===============\n",
      "第3天行程：\n",
      "出光美術館 Idemitsu Museum約16.1 公里，景點間通勤約需22 分鐘。\n",
      "---------------\n",
      "陽光城60展望台 Sky Circus Sunshine60 Observatory約9.1 公里，景點間通勤約需13 分鐘。\n",
      "---------------\n",
      "陽光國際水族館 Sunshine Aquarium約3.9 公里，景點間通勤約需12 分鐘。\n",
      "---------------\n",
      "\n",
      "地圖連結：https://45a28610.ngrok.io/images/day3-U374824a0557f0767db8c194dae6c6002-1574398065843map.html\n",
      "===============\n",
      "第4天行程：\n",
      "築地本願寺 Tsukiji Honganji Temple約15.6 公里，景點間通勤約需20 分鐘。\n",
      "---------------\n",
      "惠比壽啤酒紀念館 Museum of Yebisu Beer約8.4 公里，景點間通勤約需16 分鐘。\n",
      "---------------\n",
      "日本損保東鄉青兒美術館 Seiji Togo Memorial Sompo Japan Nipponkoa Museum of Art約9.3 公里，景點間通勤約需22 分鐘。\n",
      "---------------\n",
      "\n",
      "地圖連結：https://45a28610.ngrok.io/images/day4-U374824a0557f0767db8c194dae6c6002-1574398065843map.html\n",
      "===============\n",
      "第5天行程：\n",
      "靖國神社御靈祭 Mitama Matsuri約17.5 公里，景點間通勤約需24 分鐘。\n",
      "---------------\n",
      "東鄉神社 Togo Shrine約5.6 公里，景點間通勤約需17 分鐘。\n",
      "---------------\n",
      "清澄庭園 Kiyosumi Teien約11.3 公里，景點間通勤約需21 分鐘。\n",
      "---------------\n",
      "\n",
      "地圖連結：https://45a28610.ngrok.io/images/day5-U374824a0557f0767db8c194dae6c6002-1574398065843map.html\n",
      "===============\n",
      "第6天行程：\n",
      "NHK放送主題公園 NHK Studio Park約22.3 公里，景點間通勤約需30 分鐘。\n",
      "---------------\n",
      "太田現代美術博物館 Ota Memorial Museum of Art約3.4 公里，景點間通勤約需14 分鐘。\n",
      "---------------\n",
      "森大廈 六本木之丘展望台 Tokyo City View Observation Deck (Roppongihills)約3.3 公里，景點間通勤約需11 分鐘。\n",
      "---------------\n",
      "\n",
      "地圖連結：https://45a28610.ngrok.io/images/day6-U374824a0557f0767db8c194dae6c6002-1574398065843map.html\n",
      "===============\n",
      "第7天行程：\n",
      "東京車站 Tokyo Central Railway Station約15.2 公里，景點間通勤約需23 分鐘。\n",
      "---------------\n",
      "濱離宮恩賜庭園 Hama Rikyu Gardens約3.1 公里，景點間通勤約需10 分鐘。\n",
      "---------------\n",
      "東京海賊王塔 TOKYO ONE PIECE TOWER約2.6 公里，景點間通勤約需10 分鐘。\n",
      "---------------\n",
      "\n",
      "地圖連結：https://45a28610.ngrok.io/images/day7-U374824a0557f0767db8c194dae6c6002-1574398065843map.html\n",
      "===============\n",
      " \n",
      "=======================\n"
     ]
    },
    {
     "name": "stderr",
     "output_type": "stream",
     "text": [
      "172.18.0.6 - - [22/Nov/2019 04:47:54] \"POST / HTTP/1.1\" 200 -\n"
     ]
    },
    {
     "name": "stdout",
     "output_type": "stream",
     "text": [
      "type ==> <class 'linebot.exceptions.LineBotApiError'>\n",
      "value ==> LineBotApiError: status_code=400, error_response={\"details\": [{\"message\": \"Length must be between 0 and 2000\", \"property\": \"messages[1].text\"}], \"message\": \"The request body has 1 error(s)\"}\n",
      "traceback ==> file name: <ipython-input-25-a23c8ff16dbb>\n",
      "traceback ==> line no: 156\n",
      "traceback ==> function name: handle_message\n",
      "::tripStart:\n"
     ]
    },
    {
     "name": "stderr",
     "output_type": "stream",
     "text": [
      "172.18.0.6 - - [22/Nov/2019 04:48:18] \"POST / HTTP/1.1\" 200 -\n"
     ]
    },
    {
     "name": "stdout",
     "output_type": "stream",
     "text": [
      "Erving,U374824a0557f0767db8c194dae6c6002\n",
      "{\"data\": \"faq\"}\n",
      "1574398097307,2019-11-22 04:48:17.307000\n"
     ]
    },
    {
     "name": "stderr",
     "output_type": "stream",
     "text": [
      "172.18.0.6 - - [22/Nov/2019 04:48:19] \"POST / HTTP/1.1\" 200 -\n"
     ]
    },
    {
     "name": "stdout",
     "output_type": "stream",
     "text": [
      "::FAQ:\n"
     ]
    },
    {
     "name": "stderr",
     "output_type": "stream",
     "text": [
      "172.18.0.6 - - [22/Nov/2019 04:48:27] \"POST / HTTP/1.1\" 200 -\n"
     ]
    },
    {
     "name": "stdout",
     "output_type": "stream",
     "text": [
      "Erving,U374824a0557f0767db8c194dae6c6002\n",
      "{\"data\": \"manual\"}\n",
      "1574398106408,2019-11-22 04:48:26.408000\n",
      "{'age': 7, 'been2tko': 1, 'days': 7, 'budget': 40000, 'isFemale': 0, 'fbudget': 12000, 'dDate': '2020-03-31', 'rDate': '2020-04-07'}\n",
      "{'airline': 'Tigerair Taiwan', 'date_format(eta,\"%a\")': 'Tue', 'date_format(etd,\"%a\")': 'Tue', 'date_format(tuEta,\"%a\")': 'Tue', 'date_format(tuEtd,\"%a\")': 'Tue', 'price': 8067, 'time_format(eta,\"%T\")': '10:35:00', 'time_format(etd,\"%T\")': '06:35:00', 'time_format(sec_to_time(dur),\"%T\")': '03:00:00', 'time_format(sec_to_time(tuDur),\"%T\")': '03:55:00', 'time_format(tuEta,\"%T\")': '07:55:00', 'time_format(tuEtd,\"%T\")': '05:00:00'}\n",
      "bk by tue\n",
      "{'age': 7, 'been2tko': 1, 'howlong': 7, 'budget': 40000, 'isFemale': 0, 'with_child': 0, 'crampedSechedule': False}\n",
      "['[{\"index\":265,\"name\":\"東京迪士尼海洋樂園 Tokyo DisneySea\",\"rank\":\"排名第 1的Maihama觀光 (共5家)\",\"address\":\"千葉縣浦安Maihama1-13279-0031\",\"child\":0.75,\"latitude\":35.62675,\"longitude\":139.885095,\"score\":94,\"chosen\":true}]', '[{\"index\":116,\"name\":\"東京21_21Design sight美術館 21 21 DESIGN SIGHT\",\"rank\":\"排名第 1的Akasaka觀光 (共18家)\",\"address\":\"東京都港區Akasaka9-7-6 Akasaka107-0052\",\"child\":0.0558359888,\"latitude\":35.6675108,\"longitude\":139.7305263,\"score\":70,\"chosen\":true},{\"index\":60,\"name\":\"東京大學 University of Tokyo\",\"rank\":\"排名第 6的文京區觀光 (共297家)\",\"address\":\"東京都文京區本鄉7-3-1113-0033\",\"child\":0.0666811092,\"latitude\":35.7115154,\"longitude\":139.7639301,\"score\":114,\"chosen\":true},{\"index\":199,\"name\":\"日本國立國會圖書館 National Diet Library\",\"rank\":\"排名第 35的千代田區觀光 (共446家)\",\"address\":\"東京都千代田區1-10-1, Nagatacho100-8924\",\"child\":0.0,\"latitude\":35.6784667,\"longitude\":139.7442197,\"score\":70,\"chosen\":true}]', '[{\"index\":225,\"name\":\"東京馬拉松 Tokyo Marathon\",\"rank\":\"排名第 12的新宿區觀光 (共419家)\",\"address\":\"東京都新宿區2-8-1 NishishinjukuTokyo Metropolitan Government Building163-8001\",\"child\":0.0542821379,\"latitude\":35.6898531,\"longitude\":139.6917321,\"score\":70,\"chosen\":true},{\"index\":137,\"name\":\"護國寺 Gokokuji Temple\",\"rank\":\"排名第 10的文京區觀光 (共297家)\",\"address\":\"東京都文京區5-40-1 Otsuka112-0012\",\"child\":0.0,\"latitude\":35.7212429,\"longitude\":139.7271378,\"score\":114,\"chosen\":true},{\"index\":136,\"name\":\"原美術館 Hara Museum of Contemporary Art (Hara Bijutsukan)\",\"rank\":\"排名第 6的品川區觀光 (共211家)\",\"address\":\"東京都品川區北品川4-7-25140-0001\",\"child\":0.0,\"latitude\":35.6218719,\"longitude\":139.7364627,\"score\":70,\"chosen\":true}]', '[{\"index\":88,\"name\":\"東京國立博物館 平成館 Tokyo National Museum The Heiseikan\",\"rank\":\"排名第 1的Uenokoen觀光 (共10家)\",\"address\":\"東京都台東區Uenokoen13-9 UenokoenInside Tokyo National Museum110-8712\",\"child\":0.0780507337,\"latitude\":35.7188351,\"longitude\":139.7765215,\"score\":70,\"chosen\":true},{\"index\":54,\"name\":\"東京都美術館 Tokyo Metropolitan Art Museum\",\"rank\":\"排名第 16的台東區觀光 (共560家)\",\"address\":\"東京都台東區8-36 Uenokoen110-0007\",\"child\":0.0205605849,\"latitude\":35.7125736,\"longitude\":139.7802043,\"score\":70,\"chosen\":true},{\"index\":106,\"name\":\"上野東照宮 Toshogu Shrine\",\"rank\":\"排名第 17的台東區觀光 (共560家)\",\"address\":\"東京都台東區上野公園9-88\",\"child\":0.0,\"latitude\":35.7153714,\"longitude\":139.7706346,\"score\":183,\"chosen\":true}]', '[{\"index\":91,\"name\":\"地鐵博物館 Subway Museum\",\"rank\":\"排名第 3的江戶川區觀光 (共191家)\",\"address\":\"東京都江戶川區東葛西6-3-1134-0084\",\"child\":0.2354396254,\"latitude\":35.6635434,\"longitude\":139.8741668,\"score\":70,\"chosen\":true},{\"index\":220,\"name\":\" Yamamototei\",\"rank\":\"排名第 6的葛飾區觀光 (共139家)\",\"address\":\"東京都葛飾區7-19-32 Shibamata125-0052\",\"child\":0.0,\"latitude\":35.758035,\"longitude\":139.880048,\"score\":114,\"chosen\":true},{\"index\":217,\"name\":\"新宿十二社 熊野神社 Kumano Shrine\",\"rank\":\"排名第 16的新宿區觀光 (共419家)\",\"address\":\"東京都新宿區2-11-2 Nishi-Shinjuku160-0023\",\"child\":0.0,\"latitude\":35.6904857,\"longitude\":139.6881981,\"score\":114,\"chosen\":true}]', '[{\"index\":192,\"name\":\"隅田川花火大會 Sumida River Fireworks\",\"rank\":\"排名第 12的墨田區觀光 (共264家)\",\"address\":\"東京都墨田區\",\"child\":0.0,\"latitude\":35.7107479,\"longitude\":139.8016393,\"score\":70,\"chosen\":true},{\"index\":260,\"name\":\"板橋花火節 Itabashi Fireworks\",\"rank\":\"排名第 1的板橋區觀光 (共81家)\",\"address\":\"東京都板橋區4 Funado174-0041\",\"child\":0.0,\"latitude\":35.7512308,\"longitude\":139.7185838,\"score\":70,\"chosen\":true},{\"index\":193,\"name\":\"大江戶古董市場 - 東京國際論壇 Oedo Antique Market - Tokyo International Forum\",\"rank\":\"排名第 55的千代田區觀光 (共446家)\",\"address\":\"東京都千代田區3-5-1 MarunouchiTokyo International Forum100-0005\",\"child\":0.0199828611,\"latitude\":35.6767429,\"longitude\":139.7637532,\"score\":84,\"chosen\":true}]']\n",
      "{'age': 7, 'been2tko': 1, 'days': 7, 'budget': 40000, 'isFemale': 0, 'hotel budget': 2000}\n",
      "{'CP': 5.667506297, 'pre': 2.0, '交通1': '八丁堀站 - 走路 3 分鐘', '交通2': '清澄白河站 - 走路 9 分鐘', '交通3': '東京, 日本 (NRT-成田國際機場) - 車程 45 分鐘', '交通便利性': '3', '價格': 794.0, '地址': '1-1-7 Kiyosumi, Koto Ward, 東京', '廚房': 0.0, '星等': 3.0, '經度': 139.792053, '網址': 'https://www.expedia.com.tw/Tokyo-Hotels-THE-SHARE-HOTELS-LYURO-Hostel.h19467405.Hotel-Information?chkin=2019%2F10%2F4&chkout=2019%2F10%2F5&regionId=179900&destination=%E6%9D%B1%E4%BA%AC+%28%E5%8F%8A%E9%84%B0%E8%BF%91%E5%9C%B0%E5%8D%80%29%2C+%E6%97%A5%E6%9C%AC&swpToggleOn=true&rm1=a1&x_pwa=1&sort=recommended&top_dp=794&top_cur=TWD&rfrr=HSR&pwa_ts=1570020098504', '緯度': 35.681038, '評價': 4.5, '鄰近景點1': '江戶東京博物館 - 開車 3 分鐘', '鄰近景點2': '歌舞伎座 - 開車 4 分鐘', '鄰近景點3': '秋葉原電器街 - 開車 4 分鐘', '鄰近景點4': '皇居 - 開車 4 分鐘', '鄰近景點5': '皇居東御苑 - 開車 6 分鐘', '飯店名稱': 'LYURO 共享飯店 - 青年旅舍'}\n",
      "{'age': 7, 'been2tko': 1, 'days': 7, 'totalBudget': 40000, 'gender': 0, 'oneBudget': 200}\n",
      "[{'age': 35, 'cp_rating_dinner': 3.59, 'cp_rating_lunch': 4.63, 'feeling_rating_dinner': 4.12, 'feeling_rating_lunch': 4.92, 'female_prop': 24.18, 'label_code': 0, 'label_desc': '高消族', 'lat': 35.6692281, 'lng': 139.7592488, 'male_prop': 75.82, 'meal_duration': 1.0, 'prices_dinner': 12756, 'prices_lunch': 425, 'rest_addr': '東京都中央區銀座8-3-1', 'rest_area': '新橋・汐留', 'rest_catg': '壽司', 'rest_rating': 4.42, 'service_rating_dinner': 3.96, 'service_rating_lunch': 4.92, 'store_nm_en': 'Harutaka', 'store_nm_jp': '青空', 'transport': '銀座駅徒歩8分。新橋駅徒歩5分。\\n\\n\\n距离內幸町 321  米'}, {'age': 40, 'cp_rating_dinner': 3.99, 'cp_rating_lunch': 4.32, 'feeling_rating_dinner': 4.34, 'feeling_rating_lunch': 4.42, 'female_prop': 24.23, 'label_code': 0, 'label_desc': '高消族', 'lat': 35.5655545, 'lng': 139.7145738, 'male_prop': 75.77, 'meal_duration': 1.0, 'prices_dinner': 15591, 'prices_lunch': 15591, 'rest_addr': '東京都大田區西蒲田5-20-2', 'rest_area': '蒲田', 'rest_catg': '壽司', 'rest_rating': 4.64, 'service_rating_dinner': 4.45, 'service_rating_lunch': 4.46, 'store_nm_en': 'Hatsunezushi', 'store_nm_jp': '初音鮨', 'transport': 'JR蒲田駅西口徒歩5分\\n\\n\\n距离蒲田 361  米'}, {'age': 42, 'cp_rating_dinner': 3.97, 'cp_rating_lunch': 4.0, 'feeling_rating_dinner': 3.97, 'feeling_rating_lunch': 3.81, 'female_prop': 23.92, 'label_code': 1, 'label_desc': '平消族', 'lat': 35.6697444, 'lng': 139.7619383, 'male_prop': 76.08, 'meal_duration': 1.0, 'prices_dinner': 7087, 'prices_lunch': 425, 'rest_addr': '東京都中央區銀座7-6-5', 'rest_area': '銀座', 'rest_catg': '壽司', 'rest_rating': 3.78, 'service_rating_dinner': 3.98, 'service_rating_lunch': 4.0, 'store_nm_en': 'Sushi Take', 'store_nm_jp': '鮨竹', 'transport': '銀座駅A1出口より徒歩5分\\n\\n\\n距离銀座 310  米'}, {'age': 43, 'cp_rating_dinner': 3.36, 'cp_rating_lunch': 3.54, 'feeling_rating_dinner': 3.37, 'feeling_rating_lunch': 3.49, 'female_prop': 23.83, 'label_code': 1, 'label_desc': '平消族', 'lat': 35.6954922, 'lng': 139.7684364, 'male_prop': 76.17, 'meal_duration': 1.0, 'prices_dinner': 142, 'prices_lunch': 709, 'rest_addr': '東京都韆代田區神田須田町1-8-4', 'rest_area': '神田・御茶之水', 'rest_catg': '炸豬排/炸豬丼飯・炸豬排便當', 'rest_rating': 3.83, 'service_rating_dinner': 3.37, 'service_rating_lunch': 3.48, 'store_nm_en': 'Tonkatsuyamaichi', 'store_nm_jp': 'とんかつ やまいち', 'transport': '東京メトロ丸ノ内線【淡路町駅】徒歩１分（Ａ１地上口）\\n都営地下鉄新宿線【小川町駅】徒歩２分\\n東京メトロ銀座線【神田駅】徒歩４分\\nＪＲ中央線・山手線・京浜東北線【神田駅】徒歩７分\\n\\n\\n距离淡路町 103  米'}, {'age': 40, 'cp_rating_dinner': 3.57, 'cp_rating_lunch': 3.36, 'feeling_rating_dinner': 3.38, 'feeling_rating_lunch': 3.23, 'female_prop': 23.37, 'label_code': 1, 'label_desc': '平消族', 'lat': 35.708419, 'lng': 139.7737509, 'male_prop': 76.63, 'meal_duration': 1.0, 'prices_dinner': 142, 'prices_lunch': 425, 'rest_addr': '東京都檯東區上野4-3-4', 'rest_area': '上野・御徒町・湯島', 'rest_catg': '炸豬排/可樂餅・油炸食品/定食、食堂', 'rest_rating': 3.76, 'service_rating_dinner': 3.47, 'service_rating_lunch': 3.39, 'store_nm_en': 'tompachitei', 'store_nm_jp': 'とん八亭', 'transport': 'ＪＲ御徒町駅より徒歩２分\\n銀座線上野広小路より徒歩２分\\n大江戸線上野御徒町より徒歩２分\\n日比谷線仲御徒町より徒歩４分\\n千代田線湯島駅より徒歩５分\\n\\n\\n距离上野御徒町 61  米'}, {'age': 41, 'cp_rating_dinner': 3.44, 'cp_rating_lunch': 3.43, 'feeling_rating_dinner': 4.1, 'feeling_rating_lunch': 3.96, 'female_prop': 24.32, 'label_code': 1, 'label_desc': '平消族', 'lat': 35.7138661, 'lng': 139.7726182, 'male_prop': 75.68, 'meal_duration': 1.5, 'prices_dinner': 1984, 'prices_lunch': 992, 'rest_addr': '東京都檯東區上野公園4-59', 'rest_area': '上野・御徒町・湯島', 'rest_catg': '懷石 / 會席料理/壽喜燒/日式甜點店', 'rest_rating': 3.76, 'service_rating_dinner': 3.57, 'service_rating_lunch': 3.5, 'store_nm_en': 'Inshoutei', 'store_nm_jp': '韻松亭', 'transport': 'JR・東京メトロ銀座線上野駅：徒歩10分\\n京成線上野駅：徒歩７分\\n都営大江戸線御徒町駅・東京メトロ日比谷線上野駅：徒歩13分\\n\\n\\n距离京成上野 260  米'}, {'age': 40, 'cp_rating_dinner': 3.39, 'cp_rating_lunch': 3.38, 'feeling_rating_dinner': 3.1, 'feeling_rating_lunch': 3.12, 'female_prop': 23.56, 'label_code': 1, 'label_desc': '平消族', 'lat': 35.6590575, 'lng': 139.6968004, 'male_prop': 76.44, 'meal_duration': 1.0, 'prices_dinner': 142, 'prices_lunch': 142, 'rest_addr': '東京都澀穀區道玄坂2-17-6', 'rest_area': '澀谷', 'rest_catg': '拉麵/餃子/中國菜', 'rest_rating': 3.78, 'service_rating_dinner': 3.11, 'service_rating_lunch': 3.03, 'store_nm_en': 'Kiraku', 'store_nm_jp': '喜楽', 'transport': 'JR「渋谷」駅(ハチ公口)から徒歩6分\\n\\n\\n距离神泉 352  米'}, {'age': 40, 'cp_rating_dinner': 3.23, 'cp_rating_lunch': 3.3, 'feeling_rating_dinner': 3.2, 'feeling_rating_lunch': 3.21, 'female_prop': 23.8, 'label_code': 1, 'label_desc': '平消族', 'lat': 35.6470306, 'lng': 139.7079778, 'male_prop': 76.2, 'meal_duration': 1.0, 'prices_dinner': 142, 'prices_lunch': 142, 'rest_addr': '東京都澀穀區惠比壽西1-9-4', 'rest_area': '惠比壽', 'rest_catg': '拉麵/沾麵', 'rest_rating': 3.75, 'service_rating_dinner': 3.13, 'service_rating_lunch': 3.05, 'store_nm_en': 'Oozekichuukasobaten', 'store_nm_jp': 'おおぜき中華そば店', 'transport': 'JR山手線「恵比寿」駅(西口)から徒歩２分\\n\\n\\n距离惠比壽 192  米'}, {'age': 42, 'cp_rating_dinner': 3.58, 'cp_rating_lunch': 3.58, 'feeling_rating_dinner': 3.42, 'feeling_rating_lunch': 3.67, 'female_prop': 23.62, 'label_code': 1, 'label_desc': '平消族', 'lat': 35.7034333, 'lng': 139.599761, 'male_prop': 76.38, 'meal_duration': 1.0, 'prices_dinner': 142, 'prices_lunch': 142, 'rest_addr': '東京都杉並區西荻南3-11-9', 'rest_area': '西荻窪', 'rest_catg': '拉麵', 'rest_rating': 3.79, 'service_rating_dinner': 3.5, 'service_rating_lunch': 3.7, 'store_nm_en': 'Hatsune', 'store_nm_jp': 'はつね', 'transport': 'JR中央線西荻窪駅南口徒歩1分\\n看板なし\\n目印は紺色の暖簾\\n\\n\\n距离西荻窪 42  米'}, {'age': 45, 'cp_rating_dinner': 3.8, 'cp_rating_lunch': 3.63, 'feeling_rating_dinner': 3.82, 'feeling_rating_lunch': 3.82, 'female_prop': 23.81, 'label_code': 0, 'label_desc': '高消族', 'lat': 35.7248752, 'lng': 139.78377, 'male_prop': 76.19, 'meal_duration': 1.0, 'prices_dinner': 7087, 'prices_lunch': 4961, 'rest_addr': '東京都檯東區根岸4-3-2', 'rest_area': '鶯谷・入谷', 'rest_catg': '牛排/懷石 / 會席料理/洋酒吧', 'rest_rating': 3.83, 'service_rating_dinner': 4.05, 'service_rating_lunch': 4.72, 'store_nm_en': 'SADAYA', 'store_nm_jp': '定谷', 'transport': '鶯谷駅より徒歩8分\\n入谷駅より徒歩5分\\n\\n\\n距离入谷 458  米'}, {'age': 38, 'cp_rating_dinner': 3.52, 'cp_rating_lunch': 3.09, 'feeling_rating_dinner': 3.45, 'feeling_rating_lunch': 3.07, 'female_prop': 23.93, 'label_code': 1, 'label_desc': '平消族', 'lat': 35.6707809, 'lng': 139.7692631, 'male_prop': 76.07, 'meal_duration': 1.0, 'prices_dinner': 2551, 'prices_lunch': 425, 'rest_addr': '東京都中央區銀座3-12-5', 'rest_area': '銀座', 'rest_catg': '牛排/法式小酒館/餐飲酒館', 'rest_rating': 3.85, 'service_rating_dinner': 3.37, 'service_rating_lunch': 3.07, 'store_nm_en': 'Ibaia', 'store_nm_jp': 'IBAIA', 'transport': '距离東銀座 232  米'}, {'age': 41, 'cp_rating_dinner': 3.42, 'cp_rating_lunch': 3.69, 'feeling_rating_dinner': 3.55, 'feeling_rating_lunch': 3.68, 'female_prop': 23.55, 'label_code': 1, 'label_desc': '平消族', 'lat': 35.6778493, 'lng': 139.7688135, 'male_prop': 76.45, 'meal_duration': 1.0, 'prices_dinner': 992, 'prices_lunch': 142, 'rest_addr': '東京都中央區八重洲2-5-12', 'rest_area': '日本橋・京橋', 'rest_catg': '印度咖哩/印度料理/日式小酒館', 'rest_rating': 3.8, 'service_rating_dinner': 3.53, 'service_rating_lunch': 3.79, 'store_nm_en': 'Truly south indian dakshin yaesu', 'store_nm_jp': '南インド料理ダクシン 八重洲店', 'transport': '東京メトロ銀座線 京橋駅\\n8番出口より徒歩2分\\nJR東京駅 八重洲 南口より徒歩５分\\n八重洲ブックセンターの裏（奥）のビル\\n\\n\\n距离京橋 179  米'}, {'age': 40, 'cp_rating_dinner': 3.81, 'cp_rating_lunch': 4.41, 'feeling_rating_dinner': 3.55, 'feeling_rating_lunch': 3.3, 'female_prop': 23.83, 'label_code': 1, 'label_desc': '平消族', 'lat': 35.6958072, 'lng': 139.6803399, 'male_prop': 76.17, 'meal_duration': 1.0, 'prices_dinner': 2551, 'prices_lunch': 425, 'rest_addr': '東京都中野區本町2-41-2', 'rest_area': '中野坂上～方南町', 'rest_catg': '蕎麥麵', 'rest_rating': 3.82, 'service_rating_dinner': 3.66, 'service_rating_lunch': 3.85, 'store_nm_en': 'La Strada', 'store_nm_jp': 'ら すとらあだ', 'transport': '丸の内線・大江戸線\\u3000中野坂上駅3番出口\\u3000徒歩3分\\n\\n\\n距离中野坂上 188  米'}, {'age': 43, 'cp_rating_dinner': 3.24, 'cp_rating_lunch': 3.35, 'feeling_rating_dinner': 3.67, 'feeling_rating_lunch': 3.82, 'female_prop': 23.28, 'label_code': 1, 'label_desc': '平消族', 'lat': 35.6812097, 'lng': 139.7747558, 'male_prop': 76.72, 'meal_duration': 1.0, 'prices_dinner': 1984, 'prices_lunch': 425, 'rest_addr': '東京都中央區日本橋2-9-9', 'rest_area': '日本橋・京橋', 'rest_catg': '魚類料理・海鮮料理/星鰻/天婦羅', 'rest_rating': 3.77, 'service_rating_dinner': 3.39, 'service_rating_lunch': 3.56, 'store_nm_en': 'Tamai', 'store_nm_jp': '玉ゐ 本店', 'transport': 'ＪＲ東京駅八重洲口から高島屋デパート方面へ徒歩8分。東京メトロ銀座線・東西線、都営浅草線日本橋駅から徒歩3分。\\n\\n\\n距离日本橋 106  米'}]\n"
     ]
    },
    {
     "name": "stdout",
     "output_type": "stream",
     "text": [
      "=====================\n",
      " 第1天行程：\n",
      "東京迪士尼海洋樂園 Tokyo DisneySea約13.6 公里，景點間通勤約需20 分鐘。\n",
      "---------------\n",
      "\n",
      "地圖連結：https://45a28610.ngrok.io/images/day1-U374824a0557f0767db8c194dae6c6002-1574398131470map.html\n",
      "===============\n",
      "第2天行程：\n",
      "東京21_21Design sight美術館 21 21 DESIGN SIGHT約10.4 公里，景點間通勤約需18 分鐘。\n",
      "---------------\n",
      "日本國立國會圖書館 National Diet Library約2.6 公里，景點間通勤約需9 分鐘。\n",
      "---------------\n",
      "東京大學 University of Tokyo約7.1 公里，景點間通勤約需24 分鐘。\n",
      "---------------\n",
      "\n",
      "地圖連結：https://45a28610.ngrok.io/images/day2-U374824a0557f0767db8c194dae6c6002-1574398131470map.html\n",
      "===============\n",
      "第3天行程：\n",
      "原美術館 Hara Museum of Contemporary Art (Hara Bijutsukan)約12.0 公里，景點間通勤約需23 分鐘。\n",
      "---------------\n",
      "東京馬拉松 Tokyo Marathon約10.8 公里，景點間通勤約需25 分鐘。\n",
      "---------------\n",
      "護國寺 Gokokuji Temple約14.0 公里，景點間通勤約需19 分鐘。\n",
      "---------------\n",
      "\n",
      "地圖連結：https://45a28610.ngrok.io/images/day3-U374824a0557f0767db8c194dae6c6002-1574398131470map.html\n",
      "===============\n",
      "第4天行程：\n",
      "上野東照宮 Toshogu Shrine約5.8 公里，景點間通勤約需16 分鐘。\n",
      "---------------\n",
      "東京國立博物館 平成館 Tokyo National Museum The Heiseikan約1.3 公里，景點間通勤約需5 分鐘。\n",
      "---------------\n",
      "東京都美術館 Tokyo Metropolitan Art Museum約1.9 公里，景點間通勤約需7 分鐘。\n",
      "---------------\n",
      "\n",
      "地圖連結：https://45a28610.ngrok.io/images/day4-U374824a0557f0767db8c194dae6c6002-1574398131470map.html\n",
      "===============\n",
      "第5天行程：\n",
      "新宿十二社 熊野神社 Kumano Shrine約13.3 公里，景點間通勤約需18 分鐘。\n",
      "---------------\n",
      " Yamamototei約28.3 公里，景點間通勤約需41 分鐘。\n",
      "---------------\n",
      "地鐵博物館 Subway Museum約12.7 公里，景點間通勤約需34 分鐘。\n",
      "---------------\n",
      "\n",
      "地圖連結：https://45a28610.ngrok.io/images/day5-U374824a0557f0767db8c194dae6c6002-1574398131470map.html\n",
      "===============\n",
      "第6天行程：\n",
      "隅田川花火大會 Sumida River Fireworks約5.1 公里，景點間通勤約需11 分鐘。\n",
      "---------------\n",
      "板橋花火節 Itabashi Fireworks約16.9 公里，景點間通勤約需23 分鐘。\n",
      "---------------\n",
      "大江戶古董市場 - 東京國際論壇 Oedo Antique Market - Tokyo International Forum約13.9 公里，景點間通勤約需19 分鐘。\n",
      "---------------\n",
      "\n",
      "地圖連結：https://45a28610.ngrok.io/images/day6-U374824a0557f0767db8c194dae6c6002-1574398131470map.html\n",
      "===============\n",
      " \n",
      "=======================\n"
     ]
    },
    {
     "name": "stderr",
     "output_type": "stream",
     "text": [
      "172.18.0.6 - - [22/Nov/2019 04:48:58] \"POST / HTTP/1.1\" 200 -\n"
     ]
    },
    {
     "name": "stdout",
     "output_type": "stream",
     "text": [
      "::tripStart:\n",
      "Erving,U374824a0557f0767db8c194dae6c6002\n",
      "{\"data\": \"tripStart\"}\n",
      "1574398131471,2019-11-22 04:48:51.471000\n",
      "Erving,U374824a0557f0767db8c194dae6c6002\n",
      "{\"data\": \"tripStart\"}\n",
      "1574398132072,2019-11-22 04:48:52.072000\n",
      "{'age': 7, 'been2tko': 1, 'days': 7, 'budget': 40000, 'isFemale': 0, 'fbudget': 12000, 'dDate': '2020-03-31', 'rDate': '2020-04-07'}\n",
      "{'airline': 'Tigerair Taiwan', 'date_format(eta,\"%a\")': 'Tue', 'date_format(etd,\"%a\")': 'Tue', 'date_format(tuEta,\"%a\")': 'Tue', 'date_format(tuEtd,\"%a\")': 'Tue', 'price': 8067, 'time_format(eta,\"%T\")': '10:35:00', 'time_format(etd,\"%T\")': '06:35:00', 'time_format(sec_to_time(dur),\"%T\")': '03:00:00', 'time_format(sec_to_time(tuDur),\"%T\")': '03:55:00', 'time_format(tuEta,\"%T\")': '07:55:00', 'time_format(tuEtd,\"%T\")': '05:00:00'}\n",
      "bk by tue\n",
      "{'age': 7, 'been2tko': 1, 'howlong': 7, 'budget': 40000, 'isFemale': 0, 'with_child': 0, 'crampedSechedule': False}\n",
      "['[{\"index\":2,\"name\":\"淺草 Asakusa\",\"rank\":\"排名第 1的台東區觀光 (共560家)\",\"address\":\"東京都台東區\",\"child\":0.0087715012,\"latitude\":35.7125736,\"longitude\":139.7802043,\"score\":241,\"chosen\":true},{\"index\":48,\"name\":\"雷門 Nakamise Shopping Street (Kaminarimon)\",\"rank\":\"排名第 18的台東區觀光 (共560家)\",\"address\":\"東京都台東區淺草1丁目3\",\"child\":0.0048539208,\"latitude\":35.7110859,\"longitude\":139.7959648,\"score\":114,\"chosen\":true},{\"index\":35,\"name\":\"淺草文化觀光中心 Asakusa Culture Tourist Information Center\",\"rank\":\"排名第 3的台東區觀光 (共560家)\",\"address\":\"東京都台東區2-18-9 Kaminarimon111-0034\",\"child\":0.0040560983,\"latitude\":35.7106489,\"longitude\":139.7965348,\"score\":106,\"chosen\":true}]', '[{\"index\":59,\"name\":\"惠比壽啤酒紀念館 Museum of Yebisu Beer\",\"rank\":\"排名第 12的澀谷區觀光 (共279家)\",\"address\":\"東京都澀谷區惠比壽4-20-1\",\"child\":0.0,\"latitude\":35.643115,\"longitude\":139.7145631,\"score\":70,\"chosen\":true},{\"index\":17,\"name\":\"根津神社 Nezu Shrine\",\"rank\":\"排名第 2的Nezu觀光 (共11家)\",\"address\":\"東京都文京區Nezu根津1-28-9113-0031\",\"child\":0.0205492008,\"latitude\":35.7199073,\"longitude\":139.7608953,\"score\":114,\"chosen\":true},{\"index\":86,\"name\":\" Jingu Gaien Ginkgo Tree-lined Street\",\"rank\":\"排名第 1的Kitaaoyama觀光 (共10家)\",\"address\":\"東京都港區Kitaaoyama2107-0061\",\"child\":0.1085532006,\"latitude\":35.6734349,\"longitude\":139.7204992,\"score\":114,\"chosen\":true}]', '[{\"index\":189,\"name\":\"三社祭 Sanja Matsuri\",\"rank\":\"排名第 19的台東區觀光 (共560家)\",\"address\":\"東京都台東區2-3-1 AsakusaAsakusa Shrine111-0032\",\"child\":0.0864315783,\"latitude\":35.7147651,\"longitude\":139.7966553,\"score\":70,\"chosen\":true},{\"index\":225,\"name\":\"東京馬拉松 Tokyo Marathon\",\"rank\":\"排名第 12的新宿區觀光 (共419家)\",\"address\":\"東京都新宿區2-8-1 NishishinjukuTokyo Metropolitan Government Building163-8001\",\"child\":0.0542821379,\"latitude\":35.6898531,\"longitude\":139.6917321,\"score\":70,\"chosen\":true},{\"index\":192,\"name\":\"隅田川花火大會 Sumida River Fireworks\",\"rank\":\"排名第 12的墨田區觀光 (共264家)\",\"address\":\"東京都墨田區\",\"child\":0.0,\"latitude\":35.7107479,\"longitude\":139.8016393,\"score\":70,\"chosen\":true}]', '[{\"index\":134,\"name\":\"太田現代美術博物館 Ota Memorial Museum of Art\",\"rank\":\"排名第 5的澀谷區觀光 (共279家)\",\"address\":\"東京都澀谷區惠比壽西2-8-1150-0001\",\"child\":0.0702455514,\"latitude\":35.6432025,\"longitude\":139.7145181,\"score\":70,\"chosen\":true},{\"index\":76,\"name\":\"原宿竹下通 Takeshita Street\",\"rank\":\"排名第 3的Jingumae觀光 (共24家)\",\"address\":\"東京都澀谷區Jingumae神宮前一丁目150-0001\",\"child\":0.2093790616,\"latitude\":35.671872,\"longitude\":139.7051782,\"score\":293,\"chosen\":true},{\"index\":61,\"name\":\"等等力溪 森林浴 Todoroki Valley\",\"rank\":\"排名第 6的世田谷區觀光 (共235家)\",\"address\":\"東京都世田谷區1-22, 2-37~38 Todoroki158-0082\",\"child\":0.0,\"latitude\":35.605444,\"longitude\":139.6456016,\"score\":114,\"chosen\":true}]', '[{\"index\":194,\"name\":\"東京都寫真美術館 Tokyo Photographic Art Museum\",\"rank\":\"排名第 5的目黑區觀光 (共108家)\",\"address\":\"東京都目黑區三田1-13-3-惠比壽公園綜合商業區內In Ebisu Garden Place153-0062\",\"child\":0.0,\"latitude\":35.642145,\"longitude\":139.713487,\"score\":70,\"chosen\":true},{\"index\":234,\"name\":\"鬼子母神 Kishimojindo\",\"rank\":\"排名第 2的豊島區觀光 (共179家)\",\"address\":\"東京都豊島區3-15-20 Zoshigaya171-0032\",\"child\":0.0732679105,\"latitude\":35.7220714,\"longitude\":139.7133525,\"score\":114,\"chosen\":true},{\"index\":45,\"name\":\"東京都庭園美術館 Tokyo Metropolitan Teien Art Museum\",\"rank\":\"排名第 9的港區觀光 (共626家)\",\"address\":\"東京都港區白金台5-21-9108-0071\",\"child\":0.0,\"latitude\":35.6381742,\"longitude\":139.7198607,\"score\":70,\"chosen\":true}]', '[{\"index\":199,\"name\":\"日本國立國會圖書館 National Diet Library\",\"rank\":\"排名第 35的千代田區觀光 (共446家)\",\"address\":\"東京都千代田區1-10-1, Nagatacho100-8924\",\"child\":0.0,\"latitude\":35.6784667,\"longitude\":139.7442197,\"score\":70,\"chosen\":true},{\"index\":164,\"name\":\"摺紙會館 Origami Kaikan\",\"rank\":\"排名第 21的文京區觀光 (共297家)\",\"address\":\"東京都文京區湯島1-7-14113-0034\",\"child\":0.2664738015,\"latitude\":35.7026405,\"longitude\":139.7650482,\"score\":70,\"chosen\":true},{\"index\":232,\"name\":\"表參道 東急Plaza百貨 Tokyu Plaza Omotesando Harajuku\",\"rank\":\"排名第 4的Jingumae觀光 (共24家)\",\"address\":\"東京都澀谷區Jingumae4-30-3 Jingu-mae150-0001\",\"child\":0.0,\"latitude\":35.6686372,\"longitude\":139.7059233,\"score\":84,\"chosen\":true}]']\n",
      "{'age': 7, 'been2tko': 1, 'days': 7, 'budget': 40000, 'isFemale': 0, 'hotel budget': 2000}\n",
      "{'CP': 2.567094516, 'pre': 2.0, '交通1': '馬?町站 - 走路 1 分鐘', '交通2': '馬??山站 - 走路 2 分鐘', '交通3': '東京, 日本 (HND-羽田機場) - 車程 16 分鐘', '交通便利性': '1', '價格': 1714.0, '地址': '1-6-6 Nihonbashi Bakucho Chuo-ku, 東京, 東京', '廚房': 0.0, '星等': 3.0, '經度': 139.782344, '網址': 'https://www.expedia.com.tw/Tokyo-Hotels-APA-Hotel-Nihombashi-Bakurocho-Ekimae.h29342349.Hotel-Information?chkin=2019%2F10%2F4&chkout=2019%2F10%2F5&regionId=179900&destination=%E6%9D%B1%E4%BA%AC+%28%E5%8F%8A%E9%84%B0%E8%BF%91%E5%9C%B0%E5%8D%80%29%2C+%E6%97%A5%E6%9C%AC&swpToggleOn=true&rm1=a1&x_pwa=1&sort=recommended&top_dp=1714&top_cur=TWD&rfrr=HSR&pwa_ts=1570019075360', '緯度': 35.693149, '評價': 4.4, '鄰近景點1': '秋葉原電器街 - 步行 16 分鐘', '鄰近景點2': '江戶東京博物館 - 步行 20 分鐘', '鄰近景點3': '上野公園 - 開車 3 分鐘', '鄰近景點4': '國立科學博物館 - 開車 4 分鐘', '鄰近景點5': '皇居東御苑 - 開車 4 分鐘', '飯店名稱': '日本橋馬?町站前 APA 飯店'}\n",
      "{'age': 7, 'been2tko': 1, 'days': 7, 'totalBudget': 40000, 'gender': 0, 'oneBudget': 200}\n",
      "[{'age': 38, 'cp_rating_dinner': 4.13, 'cp_rating_lunch': 3.87, 'feeling_rating_dinner': 4.03, 'feeling_rating_lunch': 4.16, 'female_prop': 24.19, 'label_code': 0, 'label_desc': '高消族', 'lat': 35.6723944, 'lng': 139.7750346, 'male_prop': 75.81, 'meal_duration': 1.0, 'prices_dinner': 7087, 'prices_lunch': 7087, 'rest_addr': '東京都中央區新富 1-15-11', 'rest_area': '築地', 'rest_catg': '壽司', 'rest_rating': 4.39, 'service_rating_dinner': 4.08, 'service_rating_lunch': 4.07, 'store_nm_en': 'Hashimoto', 'store_nm_jp': '鮨 はしもと', 'transport': '新富町駅、八丁堀駅から徒歩3分。\\n\\n\\n距离新富町 238  米'}, {'age': 38, 'cp_rating_dinner': 3.86, 'cp_rating_lunch': 3.91, 'feeling_rating_dinner': 4.13, 'feeling_rating_lunch': 4.28, 'female_prop': 23.89, 'label_code': 0, 'label_desc': '高消族', 'lat': 35.6479883, 'lng': 139.7359132, 'male_prop': 76.11, 'meal_duration': 1.0, 'prices_dinner': 9922, 'prices_lunch': 9922, 'rest_addr': '東京都港區南痲佈2-10-13', 'rest_area': '白金', 'rest_catg': '壽司', 'rest_rating': 3.98, 'service_rating_dinner': 4.02, 'service_rating_lunch': 4.28, 'store_nm_en': 'Ichikawa', 'store_nm_jp': 'いちかわ', 'transport': '地下鉄都営三田線\\u3000白金高輪駅\\u3000\\n\\n\\n距离白金高輪 584  米'}, {'age': 41, 'cp_rating_dinner': 3.71, 'cp_rating_lunch': 3.37, 'feeling_rating_dinner': 3.93, 'feeling_rating_lunch': 3.69, 'female_prop': 24.02, 'label_code': 0, 'label_desc': '高消族', 'lat': 35.6748146, 'lng': 139.7670163, 'male_prop': 75.98, 'meal_duration': 1.0, 'prices_dinner': 7087, 'prices_lunch': 4961, 'rest_addr': '東京都中央區銀座1-5-14', 'rest_area': '銀座', 'rest_catg': '壽司', 'rest_rating': 4.01, 'service_rating_dinner': 3.85, 'service_rating_lunch': 3.76, 'store_nm_en': 'Ichiyanagi', 'store_nm_jp': 'すし家 一柳', 'transport': '東京メトロ有楽町線銀座一丁目駅6番口 徒歩2分\\n銀座駅B4出口から並木通りを徒歩5分\\n\\n\\n距离銀座一丁目 71  米'}, {'age': 43, 'cp_rating_dinner': 3.23, 'cp_rating_lunch': 3.36, 'feeling_rating_dinner': 3.45, 'feeling_rating_lunch': 3.59, 'female_prop': 23.6, 'label_code': 1, 'label_desc': '平消族', 'lat': 35.6567517, 'lng': 139.7328867, 'male_prop': 76.4, 'meal_duration': 1.0, 'prices_dinner': 992, 'prices_lunch': 425, 'rest_addr': '東京都港區元痲佈3-11-4', 'rest_area': '麻布十番', 'rest_catg': '蕎麥麵/懷石 / 會席料理/天婦羅・油炸食品（其他）', 'rest_rating': 3.79, 'service_rating_dinner': 3.39, 'service_rating_lunch': 3.51, 'store_nm_en': 'Souhonkesarashinahorii', 'store_nm_jp': '総本家更科堀井 本店', 'transport': '東京メトロ南北線\\u3000都営大江戸線\\u3000麻布十番駅より歩いて5分程度\\n\\n\\n距离麻布十番 287  米'}, {'age': 40, 'cp_rating_dinner': 3.57, 'cp_rating_lunch': 3.36, 'feeling_rating_dinner': 3.38, 'feeling_rating_lunch': 3.23, 'female_prop': 23.37, 'label_code': 1, 'label_desc': '平消族', 'lat': 35.708419, 'lng': 139.7737509, 'male_prop': 76.63, 'meal_duration': 1.0, 'prices_dinner': 142, 'prices_lunch': 425, 'rest_addr': '東京都檯東區上野4-3-4', 'rest_area': '上野・御徒町・湯島', 'rest_catg': '炸豬排/可樂餅・油炸食品/定食、食堂', 'rest_rating': 3.76, 'service_rating_dinner': 3.47, 'service_rating_lunch': 3.39, 'store_nm_en': 'tompachitei', 'store_nm_jp': 'とん八亭', 'transport': 'ＪＲ御徒町駅より徒歩２分\\n銀座線上野広小路より徒歩２分\\n大江戸線上野御徒町より徒歩２分\\n日比谷線仲御徒町より徒歩４分\\n千代田線湯島駅より徒歩５分\\n\\n\\n距离上野御徒町 61  米'}, {'age': 37, 'cp_rating_dinner': 3.9, 'cp_rating_lunch': 4.78, 'feeling_rating_dinner': 3.85, 'feeling_rating_lunch': 4.27, 'female_prop': 24.05, 'label_code': 0, 'label_desc': '高消族', 'lat': 35.6986017, 'lng': 139.7034726, 'male_prop': 75.95, 'meal_duration': 1.0, 'prices_dinner': 4961, 'prices_lunch': 2551, 'rest_addr': '東京都新宿區大久保1-12-3', 'rest_area': '新宿', 'rest_catg': '涮涮鍋/壽喜燒/牛肉料理', 'rest_rating': 4.02, 'service_rating_dinner': 3.91, 'service_rating_lunch': 3.85, 'store_nm_en': 'Toukyounikushabuya', 'store_nm_jp': '東京肉しゃぶ家', 'transport': 'JR新宿東口から徒歩10分\\nJR新大久保駅から徒歩8分\\n大江戸線東新宿から徒歩3分\\n西武新宿線西武新宿駅から徒歩4分\\n\\n\\n距离東新宿 375  米'}, {'age': 41, 'cp_rating_dinner': 3.58, 'cp_rating_lunch': 3.47, 'feeling_rating_dinner': 3.22, 'feeling_rating_lunch': 3.1, 'female_prop': 23.77, 'label_code': 1, 'label_desc': '平消族', 'lat': 35.7632609, 'lng': 139.745983, 'male_prop': 76.23, 'meal_duration': 1.0, 'prices_dinner': 142, 'prices_lunch': 142, 'rest_addr': '東京都北區豐島4-5-3', 'rest_area': '十條', 'rest_catg': '拉麵', 'rest_rating': 3.82, 'service_rating_dinner': 3.23, 'service_rating_lunch': 3.17, 'store_nm_en': 'Chuukasobayaitou', 'store_nm_jp': '中華そば屋 伊藤', 'transport': '京浜東北線「王子駅」から都営バス（駅前ﾛｰﾀﾘｰではなく、信号先左側10番バス停）で(豊島団地行き)約5分、「豊島4丁目」下車徒歩4分\\n東武伊勢崎線「西新井駅」から都営バス（池袋東口行き）で「豊島4丁目」下車徒歩4分\\nJR「王子駅」から徒歩20分\\n東京メトロ南北線「王子神谷駅」2番出口から徒歩13分\\n\\n\\n距离王子神谷 936  米'}, {'age': 39, 'cp_rating_dinner': 3.38, 'cp_rating_lunch': 3.43, 'feeling_rating_dinner': 3.44, 'feeling_rating_lunch': 3.42, 'female_prop': 23.73, 'label_code': 1, 'label_desc': '平消族', 'lat': 35.5642016, 'lng': 139.7134663, 'male_prop': 76.27, 'meal_duration': 1.0, 'prices_dinner': 142, 'prices_lunch': 142, 'rest_addr': '東京都大田區西蒲田7-8-1', 'rest_area': '蒲田', 'rest_catg': '沾麵/拉麵', 'rest_rating': 3.85, 'service_rating_dinner': 3.49, 'service_rating_lunch': 3.52, 'store_nm_en': 'niboshitsukememmiyamoto', 'store_nm_jp': '煮干しつけ麺 宮元', 'transport': 'JR京浜東北線「蒲田」駅(西口)\\u3000から徒歩5分\\n\\n\\n距离蒲田 306  米'}, {'age': 42, 'cp_rating_dinner': 3.59, 'cp_rating_lunch': 3.24, 'feeling_rating_dinner': 3.54, 'feeling_rating_lunch': 3.18, 'female_prop': 23.92, 'label_code': 1, 'label_desc': '平消族', 'lat': 35.7859161, 'lng': 139.6746957, 'male_prop': 76.08, 'meal_duration': 1.0, 'prices_dinner': 142, 'prices_lunch': 142, 'rest_addr': '東京都闆橋區蓮根3-8-14', 'rest_area': '板橋區公所前～（都營三田線）', 'rest_catg': '拉麵/沾麵', 'rest_rating': 3.85, 'service_rating_dinner': 3.59, 'service_rating_lunch': 3.18, 'store_nm_en': 'Kotobukiseimenyoshikawa', 'store_nm_jp': '寿製麺 よしかわ 西台駅前店', 'transport': '距离西台 213  米'}, {'age': 44, 'cp_rating_dinner': 4.21, 'cp_rating_lunch': 4.56, 'feeling_rating_dinner': 3.94, 'feeling_rating_lunch': 4.49, 'female_prop': 23.73, 'label_code': 1, 'label_desc': '平消族', 'lat': 35.6920609, 'lng': 139.7216055, 'male_prop': 76.27, 'meal_duration': 1.5, 'prices_dinner': 4961, 'prices_lunch': 425, 'rest_addr': '東京都新宿區住吉町2-18', 'rest_area': '曙橋・四之谷三丁目', 'rest_catg': '懷石 / 會席料理/和式餐馆 / 小菜/河豚', 'rest_rating': 3.92, 'service_rating_dinner': 4.18, 'service_rating_lunch': 4.54, 'store_nm_en': 'Marutomi', 'store_nm_jp': 'まる富', 'transport': '都営新宿線曙橋駅\\u3000徒歩1分\\nA1番出口を出て、「オールワン（不動産店）」を左、「フレッシュネスバーガー」を右に曲がりますと、すぐ右手にございます。富マークの丸い看板が目印です。\\n\\n\\n距离曙橋 92  米'}, {'age': 37, 'cp_rating_dinner': 3.91, 'cp_rating_lunch': 4.3, 'feeling_rating_dinner': 3.96, 'feeling_rating_lunch': 4.5, 'female_prop': 23.91, 'label_code': 1, 'label_desc': '平消族', 'lat': 35.6439034, 'lng': 139.7190916, 'male_prop': 76.09, 'meal_duration': 2.0, 'prices_dinner': 1984, 'prices_lunch': 1984, 'rest_addr': '東京都澀穀區惠比壽3-41-9', 'rest_area': '惠比壽', 'rest_catg': '義式/義大利麵/牛排', 'rest_rating': 3.84, 'service_rating_dinner': 4.01, 'service_rating_lunch': 4.5, 'store_nm_en': 'MAGICAMENTE', 'store_nm_jp': 'マジカメンテ', 'transport': 'JR恵比寿駅よりスカイウォーク出口から7分\\nJR恵比寿駅東口から徒歩15分\\n日比谷線広尾駅から8分\\n東京メトロ南北線、白金台駅から徒歩15分\\n《最寄駅よりタクシーでご来店のお客様》\\nディナーに限りお会計よりタクシー1メーター分サービス致します。\\n※タクシーの領収証と引き換えになりますので必ずご持参下さい。\\n\\n\\n距离惠比壽 868  米'}, {'age': 41, 'cp_rating_dinner': 3.64, 'cp_rating_lunch': 3.9, 'feeling_rating_dinner': 3.45, 'feeling_rating_lunch': 3.99, 'female_prop': 22.04, 'label_code': 1, 'label_desc': '平消族', 'lat': 35.6945625, 'lng': 139.8136483, 'male_prop': 77.96, 'meal_duration': 1.0, 'prices_dinner': 425, 'prices_lunch': 142, 'rest_addr': '東京都墨田區江東橋3-9-24', 'rest_area': '兩國・錦系町', 'rest_catg': '咖哩（其它）/南亞料理（其它）', 'rest_rating': 3.76, 'service_rating_dinner': 3.45, 'service_rating_lunch': 3.83, 'store_nm_en': 'ASIA CURRY HOUSE', 'store_nm_jp': 'アジアカレーハウス', 'transport': 'JR総武線「錦糸町駅」南口より、徒歩4分\\n東京メトロ 半蔵門線「錦糸町駅」1出口より、徒歩4分\\n\\n\\n距离錦糸町 250  米'}, {'age': 48, 'cp_rating_dinner': 3.26, 'cp_rating_lunch': 3.38, 'feeling_rating_dinner': 3.45, 'feeling_rating_lunch': 3.8, 'female_prop': 24.34, 'label_code': 1, 'label_desc': '平消族', 'lat': 35.6675833, 'lng': 139.7701571, 'male_prop': 75.66, 'meal_duration': 1.0, 'prices_dinner': 992, 'prices_lunch': 425, 'rest_addr': '東京都中央區築地2-15-20', 'rest_area': '築地', 'rest_catg': '蕎麥麵', 'rest_rating': 3.76, 'service_rating_dinner': 3.49, 'service_rating_lunch': 3.75, 'store_nm_en': 'Tsukijinunotsunesarashina', 'store_nm_jp': '築地 布恒更科', 'transport': '日比谷線築地駅、徒歩3分。東銀座より徒歩6分。\\n大江戸線築地市場駅、徒歩３分。\\n\\n\\n距离築地 227  米'}, {'age': 43, 'cp_rating_dinner': 3.24, 'cp_rating_lunch': 3.35, 'feeling_rating_dinner': 3.67, 'feeling_rating_lunch': 3.82, 'female_prop': 23.28, 'label_code': 1, 'label_desc': '平消族', 'lat': 35.6812097, 'lng': 139.7747558, 'male_prop': 76.72, 'meal_duration': 1.0, 'prices_dinner': 1984, 'prices_lunch': 425, 'rest_addr': '東京都中央區日本橋2-9-9', 'rest_area': '日本橋・京橋', 'rest_catg': '魚類料理・海鮮料理/星鰻/天婦羅', 'rest_rating': 3.77, 'service_rating_dinner': 3.39, 'service_rating_lunch': 3.56, 'store_nm_en': 'Tamai', 'store_nm_jp': '玉ゐ 本店', 'transport': 'ＪＲ東京駅八重洲口から高島屋デパート方面へ徒歩8分。東京メトロ銀座線・東西線、都営浅草線日本橋駅から徒歩3分。\\n\\n\\n距离日本橋 106  米'}]\n"
     ]
    },
    {
     "name": "stdout",
     "output_type": "stream",
     "text": [
      "=====================\n",
      " 第1天行程：\n",
      "淺草 Asakusa約3.6 公里，景點間通勤約需8 分鐘。\n",
      "---------------\n",
      "雷門 Nakamise Shopping Street (Kaminarimon)約1.8 公里，景點間通勤約需7 分鐘。\n",
      "---------------\n",
      "淺草文化觀光中心 Asakusa Culture Tourist Information Center約61 公尺，景點間通勤約需1 分鐘。\n",
      "---------------\n",
      "\n",
      "地圖連結：https://45a28610.ngrok.io/images/day1-U374824a0557f0767db8c194dae6c6002-1574398132071map.html\n",
      "===============\n",
      "第2天行程：\n",
      "惠比壽啤酒紀念館 Museum of Yebisu Beer約11.0 公里，景點間通勤約需18 分鐘。\n",
      "---------------\n",
      " Jingu Gaien Ginkgo Tree-lined Street約4.8 公里，景點間通勤約需13 分鐘。\n",
      "---------------\n",
      "根津神社 Nezu Shrine約10.3 公里，景點間通勤約需24 分鐘。\n",
      "---------------\n",
      "\n",
      "地圖連結：https://45a28610.ngrok.io/images/day2-U374824a0557f0767db8c194dae6c6002-1574398132071map.html\n",
      "===============\n",
      "第3天行程：\n",
      "東京馬拉松 Tokyo Marathon約12.7 公里，景點間通勤約需20 分鐘。\n",
      "---------------\n",
      "隅田川花火大會 Sumida River Fireworks約16.2 公里，景點間通勤約需23 分鐘。\n",
      "---------------\n",
      "三社祭 Sanja Matsuri約1.6 公里，景點間通勤約需7 分鐘。\n",
      "---------------\n",
      "\n",
      "地圖連結：https://45a28610.ngrok.io/images/day3-U374824a0557f0767db8c194dae6c6002-1574398132071map.html\n",
      "===============\n",
      "第4天行程：\n",
      "太田現代美術博物館 Ota Memorial Museum of Art約11.0 公里，景點間通勤約需18 分鐘。\n",
      "---------------\n",
      "等等力溪 森林浴 Todoroki Valley約8.5 公里，景點間通勤約需23 分鐘。\n",
      "---------------\n",
      "原宿竹下通 Takeshita Street約13.9 公里，景點間通勤約需30 分鐘。\n",
      "---------------\n",
      "\n",
      "地圖連結：https://45a28610.ngrok.io/images/day4-U374824a0557f0767db8c194dae6c6002-1574398132071map.html\n",
      "===============\n",
      "第5天行程：\n",
      "東京都庭園美術館 Tokyo Metropolitan Teien Art Museum約11.6 公里，景點間通勤約需16 分鐘。\n",
      "---------------\n",
      "東京都寫真美術館 Tokyo Photographic Art Museum約2.3 公里，景點間通勤約需8 分鐘。\n",
      "---------------\n",
      "鬼子母神 Kishimojindo約16.4 公里，景點間通勤約需24 分鐘。\n",
      "---------------\n",
      "\n",
      "地圖連結：https://45a28610.ngrok.io/images/day5-U374824a0557f0767db8c194dae6c6002-1574398132071map.html\n",
      "===============\n",
      "第6天行程：\n",
      "表參道 東急Plaza百貨 Tokyu Plaza Omotesando Harajuku約12.7 公里，景點間通勤約需23 分鐘。\n",
      "---------------\n",
      "日本國立國會圖書館 National Diet Library約4.2 公里，景點間通勤約需12 分鐘。\n",
      "---------------\n",
      "摺紙會館 Origami Kaikan約4.9 公里，景點間通勤約需15 分鐘。\n",
      "---------------\n",
      "\n",
      "地圖連結：https://45a28610.ngrok.io/images/day6-U374824a0557f0767db8c194dae6c6002-1574398132071map.html\n",
      "===============\n",
      " \n",
      "=======================\n"
     ]
    },
    {
     "name": "stderr",
     "output_type": "stream",
     "text": [
      "172.18.0.6 - - [22/Nov/2019 04:49:06] \"POST / HTTP/1.1\" 200 -\n"
     ]
    },
    {
     "name": "stdout",
     "output_type": "stream",
     "text": [
      "::tripStart:\n",
      "{'age': 7, 'been2tko': 1, 'days': 7, 'budget': 40000, 'isFemale': 0, 'fbudget': 12000, 'dDate': '2020-03-31', 'rDate': '2020-04-07'}\n",
      "{'airline': 'Tigerair Taiwan', 'date_format(eta,\"%a\")': 'Tue', 'date_format(etd,\"%a\")': 'Tue', 'date_format(tuEta,\"%a\")': 'Tue', 'date_format(tuEtd,\"%a\")': 'Tue', 'price': 8067, 'time_format(eta,\"%T\")': '10:35:00', 'time_format(etd,\"%T\")': '06:35:00', 'time_format(sec_to_time(dur),\"%T\")': '03:00:00', 'time_format(sec_to_time(tuDur),\"%T\")': '03:55:00', 'time_format(tuEta,\"%T\")': '07:55:00', 'time_format(tuEtd,\"%T\")': '05:00:00'}\n",
      "bk by tue\n",
      "{'age': 7, 'been2tko': 1, 'howlong': 7, 'budget': 40000, 'isFemale': 0, 'with_child': 0, 'crampedSechedule': False}\n",
      "['[{\"index\":2,\"name\":\"淺草 Asakusa\",\"rank\":\"排名第 1的台東區觀光 (共560家)\",\"address\":\"東京都台東區\",\"child\":0.0087715012,\"latitude\":35.7125736,\"longitude\":139.7802043,\"score\":241,\"chosen\":true},{\"index\":48,\"name\":\"雷門 Nakamise Shopping Street (Kaminarimon)\",\"rank\":\"排名第 18的台東區觀光 (共560家)\",\"address\":\"東京都台東區淺草1丁目3\",\"child\":0.0048539208,\"latitude\":35.7110859,\"longitude\":139.7959648,\"score\":114,\"chosen\":true},{\"index\":35,\"name\":\"淺草文化觀光中心 Asakusa Culture Tourist Information Center\",\"rank\":\"排名第 3的台東區觀光 (共560家)\",\"address\":\"東京都台東區2-18-9 Kaminarimon111-0034\",\"child\":0.0040560983,\"latitude\":35.7106489,\"longitude\":139.7965348,\"score\":106,\"chosen\":true}]', '[{\"index\":264,\"name\":\"東京迪士尼樂園 Tokyo Disneyland\",\"rank\":\"排名第 2的Maihama觀光 (共5家)\",\"address\":\"千葉縣浦安Maihama1-1279-8511\",\"child\":1.0,\"latitude\":35.632906,\"longitude\":139.880391,\"score\":94,\"chosen\":true}]', '[{\"index\":225,\"name\":\"東京馬拉松 Tokyo Marathon\",\"rank\":\"排名第 12的新宿區觀光 (共419家)\",\"address\":\"東京都新宿區2-8-1 NishishinjukuTokyo Metropolitan Government Building163-8001\",\"child\":0.0542821379,\"latitude\":35.6898531,\"longitude\":139.6917321,\"score\":70,\"chosen\":true},{\"index\":45,\"name\":\"東京都庭園美術館 Tokyo Metropolitan Teien Art Museum\",\"rank\":\"排名第 9的港區觀光 (共626家)\",\"address\":\"東京都港區白金台5-21-9108-0071\",\"child\":0.0,\"latitude\":35.6381742,\"longitude\":139.7198607,\"score\":70,\"chosen\":true},{\"index\":76,\"name\":\"原宿竹下通 Takeshita Street\",\"rank\":\"排名第 3的Jingumae觀光 (共24家)\",\"address\":\"東京都澀谷區Jingumae神宮前一丁目150-0001\",\"child\":0.2093790616,\"latitude\":35.671872,\"longitude\":139.7051782,\"score\":293,\"chosen\":true}]', '[{\"index\":188,\"name\":\"東京寶塚劇場 Tokyo Takarazuka Theater\",\"rank\":\"排名第 19的千代田區觀光 (共446家)\",\"address\":\"東京都千代田區1-1-3 YurakuchoTokyo Takarazuka Building100-0006\",\"child\":0.0,\"latitude\":35.6727297,\"longitude\":139.7592161,\"score\":70,\"chosen\":true},{\"index\":104,\"name\":\"三得利美術館 Suntory Museum of Art\",\"rank\":\"排名第 23的港區觀光 (共626家)\",\"address\":\"東京都港區9-7-4 Akasaka107-8643\",\"child\":0.0,\"latitude\":35.6662189,\"longitude\":139.730226,\"score\":70,\"chosen\":true},{\"index\":139,\"name\":\"目黑寄生蟲館 Meguro Parasitological Museum\",\"rank\":\"排名第 2的目黑區觀光 (共108家)\",\"address\":\"東京都目黑區下目黑4-1-1153-0064\",\"child\":0.2111028276,\"latitude\":35.6312789,\"longitude\":139.7066143,\"score\":114,\"chosen\":true}]', '[{\"index\":223,\"name\":\" Billboard Live音樂餐廳 Billboard Live Tokyo\",\"rank\":\"排名第 4的Akasaka觀光 (共18家)\",\"address\":\"東京都港區Akasaka9-7-44F107-0052\",\"child\":0.0,\"latitude\":35.6578091,\"longitude\":139.717307,\"score\":70,\"chosen\":true},{\"index\":39,\"name\":\"中野百老匯 Nakano Broadway\",\"rank\":\"排名第 1的中野區觀光 (共142家)\",\"address\":\"東京都中野區5-52-15 Nakano164-0001\",\"child\":0.1296033826,\"latitude\":35.7091118,\"longitude\":139.6656805,\"score\":84,\"chosen\":true},{\"index\":231,\"name\":\"新大久保韓國城 Shin Okubo Korean Town\",\"rank\":\"排名第 30的新宿區觀光 (共419家)\",\"address\":\"東京都新宿區Shin Okubo\",\"child\":0.0380652759,\"latitude\":35.7012459,\"longitude\":139.7002258,\"score\":114,\"chosen\":true}]', '[{\"index\":54,\"name\":\"東京都美術館 Tokyo Metropolitan Art Museum\",\"rank\":\"排名第 16的台東區觀光 (共560家)\",\"address\":\"東京都台東區8-36 Uenokoen110-0007\",\"child\":0.0205605849,\"latitude\":35.7125736,\"longitude\":139.7802043,\"score\":70,\"chosen\":true},{\"index\":6,\"name\":\"東京國立博物館 Tokyo National Museum\",\"rank\":\"排名第 5的台東區觀光 (共560家)\",\"address\":\"東京都台東區上野公園13-9110-0007\",\"child\":0.0509912925,\"latitude\":35.719252,\"longitude\":139.7760709,\"score\":114,\"chosen\":true},{\"index\":106,\"name\":\"上野東照宮 Toshogu Shrine\",\"rank\":\"排名第 17的台東區觀光 (共560家)\",\"address\":\"東京都台東區上野公園9-88\",\"child\":0.0,\"latitude\":35.7153714,\"longitude\":139.7706346,\"score\":183,\"chosen\":true}]', '[{\"index\":42,\"name\":\"東京海賊王塔 TOKYO ONE PIECE TOWER\",\"rank\":\"排名第 16的港區觀光 (共626家)\",\"address\":\"東京都港區4-2-8 ShibakoenTokyo Tower Foot Town105-0011\",\"child\":0.2333411224,\"latitude\":35.658595,\"longitude\":139.745442,\"score\":70,\"chosen\":true},{\"index\":150,\"name\":\"代代木八幡宮 Yoyogi Hachimangu Shrine\",\"rank\":\"排名第 13的澀谷區觀光 (共279家)\",\"address\":\"東京都澀谷區代代木5-1-1151-0053\",\"child\":0.0,\"latitude\":35.671594,\"longitude\":139.6884254,\"score\":114,\"chosen\":true},{\"index\":73,\"name\":\"日比谷公園 Hibiya Park\",\"rank\":\"排名第 1的Hibiyakoen觀光 (共2家)\",\"address\":\"東京都中央區Hibiyakoen日比谷公園1-6100-0012\",\"child\":0.0215814016,\"latitude\":35.6744393,\"longitude\":139.7553875,\"score\":114,\"chosen\":true}]']\n",
      "{'age': 7, 'been2tko': 1, 'days': 7, 'budget': 40000, 'isFemale': 0, 'hotel budget': 2000}\n",
      "{'CP': 5.667506297, 'pre': 2.0, '交通1': '八丁堀站 - 走路 3 分鐘', '交通2': '清澄白河站 - 走路 9 分鐘', '交通3': '東京, 日本 (NRT-成田國際機場) - 車程 45 分鐘', '交通便利性': '3', '價格': 794.0, '地址': '1-1-7 Kiyosumi, Koto Ward, 東京', '廚房': 0.0, '星等': 3.0, '經度': 139.792053, '網址': 'https://www.expedia.com.tw/Tokyo-Hotels-THE-SHARE-HOTELS-LYURO-Hostel.h19467405.Hotel-Information?chkin=2019%2F10%2F4&chkout=2019%2F10%2F5&regionId=179900&destination=%E6%9D%B1%E4%BA%AC+%28%E5%8F%8A%E9%84%B0%E8%BF%91%E5%9C%B0%E5%8D%80%29%2C+%E6%97%A5%E6%9C%AC&swpToggleOn=true&rm1=a1&x_pwa=1&sort=recommended&top_dp=794&top_cur=TWD&rfrr=HSR&pwa_ts=1570020098504', '緯度': 35.681038, '評價': 4.5, '鄰近景點1': '江戶東京博物館 - 開車 3 分鐘', '鄰近景點2': '歌舞伎座 - 開車 4 分鐘', '鄰近景點3': '秋葉原電器街 - 開車 4 分鐘', '鄰近景點4': '皇居 - 開車 4 分鐘', '鄰近景點5': '皇居東御苑 - 開車 6 分鐘', '飯店名稱': 'LYURO 共享飯店 - 青年旅舍'}\n",
      "{'age': 7, 'been2tko': 1, 'days': 7, 'totalBudget': 40000, 'gender': 0, 'oneBudget': 200}\n",
      "[{'age': 37, 'cp_rating_dinner': 4.11, 'cp_rating_lunch': 4.09, 'feeling_rating_dinner': 3.9, 'feeling_rating_lunch': 4.01, 'female_prop': 23.89, 'label_code': 1, 'label_desc': '平消族', 'lat': 35.661919, 'lng': 139.7540415, 'male_prop': 76.11, 'meal_duration': 1.0, 'prices_dinner': 4961, 'prices_lunch': 425, 'rest_addr': '東京都港區新橋6-13-3', 'rest_area': '濱松町・芝公園', 'rest_catg': '壽司', 'rest_rating': 3.97, 'service_rating_dinner': 3.77, 'service_rating_lunch': 4.03, 'store_nm_en': 'Tomidokoro', 'store_nm_jp': '冨所', 'transport': '距离御成門 290  米'}, {'age': 42, 'cp_rating_dinner': 3.64, 'cp_rating_lunch': 4.43, 'feeling_rating_dinner': 4.09, 'feeling_rating_lunch': 4.32, 'female_prop': 23.73, 'label_code': 1, 'label_desc': '平消族', 'lat': 35.6705623, 'lng': 139.7606164, 'male_prop': 76.27, 'meal_duration': 1.0, 'prices_dinner': 9922, 'prices_lunch': 425, 'rest_addr': '東京都中央區銀座7-3-16', 'rest_area': '銀座', 'rest_catg': '壽司', 'rest_rating': 3.96, 'service_rating_dinner': 3.98, 'service_rating_lunch': 4.49, 'store_nm_en': 'Nojima', 'store_nm_jp': '野じま', 'transport': '距离銀座 362  米'}, {'age': 39, 'cp_rating_dinner': 3.92, 'cp_rating_lunch': 4.2, 'feeling_rating_dinner': 4.04, 'feeling_rating_lunch': 4.12, 'female_prop': 24.2, 'label_code': 0, 'label_desc': '高消族', 'lat': 35.6853727, 'lng': 139.7287997, 'male_prop': 75.8, 'meal_duration': 1.0, 'prices_dinner': 7087, 'prices_lunch': 709, 'rest_addr': '東京都新宿區四穀1-11', 'rest_area': '四之谷', 'rest_catg': '壽司', 'rest_rating': 4.49, 'service_rating_dinner': 4.22, 'service_rating_lunch': 4.16, 'store_nm_en': 'Sushi Sho', 'store_nm_jp': 'すし匠', 'transport': 'ＪＲ中央線、東京メトロ丸ノ内線・南北線【四ツ谷駅】徒歩4分\\n\\n\\n距离四谷 193  米'}, {'age': 43, 'cp_rating_dinner': 2.84, 'cp_rating_lunch': 3.14, 'feeling_rating_dinner': 3.59, 'feeling_rating_lunch': 3.75, 'female_prop': 23.67, 'label_code': 1, 'label_desc': '平消族', 'lat': 35.6978715, 'lng': 139.8029173, 'male_prop': 76.33, 'meal_duration': 1.0, 'prices_dinner': 1559, 'prices_lunch': 425, 'rest_addr': '東京都墨田區龜澤1-6-5', 'rest_area': '兩國・錦系町', 'rest_catg': '蕎麥麵/天婦羅', 'rest_rating': 3.78, 'service_rating_dinner': 3.05, 'service_rating_lunch': 3.28, 'store_nm_en': 'Edosobahosokawa', 'store_nm_jp': '江戸蕎麦ほそ川', 'transport': '都営地下鉄大江戸線【両国駅】徒歩２分\\nＪＲ総武線【両国駅】東口\\u3000徒歩７分\\n\\n\\n距离兩國 407  米'}, {'age': 39, 'cp_rating_dinner': 3.57, 'cp_rating_lunch': 3.91, 'feeling_rating_dinner': 4.09, 'feeling_rating_lunch': 4.38, 'female_prop': 23.91, 'label_code': 0, 'label_desc': '高消族', 'lat': 35.6701362, 'lng': 139.7611416, 'male_prop': 76.09, 'meal_duration': 1.0, 'prices_dinner': 7087, 'prices_lunch': 7087, 'rest_addr': '東京都中央區銀座7-4-5', 'rest_area': '銀座', 'rest_catg': '天婦羅', 'rest_rating': 3.84, 'service_rating_dinner': 4.07, 'service_rating_lunch': 4.3, 'store_nm_en': 'Tempuraiwai', 'store_nm_jp': '天冨良 いわ井', 'transport': '距离銀座 338  米'}, {'age': 42, 'cp_rating_dinner': 3.56, 'cp_rating_lunch': 2.9, 'feeling_rating_dinner': 4.02, 'feeling_rating_lunch': 4.6, 'female_prop': 23.79, 'label_code': 1, 'label_desc': '平消族', 'lat': 35.6857974, 'lng': 139.7830806, 'male_prop': 76.21, 'meal_duration': 1.0, 'prices_dinner': 4961, 'prices_lunch': 3543, 'rest_addr': '東京都中央區日本橋人形町2-5-1', 'rest_area': '人形町・小傳馬町', 'rest_catg': '壽喜燒/和式餐馆 / 小菜', 'rest_rating': 3.82, 'service_rating_dinner': 3.88, 'service_rating_lunch': 4.4, 'store_nm_en': 'sukiyakikappouhiyama', 'store_nm_jp': 'すき焼割烹 日山', 'transport': '東京メトロ日比谷線・都営浅草線「人形町」駅より徒歩2分。\\n東京メトロ半蔵門線「水天宮」駅より徒歩5分\\n都営新宿線「浜町」駅より徒歩7分\\n\\n\\n距离人形町 66  米'}, {'age': 41, 'cp_rating_dinner': 3.32, 'cp_rating_lunch': 3.32, 'feeling_rating_dinner': 3.29, 'feeling_rating_lunch': 3.36, 'female_prop': 23.47, 'label_code': 1, 'label_desc': '平消族', 'lat': 35.6870985, 'lng': 139.764569, 'male_prop': 76.53, 'meal_duration': 1.0, 'prices_dinner': 142, 'prices_lunch': 142, 'rest_addr': '東京都韆代田區汍の內1-9-1', 'rest_area': '丸之內・大手町', 'rest_catg': '沾麵/拉麵', 'rest_rating': 3.79, 'service_rating_dinner': 3.37, 'service_rating_lunch': 3.36, 'store_nm_en': 'Rokurinsha', 'store_nm_jp': '六厘舎', 'transport': 'JR各線「東京」駅の八重洲口B1F\\n在来線、東海道新幹線 八重洲中央南口改札を出て、すぐ右へ。階段下りてすぐ 。\\nもしくは、八重洲地下中央改札出て右へ。突き当たり手前左側。\\n\\n\\n距离東京 130  米'}, {'age': 39, 'cp_rating_dinner': 3.98, 'cp_rating_lunch': 3.83, 'feeling_rating_dinner': 3.34, 'feeling_rating_lunch': 2.95, 'female_prop': 23.77, 'label_code': 1, 'label_desc': '平消族', 'lat': 35.6575445, 'lng': 139.5734779, 'male_prop': 76.23, 'meal_duration': 1.0, 'prices_dinner': 142, 'prices_lunch': 142, 'rest_addr': '東京都調佈市西つつじヶ丘3-25-52', 'rest_area': '調布', 'rest_catg': '拉麵', 'rest_rating': 3.85, 'service_rating_dinner': 3.32, 'service_rating_lunch': 2.84, 'store_nm_en': 'Shibasakitei', 'store_nm_jp': '柴崎亭', 'transport': '京王線つつじヶ丘駅より徒歩三分\\n\\n\\n距离杜鵑丘 131  米'}, {'age': 37, 'cp_rating_dinner': 3.63, 'cp_rating_lunch': 3.82, 'feeling_rating_dinner': 3.47, 'feeling_rating_lunch': 3.47, 'female_prop': 23.65, 'label_code': 1, 'label_desc': '平消族', 'lat': 35.7645598, 'lng': 139.7257992, 'male_prop': 76.35, 'meal_duration': 1.0, 'prices_dinner': 142, 'prices_lunch': 425, 'rest_addr': '東京都北區中十條3-16-15', 'rest_area': '十條', 'rest_catg': '拉麵/沾麵/油麵', 'rest_rating': 3.77, 'service_rating_dinner': 3.48, 'service_rating_lunch': 3.35, 'store_nm_en': 'Sansanto', 'store_nm_jp': '燦燦斗', 'transport': 'JR京浜東北線「東十条」駅(北口)から徒歩2分\\n北口を出てすぐ左手側にある坂道をくだる途中にあります。\\n※階段を降りてはいけません。\\n\\n\\n距离東十條 111  米'}, {'age': 37, 'cp_rating_dinner': 3.49, 'cp_rating_lunch': 3.64, 'feeling_rating_dinner': 4.3, 'feeling_rating_lunch': 4.39, 'female_prop': 24.45, 'label_code': 1, 'label_desc': '平消族', 'lat': 35.6674536, 'lng': 139.7068537, 'male_prop': 75.55, 'meal_duration': 1.0, 'prices_dinner': 7087, 'prices_lunch': 3543, 'rest_addr': '東京都澀穀區神宮前5-10-1', 'rest_area': '原宿', 'rest_catg': '鐵板燒/牛排', 'rest_rating': 3.76, 'service_rating_dinner': 4.16, 'service_rating_lunch': 4.32, 'store_nm_en': 'OMOTESANDO Ukai-tei', 'store_nm_jp': '表参道うかい亭', 'transport': '地下鉄銀座線・千代田線・半蔵門線\\u3000表参道駅A1出口\\u3000徒歩5分\\n地下鉄千代田線・副都心線\\u3000明治神宮駅4番出口\\u3000徒歩3分\\nＪＲ原宿駅\\u3000徒歩7分\\n\\n\\n距离明治神宮前 323  米'}, {'age': 41, 'cp_rating_dinner': 3.2, 'cp_rating_lunch': 3.2, 'feeling_rating_dinner': 3.61, 'feeling_rating_lunch': 3.57, 'female_prop': 23.81, 'label_code': 1, 'label_desc': '平消族', 'lat': 35.7079336, 'lng': 139.7723083, 'male_prop': 76.19, 'meal_duration': 2.0, 'prices_dinner': 1276, 'prices_lunch': 709, 'rest_addr': '東京都文京區湯島3-40-7', 'rest_area': '上野・御徒町・湯島', 'rest_catg': '西式料理/牛肉飯/漢堡', 'rest_rating': 3.77, 'service_rating_dinner': 3.51, 'service_rating_lunch': 3.44, 'store_nm_en': 'Gensenyoushokusakurai', 'store_nm_jp': '厳選洋食さくらい', 'transport': '東京メトロ銀座線上野広小路駅より徒歩1分 \\n山手線御徒町駅より徒歩3分\\n\\n\\n距离上野廣小路 73  米'}, {'age': 35, 'cp_rating_dinner': 3.29, 'cp_rating_lunch': 3.31, 'feeling_rating_dinner': 3.8, 'feeling_rating_lunch': 4.24, 'female_prop': 23.85, 'label_code': 1, 'label_desc': '平消族', 'lat': 35.6286527, 'lng': 139.6490352, 'male_prop': 76.15, 'meal_duration': 1.0, 'prices_dinner': 142, 'prices_lunch': 425, 'rest_addr': '東京都世田穀區新町2-6-14', 'rest_area': '駒澤大學～用賀', 'rest_catg': '印度咖哩/印度料理', 'rest_rating': 3.83, 'service_rating_dinner': 3.74, 'service_rating_lunch': 4.04, 'store_nm_en': 'Sunanomisaki', 'store_nm_jp': '砂の岬', 'transport': '東急田園都市線桜新町駅\\n\\n\\n距离櫻新町 498  米'}, {'age': 44, 'cp_rating_dinner': 3.24, 'cp_rating_lunch': 3.24, 'feeling_rating_dinner': 3.98, 'feeling_rating_lunch': 4.32, 'female_prop': 24.39, 'label_code': 1, 'label_desc': '平消族', 'lat': 35.6995577, 'lng': 139.4108183, 'male_prop': 75.61, 'meal_duration': 1.0, 'prices_dinner': 1984, 'prices_lunch': 709, 'rest_addr': '東京都立川市曙町1-28-5', 'rest_area': '立川', 'rest_catg': '蕎麥麵/懷石 / 會席料理', 'rest_rating': 3.76, 'service_rating_dinner': 3.67, 'service_rating_lunch': 3.7, 'store_nm_en': 'Muan', 'store_nm_jp': '蕎麦懐石 無庵', 'transport': 'ＪＲ中央線、青梅線、南武線「立川駅」北口から徒歩６分。\\nまたは、多摩モノレール「立川北駅」北口から徒歩３分。\\n\\n\\n距离立川北 154  米'}, {'age': 39, 'cp_rating_dinner': 3.96, 'cp_rating_lunch': 4.0, 'feeling_rating_dinner': 3.35, 'feeling_rating_lunch': 3.27, 'female_prop': 23.48, 'label_code': 1, 'label_desc': '平消族', 'lat': 35.6854123, 'lng': 139.7753649, 'male_prop': 76.52, 'meal_duration': 1.5, 'prices_dinner': 142, 'prices_lunch': 142, 'rest_addr': '東京都中央區日本橋室町1-11-15', 'rest_area': '日本橋・京橋', 'rest_catg': '炸蝦丼飯・炸蝦便當/便當/星鰻', 'rest_rating': 3.77, 'service_rating_dinner': 3.39, 'service_rating_lunch': 3.28, 'store_nm_en': 'nihombashitendonkanekohannosuke', 'store_nm_jp': '日本橋 天丼 金子半之助 本店', 'transport': '東京メトロ半蔵門線・銀座線「三越前」駅(A1出口)から徒歩1分\\n東京メトロ東西線「日本橋」駅から徒歩4分\\nJR総武本線「新日本橋」駅から徒歩5分\\n\\n\\n距离三越前 157  米'}]\n"
     ]
    },
    {
     "name": "stdout",
     "output_type": "stream",
     "text": [
      "=====================\n",
      " 第1天行程：\n",
      "雷門 Nakamise Shopping Street (Kaminarimon)約5.0 公里，景點間通勤約需11 分鐘。\n",
      "---------------\n",
      "淺草文化觀光中心 Asakusa Culture Tourist Information Center約61 公尺，景點間通勤約需1 分鐘。\n",
      "---------------\n",
      "淺草 Asakusa約2.0 公里，景點間通勤約需8 分鐘。\n",
      "---------------\n",
      "\n",
      "地圖連結：https://45a28610.ngrok.io/images/day1-U374824a0557f0767db8c194dae6c6002-1574398133142map.html\n",
      "===============\n",
      "第2天行程：\n",
      "東京迪士尼樂園 Tokyo Disneyland約13.4 公里，景點間通勤約需19 分鐘。\n",
      "---------------\n",
      "\n",
      "地圖連結：https://45a28610.ngrok.io/images/day2-U374824a0557f0767db8c194dae6c6002-1574398133142map.html\n",
      "===============\n",
      "第3天行程：\n",
      "東京都庭園美術館 Tokyo Metropolitan Teien Art Museum約12.7 公里，景點間通勤約需17 分鐘。\n",
      "---------------\n",
      "原宿竹下通 Takeshita Street約6.4 公里，景點間通勤約需20 分鐘。\n",
      "---------------\n",
      "東京馬拉松 Tokyo Marathon約3.6 公里，景點間通勤約需13 分鐘。\n",
      "---------------\n",
      "\n",
      "地圖連結：https://45a28610.ngrok.io/images/day3-U374824a0557f0767db8c194dae6c6002-1574398133142map.html\n",
      "===============\n",
      "第4天行程：\n",
      "目黑寄生蟲館 Meguro Parasitological Museum約13.7 公里，景點間通勤約需21 分鐘。\n",
      "---------------\n",
      "三得利美術館 Suntory Museum of Art約7.0 公里，景點間通勤約需15 分鐘。\n",
      "---------------\n",
      "東京寶塚劇場 Tokyo Takarazuka Theater約3.6 公里，景點間通勤約需13 分鐘。\n",
      "---------------\n",
      "\n",
      "地圖連結：https://45a28610.ngrok.io/images/day4-U374824a0557f0767db8c194dae6c6002-1574398133142map.html\n",
      "===============\n",
      "第5天行程：\n",
      "新大久保韓國城 Shin Okubo Korean Town約12.3 公里，景點間通勤約需24 分鐘。\n",
      "---------------\n",
      "中野百老匯 Nakano Broadway約4.2 公里，景點間通勤約需16 分鐘。\n",
      "---------------\n",
      " Billboard Live音樂餐廳 Billboard Live Tokyo約14.7 公里，景點間通勤約需28 分鐘。\n",
      "---------------\n",
      "\n",
      "地圖連結：https://45a28610.ngrok.io/images/day5-U374824a0557f0767db8c194dae6c6002-1574398133142map.html\n",
      "===============\n",
      "第6天行程：\n",
      "上野東照宮 Toshogu Shrine約5.8 公里，景點間通勤約需16 分鐘。\n",
      "---------------\n",
      "東京國立博物館 Tokyo National Museum約1.3 公里，景點間通勤約需5 分鐘。\n",
      "---------------\n",
      "東京都美術館 Tokyo Metropolitan Art Museum約1.9 公里，景點間通勤約需7 分鐘。\n",
      "---------------\n",
      "\n",
      "地圖連結：https://45a28610.ngrok.io/images/day6-U374824a0557f0767db8c194dae6c6002-1574398133142map.html\n",
      "===============\n",
      "第7天行程：\n",
      "日比谷公園 Hibiya Park約4.9 公里，景點間通勤約需15 分鐘。\n",
      "---------------\n",
      "東京海賊王塔 TOKYO ONE PIECE TOWER約2.4 公里，景點間通勤約需8 分鐘。\n",
      "---------------\n",
      "代代木八幡宮 Yoyogi Hachimangu Shrine約9.0 公里，景點間通勤約需17 分鐘。\n",
      "---------------\n",
      "\n",
      "地圖連結：https://45a28610.ngrok.io/images/day7-U374824a0557f0767db8c194dae6c6002-1574398133142map.html\n",
      "===============\n",
      " \n",
      "=======================\n",
      "type ==> <class 'linebot.exceptions.LineBotApiError'>\n",
      "value ==> LineBotApiError: status_code=400, error_response={\"details\": [{\"message\": \"Length must be between 0 and 2000\", \"property\": \"messages[1].text\"}], \"message\": \"The request body has 1 error(s)\"}\n",
      "traceback ==> file name: <ipython-input-25-a23c8ff16dbb>\n",
      "traceback ==> line no: 156\n",
      "traceback ==> function name: handle_message\n",
      "::tripStart:\n",
      "Erving,U374824a0557f0767db8c194dae6c6002\n",
      "{\"data\": \"tripStart\"}\n",
      "1574398133144,2019-11-22 04:48:53.144000\n",
      "Erving,U374824a0557f0767db8c194dae6c6002\n",
      "{\"data\": \"tripStart\"}\n",
      "1574398133410,2019-11-22 04:48:53.410000\n",
      "{'age': 7, 'been2tko': 1, 'days': 7, 'budget': 40000, 'isFemale': 0, 'fbudget': 12000, 'dDate': '2020-03-31', 'rDate': '2020-04-07'}\n",
      "{'airline': 'Tigerair Taiwan', 'date_format(eta,\"%a\")': 'Tue', 'date_format(etd,\"%a\")': 'Tue', 'date_format(tuEta,\"%a\")': 'Tue', 'date_format(tuEtd,\"%a\")': 'Tue', 'price': 8067, 'time_format(eta,\"%T\")': '10:35:00', 'time_format(etd,\"%T\")': '06:35:00', 'time_format(sec_to_time(dur),\"%T\")': '03:00:00', 'time_format(sec_to_time(tuDur),\"%T\")': '03:55:00', 'time_format(tuEta,\"%T\")': '07:55:00', 'time_format(tuEtd,\"%T\")': '05:00:00'}\n",
      "bk by tue\n",
      "{'age': 7, 'been2tko': 1, 'howlong': 7, 'budget': 40000, 'isFemale': 0, 'with_child': 0, 'crampedSechedule': False}\n",
      "['[{\"index\":2,\"name\":\"淺草 Asakusa\",\"rank\":\"排名第 1的台東區觀光 (共560家)\",\"address\":\"東京都台東區\",\"child\":0.0087715012,\"latitude\":35.7125736,\"longitude\":139.7802043,\"score\":241,\"chosen\":true},{\"index\":48,\"name\":\"雷門 Nakamise Shopping Street (Kaminarimon)\",\"rank\":\"排名第 18的台東區觀光 (共560家)\",\"address\":\"東京都台東區淺草1丁目3\",\"child\":0.0048539208,\"latitude\":35.7110859,\"longitude\":139.7959648,\"score\":114,\"chosen\":true},{\"index\":35,\"name\":\"淺草文化觀光中心 Asakusa Culture Tourist Information Center\",\"rank\":\"排名第 3的台東區觀光 (共560家)\",\"address\":\"東京都台東區2-18-9 Kaminarimon111-0034\",\"child\":0.0040560983,\"latitude\":35.7106489,\"longitude\":139.7965348,\"score\":106,\"chosen\":true}]', '[{\"index\":264,\"name\":\"東京迪士尼樂園 Tokyo Disneyland\",\"rank\":\"排名第 2的Maihama觀光 (共5家)\",\"address\":\"千葉縣浦安Maihama1-1279-8511\",\"child\":1.0,\"latitude\":35.632906,\"longitude\":139.880391,\"score\":94,\"chosen\":true}]', '[{\"index\":153,\"name\":\"山種美術館 Yamatane Museum of Art\",\"rank\":\"排名第 17的澀谷區觀光 (共279家)\",\"address\":\"東京都澀谷區3-12-36 Hiroo150-0012\",\"child\":0.0,\"latitude\":35.6532706,\"longitude\":139.7138439,\"score\":70,\"chosen\":true},{\"index\":52,\"name\":\"葛西臨海水族園 Tokyo Sea Life Park\",\"rank\":\"排名第 2的江戶川區觀光 (共191家)\",\"address\":\"東京都江戶川區臨海町6-2-3134-0086\",\"child\":0.2949781858,\"latitude\":35.6423888,\"longitude\":139.8602808,\"score\":114,\"chosen\":true},{\"index\":62,\"name\":\"台場海濱公園 Odaiba Kaihin Koen (Odaiba Seaside Park)\",\"rank\":\"排名第 4的Daiba觀光 (共13家)\",\"address\":\"東京都港區Daiba台場1135-0091\",\"child\":0.1082088599,\"latitude\":35.6311555,\"longitude\":139.7787019,\"score\":183,\"chosen\":true}]', '[{\"index\":188,\"name\":\"東京寶塚劇場 Tokyo Takarazuka Theater\",\"rank\":\"排名第 19的千代田區觀光 (共446家)\",\"address\":\"東京都千代田區1-1-3 YurakuchoTokyo Takarazuka Building100-0006\",\"child\":0.0,\"latitude\":35.6727297,\"longitude\":139.7592161,\"score\":70,\"chosen\":true},{\"index\":104,\"name\":\"三得利美術館 Suntory Museum of Art\",\"rank\":\"排名第 23的港區觀光 (共626家)\",\"address\":\"東京都港區9-7-4 Akasaka107-8643\",\"child\":0.0,\"latitude\":35.6662189,\"longitude\":139.730226,\"score\":70,\"chosen\":true},{\"index\":76,\"name\":\"原宿竹下通 Takeshita Street\",\"rank\":\"排名第 3的Jingumae觀光 (共24家)\",\"address\":\"東京都澀谷區Jingumae神宮前一丁目150-0001\",\"child\":0.2093790616,\"latitude\":35.671872,\"longitude\":139.7051782,\"score\":293,\"chosen\":true}]', '[{\"index\":192,\"name\":\"隅田川花火大會 Sumida River Fireworks\",\"rank\":\"排名第 12的墨田區觀光 (共264家)\",\"address\":\"東京都墨田區\",\"child\":0.0,\"latitude\":35.7107479,\"longitude\":139.8016393,\"score\":70,\"chosen\":true},{\"index\":260,\"name\":\"板橋花火節 Itabashi Fireworks\",\"rank\":\"排名第 1的板橋區觀光 (共81家)\",\"address\":\"東京都板橋區4 Funado174-0041\",\"child\":0.0,\"latitude\":35.7512308,\"longitude\":139.7185838,\"score\":70,\"chosen\":true},{\"index\":193,\"name\":\"大江戶古董市場 - 東京國際論壇 Oedo Antique Market - Tokyo International Forum\",\"rank\":\"排名第 55的千代田區觀光 (共446家)\",\"address\":\"東京都千代田區3-5-1 MarunouchiTokyo International Forum100-0005\",\"child\":0.0199828611,\"latitude\":35.6767429,\"longitude\":139.7637532,\"score\":84,\"chosen\":true}]', '[{\"index\":108,\"name\":\" Nissan Crossing\",\"rank\":\"排名第 6的中央區觀光 (共577家)\",\"address\":\"東京都中央區5-8-1 GInzaGinza Place 1F, 2F104-0061\",\"child\":0.0,\"latitude\":35.6708171,\"longitude\":139.7650395,\"score\":70,\"chosen\":true},{\"index\":152,\"name\":\"皇居外苑 Kokyo Gaien National Garden\",\"rank\":\"排名第 13的千代田區觀光 (共446家)\",\"address\":\"東京都千代田區皇居外苑3-1100-0002\",\"child\":0.0,\"latitude\":35.6834249,\"longitude\":139.7604161,\"score\":114,\"chosen\":true},{\"index\":184,\"name\":\" Tokyo Character Street\",\"rank\":\"排名第 31的千代田區觀光 (共446家)\",\"address\":\"東京都千代田區1-9-1 MarunouchiFirst Avenue Tokyo Station100-0005\",\"child\":0.4722571538,\"latitude\":35.6821592,\"longitude\":139.7684383,\"score\":114,\"chosen\":true}]', '[{\"index\":42,\"name\":\"東京海賊王塔 TOKYO ONE PIECE TOWER\",\"rank\":\"排名第 16的港區觀光 (共626家)\",\"address\":\"東京都港區4-2-8 ShibakoenTokyo Tower Foot Town105-0011\",\"child\":0.2333411224,\"latitude\":35.658595,\"longitude\":139.745442,\"score\":70,\"chosen\":true},{\"index\":259,\"name\":\" Meiji Kinenkan\",\"rank\":\"排名第 25的港區觀光 (共626家)\",\"address\":\"東京都港區2-2-23 Moto-Akasaka107-0051\",\"child\":0.0,\"latitude\":35.6780988,\"longitude\":139.7221567,\"score\":114,\"chosen\":true},{\"index\":38,\"name\":\"上野阿美橫丁商店街 Ameyoko Shopping Street\",\"rank\":\"排名第 2的Ueno觀光 (共7家)\",\"address\":\"東京都台東區UenoUeno\",\"child\":0.012643587,\"latitude\":35.7087296,\"longitude\":139.7741538,\"score\":400,\"chosen\":true}]']\n",
      "{'age': 7, 'been2tko': 1, 'days': 7, 'budget': 40000, 'isFemale': 0, 'hotel budget': 2000}\n",
      "{'CP': 2.567094516, 'pre': 2.0, '交通1': '馬?町站 - 走路 2 分鐘', '交通2': '馬??山站 - 走路 3 分鐘', '交通3': '東京, 日本 (HND-羽田機場) - 車程 16 分鐘', '交通便利性': '2', '價格': 1714.0, '地址': '1-14-1 Higashi Kanda, 東京, 東京', '廚房': 0.0, '星等': 3.0, '經度': 139.781061, '網址': 'https://www.expedia.com.tw/Tokyo-Hotels-APA-Hotel-Nihombashi-Bakurocho-Ekikita.h22177446.Hotel-Information?chkin=2019%2F10%2F4&chkout=2019%2F10%2F5&regionId=179900&destination=%E6%9D%B1%E4%BA%AC+%28%E5%8F%8A%E9%84%B0%E8%BF%91%E5%9C%B0%E5%8D%80%29%2C+%E6%97%A5%E6%9C%AC&swpToggleOn=true&rm1=a1&x_pwa=1&sort=recommended&top_dp=1714&top_cur=TWD&rfrr=HSR&pwa_ts=1570019075357', '緯度': 35.693651, '評價': 4.4, '鄰近景點1': '秋葉原電器街 - 步行 14 分鐘', '鄰近景點2': '上野公園 - 開車 3 分鐘', '鄰近景點3': '淺草神社 - 開車 3 分鐘', '鄰近景點4': '淺草寺雷門 - 開車 3 分鐘', '鄰近景點5': '皇居東御苑 - 開車 5 分鐘', '飯店名稱': '日本橋馬?町車站 APA 飯店'}\n",
      "{'age': 7, 'been2tko': 1, 'days': 7, 'totalBudget': 40000, 'gender': 0, 'oneBudget': 200}\n",
      "[{'age': 40, 'cp_rating_dinner': 3.79, 'cp_rating_lunch': 4.24, 'feeling_rating_dinner': 4.02, 'feeling_rating_lunch': 4.23, 'female_prop': 24.16, 'label_code': 0, 'label_desc': '高消族', 'lat': 35.6710214, 'lng': 139.7620421, 'male_prop': 75.84, 'meal_duration': 1.0, 'prices_dinner': 9922, 'prices_lunch': 4961, 'rest_addr': '東京都中央區銀座6-5-15', 'rest_area': '銀座', 'rest_catg': '壽司', 'rest_rating': 4.31, 'service_rating_dinner': 3.88, 'service_rating_lunch': 3.98, 'store_nm_en': 'sushisuzuki', 'store_nm_jp': '鮨 鈴木', 'transport': '有楽町駅、新橋駅、銀座駅\\n銀座駅B9出口（ソニービル入口）から徒歩3分\\n\\n\\n距离銀座 210  米'}, {'age': 34, 'cp_rating_dinner': 4.3, 'cp_rating_lunch': 3.89, 'feeling_rating_dinner': 4.18, 'feeling_rating_lunch': 3.89, 'female_prop': 23.73, 'label_code': 1, 'label_desc': '平消族', 'lat': 35.6641535, 'lng': 139.6939837, 'male_prop': 76.27, 'meal_duration': 1.0, 'prices_dinner': 4961, 'prices_lunch': 425, 'rest_addr': '東京都澀穀區神山町8-2', 'rest_area': '澀谷', 'rest_catg': '壽司/魚類料理・海鮮料理', 'rest_rating': 3.85, 'service_rating_dinner': 4.24, 'service_rating_lunch': 3.72, 'store_nm_en': 'sushirizaki', 'store_nm_jp': '鮨 利﨑', 'transport': '渋谷駅より徒歩13分\\n代々木公園駅より徒歩9分 \\n神泉駅より徒歩12分\\n\\n\\n距离代代木公園 649  米'}, {'age': 36, 'cp_rating_dinner': 3.95, 'cp_rating_lunch': 4.44, 'feeling_rating_dinner': 3.97, 'feeling_rating_lunch': 3.71, 'female_prop': 23.7, 'label_code': 1, 'label_desc': '平消族', 'lat': 35.6616402, 'lng': 139.7276928, 'male_prop': 76.3, 'meal_duration': 1.0, 'prices_dinner': 7087, 'prices_lunch': 425, 'rest_addr': '東京都港區西痲佈1-2-3', 'rest_area': '六本木・乃木坂・西麻布', 'rest_catg': '壽司', 'rest_rating': 3.94, 'service_rating_dinner': 3.95, 'service_rating_lunch': 3.71, 'store_nm_en': 'Murase', 'store_nm_jp': '鮓 村瀬', 'transport': 'メトロ六本木駅2番出口から徒歩5分\\n\\n\\n距离六本木 345  米'}, {'age': 43, 'cp_rating_dinner': 3.36, 'cp_rating_lunch': 3.54, 'feeling_rating_dinner': 3.37, 'feeling_rating_lunch': 3.49, 'female_prop': 23.83, 'label_code': 1, 'label_desc': '平消族', 'lat': 35.6954922, 'lng': 139.7684364, 'male_prop': 76.17, 'meal_duration': 1.0, 'prices_dinner': 142, 'prices_lunch': 709, 'rest_addr': '東京都韆代田區神田須田町1-8-4', 'rest_area': '神田・御茶之水', 'rest_catg': '炸豬排/炸豬丼飯・炸豬排便當', 'rest_rating': 3.83, 'service_rating_dinner': 3.37, 'service_rating_lunch': 3.48, 'store_nm_en': 'Tonkatsuyamaichi', 'store_nm_jp': 'とんかつ やまいち', 'transport': '東京メトロ丸ノ内線【淡路町駅】徒歩１分（Ａ１地上口）\\n都営地下鉄新宿線【小川町駅】徒歩２分\\n東京メトロ銀座線【神田駅】徒歩４分\\nＪＲ中央線・山手線・京浜東北線【神田駅】徒歩７分\\n\\n\\n距离淡路町 103  米'}, {'age': 43, 'cp_rating_dinner': 2.84, 'cp_rating_lunch': 3.14, 'feeling_rating_dinner': 3.59, 'feeling_rating_lunch': 3.75, 'female_prop': 23.67, 'label_code': 1, 'label_desc': '平消族', 'lat': 35.6978715, 'lng': 139.8029173, 'male_prop': 76.33, 'meal_duration': 1.0, 'prices_dinner': 1559, 'prices_lunch': 425, 'rest_addr': '東京都墨田區龜澤1-6-5', 'rest_area': '兩國・錦系町', 'rest_catg': '蕎麥麵/天婦羅', 'rest_rating': 3.78, 'service_rating_dinner': 3.05, 'service_rating_lunch': 3.28, 'store_nm_en': 'Edosobahosokawa', 'store_nm_jp': '江戸蕎麦ほそ川', 'transport': '都営地下鉄大江戸線【両国駅】徒歩２分\\nＪＲ総武線【両国駅】東口\\u3000徒歩７分\\n\\n\\n距离兩國 407  米'}, {'age': 43, 'cp_rating_dinner': 3.25, 'cp_rating_lunch': 3.17, 'feeling_rating_dinner': 4.1, 'feeling_rating_lunch': 4.23, 'female_prop': 22.36, 'label_code': 1, 'label_desc': '平消族', 'lat': 35.696381, 'lng': 139.768758, 'male_prop': 77.64, 'meal_duration': 1.0, 'prices_dinner': 2551, 'prices_lunch': 2551, 'rest_addr': '東京都韆代田區神田須田町1-15', 'rest_area': '神田・御茶之水', 'rest_catg': '壽喜燒/雞肉料理', 'rest_rating': 3.76, 'service_rating_dinner': 3.48, 'service_rating_lunch': 3.42, 'store_nm_en': 'Botan', 'store_nm_jp': 'ぼたん', 'transport': '東京メトロ丸ノ内線 淡路町駅 A3番出口 徒歩2分\\n都営新宿線 小川町駅 A3番出口 徒歩2分\\n東京メトロ銀座線 神田駅 6番出口 徒歩5分\\nＪＲ 神田駅 東口 徒歩7分\\nＪＲ 秋葉原駅 電気街口 徒歩7分\\nＪＲ 御茶ノ水駅 聖橋口 徒歩7分\\n\\n\\n距离淡路町 197  米'}, {'age': 37, 'cp_rating_dinner': 3.93, 'cp_rating_lunch': 3.98, 'feeling_rating_dinner': 3.42, 'feeling_rating_lunch': 3.68, 'female_prop': 23.93, 'label_code': 1, 'label_desc': '平消族', 'lat': 35.7500749, 'lng': 139.543763, 'male_prop': 76.07, 'meal_duration': 1.0, 'prices_dinner': 142, 'prices_lunch': 142, 'rest_addr': '東京都西東京市穀戶町3-27-24', 'rest_area': '西東京', 'rest_catg': '拉麵', 'rest_rating': 3.77, 'service_rating_dinner': 3.58, 'service_rating_lunch': 3.8, 'store_nm_en': 'Ramenjirou', 'store_nm_jp': 'ラーメン二郎 ひばりヶ丘駅前店', 'transport': '西武池袋線ひばりヶ丘駅から、徒歩3分（0.2km）です。\\n改札出て南口→階段降りてロータリー。正面の大通りのりそな銀行の裏手の細い道。\\nひばりが丘プラザ１階\\n\\n\\n距离雲雀丘 257  米'}, {'age': 42, 'cp_rating_dinner': 3.32, 'cp_rating_lunch': 3.3, 'feeling_rating_dinner': 3.29, 'feeling_rating_lunch': 3.31, 'female_prop': 23.56, 'label_code': 1, 'label_desc': '平消族', 'lat': 35.6870985, 'lng': 139.764569, 'male_prop': 76.44, 'meal_duration': 1.0, 'prices_dinner': 142, 'prices_lunch': 142, 'rest_addr': '東京都韆代田區汍の內1-9-1', 'rest_area': '丸之內・大手町', 'rest_catg': '沾麵/拉麵', 'rest_rating': 3.79, 'service_rating_dinner': 3.37, 'service_rating_lunch': 3.41, 'store_nm_en': 'Rokurinsha', 'store_nm_jp': '六厘舎', 'transport': 'JR各線「東京」駅の八重洲口B1F\\n在来線、東海道新幹線 八重洲中央南口改札を出て、すぐ右へ。階段下りてすぐ 。\\nもしくは、八重洲地下中央改札出て右へ。突き当たり手前左側。\\n\\n\\n距离東京 130  米'}, {'age': 41, 'cp_rating_dinner': 3.39, 'cp_rating_lunch': 3.37, 'feeling_rating_dinner': 3.48, 'feeling_rating_lunch': 3.22, 'female_prop': 23.79, 'label_code': 1, 'label_desc': '平消族', 'lat': 35.679585, 'lng': 139.8699329, 'male_prop': 76.21, 'meal_duration': 1.0, 'prices_dinner': 142, 'prices_lunch': 142, 'rest_addr': '東京都江戶川區船堀6-7-13', 'rest_area': '船堀～篠崎', 'rest_catg': '拉麵', 'rest_rating': 3.77, 'service_rating_dinner': 3.45, 'service_rating_lunch': 3.43, 'store_nm_en': 'Ooshima', 'store_nm_jp': '大島', 'transport': '船堀駅徒歩8分\\n船堀駅と船堀タワーの間の道を南東方面へ。\\n船堀スポーツ公園を過ぎると右手に店舗が見えます。\\n\\n\\n距离船堀 696  米'}, {'age': 46, 'cp_rating_dinner': 3.02, 'cp_rating_lunch': 3.42, 'feeling_rating_dinner': 3.67, 'feeling_rating_lunch': 3.95, 'female_prop': 23.79, 'label_code': 0, 'label_desc': '高消族', 'lat': 35.6617324, 'lng': 139.7512518, 'male_prop': 76.21, 'meal_duration': 1.0, 'prices_dinner': 19843, 'prices_lunch': 9922, 'rest_addr': '東京都港區西新橋3-23-11', 'rest_area': '濱松町・芝公園', 'rest_catg': '牛排/河豚/螃蟹', 'rest_rating': 3.86, 'service_rating_dinner': 4.01, 'service_rating_lunch': 4.4, 'store_nm_en': 'ARAGAWA', 'store_nm_jp': '麤皮', 'transport': '御成門駅から徒歩1分\\n\\n\\n距离御成門 117  米'}, {'age': 33, 'cp_rating_dinner': 4.02, 'cp_rating_lunch': 4.76, 'feeling_rating_dinner': 4.24, 'feeling_rating_lunch': 4.76, 'female_prop': 24.16, 'label_code': 0, 'label_desc': '高消族', 'lat': 35.6693111, 'lng': 139.7620223, 'male_prop': 75.84, 'meal_duration': 1.0, 'prices_dinner': 4961, 'prices_lunch': 425, 'rest_addr': '東京都中央區銀座7-7-7', 'rest_area': '銀座', 'rest_catg': '燒肉/牛排/和式餐馆 / 小菜', 'rest_rating': 4.26, 'service_rating_dinner': 4.41, 'service_rating_lunch': 4.76, 'store_nm_en': 'USHIGORO S', 'store_nm_jp': 'USHIGORO S. GINZA', 'transport': '東京メトロ 銀座線、日比谷線、丸ノ内線\\n銀座駅 B3番出口より徒歩3分 / A1番出口より徒歩5分\\n東京メトロ 日比谷線、浅草線\\n東銀座駅 A1番出口より徒歩7分\\nJR有楽町駅 中央口より徒歩7分\\nJR新橋駅 銀座口より徒歩8分\\n\\n\\n距离銀座 345  米'}, {'age': 39, 'cp_rating_dinner': 3.51, 'cp_rating_lunch': 3.66, 'feeling_rating_dinner': 3.52, 'feeling_rating_lunch': 3.67, 'female_prop': 23.64, 'label_code': 1, 'label_desc': '平消族', 'lat': 35.6745083, 'lng': 139.7690144, 'male_prop': 76.36, 'meal_duration': 1.0, 'prices_dinner': 709, 'prices_lunch': 142, 'rest_addr': '東京都中央區銀座1-8-2', 'rest_area': '銀座', 'rest_catg': '印度料理/印度咖哩/餐飲酒館', 'rest_rating': 3.79, 'service_rating_dinner': 3.61, 'service_rating_lunch': 3.76, 'store_nm_en': 'Andhra Dining GINZA', 'store_nm_jp': 'アーンドラ・ダイニング 銀座', 'transport': '有楽町線\\u3000銀座１丁目駅\\u3000７番出口より徒歩２分\\n銀座線\\u3000京橋駅\\u3000１番出口より徒歩２分\\nコージーコーナー銀座一丁目店の隣\\n\\n\\n距离銀座一丁目 171  米'}, {'age': 41, 'cp_rating_dinner': 3.81, 'cp_rating_lunch': 3.73, 'feeling_rating_dinner': 3.18, 'feeling_rating_lunch': 3.16, 'female_prop': 23.31, 'label_code': 1, 'label_desc': '平消族', 'lat': 35.7064416, 'lng': 139.7604609, 'male_prop': 76.69, 'meal_duration': 1.0, 'prices_dinner': 142, 'prices_lunch': 142, 'rest_addr': '東京都文京區本鄉2-39-7', 'rest_area': '本鄉・東大周邊', 'rest_catg': '烏龍麵', 'rest_rating': 3.77, 'service_rating_dinner': 3.32, 'service_rating_lunch': 3.24, 'store_nm_en': 'TOKYO LIGHT BLUE HONGO-3', 'store_nm_jp': 'トウキョウライトブルー ホンゴウスリー', 'transport': '東京メトロ本郷三丁目駅より徒歩1分\\n都営大江戸線本郷三丁目駅より徒歩2分\\n本郷通りを南下して御茶ノ水方面へ進み右手数軒目\\n\\n\\n距离本鄉三丁目 114  米'}, {'age': 39, 'cp_rating_dinner': 3.96, 'cp_rating_lunch': 4.0, 'feeling_rating_dinner': 3.35, 'feeling_rating_lunch': 3.27, 'female_prop': 23.48, 'label_code': 1, 'label_desc': '平消族', 'lat': 35.6854123, 'lng': 139.7753649, 'male_prop': 76.52, 'meal_duration': 1.5, 'prices_dinner': 142, 'prices_lunch': 142, 'rest_addr': '東京都中央區日本橋室町1-11-15', 'rest_area': '日本橋・京橋', 'rest_catg': '炸蝦丼飯・炸蝦便當/便當/星鰻', 'rest_rating': 3.77, 'service_rating_dinner': 3.39, 'service_rating_lunch': 3.28, 'store_nm_en': 'nihombashitendonkanekohannosuke', 'store_nm_jp': '日本橋 天丼 金子半之助 本店', 'transport': '東京メトロ半蔵門線・銀座線「三越前」駅(A1出口)から徒歩1分\\n東京メトロ東西線「日本橋」駅から徒歩4分\\nJR総武本線「新日本橋」駅から徒歩5分\\n\\n\\n距离三越前 157  米'}]\n"
     ]
    },
    {
     "name": "stdout",
     "output_type": "stream",
     "text": [
      "=====================\n",
      " 第1天行程：\n",
      "雷門 Nakamise Shopping Street (Kaminarimon)約2.6 公里，景點間通勤約需10 分鐘。\n",
      "---------------\n",
      "淺草文化觀光中心 Asakusa Culture Tourist Information Center約61 公尺，景點間通勤約需1 分鐘。\n",
      "---------------\n",
      "淺草 Asakusa約2.0 公里，景點間通勤約需8 分鐘。\n",
      "---------------\n",
      "\n",
      "地圖連結：https://45a28610.ngrok.io/images/day1-U374824a0557f0767db8c194dae6c6002-1574398133408map.html\n",
      "===============\n",
      "第2天行程：\n",
      "東京迪士尼樂園 Tokyo Disneyland約15.1 公里，景點間通勤約需24 分鐘。\n",
      "---------------\n",
      "\n",
      "地圖連結：https://45a28610.ngrok.io/images/day2-U374824a0557f0767db8c194dae6c6002-1574398133408map.html\n",
      "===============\n",
      "第3天行程：\n",
      "葛西臨海水族園 Tokyo Sea Life Park約13.0 公里，景點間通勤約需20 分鐘。\n",
      "---------------\n",
      "台場海濱公園 Odaiba Kaihin Koen (Odaiba Seaside Park)約10.0 公里，景點間通勤約需18 分鐘。\n",
      "---------------\n",
      "山種美術館 Yamatane Museum of Art約10.5 公里，景點間通勤約需15 分鐘。\n",
      "---------------\n",
      "\n",
      "地圖連結：https://45a28610.ngrok.io/images/day3-U374824a0557f0767db8c194dae6c6002-1574398133408map.html\n",
      "===============\n",
      "第4天行程：\n",
      "三得利美術館 Suntory Museum of Art約9.3 公里，景點間通勤約需17 分鐘。\n",
      "---------------\n",
      "原宿竹下通 Takeshita Street約4.0 公里，景點間通勤約需14 分鐘。\n",
      "---------------\n",
      "東京寶塚劇場 Tokyo Takarazuka Theater約6.7 公里，景點間通勤約需17 分鐘。\n",
      "---------------\n",
      "\n",
      "地圖連結：https://45a28610.ngrok.io/images/day4-U374824a0557f0767db8c194dae6c6002-1574398133408map.html\n",
      "===============\n",
      "第5天行程：\n",
      "隅田川花火大會 Sumida River Fireworks約3.2 公里，景點間通勤約需12 分鐘。\n",
      "---------------\n",
      "板橋花火節 Itabashi Fireworks約16.9 公里，景點間通勤約需23 分鐘。\n",
      "---------------\n",
      "大江戶古董市場 - 東京國際論壇 Oedo Antique Market - Tokyo International Forum約13.9 公里，景點間通勤約需19 分鐘。\n",
      "---------------\n",
      "\n",
      "地圖連結：https://45a28610.ngrok.io/images/day5-U374824a0557f0767db8c194dae6c6002-1574398133408map.html\n",
      "===============\n",
      "第6天行程：\n",
      " Tokyo Character Street約2.5 公里，景點間通勤約需9 分鐘。\n",
      "---------------\n",
      "皇居外苑 Kokyo Gaien National Garden約1.3 公里，景點間通勤約需6 分鐘。\n",
      "---------------\n",
      " Nissan Crossing約1.9 公里，景點間通勤約需6 分鐘。\n",
      "---------------\n",
      "\n",
      "地圖連結：https://45a28610.ngrok.io/images/day6-U374824a0557f0767db8c194dae6c6002-1574398133408map.html\n",
      "===============\n",
      "第7天行程：\n",
      " Meiji Kinenkan約8.8 公里，景點間通勤約需15 分鐘。\n",
      "---------------\n",
      "東京海賊王塔 TOKYO ONE PIECE TOWER約3.6 公里，景點間通勤約需12 分鐘。\n",
      "---------------\n",
      "上野阿美橫丁商店街 Ameyoko Shopping Street約9.7 公里，景點間通勤約需16 分鐘。\n",
      "---------------\n",
      "\n",
      "地圖連結：https://45a28610.ngrok.io/images/day7-U374824a0557f0767db8c194dae6c6002-1574398133408map.html\n",
      "===============\n",
      " \n",
      "=======================\n"
     ]
    },
    {
     "name": "stderr",
     "output_type": "stream",
     "text": [
      "172.18.0.6 - - [22/Nov/2019 04:49:20] \"POST / HTTP/1.1\" 200 -\n"
     ]
    },
    {
     "name": "stdout",
     "output_type": "stream",
     "text": [
      "type ==> <class 'linebot.exceptions.LineBotApiError'>\n",
      "value ==> LineBotApiError: status_code=400, error_response={\"details\": [{\"message\": \"Length must be between 0 and 2000\", \"property\": \"messages[1].text\"}], \"message\": \"The request body has 1 error(s)\"}\n",
      "traceback ==> file name: <ipython-input-25-a23c8ff16dbb>\n",
      "traceback ==> line no: 156\n",
      "traceback ==> function name: handle_message\n",
      "::tripStart:\n",
      "{'age': 7, 'been2tko': 1, 'days': 7, 'budget': 40000, 'isFemale': 0, 'fbudget': 12000, 'dDate': '2020-03-31', 'rDate': '2020-04-07'}\n",
      "{'airline': 'Tigerair Taiwan', 'date_format(eta,\"%a\")': 'Tue', 'date_format(etd,\"%a\")': 'Tue', 'date_format(tuEta,\"%a\")': 'Tue', 'date_format(tuEtd,\"%a\")': 'Tue', 'price': 8067, 'time_format(eta,\"%T\")': '10:35:00', 'time_format(etd,\"%T\")': '06:35:00', 'time_format(sec_to_time(dur),\"%T\")': '03:00:00', 'time_format(sec_to_time(tuDur),\"%T\")': '03:55:00', 'time_format(tuEta,\"%T\")': '07:55:00', 'time_format(tuEtd,\"%T\")': '05:00:00'}\n",
      "bk by tue\n",
      "{'age': 7, 'been2tko': 1, 'howlong': 7, 'budget': 40000, 'isFemale': 0, 'with_child': 0, 'crampedSechedule': False}\n",
      "['[{\"index\":2,\"name\":\"淺草 Asakusa\",\"rank\":\"排名第 1的台東區觀光 (共560家)\",\"address\":\"東京都台東區\",\"child\":0.0087715012,\"latitude\":35.7125736,\"longitude\":139.7802043,\"score\":241,\"chosen\":true},{\"index\":48,\"name\":\"雷門 Nakamise Shopping Street (Kaminarimon)\",\"rank\":\"排名第 18的台東區觀光 (共560家)\",\"address\":\"東京都台東區淺草1丁目3\",\"child\":0.0048539208,\"latitude\":35.7110859,\"longitude\":139.7959648,\"score\":114,\"chosen\":true},{\"index\":35,\"name\":\"淺草文化觀光中心 Asakusa Culture Tourist Information Center\",\"rank\":\"排名第 3的台東區觀光 (共560家)\",\"address\":\"東京都台東區2-18-9 Kaminarimon111-0034\",\"child\":0.0040560983,\"latitude\":35.7106489,\"longitude\":139.7965348,\"score\":106,\"chosen\":true}]', '[{\"index\":265,\"name\":\"東京迪士尼海洋樂園 Tokyo DisneySea\",\"rank\":\"排名第 1的Maihama觀光 (共5家)\",\"address\":\"千葉縣浦安Maihama1-13279-0031\",\"child\":0.75,\"latitude\":35.62675,\"longitude\":139.885095,\"score\":94,\"chosen\":true}]', '[{\"index\":63,\"name\":\"東京國立近代美術館 The National Museum of Modern Art\",\"rank\":\"排名第 8的千代田區觀光 (共446家)\",\"address\":\"東京都千代田區北之丸公園3-1102-0091\",\"child\":0.0331610791,\"latitude\":35.6919267,\"longitude\":139.7505761,\"score\":70,\"chosen\":true},{\"index\":182,\"name\":\" Design Festa美術館 Design Festa Gallery\",\"rank\":\"排名第 28的澀谷區觀光 (共279家)\",\"address\":\"東京都澀谷區神宮前3-20-18150-0001\",\"child\":0.0,\"latitude\":35.6703649,\"longitude\":139.7082101,\"score\":84,\"chosen\":true},{\"index\":255,\"name\":\"日本民藝館 Japan Folk Crafts Museum (Mingeikan)\",\"rank\":\"排名第 9的目黑區觀光 (共108家)\",\"address\":\"東京都目黑區駒場4-3-33153-0041\",\"child\":0.0,\"latitude\":35.6624448,\"longitude\":139.68029,\"score\":70,\"chosen\":true}]', '[{\"index\":104,\"name\":\"三得利美術館 Suntory Museum of Art\",\"rank\":\"排名第 23的港區觀光 (共626家)\",\"address\":\"東京都港區9-7-4 Akasaka107-8643\",\"child\":0.0,\"latitude\":35.6662189,\"longitude\":139.730226,\"score\":70,\"chosen\":true},{\"index\":1,\"name\":\"明治神宮 Meiji Jingu Shrine\",\"rank\":\"排名第 2的澀谷區觀光 (共279家)\",\"address\":\"東京都澀谷區代代木神園町1-1151-0052\",\"child\":0.0158457346,\"latitude\":35.6767043,\"longitude\":139.7000721,\"score\":142,\"chosen\":true},{\"index\":72,\"name\":\"下北澤 Shimokitazawa\",\"rank\":\"排名第 3的世田谷區觀光 (共235家)\",\"address\":\"東京都世田谷區\",\"child\":0.0384024467,\"latitude\":35.6465615,\"longitude\":139.6532924,\"score\":114,\"chosen\":true}]', '[{\"index\":192,\"name\":\"隅田川花火大會 Sumida River Fireworks\",\"rank\":\"排名第 12的墨田區觀光 (共264家)\",\"address\":\"東京都墨田區\",\"child\":0.0,\"latitude\":35.7107479,\"longitude\":139.8016393,\"score\":70,\"chosen\":true},{\"index\":260,\"name\":\"板橋花火節 Itabashi Fireworks\",\"rank\":\"排名第 1的板橋區觀光 (共81家)\",\"address\":\"東京都板橋區4 Funado174-0041\",\"child\":0.0,\"latitude\":35.7512308,\"longitude\":139.7185838,\"score\":70,\"chosen\":true},{\"index\":193,\"name\":\"大江戶古董市場 - 東京國際論壇 Oedo Antique Market - Tokyo International Forum\",\"rank\":\"排名第 55的千代田區觀光 (共446家)\",\"address\":\"東京都千代田區3-5-1 MarunouchiTokyo International Forum100-0005\",\"child\":0.0199828611,\"latitude\":35.6767429,\"longitude\":139.7637532,\"score\":84,\"chosen\":true}]', '[{\"index\":45,\"name\":\"東京都庭園美術館 Tokyo Metropolitan Teien Art Museum\",\"rank\":\"排名第 9的港區觀光 (共626家)\",\"address\":\"東京都港區白金台5-21-9108-0071\",\"child\":0.0,\"latitude\":35.6381742,\"longitude\":139.7198607,\"score\":70,\"chosen\":true},{\"index\":41,\"name\":\"新宿懷舊居酒屋街 Omoide Yokocho\",\"rank\":\"排名第 14的新宿區觀光 (共419家)\",\"address\":\"東京都新宿區西新宿7丁目160-0023\",\"child\":0.0290300311,\"latitude\":35.6963255,\"longitude\":139.6975192,\"score\":114,\"chosen\":true},{\"index\":230,\"name\":\"晴海埠頭 Harumi Wharf\",\"rank\":\"排名第 41的中央區觀光 (共577家)\",\"address\":\"東京都中央區晴海3‐10‐1104-0053\",\"child\":0.0,\"latitude\":35.6539146,\"longitude\":139.7793462,\"score\":114,\"chosen\":true}]', '[{\"index\":233,\"name\":\"精工博物館 The Seiko Museum\",\"rank\":\"排名第 11的墨田區觀光 (共264家)\",\"address\":\"東京都墨田區3-9-7 Higashi Mukojima131-0032\",\"child\":0.1458601027,\"latitude\":35.7267061,\"longitude\":139.8132052,\"score\":70,\"chosen\":true},{\"index\":137,\"name\":\"護國寺 Gokokuji Temple\",\"rank\":\"排名第 10的文京區觀光 (共297家)\",\"address\":\"東京都文京區5-40-1 Otsuka112-0012\",\"child\":0.0,\"latitude\":35.7212429,\"longitude\":139.7271378,\"score\":114,\"chosen\":true},{\"index\":262,\"name\":\" The University Art Museum - Tokyo University of the Arts\",\"rank\":\"排名第 41的台東區觀光 (共560家)\",\"address\":\"東京都台東區12-8 Uenokoen110-8714\",\"child\":0.0,\"latitude\":35.7192698,\"longitude\":139.7722674,\"score\":70,\"chosen\":true}]']\n",
      "{'age': 7, 'been2tko': 1, 'days': 7, 'budget': 40000, 'isFemale': 0, 'hotel budget': 2000}\n",
      "{'CP': 3.897116134, 'pre': 2.0, '交通1': '船堀站 - 走路 5 分鐘', '交通2': '新小岩站 - 走路 17 分鐘', '交通3': '東京, 日本 (NRT-成田國際機場) - 車程 41 分鐘', '交通便利性': '5', '價格': 1283.0, '地址': '1-2-5 Nishishinkoiwa, Katsushika, 東京, 東京', '廚房': 0.0, '星等': 3.0, '經度': 139.847048, '網址': 'https://www.expedia.com.tw/Tokyo-Hotels-Cypress-Inn-Tokyo.h36955721.Hotel-Information?chkin=2019%2F10%2F4&chkout=2019%2F10%2F5&regionId=179900&destination=%E6%9D%B1%E4%BA%AC+%28%E5%8F%8A%E9%84%B0%E8%BF%91%E5%9C%B0%E5%8D%80%29%2C+%E6%97%A5%E6%9C%AC&swpToggleOn=true&rm1=a1&x_pwa=1&sort=recommended&top_dp=1283&top_cur=TWD&rfrr=HSR&pwa_ts=1570019592728', '緯度': 35.720697, '評價': 5.0, '鄰近景點1': '東京晴空塔 - 開車 6 分鐘', '鄰近景點2': '淺草神社 - 開車 7 分鐘', '鄰近景點3': '淺草寺雷門 - 開車 7 分鐘', '鄰近景點4': '江戶東京博物館 - 開車 8 分鐘', '鄰近景點5': '東京國立博物館 - 開車 9 分鐘', '飯店名稱': '東京賽普拉斯旅館'}\n",
      "{'age': 7, 'been2tko': 1, 'days': 7, 'totalBudget': 40000, 'gender': 0, 'oneBudget': 200}\n",
      "[{'age': 41, 'cp_rating_dinner': 3.94, 'cp_rating_lunch': 4.81, 'feeling_rating_dinner': 3.92, 'feeling_rating_lunch': 5.0, 'female_prop': 23.81, 'label_code': 1, 'label_desc': '平消族', 'lat': 35.6554989, 'lng': 139.6926724, 'male_prop': 76.19, 'meal_duration': 1.0, 'prices_dinner': 7087, 'prices_lunch': 425, 'rest_addr': '東京都澀穀區神泉町10-12', 'rest_area': '澀谷', 'rest_catg': '壽司', 'rest_rating': 3.83, 'service_rating_dinner': 3.98, 'service_rating_lunch': 5.0, 'store_nm_en': 'Kozasa', 'store_nm_jp': '小笹', 'transport': '京王井の頭線【神泉駅】徒歩４分\\n東京メトロ半蔵門線、東急田園都市線【渋谷駅】徒歩11分\\nＪＲ山手線【渋谷駅】ハチ公口\\u3000徒歩13分\\n\\n\\n距离神泉 215  米'}, {'age': 41, 'cp_rating_dinner': 3.81, 'cp_rating_lunch': 4.23, 'feeling_rating_dinner': 3.98, 'feeling_rating_lunch': 4.83, 'female_prop': 24.18, 'label_code': 0, 'label_desc': '高消族', 'lat': 35.6676318, 'lng': 139.7179215, 'male_prop': 75.82, 'meal_duration': 1.0, 'prices_dinner': 7087, 'prices_lunch': 425, 'rest_addr': '東京都港區南青山3-2-8', 'rest_area': '青山一丁目・外苑前', 'rest_catg': '壽司', 'rest_rating': 4.39, 'service_rating_dinner': 4.21, 'service_rating_lunch': 4.83, 'store_nm_en': 'Umi', 'store_nm_jp': '海味', 'transport': '外苑前駅1a出口より徒歩10分\\n\\n\\n距离外苑前 303  米'}, {'age': 41, 'cp_rating_dinner': 3.78, 'cp_rating_lunch': 3.29, 'feeling_rating_dinner': 3.68, 'feeling_rating_lunch': 3.81, 'female_prop': 23.66, 'label_code': 1, 'label_desc': '平消族', 'lat': 35.626639, 'lng': 139.7012031, 'male_prop': 76.34, 'meal_duration': 1.0, 'prices_dinner': 7087, 'prices_lunch': 1276, 'rest_addr': '東京都目黑區下目黑6-6-9', 'rest_area': '學藝大學・都立大學', 'rest_catg': '壽司', 'rest_rating': 3.94, 'service_rating_dinner': 3.99, 'service_rating_lunch': 3.81, 'store_nm_en': 'Izumi', 'store_nm_jp': '寿司 いずみ', 'transport': '目黒駅タクシー8分。徒歩30分\\n武蔵小山駅徒歩15分\\n\\n\\n距离武藏小山 743  米'}, {'age': 42, 'cp_rating_dinner': 3.94, 'cp_rating_lunch': 3.8, 'feeling_rating_dinner': 3.45, 'feeling_rating_lunch': 3.32, 'female_prop': 24.44, 'label_code': 1, 'label_desc': '平消族', 'lat': 35.6559209, 'lng': 139.7428184, 'male_prop': 75.56, 'meal_duration': 1.5, 'prices_dinner': 142, 'prices_lunch': 425, 'rest_addr': '東京都港區西痲佈1-13-15', 'rest_area': '六本木・乃木坂・西麻布', 'rest_catg': '定食、食堂/可樂餅・油炸食品', 'rest_rating': 3.76, 'service_rating_dinner': 3.88, 'service_rating_lunch': 3.98, 'store_nm_en': 'Mikawaya', 'store_nm_jp': '三河屋', 'transport': '東京メトロ千代田線・乃木坂駅５番出口から徒歩約１０分。\\n東京メトロ日比谷線・広尾駅から徒歩12分。\\n外苑西通りの西麻布交差点を北へ。次のY字交差点との中間付近、右側。\\n\\n\\n距离乃木坂 707  米'}, {'age': 36, 'cp_rating_dinner': 3.75, 'cp_rating_lunch': 4.29, 'feeling_rating_dinner': 4.46, 'feeling_rating_lunch': 4.3, 'female_prop': 24.22, 'label_code': 0, 'label_desc': '高消族', 'lat': 35.6853727, 'lng': 139.7287997, 'male_prop': 75.78, 'meal_duration': 1.0, 'prices_dinner': 19843, 'prices_lunch': 9922, 'rest_addr': '東京都新宿區四穀1-9-4', 'rest_area': '四之谷', 'rest_catg': '天婦羅/和式餐馆 / 小菜', 'rest_rating': 4.53, 'service_rating_dinner': 4.39, 'service_rating_lunch': 4.3, 'store_nm_en': 'Kusunoki', 'store_nm_jp': 'くすのき', 'transport': '四谷駅より徒歩３分\\n\\n\\n距离四谷 224  米'}, {'age': 42, 'cp_rating_dinner': 3.56, 'cp_rating_lunch': 2.9, 'feeling_rating_dinner': 4.02, 'feeling_rating_lunch': 4.6, 'female_prop': 23.79, 'label_code': 1, 'label_desc': '平消族', 'lat': 35.6857974, 'lng': 139.7830806, 'male_prop': 76.21, 'meal_duration': 1.0, 'prices_dinner': 4961, 'prices_lunch': 3543, 'rest_addr': '東京都中央區日本橋人形町2-5-1', 'rest_area': '人形町・小傳馬町', 'rest_catg': '壽喜燒/和式餐馆 / 小菜', 'rest_rating': 3.82, 'service_rating_dinner': 3.88, 'service_rating_lunch': 4.4, 'store_nm_en': 'sukiyakikappouhiyama', 'store_nm_jp': 'すき焼割烹 日山', 'transport': '東京メトロ日比谷線・都営浅草線「人形町」駅より徒歩2分。\\n東京メトロ半蔵門線「水天宮」駅より徒歩5分\\n都営新宿線「浜町」駅より徒歩7分\\n\\n\\n距离人形町 66  米'}, {'age': 40, 'cp_rating_dinner': 3.35, 'cp_rating_lunch': 3.66, 'feeling_rating_dinner': 3.38, 'feeling_rating_lunch': 3.73, 'female_prop': 23.78, 'label_code': 1, 'label_desc': '平消族', 'lat': 35.6988479, 'lng': 139.4803179, 'male_prop': 76.22, 'meal_duration': 1.0, 'prices_dinner': 142, 'prices_lunch': 142, 'rest_addr': '東京都國分寺市南町3-15-9', 'rest_area': '國分寺', 'rest_catg': '拉麵/沾麵/日式小酒館', 'rest_rating': 3.78, 'service_rating_dinner': 3.58, 'service_rating_lunch': 3.64, 'store_nm_en': 'chuukasobamutahiro', 'store_nm_jp': '中華そば ムタヒロ  1号店', 'transport': 'ＪＲ・西武線国分寺駅\\u3000南口徒歩１分\\n（国分寺駅南口駅前ロータリー、モスバーガーの裏側路地）\\n\\n\\n距离國分寺 154  米'}, {'age': 40, 'cp_rating_dinner': 3.34, 'cp_rating_lunch': 3.53, 'feeling_rating_dinner': 3.31, 'feeling_rating_lunch': 3.55, 'female_prop': 23.45, 'label_code': 1, 'label_desc': '平消族', 'lat': 35.6658272, 'lng': 139.7562728, 'male_prop': 76.55, 'meal_duration': 1.0, 'prices_dinner': 142, 'prices_lunch': 142, 'rest_addr': '東京都港區新橋3-13-2', 'rest_area': '新橋・汐留', 'rest_catg': '拉麵/沾麵', 'rest_rating': 3.77, 'service_rating_dinner': 3.3, 'service_rating_lunch': 3.62, 'store_nm_en': 'Shimbashimatoi', 'store_nm_jp': '新橋 纏', 'transport': 'ＪＲ山手線・京浜東北線【新橋駅】烏森口\\u3000徒歩３分\\n東京メトロ銀座線【新橋駅】徒歩４分\\n都営地下鉄浅草線【新橋駅】徒歩５分\\n都営地下鉄三田線【内幸町駅】徒歩６分\\n\\n\\n距离新橋 186  米'}, {'age': 39, 'cp_rating_dinner': 3.14, 'cp_rating_lunch': 3.11, 'feeling_rating_dinner': 3.29, 'feeling_rating_lunch': 3.27, 'female_prop': 24.05, 'label_code': 1, 'label_desc': '平消族', 'lat': 35.7467427, 'lng': 139.805509, 'male_prop': 75.95, 'meal_duration': 1.0, 'prices_dinner': 425, 'prices_lunch': 425, 'rest_addr': '東京都足立區韆住東2-4-17', 'rest_area': '北千住', 'rest_catg': '拉麵', 'rest_rating': 3.76, 'service_rating_dinner': 3.27, 'service_rating_lunch': 3.23, 'store_nm_en': 'Gyuukotsuramemmatadoru', 'store_nm_jp': '牛骨らぁ麺マタドール', 'transport': 'JR常磐線「北千住」駅(東口)から徒歩4分\\n\\n\\n距离北千住 280  米'}, {'age': 39, 'cp_rating_dinner': 3.34, 'cp_rating_lunch': 3.32, 'feeling_rating_dinner': 3.39, 'feeling_rating_lunch': 3.23, 'female_prop': 23.53, 'label_code': 1, 'label_desc': '平消族', 'lat': 35.626102, 'lng': 139.7205803, 'male_prop': 76.47, 'meal_duration': 1.0, 'prices_dinner': 992, 'prices_lunch': 425, 'rest_addr': '東京都品川區西五反田2-15-13', 'rest_area': '五反田・高輪台', 'rest_catg': '漢堡/牛排', 'rest_rating': 3.79, 'service_rating_dinner': 3.35, 'service_rating_lunch': 3.31, 'store_nm_en': 'Mitoyazawa', 'store_nm_jp': 'ミート矢澤', 'transport': '都営地下鉄浅草線【五反田駅】徒歩３分（Ａ２地上口利用）\\nＪＲ山手線【五反田駅】徒歩５分\\n東急池上線【五反田駅】徒歩６分\\n\\n\\n距离五反田 283  米'}, {'age': 33, 'cp_rating_dinner': 3.95, 'cp_rating_lunch': 4.31, 'feeling_rating_dinner': 4.21, 'feeling_rating_lunch': 4.31, 'female_prop': 24.19, 'label_code': 0, 'label_desc': '高消族', 'lat': 35.6583941, 'lng': 139.723053, 'male_prop': 75.81, 'meal_duration': 1.5, 'prices_dinner': 7087, 'prices_lunch': 425, 'rest_addr': '東京都港區西痲佈2-24-14', 'rest_area': '六本木・乃木坂・西麻布', 'rest_catg': '和式餐馆 / 小菜/牛排/燒肉', 'rest_rating': 4.43, 'service_rating_dinner': 4.18, 'service_rating_lunch': 4.31, 'store_nm_en': 'Nikukappoujou', 'store_nm_jp': '肉割烹 上', 'transport': '都営大江戸線 六本木駅2番出口より徒歩8分\\n東京メトロ 日比谷線六本木駅2番出口より徒歩8分\\n東京メトロ 日比谷線広尾駅3番出口より徒歩8分\\n東京メトロ 千代田線乃木坂駅5番出口より徒歩6分\\n\\n\\n距离乃木坂 798  米'}, {'age': 42, 'cp_rating_dinner': 3.56, 'cp_rating_lunch': 3.79, 'feeling_rating_dinner': 3.41, 'feeling_rating_lunch': 3.43, 'female_prop': 23.64, 'label_code': 1, 'label_desc': '平消族', 'lat': 35.7067011, 'lng': 139.8681899, 'male_prop': 76.36, 'meal_duration': 1.0, 'prices_dinner': 425, 'prices_lunch': 142, 'rest_addr': '東京都江戶川區南小嵒5-18-16', 'rest_area': '小岩・新小岩', 'rest_catg': '尼泊爾料理/印度料理/印度咖哩', 'rest_rating': 3.77, 'service_rating_dinner': 3.56, 'service_rating_lunch': 3.67, 'store_nm_en': 'Sansaru', 'store_nm_jp': 'サンサール 小岩店', 'transport': 'JR総武線 小岩駅下車、中央改札を出てブロンズの「栃錦」の右手が示す南口へ出ます。\\nターミナルを右回りに回って、フラワーロード商店街を、ひたすらまっすぐ、道なりに進みます。\\n道がなだらかにカーヴしてちょうど15分ほど歩いた頃、サンサールが現れます。一階路面店です。\\nバス停は「小岩駅通り」が最寄です。\\n\\n\\n距离小岩 824  米'}, {'age': 43, 'cp_rating_dinner': 2.84, 'cp_rating_lunch': 3.14, 'feeling_rating_dinner': 3.59, 'feeling_rating_lunch': 3.75, 'female_prop': 23.67, 'label_code': 1, 'label_desc': '平消族', 'lat': 35.6978715, 'lng': 139.8029173, 'male_prop': 76.33, 'meal_duration': 1.0, 'prices_dinner': 1559, 'prices_lunch': 425, 'rest_addr': '東京都墨田區龜澤1-6-5', 'rest_area': '兩國・錦系町', 'rest_catg': '蕎麥麵/天婦羅', 'rest_rating': 3.78, 'service_rating_dinner': 3.05, 'service_rating_lunch': 3.28, 'store_nm_en': 'Edosobahosokawa', 'store_nm_jp': '江戸蕎麦ほそ川', 'transport': '都営地下鉄大江戸線【両国駅】徒歩２分\\nＪＲ総武線【両国駅】東口\\u3000徒歩７分\\n\\n\\n距离兩國 407  米'}, {'age': 39, 'cp_rating_dinner': 3.96, 'cp_rating_lunch': 4.0, 'feeling_rating_dinner': 3.35, 'feeling_rating_lunch': 3.27, 'female_prop': 23.48, 'label_code': 1, 'label_desc': '平消族', 'lat': 35.6854123, 'lng': 139.7753649, 'male_prop': 76.52, 'meal_duration': 1.5, 'prices_dinner': 142, 'prices_lunch': 142, 'rest_addr': '東京都中央區日本橋室町1-11-15', 'rest_area': '日本橋・京橋', 'rest_catg': '炸蝦丼飯・炸蝦便當/便當/星鰻', 'rest_rating': 3.77, 'service_rating_dinner': 3.39, 'service_rating_lunch': 3.28, 'store_nm_en': 'nihombashitendonkanekohannosuke', 'store_nm_jp': '日本橋 天丼 金子半之助 本店', 'transport': '東京メトロ半蔵門線・銀座線「三越前」駅(A1出口)から徒歩1分\\n東京メトロ東西線「日本橋」駅から徒歩4分\\nJR総武本線「新日本橋」駅から徒歩5分\\n\\n\\n距离三越前 157  米'}]\n"
     ]
    },
    {
     "name": "stdout",
     "output_type": "stream",
     "text": [
      "=====================\n",
      " 第1天行程：\n",
      "雷門 Nakamise Shopping Street (Kaminarimon)約8.9 公里，景點間通勤約需19 分鐘。\n",
      "---------------\n",
      "淺草文化觀光中心 Asakusa Culture Tourist Information Center約61 公尺，景點間通勤約需1 分鐘。\n",
      "---------------\n",
      "淺草 Asakusa約2.0 公里，景點間通勤約需8 分鐘。\n",
      "---------------\n",
      "\n",
      "地圖連結：https://45a28610.ngrok.io/images/day1-U374824a0557f0767db8c194dae6c6002-1574398133990map.html\n",
      "===============\n",
      "第2天行程：\n",
      "東京迪士尼海洋樂園 Tokyo DisneySea約17.7 公里，景點間通勤約需27 分鐘。\n",
      "---------------\n",
      "\n",
      "地圖連結：https://45a28610.ngrok.io/images/day2-U374824a0557f0767db8c194dae6c6002-1574398133990map.html\n",
      "===============\n",
      "第3天行程：\n",
      "東京國立近代美術館 The National Museum of Modern Art約16.1 公里，景點間通勤約需21 分鐘。\n",
      "---------------\n",
      "日本民藝館 Japan Folk Crafts Museum (Mingeikan)約9.8 公里，景點間通勤約需17 分鐘。\n",
      "---------------\n",
      " Design Festa美術館 Design Festa Gallery約3.5 公里，景點間通勤約需12 分鐘。\n",
      "---------------\n",
      "\n",
      "地圖連結：https://45a28610.ngrok.io/images/day3-U374824a0557f0767db8c194dae6c6002-1574398133990map.html\n",
      "===============\n",
      "第4天行程：\n",
      "三得利美術館 Suntory Museum of Art約20.6 公里，景點間通勤約需28 分鐘。\n",
      "---------------\n",
      "明治神宮 Meiji Jingu Shrine約4.0 公里，景點間通勤約需13 分鐘。\n",
      "---------------\n",
      "下北澤 Shimokitazawa約7.4 公里，景點間通勤約需22 分鐘。\n",
      "---------------\n",
      "\n",
      "地圖連結：https://45a28610.ngrok.io/images/day4-U374824a0557f0767db8c194dae6c6002-1574398133990map.html\n",
      "===============\n",
      "第5天行程：\n",
      "板橋花火節 Itabashi Fireworks約15.9 公里，景點間通勤約需25 分鐘。\n",
      "---------------\n",
      "大江戶古董市場 - 東京國際論壇 Oedo Antique Market - Tokyo International Forum約13.9 公里，景點間通勤約需19 分鐘。\n",
      "---------------\n",
      "隅田川花火大會 Sumida River Fireworks約7.3 公里，景點間通勤約需14 分鐘。\n",
      "---------------\n",
      "\n",
      "地圖連結：https://45a28610.ngrok.io/images/day5-U374824a0557f0767db8c194dae6c6002-1574398133990map.html\n",
      "===============\n",
      "第6天行程：\n",
      "新宿懷舊居酒屋街 Omoide Yokocho約24.7 公里，景點間通勤約需33 分鐘。\n",
      "---------------\n",
      "東京都庭園美術館 Tokyo Metropolitan Teien Art Museum約15.2 公里，景點間通勤約需22 分鐘。\n",
      "---------------\n",
      "晴海埠頭 Harumi Wharf約10.4 公里，景點間通勤約需18 分鐘。\n",
      "---------------\n",
      "\n",
      "地圖連結：https://45a28610.ngrok.io/images/day6-U374824a0557f0767db8c194dae6c6002-1574398133990map.html\n",
      "===============\n",
      "第7天行程：\n",
      "精工博物館 The Seiko Museum約4.5 公里，景點間通勤約需14 分鐘。\n",
      "---------------\n",
      " The University Art Museum - Tokyo University of the Arts約4.9 公里，景點間通勤約需17 分鐘。\n",
      "---------------\n",
      "護國寺 Gokokuji Temple約5.5 公里，景點間通勤約需17 分鐘。\n",
      "---------------\n",
      "\n",
      "地圖連結：https://45a28610.ngrok.io/images/day7-U374824a0557f0767db8c194dae6c6002-1574398133990map.html\n",
      "===============\n",
      " \n",
      "=======================\n",
      "type ==> <class 'linebot.exceptions.LineBotApiError'>\n",
      "value ==> LineBotApiError: status_code=400, error_response={\"details\": [{\"message\": \"Length must be between 0 and 2000\", \"property\": \"messages[1].text\"}], \"message\": \"The request body has 1 error(s)\"}\n",
      "traceback ==> file name: <ipython-input-25-a23c8ff16dbb>\n",
      "traceback ==> line no: 156\n",
      "traceback ==> function name: handle_message\n",
      "::tripStart:\n",
      "Erving,U374824a0557f0767db8c194dae6c6002\n",
      "{\"data\": \"tripStart\"}\n",
      "1574398133991,2019-11-22 04:48:53.991000\n",
      "Erving,U374824a0557f0767db8c194dae6c6002\n",
      "{\"data\": \"tripStart\"}\n",
      "1574398134350,2019-11-22 04:48:54.350000\n",
      "{'age': 7, 'been2tko': 1, 'days': 7, 'budget': 40000, 'isFemale': 0, 'fbudget': 12000, 'dDate': '2020-03-31', 'rDate': '2020-04-07'}\n",
      "{'airline': 'Tigerair Taiwan', 'date_format(eta,\"%a\")': 'Tue', 'date_format(etd,\"%a\")': 'Tue', 'date_format(tuEta,\"%a\")': 'Tue', 'date_format(tuEtd,\"%a\")': 'Tue', 'price': 8067, 'time_format(eta,\"%T\")': '10:35:00', 'time_format(etd,\"%T\")': '06:35:00', 'time_format(sec_to_time(dur),\"%T\")': '03:00:00', 'time_format(sec_to_time(tuDur),\"%T\")': '03:55:00', 'time_format(tuEta,\"%T\")': '07:55:00', 'time_format(tuEtd,\"%T\")': '05:00:00'}\n",
      "bk by tue\n",
      "{'age': 7, 'been2tko': 1, 'howlong': 7, 'budget': 40000, 'isFemale': 0, 'with_child': 0, 'crampedSechedule': False}\n",
      "['[{\"index\":2,\"name\":\"淺草 Asakusa\",\"rank\":\"排名第 1的台東區觀光 (共560家)\",\"address\":\"東京都台東區\",\"child\":0.0087715012,\"latitude\":35.7125736,\"longitude\":139.7802043,\"score\":241,\"chosen\":true},{\"index\":48,\"name\":\"雷門 Nakamise Shopping Street (Kaminarimon)\",\"rank\":\"排名第 18的台東區觀光 (共560家)\",\"address\":\"東京都台東區淺草1丁目3\",\"child\":0.0048539208,\"latitude\":35.7110859,\"longitude\":139.7959648,\"score\":114,\"chosen\":true},{\"index\":35,\"name\":\"淺草文化觀光中心 Asakusa Culture Tourist Information Center\",\"rank\":\"排名第 3的台東區觀光 (共560家)\",\"address\":\"東京都台東區2-18-9 Kaminarimon111-0034\",\"child\":0.0040560983,\"latitude\":35.7106489,\"longitude\":139.7965348,\"score\":106,\"chosen\":true}]', '[{\"index\":54,\"name\":\"東京都美術館 Tokyo Metropolitan Art Museum\",\"rank\":\"排名第 16的台東區觀光 (共560家)\",\"address\":\"東京都台東區8-36 Uenokoen110-0007\",\"child\":0.0205605849,\"latitude\":35.7125736,\"longitude\":139.7802043,\"score\":70,\"chosen\":true},{\"index\":6,\"name\":\"東京國立博物館 Tokyo National Museum\",\"rank\":\"排名第 5的台東區觀光 (共560家)\",\"address\":\"東京都台東區上野公園13-9110-0007\",\"child\":0.0509912925,\"latitude\":35.719252,\"longitude\":139.7760709,\"score\":114,\"chosen\":true},{\"index\":106,\"name\":\"上野東照宮 Toshogu Shrine\",\"rank\":\"排名第 17的台東區觀光 (共560家)\",\"address\":\"東京都台東區上野公園9-88\",\"child\":0.0,\"latitude\":35.7153714,\"longitude\":139.7706346,\"score\":183,\"chosen\":true}]', '[{\"index\":63,\"name\":\"東京國立近代美術館 The National Museum of Modern Art\",\"rank\":\"排名第 8的千代田區觀光 (共446家)\",\"address\":\"東京都千代田區北之丸公園3-1102-0091\",\"child\":0.0331610791,\"latitude\":35.6919267,\"longitude\":139.7505761,\"score\":70,\"chosen\":true},{\"index\":23,\"name\":\" teamLab Borderless\",\"rank\":\"排名第 1的Aomi觀光 (共11家)\",\"address\":\"東京都江東區Aomi1-3-8Odaiba Palette Town, MORI Building Digital Art Museum: teamLab Borderless135-0064\",\"child\":0.2388378941,\"latitude\":35.6263868,\"longitude\":139.7831051,\"score\":84,\"chosen\":true},{\"index\":243,\"name\":\"太陽城 Sunshine City\",\"rank\":\"排名第 9的豊島區觀光 (共179家)\",\"address\":\"東京都豊島區1-1 Higashiikebukuro170-0013\",\"child\":0.4632720835,\"latitude\":35.7299496,\"longitude\":139.7132372,\"score\":84,\"chosen\":true}]', '[{\"index\":189,\"name\":\"三社祭 Sanja Matsuri\",\"rank\":\"排名第 19的台東區觀光 (共560家)\",\"address\":\"東京都台東區2-3-1 AsakusaAsakusa Shrine111-0032\",\"child\":0.0864315783,\"latitude\":35.7147651,\"longitude\":139.7966553,\"score\":70,\"chosen\":true},{\"index\":225,\"name\":\"東京馬拉松 Tokyo Marathon\",\"rank\":\"排名第 12的新宿區觀光 (共419家)\",\"address\":\"東京都新宿區2-8-1 NishishinjukuTokyo Metropolitan Government Building163-8001\",\"child\":0.0542821379,\"latitude\":35.6898531,\"longitude\":139.6917321,\"score\":70,\"chosen\":true},{\"index\":192,\"name\":\"隅田川花火大會 Sumida River Fireworks\",\"rank\":\"排名第 12的墨田區觀光 (共264家)\",\"address\":\"東京都墨田區\",\"child\":0.0,\"latitude\":35.7107479,\"longitude\":139.8016393,\"score\":70,\"chosen\":true}]', '[{\"index\":134,\"name\":\"太田現代美術博物館 Ota Memorial Museum of Art\",\"rank\":\"排名第 5的澀谷區觀光 (共279家)\",\"address\":\"東京都澀谷區惠比壽西2-8-1150-0001\",\"child\":0.0702455514,\"latitude\":35.6432025,\"longitude\":139.7145181,\"score\":70,\"chosen\":true},{\"index\":38,\"name\":\"上野阿美橫丁商店街 Ameyoko Shopping Street\",\"rank\":\"排名第 2的Ueno觀光 (共7家)\",\"address\":\"東京都台東區UenoUeno\",\"child\":0.012643587,\"latitude\":35.7087296,\"longitude\":139.7741538,\"score\":400,\"chosen\":true},{\"index\":257,\"name\":\"國際文化會館 International House of Japan\",\"rank\":\"排名第 27的港區觀光 (共626家)\",\"address\":\"東京都港區5-11-16 Roppongi106-0032\",\"child\":0.0608894275,\"latitude\":35.6585905,\"longitude\":139.7334827,\"score\":114,\"chosen\":true}]', '[{\"index\":135,\"name\":\" Tokyo Dome City Attractions\",\"rank\":\"排名第 17的文京區觀光 (共297家)\",\"address\":\"東京都文京區1-3-61 Koraku112-8575\",\"child\":0.664388499,\"latitude\":35.7056396,\"longitude\":139.7518913,\"score\":70,\"chosen\":true},{\"index\":26,\"name\":\"靖國神社 Yasukuni Shrine\",\"rank\":\"排名第 7的千代田區觀光 (共446家)\",\"address\":\"東京都千代田區九段北3-1-1102-8246\",\"child\":0.0028103617,\"latitude\":35.6944535,\"longitude\":139.7428494,\"score\":114,\"chosen\":true},{\"index\":75,\"name\":\" The Sumida Hokusai Museum\",\"rank\":\"排名第 5的墨田區觀光 (共264家)\",\"address\":\"東京都墨田區2-7-2 Kamezawa130-0014\",\"child\":0.0904485493,\"latitude\":35.693465,\"longitude\":139.8006398,\"score\":70,\"chosen\":true}]']\n",
      "{'age': 7, 'been2tko': 1, 'days': 7, 'budget': 40000, 'isFemale': 0, 'hotel budget': 2000}\n",
      "{'CP': 3.21872714, 'pre': 2.0, '交通1': '春日站 - 走路 2 分鐘', '交通2': '水道橋站 - 走路 12 分鐘', '交通3': '東京, 日本 (HND-羽田機場) - 車程 18 分鐘', '交通便利性': '2', '價格': 1367.0, '地址': '4-23-14, Hongo, Bunkyo, 東京, 東京', '廚房': 0.0, '星等': 3.0, '經度': 139.753231, '網址': 'https://www.expedia.com.tw/Tokyo-Hotels-Dormy-Inn-Korakuen-Hot-Springs.h24042563.Hotel-Information?chkin=2019%2F10%2F4&chkout=2019%2F10%2F5&regionId=179900&destination=%E6%9D%B1%E4%BA%AC+%28%E5%8F%8A%E9%84%B0%E8%BF%91%E5%9C%B0%E5%8D%80%29%2C+%E6%97%A5%E6%9C%AC&swpToggleOn=true&rm1=a1&x_pwa=1&sort=recommended&top_dp=1367&top_cur=TWD&rfrr=HSR&pwa_ts=1570019075315', '緯度': 35.710062, '評價': 4.4, '鄰近景點1': 'LaQua 東京巨蛋後樂園 - 步行 6 分鐘', '鄰近景點2': '東京巨蛋 - 步行 9 分鐘', '鄰近景點3': '小石川後樂園庭園 - 步行 17 分鐘', '鄰近景點4': '靖國神社 - 開車 3 分鐘', '鄰近景點5': '上野公園 - 開車 3 分鐘', '飯店名稱': '後樂園溫泉多米飯店'}\n",
      "{'age': 7, 'been2tko': 1, 'days': 7, 'totalBudget': 40000, 'gender': 0, 'oneBudget': 200}\n",
      "[{'age': 45, 'cp_rating_dinner': 2.94, 'cp_rating_lunch': 3.19, 'feeling_rating_dinner': 3.44, 'feeling_rating_lunch': 3.48, 'female_prop': 24.15, 'label_code': 0, 'label_desc': '高消族', 'lat': 35.672602, 'lng': 139.7640554, 'male_prop': 75.85, 'meal_duration': 1.0, 'prices_dinner': 9922, 'prices_lunch': 9922, 'rest_addr': '東京都中央區銀座4-2-15', 'rest_area': '銀座', 'rest_catg': '壽司', 'rest_rating': 4.21, 'service_rating_dinner': 3.42, 'service_rating_lunch': 3.31, 'store_nm_en': 'Sukiyabashi Jiro', 'store_nm_jp': 'すきやばし 次郎', 'transport': '銀座駅徒歩1分（C6出口すぐ）地下1階\\n\\n\\n距离銀座 77  米'}, {'age': 40, 'cp_rating_dinner': 3.79, 'cp_rating_lunch': 4.24, 'feeling_rating_dinner': 4.02, 'feeling_rating_lunch': 4.23, 'female_prop': 24.16, 'label_code': 0, 'label_desc': '高消族', 'lat': 35.6710214, 'lng': 139.7620421, 'male_prop': 75.84, 'meal_duration': 1.0, 'prices_dinner': 9922, 'prices_lunch': 4961, 'rest_addr': '東京都中央區銀座6-5-15', 'rest_area': '銀座', 'rest_catg': '壽司', 'rest_rating': 4.31, 'service_rating_dinner': 3.88, 'service_rating_lunch': 3.98, 'store_nm_en': 'sushisuzuki', 'store_nm_jp': '鮨 鈴木', 'transport': '有楽町駅、新橋駅、銀座駅\\n銀座駅B9出口（ソニービル入口）から徒歩3分\\n\\n\\n距离銀座 210  米'}, {'age': 41, 'cp_rating_dinner': 4.16, 'cp_rating_lunch': 4.49, 'feeling_rating_dinner': 4.25, 'feeling_rating_lunch': 4.36, 'female_prop': 24.26, 'label_code': 0, 'label_desc': '高消族', 'lat': 35.6656121, 'lng': 139.7394464, 'male_prop': 75.74, 'meal_duration': 1.0, 'prices_dinner': 7087, 'prices_lunch': 3543, 'rest_addr': '東京都港區六本木1-4-5', 'rest_area': '溜池山王・霞之關', 'rest_catg': '壽司', 'rest_rating': 4.74, 'service_rating_dinner': 4.37, 'service_rating_lunch': 4.5, 'store_nm_en': 'Saito', 'store_nm_jp': '鮨 さいとう', 'transport': '溜池山王駅徒歩5分\\n虎ノ門駅徒歩8分\\n\\n\\n距离六本木一丁目 60  米'}, {'age': 41, 'cp_rating_dinner': 3.46, 'cp_rating_lunch': 4.24, 'feeling_rating_dinner': 3.92, 'feeling_rating_lunch': 4.06, 'female_prop': 24.05, 'label_code': 0, 'label_desc': '高消族', 'lat': 35.6754994, 'lng': 139.7930975, 'male_prop': 75.95, 'meal_duration': 1.0, 'prices_dinner': 7087, 'prices_lunch': 7087, 'rest_addr': '東京都江東區福住1-3-1', 'rest_area': '門前仲町・木場・東陽町', 'rest_catg': '天婦羅', 'rest_rating': 4.04, 'service_rating_dinner': 3.65, 'service_rating_lunch': 3.99, 'store_nm_en': 'Mikawa Zezankyo', 'store_nm_jp': 'みかわ 是山居', 'transport': '東西線\\u3000大江戸線・門前仲町駅歩いて８分。\\n\\n\\n距离門前仲町 463  米'}, {'age': 43, 'cp_rating_dinner': 3.24, 'cp_rating_lunch': 3.35, 'feeling_rating_dinner': 3.67, 'feeling_rating_lunch': 3.82, 'female_prop': 23.28, 'label_code': 1, 'label_desc': '平消族', 'lat': 35.6812097, 'lng': 139.7747558, 'male_prop': 76.72, 'meal_duration': 1.0, 'prices_dinner': 1984, 'prices_lunch': 425, 'rest_addr': '東京都中央區日本橋2-9-9', 'rest_area': '日本橋・京橋', 'rest_catg': '魚類料理・海鮮料理/星鰻/天婦羅', 'rest_rating': 3.77, 'service_rating_dinner': 3.39, 'service_rating_lunch': 3.56, 'store_nm_en': 'Tamai', 'store_nm_jp': '玉ゐ 本店', 'transport': 'ＪＲ東京駅八重洲口から高島屋デパート方面へ徒歩8分。東京メトロ銀座線・東西線、都営浅草線日本橋駅から徒歩3分。\\n\\n\\n距离日本橋 106  米'}, {'age': 41, 'cp_rating_dinner': 3.44, 'cp_rating_lunch': 3.43, 'feeling_rating_dinner': 4.1, 'feeling_rating_lunch': 3.96, 'female_prop': 24.32, 'label_code': 1, 'label_desc': '平消族', 'lat': 35.7138661, 'lng': 139.7726182, 'male_prop': 75.68, 'meal_duration': 1.5, 'prices_dinner': 1984, 'prices_lunch': 992, 'rest_addr': '東京都檯東區上野公園4-59', 'rest_area': '上野・御徒町・湯島', 'rest_catg': '懷石 / 會席料理/壽喜燒/日式甜點店', 'rest_rating': 3.76, 'service_rating_dinner': 3.57, 'service_rating_lunch': 3.5, 'store_nm_en': 'Inshoutei', 'store_nm_jp': '韻松亭', 'transport': 'JR・東京メトロ銀座線上野駅：徒歩10分\\n京成線上野駅：徒歩７分\\n都営大江戸線御徒町駅・東京メトロ日比谷線上野駅：徒歩13分\\n\\n\\n距离京成上野 260  米'}, {'age': 39, 'cp_rating_dinner': 3.41, 'cp_rating_lunch': 3.41, 'feeling_rating_dinner': 3.26, 'feeling_rating_lunch': 3.33, 'female_prop': 23.28, 'label_code': 1, 'label_desc': '平消族', 'lat': 35.713234, 'lng': 139.7061955, 'male_prop': 76.72, 'meal_duration': 1.0, 'prices_dinner': 142, 'prices_lunch': 142, 'rest_addr': '東京都新宿區高田馬場2-14-9', 'rest_area': '高田馬場', 'rest_catg': '拉麵/沾麵', 'rest_rating': 3.75, 'service_rating_dinner': 3.27, 'service_rating_lunch': 3.34, 'store_nm_en': 'Torisobasampoichi', 'store_nm_jp': '鶏そば 三歩一', 'transport': 'JR山手線「高田馬場」駅から徒歩3分\\n\\n\\n距离高田馬場 240  米'}, {'age': 38, 'cp_rating_dinner': 3.94, 'cp_rating_lunch': 4.1, 'feeling_rating_dinner': 3.31, 'feeling_rating_lunch': 3.39, 'female_prop': 23.65, 'label_code': 1, 'label_desc': '平消族', 'lat': 35.629515, 'lng': 139.401367, 'male_prop': 76.35, 'meal_duration': 1.0, 'prices_dinner': 142, 'prices_lunch': 142, 'rest_addr': '東京都八王子市堀之內2-13-16', 'rest_area': '八王子', 'rest_catg': '拉麵', 'rest_rating': 3.77, 'service_rating_dinner': 3.36, 'service_rating_lunch': 3.4, 'store_nm_en': 'Ramenjirou', 'store_nm_jp': 'ラーメン二郎 八王子野猿街道店 ２', 'transport': '京王相模原線「京王堀之内駅」より、徒歩10分\\n京王バス・神奈川中央交通バス「由木堀の内」下車、徒歩3分\\n\\n\\n距离京王堀之內 555  米'}, {'age': 42, 'cp_rating_dinner': 3.29, 'cp_rating_lunch': 3.41, 'feeling_rating_dinner': 3.45, 'feeling_rating_lunch': 3.38, 'female_prop': 24.21, 'label_code': 1, 'label_desc': '平消族', 'lat': 35.6845349, 'lng': 139.7758231, 'male_prop': 75.79, 'meal_duration': 1.0, 'prices_dinner': 142, 'prices_lunch': 142, 'rest_addr': '東京都中央區日本橋室町1-8-7', 'rest_area': '日本橋・京橋', 'rest_catg': '拉麵/沾麵', 'rest_rating': 3.76, 'service_rating_dinner': 3.35, 'service_rating_lunch': 3.36, 'store_nm_en': 'Nanahasu', 'store_nm_jp': 'なな蓮', 'transport': '東京メトロ銀座線、半蔵門線三越前駅B6出口から徒歩2分\\n\\n\\n距离三越前 257  米'}, {'age': 45, 'cp_rating_dinner': 4.26, 'cp_rating_lunch': 4.05, 'feeling_rating_dinner': 3.85, 'feeling_rating_lunch': 3.72, 'female_prop': 24.33, 'label_code': 1, 'label_desc': '平消族', 'lat': 35.7458335, 'lng': 139.8054129, 'male_prop': 75.67, 'meal_duration': 1.0, 'prices_dinner': 142, 'prices_lunch': 709, 'rest_addr': '東京都足立區韆住東2-2-1', 'rest_area': '北千住', 'rest_catg': '豆腐料理・油豆腐料理/懷石 / 會席料理', 'rest_rating': 3.76, 'service_rating_dinner': 3.9, 'service_rating_lunch': 3.82, 'store_nm_en': 'Uzukino', 'store_nm_jp': '宇豆基野 本店', 'transport': '北千住駅から徒歩7分\\n\\n\\n距离北千住 384  米'}, {'age': 36, 'cp_rating_dinner': 3.55, 'cp_rating_lunch': 3.62, 'feeling_rating_dinner': 3.88, 'feeling_rating_lunch': 3.3, 'female_prop': 23.53, 'label_code': 1, 'label_desc': '平消族', 'lat': 35.6583941, 'lng': 139.723053, 'male_prop': 76.47, 'meal_duration': 1.0, 'prices_dinner': 3543, 'prices_lunch': 425, 'rest_addr': '東京都港區西痲佈2-24-14', 'rest_area': '六本木・乃木坂・西麻布', 'rest_catg': '燒肉/牛舌/牛排', 'rest_rating': 3.79, 'service_rating_dinner': 3.87, 'service_rating_lunch': 3.29, 'store_nm_en': 'Ushigoro Nishiazabu', 'store_nm_jp': '焼肉 うしごろ 西麻布本店', 'transport': '都営大江戸線 六本木駅2番出口より徒歩8分\\n東京メトロ 日比谷線六本木駅2番出口より徒歩8分\\n東京メトロ 日比谷線広尾駅3番出口より徒歩8分\\n東京メトロ 千代田線乃木坂駅5番出口より徒歩6分\\n\\n\\n距离乃木坂 803  米'}, {'age': 39, 'cp_rating_dinner': 3.7, 'cp_rating_lunch': 3.99, 'feeling_rating_dinner': 3.21, 'feeling_rating_lunch': 3.59, 'female_prop': 22.22, 'label_code': 1, 'label_desc': '平消族', 'lat': 35.7014842, 'lng': 139.7047629, 'male_prop': 77.78, 'meal_duration': 1.0, 'prices_dinner': 992, 'prices_lunch': 709, 'rest_addr': '東京都新宿區大久保2-19-1', 'rest_area': '大久保・新大久保', 'rest_catg': '泰式料理/泰式咖哩', 'rest_rating': 3.76, 'service_rating_dinner': 3.24, 'service_rating_lunch': 3.39, 'store_nm_en': 'Baan Tum', 'store_nm_jp': 'バーン・タム', 'transport': '東京メトロ副都心線【東新宿駅】徒歩５分\\nＪＲ山手線【新大久保駅】徒歩６分\\nＪＲ中央線【大久保駅】徒歩10分\\n\\n\\n距离新大久保 408  米'}, {'age': 44, 'cp_rating_dinner': 3.17, 'cp_rating_lunch': 3.19, 'feeling_rating_dinner': 3.41, 'feeling_rating_lunch': 3.43, 'female_prop': 23.34, 'label_code': 1, 'label_desc': '平消族', 'lat': 35.7101373, 'lng': 139.7754565, 'male_prop': 76.66, 'meal_duration': 1.0, 'prices_dinner': 142, 'prices_lunch': 425, 'rest_addr': '東京都檯東區上野6-9-16', 'rest_area': '上野・御徒町・湯島', 'rest_catg': '蕎麥麵', 'rest_rating': 3.77, 'service_rating_dinner': 3.28, 'service_rating_lunch': 3.22, 'store_nm_en': 'Uenoyabusoba', 'store_nm_jp': '上野藪そば', 'transport': '上野駅より徒歩３分。\\n\\n\\n距离京成上野 248  米'}, {'age': 39, 'cp_rating_dinner': 3.96, 'cp_rating_lunch': 4.0, 'feeling_rating_dinner': 3.35, 'feeling_rating_lunch': 3.27, 'female_prop': 23.48, 'label_code': 1, 'label_desc': '平消族', 'lat': 35.6854123, 'lng': 139.7753649, 'male_prop': 76.52, 'meal_duration': 1.5, 'prices_dinner': 142, 'prices_lunch': 142, 'rest_addr': '東京都中央區日本橋室町1-11-15', 'rest_area': '日本橋・京橋', 'rest_catg': '炸蝦丼飯・炸蝦便當/便當/星鰻', 'rest_rating': 3.77, 'service_rating_dinner': 3.39, 'service_rating_lunch': 3.28, 'store_nm_en': 'nihombashitendonkanekohannosuke', 'store_nm_jp': '日本橋 天丼 金子半之助 本店', 'transport': '東京メトロ半蔵門線・銀座線「三越前」駅(A1出口)から徒歩1分\\n東京メトロ東西線「日本橋」駅から徒歩4分\\nJR総武本線「新日本橋」駅から徒歩5分\\n\\n\\n距离三越前 157  米'}]\n"
     ]
    },
    {
     "name": "stdout",
     "output_type": "stream",
     "text": [
      "=====================\n",
      " 第1天行程：\n",
      "淺草 Asakusa約3.1 公里，景點間通勤約需12 分鐘。\n",
      "---------------\n",
      "雷門 Nakamise Shopping Street (Kaminarimon)約1.8 公里，景點間通勤約需7 分鐘。\n",
      "---------------\n",
      "淺草文化觀光中心 Asakusa Culture Tourist Information Center約61 公尺，景點間通勤約需1 分鐘。\n",
      "---------------\n",
      "\n",
      "地圖連結：https://45a28610.ngrok.io/images/day1-U374824a0557f0767db8c194dae6c6002-1574398134349map.html\n",
      "===============\n",
      "第2天行程：\n",
      "東京國立博物館 Tokyo National Museum約2.9 公里，景點間通勤約需10 分鐘。\n",
      "---------------\n",
      "東京都美術館 Tokyo Metropolitan Art Museum約1.9 公里，景點間通勤約需7 分鐘。\n",
      "---------------\n",
      "上野東照宮 Toshogu Shrine約1.6 公里，景點間通勤約需6 分鐘。\n",
      "---------------\n",
      "\n",
      "地圖連結：https://45a28610.ngrok.io/images/day2-U374824a0557f0767db8c194dae6c6002-1574398134349map.html\n",
      "===============\n",
      "第3天行程：\n",
      "東京國立近代美術館 The National Museum of Modern Art約3.2 公里，景點間通勤約需11 分鐘。\n",
      "---------------\n",
      " teamLab Borderless約13.4 公里，景點間通勤約需18 分鐘。\n",
      "---------------\n",
      "太陽城 Sunshine City約17.7 公里，景點間通勤約需24 分鐘。\n",
      "---------------\n",
      "\n",
      "地圖連結：https://45a28610.ngrok.io/images/day3-U374824a0557f0767db8c194dae6c6002-1574398134349map.html\n",
      "===============\n",
      "第4天行程：\n",
      "東京馬拉松 Tokyo Marathon約11.6 公里，景點間通勤約需21 分鐘。\n",
      "---------------\n",
      "隅田川花火大會 Sumida River Fireworks約16.2 公里，景點間通勤約需23 分鐘。\n",
      "---------------\n",
      "三社祭 Sanja Matsuri約1.6 公里，景點間通勤約需7 分鐘。\n",
      "---------------\n",
      "\n",
      "地圖連結：https://45a28610.ngrok.io/images/day4-U374824a0557f0767db8c194dae6c6002-1574398134349map.html\n",
      "===============\n",
      "第5天行程：\n",
      "太田現代美術博物館 Ota Memorial Museum of Art約11.6 公里，景點間通勤約需22 分鐘。\n",
      "---------------\n",
      "國際文化會館 International House of Japan約4.9 公里，景點間通勤約需11 分鐘。\n",
      "---------------\n",
      "上野阿美橫丁商店街 Ameyoko Shopping Street約11.7 公里，景點間通勤約需17 分鐘。\n",
      "---------------\n",
      "\n",
      "地圖連結：https://45a28610.ngrok.io/images/day5-U374824a0557f0767db8c194dae6c6002-1574398134349map.html\n",
      "===============\n",
      "第6天行程：\n",
      " The Sumida Hokusai Museum約5.5 公里，景點間通勤約需18 分鐘。\n",
      "---------------\n",
      "靖國神社 Yasukuni Shrine約6.0 公里，景點間通勤約需19 分鐘。\n",
      "---------------\n",
      " Tokyo Dome City Attractions約2.8 公里，景點間通勤約需10 分鐘。\n",
      "---------------\n",
      "\n",
      "地圖連結：https://45a28610.ngrok.io/images/day6-U374824a0557f0767db8c194dae6c6002-1574398134349map.html\n",
      "===============\n",
      " \n",
      "=======================\n",
      "type ==> <class 'linebot.exceptions.LineBotApiError'>\n",
      "value ==> LineBotApiError: status_code=400, error_response={\"details\": [], \"message\": \"Invalid reply token\"}\n",
      "traceback ==> file name: <ipython-input-25-a23c8ff16dbb>\n",
      "traceback ==> line no: 156\n",
      "traceback ==> function name: handle_message\n",
      "::tripStart:\n",
      "Erving,U374824a0557f0767db8c194dae6c6002\n",
      "{\"data\": \"tripStart\"}\n",
      "1574398134610,2019-11-22 04:48:54.610000\n",
      "{'age': 7, 'been2tko': 1, 'days': 7, 'budget': 40000, 'isFemale': 0, 'fbudget': 12000, 'dDate': '2020-03-31', 'rDate': '2020-04-07'}\n",
      "{'airline': 'Tigerair Taiwan', 'date_format(eta,\"%a\")': 'Tue', 'date_format(etd,\"%a\")': 'Tue', 'date_format(tuEta,\"%a\")': 'Tue', 'date_format(tuEtd,\"%a\")': 'Tue', 'price': 8067, 'time_format(eta,\"%T\")': '10:35:00', 'time_format(etd,\"%T\")': '06:35:00', 'time_format(sec_to_time(dur),\"%T\")': '03:00:00', 'time_format(sec_to_time(tuDur),\"%T\")': '03:55:00', 'time_format(tuEta,\"%T\")': '07:55:00', 'time_format(tuEtd,\"%T\")': '05:00:00'}\n",
      "bk by tue\n",
      "{'age': 7, 'been2tko': 1, 'howlong': 7, 'budget': 40000, 'isFemale': 0, 'with_child': 0, 'crampedSechedule': False}\n",
      "['[{\"index\":2,\"name\":\"淺草 Asakusa\",\"rank\":\"排名第 1的台東區觀光 (共560家)\",\"address\":\"東京都台東區\",\"child\":0.0087715012,\"latitude\":35.7125736,\"longitude\":139.7802043,\"score\":241,\"chosen\":true},{\"index\":48,\"name\":\"雷門 Nakamise Shopping Street (Kaminarimon)\",\"rank\":\"排名第 18的台東區觀光 (共560家)\",\"address\":\"東京都台東區淺草1丁目3\",\"child\":0.0048539208,\"latitude\":35.7110859,\"longitude\":139.7959648,\"score\":114,\"chosen\":true},{\"index\":35,\"name\":\"淺草文化觀光中心 Asakusa Culture Tourist Information Center\",\"rank\":\"排名第 3的台東區觀光 (共560家)\",\"address\":\"東京都台東區2-18-9 Kaminarimon111-0034\",\"child\":0.0040560983,\"latitude\":35.7106489,\"longitude\":139.7965348,\"score\":106,\"chosen\":true}]', '[{\"index\":59,\"name\":\"惠比壽啤酒紀念館 Museum of Yebisu Beer\",\"rank\":\"排名第 12的澀谷區觀光 (共279家)\",\"address\":\"東京都澀谷區惠比壽4-20-1\",\"child\":0.0,\"latitude\":35.643115,\"longitude\":139.7145631,\"score\":70,\"chosen\":true},{\"index\":202,\"name\":\"上野動物園 Ueno Zoo\",\"rank\":\"排名第 36的台東區觀光 (共560家)\",\"address\":\"東京都台東區上野公園9-83110-8711\",\"child\":0.0352721635,\"latitude\":35.716055,\"longitude\":139.7709587,\"score\":183,\"chosen\":true},{\"index\":157,\"name\":\"國立劇場 National Theatre\",\"rank\":\"排名第 11的千代田區觀光 (共446家)\",\"address\":\"東京都千代田區4-1 Hayabusacho102-8656\",\"child\":0.0,\"latitude\":35.6815719,\"longitude\":139.7433085,\"score\":70,\"chosen\":true}]', '[{\"index\":172,\"name\":\"春花園 BONSAI 美術館 Shunkaen BONSAI Museum\",\"rank\":\"排名第 5的江戶川區觀光 (共191家)\",\"address\":\"東京都江戶川區1-29-16 Nihori132-0001\",\"child\":0.3118335945,\"latitude\":35.702613,\"longitude\":139.888161,\"score\":70,\"chosen\":true},{\"index\":21,\"name\":\"秋葉原電器街 Akihabara\",\"rank\":\"排名第 6的千代田區觀光 (共446家)\",\"address\":\"東京都千代田區外神田秋葉原101-0021\",\"child\":0.1479775651,\"latitude\":35.702675,\"longitude\":139.773273,\"score\":183,\"chosen\":true},{\"index\":176,\"name\":\"隅田公園 Sumida Park\",\"rank\":\"排名第 179的東京觀光 (共5,926家)\",\"address\":\"東京都\",\"child\":0.0082587131,\"latitude\":35.712484,\"longitude\":139.803964,\"score\":114,\"chosen\":true}]', '[{\"index\":194,\"name\":\"東京都寫真美術館 Tokyo Photographic Art Museum\",\"rank\":\"排名第 5的目黑區觀光 (共108家)\",\"address\":\"東京都目黑區三田1-13-3-惠比壽公園綜合商業區內In Ebisu Garden Place153-0062\",\"child\":0.0,\"latitude\":35.642145,\"longitude\":139.713487,\"score\":70,\"chosen\":true},{\"index\":123,\"name\":\" Kuhombutsu Joshin-ji Temple\",\"rank\":\"排名第 8的世田谷區觀光 (共235家)\",\"address\":\"東京都世田谷區7-41-3 Okusawa158-0083\",\"child\":0.0790883819,\"latitude\":35.6081252,\"longitude\":139.661249,\"score\":114,\"chosen\":true},{\"index\":73,\"name\":\"日比谷公園 Hibiya Park\",\"rank\":\"排名第 1的Hibiyakoen觀光 (共2家)\",\"address\":\"東京都中央區Hibiyakoen日比谷公園1-6100-0012\",\"child\":0.0215814016,\"latitude\":35.6744393,\"longitude\":139.7553875,\"score\":114,\"chosen\":true}]', '[{\"index\":124,\"name\":\"貨幣博物館 Bank of Japan Currency Museum\",\"rank\":\"排名第 11的中央區觀光 (共577家)\",\"address\":\"東京都中央區日本橋本石町1-3-1103-0021\",\"child\":0.170981757,\"latitude\":35.6852515,\"longitude\":139.7725791,\"score\":70,\"chosen\":true},{\"index\":167,\"name\":\"淺草花屋敷遊樂園 Hanayashiki\",\"rank\":\"排名第 27的台東區觀光 (共560家)\",\"address\":\"東京都台東區淺草2-28-1111-0032\",\"child\":0.3956496899,\"latitude\":35.7155399,\"longitude\":139.7950858,\"score\":106,\"chosen\":true},{\"index\":158,\"name\":\"巢鴨地藏通商店街 Sugamo Jizo-dori Shopping Street\",\"rank\":\"排名第 8的豊島區觀光 (共179家)\",\"address\":\"東京都豊島區巢鴨170-0002\",\"child\":0.0,\"latitude\":35.7382119,\"longitude\":139.7332697,\"score\":114,\"chosen\":true}]', '[{\"index\":226,\"name\":\" Nittere Plaza\",\"rank\":\"排名第 50的港區觀光 (共626家)\",\"address\":\"東京都港區1-6-1 HigashishinbashiNippon Television Tower105-0021\",\"child\":0.233813924,\"latitude\":35.6644037,\"longitude\":139.7599456,\"score\":70,\"chosen\":true},{\"index\":224,\"name\":\" Takashimaya Nihombashi\",\"rank\":\"排名第 24的中央區觀光 (共577家)\",\"address\":\"東京都中央區2-4-1 Nihombashi103-8265\",\"child\":0.0,\"latitude\":35.6807683,\"longitude\":139.7735492,\"score\":168,\"chosen\":true},{\"index\":146,\"name\":\"文京居民活動中心 Bunkyo Civic Center\",\"rank\":\"排名第 7的文京區觀光 (共297家)\",\"address\":\"東京都文京區1-16-21 Kasuga112-0003\",\"child\":0.0349650762,\"latitude\":35.7083399,\"longitude\":139.7351057,\"score\":114,\"chosen\":true}]']\n",
      "{'age': 7, 'been2tko': 1, 'days': 7, 'budget': 40000, 'isFemale': 0, 'hotel budget': 2000}\n",
      "{'CP': 3.897116134, 'pre': 2.0, '交通1': '船堀站 - 走路 5 分鐘', '交通2': '新小岩站 - 走路 17 分鐘', '交通3': '東京, 日本 (NRT-成田國際機場) - 車程 41 分鐘', '交通便利性': '5', '價格': 1283.0, '地址': '1-2-5 Nishishinkoiwa, Katsushika, 東京, 東京', '廚房': 0.0, '星等': 3.0, '經度': 139.847048, '網址': 'https://www.expedia.com.tw/Tokyo-Hotels-Cypress-Inn-Tokyo.h36955721.Hotel-Information?chkin=2019%2F10%2F4&chkout=2019%2F10%2F5&regionId=179900&destination=%E6%9D%B1%E4%BA%AC+%28%E5%8F%8A%E9%84%B0%E8%BF%91%E5%9C%B0%E5%8D%80%29%2C+%E6%97%A5%E6%9C%AC&swpToggleOn=true&rm1=a1&x_pwa=1&sort=recommended&top_dp=1283&top_cur=TWD&rfrr=HSR&pwa_ts=1570019592728', '緯度': 35.720697, '評價': 5.0, '鄰近景點1': '東京晴空塔 - 開車 6 分鐘', '鄰近景點2': '淺草神社 - 開車 7 分鐘', '鄰近景點3': '淺草寺雷門 - 開車 7 分鐘', '鄰近景點4': '江戶東京博物館 - 開車 8 分鐘', '鄰近景點5': '東京國立博物館 - 開車 9 分鐘', '飯店名稱': '東京賽普拉斯旅館'}\n",
      "{'age': 7, 'been2tko': 1, 'days': 7, 'totalBudget': 40000, 'gender': 0, 'oneBudget': 200}\n",
      "[{'age': 41, 'cp_rating_dinner': 3.69, 'cp_rating_lunch': 3.71, 'feeling_rating_dinner': 3.64, 'feeling_rating_lunch': 3.69, 'female_prop': 24.02, 'label_code': 1, 'label_desc': '平消族', 'lat': 35.6536896, 'lng': 139.7558524, 'male_prop': 75.98, 'meal_duration': 1.0, 'prices_dinner': 7087, 'prices_lunch': 1559, 'rest_addr': '東京都港區浜鬆町2-11-8', 'rest_area': '濱松町・芝公園', 'rest_catg': '壽司', 'rest_rating': 4.0, 'service_rating_dinner': 3.71, 'service_rating_lunch': 4.06, 'store_nm_en': 'Miyaba', 'store_nm_jp': 'すし処 宮葉', 'transport': '浜松町駅（金杉橋口）徒歩3分。\\n都営浅草線大門駅から徒歩5分。\\n\\n\\n距离濱松町 191  米'}, {'age': 41, 'cp_rating_dinner': 4.37, 'cp_rating_lunch': 4.22, 'feeling_rating_dinner': 4.54, 'feeling_rating_lunch': 4.52, 'female_prop': 24.26, 'label_code': 0, 'label_desc': '高消族', 'lat': 35.6818504, 'lng': 139.7849853, 'male_prop': 75.74, 'meal_duration': 1.0, 'prices_dinner': 7087, 'prices_lunch': 7087, 'rest_addr': '東京都中央區日本橋蠣殼町1-33-6', 'rest_area': '人形町・小傳馬町', 'rest_catg': '壽司', 'rest_rating': 4.81, 'service_rating_dinner': 4.59, 'service_rating_lunch': 4.6, 'store_nm_en': 'Sugita', 'store_nm_jp': '日本橋蛎殻町 すぎた', 'transport': '水天宮前駅4番出口から徒歩約2分\\n\\n\\n距离水天宮前 105  米'}, {'age': 44, 'cp_rating_dinner': 4.36, 'cp_rating_lunch': 4.76, 'feeling_rating_dinner': 3.75, 'feeling_rating_lunch': 3.83, 'female_prop': 24.14, 'label_code': 0, 'label_desc': '高消族', 'lat': 35.724111, 'lng': 139.8174787, 'male_prop': 75.86, 'meal_duration': 1.0, 'prices_dinner': 4961, 'prices_lunch': 4961, 'rest_addr': '東京都墨田區東嚮島4-24-26', 'rest_area': '曳舟・向島・押上周邊', 'rest_catg': '壽司', 'rest_rating': 4.14, 'service_rating_dinner': 4.03, 'service_rating_lunch': 3.93, 'store_nm_en': 'Uwotoku', 'store_nm_jp': 'うを徳', 'transport': '東武伊勢崎線「東向島駅」より徒歩4～5分\\n京成押上線「京成曳舟駅」より徒歩15~20分\\n都営バス南千48/墨38/里22「百花園前」停留所より徒歩1分\\n\\n\\n距离東向島 171  米'}, {'age': 43, 'cp_rating_dinner': 3.46, 'cp_rating_lunch': 3.57, 'feeling_rating_dinner': 3.51, 'feeling_rating_lunch': 3.47, 'female_prop': 23.59, 'label_code': 1, 'label_desc': '平消族', 'lat': 35.6951723, 'lng': 139.7638945, 'male_prop': 76.41, 'meal_duration': 1.0, 'prices_dinner': 142, 'prices_lunch': 709, 'rest_addr': '東京都韆代田區神田小川町2-8', 'rest_area': '神田・御茶之水', 'rest_catg': '炸豬排/咖哩飯/可樂餅・油炸食品', 'rest_rating': 3.8, 'service_rating_dinner': 3.57, 'service_rating_lunch': 3.81, 'store_nm_en': 'Ponchiken', 'store_nm_jp': 'ポンチ軒', 'transport': '都営地下鉄新宿線【小川町駅】徒歩４分\\n東京メトロ丸ノ内線【淡路町駅】徒歩６分\\n東京メトロ千代田線【新御茶ノ水駅】徒歩６分\\nＪＲ中央線・総武線【御茶ノ水駅】徒歩７分\\n\\n\\n距离小川町 224  米'}, {'age': 43, 'cp_rating_dinner': 3.37, 'cp_rating_lunch': 3.54, 'feeling_rating_dinner': 3.89, 'feeling_rating_lunch': 4.05, 'female_prop': 23.5, 'label_code': 1, 'label_desc': '平消族', 'lat': 35.7251106, 'lng': 139.7970368, 'male_prop': 76.5, 'meal_duration': 1.5, 'prices_dinner': 709, 'prices_lunch': 709, 'rest_addr': '東京都檯東區日本隄1-9-2', 'rest_area': '町屋・南千住', 'rest_catg': '炸蝦丼飯・炸蝦便當/天婦羅', 'rest_rating': 3.77, 'service_rating_dinner': 3.33, 'service_rating_lunch': 3.64, 'store_nm_en': 'Dotenoiseya', 'store_nm_jp': '土手の伊勢屋', 'transport': '地下鉄日比谷線：三ノ輪駅から徒歩10分\\nJR常磐線：南千住駅から徒歩15分\\n吉原大門交差点そば\\n\\n\\n距离三之輪 722  米'}, {'age': 40, 'cp_rating_dinner': 3.52, 'cp_rating_lunch': 3.7, 'feeling_rating_dinner': 3.75, 'feeling_rating_lunch': 3.74, 'female_prop': 24.31, 'label_code': 1, 'label_desc': '平消族', 'lat': 35.7159573, 'lng': 139.7936649, 'male_prop': 75.69, 'meal_duration': 1.0, 'prices_dinner': 1559, 'prices_lunch': 1276, 'rest_addr': '東京都檯東區淺草2-17-10', 'rest_area': '淺草', 'rest_catg': '壽喜燒/鍋類（其他）', 'rest_rating': 3.76, 'service_rating_dinner': 3.33, 'service_rating_lunch': 3.43, 'store_nm_en': 'Yonekyuuhonten', 'store_nm_jp': '米久本店', 'transport': 'つくばエクスプレス\\u3000浅草駅\\u3000徒歩３分\\n東京メトロ銀座線、東武伊勢崎線\\u3000浅草駅\\u3000徒歩９分\\n東京メトロ銀座線\\u3000田原町駅\\u3000徒歩９分\\n\\n\\n距离淺草 234  米'}, {'age': 39, 'cp_rating_dinner': 3.38, 'cp_rating_lunch': 3.43, 'feeling_rating_dinner': 3.44, 'feeling_rating_lunch': 3.42, 'female_prop': 23.73, 'label_code': 1, 'label_desc': '平消族', 'lat': 35.5642016, 'lng': 139.7134663, 'male_prop': 76.27, 'meal_duration': 1.0, 'prices_dinner': 142, 'prices_lunch': 142, 'rest_addr': '東京都大田區西蒲田7-8-1', 'rest_area': '蒲田', 'rest_catg': '沾麵/拉麵', 'rest_rating': 3.85, 'service_rating_dinner': 3.49, 'service_rating_lunch': 3.52, 'store_nm_en': 'niboshitsukememmiyamoto', 'store_nm_jp': '煮干しつけ麺 宮元', 'transport': 'JR京浜東北線「蒲田」駅(西口)\\u3000から徒歩5分\\n\\n\\n距离蒲田 306  米'}, {'age': 37, 'cp_rating_dinner': 3.57, 'cp_rating_lunch': 3.94, 'feeling_rating_dinner': 3.24, 'feeling_rating_lunch': 3.58, 'female_prop': 23.76, 'label_code': 1, 'label_desc': '平消族', 'lat': 35.7726946, 'lng': 139.6925533, 'male_prop': 76.24, 'meal_duration': 1.0, 'prices_dinner': 142, 'prices_lunch': 142, 'rest_addr': '東京都闆橋區前野町4-58-10', 'rest_area': '板橋區公所前～（都營三田線）', 'rest_catg': '拉麵', 'rest_rating': 3.92, 'service_rating_dinner': 3.29, 'service_rating_lunch': 3.52, 'store_nm_en': 'Ibuki', 'store_nm_jp': '中華ソバ 伊吹', 'transport': '＜電車を使う場合＞\\n都営三田線「志村坂上」駅(A2出口)より、徒歩6分\\n＜バスを使う場合＞\\nJR赤羽駅、東武東上線ときわ台駅より国際興業バス赤53系統\\n「前野町４丁目」バス停下車徒歩2分\\n\\n\\n距离志村坂上 429  米'}, {'age': 40, 'cp_rating_dinner': 3.51, 'cp_rating_lunch': 3.61, 'feeling_rating_dinner': 3.5, 'feeling_rating_lunch': 3.59, 'female_prop': 23.76, 'label_code': 1, 'label_desc': '平消族', 'lat': 35.6705233, 'lng': 139.6223944, 'male_prop': 76.24, 'meal_duration': 1.0, 'prices_dinner': 142, 'prices_lunch': 142, 'rest_addr': '東京都世田穀區上北澤4-19-18', 'rest_area': '下高井戶～千歲烏山', 'rest_catg': '拉麵', 'rest_rating': 3.82, 'service_rating_dinner': 3.5, 'service_rating_lunch': 3.68, 'store_nm_en': 'Ramenkoike', 'store_nm_jp': 'らぁめん小池', 'transport': '京王本線「上北沢」駅(北口)より、徒歩４分\\n\\n\\n距离上北澤 202  米'}, {'age': 32, 'cp_rating_dinner': 3.76, 'cp_rating_lunch': 4.64, 'feeling_rating_dinner': 4.33, 'feeling_rating_lunch': 4.55, 'female_prop': 24.17, 'label_code': 0, 'label_desc': '高消族', 'lat': 35.6583941, 'lng': 139.723053, 'male_prop': 75.83, 'meal_duration': 1.0, 'prices_dinner': 4961, 'prices_lunch': 425, 'rest_addr': '東京都港區西痲佈2-24-14', 'rest_area': '六本木・乃木坂・西麻布', 'rest_catg': '燒肉/牛排', 'rest_rating': 4.2, 'service_rating_dinner': 4.22, 'service_rating_lunch': 4.55, 'store_nm_en': 'USHIGORO S.', 'store_nm_jp': 'USHIGORO S. NISHIAZABU', 'transport': '都営大江戸線 六本木駅2番出口より徒歩8分\\n東京メトロ 日比谷線六本木駅2番出口より徒歩8分\\n東京メトロ 日比谷線広尾駅3番出口より徒歩8分\\n東京メトロ 千代田線乃木坂駅5番出口より徒歩6分\\n\\n\\n距离乃木坂 799  米'}, {'age': 39, 'cp_rating_dinner': 3.52, 'cp_rating_lunch': 3.03, 'feeling_rating_dinner': 3.45, 'feeling_rating_lunch': 3.69, 'female_prop': 23.86, 'label_code': 1, 'label_desc': '平消族', 'lat': 35.6707809, 'lng': 139.7692631, 'male_prop': 76.14, 'meal_duration': 1.0, 'prices_dinner': 2551, 'prices_lunch': 425, 'rest_addr': '東京都中央區銀座3-12-5', 'rest_area': '銀座', 'rest_catg': '牛排/法式小酒館/餐飲酒館', 'rest_rating': 3.77, 'service_rating_dinner': 3.37, 'service_rating_lunch': 4.32, 'store_nm_en': 'Ibaia', 'store_nm_jp': 'IBAIA', 'transport': '距离東銀座 232  米'}, {'age': 38, 'cp_rating_dinner': 3.44, 'cp_rating_lunch': 3.64, 'feeling_rating_dinner': 3.78, 'feeling_rating_lunch': 4.0, 'female_prop': 23.82, 'label_code': 1, 'label_desc': '平消族', 'lat': 35.6623204, 'lng': 139.7128307, 'male_prop': 76.18, 'meal_duration': 1.0, 'prices_dinner': 1984, 'prices_lunch': 425, 'rest_addr': '東京都港區南青山5-7-17', 'rest_area': '表參道', 'rest_catg': '印度料理/印度咖哩', 'rest_rating': 3.83, 'service_rating_dinner': 3.57, 'service_rating_lunch': 3.7, 'store_nm_en': 'SITAARA', 'store_nm_jp': 'シターラ 青山店', 'transport': '東京メトロ銀座線・千代田線・半蔵門線【表参道駅】改札口\\u3000徒歩５分\\n\\u3000※地下通路Ｂ１地上口\\u3000徒歩３分\\n\\n\\n距离表參道 316  米'}, {'age': 43, 'cp_rating_dinner': 3.57, 'cp_rating_lunch': 3.81, 'feeling_rating_dinner': 3.69, 'feeling_rating_lunch': 3.83, 'female_prop': 23.67, 'label_code': 1, 'label_desc': '平消族', 'lat': 35.7325397, 'lng': 139.6451096, 'male_prop': 76.33, 'meal_duration': 1.0, 'prices_dinner': 425, 'prices_lunch': 425, 'rest_addr': '東京都練馬區中村2-5-11', 'rest_area': '練馬～練馬高野台・光之丘', 'rest_catg': '蕎麥麵', 'rest_rating': 3.78, 'service_rating_dinner': 3.51, 'service_rating_lunch': 3.56, 'store_nm_en': 'Gensoba Nonaka', 'store_nm_jp': '玄蕎麦 野中', 'transport': '西武池袋線「中村橋駅」南側出口から徒歩１4〜5分\\n\\n\\n距离中村橋 832  米'}, {'age': 39, 'cp_rating_dinner': 3.96, 'cp_rating_lunch': 4.0, 'feeling_rating_dinner': 3.35, 'feeling_rating_lunch': 3.27, 'female_prop': 23.48, 'label_code': 1, 'label_desc': '平消族', 'lat': 35.6854123, 'lng': 139.7753649, 'male_prop': 76.52, 'meal_duration': 1.5, 'prices_dinner': 142, 'prices_lunch': 142, 'rest_addr': '東京都中央區日本橋室町1-11-15', 'rest_area': '日本橋・京橋', 'rest_catg': '炸蝦丼飯・炸蝦便當/便當/星鰻', 'rest_rating': 3.77, 'service_rating_dinner': 3.39, 'service_rating_lunch': 3.28, 'store_nm_en': 'nihombashitendonkanekohannosuke', 'store_nm_jp': '日本橋 天丼 金子半之助 本店', 'transport': '東京メトロ半蔵門線・銀座線「三越前」駅(A1出口)から徒歩1分\\n東京メトロ東西線「日本橋」駅から徒歩4分\\nJR総武本線「新日本橋」駅から徒歩5分\\n\\n\\n距离三越前 157  米'}]\n"
     ]
    },
    {
     "name": "stdout",
     "output_type": "stream",
     "text": [
      "=====================\n",
      " 第1天行程：\n",
      "雷門 Nakamise Shopping Street (Kaminarimon)約8.9 公里，景點間通勤約需19 分鐘。\n",
      "---------------\n",
      "淺草文化觀光中心 Asakusa Culture Tourist Information Center約61 公尺，景點間通勤約需1 分鐘。\n",
      "---------------\n",
      "淺草 Asakusa約2.0 公里，景點間通勤約需8 分鐘。\n",
      "---------------\n",
      "\n",
      "地圖連結：https://45a28610.ngrok.io/images/day1-U374824a0557f0767db8c194dae6c6002-1574398134609map.html\n",
      "===============\n",
      "第2天行程：\n",
      "惠比壽啤酒紀念館 Museum of Yebisu Beer約22.3 公里，景點間通勤約需30 分鐘。\n",
      "---------------\n",
      "國立劇場 National Theatre約7.3 公里，景點間通勤約需15 分鐘。\n",
      "---------------\n",
      "上野動物園 Ueno Zoo約6.1 公里，景點間通勤約需20 分鐘。\n",
      "---------------\n",
      "\n",
      "地圖連結：https://45a28610.ngrok.io/images/day2-U374824a0557f0767db8c194dae6c6002-1574398134609map.html\n",
      "===============\n",
      "第3天行程：\n",
      "隅田公園 Sumida Park約7.7 公里，景點間通勤約需11 分鐘。\n",
      "---------------\n",
      "秋葉原電器街 Akihabara約8.9 公里，景點間通勤約需16 分鐘。\n",
      "---------------\n",
      "春花園 BONSAI 美術館 Shunkaen BONSAI Museum約12.3 公里，景點間通勤約需24 分鐘。\n",
      "---------------\n",
      "\n",
      "地圖連結：https://45a28610.ngrok.io/images/day3-U374824a0557f0767db8c194dae6c6002-1574398134609map.html\n",
      "===============\n",
      "第4天行程：\n",
      "日比谷公園 Hibiya Park約16.3 公里，景點間通勤約需24 分鐘。\n",
      "---------------\n",
      " Kuhombutsu Joshin-ji Temple約13.7 公里，景點間通勤約需29 分鐘。\n",
      "---------------\n",
      "東京都寫真美術館 Tokyo Photographic Art Museum約7.0 公里，景點間通勤約需19 分鐘。\n",
      "---------------\n",
      "\n",
      "地圖連結：https://45a28610.ngrok.io/images/day4-U374824a0557f0767db8c194dae6c6002-1574398134609map.html\n",
      "===============\n",
      "第5天行程：\n",
      "巢鴨地藏通商店街 Sugamo Jizo-dori Shopping Street約16.2 公里，景點間通勤約需27 分鐘。\n",
      "---------------\n",
      "貨幣博物館 Bank of Japan Currency Museum約14.1 公里，景點間通勤約需18 分鐘。\n",
      "---------------\n",
      "淺草花屋敷遊樂園 Hanayashiki約6.1 公里，景點間通勤約需14 分鐘。\n",
      "---------------\n",
      "\n",
      "地圖連結：https://45a28610.ngrok.io/images/day5-U374824a0557f0767db8c194dae6c6002-1574398134609map.html\n",
      "===============\n",
      "第6天行程：\n",
      "文京居民活動中心 Bunkyo Civic Center約19.9 公里，景點間通勤約需25 分鐘。\n",
      "---------------\n",
      " Nittere Plaza約8.2 公里，景點間通勤約需20 分鐘。\n",
      "---------------\n",
      " Takashimaya Nihombashi約2.6 公里，景點間通勤約需7 分鐘。\n",
      "---------------\n",
      "\n",
      "地圖連結：https://45a28610.ngrok.io/images/day6-U374824a0557f0767db8c194dae6c6002-1574398134609map.html\n",
      "===============\n",
      " \n",
      "=======================\n",
      "type ==> <class 'linebot.exceptions.LineBotApiError'>\n",
      "value ==> LineBotApiError: status_code=400, error_response={\"details\": [], \"message\": \"Invalid reply token\"}\n",
      "traceback ==> file name: <ipython-input-25-a23c8ff16dbb>\n",
      "traceback ==> line no: 156\n",
      "traceback ==> function name: handle_message\n",
      "::tripStart:\n",
      "Erving,U374824a0557f0767db8c194dae6c6002\n",
      "{\"data\": \"tripStart\"}\n",
      "1574398134870,2019-11-22 04:48:54.870000\n",
      "{'age': 7, 'been2tko': 1, 'days': 7, 'budget': 40000, 'isFemale': 0, 'fbudget': 12000, 'dDate': '2020-03-31', 'rDate': '2020-04-07'}\n",
      "{'airline': 'Tigerair Taiwan', 'date_format(eta,\"%a\")': 'Tue', 'date_format(etd,\"%a\")': 'Tue', 'date_format(tuEta,\"%a\")': 'Tue', 'date_format(tuEtd,\"%a\")': 'Tue', 'price': 8067, 'time_format(eta,\"%T\")': '10:35:00', 'time_format(etd,\"%T\")': '06:35:00', 'time_format(sec_to_time(dur),\"%T\")': '03:00:00', 'time_format(sec_to_time(tuDur),\"%T\")': '03:55:00', 'time_format(tuEta,\"%T\")': '07:55:00', 'time_format(tuEtd,\"%T\")': '05:00:00'}\n",
      "bk by tue\n",
      "{'age': 7, 'been2tko': 1, 'howlong': 7, 'budget': 40000, 'isFemale': 0, 'with_child': 0, 'crampedSechedule': False}\n",
      "['[{\"index\":2,\"name\":\"淺草 Asakusa\",\"rank\":\"排名第 1的台東區觀光 (共560家)\",\"address\":\"東京都台東區\",\"child\":0.0087715012,\"latitude\":35.7125736,\"longitude\":139.7802043,\"score\":241,\"chosen\":true},{\"index\":48,\"name\":\"雷門 Nakamise Shopping Street (Kaminarimon)\",\"rank\":\"排名第 18的台東區觀光 (共560家)\",\"address\":\"東京都台東區淺草1丁目3\",\"child\":0.0048539208,\"latitude\":35.7110859,\"longitude\":139.7959648,\"score\":114,\"chosen\":true},{\"index\":35,\"name\":\"淺草文化觀光中心 Asakusa Culture Tourist Information Center\",\"rank\":\"排名第 3的台東區觀光 (共560家)\",\"address\":\"東京都台東區2-18-9 Kaminarimon111-0034\",\"child\":0.0040560983,\"latitude\":35.7106489,\"longitude\":139.7965348,\"score\":106,\"chosen\":true}]', '[{\"index\":63,\"name\":\"東京國立近代美術館 The National Museum of Modern Art\",\"rank\":\"排名第 8的千代田區觀光 (共446家)\",\"address\":\"東京都千代田區北之丸公園3-1102-0091\",\"child\":0.0331610791,\"latitude\":35.6919267,\"longitude\":139.7505761,\"score\":70,\"chosen\":true},{\"index\":30,\"name\":\"代代木公園 Yoyogi Park\",\"rank\":\"排名第 7的澀谷區觀光 (共279家)\",\"address\":\"東京都澀谷區代代木神園町·神南二丁目151-0052\",\"child\":0.0381138154,\"latitude\":35.6715869,\"longitude\":139.6967028,\"score\":114,\"chosen\":true},{\"index\":230,\"name\":\"晴海埠頭 Harumi Wharf\",\"rank\":\"排名第 41的中央區觀光 (共577家)\",\"address\":\"東京都中央區晴海3‐10‐1104-0053\",\"child\":0.0,\"latitude\":35.6539146,\"longitude\":139.7793462,\"score\":114,\"chosen\":true}]', '[{\"index\":134,\"name\":\"太田現代美術博物館 Ota Memorial Museum of Art\",\"rank\":\"排名第 5的澀谷區觀光 (共279家)\",\"address\":\"東京都澀谷區惠比壽西2-8-1150-0001\",\"child\":0.0702455514,\"latitude\":35.6432025,\"longitude\":139.7145181,\"score\":70,\"chosen\":true},{\"index\":150,\"name\":\"代代木八幡宮 Yoyogi Hachimangu Shrine\",\"rank\":\"排名第 13的澀谷區觀光 (共279家)\",\"address\":\"東京都澀谷區代代木5-1-1151-0053\",\"child\":0.0,\"latitude\":35.671594,\"longitude\":139.6884254,\"score\":114,\"chosen\":true},{\"index\":224,\"name\":\" Takashimaya Nihombashi\",\"rank\":\"排名第 24的中央區觀光 (共577家)\",\"address\":\"東京都中央區2-4-1 Nihombashi103-8265\",\"child\":0.0,\"latitude\":35.6807683,\"longitude\":139.7735492,\"score\":168,\"chosen\":true}]', '[{\"index\":135,\"name\":\" Tokyo Dome City Attractions\",\"rank\":\"排名第 17的文京區觀光 (共297家)\",\"address\":\"東京都文京區1-3-61 Koraku112-8575\",\"child\":0.664388499,\"latitude\":35.7056396,\"longitude\":139.7518913,\"score\":70,\"chosen\":true},{\"index\":51,\"name\":\" Diver City Tokyo購物廣場 Diver City Tokyo Plaza\",\"rank\":\"排名第 8的江東區觀光 (共343家)\",\"address\":\"東京都江東區1-1-10 Aomi135-0064\",\"child\":0.1594495359,\"latitude\":35.6253599,\"longitude\":139.7759888,\"score\":84,\"chosen\":true},{\"index\":65,\"name\":\"消防博物館 Fire Museum\",\"rank\":\"排名第 1的Yotsuya觀光 (共9家)\",\"address\":\"東京都新宿區Yotsuya四谷3-10160-0004\",\"child\":0.851345428,\"latitude\":35.6879356,\"longitude\":139.7201799,\"score\":70,\"chosen\":true}]', '[{\"index\":118,\"name\":\"朝倉雕塑館 ASAKURA Museum of Sculpture, Taito\",\"rank\":\"排名第 14的台東區觀光 (共560家)\",\"address\":\"東京都台東區谷中7-18-10110-0001\",\"child\":0.0,\"latitude\":35.7269979,\"longitude\":139.7685625,\"score\":70,\"chosen\":true},{\"index\":202,\"name\":\"上野動物園 Ueno Zoo\",\"rank\":\"排名第 36的台東區觀光 (共560家)\",\"address\":\"東京都台東區上野公園9-83110-8711\",\"child\":0.0352721635,\"latitude\":35.716055,\"longitude\":139.7709587,\"score\":183,\"chosen\":true},{\"index\":254,\"name\":\"荒川區 Arakawa Yuen\",\"rank\":\"排名第 3的荒川區觀光 (共75家)\",\"address\":\"東京都荒川區6-35-11 Nishiogu116-0011\",\"child\":0.4185751295,\"latitude\":35.7533686,\"longitude\":139.7580286,\"score\":70,\"chosen\":true}]', '[{\"index\":124,\"name\":\"貨幣博物館 Bank of Japan Currency Museum\",\"rank\":\"排名第 11的中央區觀光 (共577家)\",\"address\":\"東京都中央區日本橋本石町1-3-1103-0021\",\"child\":0.170981757,\"latitude\":35.6852515,\"longitude\":139.7725791,\"score\":70,\"chosen\":true},{\"index\":81,\"name\":\"谷中銀座商店街 Yanaka\",\"rank\":\"排名第 1的Nishinippori觀光 (共7家)\",\"address\":\"東京都荒川區NishinipporiYanaka\",\"child\":0.0126988786,\"latitude\":35.7354324,\"longitude\":139.7772168,\"score\":114,\"chosen\":true},{\"index\":9,\"name\":\"江戶東京博物館 Edo-Tokyo Museum\",\"rank\":\"排名第 1的墨田區觀光 (共264家)\",\"address\":\"東京都墨田區橫綱1-4-1130-0015\",\"child\":0.111052142,\"latitude\":35.6991952,\"longitude\":139.796385,\"score\":70,\"chosen\":true}]']\n",
      "{'age': 7, 'been2tko': 1, 'days': 7, 'budget': 40000, 'isFemale': 0, 'hotel budget': 2000}\n",
      "{'CP': 3.684661525, 'pre': 2.0, '交通1': '京橋站 - 走路 2 分鐘', '交通2': '八丁堀站 - 走路 10 分鐘', '交通3': '東京, 日本 (HND-羽田機場) - 車程 15 分鐘', '交通便利性': '2', '價格': 1167.0, '地址': '2-5-4 Kyobashi, 東京, 東京', '廚房': 0.0, '星等': 3.0, '經度': 139.770714, '網址': 'https://www.expedia.com.tw/Tokyo-Hotels-Another-TOKYO.h34404110.Hotel-Information?chkin=2019%2F10%2F4&chkout=2019%2F10%2F5&regionId=179900&destination=%E6%9D%B1%E4%BA%AC+%28%E5%8F%8A%E9%84%B0%E8%BF%91%E5%9C%B0%E5%8D%80%29%2C+%E6%97%A5%E6%9C%AC&swpToggleOn=true&rm1=a1&x_pwa=1&sort=recommended&top_dp=1167&top_cur=TWD&rfrr=HSR&pwa_ts=1570019075313', '緯度': 35.676451, '評價': 4.3, '鄰近景點1': '歌舞伎座 - 步行 13 分鐘', '鄰近景點2': '皇居 - 步行 19 分鐘', '鄰近景點3': '國會議事堂 - 開車 3 分鐘', '鄰近景點4': '皇居東御苑 - 開車 5 分鐘', '鄰近景點5': '秋葉原電器街 - 開車 17 分鐘', '飯店名稱': '東京另一面飯店'}\n",
      "{'age': 7, 'been2tko': 1, 'days': 7, 'totalBudget': 40000, 'gender': 0, 'oneBudget': 200}\n",
      "[{'age': 41, 'cp_rating_dinner': 3.99, 'cp_rating_lunch': 4.3, 'feeling_rating_dinner': 3.9, 'feeling_rating_lunch': 3.99, 'female_prop': 23.76, 'label_code': 1, 'label_desc': '平消族', 'lat': 35.6710833, 'lng': 139.761152, 'male_prop': 76.24, 'meal_duration': 1.0, 'prices_dinner': 4961, 'prices_lunch': 1559, 'rest_addr': '東京都中央區銀座6-4-13', 'rest_area': '銀座', 'rest_catg': '壽司', 'rest_rating': 3.85, 'service_rating_dinner': 3.91, 'service_rating_lunch': 3.82, 'store_nm_en': 'Sushitaichi', 'store_nm_jp': '鮨 太一', 'transport': '地下鉄銀座駅から徒歩5分\\n地下鉄東銀座から徒歩12分\\n\\n\\n距离銀座 266  米'}, {'age': 42, 'cp_rating_dinner': 3.97, 'cp_rating_lunch': 4.0, 'feeling_rating_dinner': 3.97, 'feeling_rating_lunch': 3.81, 'female_prop': 23.92, 'label_code': 1, 'label_desc': '平消族', 'lat': 35.6697444, 'lng': 139.7619383, 'male_prop': 76.08, 'meal_duration': 1.0, 'prices_dinner': 7087, 'prices_lunch': 425, 'rest_addr': '東京都中央區銀座7-6-5', 'rest_area': '銀座', 'rest_catg': '壽司', 'rest_rating': 3.78, 'service_rating_dinner': 3.98, 'service_rating_lunch': 4.0, 'store_nm_en': 'Sushi Take', 'store_nm_jp': '鮨竹', 'transport': '銀座駅A1出口より徒歩5分\\n\\n\\n距离銀座 310  米'}, {'age': 39, 'cp_rating_dinner': 4.06, 'cp_rating_lunch': 4.27, 'feeling_rating_dinner': 3.6, 'feeling_rating_lunch': 4.39, 'female_prop': 23.66, 'label_code': 1, 'label_desc': '平消族', 'lat': 35.6703533, 'lng': 139.7598446, 'male_prop': 76.34, 'meal_duration': 1.0, 'prices_dinner': 4961, 'prices_lunch': 425, 'rest_addr': '東京都中央區銀座7-2-14', 'rest_area': '銀座', 'rest_catg': '壽司', 'rest_rating': 3.92, 'service_rating_dinner': 3.82, 'service_rating_lunch': 4.39, 'store_nm_en': 'Sushidokoroyamada', 'store_nm_jp': '鮨處やまだ', 'transport': '新橋駅より徒歩5分\\n\\n\\n距离內幸町 367  米'}, {'age': 37, 'cp_rating_dinner': 4.26, 'cp_rating_lunch': 3.63, 'feeling_rating_dinner': 4.68, 'feeling_rating_lunch': 3.75, 'female_prop': 24.24, 'label_code': 0, 'label_desc': '高消族', 'lat': 35.6555932, 'lng': 139.7347677, 'male_prop': 75.76, 'meal_duration': 1.0, 'prices_dinner': 9922, 'prices_lunch': 425, 'rest_addr': '東京都港區痲佈十番2-8-6', 'rest_area': '麻布十番', 'rest_catg': '天婦羅', 'rest_rating': 4.56, 'service_rating_dinner': 4.62, 'service_rating_lunch': 3.4, 'store_nm_en': 'Takiya', 'store_nm_jp': 'たきや', 'transport': '都営大江戸線「麻布十番」駅\\u30007番出口\\u3000徒歩3分\\n東京メトロ南北線麻「布十番駅」駅\\u30004番出口\\u3000徒歩3分\\n\\n\\n距离麻布十番 156  米'}, {'age': 43, 'cp_rating_dinner': 3.46, 'cp_rating_lunch': 3.57, 'feeling_rating_dinner': 3.51, 'feeling_rating_lunch': 3.47, 'female_prop': 23.59, 'label_code': 1, 'label_desc': '平消族', 'lat': 35.6951723, 'lng': 139.7638945, 'male_prop': 76.41, 'meal_duration': 1.0, 'prices_dinner': 142, 'prices_lunch': 709, 'rest_addr': '東京都韆代田區神田小川町2-8', 'rest_area': '神田・御茶之水', 'rest_catg': '炸豬排/咖哩飯/可樂餅・油炸食品', 'rest_rating': 3.8, 'service_rating_dinner': 3.57, 'service_rating_lunch': 3.81, 'store_nm_en': 'Ponchiken', 'store_nm_jp': 'ポンチ軒', 'transport': '都営地下鉄新宿線【小川町駅】徒歩４分\\n東京メトロ丸ノ内線【淡路町駅】徒歩６分\\n東京メトロ千代田線【新御茶ノ水駅】徒歩６分\\nＪＲ中央線・総武線【御茶ノ水駅】徒歩７分\\n\\n\\n距离小川町 224  米'}, {'age': 40, 'cp_rating_dinner': 3.59, 'cp_rating_lunch': 3.97, 'feeling_rating_dinner': 3.68, 'feeling_rating_lunch': 3.91, 'female_prop': 23.92, 'label_code': 1, 'label_desc': '平消族', 'lat': 35.6696498, 'lng': 139.7616456, 'male_prop': 76.08, 'meal_duration': 1.0, 'prices_dinner': 7087, 'prices_lunch': 425, 'rest_addr': '東京都中央區銀座7-6-16', 'rest_area': '銀座', 'rest_catg': '鐵板燒/壽喜燒/牛排', 'rest_rating': 3.77, 'service_rating_dinner': 3.58, 'service_rating_lunch': 3.99, 'store_nm_en': 'Okahan', 'store_nm_jp': '岡半 本店', 'transport': '東京メトロ銀座線・丸の内線・日比谷線\\u3000銀座駅\\u3000B6出口\\u3000徒歩6分\\n東京メトロ銀座線・都営地下鉄浅草線\\u3000新橋駅\\u30003番出口\\u3000徒歩7分\\nJR東海道線\\u3000新橋駅\\u3000銀座口\\u3000徒歩8分\\n\\n\\n距离銀座 334  米'}, {'age': 42, 'cp_rating_dinner': 3.3, 'cp_rating_lunch': 3.32, 'feeling_rating_dinner': 3.25, 'feeling_rating_lunch': 3.36, 'female_prop': 23.56, 'label_code': 1, 'label_desc': '平消族', 'lat': 35.6870985, 'lng': 139.764569, 'male_prop': 76.44, 'meal_duration': 1.0, 'prices_dinner': 425, 'prices_lunch': 142, 'rest_addr': '東京都韆代田區汍の內1-9-1', 'rest_area': '丸之內・大手町', 'rest_catg': '沾麵/拉麵', 'rest_rating': 3.79, 'service_rating_dinner': 3.36, 'service_rating_lunch': 3.36, 'store_nm_en': 'Rokurinsha', 'store_nm_jp': '六厘舎', 'transport': 'JR各線「東京」駅の八重洲口B1F\\n在来線、東海道新幹線 八重洲中央南口改札を出て、すぐ右へ。階段下りてすぐ 。\\nもしくは、八重洲地下中央改札出て右へ。突き当たり手前左側。\\n\\n\\n距离東京 130  米'}, {'age': 40, 'cp_rating_dinner': 3.05, 'cp_rating_lunch': 2.99, 'feeling_rating_dinner': 3.58, 'feeling_rating_lunch': 3.67, 'female_prop': 23.57, 'label_code': 1, 'label_desc': '平消族', 'lat': 35.7310346, 'lng': 139.7607955, 'male_prop': 76.43, 'meal_duration': 1.0, 'prices_dinner': 425, 'prices_lunch': 425, 'rest_addr': '東京都文京區韆馱木4-21-3', 'rest_area': '日暮里', 'rest_catg': '拉麵/中式麵類（其他）', 'rest_rating': 3.8, 'service_rating_dinner': 3.88, 'service_rating_lunch': 3.87, 'store_nm_en': 'Kamunabi', 'store_nm_jp': '神名備', 'transport': 'JR山手線「西日暮里」駅から徒歩10分\\n東京メトロ千代田線「千駄木」駅(2番出口)から徒歩10分\\n\\n\\n距离西日暮里 556  米'}, {'age': 37, 'cp_rating_dinner': 3.5, 'cp_rating_lunch': 3.09, 'feeling_rating_dinner': 3.5, 'feeling_rating_lunch': 3.04, 'female_prop': 23.81, 'label_code': 1, 'label_desc': '平消族', 'lat': 35.6887487, 'lng': 139.7082823, 'male_prop': 76.19, 'meal_duration': 1.0, 'prices_dinner': 142, 'prices_lunch': 142, 'rest_addr': '東京都新宿區新宿2-4-1', 'rest_area': '新宿御苑', 'rest_catg': '拉麵/沾麵', 'rest_rating': 3.86, 'service_rating_dinner': 3.36, 'service_rating_lunch': 3.45, 'store_nm_en': 'sobahausukonjikihototogisu', 'store_nm_jp': 'SOBA HOUSE 金色不如帰', 'transport': '距离新宿御苑前 224  米'}, {'age': 40, 'cp_rating_dinner': 3.23, 'cp_rating_lunch': 4.56, 'feeling_rating_dinner': 3.56, 'feeling_rating_lunch': 4.38, 'female_prop': 24.23, 'label_code': 0, 'label_desc': '高消族', 'lat': 35.6633155, 'lng': 139.7346788, 'male_prop': 75.77, 'meal_duration': 1.5, 'prices_dinner': 15591, 'prices_lunch': 425, 'rest_addr': '東京都港區六本木3-8-8', 'rest_area': '六本木・乃木坂・西麻布', 'rest_catg': '河豚', 'rest_rating': 4.55, 'service_rating_dinner': 3.97, 'service_rating_lunch': 4.26, 'store_nm_en': 'Ajiman', 'store_nm_jp': '味満ん', 'transport': '六本木駅から１０分\\n\\n\\n距离六本木 324  米'}, {'age': 39, 'cp_rating_dinner': 3.34, 'cp_rating_lunch': 3.32, 'feeling_rating_dinner': 3.39, 'feeling_rating_lunch': 3.23, 'female_prop': 23.53, 'label_code': 1, 'label_desc': '平消族', 'lat': 35.626102, 'lng': 139.7205803, 'male_prop': 76.47, 'meal_duration': 1.0, 'prices_dinner': 992, 'prices_lunch': 425, 'rest_addr': '東京都品川區西五反田2-15-13', 'rest_area': '五反田・高輪台', 'rest_catg': '漢堡/牛排', 'rest_rating': 3.79, 'service_rating_dinner': 3.35, 'service_rating_lunch': 3.31, 'store_nm_en': 'Mitoyazawa', 'store_nm_jp': 'ミート矢澤', 'transport': '都営地下鉄浅草線【五反田駅】徒歩３分（Ａ２地上口利用）\\nＪＲ山手線【五反田駅】徒歩５分\\n東急池上線【五反田駅】徒歩６分\\n\\n\\n距离五反田 283  米'}, {'age': 39, 'cp_rating_dinner': 3.51, 'cp_rating_lunch': 4.02, 'feeling_rating_dinner': 3.38, 'feeling_rating_lunch': 3.55, 'female_prop': 24.09, 'label_code': 1, 'label_desc': '平消族', 'lat': 35.6973197, 'lng': 139.7625974, 'male_prop': 75.91, 'meal_duration': 1.0, 'prices_dinner': 142, 'prices_lunch': 142, 'rest_addr': '東京都韆代田區神田駿河檯3-3-3', 'rest_area': '神田・御茶之水', 'rest_catg': '印度咖哩/咖哩飯', 'rest_rating': 4.09, 'service_rating_dinner': 3.3, 'service_rating_lunch': 3.36, 'store_nm_en': 'kare-raisudhiran', 'store_nm_jp': 'カレーライス ディラン', 'transport': '地下鉄「小川町」Ｂ３出口から徒歩２分\\n東京メトロ千代田線新御茶ノ水駅B３出口から徒歩２分\\n\\n\\n距离新御茶之水 182  米'}, {'age': 48, 'cp_rating_dinner': 3.26, 'cp_rating_lunch': 3.38, 'feeling_rating_dinner': 3.45, 'feeling_rating_lunch': 3.8, 'female_prop': 24.34, 'label_code': 1, 'label_desc': '平消族', 'lat': 35.6675833, 'lng': 139.7701571, 'male_prop': 75.66, 'meal_duration': 1.0, 'prices_dinner': 992, 'prices_lunch': 425, 'rest_addr': '東京都中央區築地2-15-20', 'rest_area': '築地', 'rest_catg': '蕎麥麵', 'rest_rating': 3.76, 'service_rating_dinner': 3.49, 'service_rating_lunch': 3.75, 'store_nm_en': 'Tsukijinunotsunesarashina', 'store_nm_jp': '築地 布恒更科', 'transport': '日比谷線築地駅、徒歩3分。東銀座より徒歩6分。\\n大江戸線築地市場駅、徒歩３分。\\n\\n\\n距离築地 227  米'}, {'age': 39, 'cp_rating_dinner': 3.96, 'cp_rating_lunch': 4.0, 'feeling_rating_dinner': 3.35, 'feeling_rating_lunch': 3.27, 'female_prop': 23.48, 'label_code': 1, 'label_desc': '平消族', 'lat': 35.6854123, 'lng': 139.7753649, 'male_prop': 76.52, 'meal_duration': 1.5, 'prices_dinner': 142, 'prices_lunch': 142, 'rest_addr': '東京都中央區日本橋室町1-11-15', 'rest_area': '日本橋・京橋', 'rest_catg': '炸蝦丼飯・炸蝦便當/便當/星鰻', 'rest_rating': 3.77, 'service_rating_dinner': 3.39, 'service_rating_lunch': 3.28, 'store_nm_en': 'nihombashitendonkanekohannosuke', 'store_nm_jp': '日本橋 天丼 金子半之助 本店', 'transport': '東京メトロ半蔵門線・銀座線「三越前」駅(A1出口)から徒歩1分\\n東京メトロ東西線「日本橋」駅から徒歩4分\\nJR総武本線「新日本橋」駅から徒歩5分\\n\\n\\n距离三越前 157  米'}]\n"
     ]
    },
    {
     "name": "stdout",
     "output_type": "stream",
     "text": [
      "=====================\n",
      " 第1天行程：\n",
      "淺草 Asakusa約4.9 公里，景點間通勤約需8 分鐘。\n",
      "---------------\n",
      "雷門 Nakamise Shopping Street (Kaminarimon)約1.8 公里，景點間通勤約需7 分鐘。\n",
      "---------------\n",
      "淺草文化觀光中心 Asakusa Culture Tourist Information Center約61 公尺，景點間通勤約需1 分鐘。\n",
      "---------------\n",
      "\n",
      "地圖連結：https://45a28610.ngrok.io/images/day1-U374824a0557f0767db8c194dae6c6002-1574398134868map.html\n",
      "===============\n",
      "第2天行程：\n",
      "東京國立近代美術館 The National Museum of Modern Art約4.3 公里，景點間通勤約需8 分鐘。\n",
      "---------------\n",
      "代代木公園 Yoyogi Park約8.7 公里，景點間通勤約需13 分鐘。\n",
      "---------------\n",
      "晴海埠頭 Harumi Wharf約11.3 公里，景點間通勤約需24 分鐘。\n",
      "---------------\n",
      "\n",
      "地圖連結：https://45a28610.ngrok.io/images/day2-U374824a0557f0767db8c194dae6c6002-1574398134868map.html\n",
      "===============\n",
      "第3天行程：\n",
      "太田現代美術博物館 Ota Memorial Museum of Art約8.8 公里，景點間通勤約需15 分鐘。\n",
      "---------------\n",
      "代代木八幡宮 Yoyogi Hachimangu Shrine約5.7 公里，景點間通勤約需16 分鐘。\n",
      "---------------\n",
      " Takashimaya Nihombashi約11.4 公里，景點間通勤約需19 分鐘。\n",
      "---------------\n",
      "\n",
      "地圖連結：https://45a28610.ngrok.io/images/day3-U374824a0557f0767db8c194dae6c6002-1574398134868map.html\n",
      "===============\n",
      "第4天行程：\n",
      " Tokyo Dome City Attractions約5.5 公里，景點間通勤約需13 分鐘。\n",
      "---------------\n",
      "消防博物館 Fire Museum約4.8 公里，景點間通勤約需15 分鐘。\n",
      "---------------\n",
      " Diver City Tokyo購物廣場 Diver City Tokyo Plaza約13.1 公里，景點間通勤約需23 分鐘。\n",
      "---------------\n",
      "\n",
      "地圖連結：https://45a28610.ngrok.io/images/day4-U374824a0557f0767db8c194dae6c6002-1574398134868map.html\n",
      "===============\n",
      "第5天行程：\n",
      "荒川區 Arakawa Yuen約17.2 公里，景點間通勤約需23 分鐘。\n",
      "---------------\n",
      "朝倉雕塑館 ASAKURA Museum of Sculpture, Taito約4.2 公里，景點間通勤約需16 分鐘。\n",
      "---------------\n",
      "上野動物園 Ueno Zoo約1.5 公里，景點間通勤約需6 分鐘。\n",
      "---------------\n",
      "\n",
      "地圖連結：https://45a28610.ngrok.io/images/day5-U374824a0557f0767db8c194dae6c6002-1574398134868map.html\n",
      "===============\n",
      "第6天行程：\n",
      "谷中銀座商店街 Yanaka約9.3 公里，景點間通勤約需19 分鐘。\n",
      "---------------\n",
      "江戶東京博物館 Edo-Tokyo Museum約6.2 公里，景點間通勤約需20 分鐘。\n",
      "---------------\n",
      "貨幣博物館 Bank of Japan Currency Museum約3.3 公里，景點間通勤約需11 分鐘。\n",
      "---------------\n",
      "\n",
      "地圖連結：https://45a28610.ngrok.io/images/day6-U374824a0557f0767db8c194dae6c6002-1574398134868map.html\n",
      "===============\n",
      " \n",
      "=======================\n",
      "type ==> <class 'linebot.exceptions.LineBotApiError'>\n",
      "value ==> LineBotApiError: status_code=400, error_response={\"details\": [], \"message\": \"Invalid reply token\"}\n",
      "traceback ==> file name: <ipython-input-25-a23c8ff16dbb>\n",
      "traceback ==> line no: 156\n",
      "traceback ==> function name: handle_message\n",
      "::tripStart:\n",
      "{'age': 7, 'been2tko': 1, 'days': 7, 'budget': 40000, 'isFemale': 0, 'fbudget': 12000, 'dDate': '2020-03-31', 'rDate': '2020-04-07'}\n",
      "{'airline': 'Tigerair Taiwan', 'date_format(eta,\"%a\")': 'Tue', 'date_format(etd,\"%a\")': 'Tue', 'date_format(tuEta,\"%a\")': 'Tue', 'date_format(tuEtd,\"%a\")': 'Tue', 'price': 8067, 'time_format(eta,\"%T\")': '10:35:00', 'time_format(etd,\"%T\")': '06:35:00', 'time_format(sec_to_time(dur),\"%T\")': '03:00:00', 'time_format(sec_to_time(tuDur),\"%T\")': '03:55:00', 'time_format(tuEta,\"%T\")': '07:55:00', 'time_format(tuEtd,\"%T\")': '05:00:00'}\n",
      "bk by tue\n",
      "{'age': 7, 'been2tko': 1, 'howlong': 7, 'budget': 40000, 'isFemale': 0, 'with_child': 0, 'crampedSechedule': False}\n",
      "['[{\"index\":265,\"name\":\"東京迪士尼海洋樂園 Tokyo DisneySea\",\"rank\":\"排名第 1的Maihama觀光 (共5家)\",\"address\":\"千葉縣浦安Maihama1-13279-0031\",\"child\":0.75,\"latitude\":35.62675,\"longitude\":139.885095,\"score\":94,\"chosen\":true}]', '[{\"index\":226,\"name\":\" Nittere Plaza\",\"rank\":\"排名第 50的港區觀光 (共626家)\",\"address\":\"東京都港區1-6-1 HigashishinbashiNippon Television Tower105-0021\",\"child\":0.233813924,\"latitude\":35.6644037,\"longitude\":139.7599456,\"score\":70,\"chosen\":true},{\"index\":100,\"name\":\"舊芝離宮恩賜庭園 Former Shiba Rikyu Gardens\",\"rank\":\"排名第 18的港區觀光 (共626家)\",\"address\":\"東京都港區1-4-1 Kaigan105-0022\",\"child\":0.0,\"latitude\":35.6557371,\"longitude\":139.7580118,\"score\":114,\"chosen\":true},{\"index\":137,\"name\":\"護國寺 Gokokuji Temple\",\"rank\":\"排名第 10的文京區觀光 (共297家)\",\"address\":\"東京都文京區5-40-1 Otsuka112-0012\",\"child\":0.0,\"latitude\":35.7212429,\"longitude\":139.7271378,\"score\":114,\"chosen\":true}]', '[{\"index\":45,\"name\":\"東京都庭園美術館 Tokyo Metropolitan Teien Art Museum\",\"rank\":\"排名第 9的港區觀光 (共626家)\",\"address\":\"東京都港區白金台5-21-9108-0071\",\"child\":0.0,\"latitude\":35.6381742,\"longitude\":139.7198607,\"score\":70,\"chosen\":true},{\"index\":11,\"name\":\"濱離宮恩賜庭園 Hama Rikyu Gardens\",\"rank\":\"排名第 2的中央區觀光 (共577家)\",\"address\":\"東京都中央區濱離宮庭園1-1104-0046\",\"child\":0.0095749723,\"latitude\":35.6597374,\"longitude\":139.7634925,\"score\":114,\"chosen\":true},{\"index\":170,\"name\":\"立教大學 池袋校區 Rikkyo University Ikebukuro Campus\",\"rank\":\"排名第 1的豊島區觀光 (共179家)\",\"address\":\"東京都豊島區3-34-1 Nishi ikebukuro171-8501\",\"child\":0.0,\"latitude\":35.7299504,\"longitude\":139.7022176,\"score\":70,\"chosen\":true}]', '[{\"index\":116,\"name\":\"東京21_21Design sight美術館 21 21 DESIGN SIGHT\",\"rank\":\"排名第 1的Akasaka觀光 (共18家)\",\"address\":\"東京都港區Akasaka9-7-6 Akasaka107-0052\",\"child\":0.0558359888,\"latitude\":35.6675108,\"longitude\":139.7305263,\"score\":70,\"chosen\":true},{\"index\":84,\"name\":\"池上本門寺 Ikegami Hommon-ji Temple\",\"rank\":\"排名第 3的大田區觀光 (共215家)\",\"address\":\"東京都大田區池上1-1-1146-8576\",\"child\":0.0,\"latitude\":35.5785718,\"longitude\":139.7058165,\"score\":114,\"chosen\":true},{\"index\":0,\"name\":\"新宿御苑 Shinjuku Gyoen National Garden\",\"rank\":\"排名第 1的新宿區觀光 (共419家)\",\"address\":\"東京都新宿區藤町11160-0014\",\"child\":0.0345715711,\"latitude\":35.6862257,\"longitude\":139.7109231,\"score\":114,\"chosen\":true}]', '[{\"index\":194,\"name\":\"東京都寫真美術館 Tokyo Photographic Art Museum\",\"rank\":\"排名第 5的目黑區觀光 (共108家)\",\"address\":\"東京都目黑區三田1-13-3-惠比壽公園綜合商業區內In Ebisu Garden Place153-0062\",\"child\":0.0,\"latitude\":35.642145,\"longitude\":139.713487,\"score\":70,\"chosen\":true},{\"index\":208,\"name\":\"東京車站一番街 First Avenue Tokyo Station\",\"rank\":\"排名第 23的千代田區觀光 (共446家)\",\"address\":\"東京都千代田區1-9-1 MarunouchiTokyo Station B1F,1F & 2F100-0005\",\"child\":0.2129539517,\"latitude\":35.682736,\"longitude\":139.7647912,\"score\":84,\"chosen\":true},{\"index\":148,\"name\":\"東京站畫廊 Tokyo Station Gallery\",\"rank\":\"排名第 38的千代田區觀光 (共446家)\",\"address\":\"東京都千代田區1-9-1 Marunouchi100-0005\",\"child\":0.0943284166,\"latitude\":35.6817299,\"longitude\":139.7661852,\"score\":70,\"chosen\":true}]', '[{\"index\":164,\"name\":\"摺紙會館 Origami Kaikan\",\"rank\":\"排名第 21的文京區觀光 (共297家)\",\"address\":\"東京都文京區湯島1-7-14113-0034\",\"child\":0.2664738015,\"latitude\":35.7026405,\"longitude\":139.7650482,\"score\":70,\"chosen\":true},{\"index\":103,\"name\":\"北之丸公園 Kitanomaru Park\",\"rank\":\"排名第 12的千代田區觀光 (共446家)\",\"address\":\"東京都千代田區北之丸公園102-0091\",\"child\":0.0541436354,\"latitude\":35.6919267,\"longitude\":139.7505761,\"score\":114,\"chosen\":true},{\"index\":41,\"name\":\"新宿懷舊居酒屋街 Omoide Yokocho\",\"rank\":\"排名第 14的新宿區觀光 (共419家)\",\"address\":\"東京都新宿區西新宿7丁目160-0023\",\"child\":0.0290300311,\"latitude\":35.6963255,\"longitude\":139.6975192,\"score\":114,\"chosen\":true}]']\n",
      "{'age': 7, 'been2tko': 1, 'days': 7, 'budget': 40000, 'isFemale': 0, 'hotel budget': 2000}\n",
      "{'CP': 2.606635071, 'pre': 2.0, '交通1': '西馬?站 - 走路 5 分鐘', '交通2': '蓮沼站 - 走路 7 分鐘', '交通3': '東京, 日本 (HND-羽田機場) - 車程 12 分鐘', '交通便利性': '5', '價格': 1688.0, '地址': '7-49-5 Nishikamata, Ota-ku, 東京, Tokyo-to', '廚房': 0.0, '星等': 3.0, '經度': 139.713156, '網址': 'https://www.expedia.com.tw/Tokyo-Hotels-Nishitetsu-Inn-Kamata.h4595610.Hotel-Information?chkin=2019%2F10%2F4&chkout=2019%2F10%2F5&regionId=179900&destination=%E6%9D%B1%E4%BA%AC+%28%E5%8F%8A%E9%84%B0%E8%BF%91%E5%9C%B0%E5%8D%80%29%2C+%E6%97%A5%E6%9C%AC&swpToggleOn=true&rm1=a1&x_pwa=1&sort=recommended&top_dp=1688&top_cur=TWD&rfrr=HSR&pwa_ts=1570019249783', '緯度': 35.562478, '評價': 4.4, '鄰近景點1': '東京鐵塔 - 開車 12 分鐘', '鄰近景點2': '東京國際展示場 - 開車 14 分鐘', '鄰近景點3': '豐洲市場 - 開車 14 分鐘', '鄰近景點4': '澀谷十字路口 - 開車 15 分鐘', '鄰近景點5': '橫濱體育場 - 開車 35 分鐘', '飯店名稱': '蒲田西鐵飯店'}\n",
      "{'age': 7, 'been2tko': 1, 'days': 7, 'totalBudget': 40000, 'gender': 0, 'oneBudget': 200}\n",
      "[{'age': 44, 'cp_rating_dinner': 4.0, 'cp_rating_lunch': 4.4, 'feeling_rating_dinner': 3.97, 'feeling_rating_lunch': 4.34, 'female_prop': 23.9, 'label_code': 1, 'label_desc': '平消族', 'lat': 35.7195038, 'lng': 139.7960275, 'male_prop': 76.1, 'meal_duration': 1.0, 'prices_dinner': 2551, 'prices_lunch': 1276, 'rest_addr': '東京都檯東區淺草4-37-8', 'rest_area': '淺草', 'rest_catg': '蕎麥麵/和式餐馆 / 小菜/壽司', 'rest_rating': 3.85, 'service_rating_dinner': 4.15, 'service_rating_lunch': 4.54, 'store_nm_en': 'Asakusajuuroku', 'store_nm_jp': '浅草じゅうろく', 'transport': 'つくばエクスプレス浅草駅から徒歩約8分。\\n\\n\\n距离淺草 684  米'}, {'age': 36, 'cp_rating_dinner': 4.13, 'cp_rating_lunch': 4.71, 'feeling_rating_dinner': 4.06, 'feeling_rating_lunch': 4.64, 'female_prop': 24.22, 'label_code': 0, 'label_desc': '高消族', 'lat': 35.6473973, 'lng': 139.6951598, 'male_prop': 75.78, 'meal_duration': 1.0, 'prices_dinner': 7087, 'prices_lunch': 7087, 'rest_addr': '東京都目黑區青葉檯1-28-2', 'rest_area': '中目黒・祐天寺', 'rest_catg': '壽司', 'rest_rating': 4.54, 'service_rating_dinner': 4.18, 'service_rating_lunch': 4.5, 'store_nm_en': 'Takamitsu', 'store_nm_jp': '鮨 尚充', 'transport': '東急東横線、地下鉄日比谷線、中目黒駅下車。徒歩１０分\\n\\n\\n距离中目黑 491  米'}, {'age': 37, 'cp_rating_dinner': 4.11, 'cp_rating_lunch': 4.09, 'feeling_rating_dinner': 3.9, 'feeling_rating_lunch': 4.01, 'female_prop': 23.89, 'label_code': 1, 'label_desc': '平消族', 'lat': 35.661919, 'lng': 139.7540415, 'male_prop': 76.11, 'meal_duration': 1.0, 'prices_dinner': 4961, 'prices_lunch': 425, 'rest_addr': '東京都港區新橋6-13-3', 'rest_area': '濱松町・芝公園', 'rest_catg': '壽司', 'rest_rating': 3.97, 'service_rating_dinner': 3.77, 'service_rating_lunch': 4.03, 'store_nm_en': 'Tomidokoro', 'store_nm_jp': '冨所', 'transport': '距离御成門 290  米'}, {'age': 43, 'cp_rating_dinner': 3.46, 'cp_rating_lunch': 3.57, 'feeling_rating_dinner': 3.51, 'feeling_rating_lunch': 3.47, 'female_prop': 23.59, 'label_code': 1, 'label_desc': '平消族', 'lat': 35.6951723, 'lng': 139.7638945, 'male_prop': 76.41, 'meal_duration': 1.0, 'prices_dinner': 142, 'prices_lunch': 709, 'rest_addr': '東京都韆代田區神田小川町2-8', 'rest_area': '神田・御茶之水', 'rest_catg': '炸豬排/咖哩飯/可樂餅・油炸食品', 'rest_rating': 3.8, 'service_rating_dinner': 3.57, 'service_rating_lunch': 3.81, 'store_nm_en': 'Ponchiken', 'store_nm_jp': 'ポンチ軒', 'transport': '都営地下鉄新宿線【小川町駅】徒歩４分\\n東京メトロ丸ノ内線【淡路町駅】徒歩６分\\n東京メトロ千代田線【新御茶ノ水駅】徒歩６分\\nＪＲ中央線・総武線【御茶ノ水駅】徒歩７分\\n\\n\\n距离小川町 224  米'}, {'age': 37, 'cp_rating_dinner': 4.26, 'cp_rating_lunch': 3.63, 'feeling_rating_dinner': 4.68, 'feeling_rating_lunch': 3.75, 'female_prop': 24.24, 'label_code': 0, 'label_desc': '高消族', 'lat': 35.6555932, 'lng': 139.7347677, 'male_prop': 75.76, 'meal_duration': 1.0, 'prices_dinner': 9922, 'prices_lunch': 425, 'rest_addr': '東京都港區痲佈十番2-8-6', 'rest_area': '麻布十番', 'rest_catg': '天婦羅', 'rest_rating': 4.56, 'service_rating_dinner': 4.62, 'service_rating_lunch': 3.4, 'store_nm_en': 'Takiya', 'store_nm_jp': 'たきや', 'transport': '都営大江戸線「麻布十番」駅\\u30007番出口\\u3000徒歩3分\\n東京メトロ南北線麻「布十番駅」駅\\u30004番出口\\u3000徒歩3分\\n\\n\\n距离麻布十番 156  米'}, {'age': 42, 'cp_rating_dinner': 3.56, 'cp_rating_lunch': 2.9, 'feeling_rating_dinner': 4.02, 'feeling_rating_lunch': 4.6, 'female_prop': 23.79, 'label_code': 1, 'label_desc': '平消族', 'lat': 35.6857974, 'lng': 139.7830806, 'male_prop': 76.21, 'meal_duration': 1.0, 'prices_dinner': 4961, 'prices_lunch': 3543, 'rest_addr': '東京都中央區日本橋人形町2-5-1', 'rest_area': '人形町・小傳馬町', 'rest_catg': '壽喜燒/和式餐馆 / 小菜', 'rest_rating': 3.82, 'service_rating_dinner': 3.88, 'service_rating_lunch': 4.4, 'store_nm_en': 'sukiyakikappouhiyama', 'store_nm_jp': 'すき焼割烹 日山', 'transport': '東京メトロ日比谷線・都営浅草線「人形町」駅より徒歩2分。\\n東京メトロ半蔵門線「水天宮」駅より徒歩5分\\n都営新宿線「浜町」駅より徒歩7分\\n\\n\\n距离人形町 66  米'}, {'age': 42, 'cp_rating_dinner': 3.32, 'cp_rating_lunch': 3.32, 'feeling_rating_dinner': 3.29, 'feeling_rating_lunch': 3.36, 'female_prop': 23.56, 'label_code': 1, 'label_desc': '平消族', 'lat': 35.6870985, 'lng': 139.764569, 'male_prop': 76.44, 'meal_duration': 1.0, 'prices_dinner': 142, 'prices_lunch': 142, 'rest_addr': '東京都韆代田區汍の內1-9-1', 'rest_area': '丸之內・大手町', 'rest_catg': '沾麵/拉麵', 'rest_rating': 3.79, 'service_rating_dinner': 3.37, 'service_rating_lunch': 3.36, 'store_nm_en': 'Rokurinsha', 'store_nm_jp': '六厘舎', 'transport': 'JR各線「東京」駅の八重洲口B1F\\n在来線、東海道新幹線 八重洲中央南口改札を出て、すぐ右へ。階段下りてすぐ 。\\nもしくは、八重洲地下中央改札出て右へ。突き当たり手前左側。\\n\\n\\n距离東京 130  米'}, {'age': 40, 'cp_rating_dinner': 3.75, 'cp_rating_lunch': 3.77, 'feeling_rating_dinner': 3.71, 'feeling_rating_lunch': 3.77, 'female_prop': 23.36, 'label_code': 1, 'label_desc': '平消族', 'lat': 35.675323, 'lng': 139.798745, 'male_prop': 76.64, 'meal_duration': 1.0, 'prices_dinner': 142, 'prices_lunch': 142, 'rest_addr': '東京都江東區深川2-13-10', 'rest_area': '門前仲町・木場・東陽町', 'rest_catg': '拉麵/沾麵', 'rest_rating': 3.79, 'service_rating_dinner': 4.15, 'service_rating_lunch': 4.32, 'store_nm_en': 'Koukaibou', 'store_nm_jp': 'こうかいぼう', 'transport': '東京メトロ東西線または都営大江戸線「門前仲町」駅(６番出口)より、徒歩６分\\n\\n\\n距离門前仲町 452  米'}, {'age': 39, 'cp_rating_dinner': 3.93, 'cp_rating_lunch': 3.98, 'feeling_rating_dinner': 3.42, 'feeling_rating_lunch': 3.68, 'female_prop': 23.74, 'label_code': 1, 'label_desc': '平消族', 'lat': 35.7500749, 'lng': 139.543763, 'male_prop': 76.26, 'meal_duration': 1.0, 'prices_dinner': 142, 'prices_lunch': 142, 'rest_addr': '東京都西東京市穀戶町3-27-24', 'rest_area': '西東京', 'rest_catg': '拉麵', 'rest_rating': 3.77, 'service_rating_dinner': 3.58, 'service_rating_lunch': 3.8, 'store_nm_en': 'Ramenjirou', 'store_nm_jp': 'ラーメン二郎 ひばりヶ丘駅前店', 'transport': '西武池袋線ひばりヶ丘駅から、徒歩3分（0.2km）です。\\n改札出て南口→階段降りてロータリー。正面の大通りのりそな銀行の裏手の細い道。\\nひばりが丘プラザ１階\\n\\n\\n距离雲雀丘 257  米'}, {'age': 37, 'cp_rating_dinner': 3.89, 'cp_rating_lunch': 4.56, 'feeling_rating_dinner': 3.97, 'feeling_rating_lunch': 4.94, 'female_prop': 24.16, 'label_code': 0, 'label_desc': '高消族', 'lat': 35.6871991, 'lng': 139.7785687, 'male_prop': 75.84, 'meal_duration': 1.0, 'prices_dinner': 4961, 'prices_lunch': 425, 'rest_addr': '東京都中央區日本橋小舟町11-11', 'rest_area': '人形町・小傳馬町', 'rest_catg': '牛肉料理/燒肉/炭燒', 'rest_rating': 4.25, 'service_rating_dinner': 3.99, 'service_rating_lunch': 4.87, 'store_nm_en': 'Oniku Karyu', 'store_nm_jp': 'おにく 花柳', 'transport': '距离人形町 371  米'}, {'age': 40, 'cp_rating_dinner': 3.38, 'cp_rating_lunch': 3.77, 'feeling_rating_dinner': 3.35, 'feeling_rating_lunch': 3.97, 'female_prop': 23.54, 'label_code': 1, 'label_desc': '平消族', 'lat': 35.682278, 'lng': 139.6982455, 'male_prop': 76.46, 'meal_duration': 1.0, 'prices_dinner': 4961, 'prices_lunch': 425, 'rest_addr': '東京都澀穀區代々木1-45-4', 'rest_area': '參宮橋・代代木八幡', 'rest_catg': '涮涮鍋/豬肉涮涮鍋/牛舌', 'rest_rating': 3.8, 'service_rating_dinner': 3.66, 'service_rating_lunch': 4.24, 'store_nm_en': 'Yoyogi Imahan', 'store_nm_jp': '代々木 今半', 'transport': '小田急小田原線【南新宿駅】徒歩３分\\nＪＲ中央線・山手線【代々木駅】西口\\u3000徒歩５分\\n都営地下鉄大江戸線【代々木駅】徒歩６分\\n\\n\\n距离南新宿 151  米'}, {'age': 36, 'cp_rating_dinner': 3.5, 'cp_rating_lunch': 4.03, 'feeling_rating_dinner': 3.73, 'feeling_rating_lunch': 4.16, 'female_prop': 23.54, 'label_code': 1, 'label_desc': '平消族', 'lat': 35.6584326, 'lng': 139.6670753, 'male_prop': 76.46, 'meal_duration': 1.0, 'prices_dinner': 425, 'prices_lunch': 425, 'rest_addr': '東京都世田穀區代澤5-29-9', 'rest_area': '下北澤', 'rest_catg': '咖哩（其它）/咖哩飯/印度咖哩', 'rest_rating': 3.8, 'service_rating_dinner': 3.6, 'service_rating_lunch': 4.01, 'store_nm_en': 'kyuuyamutei', 'store_nm_jp': '旧ヤム邸  シモキタ荘', 'transport': '小田急線・京王井の頭線\\u3000下北沢駅より徒歩7分\\n三軒茶屋から小田急バス下61系統\\u3000代沢五丁目バス停より徒歩1分\\n（三軒茶屋から徒歩だと1.7km\\u300025分）\\n\\n\\n距离下北澤 343  米'}, {'age': 43, 'cp_rating_dinner': 3.39, 'cp_rating_lunch': 3.48, 'feeling_rating_dinner': 3.79, 'feeling_rating_lunch': 3.93, 'female_prop': 23.55, 'label_code': 1, 'label_desc': '平消族', 'lat': 35.6961583, 'lng': 139.7688606, 'male_prop': 76.45, 'meal_duration': 1.0, 'prices_dinner': 425, 'prices_lunch': 425, 'rest_addr': '東京都韆代田區神田須田町1-13', 'rest_area': '神田・御茶之水', 'rest_catg': '蕎麥麵', 'rest_rating': 3.79, 'service_rating_dinner': 3.45, 'service_rating_lunch': 3.64, 'store_nm_en': 'Kandamatsuya', 'store_nm_jp': '神田まつや', 'transport': '東京メトロ丸ノ内線【淡路町駅】徒歩２分\\n都営地下鉄新宿線【小川町駅】徒歩３分\\n東京メトロ銀座線【神田駅】徒歩４分\\nＪＲ中央線【神田駅】徒歩７分\\n\\n\\n距离淡路町 158  米'}, {'age': 43, 'cp_rating_dinner': 3.24, 'cp_rating_lunch': 3.35, 'feeling_rating_dinner': 3.67, 'feeling_rating_lunch': 3.82, 'female_prop': 23.28, 'label_code': 1, 'label_desc': '平消族', 'lat': 35.6812097, 'lng': 139.7747558, 'male_prop': 76.72, 'meal_duration': 1.0, 'prices_dinner': 1984, 'prices_lunch': 425, 'rest_addr': '東京都中央區日本橋2-9-9', 'rest_area': '日本橋・京橋', 'rest_catg': '魚類料理・海鮮料理/星鰻/天婦羅', 'rest_rating': 3.77, 'service_rating_dinner': 3.39, 'service_rating_lunch': 3.56, 'store_nm_en': 'Tamai', 'store_nm_jp': '玉ゐ 本店', 'transport': 'ＪＲ東京駅八重洲口から高島屋デパート方面へ徒歩8分。東京メトロ銀座線・東西線、都営浅草線日本橋駅から徒歩3分。\\n\\n\\n距离日本橋 106  米'}]\n"
     ]
    },
    {
     "name": "stdout",
     "output_type": "stream",
     "text": [
      "=====================\n",
      " 第1天行程：\n",
      "東京迪士尼海洋樂園 Tokyo DisneySea約25.9 公里，景點間通勤約需40 分鐘。\n",
      "---------------\n",
      "\n",
      "地圖連結：https://45a28610.ngrok.io/images/day1-U374824a0557f0767db8c194dae6c6002-1574398135129map.html\n",
      "===============\n",
      "第2天行程：\n",
      "舊芝離宮恩賜庭園 Former Shiba Rikyu Gardens約13.0 公里，景點間通勤約需25 分鐘。\n",
      "---------------\n",
      " Nittere Plaza約1.2 公里，景點間通勤約需4 分鐘。\n",
      "---------------\n",
      "護國寺 Gokokuji Temple約10.0 公里，景點間通勤約需14 分鐘。\n",
      "---------------\n",
      "\n",
      "地圖連結：https://45a28610.ngrok.io/images/day2-U374824a0557f0767db8c194dae6c6002-1574398135129map.html\n",
      "===============\n",
      "第3天行程：\n",
      "東京都庭園美術館 Tokyo Metropolitan Teien Art Museum約9.4 公里，景點間通勤約需28 分鐘。\n",
      "---------------\n",
      "立教大學 池袋校區 Rikkyo University Ikebukuro Campus約19.9 公里，景點間通勤約需28 分鐘。\n",
      "---------------\n",
      "濱離宮恩賜庭園 Hama Rikyu Gardens約15.4 公里，景點間通勤約需23 分鐘。\n",
      "---------------\n",
      "\n",
      "地圖連結：https://45a28610.ngrok.io/images/day3-U374824a0557f0767db8c194dae6c6002-1574398135129map.html\n",
      "===============\n",
      "第4天行程：\n",
      "池上本門寺 Ikegami Hommon-ji Temple約2.3 公里，景點間通勤約需9 分鐘。\n",
      "---------------\n",
      "新宿御苑 Shinjuku Gyoen National Garden約18.4 公里，景點間通勤約需32 分鐘。\n",
      "---------------\n",
      "東京21_21Design sight美術館 21 21 DESIGN SIGHT約3.9 公里，景點間通勤約需12 分鐘。\n",
      "---------------\n",
      "\n",
      "地圖連結：https://45a28610.ngrok.io/images/day4-U374824a0557f0767db8c194dae6c6002-1574398135129map.html\n",
      "===============\n",
      "第5天行程：\n",
      "東京都寫真美術館 Tokyo Photographic Art Museum約10.5 公里，景點間通勤約需31 分鐘。\n",
      "---------------\n",
      "東京站畫廊 Tokyo Station Gallery約12.3 公里，景點間通勤約需19 分鐘。\n",
      "---------------\n",
      "東京車站一番街 First Avenue Tokyo Station約0.3 公里，景點間通勤約需2 分鐘。\n",
      "---------------\n",
      "\n",
      "地圖連結：https://45a28610.ngrok.io/images/day5-U374824a0557f0767db8c194dae6c6002-1574398135129map.html\n",
      "===============\n",
      "第6天行程：\n",
      "摺紙會館 Origami Kaikan約19.7 公里，景點間通勤約需35 分鐘。\n",
      "---------------\n",
      "北之丸公園 Kitanomaru Park約3.0 公里，景點間通勤約需10 分鐘。\n",
      "---------------\n",
      "新宿懷舊居酒屋街 Omoide Yokocho約9.6 公里，景點間通勤約需16 分鐘。\n",
      "---------------\n",
      "\n",
      "地圖連結：https://45a28610.ngrok.io/images/day6-U374824a0557f0767db8c194dae6c6002-1574398135129map.html\n",
      "===============\n",
      " \n",
      "=======================\n",
      "type ==> <class 'linebot.exceptions.LineBotApiError'>\n",
      "value ==> LineBotApiError: status_code=400, error_response={\"details\": [], \"message\": \"Invalid reply token\"}\n",
      "traceback ==> file name: <ipython-input-25-a23c8ff16dbb>\n",
      "traceback ==> line no: 156\n",
      "traceback ==> function name: handle_message\n",
      "::tripStart:\n"
     ]
    },
    {
     "name": "stderr",
     "output_type": "stream",
     "text": [
      "172.18.0.6 - - [22/Nov/2019 04:49:56] \"POST / HTTP/1.1\" 200 -\n"
     ]
    },
    {
     "name": "stdout",
     "output_type": "stream",
     "text": [
      "Erving,U374824a0557f0767db8c194dae6c6002\n",
      "{\"data\": \"tripStart\"}\n",
      "1574398135130,2019-11-22 04:48:55.130000\n",
      "Erving,U374824a0557f0767db8c194dae6c6002\n",
      "{\"data\": \"tripStart\"}\n",
      "1574398135391,2019-11-22 04:48:55.391000\n",
      "{'age': 7, 'been2tko': 1, 'days': 7, 'budget': 40000, 'isFemale': 0, 'fbudget': 12000, 'dDate': '2020-03-31', 'rDate': '2020-04-07'}\n",
      "{'airline': 'Tigerair Taiwan', 'date_format(eta,\"%a\")': 'Tue', 'date_format(etd,\"%a\")': 'Tue', 'date_format(tuEta,\"%a\")': 'Tue', 'date_format(tuEtd,\"%a\")': 'Tue', 'price': 8067, 'time_format(eta,\"%T\")': '10:35:00', 'time_format(etd,\"%T\")': '06:35:00', 'time_format(sec_to_time(dur),\"%T\")': '03:00:00', 'time_format(sec_to_time(tuDur),\"%T\")': '03:55:00', 'time_format(tuEta,\"%T\")': '07:55:00', 'time_format(tuEtd,\"%T\")': '05:00:00'}\n",
      "bk by tue\n",
      "{'age': 7, 'been2tko': 1, 'howlong': 7, 'budget': 40000, 'isFemale': 0, 'with_child': 0, 'crampedSechedule': False}\n",
      "['[{\"index\":2,\"name\":\"淺草 Asakusa\",\"rank\":\"排名第 1的台東區觀光 (共560家)\",\"address\":\"東京都台東區\",\"child\":0.0087715012,\"latitude\":35.7125736,\"longitude\":139.7802043,\"score\":241,\"chosen\":true},{\"index\":48,\"name\":\"雷門 Nakamise Shopping Street (Kaminarimon)\",\"rank\":\"排名第 18的台東區觀光 (共560家)\",\"address\":\"東京都台東區淺草1丁目3\",\"child\":0.0048539208,\"latitude\":35.7110859,\"longitude\":139.7959648,\"score\":114,\"chosen\":true},{\"index\":35,\"name\":\"淺草文化觀光中心 Asakusa Culture Tourist Information Center\",\"rank\":\"排名第 3的台東區觀光 (共560家)\",\"address\":\"東京都台東區2-18-9 Kaminarimon111-0034\",\"child\":0.0040560983,\"latitude\":35.7106489,\"longitude\":139.7965348,\"score\":106,\"chosen\":true}]', '[{\"index\":54,\"name\":\"東京都美術館 Tokyo Metropolitan Art Museum\",\"rank\":\"排名第 16的台東區觀光 (共560家)\",\"address\":\"東京都台東區8-36 Uenokoen110-0007\",\"child\":0.0205605849,\"latitude\":35.7125736,\"longitude\":139.7802043,\"score\":70,\"chosen\":true},{\"index\":6,\"name\":\"東京國立博物館 Tokyo National Museum\",\"rank\":\"排名第 5的台東區觀光 (共560家)\",\"address\":\"東京都台東區上野公園13-9110-0007\",\"child\":0.0509912925,\"latitude\":35.719252,\"longitude\":139.7760709,\"score\":114,\"chosen\":true},{\"index\":106,\"name\":\"上野東照宮 Toshogu Shrine\",\"rank\":\"排名第 17的台東區觀光 (共560家)\",\"address\":\"東京都台東區上野公園9-88\",\"child\":0.0,\"latitude\":35.7153714,\"longitude\":139.7706346,\"score\":183,\"chosen\":true}]', '[{\"index\":172,\"name\":\"春花園 BONSAI 美術館 Shunkaen BONSAI Museum\",\"rank\":\"排名第 5的江戶川區觀光 (共191家)\",\"address\":\"東京都江戶川區1-29-16 Nihori132-0001\",\"child\":0.3118335945,\"latitude\":35.702613,\"longitude\":139.888161,\"score\":70,\"chosen\":true},{\"index\":246,\"name\":\"新江戶川公園 Higo-Hosokawa Garden\",\"rank\":\"排名第 16的文京區觀光 (共297家)\",\"address\":\"東京都文京區1-1-22 Mejirodai112-0015\",\"child\":0.0,\"latitude\":35.7079705,\"longitude\":139.7338284,\"score\":114,\"chosen\":true},{\"index\":207,\"name\":\"東京車展 Tokyo Motor Show\",\"rank\":\"排名第 25的江東區觀光 (共343家)\",\"address\":\"東京都江東區3-11 AriakeTokyo Big Sight135-0063\",\"child\":0.0,\"latitude\":35.6296259,\"longitude\":139.7944847,\"score\":70,\"chosen\":true}]', '[{\"index\":104,\"name\":\"三得利美術館 Suntory Museum of Art\",\"rank\":\"排名第 23的港區觀光 (共626家)\",\"address\":\"東京都港區9-7-4 Akasaka107-8643\",\"child\":0.0,\"latitude\":35.6662189,\"longitude\":139.730226,\"score\":70,\"chosen\":true},{\"index\":8,\"name\":\"晴空塔 Tokyo Skytree\",\"rank\":\"排名第 3的墨田區觀光 (共264家)\",\"address\":\"東京都墨田區1-1-2 Oshiage131-0045\",\"child\":0.0163115893,\"latitude\":35.7283756,\"longitude\":139.8135673,\"score\":84,\"chosen\":true},{\"index\":20,\"name\":\"澀谷站前 十字路口 Shibuya Crossing\",\"rank\":\"排名第 8的澀谷區觀光 (共279家)\",\"address\":\"東京都澀谷區150-8010\",\"child\":0.0166055284,\"latitude\":35.663932,\"longitude\":139.6980229,\"score\":114,\"chosen\":true}]', '[{\"index\":59,\"name\":\"惠比壽啤酒紀念館 Museum of Yebisu Beer\",\"rank\":\"排名第 12的澀谷區觀光 (共279家)\",\"address\":\"東京都澀谷區惠比壽4-20-1\",\"child\":0.0,\"latitude\":35.643115,\"longitude\":139.7145631,\"score\":70,\"chosen\":true},{\"index\":122,\"name\":\"豐川稻荷 Toyokawa Inari Tokyo Betsuin\",\"rank\":\"排名第 20的港區觀光 (共626家)\",\"address\":\"東京都港區元赤坂1-4-7107-0051\",\"child\":0.0,\"latitude\":35.676217,\"longitude\":139.7327907,\"score\":114,\"chosen\":true},{\"index\":238,\"name\":\"銀座東急Plaza購物中心 Tokyu Plaza Ginza\",\"rank\":\"排名第 23的中央區觀光 (共577家)\",\"address\":\"東京都中央區5-2-1 Ginza104-0061\",\"child\":0.0,\"latitude\":35.6721757,\"longitude\":139.7624406,\"score\":84,\"chosen\":true}]', '[{\"index\":196,\"name\":\"日本損保東鄉青兒美術館 Seiji Togo Memorial Sompo Japan Nipponkoa Museum of Art\",\"rank\":\"排名第 3的Nishishinjuku觀光 (共18家)\",\"address\":\"東京都新宿區Nishishinjuku1-26-1Sompo Japan Nipponkoa Head Office Bldg. 42F160-8338\",\"child\":0.0,\"latitude\":35.6924495,\"longitude\":139.6958457,\"score\":70,\"chosen\":true},{\"index\":248,\"name\":\" Hobby Center Kato Tokyo\",\"rank\":\"排名第 36的新宿區觀光 (共419家)\",\"address\":\"東京都新宿區1-24-10 Nishiochiai161-0031\",\"child\":0.0932577009,\"latitude\":35.721419,\"longitude\":139.68002,\"score\":70,\"chosen\":true},{\"index\":12,\"name\":\"森美術館 Mori Art Museum\",\"rank\":\"排名第 6的港區觀光 (共626家)\",\"address\":\"東京都港區六本木6-10-1 六本木Hills森塔53層Roppongi Hills Mori Tower 53F106-6150\",\"child\":0.0293691567,\"latitude\":35.6602384,\"longitude\":139.7300767,\"score\":70,\"chosen\":true}]']\n",
      "{'age': 7, 'been2tko': 1, 'days': 7, 'budget': 40000, 'isFemale': 0, 'hotel budget': 2000}\n",
      "{'CP': 3.032659409, 'pre': 2.0, '交通1': '森下站 - 走路 7 分鐘', '交通2': '馬?町站 - 走路 18 分鐘', '交通3': '東京, 日本 (NRT-成田國際機場) - 車程 45 分鐘', '交通便利性': '7', '價格': 1286.0, '地址': '3-43-8, Nihonbashi Hama-cho, Chuo-ku, 東京, Tokyo-to', '廚房': 0.0, '星等': 3.0, '經度': 139.791635, '網址': 'https://www.expedia.com.tw/Tokyo-Hotels-APA-Hotel-Nihombashi-Hamachoeki-Minami.h4095759.Hotel-Information?chkin=2019%2F10%2F4&chkout=2019%2F10%2F5&regionId=179900&destination=%E6%9D%B1%E4%BA%AC+%28%E5%8F%8A%E9%84%B0%E8%BF%91%E5%9C%B0%E5%8D%80%29%2C+%E6%97%A5%E6%9C%AC&swpToggleOn=true&rm1=a1&x_pwa=1&sort=recommended&top_dp=1286&top_cur=TWD&rfrr=HSR&pwa_ts=1570019075362', '緯度': 35.686301, '評價': 3.9, '鄰近景點1': '濱町公園 - 步行 6 分鐘', '鄰近景點2': '江戶東京博物館 - 開車 2 分鐘', '鄰近景點3': '歌舞伎座 - 開車 3 分鐘', '鄰近景點4': '秋葉原電器街 - 開車 3 分鐘', '鄰近景點5': '淺草公會堂 - 開車 14 分鐘', '飯店名稱': '日本橋濱町站南 APA 飯店'}\n",
      "{'age': 7, 'been2tko': 1, 'days': 7, 'totalBudget': 40000, 'gender': 0, 'oneBudget': 200}\n",
      "[{'age': 36, 'cp_rating_dinner': 3.63, 'cp_rating_lunch': 4.39, 'feeling_rating_dinner': 4.27, 'feeling_rating_lunch': 4.86, 'female_prop': 24.18, 'label_code': 0, 'label_desc': '高消族', 'lat': 35.6549808, 'lng': 139.7347034, 'male_prop': 75.82, 'meal_duration': 1.0, 'prices_dinner': 12756, 'prices_lunch': 425, 'rest_addr': '東京都港區痲佈十番2-9-5', 'rest_area': '麻布十番', 'rest_catg': '壽司', 'rest_rating': 4.4, 'service_rating_dinner': 4.29, 'service_rating_lunch': 4.86, 'store_nm_en': 'Sushifujinaga', 'store_nm_jp': '鮓 ふじなが', 'transport': '距离麻布十番 206  米'}, {'age': 44, 'cp_rating_dinner': 4.0, 'cp_rating_lunch': 4.4, 'feeling_rating_dinner': 3.97, 'feeling_rating_lunch': 4.34, 'female_prop': 23.9, 'label_code': 1, 'label_desc': '平消族', 'lat': 35.7195038, 'lng': 139.7960275, 'male_prop': 76.1, 'meal_duration': 1.0, 'prices_dinner': 2551, 'prices_lunch': 1276, 'rest_addr': '東京都檯東區淺草4-37-8', 'rest_area': '淺草', 'rest_catg': '蕎麥麵/和式餐馆 / 小菜/壽司', 'rest_rating': 3.85, 'service_rating_dinner': 4.15, 'service_rating_lunch': 4.54, 'store_nm_en': 'Asakusajuuroku', 'store_nm_jp': '浅草じゅうろく', 'transport': 'つくばエクスプレス浅草駅から徒歩約8分。\\n\\n\\n距离淺草 684  米'}, {'age': 34, 'cp_rating_dinner': 4.3, 'cp_rating_lunch': 3.89, 'feeling_rating_dinner': 4.18, 'feeling_rating_lunch': 3.89, 'female_prop': 23.73, 'label_code': 1, 'label_desc': '平消族', 'lat': 35.6641535, 'lng': 139.6939837, 'male_prop': 76.27, 'meal_duration': 1.0, 'prices_dinner': 4961, 'prices_lunch': 425, 'rest_addr': '東京都澀穀區神山町8-2', 'rest_area': '澀谷', 'rest_catg': '壽司/魚類料理・海鮮料理', 'rest_rating': 3.85, 'service_rating_dinner': 4.24, 'service_rating_lunch': 3.72, 'store_nm_en': 'sushirizaki', 'store_nm_jp': '鮨 利﨑', 'transport': '渋谷駅より徒歩13分\\n代々木公園駅より徒歩9分 \\n神泉駅より徒歩12分\\n\\n\\n距离代代木公園 649  米'}, {'age': 42, 'cp_rating_dinner': 3.51, 'cp_rating_lunch': 3.7, 'feeling_rating_dinner': 3.76, 'feeling_rating_lunch': 3.92, 'female_prop': 23.73, 'label_code': 1, 'label_desc': '平消族', 'lat': 35.6712108, 'lng': 139.7632032, 'male_prop': 76.27, 'meal_duration': 1.0, 'prices_dinner': 7087, 'prices_lunch': 2551, 'rest_addr': '東京都中央區銀座5-5-13', 'rest_area': '銀座', 'rest_catg': '天婦羅', 'rest_rating': 3.87, 'service_rating_dinner': 3.65, 'service_rating_lunch': 4.0, 'store_nm_en': 'Kondo', 'store_nm_jp': 'てんぷら 近藤', 'transport': '東京メトロ\\u3000銀座駅\\u3000徒歩３分（B5出口）\\n\\n\\n距离銀座 115  米'}, {'age': 42, 'cp_rating_dinner': 3.94, 'cp_rating_lunch': 3.8, 'feeling_rating_dinner': 3.45, 'feeling_rating_lunch': 3.32, 'female_prop': 24.44, 'label_code': 1, 'label_desc': '平消族', 'lat': 35.6559209, 'lng': 139.7428184, 'male_prop': 75.56, 'meal_duration': 1.5, 'prices_dinner': 142, 'prices_lunch': 425, 'rest_addr': '東京都港區西痲佈1-13-15', 'rest_area': '六本木・乃木坂・西麻布', 'rest_catg': '定食、食堂/可樂餅・油炸食品', 'rest_rating': 3.76, 'service_rating_dinner': 3.88, 'service_rating_lunch': 3.98, 'store_nm_en': 'Mikawaya', 'store_nm_jp': '三河屋', 'transport': '東京メトロ千代田線・乃木坂駅５番出口から徒歩約１０分。\\n東京メトロ日比谷線・広尾駅から徒歩12分。\\n外苑西通りの西麻布交差点を北へ。次のY字交差点との中間付近、右側。\\n\\n\\n距离乃木坂 707  米'}, {'age': 40, 'cp_rating_dinner': 3.59, 'cp_rating_lunch': 3.97, 'feeling_rating_dinner': 3.68, 'feeling_rating_lunch': 3.91, 'female_prop': 23.92, 'label_code': 1, 'label_desc': '平消族', 'lat': 35.6696498, 'lng': 139.7616456, 'male_prop': 76.08, 'meal_duration': 1.0, 'prices_dinner': 7087, 'prices_lunch': 425, 'rest_addr': '東京都中央區銀座7-6-16', 'rest_area': '銀座', 'rest_catg': '鐵板燒/壽喜燒/牛排', 'rest_rating': 3.77, 'service_rating_dinner': 3.58, 'service_rating_lunch': 3.99, 'store_nm_en': 'Okahan', 'store_nm_jp': '岡半 本店', 'transport': '東京メトロ銀座線・丸の内線・日比谷線\\u3000銀座駅\\u3000B6出口\\u3000徒歩6分\\n東京メトロ銀座線・都営地下鉄浅草線\\u3000新橋駅\\u30003番出口\\u3000徒歩7分\\nJR東海道線\\u3000新橋駅\\u3000銀座口\\u3000徒歩8分\\n\\n\\n距离銀座 334  米'}, {'age': 41, 'cp_rating_dinner': 3.49, 'cp_rating_lunch': 3.7, 'feeling_rating_dinner': 3.41, 'feeling_rating_lunch': 3.45, 'female_prop': 23.9, 'label_code': 1, 'label_desc': '平消族', 'lat': 35.7384107, 'lng': 139.6783062, 'male_prop': 76.1, 'meal_duration': 1.0, 'prices_dinner': 142, 'prices_lunch': 142, 'rest_addr': '東京都練馬區小竹町1-2-7', 'rest_area': '椎名町～櫻台', 'rest_catg': '拉麵/担担麵/乾擔擔麵', 'rest_rating': 3.85, 'service_rating_dinner': 3.4, 'service_rating_lunch': 3.59, 'store_nm_en': 'Menyakintoki', 'store_nm_jp': '麺や金時', 'transport': '西武池袋線\\u3000江古田駅\\u3000徒歩8分\\n\\n\\n距离江古田 515  米'}, {'age': 39, 'cp_rating_dinner': 3.31, 'cp_rating_lunch': 3.36, 'feeling_rating_dinner': 3.46, 'feeling_rating_lunch': 3.41, 'female_prop': 23.27, 'label_code': 1, 'label_desc': '平消族', 'lat': 35.690502, 'lng': 139.721701, 'male_prop': 76.73, 'meal_duration': 1.0, 'prices_dinner': 142, 'prices_lunch': 142, 'rest_addr': '東京都新宿區舟町12-13', 'rest_area': '曙橋・四之谷三丁目', 'rest_catg': '拉麵/沾麵', 'rest_rating': 3.76, 'service_rating_dinner': 3.45, 'service_rating_lunch': 2.97, 'store_nm_en': 'taishiosobatouka', 'store_nm_jp': '鯛塩そば 灯花 本店', 'transport': '都営地下鉄新宿線【曙橋駅】徒歩２分\\n東京メトロ丸ノ内線【四谷三丁目駅】徒歩４分\\n\\n\\n距离曙橋 179  米'}, {'age': 41, 'cp_rating_dinner': 3.58, 'cp_rating_lunch': 3.47, 'feeling_rating_dinner': 3.22, 'feeling_rating_lunch': 3.1, 'female_prop': 23.77, 'label_code': 1, 'label_desc': '平消族', 'lat': 35.7632609, 'lng': 139.745983, 'male_prop': 76.23, 'meal_duration': 1.0, 'prices_dinner': 142, 'prices_lunch': 142, 'rest_addr': '東京都北區豐島4-5-3', 'rest_area': '十條', 'rest_catg': '拉麵', 'rest_rating': 3.82, 'service_rating_dinner': 3.23, 'service_rating_lunch': 3.17, 'store_nm_en': 'Chuukasobayaitou', 'store_nm_jp': '中華そば屋 伊藤', 'transport': '京浜東北線「王子駅」から都営バス（駅前ﾛｰﾀﾘｰではなく、信号先左側10番バス停）で(豊島団地行き)約5分、「豊島4丁目」下車徒歩4分\\n東武伊勢崎線「西新井駅」から都営バス（池袋東口行き）で「豊島4丁目」下車徒歩4分\\nJR「王子駅」から徒歩20分\\n東京メトロ南北線「王子神谷駅」2番出口から徒歩13分\\n\\n\\n距离王子神谷 936  米'}, {'age': 43, 'cp_rating_dinner': 3.58, 'cp_rating_lunch': 3.76, 'feeling_rating_dinner': 3.76, 'feeling_rating_lunch': 3.91, 'female_prop': 23.9, 'label_code': 1, 'label_desc': '平消族', 'lat': 35.6791703, 'lng': 139.7728501, 'male_prop': 76.1, 'meal_duration': 1.0, 'prices_dinner': 7087, 'prices_lunch': 1984, 'rest_addr': '東京都中央區日本橋3-5-12', 'rest_area': '日本橋・京橋', 'rest_catg': '牛排', 'rest_rating': 3.84, 'service_rating_dinner': 3.97, 'service_rating_lunch': 4.49, 'store_nm_en': 'Shima', 'store_nm_jp': '西洋料理 島', 'transport': '京橋駅から徒歩４分、日本橋駅から徒歩４分\\n\\n\\n距离京橋 368  米'}, {'age': 46, 'cp_rating_dinner': 3.02, 'cp_rating_lunch': 3.42, 'feeling_rating_dinner': 3.67, 'feeling_rating_lunch': 3.95, 'female_prop': 23.79, 'label_code': 0, 'label_desc': '高消族', 'lat': 35.6617324, 'lng': 139.7512518, 'male_prop': 76.21, 'meal_duration': 1.0, 'prices_dinner': 19843, 'prices_lunch': 9922, 'rest_addr': '東京都港區西新橋3-23-11', 'rest_area': '濱松町・芝公園', 'rest_catg': '牛排/河豚/螃蟹', 'rest_rating': 3.86, 'service_rating_dinner': 4.01, 'service_rating_lunch': 4.4, 'store_nm_en': 'ARAGAWA', 'store_nm_jp': '麤皮', 'transport': '御成門駅から徒歩1分\\n\\n\\n距离御成門 117  米'}, {'age': 40, 'cp_rating_dinner': 3.97, 'cp_rating_lunch': 3.97, 'feeling_rating_dinner': 3.98, 'feeling_rating_lunch': 4.3, 'female_prop': 23.82, 'label_code': 1, 'label_desc': '平消族', 'lat': 35.6489973, 'lng': 139.6311827, 'male_prop': 76.18, 'meal_duration': 1.0, 'prices_dinner': 992, 'prices_lunch': 709, 'rest_addr': '東京都世田穀區經堂4-3-10', 'rest_area': '豪德寺・經堂・千歲船橋', 'rest_catg': '印度咖哩/尼泊爾料理/斯里蘭卡料理', 'rest_rating': 3.84, 'service_rating_dinner': 3.92, 'service_rating_lunch': 4.2, 'store_nm_en': 'Kalpasi', 'store_nm_jp': 'カルパシ', 'transport': '小田急線千歳船橋\\u3000徒歩6分\\n\\n\\n距离千歲船橋 389  米'}, {'age': 41, 'cp_rating_dinner': 3.81, 'cp_rating_lunch': 3.73, 'feeling_rating_dinner': 3.18, 'feeling_rating_lunch': 3.16, 'female_prop': 23.31, 'label_code': 1, 'label_desc': '平消族', 'lat': 35.7064416, 'lng': 139.7604609, 'male_prop': 76.69, 'meal_duration': 1.0, 'prices_dinner': 142, 'prices_lunch': 142, 'rest_addr': '東京都文京區本鄉2-39-7', 'rest_area': '本鄉・東大周邊', 'rest_catg': '烏龍麵', 'rest_rating': 3.77, 'service_rating_dinner': 3.32, 'service_rating_lunch': 3.24, 'store_nm_en': 'TOKYO LIGHT BLUE HONGO-3', 'store_nm_jp': 'トウキョウライトブルー ホンゴウスリー', 'transport': '東京メトロ本郷三丁目駅より徒歩1分\\n都営大江戸線本郷三丁目駅より徒歩2分\\n本郷通りを南下して御茶ノ水方面へ進み右手数軒目\\n\\n\\n距离本鄉三丁目 114  米'}, {'age': 43, 'cp_rating_dinner': 3.24, 'cp_rating_lunch': 3.35, 'feeling_rating_dinner': 3.67, 'feeling_rating_lunch': 3.82, 'female_prop': 23.28, 'label_code': 1, 'label_desc': '平消族', 'lat': 35.6812097, 'lng': 139.7747558, 'male_prop': 76.72, 'meal_duration': 1.0, 'prices_dinner': 1984, 'prices_lunch': 425, 'rest_addr': '東京都中央區日本橋2-9-9', 'rest_area': '日本橋・京橋', 'rest_catg': '魚類料理・海鮮料理/星鰻/天婦羅', 'rest_rating': 3.77, 'service_rating_dinner': 3.39, 'service_rating_lunch': 3.56, 'store_nm_en': 'Tamai', 'store_nm_jp': '玉ゐ 本店', 'transport': 'ＪＲ東京駅八重洲口から高島屋デパート方面へ徒歩8分。東京メトロ銀座線・東西線、都営浅草線日本橋駅から徒歩3分。\\n\\n\\n距离日本橋 106  米'}]\n"
     ]
    },
    {
     "name": "stdout",
     "output_type": "stream",
     "text": [
      "=====================\n",
      " 第1天行程：\n",
      "淺草 Asakusa約4.9 公里，景點間通勤約需14 分鐘。\n",
      "---------------\n",
      "雷門 Nakamise Shopping Street (Kaminarimon)約1.8 公里，景點間通勤約需7 分鐘。\n",
      "---------------\n",
      "淺草文化觀光中心 Asakusa Culture Tourist Information Center約61 公尺，景點間通勤約需1 分鐘。\n",
      "---------------\n",
      "\n",
      "地圖連結：https://45a28610.ngrok.io/images/day1-U374824a0557f0767db8c194dae6c6002-1574398135389map.html\n",
      "===============\n",
      "第2天行程：\n",
      "上野東照宮 Toshogu Shrine約5.4 公里，景點間通勤約需15 分鐘。\n",
      "---------------\n",
      "東京國立博物館 Tokyo National Museum約1.3 公里，景點間通勤約需5 分鐘。\n",
      "---------------\n",
      "東京都美術館 Tokyo Metropolitan Art Museum約1.9 公里，景點間通勤約需7 分鐘。\n",
      "---------------\n",
      "\n",
      "地圖連結：https://45a28610.ngrok.io/images/day2-U374824a0557f0767db8c194dae6c6002-1574398135389map.html\n",
      "===============\n",
      "第3天行程：\n",
      "東京車展 Tokyo Motor Show約11.1 公里，景點間通勤約需17 分鐘。\n",
      "---------------\n",
      "春花園 BONSAI 美術館 Shunkaen BONSAI Museum約19.3 公里，景點間通勤約需22 分鐘。\n",
      "---------------\n",
      "新江戶川公園 Higo-Hosokawa Garden約19.3 公里，景點間通勤約需23 分鐘。\n",
      "---------------\n",
      "\n",
      "地圖連結：https://45a28610.ngrok.io/images/day3-U374824a0557f0767db8c194dae6c6002-1574398135389map.html\n",
      "===============\n",
      "第4天行程：\n",
      "晴空塔 Tokyo Skytree約8.1 公里，景點間通勤約需13 分鐘。\n",
      "---------------\n",
      "三得利美術館 Suntory Museum of Art約15.2 公里，景點間通勤約需22 分鐘。\n",
      "---------------\n",
      "澀谷站前 十字路口 Shibuya Crossing約3.9 公里，景點間通勤約需14 分鐘。\n",
      "---------------\n",
      "\n",
      "地圖連結：https://45a28610.ngrok.io/images/day4-U374824a0557f0767db8c194dae6c6002-1574398135389map.html\n",
      "===============\n",
      "第5天行程：\n",
      "銀座東急Plaza購物中心 Tokyu Plaza Ginza約4.0 公里，景點間通勤約需13 分鐘。\n",
      "---------------\n",
      "豐川稻荷 Toyokawa Inari Tokyo Betsuin約3.6 公里，景點間通勤約需10 分鐘。\n",
      "---------------\n",
      "惠比壽啤酒紀念館 Museum of Yebisu Beer約5.3 公里，景點間通勤約需16 分鐘。\n",
      "---------------\n",
      "\n",
      "地圖連結：https://45a28610.ngrok.io/images/day5-U374824a0557f0767db8c194dae6c6002-1574398135389map.html\n",
      "===============\n",
      "第6天行程：\n",
      "森美術館 Mori Art Museum約10.7 公里，景點間通勤約需19 分鐘。\n",
      "---------------\n",
      "日本損保東鄉青兒美術館 Seiji Togo Memorial Sompo Japan Nipponkoa Museum of Art約7.5 公里，景點間通勤約需19 分鐘。\n",
      "---------------\n",
      " Hobby Center Kato Tokyo約4.8 公里，景點間通勤約需17 分鐘。\n",
      "---------------\n",
      "\n",
      "地圖連結：https://45a28610.ngrok.io/images/day6-U374824a0557f0767db8c194dae6c6002-1574398135389map.html\n",
      "===============\n",
      " \n",
      "=======================\n",
      "type ==> <class 'linebot.exceptions.LineBotApiError'>\n",
      "value ==> LineBotApiError: status_code=400, error_response={\"details\": [], \"message\": \"Invalid reply token\"}\n",
      "traceback ==> file name: <ipython-input-25-a23c8ff16dbb>\n",
      "traceback ==> line no: 156\n",
      "traceback ==> function name: handle_message\n",
      "::tripStart:\n",
      "Erving,U374824a0557f0767db8c194dae6c6002\n",
      "{\"data\": \"tripStart\"}\n",
      "1574398135670,2019-11-22 04:48:55.670000\n",
      "{'age': 7, 'been2tko': 1, 'days': 7, 'budget': 40000, 'isFemale': 0, 'fbudget': 12000, 'dDate': '2020-03-31', 'rDate': '2020-04-07'}\n",
      "{'airline': 'Tigerair Taiwan', 'date_format(eta,\"%a\")': 'Tue', 'date_format(etd,\"%a\")': 'Tue', 'date_format(tuEta,\"%a\")': 'Tue', 'date_format(tuEtd,\"%a\")': 'Tue', 'price': 8067, 'time_format(eta,\"%T\")': '10:35:00', 'time_format(etd,\"%T\")': '06:35:00', 'time_format(sec_to_time(dur),\"%T\")': '03:00:00', 'time_format(sec_to_time(tuDur),\"%T\")': '03:55:00', 'time_format(tuEta,\"%T\")': '07:55:00', 'time_format(tuEtd,\"%T\")': '05:00:00'}\n",
      "bk by tue\n",
      "{'age': 7, 'been2tko': 1, 'howlong': 7, 'budget': 40000, 'isFemale': 0, 'with_child': 0, 'crampedSechedule': False}\n",
      "['[{\"index\":2,\"name\":\"淺草 Asakusa\",\"rank\":\"排名第 1的台東區觀光 (共560家)\",\"address\":\"東京都台東區\",\"child\":0.0087715012,\"latitude\":35.7125736,\"longitude\":139.7802043,\"score\":241,\"chosen\":true},{\"index\":48,\"name\":\"雷門 Nakamise Shopping Street (Kaminarimon)\",\"rank\":\"排名第 18的台東區觀光 (共560家)\",\"address\":\"東京都台東區淺草1丁目3\",\"child\":0.0048539208,\"latitude\":35.7110859,\"longitude\":139.7959648,\"score\":114,\"chosen\":true},{\"index\":35,\"name\":\"淺草文化觀光中心 Asakusa Culture Tourist Information Center\",\"rank\":\"排名第 3的台東區觀光 (共560家)\",\"address\":\"東京都台東區2-18-9 Kaminarimon111-0034\",\"child\":0.0040560983,\"latitude\":35.7106489,\"longitude\":139.7965348,\"score\":106,\"chosen\":true}]', '[{\"index\":134,\"name\":\"太田現代美術博物館 Ota Memorial Museum of Art\",\"rank\":\"排名第 5的澀谷區觀光 (共279家)\",\"address\":\"東京都澀谷區惠比壽西2-8-1150-0001\",\"child\":0.0702455514,\"latitude\":35.6432025,\"longitude\":139.7145181,\"score\":70,\"chosen\":true},{\"index\":96,\"name\":\"水元公園 Mizumoto Park\",\"rank\":\"排名第 1的葛飾區觀光 (共139家)\",\"address\":\"東京都葛飾區水元公園125-0034\",\"child\":0.0,\"latitude\":35.787198,\"longitude\":139.8698408,\"score\":114,\"chosen\":true},{\"index\":73,\"name\":\"日比谷公園 Hibiya Park\",\"rank\":\"排名第 1的Hibiyakoen觀光 (共2家)\",\"address\":\"東京都中央區Hibiyakoen日比谷公園1-6100-0012\",\"child\":0.0215814016,\"latitude\":35.6744393,\"longitude\":139.7553875,\"score\":114,\"chosen\":true}]', '[{\"index\":187,\"name\":\"月島燒 文字燒街 Tsukishima Monjya Street\",\"rank\":\"排名第 25的中央區觀光 (共577家)\",\"address\":\"東京都中央區Tsukishima\",\"child\":0.0773768629,\"latitude\":35.6635905,\"longitude\":139.7818227,\"score\":70,\"chosen\":true},{\"index\":42,\"name\":\"東京海賊王塔 TOKYO ONE PIECE TOWER\",\"rank\":\"排名第 16的港區觀光 (共626家)\",\"address\":\"東京都港區4-2-8 ShibakoenTokyo Tower Foot Town105-0011\",\"child\":0.2333411224,\"latitude\":35.658595,\"longitude\":139.745442,\"score\":70,\"chosen\":true},{\"index\":39,\"name\":\"中野百老匯 Nakano Broadway\",\"rank\":\"排名第 1的中野區觀光 (共142家)\",\"address\":\"東京都中野區5-52-15 Nakano164-0001\",\"child\":0.1296033826,\"latitude\":35.7091118,\"longitude\":139.6656805,\"score\":84,\"chosen\":true}]', '[{\"index\":136,\"name\":\"原美術館 Hara Museum of Contemporary Art (Hara Bijutsukan)\",\"rank\":\"排名第 6的品川區觀光 (共211家)\",\"address\":\"東京都品川區北品川4-7-25140-0001\",\"child\":0.0,\"latitude\":35.6218719,\"longitude\":139.7364627,\"score\":70,\"chosen\":true},{\"index\":83,\"name\":\"舊古河庭園 Kyu Fukukawa Teien\",\"rank\":\"排名第 1的北區觀光 (共102家)\",\"address\":\"東京都北區西原1-27-39114-0024\",\"child\":0.0,\"latitude\":35.7426086,\"longitude\":139.7463623,\"score\":114,\"chosen\":true},{\"index\":13,\"name\":\"東京都廳 Tokyo Metropolitan Government Buildings\",\"rank\":\"排名第 4的新宿區觀光 (共419家)\",\"address\":\"東京都新宿區西新宿2-8-1160-0023\",\"child\":0.0117124956,\"latitude\":35.6895877,\"longitude\":139.6914565,\"score\":114,\"chosen\":true}]', '[{\"index\":189,\"name\":\"三社祭 Sanja Matsuri\",\"rank\":\"排名第 19的台東區觀光 (共560家)\",\"address\":\"東京都台東區2-3-1 AsakusaAsakusa Shrine111-0032\",\"child\":0.0864315783,\"latitude\":35.7147651,\"longitude\":139.7966553,\"score\":70,\"chosen\":true},{\"index\":225,\"name\":\"東京馬拉松 Tokyo Marathon\",\"rank\":\"排名第 12的新宿區觀光 (共419家)\",\"address\":\"東京都新宿區2-8-1 NishishinjukuTokyo Metropolitan Government Building163-8001\",\"child\":0.0542821379,\"latitude\":35.6898531,\"longitude\":139.6917321,\"score\":70,\"chosen\":true},{\"index\":192,\"name\":\"隅田川花火大會 Sumida River Fireworks\",\"rank\":\"排名第 12的墨田區觀光 (共264家)\",\"address\":\"東京都墨田區\",\"child\":0.0,\"latitude\":35.7107479,\"longitude\":139.8016393,\"score\":70,\"chosen\":true}]', '[{\"index\":207,\"name\":\"東京車展 Tokyo Motor Show\",\"rank\":\"排名第 25的江東區觀光 (共343家)\",\"address\":\"東京都江東區3-11 AriakeTokyo Big Sight135-0063\",\"child\":0.0,\"latitude\":35.6296259,\"longitude\":139.7944847,\"score\":70,\"chosen\":true},{\"index\":55,\"name\":\"東京清真寺暨土耳其文化中心 Tokyo Camii & Turkish Culture Center\",\"rank\":\"排名第 3的澀谷區觀光 (共279家)\",\"address\":\"東京都澀谷區1-19 Oyamacho151-0065\",\"child\":0.0258656868,\"latitude\":35.668191,\"longitude\":139.676556,\"score\":114,\"chosen\":true},{\"index\":12,\"name\":\"森美術館 Mori Art Museum\",\"rank\":\"排名第 6的港區觀光 (共626家)\",\"address\":\"東京都港區六本木6-10-1 六本木Hills森塔53層Roppongi Hills Mori Tower 53F106-6150\",\"child\":0.0293691567,\"latitude\":35.6602384,\"longitude\":139.7300767,\"score\":70,\"chosen\":true}]']\n",
      "{'age': 7, 'been2tko': 1, 'days': 7, 'budget': 40000, 'isFemale': 0, 'hotel budget': 2000}\n",
      "{'CP': 2.933333333, 'pre': 2.0, '交通1': '西葛西站 - 走路 3 分鐘', '交通2': '葛西臨海公園站 - 走路 5 分鐘', '交通3': '東京, 日本 (NRT-成田國際機場) - 車程 41 分鐘', '交通便利性': '3', '價格': 1500.0, '地址': '6-15-24 Nishikasai, Edogawa-ku, 東京, 東京', '廚房': 0.0, '星等': 3.0, '經度': 139.860193, '網址': 'https://www.expedia.com.tw/Tokyo-Hotels-APA-Hotel-TKP-Tokyo-Nishikasai.h19840240.Hotel-Information?chkin=2019%2F10%2F4&chkout=2019%2F10%2F5&regionId=179900&destination=%E6%9D%B1%E4%BA%AC+%28%E5%8F%8A%E9%84%B0%E8%BF%91%E5%9C%B0%E5%8D%80%29%2C+%E6%97%A5%E6%9C%AC&swpToggleOn=true&rm1=a1&x_pwa=1&sort=recommended&top_dp=1500&top_cur=TWD&rfrr=HSR&pwa_ts=1570019160171', '緯度': 35.664367, '評價': 4.4, '鄰近景點1': '東京都葛西臨海水族園 - 開車 5 分鐘', '鄰近景點2': '東京迪士尼樂園? - 開車 8 分鐘', '鄰近景點3': '江戶東京博物館 - 開車 8 分鐘', '鄰近景點4': '豐洲市場 - 開車 9 分鐘', '鄰近景點5': '東京晴空塔 - 開車 24 分鐘', '飯店名稱': 'TKP 東京西葛西 APA 飯店'}\n",
      "{'age': 7, 'been2tko': 1, 'days': 7, 'totalBudget': 40000, 'gender': 0, 'oneBudget': 200}\n",
      "[{'age': 43, 'cp_rating_dinner': 3.68, 'cp_rating_lunch': 4.13, 'feeling_rating_dinner': 3.97, 'feeling_rating_lunch': 4.29, 'female_prop': 24.14, 'label_code': 1, 'label_desc': '平消族', 'lat': 35.6683745, 'lng': 139.7603392, 'male_prop': 75.86, 'meal_duration': 1.0, 'prices_dinner': 7087, 'prices_lunch': 3543, 'rest_addr': '東京都中央區銀座8-6-18', 'rest_area': '新橋・汐留', 'rest_catg': '壽司', 'rest_rating': 3.76, 'service_rating_dinner': 3.85, 'service_rating_lunch': 4.1, 'store_nm_en': 'Kozasazushi', 'store_nm_jp': '小笹寿し', 'transport': 'JR・東京メトロ銀座線新橋駅徒歩3分\\n\\n\\n距离新橋 305  米'}, {'age': 41, 'cp_rating_dinner': 4.27, 'cp_rating_lunch': 4.5, 'feeling_rating_dinner': 4.14, 'feeling_rating_lunch': 4.77, 'female_prop': 24.23, 'label_code': 0, 'label_desc': '高消族', 'lat': 35.7044914, 'lng': 139.6339121, 'male_prop': 75.77, 'meal_duration': 1.0, 'prices_dinner': 7087, 'prices_lunch': 7087, 'rest_addr': '東京都杉並區阿佐穀南3-44-4', 'rest_area': '阿佐谷', 'rest_catg': '壽司', 'rest_rating': 4.51, 'service_rating_dinner': 4.17, 'service_rating_lunch': 4.73, 'store_nm_en': 'Namba', 'store_nm_jp': '鮨 なんば 阿佐ヶ谷', 'transport': '阿佐ヶ谷駅徒歩２～３分\\n■南口を出て、交番の横を通り細い道をまっすぐ突き当たりまで進みます。\\n■右手にスマイルホテルがあるので、そこを右に曲がります。\\n■すぐに左へ行く道があるので、左に曲がりまっすぐ30mほど進みます。\\n（左へ行く道が二つあるので、手前側を曲がって下さいね）\\n■右手に鮨なんばがあります。\\n\\n\\n距离阿佐谷 158  米'}, {'age': 46, 'cp_rating_dinner': 3.5, 'cp_rating_lunch': 3.85, 'feeling_rating_dinner': 3.64, 'feeling_rating_lunch': 3.69, 'female_prop': 23.6, 'label_code': 1, 'label_desc': '平消族', 'lat': 35.7129511, 'lng': 139.7976804, 'male_prop': 76.4, 'meal_duration': 1.0, 'prices_dinner': 3543, 'prices_lunch': 3543, 'rest_addr': '東京都檯東區淺草2-1-16', 'rest_area': '淺草', 'rest_catg': '壽司/魚類料理・海鮮料理/日式料理（其他）', 'rest_rating': 3.78, 'service_rating_dinner': 3.69, 'service_rating_lunch': 3.72, 'store_nm_en': 'Bentenyamamiyakozushi', 'store_nm_jp': '弁天山美家古寿司', 'transport': '東京メトロ銀座線\\n７番出口より徒歩３分\\n（その他多数アクセス方法あり）\\n\\n\\n距离淺草 263  米'}, {'age': 39, 'cp_rating_dinner': 3.96, 'cp_rating_lunch': 4.0, 'feeling_rating_dinner': 3.35, 'feeling_rating_lunch': 3.27, 'female_prop': 23.48, 'label_code': 1, 'label_desc': '平消族', 'lat': 35.6854123, 'lng': 139.7753649, 'male_prop': 76.52, 'meal_duration': 1.5, 'prices_dinner': 142, 'prices_lunch': 142, 'rest_addr': '東京都中央區日本橋室町1-11-15', 'rest_area': '日本橋・京橋', 'rest_catg': '炸蝦丼飯・炸蝦便當/便當/星鰻', 'rest_rating': 3.77, 'service_rating_dinner': 3.39, 'service_rating_lunch': 3.28, 'store_nm_en': 'nihombashitendonkanekohannosuke', 'store_nm_jp': '日本橋 天丼 金子半之助 本店', 'transport': '東京メトロ半蔵門線・銀座線「三越前」駅(A1出口)から徒歩1分\\n東京メトロ東西線「日本橋」駅から徒歩4分\\nJR総武本線「新日本橋」駅から徒歩5分\\n\\n\\n距离三越前 157  米'}, {'age': 43, 'cp_rating_dinner': 3.24, 'cp_rating_lunch': 3.35, 'feeling_rating_dinner': 3.67, 'feeling_rating_lunch': 3.82, 'female_prop': 23.28, 'label_code': 1, 'label_desc': '平消族', 'lat': 35.6812097, 'lng': 139.7747558, 'male_prop': 76.72, 'meal_duration': 1.0, 'prices_dinner': 1984, 'prices_lunch': 425, 'rest_addr': '東京都中央區日本橋2-9-9', 'rest_area': '日本橋・京橋', 'rest_catg': '魚類料理・海鮮料理/星鰻/天婦羅', 'rest_rating': 3.77, 'service_rating_dinner': 3.39, 'service_rating_lunch': 3.56, 'store_nm_en': 'Tamai', 'store_nm_jp': '玉ゐ 本店', 'transport': 'ＪＲ東京駅八重洲口から高島屋デパート方面へ徒歩8分。東京メトロ銀座線・東西線、都営浅草線日本橋駅から徒歩3分。\\n\\n\\n距离日本橋 106  米'}, {'age': 40, 'cp_rating_dinner': 3.59, 'cp_rating_lunch': 3.97, 'feeling_rating_dinner': 3.68, 'feeling_rating_lunch': 3.91, 'female_prop': 23.92, 'label_code': 1, 'label_desc': '平消族', 'lat': 35.6696498, 'lng': 139.7616456, 'male_prop': 76.08, 'meal_duration': 1.0, 'prices_dinner': 7087, 'prices_lunch': 425, 'rest_addr': '東京都中央區銀座7-6-16', 'rest_area': '銀座', 'rest_catg': '鐵板燒/壽喜燒/牛排', 'rest_rating': 3.77, 'service_rating_dinner': 3.58, 'service_rating_lunch': 3.99, 'store_nm_en': 'Okahan', 'store_nm_jp': '岡半 本店', 'transport': '東京メトロ銀座線・丸の内線・日比谷線\\u3000銀座駅\\u3000B6出口\\u3000徒歩6分\\n東京メトロ銀座線・都営地下鉄浅草線\\u3000新橋駅\\u30003番出口\\u3000徒歩7分\\nJR東海道線\\u3000新橋駅\\u3000銀座口\\u3000徒歩8分\\n\\n\\n距离銀座 334  米'}, {'age': 38, 'cp_rating_dinner': 3.4, 'cp_rating_lunch': 3.46, 'feeling_rating_dinner': 3.66, 'feeling_rating_lunch': 3.62, 'female_prop': 23.5, 'label_code': 1, 'label_desc': '平消族', 'lat': 35.7394064, 'lng': 139.6567577, 'male_prop': 76.5, 'meal_duration': 1.0, 'prices_dinner': 142, 'prices_lunch': 142, 'rest_addr': '東京都練馬區練馬1-29-16', 'rest_area': '練馬～練馬高野台・光之丘', 'rest_catg': '拉麵/沾麵', 'rest_rating': 3.76, 'service_rating_dinner': 3.45, 'service_rating_lunch': 3.44, 'store_nm_en': 'ra-mengottsu', 'store_nm_jp': 'RAMEN GOTTSU', 'transport': '西武池袋線または都営大江戸線「練馬」駅(北口)より、徒歩５分\\n\\n\\n距离練馬 286  米'}, {'age': 37, 'cp_rating_dinner': 3.53, 'cp_rating_lunch': 3.48, 'feeling_rating_dinner': 3.61, 'feeling_rating_lunch': 3.46, 'female_prop': 23.71, 'label_code': 1, 'label_desc': '平消族', 'lat': 35.7188559, 'lng': 139.8576853, 'male_prop': 76.29, 'meal_duration': 1.0, 'prices_dinner': 425, 'prices_lunch': 425, 'rest_addr': '東京都葛飾區東新小嵒1-4-17', 'rest_area': '小岩・新小岩', 'rest_catg': '拉麵/沾麵', 'rest_rating': 3.87, 'service_rating_dinner': 3.72, 'service_rating_lunch': 3.56, 'store_nm_en': 'Itto', 'store_nm_jp': '麺屋一燈', 'transport': '・JR総武線「新小岩」駅(北口)から徒歩3分\\n・都営バスまたは京成タウンバス「新小岩駅北口」下車してすぐ\\n\\n\\n距离新小岩 232  米'}, {'age': 37, 'cp_rating_dinner': 3.49, 'cp_rating_lunch': 3.71, 'feeling_rating_dinner': 3.65, 'feeling_rating_lunch': 3.72, 'female_prop': 23.9, 'label_code': 1, 'label_desc': '平消族', 'lat': 35.6907506, 'lng': 139.7037512, 'male_prop': 76.1, 'meal_duration': 1.0, 'prices_dinner': 142, 'prices_lunch': 142, 'rest_addr': '東京都新宿區新宿3-31-5', 'rest_area': '新宿', 'rest_catg': '拉麵/沾麵/乾擔擔麵', 'rest_rating': 3.84, 'service_rating_dinner': 3.65, 'service_rating_lunch': 3.73, 'store_nm_en': 'Ramenhayashida', 'store_nm_jp': 'らぁ麺 はやし田 新宿本店', 'transport': 'JR山手線「新宿」駅、東京メトロ副都心線・都営新宿線「新宿三丁目」駅にて下車。\\nマルイ本店のすぐ裏の狭い路地に面している。雑居ビルの間にあるので、間違えて行き過ぎないように。\\n\\n\\n距离新宿三丁目 63  米'}, {'age': 43, 'cp_rating_dinner': 4.02, 'cp_rating_lunch': 4.19, 'feeling_rating_dinner': 3.8, 'feeling_rating_lunch': 4.19, 'female_prop': 24.12, 'label_code': 1, 'label_desc': '平消族', 'lat': 35.6583941, 'lng': 139.723053, 'male_prop': 75.88, 'meal_duration': 1.5, 'prices_dinner': 7087, 'prices_lunch': 425, 'rest_addr': '東京都港區西痲佈4-11-28', 'rest_area': '廣尾', 'rest_catg': '和式餐馆 / 小菜/河豚', 'rest_rating': 4.08, 'service_rating_dinner': 4.05, 'service_rating_lunch': 4.5, 'store_nm_en': 'Tokuyama', 'store_nm_jp': 'とく山', 'transport': '距离廣尾 829  米'}, {'age': 37, 'cp_rating_dinner': 3.91, 'cp_rating_lunch': 4.3, 'feeling_rating_dinner': 3.96, 'feeling_rating_lunch': 4.5, 'female_prop': 23.91, 'label_code': 1, 'label_desc': '平消族', 'lat': 35.6439034, 'lng': 139.7190916, 'male_prop': 76.09, 'meal_duration': 2.0, 'prices_dinner': 1984, 'prices_lunch': 1984, 'rest_addr': '東京都澀穀區惠比壽3-41-9', 'rest_area': '惠比壽', 'rest_catg': '義式/義大利麵/牛排', 'rest_rating': 3.84, 'service_rating_dinner': 4.01, 'service_rating_lunch': 4.5, 'store_nm_en': 'MAGICAMENTE', 'store_nm_jp': 'マジカメンテ', 'transport': 'JR恵比寿駅よりスカイウォーク出口から7分\\nJR恵比寿駅東口から徒歩15分\\n日比谷線広尾駅から8分\\n東京メトロ南北線、白金台駅から徒歩15分\\n《最寄駅よりタクシーでご来店のお客様》\\nディナーに限りお会計よりタクシー1メーター分サービス致します。\\n※タクシーの領収証と引き換えになりますので必ずご持参下さい。\\n\\n\\n距离惠比壽 868  米'}, {'age': 39, 'cp_rating_dinner': 3.61, 'cp_rating_lunch': 3.53, 'feeling_rating_dinner': 3.58, 'feeling_rating_lunch': 3.51, 'female_prop': 23.73, 'label_code': 1, 'label_desc': '平消族', 'lat': 35.700814, 'lng': 139.7482686, 'male_prop': 76.27, 'meal_duration': 1.0, 'prices_dinner': 142, 'prices_lunch': 142, 'rest_addr': '東京都韆代田區飯田橋3-2-6', 'rest_area': '飯田橋・神樂坂', 'rest_catg': '印度咖哩/餐飲酒館/酒吧', 'rest_rating': 3.81, 'service_rating_dinner': 3.65, 'service_rating_lunch': 3.63, 'store_nm_en': 'kari-andosupaisubarukari-bito', 'store_nm_jp': 'カリ～\\u3000アンド\\u3000スパイスバル\\u3000カリ～ビト', 'transport': '東京メトロ東西線【飯田橋駅】徒歩２分\\nＪＲ中央線【飯田橋駅】東口\\u3000徒歩５分\\n東京メトロ有楽町線・南北線【飯田橋駅】徒歩７分\\n\\n\\n距离飯田橋 344  米'}, {'age': 43, 'cp_rating_dinner': 3.82, 'cp_rating_lunch': 4.07, 'feeling_rating_dinner': 4.13, 'feeling_rating_lunch': 4.3, 'female_prop': 24.21, 'label_code': 0, 'label_desc': '高消族', 'lat': 35.6583941, 'lng': 139.723053, 'male_prop': 75.79, 'meal_duration': 1.5, 'prices_dinner': 15591, 'prices_lunch': 425, 'rest_addr': '東京都港區西痲佈2-15-1', 'rest_area': '表參道', 'rest_catg': '懷石 / 會席料理/和式餐馆 / 小菜/蕎麥麵', 'rest_rating': 4.49, 'service_rating_dinner': 4.2, 'service_rating_lunch': 4.42, 'store_nm_en': 'Goryukubo', 'store_nm_jp': '豪龍久保', 'transport': '地下鉄銀座線表参道駅 A4番出口 徒歩10分 \\n地下鉄半蔵門線表参道駅 A4番出口 徒歩10分 \\n地下鉄千代田線表参道駅 A4番出口 徒歩10分 \\n地下鉄千代田線乃木坂駅 5番出口 徒歩10分\\n\\n\\n距离乃木坂 738  米'}, {'age': 39, 'cp_rating_dinner': 3.96, 'cp_rating_lunch': 4.0, 'feeling_rating_dinner': 3.35, 'feeling_rating_lunch': 3.27, 'female_prop': 23.48, 'label_code': 1, 'label_desc': '平消族', 'lat': 35.6854123, 'lng': 139.7753649, 'male_prop': 76.52, 'meal_duration': 1.5, 'prices_dinner': 142, 'prices_lunch': 142, 'rest_addr': '東京都中央區日本橋室町1-11-15', 'rest_area': '日本橋・京橋', 'rest_catg': '炸蝦丼飯・炸蝦便當/便當/星鰻', 'rest_rating': 3.77, 'service_rating_dinner': 3.39, 'service_rating_lunch': 3.28, 'store_nm_en': 'nihombashitendonkanekohannosuke', 'store_nm_jp': '日本橋 天丼 金子半之助 本店', 'transport': '東京メトロ半蔵門線・銀座線「三越前」駅(A1出口)から徒歩1分\\n東京メトロ東西線「日本橋」駅から徒歩4分\\nJR総武本線「新日本橋」駅から徒歩5分\\n\\n\\n距离三越前 157  米'}]\n"
     ]
    },
    {
     "name": "stdout",
     "output_type": "stream",
     "text": [
      "=====================\n",
      " 第1天行程：\n",
      "雷門 Nakamise Shopping Street (Kaminarimon)約16.6 公里，景點間通勤約需24 分鐘。\n",
      "---------------\n",
      "淺草文化觀光中心 Asakusa Culture Tourist Information Center約61 公尺，景點間通勤約需1 分鐘。\n",
      "---------------\n",
      "淺草 Asakusa約2.0 公里，景點間通勤約需8 分鐘。\n",
      "---------------\n",
      "\n",
      "地圖連結：https://45a28610.ngrok.io/images/day1-U374824a0557f0767db8c194dae6c6002-1574398135669map.html\n",
      "===============\n",
      "第2天行程：\n",
      "水元公園 Mizumoto Park約20.5 公里，景點間通勤約需32 分鐘。\n",
      "---------------\n",
      "日比谷公園 Hibiya Park約21.8 公里，景點間通勤約需37 分鐘。\n",
      "---------------\n",
      "太田現代美術博物館 Ota Memorial Museum of Art約6.8 公里，景點間通勤約需13 分鐘。\n",
      "---------------\n",
      "\n",
      "地圖連結：https://45a28610.ngrok.io/images/day2-U374824a0557f0767db8c194dae6c6002-1574398135669map.html\n",
      "===============\n",
      "第3天行程：\n",
      "中野百老匯 Nakano Broadway約31.0 公里，景點間通勤約需40 分鐘。\n",
      "---------------\n",
      "東京海賊王塔 TOKYO ONE PIECE TOWER約13.4 公里，景點間通勤約需31 分鐘。\n",
      "---------------\n",
      "月島燒 文字燒街 Tsukishima Monjya Street約6.0 公里，景點間通勤約需13 分鐘。\n",
      "---------------\n",
      "\n",
      "地圖連結：https://45a28610.ngrok.io/images/day3-U374824a0557f0767db8c194dae6c6002-1574398135669map.html\n",
      "===============\n",
      "第4天行程：\n",
      "舊古河庭園 Kyu Fukukawa Teien約23.2 公里，景點間通勤約需29 分鐘。\n",
      "---------------\n",
      "東京都廳 Tokyo Metropolitan Government Buildings約12.8 公里，景點間通勤約需24 分鐘。\n",
      "---------------\n",
      "原美術館 Hara Museum of Contemporary Art (Hara Bijutsukan)約10.5 公里，景點間通勤約需24 分鐘。\n",
      "---------------\n",
      "\n",
      "地圖連結：https://45a28610.ngrok.io/images/day4-U374824a0557f0767db8c194dae6c6002-1574398135669map.html\n",
      "===============\n",
      "第5天行程：\n",
      "隅田川花火大會 Sumida River Fireworks約16.1 公里，景點間通勤約需21 分鐘。\n",
      "---------------\n",
      "三社祭 Sanja Matsuri約1.6 公里，景點間通勤約需7 分鐘。\n",
      "---------------\n",
      "東京馬拉松 Tokyo Marathon約17.1 公里，景點間通勤約需27 分鐘。\n",
      "---------------\n",
      "\n",
      "地圖連結：https://45a28610.ngrok.io/images/day5-U374824a0557f0767db8c194dae6c6002-1574398135669map.html\n",
      "===============\n",
      "第6天行程：\n",
      "森美術館 Mori Art Museum約19.6 公里，景點間通勤約需29 分鐘。\n",
      "---------------\n",
      "東京清真寺暨土耳其文化中心 Tokyo Camii & Turkish Culture Center約5.7 公里，景點間通勤約需19 分鐘。\n",
      "---------------\n",
      "東京車展 Tokyo Motor Show約17.3 公里，景點間通勤約需27 分鐘。\n",
      "---------------\n",
      "\n",
      "地圖連結：https://45a28610.ngrok.io/images/day6-U374824a0557f0767db8c194dae6c6002-1574398135669map.html\n",
      "===============\n",
      " \n",
      "=======================\n",
      "type ==> <class 'linebot.exceptions.LineBotApiError'>\n",
      "value ==> LineBotApiError: status_code=400, error_response={\"details\": [], \"message\": \"Invalid reply token\"}\n",
      "traceback ==> file name: <ipython-input-25-a23c8ff16dbb>\n",
      "traceback ==> line no: 156\n",
      "traceback ==> function name: handle_message\n",
      "::tripStart:\n",
      "Erving,U374824a0557f0767db8c194dae6c6002\n",
      "{\"data\": \"tripStart\"}\n",
      "1574398136101,2019-11-22 04:48:56.101000\n",
      "{'age': 7, 'been2tko': 1, 'days': 7, 'budget': 40000, 'isFemale': 0, 'fbudget': 12000, 'dDate': '2020-03-31', 'rDate': '2020-04-07'}\n",
      "{'airline': 'Tigerair Taiwan', 'date_format(eta,\"%a\")': 'Tue', 'date_format(etd,\"%a\")': 'Tue', 'date_format(tuEta,\"%a\")': 'Tue', 'date_format(tuEtd,\"%a\")': 'Tue', 'price': 8067, 'time_format(eta,\"%T\")': '10:35:00', 'time_format(etd,\"%T\")': '06:35:00', 'time_format(sec_to_time(dur),\"%T\")': '03:00:00', 'time_format(sec_to_time(tuDur),\"%T\")': '03:55:00', 'time_format(tuEta,\"%T\")': '07:55:00', 'time_format(tuEtd,\"%T\")': '05:00:00'}\n",
      "bk by tue\n",
      "{'age': 7, 'been2tko': 1, 'howlong': 7, 'budget': 40000, 'isFemale': 0, 'with_child': 0, 'crampedSechedule': False}\n",
      "['[{\"index\":2,\"name\":\"淺草 Asakusa\",\"rank\":\"排名第 1的台東區觀光 (共560家)\",\"address\":\"東京都台東區\",\"child\":0.0087715012,\"latitude\":35.7125736,\"longitude\":139.7802043,\"score\":241,\"chosen\":true},{\"index\":48,\"name\":\"雷門 Nakamise Shopping Street (Kaminarimon)\",\"rank\":\"排名第 18的台東區觀光 (共560家)\",\"address\":\"東京都台東區淺草1丁目3\",\"child\":0.0048539208,\"latitude\":35.7110859,\"longitude\":139.7959648,\"score\":114,\"chosen\":true},{\"index\":35,\"name\":\"淺草文化觀光中心 Asakusa Culture Tourist Information Center\",\"rank\":\"排名第 3的台東區觀光 (共560家)\",\"address\":\"東京都台東區2-18-9 Kaminarimon111-0034\",\"child\":0.0040560983,\"latitude\":35.7106489,\"longitude\":139.7965348,\"score\":106,\"chosen\":true}]', '[{\"index\":264,\"name\":\"東京迪士尼樂園 Tokyo Disneyland\",\"rank\":\"排名第 2的Maihama觀光 (共5家)\",\"address\":\"千葉縣浦安Maihama1-1279-8511\",\"child\":1.0,\"latitude\":35.632906,\"longitude\":139.880391,\"score\":94,\"chosen\":true}]', '[{\"index\":124,\"name\":\"貨幣博物館 Bank of Japan Currency Museum\",\"rank\":\"排名第 11的中央區觀光 (共577家)\",\"address\":\"東京都中央區日本橋本石町1-3-1103-0021\",\"child\":0.170981757,\"latitude\":35.6852515,\"longitude\":139.7725791,\"score\":70,\"chosen\":true},{\"index\":165,\"name\":\"西武池袋總店 SEIBU IKEBUKURO Honten\",\"rank\":\"排名第 3的豊島區觀光 (共179家)\",\"address\":\"東京都豊島區南池袋1-28-1171-8569\",\"child\":0.0,\"latitude\":35.7290763,\"longitude\":139.7112423,\"score\":84,\"chosen\":true},{\"index\":111,\"name\":\"高島屋時代廣場 Takashimaya Times Square\",\"rank\":\"排名第 10的澀谷區觀光 (共279家)\",\"address\":\"東京都澀谷區5-24-2 Sendagaya151-8580\",\"child\":0.0379217187,\"latitude\":35.6871734,\"longitude\":139.7024416,\"score\":84,\"chosen\":true}]', '[{\"index\":54,\"name\":\"東京都美術館 Tokyo Metropolitan Art Museum\",\"rank\":\"排名第 16的台東區觀光 (共560家)\",\"address\":\"東京都台東區8-36 Uenokoen110-0007\",\"child\":0.0205605849,\"latitude\":35.7125736,\"longitude\":139.7802043,\"score\":70,\"chosen\":true},{\"index\":6,\"name\":\"東京國立博物館 Tokyo National Museum\",\"rank\":\"排名第 5的台東區觀光 (共560家)\",\"address\":\"東京都台東區上野公園13-9110-0007\",\"child\":0.0509912925,\"latitude\":35.719252,\"longitude\":139.7760709,\"score\":114,\"chosen\":true},{\"index\":106,\"name\":\"上野東照宮 Toshogu Shrine\",\"rank\":\"排名第 17的台東區觀光 (共560家)\",\"address\":\"東京都台東區上野公園9-88\",\"child\":0.0,\"latitude\":35.7153714,\"longitude\":139.7706346,\"score\":183,\"chosen\":true}]', '[{\"index\":104,\"name\":\"三得利美術館 Suntory Museum of Art\",\"rank\":\"排名第 23的港區觀光 (共626家)\",\"address\":\"東京都港區9-7-4 Akasaka107-8643\",\"child\":0.0,\"latitude\":35.6662189,\"longitude\":139.730226,\"score\":70,\"chosen\":true},{\"index\":47,\"name\":\"墨田水族館 Sumida Aquarium\",\"rank\":\"排名第 1的Oshiage觀光 (共8家)\",\"address\":\"東京都墨田區Oshiage1-1-2 OshiageSolamachi 5F\\\\/6F131-0045\",\"child\":0.1931181898,\"latitude\":35.728881,\"longitude\":139.8144266,\"score\":114,\"chosen\":true},{\"index\":193,\"name\":\"大江戶古董市場 - 東京國際論壇 Oedo Antique Market - Tokyo International Forum\",\"rank\":\"排名第 55的千代田區觀光 (共446家)\",\"address\":\"東京都千代田區3-5-1 MarunouchiTokyo International Forum100-0005\",\"child\":0.0199828611,\"latitude\":35.6767429,\"longitude\":139.7637532,\"score\":84,\"chosen\":true}]', '[{\"index\":199,\"name\":\"日本國立國會圖書館 National Diet Library\",\"rank\":\"排名第 35的千代田區觀光 (共446家)\",\"address\":\"東京都千代田區1-10-1, Nagatacho100-8924\",\"child\":0.0,\"latitude\":35.6784667,\"longitude\":139.7442197,\"score\":70,\"chosen\":true},{\"index\":166,\"name\":\" Masakado Kubizuka\",\"rank\":\"排名第 44的千代田區觀光 (共446家)\",\"address\":\"東京都千代田區1-2-1 Otemachi100-0004\",\"child\":0.0,\"latitude\":35.6877542,\"longitude\":139.7622606,\"score\":114,\"chosen\":true},{\"index\":7,\"name\":\"上野恩賜公園 Ueno Park\",\"rank\":\"排名第 6的台東區觀光 (共560家)\",\"address\":\"東京都台東區池之端三丁目110-0007\",\"child\":0.0216646735,\"latitude\":35.716275,\"longitude\":139.7693612,\"score\":183,\"chosen\":true}]', '[{\"index\":42,\"name\":\"東京海賊王塔 TOKYO ONE PIECE TOWER\",\"rank\":\"排名第 16的港區觀光 (共626家)\",\"address\":\"東京都港區4-2-8 ShibakoenTokyo Tower Foot Town105-0011\",\"child\":0.2333411224,\"latitude\":35.658595,\"longitude\":139.745442,\"score\":70,\"chosen\":true},{\"index\":251,\"name\":\"東京都現代美術館 Museum of Contemporary Art Tokyo\",\"rank\":\"排名第 7的江東區觀光 (共343家)\",\"address\":\"東京都江東區三好4-1-1135-0022\",\"child\":0.0490110406,\"latitude\":35.6797467,\"longitude\":139.8081921,\"score\":70,\"chosen\":true},{\"index\":96,\"name\":\"水元公園 Mizumoto Park\",\"rank\":\"排名第 1的葛飾區觀光 (共139家)\",\"address\":\"東京都葛飾區水元公園125-0034\",\"child\":0.0,\"latitude\":35.787198,\"longitude\":139.8698408,\"score\":114,\"chosen\":true}]']\n",
      "{'age': 7, 'been2tko': 1, 'days': 7, 'budget': 40000, 'isFemale': 0, 'hotel budget': 2000}\n",
      "{'CP': 2.982954545, 'pre': 2.0, '交通1': '淺草站 - 走路 4 分鐘', '交通2': '東京晴空塔站 - 走路 20 分鐘', '交通3': '東京, 日本 (NRT-成田國際機場) - 車程 45 分鐘', '交通便利性': '4', '價格': 1408.0, '地址': '1-5-3, Asakusa, Taito-ku, 東京', '廚房': 0.0, '星等': 3.0, '經度': 139.79419, '網址': 'https://www.expedia.com.tw/Tokyo-Hotels-Asakusa-Central-Hotel.h16517781.Hotel-Information?chkin=2019%2F10%2F4&chkout=2019%2F10%2F5&regionId=179900&destination=%E6%9D%B1%E4%BA%AC+%28%E5%8F%8A%E9%84%B0%E8%BF%91%E5%9C%B0%E5%8D%80%29%2C+%E6%97%A5%E6%9C%AC&swpToggleOn=true&rm1=a1&x_pwa=1&sort=recommended&top_dp=1408&top_cur=TWD&rfrr=HSR&pwa_ts=1570019406618', '緯度': 35.71144, '評價': 4.2, '鄰近景點1': '淺草寺雷門 - 步行 7 分鐘', '鄰近景點2': '淺草神社 - 步行 7 分鐘', '鄰近景點3': '東京晴空塔 - 開車 2 分鐘', '鄰近景點4': '國立科學博物館 - 開車 3 分鐘', '鄰近景點5': '江戶東京博物館 - 開車 3 分鐘', '飯店名稱': '淺草中央飯店'}\n",
      "{'age': 7, 'been2tko': 1, 'days': 7, 'totalBudget': 40000, 'gender': 0, 'oneBudget': 200}\n",
      "[{'age': 34, 'cp_rating_dinner': 3.95, 'cp_rating_lunch': 3.9, 'feeling_rating_dinner': 3.98, 'feeling_rating_lunch': 4.46, 'female_prop': 23.66, 'label_code': 0, 'label_desc': '高消族', 'lat': 35.6764472, 'lng': 139.7358886, 'male_prop': 76.34, 'meal_duration': 1.0, 'prices_dinner': 7087, 'prices_lunch': 3543, 'rest_addr': '東京都港區赤坂3-21-10', 'rest_area': '赤坂', 'rest_catg': '壽司', 'rest_rating': 3.94, 'service_rating_dinner': 4.03, 'service_rating_lunch': 4.41, 'store_nm_en': 'Kizaki', 'store_nm_jp': 'きざ㐂', 'transport': '赤阪見附駅より徒歩3分\\n\\n\\n距离赤坂見附 123  米'}, {'age': 41, 'cp_rating_dinner': 3.69, 'cp_rating_lunch': 3.71, 'feeling_rating_dinner': 3.64, 'feeling_rating_lunch': 3.69, 'female_prop': 24.02, 'label_code': 1, 'label_desc': '平消族', 'lat': 35.6536896, 'lng': 139.7558524, 'male_prop': 75.98, 'meal_duration': 1.0, 'prices_dinner': 7087, 'prices_lunch': 1559, 'rest_addr': '東京都港區浜鬆町2-11-8', 'rest_area': '濱松町・芝公園', 'rest_catg': '壽司', 'rest_rating': 4.0, 'service_rating_dinner': 3.71, 'service_rating_lunch': 4.06, 'store_nm_en': 'Miyaba', 'store_nm_jp': 'すし処 宮葉', 'transport': '浜松町駅（金杉橋口）徒歩3分。\\n都営浅草線大門駅から徒歩5分。\\n\\n\\n距离濱松町 191  米'}, {'age': 39, 'cp_rating_dinner': 4.06, 'cp_rating_lunch': 4.28, 'feeling_rating_dinner': 4.17, 'feeling_rating_lunch': 4.17, 'female_prop': 24.16, 'label_code': 0, 'label_desc': '高消族', 'lat': 35.644589, 'lng': 139.7265049, 'male_prop': 75.84, 'meal_duration': 1.0, 'prices_dinner': 7087, 'prices_lunch': 3543, 'rest_addr': '東京都港區白金5-8-13', 'rest_area': '白金', 'rest_catg': '壽司', 'rest_rating': 4.28, 'service_rating_dinner': 4.14, 'service_rating_lunch': 4.25, 'store_nm_en': 'Imamura', 'store_nm_jp': '鮨 いまむら', 'transport': '白金高輪駅徒歩10分程度（北里大学病院へ向かって病院直前の右手）\\n\\n\\n距离白金高輪 722  米'}, {'age': 43, 'cp_rating_dinner': 3.36, 'cp_rating_lunch': 3.54, 'feeling_rating_dinner': 3.37, 'feeling_rating_lunch': 3.49, 'female_prop': 23.83, 'label_code': 1, 'label_desc': '平消族', 'lat': 35.6954922, 'lng': 139.7684364, 'male_prop': 76.17, 'meal_duration': 1.0, 'prices_dinner': 142, 'prices_lunch': 709, 'rest_addr': '東京都韆代田區神田須田町1-8-4', 'rest_area': '神田・御茶之水', 'rest_catg': '炸豬排/炸豬丼飯・炸豬排便當', 'rest_rating': 3.83, 'service_rating_dinner': 3.37, 'service_rating_lunch': 3.48, 'store_nm_en': 'Tonkatsuyamaichi', 'store_nm_jp': 'とんかつ やまいち', 'transport': '東京メトロ丸ノ内線【淡路町駅】徒歩１分（Ａ１地上口）\\n都営地下鉄新宿線【小川町駅】徒歩２分\\n東京メトロ銀座線【神田駅】徒歩４分\\nＪＲ中央線・山手線・京浜東北線【神田駅】徒歩７分\\n\\n\\n距离淡路町 103  米'}, {'age': 42, 'cp_rating_dinner': 3.64, 'cp_rating_lunch': 3.75, 'feeling_rating_dinner': 3.28, 'feeling_rating_lunch': 3.34, 'female_prop': 23.96, 'label_code': 1, 'label_desc': '平消族', 'lat': 35.5604869, 'lng': 139.7171267, 'male_prop': 76.04, 'meal_duration': 1.0, 'prices_dinner': 142, 'prices_lunch': 425, 'rest_addr': '東京都大田區蒲田5-43-7', 'rest_area': '蒲田', 'rest_catg': '咖哩飯/炸豬排/咖哩（其它）', 'rest_rating': 3.75, 'service_rating_dinner': 3.34, 'service_rating_lunch': 3.34, 'store_nm_en': 'Tonkatsuaokinokareyaippekoppe', 'store_nm_jp': 'とんかつ檍のカレー屋いっぺこっぺ', 'transport': 'ＪＲ京浜東北線「蒲田」駅東口より徒歩４分\\n東急多摩川線・池上線「蒲田」駅より徒歩７分\\n京急本線・空港線「京急蒲田」駅西口より徒歩10分\\n蒲田駅から244m\\n\\n\\n距离蒲田 241  米'}, {'age': 37, 'cp_rating_dinner': 3.9, 'cp_rating_lunch': 4.78, 'feeling_rating_dinner': 3.85, 'feeling_rating_lunch': 4.27, 'female_prop': 24.05, 'label_code': 0, 'label_desc': '高消族', 'lat': 35.6986017, 'lng': 139.7034726, 'male_prop': 75.95, 'meal_duration': 1.0, 'prices_dinner': 4961, 'prices_lunch': 2551, 'rest_addr': '東京都新宿區大久保1-12-3', 'rest_area': '新宿', 'rest_catg': '涮涮鍋/壽喜燒/牛肉料理', 'rest_rating': 4.02, 'service_rating_dinner': 3.91, 'service_rating_lunch': 3.85, 'store_nm_en': 'Toukyounikushabuya', 'store_nm_jp': '東京肉しゃぶ家', 'transport': 'JR新宿東口から徒歩10分\\nJR新大久保駅から徒歩8分\\n大江戸線東新宿から徒歩3分\\n西武新宿線西武新宿駅から徒歩4分\\n\\n\\n距离東新宿 375  米'}, {'age': 38, 'cp_rating_dinner': 3.33, 'cp_rating_lunch': 3.31, 'feeling_rating_dinner': 3.34, 'feeling_rating_lunch': 3.42, 'female_prop': 27.91, 'label_code': 2, 'label_desc': '低消族', 'lat': 35.6926678, 'lng': 139.7355234, 'male_prop': 72.09, 'meal_duration': 1.0, 'prices_dinner': 142, 'prices_lunch': 142, 'rest_addr': '東京都新宿區市穀田町1-3', 'rest_area': '市之谷', 'rest_catg': '拉麵/沾麵', 'rest_rating': 3.75, 'service_rating_dinner': 3.38, 'service_rating_lunch': 3.39, 'store_nm_en': 'Menyashouno', 'store_nm_jp': '麺や 庄の', 'transport': '東京メトロ有楽町線・南北線【市ケ谷駅】徒歩３分\\nＪＲ中央線【市ケ谷駅】徒歩４分\\n都営地下鉄新宿線【市ヶ谷駅】徒歩４分\\n\\n\\n距离市谷 245  米'}, {'age': 41, 'cp_rating_dinner': 3.68, 'cp_rating_lunch': 3.79, 'feeling_rating_dinner': 3.18, 'feeling_rating_lunch': 3.13, 'female_prop': 20.51, 'label_code': 1, 'label_desc': '平消族', 'lat': 35.6934758, 'lng': 139.7718826, 'male_prop': 79.49, 'meal_duration': 1.5, 'prices_dinner': 709, 'prices_lunch': 142, 'rest_addr': '東京都韆代田區鍛冶町2-11-20', 'rest_area': '神田・御茶之水', 'rest_catg': '中國菜/日式小酒館/拉麵', 'rest_rating': 3.75, 'service_rating_dinner': 3.17, 'service_rating_lunch': 3.32, 'store_nm_en': 'Ajibou', 'store_nm_jp': '味坊', 'transport': 'ＪＲ神田駅から徒歩３分\\n秋葉原駅から徒歩１０分\\n\\n\\n距离神田 178  米'}, {'age': 39, 'cp_rating_dinner': 3.51, 'cp_rating_lunch': 3.36, 'feeling_rating_dinner': 3.41, 'feeling_rating_lunch': 3.4, 'female_prop': 23.71, 'label_code': 1, 'label_desc': '平消族', 'lat': 35.7611213, 'lng': 139.7224477, 'male_prop': 76.29, 'meal_duration': 1.0, 'prices_dinner': 142, 'prices_lunch': 142, 'rest_addr': '東京都北區上十條1-13-2', 'rest_area': '十條', 'rest_catg': '拉麵/沾麵/油麵', 'rest_rating': 3.81, 'service_rating_dinner': 3.44, 'service_rating_lunch': 3.44, 'store_nm_en': 'niboshisobaru', 'store_nm_jp': '煮干そば 流。', 'transport': 'JR埼京線「十条」駅(南口)から徒歩1分\\n\\n\\n距离十條 85  米'}, {'age': 36, 'cp_rating_dinner': 4.18, 'cp_rating_lunch': 4.22, 'feeling_rating_dinner': 4.29, 'feeling_rating_lunch': 5.0, 'female_prop': 24.16, 'label_code': 0, 'label_desc': '高消族', 'lat': 35.6740805, 'lng': 139.7685971, 'male_prop': 75.84, 'meal_duration': 1.0, 'prices_dinner': 7087, 'prices_lunch': 425, 'rest_addr': '東京都中央區銀座1-8-7', 'rest_area': '銀座', 'rest_catg': '牛排/法式/鐵板燒', 'rest_rating': 4.3, 'service_rating_dinner': 4.26, 'service_rating_lunch': 5.0, 'store_nm_en': 'koubegyuurokamasute-kiginzakokoro', 'store_nm_jp': '神戸牛炉釜ステーキ GINZA KOKO炉', 'transport': '銀座一丁目駅から徒歩1分\\n京橋駅から徒歩3分\\n銀座駅から徒歩4分\\n\\n\\n距离銀座一丁目 129  米'}, {'age': 45, 'cp_rating_dinner': 4.26, 'cp_rating_lunch': 4.05, 'feeling_rating_dinner': 3.85, 'feeling_rating_lunch': 3.72, 'female_prop': 24.33, 'label_code': 1, 'label_desc': '平消族', 'lat': 35.7458335, 'lng': 139.8054129, 'male_prop': 75.67, 'meal_duration': 1.0, 'prices_dinner': 142, 'prices_lunch': 709, 'rest_addr': '東京都足立區韆住東2-2-1', 'rest_area': '北千住', 'rest_catg': '豆腐料理・油豆腐料理/懷石 / 會席料理', 'rest_rating': 3.76, 'service_rating_dinner': 3.9, 'service_rating_lunch': 3.82, 'store_nm_en': 'Uzukino', 'store_nm_jp': '宇豆基野 本店', 'transport': '北千住駅から徒歩7分\\n\\n\\n距离北千住 384  米'}, {'age': 39, 'cp_rating_dinner': 3.2, 'cp_rating_lunch': 3.11, 'feeling_rating_dinner': 3.35, 'feeling_rating_lunch': 3.41, 'female_prop': 23.44, 'label_code': 1, 'label_desc': '平消族', 'lat': 35.6943336, 'lng': 139.7842619, 'male_prop': 76.56, 'meal_duration': 1.0, 'prices_dinner': 709, 'prices_lunch': 142, 'rest_addr': '東京都中央區日本橋馬喰町1-12-1', 'rest_area': '人形町・小傳馬町', 'rest_catg': '印度咖哩/印度料理/日式小酒館', 'rest_rating': 3.76, 'service_rating_dinner': 3.27, 'service_rating_lunch': 3.16, 'store_nm_en': 'DAKSHIN', 'store_nm_jp': '南インド料理ダクシン 東日本橋店', 'transport': 'JR総武線  馬喰町駅 ５番出口 徒歩約１分（５番出口左、また左）     \\n都営新宿線 馬喰横山駅 A１番出口  徒歩約２分  \\n都営浅草線   東日本橋駅 A１番出口 徒歩約２分 \\nJR総武線 浅草橋駅 東口 徒歩約４分  \\n都営浅草線 浅草橋駅 A２番出口  徒歩約４分  \\n東京メトロ日比谷線 小伝馬町駅 １番出口  徒歩約５分 \\n\\n\\n距离馬食町 180  米'}, {'age': 48, 'cp_rating_dinner': 3.63, 'cp_rating_lunch': 4.45, 'feeling_rating_dinner': 3.72, 'feeling_rating_lunch': 4.31, 'female_prop': 23.75, 'label_code': 1, 'label_desc': '平消族', 'lat': 35.7080318, 'lng': 139.8042031, 'male_prop': 76.25, 'meal_duration': 1.5, 'prices_dinner': 3543, 'prices_lunch': 425, 'rest_addr': '東京都墨田區東駒形3-20-6', 'rest_area': '淺草', 'rest_catg': '和式餐馆 / 小菜/日式小酒館/蕎麥麵', 'rest_rating': 3.87, 'service_rating_dinner': 3.53, 'service_rating_lunch': 4.59, 'store_nm_en': 'Yamasuke', 'store_nm_jp': '山介', 'transport': '都営浅草線本所吾妻橋駅の A０出口\\n（EV出口） を出てすぐ横なので帰りが楽です。\\n銀座線浅草駅4番出口  徒歩7分程度\\n東武線とうきょうスカイツリー駅1番出口  徒歩7分程度\\n半蔵門線押上駅  徒歩約10分\\n\\n\\n距离本所吾妻橋 66  米'}, {'age': 39, 'cp_rating_dinner': 3.96, 'cp_rating_lunch': 4.0, 'feeling_rating_dinner': 3.35, 'feeling_rating_lunch': 3.27, 'female_prop': 23.48, 'label_code': 1, 'label_desc': '平消族', 'lat': 35.6854123, 'lng': 139.7753649, 'male_prop': 76.52, 'meal_duration': 1.5, 'prices_dinner': 142, 'prices_lunch': 142, 'rest_addr': '東京都中央區日本橋室町1-11-15', 'rest_area': '日本橋・京橋', 'rest_catg': '炸蝦丼飯・炸蝦便當/便當/星鰻', 'rest_rating': 3.77, 'service_rating_dinner': 3.39, 'service_rating_lunch': 3.28, 'store_nm_en': 'nihombashitendonkanekohannosuke', 'store_nm_jp': '日本橋 天丼 金子半之助 本店', 'transport': '東京メトロ半蔵門線・銀座線「三越前」駅(A1出口)から徒歩1分\\n東京メトロ東西線「日本橋」駅から徒歩4分\\nJR総武本線「新日本橋」駅から徒歩5分\\n\\n\\n距离三越前 157  米'}]\n"
     ]
    },
    {
     "name": "stdout",
     "output_type": "stream",
     "text": [
      "=====================\n",
      " 第1天行程：\n",
      "雷門 Nakamise Shopping Street (Kaminarimon)約0.6 公里，景點間通勤約需4 分鐘。\n",
      "---------------\n",
      "淺草文化觀光中心 Asakusa Culture Tourist Information Center約61 公尺，景點間通勤約需1 分鐘。\n",
      "---------------\n",
      "淺草 Asakusa約2.0 公里，景點間通勤約需8 分鐘。\n",
      "---------------\n",
      "\n",
      "地圖連結：https://45a28610.ngrok.io/images/day1-U374824a0557f0767db8c194dae6c6002-1574398136100map.html\n",
      "===============\n",
      "第2天行程：\n",
      "東京迪士尼樂園 Tokyo Disneyland約18.0 公里，景點間通勤約需27 分鐘。\n",
      "---------------\n",
      "\n",
      "地圖連結：https://45a28610.ngrok.io/images/day2-U374824a0557f0767db8c194dae6c6002-1574398136100map.html\n",
      "===============\n",
      "第3天行程：\n",
      "高島屋時代廣場 Takashimaya Times Square約16.1 公里，景點間通勤約需31 分鐘。\n",
      "---------------\n",
      "西武池袋總店 SEIBU IKEBUKURO Honten約4.9 公里，景點間通勤約需16 分鐘。\n",
      "---------------\n",
      "貨幣博物館 Bank of Japan Currency Museum約9.0 公里，景點間通勤約需16 分鐘。\n",
      "---------------\n",
      "\n",
      "地圖連結：https://45a28610.ngrok.io/images/day3-U374824a0557f0767db8c194dae6c6002-1574398136100map.html\n",
      "===============\n",
      "第4天行程：\n",
      "上野東照宮 Toshogu Shrine約2.9 公里，景點間通勤約需11 分鐘。\n",
      "---------------\n",
      "東京國立博物館 Tokyo National Museum約1.3 公里，景點間通勤約需5 分鐘。\n",
      "---------------\n",
      "東京都美術館 Tokyo Metropolitan Art Museum約1.9 公里，景點間通勤約需7 分鐘。\n",
      "---------------\n",
      "\n",
      "地圖連結：https://45a28610.ngrok.io/images/day4-U374824a0557f0767db8c194dae6c6002-1574398136100map.html\n",
      "===============\n",
      "第5天行程：\n",
      "三得利美術館 Suntory Museum of Art約12.8 公里，景點間通勤約需23 分鐘。\n",
      "---------------\n",
      "大江戶古董市場 - 東京國際論壇 Oedo Antique Market - Tokyo International Forum約4.4 公里，景點間通勤約需14 分鐘。\n",
      "---------------\n",
      "墨田水族館 Sumida Aquarium約10.0 公里，景點間通勤約需16 分鐘。\n",
      "---------------\n",
      "\n",
      "地圖連結：https://45a28610.ngrok.io/images/day5-U374824a0557f0767db8c194dae6c6002-1574398136100map.html\n",
      "===============\n",
      "第6天行程：\n",
      "上野恩賜公園 Ueno Park約3.1 公里，景點間通勤約需12 分鐘。\n",
      "---------------\n",
      " Masakado Kubizuka約4.2 公里，景點間通勤約需15 分鐘。\n",
      "---------------\n",
      "日本國立國會圖書館 National Diet Library約3.0 公里，景點間通勤約需9 分鐘。\n",
      "---------------\n",
      "\n",
      "地圖連結：https://45a28610.ngrok.io/images/day6-U374824a0557f0767db8c194dae6c6002-1574398136100map.html\n",
      "===============\n",
      "第7天行程：\n",
      "水元公園 Mizumoto Park約14.9 公里，景點間通勤約需31 分鐘。\n",
      "---------------\n",
      "東京海賊王塔 TOKYO ONE PIECE TOWER約25.8 公里，景點間通勤約需40 分鐘。\n",
      "---------------\n",
      "東京都現代美術館 Museum of Contemporary Art Tokyo約9.3 公里，景點間通勤約需18 分鐘。\n",
      "---------------\n",
      "\n",
      "地圖連結：https://45a28610.ngrok.io/images/day7-U374824a0557f0767db8c194dae6c6002-1574398136100map.html\n",
      "===============\n",
      " \n",
      "=======================\n",
      "type ==> <class 'linebot.exceptions.LineBotApiError'>\n",
      "value ==> LineBotApiError: status_code=400, error_response={\"details\": [{\"message\": \"Length must be between 0 and 2000\", \"property\": \"messages[1].text\"}], \"message\": \"The request body has 1 error(s)\"}\n",
      "traceback ==> file name: <ipython-input-25-a23c8ff16dbb>\n",
      "traceback ==> line no: 156\n",
      "traceback ==> function name: handle_message\n",
      "::tripStart:\n",
      "Erving,U374824a0557f0767db8c194dae6c6002\n",
      "{\"data\": \"tripStart\"}\n",
      "1574398136491,2019-11-22 04:48:56.491000\n",
      "{'age': 7, 'been2tko': 1, 'days': 7, 'budget': 40000, 'isFemale': 0, 'fbudget': 12000, 'dDate': '2020-03-31', 'rDate': '2020-04-07'}\n",
      "{'airline': 'Tigerair Taiwan', 'date_format(eta,\"%a\")': 'Tue', 'date_format(etd,\"%a\")': 'Tue', 'date_format(tuEta,\"%a\")': 'Tue', 'date_format(tuEtd,\"%a\")': 'Tue', 'price': 8067, 'time_format(eta,\"%T\")': '10:35:00', 'time_format(etd,\"%T\")': '06:35:00', 'time_format(sec_to_time(dur),\"%T\")': '03:00:00', 'time_format(sec_to_time(tuDur),\"%T\")': '03:55:00', 'time_format(tuEta,\"%T\")': '07:55:00', 'time_format(tuEtd,\"%T\")': '05:00:00'}\n",
      "bk by tue\n",
      "{'age': 7, 'been2tko': 1, 'howlong': 7, 'budget': 40000, 'isFemale': 0, 'with_child': 0, 'crampedSechedule': False}\n",
      "['[{\"index\":205,\"name\":\"靖國神社御靈祭 Mitama Matsuri\",\"rank\":\"排名第 57的千代田區觀光 (共446家)\",\"address\":\"東京都千代田區3-1-1 Kudan Kita102-8246\",\"child\":0.0,\"latitude\":35.694136,\"longitude\":139.743849,\"score\":70,\"chosen\":true},{\"index\":155,\"name\":\"日本橋三越百貨 本店 Nihonbashi Mitsukoshi Honten\",\"rank\":\"排名第 12的中央區觀光 (共577家)\",\"address\":\"東京都中央區日本橋室町1-4-1103-0022\",\"child\":0.0,\"latitude\":35.685678,\"longitude\":139.7731952,\"score\":84,\"chosen\":true},{\"index\":179,\"name\":\"東鄉神社 Togo Shrine\",\"rank\":\"排名第 18的澀谷區觀光 (共279家)\",\"address\":\"東京都澀谷區神宮前1-5-3150-0001\",\"child\":0.0178339272,\"latitude\":35.6713961,\"longitude\":139.7061356,\"score\":114,\"chosen\":true}]', '[{\"index\":59,\"name\":\"惠比壽啤酒紀念館 Museum of Yebisu Beer\",\"rank\":\"排名第 12的澀谷區觀光 (共279家)\",\"address\":\"東京都澀谷區惠比壽4-20-1\",\"child\":0.0,\"latitude\":35.643115,\"longitude\":139.7145631,\"score\":70,\"chosen\":true},{\"index\":2,\"name\":\"淺草 Asakusa\",\"rank\":\"排名第 1的台東區觀光 (共560家)\",\"address\":\"東京都台東區\",\"child\":0.0087715012,\"latitude\":35.7125736,\"longitude\":139.7802043,\"score\":241,\"chosen\":true},{\"index\":252,\"name\":\" Futakotamagawa Park\",\"rank\":\"排名第 11的世田谷區觀光 (共235家)\",\"address\":\"東京都世田谷區1-16-1 Tamagawa158-0094\",\"child\":0.5594343666,\"latitude\":35.6398061,\"longitude\":139.671488,\"score\":114,\"chosen\":true}]', '[{\"index\":45,\"name\":\"東京都庭園美術館 Tokyo Metropolitan Teien Art Museum\",\"rank\":\"排名第 9的港區觀光 (共626家)\",\"address\":\"東京都港區白金台5-21-9108-0071\",\"child\":0.0,\"latitude\":35.6381742,\"longitude\":139.7198607,\"score\":70,\"chosen\":true},{\"index\":96,\"name\":\"水元公園 Mizumoto Park\",\"rank\":\"排名第 1的葛飾區觀光 (共139家)\",\"address\":\"東京都葛飾區水元公園125-0034\",\"child\":0.0,\"latitude\":35.787198,\"longitude\":139.8698408,\"score\":114,\"chosen\":true},{\"index\":94,\"name\":\"歌舞妓町 Kabukicho\",\"rank\":\"排名第 2的Kabukicho觀光 (共10家)\",\"address\":\"東京都新宿區Kabukicho\",\"child\":0.0250984401,\"latitude\":35.6960834,\"longitude\":139.7026251,\"score\":114,\"chosen\":true}]', '[{\"index\":42,\"name\":\"東京海賊王塔 TOKYO ONE PIECE TOWER\",\"rank\":\"排名第 16的港區觀光 (共626家)\",\"address\":\"東京都港區4-2-8 ShibakoenTokyo Tower Foot Town105-0011\",\"child\":0.2333411224,\"latitude\":35.658595,\"longitude\":139.745442,\"score\":70,\"chosen\":true},{\"index\":127,\"name\":\"日本武道館 Nippon Budokan\",\"rank\":\"排名第 25的千代田區觀光 (共446家)\",\"address\":\"東京都千代田區北之丸公園2-3102-0091\",\"child\":0.0,\"latitude\":35.6919267,\"longitude\":139.7505761,\"score\":114,\"chosen\":true},{\"index\":152,\"name\":\"皇居外苑 Kokyo Gaien National Garden\",\"rank\":\"排名第 13的千代田區觀光 (共446家)\",\"address\":\"東京都千代田區皇居外苑3-1100-0002\",\"child\":0.0,\"latitude\":35.6834249,\"longitude\":139.7604161,\"score\":114,\"chosen\":true}]', '[{\"index\":124,\"name\":\"貨幣博物館 Bank of Japan Currency Museum\",\"rank\":\"排名第 11的中央區觀光 (共577家)\",\"address\":\"東京都中央區日本橋本石町1-3-1103-0021\",\"child\":0.170981757,\"latitude\":35.6852515,\"longitude\":139.7725791,\"score\":70,\"chosen\":true},{\"index\":222,\"name\":\" Hanegi Park\",\"rank\":\"排名第 14的世田谷區觀光 (共235家)\",\"address\":\"東京都世田谷區4-38-52 Daita155-0033\",\"child\":0.0877868677,\"latitude\":35.6588341,\"longitude\":139.6561396,\"score\":114,\"chosen\":true},{\"index\":29,\"name\":\"表參道 Omotesando\",\"rank\":\"排名第 2的Jingumae觀光 (共24家)\",\"address\":\"東京都澀谷區Jingumae150-0001\",\"child\":0.0207001871,\"latitude\":35.6619707,\"longitude\":139.703795,\"score\":114,\"chosen\":true}]']\n",
      "{'age': 7, 'been2tko': 1, 'days': 7, 'budget': 40000, 'isFemale': 0, 'hotel budget': 2000}\n",
      "{'CP': 2.982954545, 'pre': 2.0, '交通1': '淺草站 - 走路 4 分鐘', '交通2': '東京晴空塔站 - 走路 20 分鐘', '交通3': '東京, 日本 (NRT-成田國際機場) - 車程 45 分鐘', '交通便利性': '4', '價格': 1408.0, '地址': '1-5-3, Asakusa, Taito-ku, 東京', '廚房': 0.0, '星等': 3.0, '經度': 139.79419, '網址': 'https://www.expedia.com.tw/Tokyo-Hotels-Asakusa-Central-Hotel.h16517781.Hotel-Information?chkin=2019%2F10%2F4&chkout=2019%2F10%2F5&regionId=179900&destination=%E6%9D%B1%E4%BA%AC+%28%E5%8F%8A%E9%84%B0%E8%BF%91%E5%9C%B0%E5%8D%80%29%2C+%E6%97%A5%E6%9C%AC&swpToggleOn=true&rm1=a1&x_pwa=1&sort=recommended&top_dp=1408&top_cur=TWD&rfrr=HSR&pwa_ts=1570019406618', '緯度': 35.71144, '評價': 4.2, '鄰近景點1': '淺草寺雷門 - 步行 7 分鐘', '鄰近景點2': '淺草神社 - 步行 7 分鐘', '鄰近景點3': '東京晴空塔 - 開車 2 分鐘', '鄰近景點4': '國立科學博物館 - 開車 3 分鐘', '鄰近景點5': '江戶東京博物館 - 開車 3 分鐘', '飯店名稱': '淺草中央飯店'}\n",
      "{'age': 7, 'been2tko': 1, 'days': 7, 'totalBudget': 40000, 'gender': 0, 'oneBudget': 200}\n",
      "[{'age': 35, 'cp_rating_dinner': 4.1, 'cp_rating_lunch': 4.35, 'feeling_rating_dinner': 4.05, 'feeling_rating_lunch': 4.49, 'female_prop': 24.11, 'label_code': 0, 'label_desc': '高消族', 'lat': 35.6648568, 'lng': 139.7323448, 'male_prop': 75.89, 'meal_duration': 1.0, 'prices_dinner': 7087, 'prices_lunch': 425, 'rest_addr': '東京都港區六本木4-5-11', 'rest_area': '六本木・乃木坂・西麻布', 'rest_catg': '壽司', 'rest_rating': 4.08, 'service_rating_dinner': 4.17, 'service_rating_lunch': 4.69, 'store_nm_en': 'Yu', 'store_nm_jp': '鮨 由う', 'transport': '日比谷線\\u3000六本木駅 4a出口から徒歩4分\\n大江戸線\\u3000六本木駅 6番出口から徒歩3分 \\n千代田線\\u3000乃木坂駅 3番出口から徒歩8分 \\n◇六本木交差点からミッドタウンに向かい進行方向右手側の【小諸そば】を右折し直進1つ目の十字路を過ぎると左正面に【听屋（POUND‐YA） 六本木】がございますのでそこを左折し5ⅿ程で右手側に当店がございます。\\n\\n\\n距离六本木 247  米'}, {'age': 44, 'cp_rating_dinner': 4.0, 'cp_rating_lunch': 4.4, 'feeling_rating_dinner': 3.97, 'feeling_rating_lunch': 4.34, 'female_prop': 23.9, 'label_code': 1, 'label_desc': '平消族', 'lat': 35.7195038, 'lng': 139.7960275, 'male_prop': 76.1, 'meal_duration': 1.0, 'prices_dinner': 2551, 'prices_lunch': 1276, 'rest_addr': '東京都檯東區淺草4-37-8', 'rest_area': '淺草', 'rest_catg': '蕎麥麵/和式餐馆 / 小菜/壽司', 'rest_rating': 3.85, 'service_rating_dinner': 4.15, 'service_rating_lunch': 4.54, 'store_nm_en': 'Asakusajuuroku', 'store_nm_jp': '浅草じゅうろく', 'transport': 'つくばエクスプレス浅草駅から徒歩約8分。\\n\\n\\n距离淺草 684  米'}, {'age': 37, 'cp_rating_dinner': 4.11, 'cp_rating_lunch': 4.09, 'feeling_rating_dinner': 3.9, 'feeling_rating_lunch': 4.01, 'female_prop': 23.89, 'label_code': 1, 'label_desc': '平消族', 'lat': 35.661919, 'lng': 139.7540415, 'male_prop': 76.11, 'meal_duration': 1.0, 'prices_dinner': 4961, 'prices_lunch': 425, 'rest_addr': '東京都港區新橋6-13-3', 'rest_area': '濱松町・芝公園', 'rest_catg': '壽司', 'rest_rating': 3.97, 'service_rating_dinner': 3.77, 'service_rating_lunch': 4.03, 'store_nm_en': 'Tomidokoro', 'store_nm_jp': '冨所', 'transport': '距离御成門 290  米'}, {'age': 43, 'cp_rating_dinner': 3.24, 'cp_rating_lunch': 3.35, 'feeling_rating_dinner': 3.67, 'feeling_rating_lunch': 3.82, 'female_prop': 23.28, 'label_code': 1, 'label_desc': '平消族', 'lat': 35.6812097, 'lng': 139.7747558, 'male_prop': 76.72, 'meal_duration': 1.0, 'prices_dinner': 1984, 'prices_lunch': 425, 'rest_addr': '東京都中央區日本橋2-9-9', 'rest_area': '日本橋・京橋', 'rest_catg': '魚類料理・海鮮料理/星鰻/天婦羅', 'rest_rating': 3.77, 'service_rating_dinner': 3.39, 'service_rating_lunch': 3.56, 'store_nm_en': 'Tamai', 'store_nm_jp': '玉ゐ 本店', 'transport': 'ＪＲ東京駅八重洲口から高島屋デパート方面へ徒歩8分。東京メトロ銀座線・東西線、都営浅草線日本橋駅から徒歩3分。\\n\\n\\n距离日本橋 106  米'}, {'age': 41, 'cp_rating_dinner': 3.71, 'cp_rating_lunch': 3.78, 'feeling_rating_dinner': 3.84, 'feeling_rating_lunch': 3.95, 'female_prop': 24.16, 'label_code': 0, 'label_desc': '高消族', 'lat': 35.6764568, 'lng': 139.770446, 'male_prop': 75.84, 'meal_duration': 1.0, 'prices_dinner': 7087, 'prices_lunch': 3543, 'rest_addr': '東京都中央區京橋2-5-2', 'rest_area': '日本橋・京橋', 'rest_catg': '天婦羅', 'rest_rating': 4.31, 'service_rating_dinner': 3.84, 'service_rating_lunch': 3.99, 'store_nm_en': 'Fukamachi', 'store_nm_jp': 'てんぷら 深町', 'transport': '東京メトロ銀座線 京橋駅 徒歩1分 \\n\\n\\n距离京橋 44  米'}, {'age': 42, 'cp_rating_dinner': 3.56, 'cp_rating_lunch': 2.9, 'feeling_rating_dinner': 4.02, 'feeling_rating_lunch': 4.6, 'female_prop': 23.79, 'label_code': 1, 'label_desc': '平消族', 'lat': 35.6857974, 'lng': 139.7830806, 'male_prop': 76.21, 'meal_duration': 1.0, 'prices_dinner': 4961, 'prices_lunch': 3543, 'rest_addr': '東京都中央區日本橋人形町2-5-1', 'rest_area': '人形町・小傳馬町', 'rest_catg': '壽喜燒/和式餐馆 / 小菜', 'rest_rating': 3.82, 'service_rating_dinner': 3.88, 'service_rating_lunch': 4.4, 'store_nm_en': 'sukiyakikappouhiyama', 'store_nm_jp': 'すき焼割烹 日山', 'transport': '東京メトロ日比谷線・都営浅草線「人形町」駅より徒歩2分。\\n東京メトロ半蔵門線「水天宮」駅より徒歩5分\\n都営新宿線「浜町」駅より徒歩7分\\n\\n\\n距离人形町 66  米'}, {'age': 42, 'cp_rating_dinner': 3.55, 'cp_rating_lunch': 4.0, 'feeling_rating_dinner': 3.65, 'feeling_rating_lunch': 3.59, 'female_prop': 23.84, 'label_code': 1, 'label_desc': '平消族', 'lat': 35.7073817, 'lng': 139.6183183, 'male_prop': 76.16, 'meal_duration': 1.0, 'prices_dinner': 142, 'prices_lunch': 142, 'rest_addr': '東京都杉並區天沼3-10-16-102', 'rest_area': '荻窪', 'rest_catg': '拉麵/沾麵', 'rest_rating': 3.83, 'service_rating_dinner': 3.73, 'service_rating_lunch': 3.5, 'store_nm_en': 'Uchoku', 'store_nm_jp': '迂直', 'transport': '荻窪駅北口から徒歩5分\\n\\n\\n距离荻窪 351  米'}, {'age': 42, 'cp_rating_dinner': 3.3, 'cp_rating_lunch': 3.32, 'feeling_rating_dinner': 3.25, 'feeling_rating_lunch': 3.36, 'female_prop': 23.56, 'label_code': 1, 'label_desc': '平消族', 'lat': 35.6870985, 'lng': 139.764569, 'male_prop': 76.44, 'meal_duration': 1.0, 'prices_dinner': 425, 'prices_lunch': 142, 'rest_addr': '東京都韆代田區汍の內1-9-1', 'rest_area': '丸之內・大手町', 'rest_catg': '沾麵/拉麵', 'rest_rating': 3.79, 'service_rating_dinner': 3.36, 'service_rating_lunch': 3.36, 'store_nm_en': 'Rokurinsha', 'store_nm_jp': '六厘舎', 'transport': 'JR各線「東京」駅の八重洲口B1F\\n在来線、東海道新幹線 八重洲中央南口改札を出て、すぐ右へ。階段下りてすぐ 。\\nもしくは、八重洲地下中央改札出て右へ。突き当たり手前左側。\\n\\n\\n距离東京 130  米'}, {'age': 41, 'cp_rating_dinner': 3.53, 'cp_rating_lunch': 3.81, 'feeling_rating_dinner': 3.5, 'feeling_rating_lunch': 3.68, 'female_prop': 23.73, 'label_code': 1, 'label_desc': '平消族', 'lat': 35.6097218, 'lng': 139.7115384, 'male_prop': 76.27, 'meal_duration': 1.0, 'prices_dinner': 142, 'prices_lunch': 142, 'rest_addr': '東京都品川區中延2-15-10', 'rest_area': '戸越・中延・旗之台周邊', 'rest_catg': '拉麵/沾麵', 'rest_rating': 3.91, 'service_rating_dinner': 3.6, 'service_rating_lunch': 3.83, 'store_nm_en': 'Tyukasobatagano', 'store_nm_jp': '中華そば 多賀野', 'transport': '・東急池上線「荏原中延」駅から徒歩1分\\n・都営地下鉄浅草線「中延」駅(A3出口)から徒歩9分\\n・東急大井町線「戸越公園」駅(南口)から徒歩8分\\n\\n\\n距离荏原中延 37  米'}, {'age': 36, 'cp_rating_dinner': 3.55, 'cp_rating_lunch': 3.62, 'feeling_rating_dinner': 3.88, 'feeling_rating_lunch': 3.3, 'female_prop': 23.53, 'label_code': 1, 'label_desc': '平消族', 'lat': 35.6583941, 'lng': 139.723053, 'male_prop': 76.47, 'meal_duration': 1.0, 'prices_dinner': 3543, 'prices_lunch': 425, 'rest_addr': '東京都港區西痲佈2-24-14', 'rest_area': '六本木・乃木坂・西麻布', 'rest_catg': '燒肉/牛舌/牛排', 'rest_rating': 3.79, 'service_rating_dinner': 3.87, 'service_rating_lunch': 3.29, 'store_nm_en': 'Ushigoro Nishiazabu', 'store_nm_jp': '焼肉 うしごろ 西麻布本店', 'transport': '都営大江戸線 六本木駅2番出口より徒歩8分\\n東京メトロ 日比谷線六本木駅2番出口より徒歩8分\\n東京メトロ 日比谷線広尾駅3番出口より徒歩8分\\n東京メトロ 千代田線乃木坂駅5番出口より徒歩6分\\n\\n\\n距离乃木坂 803  米'}, {'age': 33, 'cp_rating_dinner': 4.02, 'cp_rating_lunch': 4.76, 'feeling_rating_dinner': 4.24, 'feeling_rating_lunch': 4.76, 'female_prop': 24.16, 'label_code': 0, 'label_desc': '高消族', 'lat': 35.6693111, 'lng': 139.7620223, 'male_prop': 75.84, 'meal_duration': 1.0, 'prices_dinner': 4961, 'prices_lunch': 425, 'rest_addr': '東京都中央區銀座7-7-7', 'rest_area': '銀座', 'rest_catg': '燒肉/牛排/和式餐馆 / 小菜', 'rest_rating': 4.26, 'service_rating_dinner': 4.41, 'service_rating_lunch': 4.76, 'store_nm_en': 'USHIGORO S', 'store_nm_jp': 'USHIGORO S. GINZA', 'transport': '東京メトロ 銀座線、日比谷線、丸ノ内線\\n銀座駅 B3番出口より徒歩3分 / A1番出口より徒歩5分\\n東京メトロ 日比谷線、浅草線\\n東銀座駅 A1番出口より徒歩7分\\nJR有楽町駅 中央口より徒歩7分\\nJR新橋駅 銀座口より徒歩8分\\n\\n\\n距离銀座 345  米'}, {'age': 35, 'cp_rating_dinner': 3.29, 'cp_rating_lunch': 3.31, 'feeling_rating_dinner': 3.8, 'feeling_rating_lunch': 4.24, 'female_prop': 23.85, 'label_code': 1, 'label_desc': '平消族', 'lat': 35.6286527, 'lng': 139.6490352, 'male_prop': 76.15, 'meal_duration': 1.0, 'prices_dinner': 142, 'prices_lunch': 425, 'rest_addr': '東京都世田穀區新町2-6-14', 'rest_area': '駒澤大學～用賀', 'rest_catg': '印度咖哩/印度料理', 'rest_rating': 3.83, 'service_rating_dinner': 3.74, 'service_rating_lunch': 4.04, 'store_nm_en': 'Sunanomisaki', 'store_nm_jp': '砂の岬', 'transport': '東急田園都市線桜新町駅\\n\\n\\n距离櫻新町 498  米'}, {'age': 44, 'cp_rating_dinner': 3.24, 'cp_rating_lunch': 3.24, 'feeling_rating_dinner': 3.98, 'feeling_rating_lunch': 4.32, 'female_prop': 24.39, 'label_code': 1, 'label_desc': '平消族', 'lat': 35.6995577, 'lng': 139.4108183, 'male_prop': 75.61, 'meal_duration': 1.0, 'prices_dinner': 1984, 'prices_lunch': 709, 'rest_addr': '東京都立川市曙町1-28-5', 'rest_area': '立川', 'rest_catg': '蕎麥麵/懷石 / 會席料理', 'rest_rating': 3.76, 'service_rating_dinner': 3.67, 'service_rating_lunch': 3.7, 'store_nm_en': 'Muan', 'store_nm_jp': '蕎麦懐石 無庵', 'transport': 'ＪＲ中央線、青梅線、南武線「立川駅」北口から徒歩６分。\\nまたは、多摩モノレール「立川北駅」北口から徒歩３分。\\n\\n\\n距离立川北 154  米'}, {'age': 39, 'cp_rating_dinner': 3.96, 'cp_rating_lunch': 4.0, 'feeling_rating_dinner': 3.35, 'feeling_rating_lunch': 3.27, 'female_prop': 23.48, 'label_code': 1, 'label_desc': '平消族', 'lat': 35.6854123, 'lng': 139.7753649, 'male_prop': 76.52, 'meal_duration': 1.5, 'prices_dinner': 142, 'prices_lunch': 142, 'rest_addr': '東京都中央區日本橋室町1-11-15', 'rest_area': '日本橋・京橋', 'rest_catg': '炸蝦丼飯・炸蝦便當/便當/星鰻', 'rest_rating': 3.77, 'service_rating_dinner': 3.39, 'service_rating_lunch': 3.28, 'store_nm_en': 'nihombashitendonkanekohannosuke', 'store_nm_jp': '日本橋 天丼 金子半之助 本店', 'transport': '東京メトロ半蔵門線・銀座線「三越前」駅(A1出口)から徒歩1分\\n東京メトロ東西線「日本橋」駅から徒歩4分\\nJR総武本線「新日本橋」駅から徒歩5分\\n\\n\\n距离三越前 157  米'}]\n"
     ]
    },
    {
     "name": "stdout",
     "output_type": "stream",
     "text": [
      "=====================\n",
      " 第1天行程：\n",
      "日本橋三越百貨 本店 Nihonbashi Mitsukoshi Honten約6.8 公里，景點間通勤約需15 分鐘。\n",
      "---------------\n",
      "靖國神社御靈祭 Mitama Matsuri約4.8 公里，景點間通勤約需11 分鐘。\n",
      "---------------\n",
      "東鄉神社 Togo Shrine約5.6 公里，景點間通勤約需17 分鐘。\n",
      "---------------\n",
      "\n",
      "地圖連結：https://45a28610.ngrok.io/images/day1-U374824a0557f0767db8c194dae6c6002-1574398136490map.html\n",
      "===============\n",
      "第2天行程：\n",
      "淺草 Asakusa約1.8 公里，景點間通勤約需7 分鐘。\n",
      "---------------\n",
      "惠比壽啤酒紀念館 Museum of Yebisu Beer約13.2 公里，景點間通勤約需20 分鐘。\n",
      "---------------\n",
      " Futakotamagawa Park約5.5 公里，景點間通勤約需17 分鐘。\n",
      "---------------\n",
      "\n",
      "地圖連結：https://45a28610.ngrok.io/images/day2-U374824a0557f0767db8c194dae6c6002-1574398136490map.html\n",
      "===============\n",
      "第3天行程：\n",
      "水元公園 Mizumoto Park約14.9 公里，景點間通勤約需31 分鐘。\n",
      "---------------\n",
      "歌舞妓町 Kabukicho約28.6 公里，景點間通勤約需46 分鐘。\n",
      "---------------\n",
      "東京都庭園美術館 Tokyo Metropolitan Teien Art Museum約9.0 公里，景點間通勤約需27 分鐘。\n",
      "---------------\n",
      "\n",
      "地圖連結：https://45a28610.ngrok.io/images/day3-U374824a0557f0767db8c194dae6c6002-1574398136490map.html\n",
      "===============\n",
      "第4天行程：\n",
      "日本武道館 Nippon Budokan約9.0 公里，景點間通勤約需17 分鐘。\n",
      "---------------\n",
      "皇居外苑 Kokyo Gaien National Garden約1.8 公里，景點間通勤約需6 分鐘。\n",
      "---------------\n",
      "東京海賊王塔 TOKYO ONE PIECE TOWER約3.5 公里，景點間通勤約需11 分鐘。\n",
      "---------------\n",
      "\n",
      "地圖連結：https://45a28610.ngrok.io/images/day4-U374824a0557f0767db8c194dae6c6002-1574398136490map.html\n",
      "===============\n",
      "第5天行程：\n",
      " Hanegi Park約20.6 公里，景點間通勤約需33 分鐘。\n",
      "---------------\n",
      "表參道 Omotesando約6.5 公里，景點間通勤約需21 分鐘。\n",
      "---------------\n",
      "貨幣博物館 Bank of Japan Currency Museum約10.7 公里，景點間通勤約需19 分鐘。\n",
      "---------------\n",
      "\n",
      "地圖連結：https://45a28610.ngrok.io/images/day5-U374824a0557f0767db8c194dae6c6002-1574398136490map.html\n",
      "===============\n",
      " \n",
      "=======================\n"
     ]
    },
    {
     "name": "stderr",
     "output_type": "stream",
     "text": [
      "172.18.0.6 - - [22/Nov/2019 04:50:26] \"POST / HTTP/1.1\" 200 -\n"
     ]
    },
    {
     "name": "stdout",
     "output_type": "stream",
     "text": [
      "type ==> <class 'linebot.exceptions.LineBotApiError'>\n",
      "value ==> LineBotApiError: status_code=400, error_response={\"details\": [], \"message\": \"Invalid reply token\"}\n",
      "traceback ==> file name: <ipython-input-25-a23c8ff16dbb>\n",
      "traceback ==> line no: 156\n",
      "traceback ==> function name: handle_message\n",
      "::tripStart:\n",
      "Erving,U374824a0557f0767db8c194dae6c6002\n",
      "{\"data\": \"tripStart\"}\n",
      "1574398137061,2019-11-22 04:48:57.061000\n",
      "{'age': 7, 'been2tko': 1, 'days': 7, 'budget': 40000, 'isFemale': 0, 'fbudget': 12000, 'dDate': '2020-03-31', 'rDate': '2020-04-07'}\n",
      "{'airline': 'Tigerair Taiwan', 'date_format(eta,\"%a\")': 'Tue', 'date_format(etd,\"%a\")': 'Tue', 'date_format(tuEta,\"%a\")': 'Tue', 'date_format(tuEtd,\"%a\")': 'Tue', 'price': 8067, 'time_format(eta,\"%T\")': '10:35:00', 'time_format(etd,\"%T\")': '06:35:00', 'time_format(sec_to_time(dur),\"%T\")': '03:00:00', 'time_format(sec_to_time(tuDur),\"%T\")': '03:55:00', 'time_format(tuEta,\"%T\")': '07:55:00', 'time_format(tuEtd,\"%T\")': '05:00:00'}\n",
      "bk by tue\n",
      "{'age': 7, 'been2tko': 1, 'howlong': 7, 'budget': 40000, 'isFemale': 0, 'with_child': 0, 'crampedSechedule': False}\n",
      "['[{\"index\":264,\"name\":\"東京迪士尼樂園 Tokyo Disneyland\",\"rank\":\"排名第 2的Maihama觀光 (共5家)\",\"address\":\"千葉縣浦安Maihama1-1279-8511\",\"child\":1.0,\"latitude\":35.632906,\"longitude\":139.880391,\"score\":94,\"chosen\":true}]', '[{\"index\":225,\"name\":\"東京馬拉松 Tokyo Marathon\",\"rank\":\"排名第 12的新宿區觀光 (共419家)\",\"address\":\"東京都新宿區2-8-1 NishishinjukuTokyo Metropolitan Government Building163-8001\",\"child\":0.0542821379,\"latitude\":35.6898531,\"longitude\":139.6917321,\"score\":70,\"chosen\":true},{\"index\":21,\"name\":\"秋葉原電器街 Akihabara\",\"rank\":\"排名第 6的千代田區觀光 (共446家)\",\"address\":\"東京都千代田區外神田秋葉原101-0021\",\"child\":0.1479775651,\"latitude\":35.702675,\"longitude\":139.773273,\"score\":183,\"chosen\":true},{\"index\":144,\"name\":\"澀谷中央街 Shibuya Center-gai\",\"rank\":\"排名第 27的澀谷區觀光 (共279家)\",\"address\":\"東京都澀谷區Udagawacho150-0042\",\"child\":0.0083290531,\"latitude\":35.661594,\"longitude\":139.6981574,\"score\":114,\"chosen\":true}]', '[{\"index\":173,\"name\":\"出光美術館 Idemitsu Museum\",\"rank\":\"排名第 1的Marunouchi觀光 (共7家)\",\"address\":\"東京都千代田區Marunouchi3-1-1 Marunouchi9F Teigeki Building100-0005\",\"child\":0.0,\"latitude\":35.6767601,\"longitude\":139.7611088,\"score\":70,\"chosen\":true},{\"index\":86,\"name\":\" Jingu Gaien Ginkgo Tree-lined Street\",\"rank\":\"排名第 1的Kitaaoyama觀光 (共10家)\",\"address\":\"東京都港區Kitaaoyama2107-0061\",\"child\":0.1085532006,\"latitude\":35.6734349,\"longitude\":139.7204992,\"score\":114,\"chosen\":true},{\"index\":129,\"name\":\"陽光城60展望台 Sky Circus Sunshine60 Observatory\",\"rank\":\"排名第 4的豊島區觀光 (共179家)\",\"address\":\"東京都豊島區東池袋3-1-1Sunshine City Sunshine 60170-8630\",\"child\":0.1832037516,\"latitude\":35.72898,\"longitude\":139.719791,\"score\":114,\"chosen\":true}]', '[{\"index\":153,\"name\":\"山種美術館 Yamatane Museum of Art\",\"rank\":\"排名第 17的澀谷區觀光 (共279家)\",\"address\":\"東京都澀谷區3-12-36 Hiroo150-0012\",\"child\":0.0,\"latitude\":35.6532706,\"longitude\":139.7138439,\"score\":70,\"chosen\":true},{\"index\":74,\"name\":\" Tsukiji Fish Market\",\"rank\":\"排名第 5的中央區觀光 (共577家)\",\"address\":\"東京都中央區4-14-2 Tsukiji104-0045\",\"child\":0.0,\"latitude\":35.665327,\"longitude\":139.7715589,\"score\":114,\"chosen\":true},{\"index\":181,\"name\":\"新丸之內大樓 Shin-Marunouchi Building\",\"rank\":\"排名第 30的千代田區觀光 (共446家)\",\"address\":\"東京都千代田區1-5-1 MarunouchiShin Marunouchi Bldg B1F100-6590\",\"child\":0.0,\"latitude\":35.6826212,\"longitude\":139.7642436,\"score\":84,\"chosen\":true}]', '[{\"index\":223,\"name\":\" Billboard Live音樂餐廳 Billboard Live Tokyo\",\"rank\":\"排名第 4的Akasaka觀光 (共18家)\",\"address\":\"東京都港區Akasaka9-7-44F107-0052\",\"child\":0.0,\"latitude\":35.6578091,\"longitude\":139.717307,\"score\":70,\"chosen\":true},{\"index\":189,\"name\":\"三社祭 Sanja Matsuri\",\"rank\":\"排名第 19的台東區觀光 (共560家)\",\"address\":\"東京都台東區2-3-1 AsakusaAsakusa Shrine111-0032\",\"child\":0.0864315783,\"latitude\":35.7147651,\"longitude\":139.7966553,\"score\":70,\"chosen\":true},{\"index\":64,\"name\":\"深川江戶資料館 Fukagawa Edo Museum\",\"rank\":\"排名第 3的江東區觀光 (共343家)\",\"address\":\"東京都江東區白河1-3-28135-0021\",\"child\":0.1084020065,\"latitude\":35.6815071,\"longitude\":139.8000403,\"score\":114,\"chosen\":true}]', '[{\"index\":196,\"name\":\"日本損保東鄉青兒美術館 Seiji Togo Memorial Sompo Japan Nipponkoa Museum of Art\",\"rank\":\"排名第 3的Nishishinjuku觀光 (共18家)\",\"address\":\"東京都新宿區Nishishinjuku1-26-1Sompo Japan Nipponkoa Head Office Bldg. 42F160-8338\",\"child\":0.0,\"latitude\":35.6924495,\"longitude\":139.6958457,\"score\":70,\"chosen\":true},{\"index\":79,\"name\":\"銀座三越 Ginza Mitsukoshi\",\"rank\":\"排名第 8的中央區觀光 (共577家)\",\"address\":\"東京都中央區銀座4-6-16104-8212\",\"child\":0.0148736923,\"latitude\":35.6713332,\"longitude\":139.7656872,\"score\":84,\"chosen\":true},{\"index\":51,\"name\":\" Diver City Tokyo購物廣場 Diver City Tokyo Plaza\",\"rank\":\"排名第 8的江東區觀光 (共343家)\",\"address\":\"東京都江東區1-1-10 Aomi135-0064\",\"child\":0.1594495359,\"latitude\":35.6253599,\"longitude\":139.7759888,\"score\":84,\"chosen\":true}]']\n",
      "{'age': 7, 'been2tko': 1, 'days': 7, 'budget': 40000, 'isFemale': 0, 'hotel budget': 2000}\n",
      "{'CP': 5.667506297, 'pre': 2.0, '交通1': '八丁堀站 - 走路 3 分鐘', '交通2': '清澄白河站 - 走路 9 分鐘', '交通3': '東京, 日本 (NRT-成田國際機場) - 車程 45 分鐘', '交通便利性': '3', '價格': 794.0, '地址': '1-1-7 Kiyosumi, Koto Ward, 東京', '廚房': 0.0, '星等': 3.0, '經度': 139.792053, '網址': 'https://www.expedia.com.tw/Tokyo-Hotels-THE-SHARE-HOTELS-LYURO-Hostel.h19467405.Hotel-Information?chkin=2019%2F10%2F4&chkout=2019%2F10%2F5&regionId=179900&destination=%E6%9D%B1%E4%BA%AC+%28%E5%8F%8A%E9%84%B0%E8%BF%91%E5%9C%B0%E5%8D%80%29%2C+%E6%97%A5%E6%9C%AC&swpToggleOn=true&rm1=a1&x_pwa=1&sort=recommended&top_dp=794&top_cur=TWD&rfrr=HSR&pwa_ts=1570020098504', '緯度': 35.681038, '評價': 4.5, '鄰近景點1': '江戶東京博物館 - 開車 3 分鐘', '鄰近景點2': '歌舞伎座 - 開車 4 分鐘', '鄰近景點3': '秋葉原電器街 - 開車 4 分鐘', '鄰近景點4': '皇居 - 開車 4 分鐘', '鄰近景點5': '皇居東御苑 - 開車 6 分鐘', '飯店名稱': 'LYURO 共享飯店 - 青年旅舍'}\n",
      "{'age': 7, 'been2tko': 1, 'days': 7, 'totalBudget': 40000, 'gender': 0, 'oneBudget': 200}\n",
      "[{'age': 39, 'cp_rating_dinner': 4.06, 'cp_rating_lunch': 4.27, 'feeling_rating_dinner': 3.6, 'feeling_rating_lunch': 4.39, 'female_prop': 23.66, 'label_code': 1, 'label_desc': '平消族', 'lat': 35.6703533, 'lng': 139.7598446, 'male_prop': 76.34, 'meal_duration': 1.0, 'prices_dinner': 4961, 'prices_lunch': 425, 'rest_addr': '東京都中央區銀座7-2-14', 'rest_area': '銀座', 'rest_catg': '壽司', 'rest_rating': 3.92, 'service_rating_dinner': 3.82, 'service_rating_lunch': 4.39, 'store_nm_en': 'Sushidokoroyamada', 'store_nm_jp': '鮨處やまだ', 'transport': '新橋駅より徒歩5分\\n\\n\\n距离內幸町 367  米'}, {'age': 39, 'cp_rating_dinner': 3.96, 'cp_rating_lunch': 4.39, 'feeling_rating_dinner': 4.22, 'feeling_rating_lunch': 4.43, 'female_prop': 24.23, 'label_code': 0, 'label_desc': '高消族', 'lat': 35.6680341, 'lng': 139.7627025, 'male_prop': 75.77, 'meal_duration': 1.0, 'prices_dinner': 7087, 'prices_lunch': 3543, 'rest_addr': '東京都中央區銀座8-10-2', 'rest_area': '銀座', 'rest_catg': '壽司', 'rest_rating': 4.59, 'service_rating_dinner': 4.19, 'service_rating_lunch': 4.43, 'store_nm_en': 'Arai', 'store_nm_jp': '鮨 あらい', 'transport': '東京メトロ「銀座駅」A5出口から徒歩5～6分\\n\\n\\n距离新橋 443  米'}, {'age': 39, 'cp_rating_dinner': 3.35, 'cp_rating_lunch': 3.3, 'feeling_rating_dinner': 3.83, 'feeling_rating_lunch': 3.79, 'female_prop': 24.22, 'label_code': 1, 'label_desc': '平消族', 'lat': 35.6685534, 'lng': 139.7611999, 'male_prop': 75.78, 'meal_duration': 1.0, 'prices_dinner': 7087, 'prices_lunch': 3543, 'rest_addr': '東京都中央區銀座8-7-6', 'rest_area': '新橋・汐留', 'rest_catg': '壽司', 'rest_rating': 3.76, 'service_rating_dinner': 3.87, 'service_rating_lunch': 3.74, 'store_nm_en': 'Ginzakyuubee', 'store_nm_jp': '銀座 久兵衛 銀座本店', 'transport': '東京メトロ銀座線「新橋駅」3番出口 又は JR「新橋駅」銀座口 より徒歩5分\\n\\n\\n距离新橋 357  米'}, {'age': 37, 'cp_rating_dinner': 3.9, 'cp_rating_lunch': 3.77, 'feeling_rating_dinner': 3.57, 'feeling_rating_lunch': 3.9, 'female_prop': 23.73, 'label_code': 1, 'label_desc': '平消族', 'lat': 35.7076769, 'lng': 139.7598878, 'male_prop': 76.27, 'meal_duration': 1.0, 'prices_dinner': 3543, 'prices_lunch': 425, 'rest_addr': '東京都文京區本鄉4-2-4', 'rest_area': '本鄉・東大周邊', 'rest_catg': '天婦羅/和式餐馆 / 小菜', 'rest_rating': 3.95, 'service_rating_dinner': 3.75, 'service_rating_lunch': 3.89, 'store_nm_en': 'Edomaeshinsaku', 'store_nm_jp': '江戸前晋作', 'transport': '大江戸線\\u3000本郷三丁目駅\\u30003番出口から徒歩１分\\n丸ノ内線\\u3000本郷三丁目駅\\u3000から徒歩４分\\n都営三田線\\u3000春日駅から徒歩10分\\n\\n\\n距离本鄉三丁目 45  米'}, {'age': 43, 'cp_rating_dinner': 3.37, 'cp_rating_lunch': 3.54, 'feeling_rating_dinner': 3.89, 'feeling_rating_lunch': 4.05, 'female_prop': 23.5, 'label_code': 1, 'label_desc': '平消族', 'lat': 35.7251106, 'lng': 139.7970368, 'male_prop': 76.5, 'meal_duration': 1.5, 'prices_dinner': 709, 'prices_lunch': 709, 'rest_addr': '東京都檯東區日本隄1-9-2', 'rest_area': '町屋・南千住', 'rest_catg': '炸蝦丼飯・炸蝦便當/天婦羅', 'rest_rating': 3.77, 'service_rating_dinner': 3.33, 'service_rating_lunch': 3.64, 'store_nm_en': 'Dotenoiseya', 'store_nm_jp': '土手の伊勢屋', 'transport': '地下鉄日比谷線：三ノ輪駅から徒歩10分\\nJR常磐線：南千住駅から徒歩15分\\n吉原大門交差点そば\\n\\n\\n距离三之輪 722  米'}, {'age': 40, 'cp_rating_dinner': 3.52, 'cp_rating_lunch': 3.7, 'feeling_rating_dinner': 3.75, 'feeling_rating_lunch': 3.74, 'female_prop': 24.31, 'label_code': 1, 'label_desc': '平消族', 'lat': 35.7159573, 'lng': 139.7936649, 'male_prop': 75.69, 'meal_duration': 1.0, 'prices_dinner': 1559, 'prices_lunch': 1276, 'rest_addr': '東京都檯東區淺草2-17-10', 'rest_area': '淺草', 'rest_catg': '壽喜燒/鍋類（其他）', 'rest_rating': 3.76, 'service_rating_dinner': 3.33, 'service_rating_lunch': 3.43, 'store_nm_en': 'Yonekyuuhonten', 'store_nm_jp': '米久本店', 'transport': 'つくばエクスプレス\\u3000浅草駅\\u3000徒歩３分\\n東京メトロ銀座線、東武伊勢崎線\\u3000浅草駅\\u3000徒歩９分\\n東京メトロ銀座線\\u3000田原町駅\\u3000徒歩９分\\n\\n\\n距离淺草 234  米'}, {'age': 38, 'cp_rating_dinner': 3.29, 'cp_rating_lunch': 3.22, 'feeling_rating_dinner': 3.38, 'feeling_rating_lunch': 3.17, 'female_prop': 24.13, 'label_code': 1, 'label_desc': '平消族', 'lat': 35.7082784, 'lng': 139.7514096, 'male_prop': 75.87, 'meal_duration': 1.0, 'prices_dinner': 142, 'prices_lunch': 142, 'rest_addr': '東京都文京區春日1-15-9', 'rest_area': '神保町・水道橋', 'rest_catg': '沾麵/拉麵/創作料理', 'rest_rating': 3.76, 'service_rating_dinner': 3.28, 'service_rating_lunch': 3.18, 'store_nm_en': 'jikaseimemmensho-to-kyo-', 'store_nm_jp': '自家製麺 MENSHO TOKYO', 'transport': '東京メトロ丸ノ内線、南北線「後楽園駅」6番出口から徒歩1分\\n都営地下鉄大江戸線、三田線「春日駅」6番出口から徒歩1分\\n\\n\\n距离後樂園 48  米'}, {'age': 37, 'cp_rating_dinner': 3.53, 'cp_rating_lunch': 3.48, 'feeling_rating_dinner': 3.61, 'feeling_rating_lunch': 3.46, 'female_prop': 23.71, 'label_code': 1, 'label_desc': '平消族', 'lat': 35.7188559, 'lng': 139.8576853, 'male_prop': 76.29, 'meal_duration': 1.0, 'prices_dinner': 425, 'prices_lunch': 425, 'rest_addr': '東京都葛飾區東新小嵒1-4-17', 'rest_area': '小岩・新小岩', 'rest_catg': '拉麵/沾麵', 'rest_rating': 3.87, 'service_rating_dinner': 3.72, 'service_rating_lunch': 3.56, 'store_nm_en': 'Itto', 'store_nm_jp': '麺屋一燈', 'transport': '・JR総武線「新小岩」駅(北口)から徒歩3分\\n・都営バスまたは京成タウンバス「新小岩駅北口」下車してすぐ\\n\\n\\n距离新小岩 232  米'}, {'age': 41, 'cp_rating_dinner': 3.3, 'cp_rating_lunch': 3.3, 'feeling_rating_dinner': 3.25, 'feeling_rating_lunch': 3.31, 'female_prop': 23.47, 'label_code': 1, 'label_desc': '平消族', 'lat': 35.6870985, 'lng': 139.764569, 'male_prop': 76.53, 'meal_duration': 1.0, 'prices_dinner': 425, 'prices_lunch': 142, 'rest_addr': '東京都韆代田區汍の內1-9-1', 'rest_area': '丸之內・大手町', 'rest_catg': '沾麵/拉麵', 'rest_rating': 3.79, 'service_rating_dinner': 3.36, 'service_rating_lunch': 3.41, 'store_nm_en': 'Rokurinsha', 'store_nm_jp': '六厘舎', 'transport': 'JR各線「東京」駅の八重洲口B1F\\n在来線、東海道新幹線 八重洲中央南口改札を出て、すぐ右へ。階段下りてすぐ 。\\nもしくは、八重洲地下中央改札出て右へ。突き当たり手前左側。\\n\\n\\n距离東京 130  米'}, {'age': 31, 'cp_rating_dinner': 3.62, 'cp_rating_lunch': 4.04, 'feeling_rating_dinner': 3.75, 'feeling_rating_lunch': 4.47, 'female_prop': 23.85, 'label_code': 1, 'label_desc': '平消族', 'lat': 35.6463277, 'lng': 139.7117613, 'male_prop': 76.15, 'meal_duration': 1.0, 'prices_dinner': 1984, 'prices_lunch': 425, 'rest_addr': '東京都澀穀區惠比壽1-11-5', 'rest_area': '惠比壽', 'rest_catg': '法式小酒館/牛排/洋酒吧', 'rest_rating': 3.84, 'service_rating_dinner': 3.69, 'service_rating_lunch': 4.89, 'store_nm_en': 'CarneSio east', 'store_nm_jp': 'CarneSio east', 'transport': '恵比寿駅\\u3000東口\\n\\n\\n距离惠比壽 170  米'}, {'age': 40, 'cp_rating_dinner': 3.66, 'cp_rating_lunch': 3.71, 'feeling_rating_dinner': 3.92, 'feeling_rating_lunch': 4.02, 'female_prop': 24.16, 'label_code': 1, 'label_desc': '平消族', 'lat': 35.6717099, 'lng': 139.76326, 'male_prop': 75.84, 'meal_duration': 1.0, 'prices_dinner': 4961, 'prices_lunch': 2551, 'rest_addr': '東京都中央區銀座5-4-6', 'rest_area': '銀座', 'rest_catg': '鐵板燒/牛排', 'rest_rating': 3.76, 'service_rating_dinner': 4.12, 'service_rating_lunch': 4.01, 'store_nm_en': 'Kira Ginza', 'store_nm_jp': '佐賀牛 季楽 銀座 ', 'transport': '東京メトロ日比谷線・丸の内線・銀座線「銀座駅」B5出口から徒歩1分\\n\\n\\n距离銀座 84  米'}, {'age': 38, 'cp_rating_dinner': 3.78, 'cp_rating_lunch': 4.17, 'feeling_rating_dinner': 3.95, 'feeling_rating_lunch': 4.52, 'female_prop': 24.81, 'label_code': 1, 'label_desc': '平消族', 'lat': 35.6483043, 'lng': 139.6064652, 'male_prop': 75.19, 'meal_duration': 1.0, 'prices_dinner': 425, 'prices_lunch': 425, 'rest_addr': '東京都世田穀區祖師穀4-21-1', 'rest_area': '祖師谷大藏・成城', 'rest_catg': '東南亞料理（其它）/咖哩（其它）', 'rest_rating': 3.76, 'service_rating_dinner': 4.02, 'service_rating_lunch': 4.33, 'store_nm_en': 'Mareshiamare', 'store_nm_jp': '馬来西亜マレー', 'transport': '小田急小田原線【祖師ヶ谷大蔵駅】徒歩９分\\n\\n\\n距离祖師谷大藏 629  米'}, {'age': 48, 'cp_rating_dinner': 3.26, 'cp_rating_lunch': 3.38, 'feeling_rating_dinner': 3.45, 'feeling_rating_lunch': 3.8, 'female_prop': 24.34, 'label_code': 1, 'label_desc': '平消族', 'lat': 35.6675833, 'lng': 139.7701571, 'male_prop': 75.66, 'meal_duration': 1.0, 'prices_dinner': 992, 'prices_lunch': 425, 'rest_addr': '東京都中央區築地2-15-20', 'rest_area': '築地', 'rest_catg': '蕎麥麵', 'rest_rating': 3.76, 'service_rating_dinner': 3.49, 'service_rating_lunch': 3.75, 'store_nm_en': 'Tsukijinunotsunesarashina', 'store_nm_jp': '築地 布恒更科', 'transport': '日比谷線築地駅、徒歩3分。東銀座より徒歩6分。\\n大江戸線築地市場駅、徒歩３分。\\n\\n\\n距离築地 227  米'}, {'age': 39, 'cp_rating_dinner': 3.96, 'cp_rating_lunch': 4.0, 'feeling_rating_dinner': 3.35, 'feeling_rating_lunch': 3.27, 'female_prop': 23.48, 'label_code': 1, 'label_desc': '平消族', 'lat': 35.6854123, 'lng': 139.7753649, 'male_prop': 76.52, 'meal_duration': 1.5, 'prices_dinner': 142, 'prices_lunch': 142, 'rest_addr': '東京都中央區日本橋室町1-11-15', 'rest_area': '日本橋・京橋', 'rest_catg': '炸蝦丼飯・炸蝦便當/便當/星鰻', 'rest_rating': 3.77, 'service_rating_dinner': 3.39, 'service_rating_lunch': 3.28, 'store_nm_en': 'nihombashitendonkanekohannosuke', 'store_nm_jp': '日本橋 天丼 金子半之助 本店', 'transport': '東京メトロ半蔵門線・銀座線「三越前」駅(A1出口)から徒歩1分\\n東京メトロ東西線「日本橋」駅から徒歩4分\\nJR総武本線「新日本橋」駅から徒歩5分\\n\\n\\n距离三越前 157  米'}]\n"
     ]
    },
    {
     "name": "stdout",
     "output_type": "stream",
     "text": [
      "=====================\n",
      " 第1天行程：\n",
      "東京迪士尼樂園 Tokyo Disneyland約13.4 公里，景點間通勤約需19 分鐘。\n",
      "---------------\n",
      "\n",
      "地圖連結：https://45a28610.ngrok.io/images/day1-U374824a0557f0767db8c194dae6c6002-1574398137060map.html\n",
      "===============\n",
      "第2天行程：\n",
      "秋葉原電器街 Akihabara約3.7 公里，景點間通勤約需14 分鐘。\n",
      "---------------\n",
      "澀谷中央街 Shibuya Center-gai約14.1 公里，景點間通勤約需27 分鐘。\n",
      "---------------\n",
      "東京馬拉松 Tokyo Marathon約3.8 公里，景點間通勤約需12 分鐘。\n",
      "---------------\n",
      "\n",
      "地圖連結：https://45a28610.ngrok.io/images/day2-U374824a0557f0767db8c194dae6c6002-1574398137060map.html\n",
      "===============\n",
      "第3天行程：\n",
      "陽光城60展望台 Sky Circus Sunshine60 Observatory約11.3 公里，景點間通勤約需14 分鐘。\n",
      "---------------\n",
      " Jingu Gaien Ginkgo Tree-lined Street約12.8 公里，景點間通勤約需18 分鐘。\n",
      "---------------\n",
      "出光美術館 Idemitsu Museum約4.6 公里，景點間通勤約需12 分鐘。\n",
      "---------------\n",
      "\n",
      "地圖連結：https://45a28610.ngrok.io/images/day3-U374824a0557f0767db8c194dae6c6002-1574398137060map.html\n",
      "===============\n",
      "第4天行程：\n",
      "新丸之內大樓 Shin-Marunouchi Building約4.9 公里，景點間通勤約需10 分鐘。\n",
      "---------------\n",
      "山種美術館 Yamatane Museum of Art約8.8 公里，景點間通勤約需15 分鐘。\n",
      "---------------\n",
      " Tsukiji Fish Market約9.4 公里，景點間通勤約需15 分鐘。\n",
      "---------------\n",
      "\n",
      "地圖連結：https://45a28610.ngrok.io/images/day4-U374824a0557f0767db8c194dae6c6002-1574398137060map.html\n",
      "===============\n",
      "第5天行程：\n",
      "三社祭 Sanja Matsuri約5.8 公里，景點間通勤約需15 分鐘。\n",
      "---------------\n",
      " Billboard Live音樂餐廳 Billboard Live Tokyo約15.4 公里，景點間通勤約需23 分鐘。\n",
      "---------------\n",
      "深川江戶資料館 Fukagawa Edo Museum約11.3 公里，景點間通勤約需18 分鐘。\n",
      "---------------\n",
      "\n",
      "地圖連結：https://45a28610.ngrok.io/images/day5-U374824a0557f0767db8c194dae6c6002-1574398137060map.html\n",
      "===============\n",
      "第6天行程：\n",
      " Diver City Tokyo購物廣場 Diver City Tokyo Plaza約9.4 公里，景點間通勤約需12 分鐘。\n",
      "---------------\n",
      "日本損保東鄉青兒美術館 Seiji Togo Memorial Sompo Japan Nipponkoa Museum of Art約18.1 公里，景點間通勤約需25 分鐘。\n",
      "---------------\n",
      "銀座三越 Ginza Mitsukoshi約10.0 公里，景點間通勤約需19 分鐘。\n",
      "---------------\n",
      "\n",
      "地圖連結：https://45a28610.ngrok.io/images/day6-U374824a0557f0767db8c194dae6c6002-1574398137060map.html\n",
      "===============\n",
      " \n",
      "=======================\n",
      "type ==> <class 'linebot.exceptions.LineBotApiError'>\n",
      "value ==> LineBotApiError: status_code=400, error_response={\"details\": [], \"message\": \"Invalid reply token\"}\n",
      "traceback ==> file name: <ipython-input-25-a23c8ff16dbb>\n",
      "traceback ==> line no: 156\n",
      "traceback ==> function name: handle_message\n",
      "::tripStart:\n",
      "Erving,U374824a0557f0767db8c194dae6c6002\n",
      "{\"data\": \"tripStart\"}\n",
      "1574398137461,2019-11-22 04:48:57.461000\n",
      "{'age': 7, 'been2tko': 1, 'days': 7, 'budget': 40000, 'isFemale': 0, 'fbudget': 12000, 'dDate': '2020-03-31', 'rDate': '2020-04-07'}\n",
      "{'airline': 'Tigerair Taiwan', 'date_format(eta,\"%a\")': 'Tue', 'date_format(etd,\"%a\")': 'Tue', 'date_format(tuEta,\"%a\")': 'Tue', 'date_format(tuEtd,\"%a\")': 'Tue', 'price': 8067, 'time_format(eta,\"%T\")': '10:35:00', 'time_format(etd,\"%T\")': '06:35:00', 'time_format(sec_to_time(dur),\"%T\")': '03:00:00', 'time_format(sec_to_time(tuDur),\"%T\")': '03:55:00', 'time_format(tuEta,\"%T\")': '07:55:00', 'time_format(tuEtd,\"%T\")': '05:00:00'}\n",
      "bk by tue\n",
      "{'age': 7, 'been2tko': 1, 'howlong': 7, 'budget': 40000, 'isFemale': 0, 'with_child': 0, 'crampedSechedule': False}\n",
      "['[{\"index\":2,\"name\":\"淺草 Asakusa\",\"rank\":\"排名第 1的台東區觀光 (共560家)\",\"address\":\"東京都台東區\",\"child\":0.0087715012,\"latitude\":35.7125736,\"longitude\":139.7802043,\"score\":241,\"chosen\":true},{\"index\":48,\"name\":\"雷門 Nakamise Shopping Street (Kaminarimon)\",\"rank\":\"排名第 18的台東區觀光 (共560家)\",\"address\":\"東京都台東區淺草1丁目3\",\"child\":0.0048539208,\"latitude\":35.7110859,\"longitude\":139.7959648,\"score\":114,\"chosen\":true},{\"index\":35,\"name\":\"淺草文化觀光中心 Asakusa Culture Tourist Information Center\",\"rank\":\"排名第 3的台東區觀光 (共560家)\",\"address\":\"東京都台東區2-18-9 Kaminarimon111-0034\",\"child\":0.0040560983,\"latitude\":35.7106489,\"longitude\":139.7965348,\"score\":106,\"chosen\":true}]', '[{\"index\":187,\"name\":\"月島燒 文字燒街 Tsukishima Monjya Street\",\"rank\":\"排名第 25的中央區觀光 (共577家)\",\"address\":\"東京都中央區Tsukishima\",\"child\":0.0773768629,\"latitude\":35.6635905,\"longitude\":139.7818227,\"score\":70,\"chosen\":true},{\"index\":31,\"name\":\"豪德寺 Gotokuji Temple\",\"rank\":\"排名第 1的世田谷區觀光 (共235家)\",\"address\":\"東京都世田谷區2-24-7 Gotokuji154-0021\",\"child\":0.0109177514,\"latitude\":35.6476986,\"longitude\":139.6471439,\"score\":114,\"chosen\":true},{\"index\":50,\"name\":\"神田明神神社 Kanda Shrine\",\"rank\":\"排名第 15的千代田區觀光 (共446家)\",\"address\":\"東京都千代田區外神田2-16-2101-0021\",\"child\":0.0229834121,\"latitude\":35.702072,\"longitude\":139.7679235,\"score\":114,\"chosen\":true}]', '[{\"index\":192,\"name\":\"隅田川花火大會 Sumida River Fireworks\",\"rank\":\"排名第 12的墨田區觀光 (共264家)\",\"address\":\"東京都墨田區\",\"child\":0.0,\"latitude\":35.7107479,\"longitude\":139.8016393,\"score\":70,\"chosen\":true},{\"index\":260,\"name\":\"板橋花火節 Itabashi Fireworks\",\"rank\":\"排名第 1的板橋區觀光 (共81家)\",\"address\":\"東京都板橋區4 Funado174-0041\",\"child\":0.0,\"latitude\":35.7512308,\"longitude\":139.7185838,\"score\":70,\"chosen\":true},{\"index\":193,\"name\":\"大江戶古董市場 - 東京國際論壇 Oedo Antique Market - Tokyo International Forum\",\"rank\":\"排名第 55的千代田區觀光 (共446家)\",\"address\":\"東京都千代田區3-5-1 MarunouchiTokyo International Forum100-0005\",\"child\":0.0199828611,\"latitude\":35.6767429,\"longitude\":139.7637532,\"score\":84,\"chosen\":true}]', '[{\"index\":75,\"name\":\" The Sumida Hokusai Museum\",\"rank\":\"排名第 5的墨田區觀光 (共264家)\",\"address\":\"東京都墨田區2-7-2 Kamezawa130-0014\",\"child\":0.0904485493,\"latitude\":35.693465,\"longitude\":139.8006398,\"score\":70,\"chosen\":true},{\"index\":190,\"name\":\"目白庭園 Mejiro Garden\",\"rank\":\"排名第 10的豊島區觀光 (共179家)\",\"address\":\"東京都豊島區目白3-20-18171-0031\",\"child\":0.0,\"latitude\":35.7242271,\"longitude\":139.7054175,\"score\":114,\"chosen\":true},{\"index\":33,\"name\":\"合羽橋廚具街 Kappabashi Street (Kappabashi Dogugai)\",\"rank\":\"排名第 12的台東區觀光 (共560家)\",\"address\":\"東京都台東區松谷3-18-2111-0036\",\"child\":0.0602032791,\"latitude\":35.7165256,\"longitude\":139.7887735,\"score\":114,\"chosen\":true}]', '[{\"index\":173,\"name\":\"出光美術館 Idemitsu Museum\",\"rank\":\"排名第 1的Marunouchi觀光 (共7家)\",\"address\":\"東京都千代田區Marunouchi3-1-1 Marunouchi9F Teigeki Building100-0005\",\"child\":0.0,\"latitude\":35.6767601,\"longitude\":139.7611088,\"score\":70,\"chosen\":true},{\"index\":256,\"name\":\"千鳥淵公園 Chidoriga-fuchi Park\",\"rank\":\"排名第 27的千代田區觀光 (共446家)\",\"address\":\"東京都千代田區1-2 Kojimachi\",\"child\":0.0178352039,\"latitude\":35.6845665,\"longitude\":139.7445089,\"score\":114,\"chosen\":true},{\"index\":88,\"name\":\"東京國立博物館 平成館 Tokyo National Museum The Heiseikan\",\"rank\":\"排名第 1的Uenokoen觀光 (共10家)\",\"address\":\"東京都台東區Uenokoen13-9 UenokoenInside Tokyo National Museum110-8712\",\"child\":0.0780507337,\"latitude\":35.7188351,\"longitude\":139.7765215,\"score\":70,\"chosen\":true}]', '[{\"index\":164,\"name\":\"摺紙會館 Origami Kaikan\",\"rank\":\"排名第 21的文京區觀光 (共297家)\",\"address\":\"東京都文京區湯島1-7-14113-0034\",\"child\":0.2664738015,\"latitude\":35.7026405,\"longitude\":139.7650482,\"score\":70,\"chosen\":true},{\"index\":112,\"name\":\"江戶川區自然動物園 Edogawa Natural Zoo\",\"rank\":\"排名第 1的江戶川區觀光 (共191家)\",\"address\":\"東京都江戶川區3-2-1 KitakasaiGyosen Park134-0081\",\"child\":0.0276795656,\"latitude\":35.6715679,\"longitude\":139.8580138,\"score\":114,\"chosen\":true},{\"index\":156,\"name\":\"台場海洋城 Aqua City Odaiba\",\"rank\":\"排名第 33的港區觀光 (共626家)\",\"address\":\"東京都港區1-7-1 Daiba135-8707\",\"child\":0.0,\"latitude\":35.6580813,\"longitude\":139.7515077,\"score\":122,\"chosen\":true}]']\n",
      "{'age': 7, 'been2tko': 1, 'days': 7, 'budget': 40000, 'isFemale': 0, 'hotel budget': 2000}\n",
      "{'CP': 2.643948296, 'pre': 2.0, '交通1': '北千住站 - 走路 3 分鐘', '交通2': '五反野站 - 走路 10 分鐘', '交通3': '東京, 日本 (HND-羽田機場) - 車程 34 分鐘', '交通便利性': '3', '價格': 1702.0, '地址': 'Umeda 2-8-5, Adachi-ku, 東京', '廚房': 0.0, '星等': 3.0, '經度': 139.803099, '網址': 'https://www.expedia.com.tw/Tokyo-Hotels-RYOKAN-DAY-SHIZUKU.h18340218.Hotel-Information?chkin=2019%2F10%2F4&chkout=2019%2F10%2F5&regionId=179900&destination=%E6%9D%B1%E4%BA%AC+%28%E5%8F%8A%E9%84%B0%E8%BF%91%E5%9C%B0%E5%8D%80%29%2C+%E6%97%A5%E6%9C%AC&swpToggleOn=true&rm1=a1&x_pwa=1&sort=recommended&top_dp=1702&top_cur=TWD&rfrr=HSR&pwa_ts=1570019670967', '緯度': 35.767463, '評價': 4.5, '鄰近景點1': '國立科學博物館 - 開車 6 分鐘', '鄰近景點2': '東京國立博物館 - 開車 6 分鐘', '鄰近景點3': '淺草神社 - 開車 6 分鐘', '鄰近景點4': '淺草寺雷門 - 開車 6 分鐘', '鄰近景點5': '東京晴空塔 - 開車 7 分鐘', '飯店名稱': '水滴日子日式旅館'}\n",
      "{'age': 7, 'been2tko': 1, 'days': 7, 'totalBudget': 40000, 'gender': 0, 'oneBudget': 200}\n",
      "[{'age': 32, 'cp_rating_dinner': 3.94, 'cp_rating_lunch': 3.6, 'feeling_rating_dinner': 4.13, 'feeling_rating_lunch': 3.9, 'female_prop': 23.67, 'label_code': 1, 'label_desc': '平消族', 'lat': 35.6731203, 'lng': 139.7655234, 'male_prop': 76.33, 'meal_duration': 1.0, 'prices_dinner': 7087, 'prices_lunch': 3543, 'rest_addr': '東京都中央區銀座3-3-6', 'rest_area': '銀座', 'rest_catg': '壽司', 'rest_rating': 3.81, 'service_rating_dinner': 3.9, 'service_rating_lunch': 3.5, 'store_nm_en': 'Sushiishiyama', 'store_nm_jp': '鮨 いしやま', 'transport': '距离銀座一丁目 190  米'}, {'age': 36, 'cp_rating_dinner': 3.95, 'cp_rating_lunch': 4.44, 'feeling_rating_dinner': 3.97, 'feeling_rating_lunch': 3.71, 'female_prop': 23.7, 'label_code': 1, 'label_desc': '平消族', 'lat': 35.6616402, 'lng': 139.7276928, 'male_prop': 76.3, 'meal_duration': 1.0, 'prices_dinner': 7087, 'prices_lunch': 425, 'rest_addr': '東京都港區西痲佈1-2-3', 'rest_area': '六本木・乃木坂・西麻布', 'rest_catg': '壽司', 'rest_rating': 3.94, 'service_rating_dinner': 3.95, 'service_rating_lunch': 3.71, 'store_nm_en': 'Murase', 'store_nm_jp': '鮓 村瀬', 'transport': 'メトロ六本木駅2番出口から徒歩5分\\n\\n\\n距离六本木 345  米'}, {'age': 42, 'cp_rating_dinner': 3.97, 'cp_rating_lunch': 4.0, 'feeling_rating_dinner': 3.97, 'feeling_rating_lunch': 3.81, 'female_prop': 23.92, 'label_code': 1, 'label_desc': '平消族', 'lat': 35.6697444, 'lng': 139.7619383, 'male_prop': 76.08, 'meal_duration': 1.0, 'prices_dinner': 7087, 'prices_lunch': 425, 'rest_addr': '東京都中央區銀座7-6-5', 'rest_area': '銀座', 'rest_catg': '壽司', 'rest_rating': 3.78, 'service_rating_dinner': 3.98, 'service_rating_lunch': 4.0, 'store_nm_en': 'Sushi Take', 'store_nm_jp': '鮨竹', 'transport': '銀座駅A1出口より徒歩5分\\n\\n\\n距离銀座 310  米'}, {'age': 41, 'cp_rating_dinner': 3.46, 'cp_rating_lunch': 4.24, 'feeling_rating_dinner': 3.92, 'feeling_rating_lunch': 4.06, 'female_prop': 24.05, 'label_code': 0, 'label_desc': '高消族', 'lat': 35.6754994, 'lng': 139.7930975, 'male_prop': 75.95, 'meal_duration': 1.0, 'prices_dinner': 7087, 'prices_lunch': 7087, 'rest_addr': '東京都江東區福住1-3-1', 'rest_area': '門前仲町・木場・東陽町', 'rest_catg': '天婦羅', 'rest_rating': 4.04, 'service_rating_dinner': 3.65, 'service_rating_lunch': 3.99, 'store_nm_en': 'Mikawa Zezankyo', 'store_nm_jp': 'みかわ 是山居', 'transport': '東西線\\u3000大江戸線・門前仲町駅歩いて８分。\\n\\n\\n距离門前仲町 463  米'}, {'age': 42, 'cp_rating_dinner': 3.94, 'cp_rating_lunch': 3.8, 'feeling_rating_dinner': 3.45, 'feeling_rating_lunch': 3.32, 'female_prop': 24.44, 'label_code': 1, 'label_desc': '平消族', 'lat': 35.6559209, 'lng': 139.7428184, 'male_prop': 75.56, 'meal_duration': 1.5, 'prices_dinner': 142, 'prices_lunch': 425, 'rest_addr': '東京都港區西痲佈1-13-15', 'rest_area': '六本木・乃木坂・西麻布', 'rest_catg': '定食、食堂/可樂餅・油炸食品', 'rest_rating': 3.76, 'service_rating_dinner': 3.88, 'service_rating_lunch': 3.98, 'store_nm_en': 'Mikawaya', 'store_nm_jp': '三河屋', 'transport': '東京メトロ千代田線・乃木坂駅５番出口から徒歩約１０分。\\n東京メトロ日比谷線・広尾駅から徒歩12分。\\n外苑西通りの西麻布交差点を北へ。次のY字交差点との中間付近、右側。\\n\\n\\n距离乃木坂 707  米'}, {'age': 40, 'cp_rating_dinner': 3.52, 'cp_rating_lunch': 3.7, 'feeling_rating_dinner': 3.75, 'feeling_rating_lunch': 3.74, 'female_prop': 24.31, 'label_code': 1, 'label_desc': '平消族', 'lat': 35.7159573, 'lng': 139.7936649, 'male_prop': 75.69, 'meal_duration': 1.0, 'prices_dinner': 1559, 'prices_lunch': 1276, 'rest_addr': '東京都檯東區淺草2-17-10', 'rest_area': '淺草', 'rest_catg': '壽喜燒/鍋類（其他）', 'rest_rating': 3.76, 'service_rating_dinner': 3.33, 'service_rating_lunch': 3.43, 'store_nm_en': 'Yonekyuuhonten', 'store_nm_jp': '米久本店', 'transport': 'つくばエクスプレス\\u3000浅草駅\\u3000徒歩３分\\n東京メトロ銀座線、東武伊勢崎線\\u3000浅草駅\\u3000徒歩９分\\n東京メトロ銀座線\\u3000田原町駅\\u3000徒歩９分\\n\\n\\n距离淺草 234  米'}, {'age': 40, 'cp_rating_dinner': 3.23, 'cp_rating_lunch': 3.3, 'feeling_rating_dinner': 3.2, 'feeling_rating_lunch': 3.21, 'female_prop': 23.8, 'label_code': 1, 'label_desc': '平消族', 'lat': 35.6470306, 'lng': 139.7079778, 'male_prop': 76.2, 'meal_duration': 1.0, 'prices_dinner': 142, 'prices_lunch': 142, 'rest_addr': '東京都澀穀區惠比壽西1-9-4', 'rest_area': '惠比壽', 'rest_catg': '拉麵/沾麵', 'rest_rating': 3.75, 'service_rating_dinner': 3.13, 'service_rating_lunch': 3.05, 'store_nm_en': 'Oozekichuukasobaten', 'store_nm_jp': 'おおぜき中華そば店', 'transport': 'JR山手線「恵比寿」駅(西口)から徒歩２分\\n\\n\\n距离惠比壽 192  米'}, {'age': 39, 'cp_rating_dinner': 3.51, 'cp_rating_lunch': 3.85, 'feeling_rating_dinner': 3.59, 'feeling_rating_lunch': 3.97, 'female_prop': 23.7, 'label_code': 1, 'label_desc': '平消族', 'lat': 35.7100213, 'lng': 139.7139906, 'male_prop': 76.3, 'meal_duration': 1.0, 'prices_dinner': 425, 'prices_lunch': 425, 'rest_addr': '東京都新宿區西早稻田3-13-4', 'rest_area': '早稻田周邊', 'rest_catg': '拉麵', 'rest_rating': 3.87, 'service_rating_dinner': 3.45, 'service_rating_lunch': 4.01, 'store_nm_en': 'Ramenyamaguchi', 'store_nm_jp': 'らぁ麺やまぐち', 'transport': '・JR山手線「高田馬場」駅より、徒歩11分\\n・東京メトロ副都心線「西早稲田」駅(2番出口)より、徒歩６分\\n・東京メトロ東西線「早稲田」駅(2番出口)より、徒歩10分\\n\\n\\n距离面影橋 337  米'}, {'age': 40, 'cp_rating_dinner': 3.62, 'cp_rating_lunch': 3.41, 'feeling_rating_dinner': 3.69, 'feeling_rating_lunch': 3.57, 'female_prop': 23.7, 'label_code': 1, 'label_desc': '平消族', 'lat': 35.6945468, 'lng': 139.7172078, 'male_prop': 76.3, 'meal_duration': 1.0, 'prices_dinner': 142, 'prices_lunch': 142, 'rest_addr': '東京都新宿區市穀檯町18-5', 'rest_area': '早稻田周邊', 'rest_catg': '拉麵/担担麵/乾擔擔麵', 'rest_rating': 3.94, 'service_rating_dinner': 3.81, 'service_rating_lunch': 3.66, 'store_nm_en': 'Menanchitose', 'store_nm_jp': '麺庵ちとせ', 'transport': '曙橋駅 徒歩6分\\n若松河田駅 徒歩9分\\n\\n\\n距离若松河田 522  米'}, {'age': 29, 'cp_rating_dinner': 4.37, 'cp_rating_lunch': 4.76, 'feeling_rating_dinner': 4.67, 'feeling_rating_lunch': 5.0, 'female_prop': 24.05, 'label_code': 0, 'label_desc': '高消族', 'lat': 35.6735772, 'lng': 139.7591755, 'male_prop': 75.95, 'meal_duration': 1.5, 'prices_dinner': 19843, 'prices_lunch': 425, 'rest_addr': '東京都韆代田區有樂町1-1-2', 'rest_area': '有樂町・日比谷', 'rest_catg': '懷石 / 會席料理/螃蟹/河豚', 'rest_rating': 4.02, 'service_rating_dinner': 4.52, 'service_rating_lunch': 4.9, 'store_nm_en': 'RyuGin', 'store_nm_jp': '龍吟', 'transport': '東京メトロ千代田線・日比谷線 ・都営地下鉄三田線「日比谷」駅直結\\n東京メトロ有楽町線「有楽町」駅直結（徒歩4分）\\n東京メトロ丸ノ内線・日比谷線・銀座線「銀座」駅直結（徒歩5分）\\nJR山手線・京浜東北線「有楽町」駅（徒歩5分）\\n\\n\\n距离日比谷 122  米'}, {'age': 37, 'cp_rating_dinner': 3.91, 'cp_rating_lunch': 3.86, 'feeling_rating_dinner': 3.47, 'feeling_rating_lunch': 3.47, 'female_prop': 24.19, 'label_code': 0, 'label_desc': '高消族', 'lat': 35.6768685, 'lng': 139.7362442, 'male_prop': 75.81, 'meal_duration': 1.0, 'prices_dinner': 4961, 'prices_lunch': 425, 'rest_addr': '東京都港區赤坂3-9-12', 'rest_area': '赤坂', 'rest_catg': '燒肉/牛肉料理/烤內臟', 'rest_rating': 4.36, 'service_rating_dinner': 4.0, 'service_rating_lunch': 3.7, 'store_nm_en': 'Akasakaraimon', 'store_nm_jp': '赤坂 らいもん', 'transport': '距离赤坂見附 94  米'}, {'age': 39, 'cp_rating_dinner': 3.68, 'cp_rating_lunch': 3.96, 'feeling_rating_dinner': 3.41, 'feeling_rating_lunch': 3.57, 'female_prop': 23.47, 'label_code': 1, 'label_desc': '平消族', 'lat': 35.6626742, 'lng': 139.7463783, 'male_prop': 76.53, 'meal_duration': 1.0, 'prices_dinner': 992, 'prices_lunch': 425, 'rest_addr': '東京都港區虎ノ門3-19-7', 'rest_area': '神谷町', 'rest_catg': '印度料理/印度咖哩/西式自助餐', 'rest_rating': 3.79, 'service_rating_dinner': 3.38, 'service_rating_lunch': 3.46, 'store_nm_en': 'Nirvanam', 'store_nm_jp': 'ニルワナム 神谷町店', 'transport': '神谷町駅から、徒歩１分です。\\n御成門駅から、徒歩９分です。\\n六本木一丁目駅から、徒歩14分です。\\n\\n\\n距离神谷町 129  米'}, {'age': 39, 'cp_rating_dinner': 3.25, 'cp_rating_lunch': 3.26, 'feeling_rating_dinner': 3.78, 'feeling_rating_lunch': 3.81, 'female_prop': 23.4, 'label_code': 1, 'label_desc': '平消族', 'lat': 35.6500965, 'lng': 139.6914226, 'male_prop': 76.6, 'meal_duration': 1.0, 'prices_dinner': 1276, 'prices_lunch': 425, 'rest_addr': '東京都目黑區青葉檯3-19-8', 'rest_area': '池尻大橋・三宿', 'rest_catg': '蕎麥麵/懷石 / 會席料理/日式小酒館', 'rest_rating': 3.77, 'service_rating_dinner': 3.43, 'service_rating_lunch': 3.39, 'store_nm_en': 'Toukyoudosanjin', 'store_nm_jp': '東京 土山人', 'transport': '東急田園都市線\\u3000池尻大橋駅から徒歩8分\\n東急東横線\\u3000中目黒駅から徒歩12分\\n\\n\\n距离池尻大橋 611  米'}, {'age': 39, 'cp_rating_dinner': 3.96, 'cp_rating_lunch': 4.0, 'feeling_rating_dinner': 3.35, 'feeling_rating_lunch': 3.27, 'female_prop': 23.48, 'label_code': 1, 'label_desc': '平消族', 'lat': 35.6854123, 'lng': 139.7753649, 'male_prop': 76.52, 'meal_duration': 1.5, 'prices_dinner': 142, 'prices_lunch': 142, 'rest_addr': '東京都中央區日本橋室町1-11-15', 'rest_area': '日本橋・京橋', 'rest_catg': '炸蝦丼飯・炸蝦便當/便當/星鰻', 'rest_rating': 3.77, 'service_rating_dinner': 3.39, 'service_rating_lunch': 3.28, 'store_nm_en': 'nihombashitendonkanekohannosuke', 'store_nm_jp': '日本橋 天丼 金子半之助 本店', 'transport': '東京メトロ半蔵門線・銀座線「三越前」駅(A1出口)から徒歩1分\\n東京メトロ東西線「日本橋」駅から徒歩4分\\nJR総武本線「新日本橋」駅から徒歩5分\\n\\n\\n距离三越前 157  米'}]\n"
     ]
    },
    {
     "name": "stdout",
     "output_type": "stream",
     "text": [
      "=====================\n",
      " 第1天行程：\n",
      "淺草 Asakusa約7.2 公里，景點間通勤約需19 分鐘。\n",
      "---------------\n",
      "雷門 Nakamise Shopping Street (Kaminarimon)約1.8 公里，景點間通勤約需7 分鐘。\n",
      "---------------\n",
      "淺草文化觀光中心 Asakusa Culture Tourist Information Center約61 公尺，景點間通勤約需1 分鐘。\n",
      "---------------\n",
      "\n",
      "地圖連結：https://45a28610.ngrok.io/images/day1-U374824a0557f0767db8c194dae6c6002-1574398137460map.html\n",
      "===============\n",
      "第2天行程：\n",
      "月島燒 文字燒街 Tsukishima Monjya Street約16.2 公里，景點間通勤約需22 分鐘。\n",
      "---------------\n",
      "豪德寺 Gotokuji Temple約16.8 公里，景點間通勤約需34 分鐘。\n",
      "---------------\n",
      "神田明神神社 Kanda Shrine約16.4 公里，景點間通勤約需33 分鐘。\n",
      "---------------\n",
      "\n",
      "地圖連結：https://45a28610.ngrok.io/images/day2-U374824a0557f0767db8c194dae6c6002-1574398137460map.html\n",
      "===============\n",
      "第3天行程：\n",
      "板橋花火節 Itabashi Fireworks約10.3 公里，景點間通勤約需20 分鐘。\n",
      "---------------\n",
      "大江戶古董市場 - 東京國際論壇 Oedo Antique Market - Tokyo International Forum約13.9 公里，景點間通勤約需19 分鐘。\n",
      "---------------\n",
      "隅田川花火大會 Sumida River Fireworks約7.3 公里，景點間通勤約需14 分鐘。\n",
      "---------------\n",
      "\n",
      "地圖連結：https://45a28610.ngrok.io/images/day3-U374824a0557f0767db8c194dae6c6002-1574398137460map.html\n",
      "===============\n",
      "第4天行程：\n",
      "目白庭園 Mejiro Garden約15.2 公里，景點間通勤約需23 分鐘。\n",
      "---------------\n",
      " The Sumida Hokusai Museum約12.9 公里，景點間通勤約需23 分鐘。\n",
      "---------------\n",
      "合羽橋廚具街 Kappabashi Street (Kappabashi Dogugai)約3.5 公里，景點間通勤約需13 分鐘。\n",
      "---------------\n",
      "\n",
      "地圖連結：https://45a28610.ngrok.io/images/day4-U374824a0557f0767db8c194dae6c6002-1574398137460map.html\n",
      "===============\n",
      "第5天行程：\n",
      "千鳥淵公園 Chidoriga-fuchi Park約17.0 公里，景點間通勤約需20 分鐘。\n",
      "---------------\n",
      "出光美術館 Idemitsu Museum約3.3 公里，景點間通勤約需9 分鐘。\n",
      "---------------\n",
      "東京國立博物館 平成館 Tokyo National Museum The Heiseikan約7.0 公里，景點間通勤約需16 分鐘。\n",
      "---------------\n",
      "\n",
      "地圖連結：https://45a28610.ngrok.io/images/day5-U374824a0557f0767db8c194dae6c6002-1574398137460map.html\n",
      "===============\n",
      "第6天行程：\n",
      "摺紙會館 Origami Kaikan約9.2 公里，景點間通勤約需25 分鐘。\n",
      "---------------\n",
      "台場海洋城 Aqua City Odaiba約5.4 公里，景點間通勤約需17 分鐘。\n",
      "---------------\n",
      "江戶川區自然動物園 Edogawa Natural Zoo約18.6 公里，景點間通勤約需25 分鐘。\n",
      "---------------\n",
      "\n",
      "地圖連結：https://45a28610.ngrok.io/images/day6-U374824a0557f0767db8c194dae6c6002-1574398137460map.html\n",
      "===============\n",
      " \n",
      "=======================\n"
     ]
    },
    {
     "name": "stderr",
     "output_type": "stream",
     "text": [
      "172.18.0.6 - - [22/Nov/2019 04:50:41] \"POST / HTTP/1.1\" 200 -\n"
     ]
    },
    {
     "name": "stdout",
     "output_type": "stream",
     "text": [
      "type ==> <class 'linebot.exceptions.LineBotApiError'>\n",
      "value ==> LineBotApiError: status_code=400, error_response={\"details\": [], \"message\": \"Invalid reply token\"}\n",
      "traceback ==> file name: <ipython-input-25-a23c8ff16dbb>\n",
      "traceback ==> line no: 156\n",
      "traceback ==> function name: handle_message\n",
      "::tripStart:\n",
      "Erving,U374824a0557f0767db8c194dae6c6002\n",
      "{\"data\": \"restaurant\"}\n",
      "1574398138701,2019-11-22 04:48:58.701000\n",
      "{'age': 7, 'been2tko': 1, 'days': 7, 'totalBudget': 40000, 'gender': 0, 'oneBudget': 200}\n",
      "14 [{'age': 43, 'cp_rating_dinner': 4.04, 'cp_rating_lunch': 3.98, 'feeling_rating_dinner': 3.98, 'feeling_rating_lunch': 4.11, 'female_prop': 23.77, 'label_code': 1, 'label_desc': '平消族', 'lat': 35.6710497, 'lng': 139.7637161, 'male_prop': 76.23, 'meal_duration': 1.0, 'prices_dinner': 4961, 'prices_lunch': 425, 'rest_addr': '東京都中央區銀座5-6-14', 'rest_area': '銀座', 'rest_catg': '壽司', 'rest_rating': 3.82, 'service_rating_dinner': 3.9, 'service_rating_lunch': 4.08, 'store_nm_en': 'Ginzasushiwatanabe', 'store_nm_jp': '銀座 鮨 わたなべ', 'transport': '距离銀座 100  米'}, {'age': 37, 'cp_rating_dinner': 4.11, 'cp_rating_lunch': 4.09, 'feeling_rating_dinner': 3.9, 'feeling_rating_lunch': 4.01, 'female_prop': 23.89, 'label_code': 1, 'label_desc': '平消族', 'lat': 35.661919, 'lng': 139.7540415, 'male_prop': 76.11, 'meal_duration': 1.0, 'prices_dinner': 4961, 'prices_lunch': 425, 'rest_addr': '東京都港區新橋6-13-3', 'rest_area': '濱松町・芝公園', 'rest_catg': '壽司', 'rest_rating': 3.97, 'service_rating_dinner': 3.77, 'service_rating_lunch': 4.03, 'store_nm_en': 'Tomidokoro', 'store_nm_jp': '冨所', 'transport': '距离御成門 290  米'}, {'age': 39, 'cp_rating_dinner': 4.05, 'cp_rating_lunch': 4.25, 'feeling_rating_dinner': 3.45, 'feeling_rating_lunch': 3.62, 'female_prop': 23.53, 'label_code': 1, 'label_desc': '平消族', 'lat': 35.6940309, 'lng': 139.7537719, 'male_prop': 76.47, 'meal_duration': 1.0, 'prices_dinner': 1984, 'prices_lunch': 709, 'rest_addr': '東京都韆代田區汍の內2-6-1', 'rest_area': '丸之內・大手町', 'rest_catg': '壽司/和式餐馆 / 小菜/魚類料理・海鮮料理', 'rest_rating': 3.79, 'service_rating_dinner': 3.66, 'service_rating_lunch': 3.83, 'store_nm_en': 'Mantenzushi', 'store_nm_jp': 'まんてん鮨 丸の内', 'transport': 'ＪＲ東京駅南口：徒歩5分\\u3000\\nＪＲ有楽町駅国際フォーラム口：徒歩5分\\u3000\\n地下鉄千代田線二重橋前駅3番出口：徒歩3分\\u3000\\n\\n\\n距离二重橋前 178  米'}, {'age': 36, 'cp_rating_dinner': 3.75, 'cp_rating_lunch': 4.29, 'feeling_rating_dinner': 4.46, 'feeling_rating_lunch': 4.3, 'female_prop': 24.22, 'label_code': 0, 'label_desc': '高消族', 'lat': 35.6853727, 'lng': 139.7287997, 'male_prop': 75.78, 'meal_duration': 1.0, 'prices_dinner': 19843, 'prices_lunch': 9922, 'rest_addr': '東京都新宿區四穀1-9-4', 'rest_area': '四之谷', 'rest_catg': '天婦羅/和式餐馆 / 小菜', 'rest_rating': 4.53, 'service_rating_dinner': 4.39, 'service_rating_lunch': 4.3, 'store_nm_en': 'Kusunoki', 'store_nm_jp': 'くすのき', 'transport': '四谷駅より徒歩３分\\n\\n\\n距离四谷 224  米'}, {'age': 43, 'cp_rating_dinner': 3.23, 'cp_rating_lunch': 3.36, 'feeling_rating_dinner': 3.45, 'feeling_rating_lunch': 3.59, 'female_prop': 23.6, 'label_code': 1, 'label_desc': '平消族', 'lat': 35.6567517, 'lng': 139.7328867, 'male_prop': 76.4, 'meal_duration': 1.0, 'prices_dinner': 992, 'prices_lunch': 425, 'rest_addr': '東京都港區元痲佈3-11-4', 'rest_area': '麻布十番', 'rest_catg': '蕎麥麵/懷石 / 會席料理/天婦羅・油炸食品（其他）', 'rest_rating': 3.79, 'service_rating_dinner': 3.39, 'service_rating_lunch': 3.51, 'store_nm_en': 'Souhonkesarashinahorii', 'store_nm_jp': '総本家更科堀井 本店', 'transport': '東京メトロ南北線\\u3000都営大江戸線\\u3000麻布十番駅より歩いて5分程度\\n\\n\\n距离麻布十番 287  米'}, {'age': 40, 'cp_rating_dinner': 3.52, 'cp_rating_lunch': 3.7, 'feeling_rating_dinner': 3.75, 'feeling_rating_lunch': 3.74, 'female_prop': 24.31, 'label_code': 1, 'label_desc': '平消族', 'lat': 35.7159573, 'lng': 139.7936649, 'male_prop': 75.69, 'meal_duration': 1.0, 'prices_dinner': 1559, 'prices_lunch': 1276, 'rest_addr': '東京都檯東區淺草2-17-10', 'rest_area': '淺草', 'rest_catg': '壽喜燒/鍋類（其他）', 'rest_rating': 3.76, 'service_rating_dinner': 3.33, 'service_rating_lunch': 3.43, 'store_nm_en': 'Yonekyuuhonten', 'store_nm_jp': '米久本店', 'transport': 'つくばエクスプレス\\u3000浅草駅\\u3000徒歩３分\\n東京メトロ銀座線、東武伊勢崎線\\u3000浅草駅\\u3000徒歩９分\\n東京メトロ銀座線\\u3000田原町駅\\u3000徒歩９分\\n\\n\\n距离淺草 234  米'}, {'age': 40, 'cp_rating_dinner': 3.54, 'cp_rating_lunch': 3.59, 'feeling_rating_dinner': 3.31, 'feeling_rating_lunch': 3.27, 'female_prop': 21.79, 'label_code': 1, 'label_desc': '平消族', 'lat': 35.7107943, 'lng': 139.784484, 'male_prop': 78.21, 'meal_duration': 1.0, 'prices_dinner': 142, 'prices_lunch': 142, 'rest_addr': '東京都檯東區元淺草2-10-13', 'rest_area': '上野・御徒町・湯島', 'rest_catg': '拉麵', 'rest_rating': 3.75, 'service_rating_dinner': 3.47, 'service_rating_lunch': 3.5, 'store_nm_en': 'ra-meninariya', 'store_nm_jp': 'らーめん 稲荷屋', 'transport': '都道463号線沿い、「松が谷1丁目」交差点近く\\n稲荷町駅から181m\\n東京メトロ銀座線・稲荷町駅２番出口より徒歩3分\\nＪＲ・日比谷線\\u3000上野駅\\u3000徒歩13分\\n\\n\\n距离稻荷町 179  米'}, {'age': 42, 'cp_rating_dinner': 3.41, 'cp_rating_lunch': 3.34, 'feeling_rating_dinner': 3.41, 'feeling_rating_lunch': 3.51, 'female_prop': 23.79, 'label_code': 1, 'label_desc': '平消族', 'lat': 35.5493955, 'lng': 139.4470043, 'male_prop': 76.21, 'meal_duration': 1.0, 'prices_dinner': 142, 'prices_lunch': 425, 'rest_addr': '東京都町田市中町1-28-24', 'rest_area': '町田', 'rest_catg': '拉麵/沾麵', 'rest_rating': 3.87, 'service_rating_dinner': 3.3, 'service_rating_lunch': 3.29, 'store_nm_en': 'Ichibanichiban', 'store_nm_jp': '一番いちばん', 'transport': '小田急線町田駅北口から徒歩約10分\\n\\n\\n距离町田 822  米'}, {'age': 39, 'cp_rating_dinner': 3.38, 'cp_rating_lunch': 3.43, 'feeling_rating_dinner': 3.44, 'feeling_rating_lunch': 3.42, 'female_prop': 23.73, 'label_code': 1, 'label_desc': '平消族', 'lat': 35.5642016, 'lng': 139.7134663, 'male_prop': 76.27, 'meal_duration': 1.0, 'prices_dinner': 142, 'prices_lunch': 142, 'rest_addr': '東京都大田區西蒲田7-8-1', 'rest_area': '蒲田', 'rest_catg': '沾麵/拉麵', 'rest_rating': 3.85, 'service_rating_dinner': 3.49, 'service_rating_lunch': 3.52, 'store_nm_en': 'niboshitsukememmiyamoto', 'store_nm_jp': '煮干しつけ麺 宮元', 'transport': 'JR京浜東北線「蒲田」駅(西口)\\u3000から徒歩5分\\n\\n\\n距离蒲田 306  米'}, {'age': 37, 'cp_rating_dinner': 3.91, 'cp_rating_lunch': 3.86, 'feeling_rating_dinner': 3.47, 'feeling_rating_lunch': 3.47, 'female_prop': 24.19, 'label_code': 0, 'label_desc': '高消族', 'lat': 35.6768685, 'lng': 139.7362442, 'male_prop': 75.81, 'meal_duration': 1.0, 'prices_dinner': 4961, 'prices_lunch': 425, 'rest_addr': '東京都港區赤坂3-9-12', 'rest_area': '赤坂', 'rest_catg': '燒肉/牛肉料理/烤內臟', 'rest_rating': 4.36, 'service_rating_dinner': 4.0, 'service_rating_lunch': 3.7, 'store_nm_en': 'Akasakaraimon', 'store_nm_jp': '赤坂 らいもん', 'transport': '距离赤坂見附 94  米'}, {'age': 45, 'cp_rating_dinner': 4.26, 'cp_rating_lunch': 4.05, 'feeling_rating_dinner': 3.85, 'feeling_rating_lunch': 3.72, 'female_prop': 24.33, 'label_code': 1, 'label_desc': '平消族', 'lat': 35.7458335, 'lng': 139.8054129, 'male_prop': 75.67, 'meal_duration': 1.0, 'prices_dinner': 142, 'prices_lunch': 709, 'rest_addr': '東京都足立區韆住東2-2-1', 'rest_area': '北千住', 'rest_catg': '豆腐料理・油豆腐料理/懷石 / 會席料理', 'rest_rating': 3.76, 'service_rating_dinner': 3.9, 'service_rating_lunch': 3.82, 'store_nm_en': 'Uzukino', 'store_nm_jp': '宇豆基野 本店', 'transport': '北千住駅から徒歩7分\\n\\n\\n距离北千住 384  米'}, {'age': 41, 'cp_rating_dinner': 3.53, 'cp_rating_lunch': 3.57, 'feeling_rating_dinner': 3.48, 'feeling_rating_lunch': 3.45, 'female_prop': 23.67, 'label_code': 1, 'label_desc': '平消族', 'lat': 35.6748352, 'lng': 139.7124523, 'male_prop': 76.33, 'meal_duration': 1.0, 'prices_dinner': 425, 'prices_lunch': 142, 'rest_addr': '東京都澀穀區神宮前2-13-2', 'rest_area': '千駄谷・信濃町', 'rest_catg': '印度咖哩/酒吧/咖哩飯', 'rest_rating': 3.78, 'service_rating_dinner': 3.25, 'service_rating_lunch': 3.23, 'store_nm_en': 'HENDRIX CURRY BAR', 'store_nm_jp': 'ヘンドリクス カリー バー', 'transport': '渋谷駅から早稲田行き都バス、目黒駅から千駄ヶ谷駅行き都バスで、「霞ヶ丘団地」停下車、すぐ。\\n原宿駅から歩いて15分\\n千駄ヶ谷駅から歩いて12分\\n外苑前駅から歩いて12分\\n北参道駅から10分\\n\\n\\n距离國立競技場 590  米'}, {'age': 44, 'cp_rating_dinner': 3.29, 'cp_rating_lunch': 3.37, 'feeling_rating_dinner': 3.73, 'feeling_rating_lunch': 3.78, 'female_prop': 23.34, 'label_code': 1, 'label_desc': '平消族', 'lat': 35.7226253, 'lng': 139.7124928, 'male_prop': 76.66, 'meal_duration': 1.0, 'prices_dinner': 992, 'prices_lunch': 992, 'rest_addr': '東京都豐島區雜司が穀3-12-3', 'rest_area': '目白', 'rest_catg': '蕎麥麵', 'rest_rating': 3.77, 'service_rating_dinner': 3.72, 'service_rating_lunch': 3.76, 'store_nm_en': 'Sobadokoro Wamura', 'store_nm_jp': 'そば処 和邑', 'transport': '東京メトロ副都心線【雑司が谷駅】徒歩５分\\n都電荒川線【鬼子母神前停留所】徒歩４分\\n西武池袋線【池袋駅】徒歩８分\\nＪＲ山手線ほか【池袋駅】東口\\u3000徒歩12分\\n有楽町線【東池袋駅】徒歩16分\\n\\u3000☆☆☆\\nJR目白駅より、都バス新宿駅西口行「鬼子母神前」下車。\\nJR池袋駅東口より都バス、西武バスで、目白方面行または新宿・渋谷方面行、「東京音大前」\\n\\n\\n距离雜司谷 323  米'}, {'age': 43, 'cp_rating_dinner': 3.24, 'cp_rating_lunch': 3.35, 'feeling_rating_dinner': 3.67, 'feeling_rating_lunch': 3.82, 'female_prop': 23.28, 'label_code': 1, 'label_desc': '平消族', 'lat': 35.6812097, 'lng': 139.7747558, 'male_prop': 76.72, 'meal_duration': 1.0, 'prices_dinner': 1984, 'prices_lunch': 425, 'rest_addr': '東京都中央區日本橋2-9-9', 'rest_area': '日本橋・京橋', 'rest_catg': '魚類料理・海鮮料理/星鰻/天婦羅', 'rest_rating': 3.77, 'service_rating_dinner': 3.39, 'service_rating_lunch': 3.56, 'store_nm_en': 'Tamai', 'store_nm_jp': '玉ゐ 本店', 'transport': 'ＪＲ東京駅八重洲口から高島屋デパート方面へ徒歩8分。東京メトロ銀座線・東西線、都営浅草線日本橋駅から徒歩3分。\\n\\n\\n距离日本橋 106  米'}]\n"
     ]
    },
    {
     "name": "stderr",
     "output_type": "stream",
     "text": [
      "172.18.0.6 - - [22/Nov/2019 04:50:42] \"POST / HTTP/1.1\" 200 -\n"
     ]
    },
    {
     "name": "stdout",
     "output_type": "stream",
     "text": [
      "type ==> <class 'linebot.exceptions.LineBotApiError'>\n",
      "value ==> LineBotApiError: status_code=400, error_response={\"details\": [], \"message\": \"Invalid reply token\"}\n",
      "traceback ==> file name: <ipython-input-25-a23c8ff16dbb>\n",
      "traceback ==> line no: 208\n",
      "traceback ==> function name: handle_message\n",
      "::restaurant:\n",
      "Erving,U374824a0557f0767db8c194dae6c6002\n",
      "{\"data\": \"restaurant\"}\n",
      "1574398139431,2019-11-22 04:48:59.431000\n",
      "{'age': 7, 'been2tko': 1, 'days': 7, 'totalBudget': 40000, 'gender': 0, 'oneBudget': 200}\n",
      "14 [{'age': 41, 'cp_rating_dinner': 3.81, 'cp_rating_lunch': 4.23, 'feeling_rating_dinner': 3.98, 'feeling_rating_lunch': 4.83, 'female_prop': 24.18, 'label_code': 0, 'label_desc': '高消族', 'lat': 35.6676318, 'lng': 139.7179215, 'male_prop': 75.82, 'meal_duration': 1.0, 'prices_dinner': 7087, 'prices_lunch': 425, 'rest_addr': '東京都港區南青山3-2-8', 'rest_area': '青山一丁目・外苑前', 'rest_catg': '壽司', 'rest_rating': 4.39, 'service_rating_dinner': 4.21, 'service_rating_lunch': 4.83, 'store_nm_en': 'Umi', 'store_nm_jp': '海味', 'transport': '外苑前駅1a出口より徒歩10分\\n\\n\\n距离外苑前 303  米'}, {'age': 39, 'cp_rating_dinner': 3.92, 'cp_rating_lunch': 4.2, 'feeling_rating_dinner': 4.04, 'feeling_rating_lunch': 4.12, 'female_prop': 24.2, 'label_code': 0, 'label_desc': '高消族', 'lat': 35.6853727, 'lng': 139.7287997, 'male_prop': 75.8, 'meal_duration': 1.0, 'prices_dinner': 7087, 'prices_lunch': 709, 'rest_addr': '東京都新宿區四穀1-11', 'rest_area': '四之谷', 'rest_catg': '壽司', 'rest_rating': 4.49, 'service_rating_dinner': 4.22, 'service_rating_lunch': 4.16, 'store_nm_en': 'Sushi Sho', 'store_nm_jp': 'すし匠', 'transport': 'ＪＲ中央線、東京メトロ丸ノ内線・南北線【四ツ谷駅】徒歩4分\\n\\n\\n距离四谷 193  米'}, {'age': 41, 'cp_rating_dinner': 4.16, 'cp_rating_lunch': 4.49, 'feeling_rating_dinner': 4.25, 'feeling_rating_lunch': 4.36, 'female_prop': 24.26, 'label_code': 0, 'label_desc': '高消族', 'lat': 35.6656121, 'lng': 139.7394464, 'male_prop': 75.74, 'meal_duration': 1.0, 'prices_dinner': 7087, 'prices_lunch': 3543, 'rest_addr': '東京都港區六本木1-4-5', 'rest_area': '溜池山王・霞之關', 'rest_catg': '壽司', 'rest_rating': 4.74, 'service_rating_dinner': 4.37, 'service_rating_lunch': 4.5, 'store_nm_en': 'Saito', 'store_nm_jp': '鮨 さいとう', 'transport': '溜池山王駅徒歩5分\\n虎ノ門駅徒歩8分\\n\\n\\n距离六本木一丁目 60  米'}, {'age': 41, 'cp_rating_dinner': 3.81, 'cp_rating_lunch': 4.09, 'feeling_rating_dinner': 3.65, 'feeling_rating_lunch': 3.76, 'female_prop': 23.81, 'label_code': 1, 'label_desc': '平消族', 'lat': 35.6677127, 'lng': 139.7705748, 'male_prop': 76.19, 'meal_duration': 1.0, 'prices_dinner': 4961, 'prices_lunch': 2551, 'rest_addr': '東京都中央區築地2-14-2', 'rest_area': '築地', 'rest_catg': '天婦羅', 'rest_rating': 3.82, 'service_rating_dinner': 3.57, 'service_rating_lunch': 3.61, 'store_nm_en': 'Nakagawa', 'store_nm_jp': 'なかがわ', 'transport': '築地駅２番出口より徒歩２分、１番出口から徒歩３分。\\n築地の小学校（？）のフェンスを右手に歩くと左側にあります。\\n\\n\\n距离築地 188  米'}, {'age': 43, 'cp_rating_dinner': 3.92, 'cp_rating_lunch': 4.83, 'feeling_rating_dinner': 4.13, 'feeling_rating_lunch': 5.0, 'female_prop': 24.16, 'label_code': 0, 'label_desc': '高消族', 'lat': 35.6948689, 'lng': 139.7171534, 'male_prop': 75.84, 'meal_duration': 1.0, 'prices_dinner': 7087, 'prices_lunch': 425, 'rest_addr': '東京都新宿區餘丁町1-14', 'rest_area': '曙橋・四之谷三丁目', 'rest_catg': '天婦羅', 'rest_rating': 4.25, 'service_rating_dinner': 4.17, 'service_rating_lunch': 5.0, 'store_nm_en': 'Kyorakutei', 'store_nm_jp': '天ぷら 蕎楽亭', 'transport': '距离若松河田 479  米'}, {'age': 42, 'cp_rating_dinner': 3.56, 'cp_rating_lunch': 2.9, 'feeling_rating_dinner': 4.02, 'feeling_rating_lunch': 4.6, 'female_prop': 23.79, 'label_code': 1, 'label_desc': '平消族', 'lat': 35.6857974, 'lng': 139.7830806, 'male_prop': 76.21, 'meal_duration': 1.0, 'prices_dinner': 4961, 'prices_lunch': 3543, 'rest_addr': '東京都中央區日本橋人形町2-5-1', 'rest_area': '人形町・小傳馬町', 'rest_catg': '壽喜燒/和式餐馆 / 小菜', 'rest_rating': 3.82, 'service_rating_dinner': 3.88, 'service_rating_lunch': 4.4, 'store_nm_en': 'sukiyakikappouhiyama', 'store_nm_jp': 'すき焼割烹 日山', 'transport': '東京メトロ日比谷線・都営浅草線「人形町」駅より徒歩2分。\\n東京メトロ半蔵門線「水天宮」駅より徒歩5分\\n都営新宿線「浜町」駅より徒歩7分\\n\\n\\n距离人形町 66  米'}, {'age': 39, 'cp_rating_dinner': 3.31, 'cp_rating_lunch': 3.36, 'feeling_rating_dinner': 3.46, 'feeling_rating_lunch': 3.41, 'female_prop': 23.27, 'label_code': 1, 'label_desc': '平消族', 'lat': 35.690502, 'lng': 139.721701, 'male_prop': 76.73, 'meal_duration': 1.0, 'prices_dinner': 142, 'prices_lunch': 142, 'rest_addr': '東京都新宿區舟町12-13', 'rest_area': '曙橋・四之谷三丁目', 'rest_catg': '拉麵/沾麵', 'rest_rating': 3.76, 'service_rating_dinner': 3.45, 'service_rating_lunch': 2.97, 'store_nm_en': 'taishiosobatouka', 'store_nm_jp': '鯛塩そば 灯花 本店', 'transport': '都営地下鉄新宿線【曙橋駅】徒歩２分\\n東京メトロ丸ノ内線【四谷三丁目駅】徒歩４分\\n\\n\\n距离曙橋 179  米'}, {'age': 37, 'cp_rating_dinner': 3.94, 'cp_rating_lunch': 4.1, 'feeling_rating_dinner': 3.31, 'feeling_rating_lunch': 3.39, 'female_prop': 23.93, 'label_code': 1, 'label_desc': '平消族', 'lat': 35.629515, 'lng': 139.401367, 'male_prop': 76.07, 'meal_duration': 1.0, 'prices_dinner': 142, 'prices_lunch': 142, 'rest_addr': '東京都八王子市堀之內2-13-16', 'rest_area': '八王子', 'rest_catg': '拉麵', 'rest_rating': 3.77, 'service_rating_dinner': 3.36, 'service_rating_lunch': 3.4, 'store_nm_en': 'Ramenjirou', 'store_nm_jp': 'ラーメン二郎 八王子野猿街道店 ２', 'transport': '京王相模原線「京王堀之内駅」より、徒歩10分\\n京王バス・神奈川中央交通バス「由木堀の内」下車、徒歩3分\\n\\n\\n距离京王堀之內 555  米'}, {'age': 40, 'cp_rating_dinner': 3.51, 'cp_rating_lunch': 3.61, 'feeling_rating_dinner': 3.5, 'feeling_rating_lunch': 3.59, 'female_prop': 23.76, 'label_code': 1, 'label_desc': '平消族', 'lat': 35.6705233, 'lng': 139.6223944, 'male_prop': 76.24, 'meal_duration': 1.0, 'prices_dinner': 142, 'prices_lunch': 142, 'rest_addr': '東京都世田穀區上北澤4-19-18', 'rest_area': '下高井戶～千歲烏山', 'rest_catg': '拉麵', 'rest_rating': 3.82, 'service_rating_dinner': 3.5, 'service_rating_lunch': 3.68, 'store_nm_en': 'Ramenkoike', 'store_nm_jp': 'らぁめん小池', 'transport': '京王本線「上北沢」駅(北口)より、徒歩４分\\n\\n\\n距离上北澤 202  米'}, {'age': 33, 'cp_rating_dinner': 4.02, 'cp_rating_lunch': 4.76, 'feeling_rating_dinner': 4.24, 'feeling_rating_lunch': 4.76, 'female_prop': 24.16, 'label_code': 0, 'label_desc': '高消族', 'lat': 35.6693111, 'lng': 139.7620223, 'male_prop': 75.84, 'meal_duration': 1.0, 'prices_dinner': 4961, 'prices_lunch': 425, 'rest_addr': '東京都中央區銀座7-7-7', 'rest_area': '銀座', 'rest_catg': '燒肉/牛排/和式餐馆 / 小菜', 'rest_rating': 4.26, 'service_rating_dinner': 4.41, 'service_rating_lunch': 4.76, 'store_nm_en': 'USHIGORO S', 'store_nm_jp': 'USHIGORO S. GINZA', 'transport': '東京メトロ 銀座線、日比谷線、丸ノ内線\\n銀座駅 B3番出口より徒歩3分 / A1番出口より徒歩5分\\n東京メトロ 日比谷線、浅草線\\n東銀座駅 A1番出口より徒歩7分\\nJR有楽町駅 中央口より徒歩7分\\nJR新橋駅 銀座口より徒歩8分\\n\\n\\n距离銀座 345  米'}, {'age': 42, 'cp_rating_dinner': 3.67, 'cp_rating_lunch': 4.24, 'feeling_rating_dinner': 4.06, 'feeling_rating_lunch': 4.5, 'female_prop': 23.91, 'label_code': 0, 'label_desc': '高消族', 'lat': 35.6695101, 'lng': 139.7597287, 'male_prop': 76.09, 'meal_duration': 1.0, 'prices_dinner': 12756, 'prices_lunch': 425, 'rest_addr': '東京都中央區銀座8-2-8', 'rest_area': '新橋・汐留', 'rest_catg': '牛排', 'rest_rating': 3.98, 'service_rating_dinner': 4.25, 'service_rating_lunch': 4.5, 'store_nm_en': 'TROIS FLECHES', 'store_nm_jp': 'トロワフレーシュ', 'transport': 'JR新橋駅銀座口より徒歩4分\\n東京メトロ銀座駅C3番出口より徒歩6分\\n都営三田線内幸町駅A5番出口より徒歩4分\\nホテル日航銀座前、京都新聞とNTTの間を入り突き当たりのビルの２階\\n\\n\\n距离內幸町 347  米'}, {'age': 43, 'cp_rating_dinner': 3.34, 'cp_rating_lunch': 3.52, 'feeling_rating_dinner': 3.16, 'feeling_rating_lunch': 3.38, 'female_prop': 23.78, 'label_code': 1, 'label_desc': '平消族', 'lat': 35.6962822, 'lng': 139.7691815, 'male_prop': 76.22, 'meal_duration': 1.0, 'prices_dinner': 142, 'prices_lunch': 425, 'rest_addr': '東京都韆代田區神田須田町1-11', 'rest_area': '神田・御茶之水', 'rest_catg': '咖哩飯/印度咖哩/日式小酒館', 'rest_rating': 3.82, 'service_rating_dinner': 3.24, 'service_rating_lunch': 3.31, 'store_nm_en': 'Topuka', 'store_nm_jp': 'トプカ 神田本店', 'transport': '東京メトロ丸ノ内線【淡路町駅】徒歩２分\\n都営地下鉄新宿線【小川町駅】徒歩３分\\n東京メトロ銀座線【神田駅】徒歩４分\\nＪＲ中央線【神田駅】徒歩７分\\n\\n\\n距离淡路町 197  米'}, {'age': 45, 'cp_rating_dinner': 3.82, 'cp_rating_lunch': 3.81, 'feeling_rating_dinner': 3.67, 'feeling_rating_lunch': 3.81, 'female_prop': 23.59, 'label_code': 1, 'label_desc': '平消族', 'lat': 35.6677831, 'lng': 139.7526813, 'male_prop': 76.41, 'meal_duration': 1.0, 'prices_dinner': 1984, 'prices_lunch': 425, 'rest_addr': '東京都港區西新橋1-19-10', 'rest_area': '溜池山王・霞之關', 'rest_catg': '蕎麥麵/日本酒', 'rest_rating': 3.8, 'service_rating_dinner': 3.57, 'service_rating_lunch': 3.54, 'store_nm_en': 'Sobakirisaketaigu', 'store_nm_jp': '蕎麦切り 酒 大愚', 'transport': '内幸町A3出口から徒歩3分\\n虎ノ門駅1番出口から徒歩5分\\n新橋駅烏森口から徒歩8分\\n\\n\\n距离虎之門 359  米'}, {'age': 43, 'cp_rating_dinner': 3.24, 'cp_rating_lunch': 3.35, 'feeling_rating_dinner': 3.67, 'feeling_rating_lunch': 3.82, 'female_prop': 23.28, 'label_code': 1, 'label_desc': '平消族', 'lat': 35.6812097, 'lng': 139.7747558, 'male_prop': 76.72, 'meal_duration': 1.0, 'prices_dinner': 1984, 'prices_lunch': 425, 'rest_addr': '東京都中央區日本橋2-9-9', 'rest_area': '日本橋・京橋', 'rest_catg': '魚類料理・海鮮料理/星鰻/天婦羅', 'rest_rating': 3.77, 'service_rating_dinner': 3.39, 'service_rating_lunch': 3.56, 'store_nm_en': 'Tamai', 'store_nm_jp': '玉ゐ 本店', 'transport': 'ＪＲ東京駅八重洲口から高島屋デパート方面へ徒歩8分。東京メトロ銀座線・東西線、都営浅草線日本橋駅から徒歩3分。\\n\\n\\n距离日本橋 106  米'}]\n"
     ]
    },
    {
     "name": "stderr",
     "output_type": "stream",
     "text": [
      "172.18.0.6 - - [22/Nov/2019 04:50:43] \"POST / HTTP/1.1\" 200 -\n",
      "172.18.0.6 - - [22/Nov/2019 04:50:43] \"GET /images/day1-U374824a0557f0767db8c194dae6c6002-1574398131470map.html HTTP/1.1\" 206 -\n",
      "172.18.0.6 - - [22/Nov/2019 04:50:43] \"GET /images/day1-U374824a0557f0767db8c194dae6c6002-1574398131470map.html HTTP/1.1\" 206 -\n",
      "172.18.0.6 - - [22/Nov/2019 04:50:43] \"GET /images/day2-U374824a0557f0767db8c194dae6c6002-1574398131470map.html HTTP/1.1\" 206 -\n",
      "172.18.0.6 - - [22/Nov/2019 04:50:43] \"GET /images/day2-U374824a0557f0767db8c194dae6c6002-1574398131470map.html HTTP/1.1\" 206 -\n",
      "172.18.0.6 - - [22/Nov/2019 04:50:43] \"GET /images/day3-U374824a0557f0767db8c194dae6c6002-1574398131470map.html HTTP/1.1\" 206 -\n",
      "172.18.0.6 - - [22/Nov/2019 04:50:43] \"GET /images/day4-U374824a0557f0767db8c194dae6c6002-1574398131470map.html HTTP/1.1\" 206 -\n",
      "172.18.0.6 - - [22/Nov/2019 04:50:43] \"GET /images/day3-U374824a0557f0767db8c194dae6c6002-1574398131470map.html HTTP/1.1\" 206 -\n",
      "172.18.0.6 - - [22/Nov/2019 04:50:43] \"GET /images/day5-U374824a0557f0767db8c194dae6c6002-1574398131470map.html HTTP/1.1\" 206 -\n",
      "172.18.0.6 - - [22/Nov/2019 04:50:43] \"GET /images/day4-U374824a0557f0767db8c194dae6c6002-1574398131470map.html HTTP/1.1\" 206 -\n",
      "172.18.0.6 - - [22/Nov/2019 04:50:43] \"GET /images/day6-U374824a0557f0767db8c194dae6c6002-1574398131470map.html HTTP/1.1\" 206 -\n",
      "172.18.0.6 - - [22/Nov/2019 04:50:43] \"GET /images/day5-U374824a0557f0767db8c194dae6c6002-1574398131470map.html HTTP/1.1\" 206 -\n",
      "172.18.0.6 - - [22/Nov/2019 04:50:43] \"GET /images/day6-U374824a0557f0767db8c194dae6c6002-1574398131470map.html HTTP/1.1\" 206 -\n"
     ]
    },
    {
     "name": "stdout",
     "output_type": "stream",
     "text": [
      "type ==> <class 'linebot.exceptions.LineBotApiError'>\n",
      "value ==> LineBotApiError: status_code=400, error_response={\"details\": [], \"message\": \"Invalid reply token\"}\n",
      "traceback ==> file name: <ipython-input-25-a23c8ff16dbb>\n",
      "traceback ==> line no: 208\n",
      "traceback ==> function name: handle_message\n",
      "::restaurant:\n"
     ]
    },
    {
     "name": "stderr",
     "output_type": "stream",
     "text": [
      "172.18.0.6 - - [22/Nov/2019 04:51:51] \"GET /images/day1-U374824a0557f0767db8c194dae6c6002-1574398132071map.html HTTP/1.1\" 206 -\n",
      "172.18.0.6 - - [22/Nov/2019 04:51:52] \"GET /images/day1-U374824a0557f0767db8c194dae6c6002-1574398132071map.html HTTP/1.1\" 200 -\n",
      "172.18.0.6 - - [22/Nov/2019 04:51:56] \"GET /images/day2-U374824a0557f0767db8c194dae6c6002-1574398132071map.html HTTP/1.1\" 206 -\n",
      "172.18.0.6 - - [22/Nov/2019 04:51:57] \"GET /images/day2-U374824a0557f0767db8c194dae6c6002-1574398132071map.html HTTP/1.1\" 200 -\n",
      "172.18.0.6 - - [22/Nov/2019 04:51:59] \"GET /images/day3-U374824a0557f0767db8c194dae6c6002-1574398132071map.html HTTP/1.1\" 206 -\n",
      "172.18.0.6 - - [22/Nov/2019 04:52:00] \"GET /images/day3-U374824a0557f0767db8c194dae6c6002-1574398132071map.html HTTP/1.1\" 200 -\n",
      "172.18.0.6 - - [22/Nov/2019 04:52:04] \"GET /images/day4-U374824a0557f0767db8c194dae6c6002-1574398132071map.html HTTP/1.1\" 206 -\n",
      "172.18.0.6 - - [22/Nov/2019 04:52:05] \"GET /images/day4-U374824a0557f0767db8c194dae6c6002-1574398132071map.html HTTP/1.1\" 200 -\n",
      "172.18.0.6 - - [22/Nov/2019 04:52:08] \"GET /images/day5-U374824a0557f0767db8c194dae6c6002-1574398132071map.html HTTP/1.1\" 206 -\n",
      "172.18.0.6 - - [22/Nov/2019 04:52:09] \"GET /images/day5-U374824a0557f0767db8c194dae6c6002-1574398132071map.html HTTP/1.1\" 200 -\n",
      "172.18.0.6 - - [22/Nov/2019 04:52:12] \"GET /images/day6-U374824a0557f0767db8c194dae6c6002-1574398132071map.html HTTP/1.1\" 206 -\n",
      "172.18.0.6 - - [22/Nov/2019 04:52:13] \"GET /images/day6-U374824a0557f0767db8c194dae6c6002-1574398132071map.html HTTP/1.1\" 200 -\n"
     ]
    },
    {
     "name": "stdout",
     "output_type": "stream",
     "text": [
      "{'age': 7, 'been2tko': 1, 'days': 7, 'budget': 40000, 'isFemale': 0}\n",
      "10 [{'Types': '餅乾類', 'address': '東京駅大丸東京4F', 'price': 1250, 'ranking': 41, 'souvenir': '東京カンパネラ「東京カンパネラ・ショコラ」', 'url': 'http://hacci1912.com/'}, {'Types': '餅乾類', 'address': '渋谷駅渋谷ヒカリエShinQs_B2F', 'price': 648, 'ranking': 57, 'souvenir': '桂新堂「渋谷えびせんべい」', 'url': 'http://www.keishindo.co.jp'}, {'Types': '餅乾類', 'address': '銀座駅松屋銀座B1F', 'price': 2160, 'ranking': 22, 'souvenir': 'BABBI銀座松屋「グランワッフェリーニ セット」', 'url': 'http://www.babbi.co.jp'}, {'Types': '小蛋糕類', 'address': '東京駅大丸東京1F', 'price': 1080, 'ranking': 93, 'souvenir': 'メサージュ・ド・ローズ「コーン・フルーリ」', 'url': 'http://wp.mesrose.com/'}, {'Types': '點心類', 'address': '渋谷駅渋谷マークシティB1F', 'price': 1188, 'ranking': 65, 'souvenir': '両口屋是清「ささらがた」', 'url': 'http://www.ryoguchiya-korekiyo.com/products/list.php?category_id=55'}, {'Types': '點心類', 'address': '新宿駅小田急百貨店本館B2F', 'price': 216, 'ranking': 84, 'souvenir': 'モロゾフ「カスタードプリン」', 'url': 'http://www.morozoff.co.jp/products/pudding/'}, {'Types': '巧克力類', 'address': '銀座駅松屋銀座B1F', 'price': 675, 'ranking': 48, 'souvenir': 'ラ･メゾン･デュ･ショコラ「ショコラ」', 'url': 'http://www.lamaisonduchocolat.co.jp/ja_jp/'}, {'Types': '巧克力類', 'address': '羽田空港第2旅客ターミナル2F東京食賓館[3番時計台前]', 'price': 1404, 'ranking': 38, 'souvenir': 'ピエール・マルコリーニ「マルコリーニ・マドレーヌ・ショコラ」', 'url': 'https://store.c-c-c.co.jp/DefaultBrandTop.aspx'}, {'Types': '夾心餅乾類', 'address': '新宿駅NEWoman（ニュウマン）エキナカ2F', 'price': 864, 'ranking': 3, 'souvenir': 'Butter_Butler（バターバトラー）「バターフィナンシェ」', 'url': 'http://andthefriet.com/driedfriet/'}, {'Types': '夾心餅乾類', 'address': '池袋駅周辺東京都豊島区西池袋3-4-6今村ビル1F', 'price': 240, 'ranking': 16, 'souvenir': 'La_Famille「シフォンケーキ」', 'url': 'http://www.ikesen.net/cafe/La%20Famille/index.html'}]\n"
     ]
    },
    {
     "name": "stderr",
     "output_type": "stream",
     "text": [
      "172.18.0.6 - - [22/Nov/2019 04:52:33] \"POST / HTTP/1.1\" 200 -\n"
     ]
    },
    {
     "name": "stdout",
     "output_type": "stream",
     "text": [
      "::souvenir:\n"
     ]
    },
    {
     "name": "stderr",
     "output_type": "stream",
     "text": [
      "172.18.0.6 - - [22/Nov/2019 04:52:34] \"POST / HTTP/1.1\" 200 -\n"
     ]
    },
    {
     "name": "stdout",
     "output_type": "stream",
     "text": [
      "Erving,U374824a0557f0767db8c194dae6c6002\n",
      "{\"data\": \"souvenir\"}\n",
      "1574398352940,2019-11-22 04:52:32.940000\n"
     ]
    },
    {
     "name": "stderr",
     "output_type": "stream",
     "text": [
      "172.18.0.6 - - [22/Nov/2019 05:35:33] \"POST / HTTP/1.1\" 200 -\n"
     ]
    },
    {
     "name": "stdout",
     "output_type": "stream",
     "text": [
      "歐科\n"
     ]
    },
    {
     "name": "stderr",
     "output_type": "stream",
     "text": [
      "172.18.0.6 - - [22/Nov/2019 05:39:25] \"POST / HTTP/1.1\" 200 -\n"
     ]
    },
    {
     "name": "stdout",
     "output_type": "stream",
     "text": [
      "安安\n"
     ]
    },
    {
     "name": "stderr",
     "output_type": "stream",
     "text": [
      "172.18.0.6 - - [22/Nov/2019 05:41:46] \"POST / HTTP/1.1\" 200 -\n"
     ]
    },
    {
     "name": "stdout",
     "output_type": "stream",
     "text": [
      "San-i,Udbb1b4f434ce9c4b43b92734b61f95d7\n",
      "{\"data\": \"restaurant\"}\n",
      "1574401305602,2019-11-22 05:41:45.602000\n",
      "{'age': 0, 'been2tko': 1, 'days': 7, 'totalBudget': 30000, 'gender': 0, 'oneBudget': 1000}\n",
      "14 [{'age': 36, 'cp_rating_dinner': 4.13, 'cp_rating_lunch': 4.71, 'feeling_rating_dinner': 4.06, 'feeling_rating_lunch': 4.64, 'female_prop': 24.22, 'label_code': 0, 'label_desc': '高消族', 'lat': 35.6473973, 'lng': 139.6951598, 'male_prop': 75.78, 'meal_duration': 1.0, 'prices_dinner': 7087, 'prices_lunch': 7087, 'rest_addr': '東京都目黑區青葉檯1-28-2', 'rest_area': '中目黒・祐天寺', 'rest_catg': '壽司', 'rest_rating': 4.54, 'service_rating_dinner': 4.18, 'service_rating_lunch': 4.5, 'store_nm_en': 'Takamitsu', 'store_nm_jp': '鮨 尚充', 'transport': '東急東横線、地下鉄日比谷線、中目黒駅下車。徒歩１０分\\n\\n\\n距离中目黑 491  米'}, {'age': 38, 'cp_rating_dinner': 4.13, 'cp_rating_lunch': 3.87, 'feeling_rating_dinner': 4.03, 'feeling_rating_lunch': 4.16, 'female_prop': 24.19, 'label_code': 0, 'label_desc': '高消族', 'lat': 35.6723944, 'lng': 139.7750346, 'male_prop': 75.81, 'meal_duration': 1.0, 'prices_dinner': 7087, 'prices_lunch': 7087, 'rest_addr': '東京都中央區新富 1-15-11', 'rest_area': '築地', 'rest_catg': '壽司', 'rest_rating': 4.39, 'service_rating_dinner': 4.08, 'service_rating_lunch': 4.07, 'store_nm_en': 'Hashimoto', 'store_nm_jp': '鮨 はしもと', 'transport': '新富町駅、八丁堀駅から徒歩3分。\\n\\n\\n距离新富町 238  米'}, {'age': 42, 'cp_rating_dinner': 3.97, 'cp_rating_lunch': 4.0, 'feeling_rating_dinner': 3.97, 'feeling_rating_lunch': 3.81, 'female_prop': 23.92, 'label_code': 1, 'label_desc': '平消族', 'lat': 35.6697444, 'lng': 139.7619383, 'male_prop': 76.08, 'meal_duration': 1.0, 'prices_dinner': 7087, 'prices_lunch': 425, 'rest_addr': '東京都中央區銀座7-6-5', 'rest_area': '銀座', 'rest_catg': '壽司', 'rest_rating': 3.78, 'service_rating_dinner': 3.98, 'service_rating_lunch': 4.0, 'store_nm_en': 'Sushi Take', 'store_nm_jp': '鮨竹', 'transport': '銀座駅A1出口より徒歩5分\\n\\n\\n距离銀座 310  米'}, {'age': 38, 'cp_rating_dinner': 3.91, 'cp_rating_lunch': 3.99, 'feeling_rating_dinner': 4.14, 'feeling_rating_lunch': 4.41, 'female_prop': 24.18, 'label_code': 0, 'label_desc': '高消族', 'lat': 35.6678322, 'lng': 139.7172361, 'male_prop': 75.82, 'meal_duration': 1.0, 'prices_dinner': 4961, 'prices_lunch': 425, 'rest_addr': '東京都港區南青山3-2-4', 'rest_area': '青山一丁目・外苑前', 'rest_catg': '天婦羅', 'rest_rating': 4.2, 'service_rating_dinner': 4.04, 'service_rating_lunch': 4.14, 'store_nm_en': 'Motoyoshi', 'store_nm_jp': '天ぷら 元吉', 'transport': '銀座線外苑前駅徒歩3分（神宮球場方向\\u3000１ａ出口）\\n\\n\\n距离外苑前 287  米'}, {'age': 38, 'cp_rating_dinner': 3.65, 'cp_rating_lunch': 3.85, 'feeling_rating_dinner': 3.34, 'feeling_rating_lunch': 3.37, 'female_prop': 23.79, 'label_code': 1, 'label_desc': '平消族', 'lat': 35.7155173, 'lng': 139.7065974, 'male_prop': 76.21, 'meal_duration': 1.0, 'prices_dinner': 709, 'prices_lunch': 425, 'rest_addr': '東京都豐島區高田3-17-8', 'rest_area': '高田馬場', 'rest_catg': '炸豬排', 'rest_rating': 3.91, 'service_rating_dinner': 3.39, 'service_rating_lunch': 3.38, 'store_nm_en': 'Tonta', 'store_nm_jp': 'とん太', 'transport': 'JR山手線・西武新宿線・東京メトロ東西線「高田馬場」駅から徒歩6分\\n\\n\\n距离高田馬場 413  米'}, {'age': 41, 'cp_rating_dinner': 3.44, 'cp_rating_lunch': 3.43, 'feeling_rating_dinner': 4.1, 'feeling_rating_lunch': 3.96, 'female_prop': 24.32, 'label_code': 1, 'label_desc': '平消族', 'lat': 35.7138661, 'lng': 139.7726182, 'male_prop': 75.68, 'meal_duration': 1.5, 'prices_dinner': 1984, 'prices_lunch': 992, 'rest_addr': '東京都檯東區上野公園4-59', 'rest_area': '上野・御徒町・湯島', 'rest_catg': '懷石 / 會席料理/壽喜燒/日式甜點店', 'rest_rating': 3.76, 'service_rating_dinner': 3.57, 'service_rating_lunch': 3.5, 'store_nm_en': 'Inshoutei', 'store_nm_jp': '韻松亭', 'transport': 'JR・東京メトロ銀座線上野駅：徒歩10分\\n京成線上野駅：徒歩７分\\n都営大江戸線御徒町駅・東京メトロ日比谷線上野駅：徒歩13分\\n\\n\\n距离京成上野 260  米'}, {'age': 39, 'cp_rating_dinner': 3.66, 'cp_rating_lunch': 3.56, 'feeling_rating_dinner': 3.56, 'feeling_rating_lunch': 3.41, 'female_prop': 24.04, 'label_code': 1, 'label_desc': '平消族', 'lat': 35.6457462, 'lng': 139.6746994, 'male_prop': 75.96, 'meal_duration': 1.0, 'prices_dinner': 142, 'prices_lunch': 142, 'rest_addr': '東京都世田穀區太子堂2-6-2', 'rest_area': '三軒茶屋', 'rest_catg': '拉麵/沾麵', 'rest_rating': 3.77, 'service_rating_dinner': 3.75, 'service_rating_lunch': 3.89, 'store_nm_en': 'Menwashou', 'store_nm_jp': 'めん和正', 'transport': '三軒茶屋駅から246沿いを渋谷方向へ徒歩７分くらい。左側。要注意看板は無い。\\n東急バス\\u3000昭和女子大前すぐ\\n\\n\\n距离三軒茶屋 381  米'}, {'age': 38, 'cp_rating_dinner': 3.21, 'cp_rating_lunch': 3.27, 'feeling_rating_dinner': 3.14, 'feeling_rating_lunch': 3.23, 'female_prop': 23.88, 'label_code': 1, 'label_desc': '平消族', 'lat': 35.6898738, 'lng': 139.7022762, 'male_prop': 76.12, 'meal_duration': 1.0, 'prices_dinner': 142, 'prices_lunch': 142, 'rest_addr': '東京都新宿區新宿3-35-7', 'rest_area': '新宿', 'rest_catg': '拉麵/日式小酒館/丼類（其他）', 'rest_rating': 3.77, 'service_rating_dinner': 3.18, 'service_rating_lunch': 3.28, 'store_nm_en': 'Menyakaijin', 'store_nm_jp': '麺屋海神', 'transport': 'JR新宿駅東南口\\u3000徒歩30秒\\n西武新宿線\\u3000西武新宿駅\\u3000徒歩7分\\n\\n\\n距离新宿 186  米'}, {'age': 41, 'cp_rating_dinner': 3.49, 'cp_rating_lunch': 3.7, 'feeling_rating_dinner': 3.41, 'feeling_rating_lunch': 3.45, 'female_prop': 23.9, 'label_code': 1, 'label_desc': '平消族', 'lat': 35.7384107, 'lng': 139.6783062, 'male_prop': 76.1, 'meal_duration': 1.0, 'prices_dinner': 142, 'prices_lunch': 142, 'rest_addr': '東京都練馬區小竹町1-2-7', 'rest_area': '椎名町～櫻台', 'rest_catg': '拉麵/担担麵/乾擔擔麵', 'rest_rating': 3.85, 'service_rating_dinner': 3.4, 'service_rating_lunch': 3.59, 'store_nm_en': 'Menyakintoki', 'store_nm_jp': '麺や金時', 'transport': '西武池袋線\\u3000江古田駅\\u3000徒歩8分\\n\\n\\n距离江古田 515  米'}, {'age': 39, 'cp_rating_dinner': 3.78, 'cp_rating_lunch': 3.89, 'feeling_rating_dinner': 3.36, 'feeling_rating_lunch': 3.31, 'female_prop': 23.92, 'label_code': 1, 'label_desc': '平消族', 'lat': 35.6486052, 'lng': 139.7058165, 'male_prop': 76.08, 'meal_duration': 1.5, 'prices_dinner': 1984, 'prices_lunch': 425, 'rest_addr': '東京都澀穀區惠比壽西1-1-2', 'rest_area': '惠比壽', 'rest_catg': '懷石 / 會席料理/魚類料理・海鮮料理', 'rest_rating': 3.78, 'service_rating_dinner': 3.41, 'service_rating_lunch': 3.15, 'store_nm_en': 'Shokusaikadota', 'store_nm_jp': '食彩 かどた', 'transport': '東京メトロ日比谷線【恵比寿駅】(出口2番) 徒歩１分\\nＪＲ山手線・埼京線【恵比寿駅】西口\\u3000徒歩２分\\n\\n\\n距离惠比壽 144  米'}, {'age': 38, 'cp_rating_dinner': 3.52, 'cp_rating_lunch': 3.09, 'feeling_rating_dinner': 3.45, 'feeling_rating_lunch': 3.07, 'female_prop': 23.93, 'label_code': 1, 'label_desc': '平消族', 'lat': 35.6707809, 'lng': 139.7692631, 'male_prop': 76.07, 'meal_duration': 1.0, 'prices_dinner': 2551, 'prices_lunch': 425, 'rest_addr': '東京都中央區銀座3-12-5', 'rest_area': '銀座', 'rest_catg': '牛排/法式小酒館/餐飲酒館', 'rest_rating': 3.85, 'service_rating_dinner': 3.37, 'service_rating_lunch': 3.07, 'store_nm_en': 'Ibaia', 'store_nm_jp': 'IBAIA', 'transport': '距离東銀座 232  米'}, {'age': 41, 'cp_rating_dinner': 3.42, 'cp_rating_lunch': 3.69, 'feeling_rating_dinner': 3.55, 'feeling_rating_lunch': 3.68, 'female_prop': 23.55, 'label_code': 1, 'label_desc': '平消族', 'lat': 35.6778493, 'lng': 139.7688135, 'male_prop': 76.45, 'meal_duration': 1.0, 'prices_dinner': 992, 'prices_lunch': 142, 'rest_addr': '東京都中央區八重洲2-5-12', 'rest_area': '日本橋・京橋', 'rest_catg': '印度咖哩/印度料理/日式小酒館', 'rest_rating': 3.8, 'service_rating_dinner': 3.53, 'service_rating_lunch': 3.79, 'store_nm_en': 'Truly south indian dakshin yaesu', 'store_nm_jp': '南インド料理ダクシン 八重洲店', 'transport': '東京メトロ銀座線 京橋駅\\n8番出口より徒歩2分\\nJR東京駅 八重洲 南口より徒歩５分\\n八重洲ブックセンターの裏（奥）のビル\\n\\n\\n距离京橋 179  米'}, {'age': 40, 'cp_rating_dinner': 3.62, 'cp_rating_lunch': 4.01, 'feeling_rating_dinner': 3.58, 'feeling_rating_lunch': 3.84, 'female_prop': 23.22, 'label_code': 1, 'label_desc': '平消族', 'lat': 35.6735188, 'lng': 139.7103426, 'male_prop': 76.78, 'meal_duration': 1.0, 'prices_dinner': 425, 'prices_lunch': 425, 'rest_addr': '東京都澀穀區神宮前2-19-12', 'rest_area': '原宿', 'rest_catg': '蕎麥麵/日本酒', 'rest_rating': 3.77, 'service_rating_dinner': 3.48, 'service_rating_lunch': 3.75, 'store_nm_en': 'Teuchisobamatsunaga', 'store_nm_jp': '手打蕎麦 松永', 'transport': '東京メトロ明治神宮前駅下車 徒歩10分。\\n明治通りを北上し、神宮前1丁目交差点をラストロード方面に右折し、\\n次の信号を北に曲がって、右手郵便局のさらに先の右手。\\n\\n\\n距离明治神宮前 726  米'}, {'age': 34, 'cp_rating_dinner': 3.33, 'cp_rating_lunch': 4.05, 'feeling_rating_dinner': 3.71, 'feeling_rating_lunch': 4.09, 'female_prop': 24.14, 'label_code': 0, 'label_desc': '高消族', 'lat': 35.6891684, 'lng': 139.7352474, 'male_prop': 75.86, 'meal_duration': 1.0, 'prices_dinner': 4961, 'prices_lunch': 425, 'rest_addr': '東京都韆代田區六番町4-3', 'rest_area': '市之谷', 'rest_catg': '燒肉', 'rest_rating': 4.16, 'service_rating_dinner': 3.78, 'service_rating_lunch': 4.31, 'store_nm_en': 'Nakahara', 'store_nm_jp': '炭火焼肉 なかはら', 'transport': 'ＪＲ中央線【市ケ谷駅】徒歩２分\\n都営地下鉄新宿線【市ヶ谷駅】徒歩２分\\n東京メトロ有楽町線・南北線【市ケ谷駅】徒歩４分 \\n東京メトロ有楽町線【麹町駅】徒歩５分\\n\\n\\n距离市谷 329  米'}]\n"
     ]
    },
    {
     "name": "stderr",
     "output_type": "stream",
     "text": [
      "172.18.0.6 - - [22/Nov/2019 05:41:47] \"POST / HTTP/1.1\" 200 -\n"
     ]
    },
    {
     "name": "stdout",
     "output_type": "stream",
     "text": [
      "::restaurant:\n"
     ]
    },
    {
     "name": "stderr",
     "output_type": "stream",
     "text": [
      "172.18.0.6 - - [22/Nov/2019 05:42:25] \"POST / HTTP/1.1\" 200 -\n",
      "172.18.0.6 - - [22/Nov/2019 05:42:26] \"POST / HTTP/1.1\" 200 -\n"
     ]
    },
    {
     "name": "stdout",
     "output_type": "stream",
     "text": [
      "San-i\n",
      "Udbb1b4f434ce9c4b43b92734b61f95d7\n",
      "https://profile.line-scdn.net/0hdQZpbd__O35nCRDK8EpEKVtMNRMQJz02Hzt0EEVcZUoZaywrUmx1GBELbUlIbHR6DG18S0UAZBtP\n",
      "None\n"
     ]
    },
    {
     "name": "stderr",
     "output_type": "stream",
     "text": [
      "172.18.0.6 - - [22/Nov/2019 05:43:38] \"POST / HTTP/1.1\" 200 -\n",
      "172.18.0.6 - - [22/Nov/2019 05:43:45] \"POST / HTTP/1.1\" 200 -\n"
     ]
    },
    {
     "name": "stdout",
     "output_type": "stream",
     "text": [
      "許宸語\n",
      "U41cb1702814297b7ee8d90fe80f995d4\n",
      "https://profile.line-scdn.net/0hQiwWsHlADkZKLiVi6FFxEXZrACs9AAgOMh1Fcmd-UiVlTEkTJhpGImkpAnNvFk9DcxtCdW17A3Y0\n",
      "None\n"
     ]
    },
    {
     "name": "stderr",
     "output_type": "stream",
     "text": [
      "172.18.0.6 - - [22/Nov/2019 05:43:52] \"POST / HTTP/1.1\" 200 -\n"
     ]
    },
    {
     "name": "stdout",
     "output_type": "stream",
     "text": [
      "許宸語,U41cb1702814297b7ee8d90fe80f995d4\n",
      "{\"data\": \"gender,1\"}\n",
      "1574401431222,2019-11-22 05:43:51.222000\n"
     ]
    },
    {
     "name": "stderr",
     "output_type": "stream",
     "text": [
      "172.18.0.6 - - [22/Nov/2019 05:44:17] \"POST / HTTP/1.1\" 200 -\n"
     ]
    },
    {
     "name": "stdout",
     "output_type": "stream",
     "text": [
      "許宸語,U41cb1702814297b7ee8d90fe80f995d4\n",
      "{\"data\": \"birthday\", \"params\": {\"date\": \"1996-10-23\"}}\n",
      "1574401456892,2019-11-22 05:44:16.892000\n"
     ]
    },
    {
     "name": "stderr",
     "output_type": "stream",
     "text": [
      "172.18.0.6 - - [22/Nov/2019 05:44:35] \"POST / HTTP/1.1\" 200 -\n"
     ]
    },
    {
     "name": "stdout",
     "output_type": "stream",
     "text": [
      "@0\n"
     ]
    },
    {
     "name": "stderr",
     "output_type": "stream",
     "text": [
      "172.18.0.6 - - [22/Nov/2019 05:46:04] \"GET /images/day1-U374824a0557f0767db8c194dae6c6002-1574398132071map.html HTTP/1.1\" 200 -\n",
      "172.18.0.6 - - [22/Nov/2019 05:46:06] \"GET /images/jupyter-gmaps.js HTTP/1.1\" 404 -\n",
      "172.18.0.6 - - [22/Nov/2019 05:46:06] \"GET /favicon.ico HTTP/1.1\" 404 -\n",
      "172.18.0.6 - - [22/Nov/2019 05:46:19] \"POST / HTTP/1.1\" 200 -\n"
     ]
    },
    {
     "name": "stdout",
     "output_type": "stream",
     "text": [
      "$30000$15000$800$500\n"
     ]
    },
    {
     "name": "stderr",
     "output_type": "stream",
     "text": [
      "172.18.0.6 - - [22/Nov/2019 05:46:33] \"POST / HTTP/1.1\" 200 -\n"
     ]
    },
    {
     "name": "stdout",
     "output_type": "stream",
     "text": [
      "許宸語,U41cb1702814297b7ee8d90fe80f995d4\n",
      "{\"data\": \"partner,2\"}\n",
      "1574401592644,2019-11-22 05:46:32.644000\n"
     ]
    },
    {
     "name": "stderr",
     "output_type": "stream",
     "text": [
      "172.18.0.6 - - [22/Nov/2019 05:46:46] \"POST / HTTP/1.1\" 200 -\n"
     ]
    },
    {
     "name": "stdout",
     "output_type": "stream",
     "text": [
      "許宸語,U41cb1702814297b7ee8d90fe80f995d4\n",
      "{\"data\": \"partner,4\"}\n",
      "1574401605473,2019-11-22 05:46:45.473000\n"
     ]
    },
    {
     "name": "stderr",
     "output_type": "stream",
     "text": [
      "172.18.0.6 - - [22/Nov/2019 05:47:01] \"POST / HTTP/1.1\" 200 -\n"
     ]
    },
    {
     "name": "stdout",
     "output_type": "stream",
     "text": [
      "許宸語,U41cb1702814297b7ee8d90fe80f995d4\n",
      "{\"data\": \"style,0\"}\n",
      "1574401620472,2019-11-22 05:47:00.472000\n"
     ]
    },
    {
     "name": "stderr",
     "output_type": "stream",
     "text": [
      "172.18.0.6 - - [22/Nov/2019 05:47:41] \"POST / HTTP/1.1\" 200 -\n"
     ]
    },
    {
     "name": "stdout",
     "output_type": "stream",
     "text": [
      "許宸語,U41cb1702814297b7ee8d90fe80f995d4\n",
      "{\"data\": \"deptDate\", \"params\": {\"date\": \"2020-11-14\"}}\n",
      "1574401660874,2019-11-22 05:47:40.874000\n"
     ]
    },
    {
     "name": "stderr",
     "output_type": "stream",
     "text": [
      "172.18.0.6 - - [22/Nov/2019 05:48:07] \"POST / HTTP/1.1\" 200 -\n"
     ]
    },
    {
     "name": "stdout",
     "output_type": "stream",
     "text": [
      "許宸語,U41cb1702814297b7ee8d90fe80f995d4\n",
      "{\"data\": \"retDate\", \"params\": {\"date\": \"2020-11-18\"}}\n",
      "1574401686526,2019-11-22 05:48:06.526000\n"
     ]
    },
    {
     "name": "stderr",
     "output_type": "stream",
     "text": [
      "172.18.0.6 - - [22/Nov/2019 05:48:26] \"POST / HTTP/1.1\" 200 -\n"
     ]
    },
    {
     "name": "stdout",
     "output_type": "stream",
     "text": [
      "許宸語,U41cb1702814297b7ee8d90fe80f995d4\n",
      "{\"data\": \"restaurant\"}\n",
      "1574401705313,2019-11-22 05:48:25.313000\n",
      "{'age': 23, 'been2tko': 0, 'days': 4, 'totalBudget': 30000, 'gender': 1, 'oneBudget': 500}\n",
      "8 [{'age': 42, 'cp_rating_dinner': 3.23, 'cp_rating_lunch': 3.65, 'feeling_rating_dinner': 4.22, 'feeling_rating_lunch': 4.31, 'female_prop': 24.19, 'label_code': 0, 'label_desc': '高消族', 'lat': 35.6714573, 'lng': 139.7609932, 'male_prop': 75.81, 'meal_duration': 1.0, 'prices_dinner': 15591, 'prices_lunch': 7087, 'rest_addr': '東京都中央區銀座6-3-15', 'rest_area': '銀座', 'rest_catg': '壽司', 'rest_rating': 4.46, 'service_rating_dinner': 4.26, 'service_rating_lunch': 4.32, 'store_nm_en': 'Kiyota', 'store_nm_jp': 'きよ田', 'transport': '東京メトロ 各 銀座駅C2出口\\u3000徒歩5分\\n\\n\\n距离銀座 293  米'}, {'age': 40, 'cp_rating_dinner': 3.56, 'cp_rating_lunch': 3.61, 'feeling_rating_dinner': 3.46, 'feeling_rating_lunch': 3.58, 'female_prop': 23.42, 'label_code': 1, 'label_desc': '平消族', 'lat': 35.6567786, 'lng': 139.7527232, 'male_prop': 76.58, 'meal_duration': 1.0, 'prices_dinner': 709, 'prices_lunch': 425, 'rest_addr': '東京都港區芝公園2-3-7', 'rest_area': '濱松町・芝公園', 'rest_catg': '炸豬排', 'rest_rating': 3.79, 'service_rating_dinner': 3.54, 'service_rating_lunch': 3.73, 'store_nm_en': 'Nomotoya', 'store_nm_jp': 'のもと家', 'transport': '・都営浅草線または都営大江戸線 「大門」駅(A3出口)から徒歩3分\\n・JR山手線「浜松町」駅(北口)から徒歩7分\\n・都営三田線「芝公園」駅(A3出口)から徒歩5分\\n\\n\\n距离大門 182  米'}, {'age': 41, 'cp_rating_dinner': 3.44, 'cp_rating_lunch': 3.43, 'feeling_rating_dinner': 4.1, 'feeling_rating_lunch': 3.96, 'female_prop': 24.32, 'label_code': 1, 'label_desc': '平消族', 'lat': 35.7138661, 'lng': 139.7726182, 'male_prop': 75.68, 'meal_duration': 1.5, 'prices_dinner': 1984, 'prices_lunch': 992, 'rest_addr': '東京都檯東區上野公園4-59', 'rest_area': '上野・御徒町・湯島', 'rest_catg': '懷石 / 會席料理/壽喜燒/日式甜點店', 'rest_rating': 3.76, 'service_rating_dinner': 3.57, 'service_rating_lunch': 3.5, 'store_nm_en': 'Inshoutei', 'store_nm_jp': '韻松亭', 'transport': 'JR・東京メトロ銀座線上野駅：徒歩10分\\n京成線上野駅：徒歩７分\\n都営大江戸線御徒町駅・東京メトロ日比谷線上野駅：徒歩13分\\n\\n\\n距离京成上野 260  米'}, {'age': 40, 'cp_rating_dinner': 3.54, 'cp_rating_lunch': 3.59, 'feeling_rating_dinner': 3.31, 'feeling_rating_lunch': 3.27, 'female_prop': 21.79, 'label_code': 1, 'label_desc': '平消族', 'lat': 35.7107943, 'lng': 139.784484, 'male_prop': 78.21, 'meal_duration': 1.0, 'prices_dinner': 142, 'prices_lunch': 142, 'rest_addr': '東京都檯東區元淺草2-10-13', 'rest_area': '上野・御徒町・湯島', 'rest_catg': '拉麵', 'rest_rating': 3.75, 'service_rating_dinner': 3.47, 'service_rating_lunch': 3.5, 'store_nm_en': 'ra-meninariya', 'store_nm_jp': 'らーめん 稲荷屋', 'transport': '都道463号線沿い、「松が谷1丁目」交差点近く\\n稲荷町駅から181m\\n東京メトロ銀座線・稲荷町駅２番出口より徒歩3分\\nＪＲ・日比谷線\\u3000上野駅\\u3000徒歩13分\\n\\n\\n距离稻荷町 179  米'}, {'age': 41, 'cp_rating_dinner': 3.66, 'cp_rating_lunch': 4.1, 'feeling_rating_dinner': 3.7, 'feeling_rating_lunch': 4.02, 'female_prop': 23.71, 'label_code': 1, 'label_desc': '平消族', 'lat': 35.712677, 'lng': 139.7904714, 'male_prop': 76.29, 'meal_duration': 1.0, 'prices_dinner': 142, 'prices_lunch': 142, 'rest_addr': '東京都檯東區西淺草2-10-4', 'rest_area': '淺草', 'rest_catg': '拉麵', 'rest_rating': 3.87, 'service_rating_dinner': 3.64, 'service_rating_lunch': 3.95, 'store_nm_en': 'Memmitsui', 'store_nm_jp': '麺 みつヰ', 'transport': 'つくばエクスプレス線\\u3000浅草駅\\u3000国際通り出口B\\u3000徒歩３分\\n東京メトロ銀座線\\u3000田原町駅\\u3000徒歩４分\\n\\n\\n距离淺草 246  米'}, {'age': 36, 'cp_rating_dinner': 3.77, 'cp_rating_lunch': 4.23, 'feeling_rating_dinner': 3.94, 'feeling_rating_lunch': 4.36, 'female_prop': 24.16, 'label_code': 0, 'label_desc': '高消族', 'lat': 35.6690719, 'lng': 139.7621935, 'male_prop': 75.84, 'meal_duration': 1.0, 'prices_dinner': 7087, 'prices_lunch': 425, 'rest_addr': '東京都中央區銀座7-8-15', 'rest_area': '銀座', 'rest_catg': '牛排/法式', 'rest_rating': 4.22, 'service_rating_dinner': 4.05, 'service_rating_lunch': 4.29, 'store_nm_en': 'IDEA', 'store_nm_jp': '神戸牛炉釜炭焼ステーキ IDEA 銀座', 'transport': '地下鉄銀座線 銀座駅 徒歩5分 \\n地下鉄丸ノ内線 銀座駅 徒歩5分\\nJR山手線\\u3000新橋駅\\u3000徒歩６分 \\n\\n\\n距离銀座 357  米'}, {'age': 40, 'cp_rating_dinner': 3.46, 'cp_rating_lunch': 3.4, 'feeling_rating_dinner': 3.8, 'feeling_rating_lunch': 3.85, 'female_prop': 23.74, 'label_code': 1, 'label_desc': '平消族', 'lat': 35.7299498, 'lng': 139.6771299, 'male_prop': 76.26, 'meal_duration': 1.0, 'prices_dinner': 992, 'prices_lunch': 709, 'rest_addr': '東京都中野區江原町3-1-4', 'rest_area': '椎名町～櫻台', 'rest_catg': '蕎麥麵', 'rest_rating': 3.92, 'service_rating_dinner': 3.58, 'service_rating_lunch': 3.6, 'store_nm_en': 'Jiyu San', 'store_nm_jp': '手打蕎麦 じゆうさん', 'transport': '西武池袋線「東長崎駅」南口から徒歩７分。\\n\\n\\n距离東長崎 558  米'}, {'age': 33, 'cp_rating_dinner': 3.95, 'cp_rating_lunch': 4.31, 'feeling_rating_dinner': 4.21, 'feeling_rating_lunch': 4.31, 'female_prop': 24.19, 'label_code': 0, 'label_desc': '高消族', 'lat': 35.6583941, 'lng': 139.723053, 'male_prop': 75.81, 'meal_duration': 1.5, 'prices_dinner': 7087, 'prices_lunch': 425, 'rest_addr': '東京都港區西痲佈2-24-14', 'rest_area': '六本木・乃木坂・西麻布', 'rest_catg': '和式餐馆 / 小菜/牛排/燒肉', 'rest_rating': 4.43, 'service_rating_dinner': 4.18, 'service_rating_lunch': 4.31, 'store_nm_en': 'Nikukappoujou', 'store_nm_jp': '肉割烹 上', 'transport': '都営大江戸線 六本木駅2番出口より徒歩8分\\n東京メトロ 日比谷線六本木駅2番出口より徒歩8分\\n東京メトロ 日比谷線広尾駅3番出口より徒歩8分\\n東京メトロ 千代田線乃木坂駅5番出口より徒歩6分\\n\\n\\n距离乃木坂 798  米'}]\n"
     ]
    },
    {
     "name": "stderr",
     "output_type": "stream",
     "text": [
      "172.18.0.6 - - [22/Nov/2019 05:48:27] \"POST / HTTP/1.1\" 200 -\n"
     ]
    },
    {
     "name": "stdout",
     "output_type": "stream",
     "text": [
      "::restaurant:\n"
     ]
    },
    {
     "name": "stderr",
     "output_type": "stream",
     "text": [
      "172.18.0.6 - - [22/Nov/2019 05:48:38] \"POST / HTTP/1.1\" 200 -\n"
     ]
    },
    {
     "name": "stdout",
     "output_type": "stream",
     "text": [
      "許宸語,U41cb1702814297b7ee8d90fe80f995d4\n",
      "{\"data\": \"tripStart\"}\n",
      "1574401717610,2019-11-22 05:48:37.610000\n",
      "{'age': 23, 'been2tko': 0, 'days': 4, 'budget': 30000, 'isFemale': 1, 'fbudget': 15000, 'dDate': '2020-11-14', 'rDate': '2020-11-18'}\n",
      "{'airline': 'Tigerair Taiwan', 'date_format(eta,\"%a\")': 'Sat', 'date_format(etd,\"%a\")': 'Sat', 'date_format(weEta,\"%a\")': 'Wed', 'date_format(weEtd,\"%a\")': 'Wed', 'price': 7767, 'time_format(eta,\"%T\")': '10:35:00', 'time_format(etd,\"%T\")': '06:35:00', 'time_format(sec_to_time(dur),\"%T\")': '03:00:00', 'time_format(sec_to_time(weDur),\"%T\")': '03:55:00', 'time_format(weEta,\"%T\")': '07:55:00', 'time_format(weEtd,\"%T\")': '05:00:00'}\n",
      "bk by wed\n",
      "{'age': 23, 'been2tko': 0, 'howlong': 4, 'budget': 30000, 'isFemale': 1, 'with_child': 0, 'crampedSechedule': False}\n",
      "['[{\"index\":2,\"name\":\"淺草 Asakusa\",\"rank\":\"排名第 1的台東區觀光 (共560家)\",\"address\":\"東京都台東區\",\"child\":0.0087715012,\"latitude\":35.7125736,\"longitude\":139.7802043,\"score\":241,\"chosen\":true},{\"index\":48,\"name\":\"雷門 Nakamise Shopping Street (Kaminarimon)\",\"rank\":\"排名第 18的台東區觀光 (共560家)\",\"address\":\"東京都台東區淺草1丁目3\",\"child\":0.0048539208,\"latitude\":35.7110859,\"longitude\":139.7959648,\"score\":114,\"chosen\":true},{\"index\":35,\"name\":\"淺草文化觀光中心 Asakusa Culture Tourist Information Center\",\"rank\":\"排名第 3的台東區觀光 (共560家)\",\"address\":\"東京都台東區2-18-9 Kaminarimon111-0034\",\"child\":0.0040560983,\"latitude\":35.7106489,\"longitude\":139.7965348,\"score\":106,\"chosen\":true}]', '[{\"index\":192,\"name\":\"隅田川花火大會 Sumida River Fireworks\",\"rank\":\"排名第 12的墨田區觀光 (共264家)\",\"address\":\"東京都墨田區\",\"child\":0.0,\"latitude\":35.7107479,\"longitude\":139.8016393,\"score\":70,\"chosen\":true},{\"index\":260,\"name\":\"板橋花火節 Itabashi Fireworks\",\"rank\":\"排名第 1的板橋區觀光 (共81家)\",\"address\":\"東京都板橋區4 Funado174-0041\",\"child\":0.0,\"latitude\":35.7512308,\"longitude\":139.7185838,\"score\":70,\"chosen\":true},{\"index\":193,\"name\":\"大江戶古董市場 - 東京國際論壇 Oedo Antique Market - Tokyo International Forum\",\"rank\":\"排名第 55的千代田區觀光 (共446家)\",\"address\":\"東京都千代田區3-5-1 MarunouchiTokyo International Forum100-0005\",\"child\":0.0199828611,\"latitude\":35.6767429,\"longitude\":139.7637532,\"score\":84,\"chosen\":true}]', '[{\"index\":225,\"name\":\"東京馬拉松 Tokyo Marathon\",\"rank\":\"排名第 12的新宿區觀光 (共419家)\",\"address\":\"東京都新宿區2-8-1 NishishinjukuTokyo Metropolitan Government Building163-8001\",\"child\":0.0542821379,\"latitude\":35.6898531,\"longitude\":139.6917321,\"score\":70,\"chosen\":true},{\"index\":227,\"name\":\" Jujo Ginza Shopping Arcade\",\"rank\":\"排名第 4的北區觀光 (共102家)\",\"address\":\"東京都北區Jujonakahara114-0031\",\"child\":0.0,\"latitude\":35.7651834,\"longitude\":139.7204992,\"score\":114,\"chosen\":true},{\"index\":163,\"name\":\" Futako Tamagawa Rise\",\"rank\":\"排名第 9的世田谷區觀光 (共235家)\",\"address\":\"東京都世田谷區2-21-1 Tamagawa158-0094\",\"child\":0.1204381406,\"latitude\":35.6425039,\"longitude\":139.6638632,\"score\":84,\"chosen\":true}]']\n",
      "{'age': 23, 'been2tko': 0, 'days': 4, 'budget': 30000, 'isFemale': 1, 'hotel budget': 800}\n",
      "{'CP': 1.505546751, 'pre': 1.0, '交通1': '代代木上原站 - 走路 12 分鐘', '交通2': '代代木上原站 - 走路 12 分鐘', '交通3': '東京, 日本 (NRT-成田國際機場) - 車程 54 分鐘', '交通便利性': '12', '價格': 2524.0, '地址': '1-32-3 Hatagaya Shibuya-ku, 東京, Tokyo-to', '廚房': 0.0, '星等': 2.0, '經度': 139.676735, '網址': 'https://www.expedia.com.tw/Tokyo-Hotels-Sakura-Hotel-Hatagaya.h2986469.Hotel-Information?chkin=2019%2F10%2F4&chkout=2019%2F10%2F5&regionId=179900&destination=%E6%9D%B1%E4%BA%AC+%28%E5%8F%8A%E9%84%B0%E8%BF%91%E5%9C%B0%E5%8D%80%29%2C+%E6%97%A5%E6%9C%AC&swpToggleOn=true&rm1=a1&x_pwa=1&sort=recommended&top_dp=2524&top_cur=TWD&rfrr=HSR&pwa_ts=1570019670951', '緯度': 35.675937, '評價': 3.8, '鄰近景點1': '東京都廳舍 - 開車 3 分鐘', '鄰近景點2': '新宿伊勢丹 - 開車 3 分鐘', '鄰近景點3': '新宿御苑 - 開車 4 分鐘', '鄰近景點4': '明治神宮 - 開車 6 分鐘', '鄰近景點5': '代代木公園 - 開車 8 分鐘', '飯店名稱': '幡谷櫻花飯店'}\n",
      "{'age': 23, 'been2tko': 0, 'days': 4, 'totalBudget': 30000, 'gender': 1, 'oneBudget': 500}\n",
      "[{'age': 42, 'cp_rating_dinner': 4.26, 'cp_rating_lunch': 3.77, 'feeling_rating_dinner': 4.52, 'feeling_rating_lunch': 4.18, 'female_prop': 24.24, 'label_code': 0, 'label_desc': '高消族', 'lat': 35.6609872, 'lng': 139.7260606, 'male_prop': 75.76, 'meal_duration': 1.0, 'prices_dinner': 9922, 'prices_lunch': 425, 'rest_addr': '東京都港區東痲佈1-7-9', 'rest_area': '濱松町・芝公園', 'rest_catg': '壽司', 'rest_rating': 4.66, 'service_rating_dinner': 4.52, 'service_rating_lunch': 4.18, 'store_nm_en': 'Amamoto', 'store_nm_jp': '東麻布 天本', 'transport': '都営大江戸線 赤羽橋駅 徒歩4分 \\n東京メトロ日比谷線 神谷町駅 徒歩10分 \\n\\n\\n距离赤羽橋 258  米'}, {'age': 42, 'cp_rating_dinner': 3.94, 'cp_rating_lunch': 3.8, 'feeling_rating_dinner': 3.45, 'feeling_rating_lunch': 3.32, 'female_prop': 24.44, 'label_code': 1, 'label_desc': '平消族', 'lat': 35.6559209, 'lng': 139.7428184, 'male_prop': 75.56, 'meal_duration': 1.5, 'prices_dinner': 142, 'prices_lunch': 425, 'rest_addr': '東京都港區西痲佈1-13-15', 'rest_area': '六本木・乃木坂・西麻布', 'rest_catg': '定食、食堂/可樂餅・油炸食品', 'rest_rating': 3.76, 'service_rating_dinner': 3.88, 'service_rating_lunch': 3.98, 'store_nm_en': 'Mikawaya', 'store_nm_jp': '三河屋', 'transport': '東京メトロ千代田線・乃木坂駅５番出口から徒歩約１０分。\\n東京メトロ日比谷線・広尾駅から徒歩12分。\\n外苑西通りの西麻布交差点を北へ。次のY字交差点との中間付近、右側。\\n\\n\\n距离乃木坂 707  米'}, {'age': 37, 'cp_rating_dinner': 3.9, 'cp_rating_lunch': 4.78, 'feeling_rating_dinner': 3.85, 'feeling_rating_lunch': 4.27, 'female_prop': 24.05, 'label_code': 0, 'label_desc': '高消族', 'lat': 35.6986017, 'lng': 139.7034726, 'male_prop': 75.95, 'meal_duration': 1.0, 'prices_dinner': 4961, 'prices_lunch': 2551, 'rest_addr': '東京都新宿區大久保1-12-3', 'rest_area': '新宿', 'rest_catg': '涮涮鍋/壽喜燒/牛肉料理', 'rest_rating': 4.02, 'service_rating_dinner': 3.91, 'service_rating_lunch': 3.85, 'store_nm_en': 'Toukyounikushabuya', 'store_nm_jp': '東京肉しゃぶ家', 'transport': 'JR新宿東口から徒歩10分\\nJR新大久保駅から徒歩8分\\n大江戸線東新宿から徒歩3分\\n西武新宿線西武新宿駅から徒歩4分\\n\\n\\n距离東新宿 375  米'}, {'age': 41, 'cp_rating_dinner': 3.53, 'cp_rating_lunch': 3.81, 'feeling_rating_dinner': 3.5, 'feeling_rating_lunch': 3.68, 'female_prop': 23.73, 'label_code': 1, 'label_desc': '平消族', 'lat': 35.6097218, 'lng': 139.7115384, 'male_prop': 76.27, 'meal_duration': 1.0, 'prices_dinner': 142, 'prices_lunch': 142, 'rest_addr': '東京都品川區中延2-15-10', 'rest_area': '戸越・中延・旗之台周邊', 'rest_catg': '拉麵/沾麵', 'rest_rating': 3.91, 'service_rating_dinner': 3.6, 'service_rating_lunch': 3.83, 'store_nm_en': 'Tyukasobatagano', 'store_nm_jp': '中華そば 多賀野', 'transport': '・東急池上線「荏原中延」駅から徒歩1分\\n・都営地下鉄浅草線「中延」駅(A3出口)から徒歩9分\\n・東急大井町線「戸越公園」駅(南口)から徒歩8分\\n\\n\\n距离荏原中延 37  米'}, {'age': 40, 'cp_rating_dinner': 3.52, 'cp_rating_lunch': 3.59, 'feeling_rating_dinner': 3.45, 'feeling_rating_lunch': 3.58, 'female_prop': 24.11, 'label_code': 1, 'label_desc': '平消族', 'lat': 35.6563115, 'lng': 139.5898689, 'male_prop': 75.89, 'meal_duration': 1.0, 'prices_dinner': 425, 'prices_lunch': 142, 'rest_addr': '東京都調佈市若葉町2-25-20', 'rest_area': '調布', 'rest_catg': '拉麵', 'rest_rating': 4.14, 'service_rating_dinner': 3.45, 'service_rating_lunch': 3.57, 'store_nm_en': 'chuukasobashibata', 'store_nm_jp': '中華そば しば田', 'transport': '仙川駅から徒歩10分。\\n小田急バス「若葉町2丁目」バス停がもより。目の前です。\\n★成城学園前駅からは→\\n\\u3000西口より『成４系統：調布駅南口』、『成５系統：狛江北口』\\n★仙川駅からは→\\n\\u3000仙川駅入口バス停から『成４系統』、『成５系統』\\u3000成城学園前駅西口行き\\u3000\\n\\n\\n距离仙川 797  米'}, {'age': 37, 'cp_rating_dinner': 3.9, 'cp_rating_lunch': 4.78, 'feeling_rating_dinner': 3.85, 'feeling_rating_lunch': 4.27, 'female_prop': 24.05, 'label_code': 0, 'label_desc': '高消族', 'lat': 35.6986017, 'lng': 139.7034726, 'male_prop': 75.95, 'meal_duration': 1.0, 'prices_dinner': 4961, 'prices_lunch': 2551, 'rest_addr': '東京都新宿區大久保1-12-3', 'rest_area': '新宿', 'rest_catg': '涮涮鍋/壽喜燒/牛肉料理', 'rest_rating': 4.02, 'service_rating_dinner': 3.91, 'service_rating_lunch': 3.85, 'store_nm_en': 'Toukyounikushabuya', 'store_nm_jp': '東京肉しゃぶ家', 'transport': 'JR新宿東口から徒歩10分\\nJR新大久保駅から徒歩8分\\n大江戸線東新宿から徒歩3分\\n西武新宿線西武新宿駅から徒歩4分\\n\\n\\n距离東新宿 375  米'}, {'age': 41, 'cp_rating_dinner': 3.53, 'cp_rating_lunch': 3.29, 'feeling_rating_dinner': 3.74, 'feeling_rating_lunch': 4.09, 'female_prop': 23.34, 'label_code': 1, 'label_desc': '平消族', 'lat': 35.6325673, 'lng': 139.6922138, 'male_prop': 76.66, 'meal_duration': 1.0, 'prices_dinner': 1984, 'prices_lunch': 425, 'rest_addr': '東京都目黑區中町2-44-15', 'rest_area': '中目黒・祐天寺', 'rest_catg': '蕎麥麵/和式餐馆 / 小菜', 'rest_rating': 3.77, 'service_rating_dinner': 3.68, 'service_rating_lunch': 3.73, 'store_nm_en': 'Sobayatsukigokoro', 'store_nm_jp': '蕎や 月心', 'transport': '東急東横線 祐天寺駅、学芸大学駅\\n各駅徒歩約10分\\n\\n\\n距离祐天寺 555  米'}, {'age': 36, 'cp_rating_dinner': 3.76, 'cp_rating_lunch': 4.22, 'feeling_rating_dinner': 3.53, 'feeling_rating_lunch': 3.63, 'female_prop': 23.81, 'label_code': 1, 'label_desc': '平消族', 'lat': 35.6469532, 'lng': 139.7277, 'male_prop': 76.19, 'meal_duration': 1.0, 'prices_dinner': 1984, 'prices_lunch': 425, 'rest_addr': '東京都港區南痲佈4-11-26', 'rest_area': '廣尾', 'rest_catg': '燒肉', 'rest_rating': 3.83, 'service_rating_dinner': 3.49, 'service_rating_lunch': 3.53, 'store_nm_en': 'Kirakutei', 'store_nm_jp': 'きらく亭', 'transport': '広尾駅 1番出口より 徒歩 8分 \\n白金高輪駅 A4出口より 徒歩 8分。\\n\\n\\n距离白金高輪 736  米'}]\n"
     ]
    },
    {
     "name": "stdout",
     "output_type": "stream",
     "text": [
      "=====================\n",
      " 第1天行程：\n",
      "淺草 Asakusa約16.0 公里，景點間通勤約需24 分鐘。\n",
      "---------------\n",
      "雷門 Nakamise Shopping Street (Kaminarimon)約1.8 公里，景點間通勤約需7 分鐘。\n",
      "---------------\n",
      "淺草文化觀光中心 Asakusa Culture Tourist Information Center約61 公尺，景點間通勤約需1 分鐘。\n",
      "---------------\n",
      "\n",
      "地圖連結：https://45a28610.ngrok.io/images/day1-U41cb1702814297b7ee8d90fe80f995d4-1574401717609map.html\n",
      "===============\n",
      "第2天行程：\n",
      "大江戶古董市場 - 東京國際論壇 Oedo Antique Market - Tokyo International Forum約13.2 公里，景點間通勤約需19 分鐘。\n",
      "---------------\n",
      "隅田川花火大會 Sumida River Fireworks約7.3 公里，景點間通勤約需14 分鐘。\n",
      "---------------\n",
      "板橋花火節 Itabashi Fireworks約16.9 公里，景點間通勤約需23 分鐘。\n",
      "---------------\n",
      "\n",
      "地圖連結：https://45a28610.ngrok.io/images/day2-U41cb1702814297b7ee8d90fe80f995d4-1574401717609map.html\n",
      "===============\n",
      "第3天行程：\n",
      "東京馬拉松 Tokyo Marathon約2.5 公里，景點間通勤約需6 分鐘。\n",
      "---------------\n",
      " Jujo Ginza Shopping Arcade約11.7 公里，景點間通勤約需24 分鐘。\n",
      "---------------\n",
      " Futako Tamagawa Rise約17.7 公里，景點間通勤約需31 分鐘。\n",
      "---------------\n",
      "\n",
      "地圖連結：https://45a28610.ngrok.io/images/day3-U41cb1702814297b7ee8d90fe80f995d4-1574401717609map.html\n",
      "===============\n",
      " \n",
      "=======================\n"
     ]
    },
    {
     "name": "stderr",
     "output_type": "stream",
     "text": [
      "172.18.0.6 - - [22/Nov/2019 05:48:43] \"POST / HTTP/1.1\" 200 -\n"
     ]
    },
    {
     "name": "stdout",
     "output_type": "stream",
     "text": [
      "::tripStart:\n",
      "{'age': 23, 'been2tko': 0, 'days': 4, 'budget': 30000, 'isFemale': 1, 'fbudget': 15000, 'dDate': '2020-11-14', 'rDate': '2020-11-18'}\n",
      "{'airline': 'Tigerair Taiwan', 'date_format(eta,\"%a\")': 'Sat', 'date_format(etd,\"%a\")': 'Sat', 'date_format(weEta,\"%a\")': 'Wed', 'date_format(weEtd,\"%a\")': 'Wed', 'price': 7767, 'time_format(eta,\"%T\")': '10:35:00', 'time_format(etd,\"%T\")': '06:35:00', 'time_format(sec_to_time(dur),\"%T\")': '03:00:00', 'time_format(sec_to_time(weDur),\"%T\")': '03:55:00', 'time_format(weEta,\"%T\")': '07:55:00', 'time_format(weEtd,\"%T\")': '05:00:00'}\n",
      "bk by wed\n",
      "{'age': 23, 'been2tko': 0, 'howlong': 4, 'budget': 30000, 'isFemale': 1, 'with_child': 0, 'crampedSechedule': False}\n",
      "['[{\"index\":2,\"name\":\"淺草 Asakusa\",\"rank\":\"排名第 1的台東區觀光 (共560家)\",\"address\":\"東京都台東區\",\"child\":0.0087715012,\"latitude\":35.7125736,\"longitude\":139.7802043,\"score\":241,\"chosen\":true},{\"index\":48,\"name\":\"雷門 Nakamise Shopping Street (Kaminarimon)\",\"rank\":\"排名第 18的台東區觀光 (共560家)\",\"address\":\"東京都台東區淺草1丁目3\",\"child\":0.0048539208,\"latitude\":35.7110859,\"longitude\":139.7959648,\"score\":114,\"chosen\":true},{\"index\":35,\"name\":\"淺草文化觀光中心 Asakusa Culture Tourist Information Center\",\"rank\":\"排名第 3的台東區觀光 (共560家)\",\"address\":\"東京都台東區2-18-9 Kaminarimon111-0034\",\"child\":0.0040560983,\"latitude\":35.7106489,\"longitude\":139.7965348,\"score\":106,\"chosen\":true}]', '[{\"index\":265,\"name\":\"東京迪士尼海洋樂園 Tokyo DisneySea\",\"rank\":\"排名第 1的Maihama觀光 (共5家)\",\"address\":\"千葉縣浦安Maihama1-13279-0031\",\"child\":0.75,\"latitude\":35.62675,\"longitude\":139.885095,\"score\":94,\"chosen\":true}]', '[{\"index\":173,\"name\":\"出光美術館 Idemitsu Museum\",\"rank\":\"排名第 1的Marunouchi觀光 (共7家)\",\"address\":\"東京都千代田區Marunouchi3-1-1 Marunouchi9F Teigeki Building100-0005\",\"child\":0.0,\"latitude\":35.6767601,\"longitude\":139.7611088,\"score\":70,\"chosen\":true},{\"index\":127,\"name\":\"日本武道館 Nippon Budokan\",\"rank\":\"排名第 25的千代田區觀光 (共446家)\",\"address\":\"東京都千代田區北之丸公園2-3102-0091\",\"child\":0.0,\"latitude\":35.6919267,\"longitude\":139.7505761,\"score\":114,\"chosen\":true},{\"index\":82,\"name\":\"皇居 Imperial Palace\",\"rank\":\"排名第 34的千代田區觀光 (共446家)\",\"address\":\"東京都千代田區千代田1‐1100-8111\",\"child\":0.0169818319,\"latitude\":35.6844651,\"longitude\":139.7537082,\"score\":114,\"chosen\":true}]', '[{\"index\":192,\"name\":\"隅田川花火大會 Sumida River Fireworks\",\"rank\":\"排名第 12的墨田區觀光 (共264家)\",\"address\":\"東京都墨田區\",\"child\":0.0,\"latitude\":35.7107479,\"longitude\":139.8016393,\"score\":70,\"chosen\":true},{\"index\":260,\"name\":\"板橋花火節 Itabashi Fireworks\",\"rank\":\"排名第 1的板橋區觀光 (共81家)\",\"address\":\"東京都板橋區4 Funado174-0041\",\"child\":0.0,\"latitude\":35.7512308,\"longitude\":139.7185838,\"score\":70,\"chosen\":true},{\"index\":193,\"name\":\"大江戶古董市場 - 東京國際論壇 Oedo Antique Market - Tokyo International Forum\",\"rank\":\"排名第 55的千代田區觀光 (共446家)\",\"address\":\"東京都千代田區3-5-1 MarunouchiTokyo International Forum100-0005\",\"child\":0.0199828611,\"latitude\":35.6767429,\"longitude\":139.7637532,\"score\":84,\"chosen\":true}]']\n",
      "{'age': 23, 'been2tko': 0, 'days': 4, 'budget': 30000, 'isFemale': 1, 'hotel budget': 800}\n",
      "{'CP': 1.505546751, 'pre': 1.0, '交通1': '代代木上原站 - 走路 12 分鐘', '交通2': '代代木上原站 - 走路 12 分鐘', '交通3': '東京, 日本 (NRT-成田國際機場) - 車程 54 分鐘', '交通便利性': '12', '價格': 2524.0, '地址': '1-32-3 Hatagaya Shibuya-ku, 東京, Tokyo-to', '廚房': 0.0, '星等': 2.0, '經度': 139.676735, '網址': 'https://www.expedia.com.tw/Tokyo-Hotels-Sakura-Hotel-Hatagaya.h2986469.Hotel-Information?chkin=2019%2F10%2F4&chkout=2019%2F10%2F5&regionId=179900&destination=%E6%9D%B1%E4%BA%AC+%28%E5%8F%8A%E9%84%B0%E8%BF%91%E5%9C%B0%E5%8D%80%29%2C+%E6%97%A5%E6%9C%AC&swpToggleOn=true&rm1=a1&x_pwa=1&sort=recommended&top_dp=2524&top_cur=TWD&rfrr=HSR&pwa_ts=1570019670951', '緯度': 35.675937, '評價': 3.8, '鄰近景點1': '東京都廳舍 - 開車 3 分鐘', '鄰近景點2': '新宿伊勢丹 - 開車 3 分鐘', '鄰近景點3': '新宿御苑 - 開車 4 分鐘', '鄰近景點4': '明治神宮 - 開車 6 分鐘', '鄰近景點5': '代代木公園 - 開車 8 分鐘', '飯店名稱': '幡谷櫻花飯店'}\n",
      "{'age': 23, 'been2tko': 0, 'days': 4, 'totalBudget': 30000, 'gender': 1, 'oneBudget': 500}\n",
      "[{'age': 41, 'cp_rating_dinner': 4.03, 'cp_rating_lunch': 4.94, 'feeling_rating_dinner': 4.11, 'feeling_rating_lunch': 4.96, 'female_prop': 24.16, 'label_code': 0, 'label_desc': '高消族', 'lat': 35.6732418, 'lng': 139.7695984, 'male_prop': 75.84, 'meal_duration': 1.0, 'prices_dinner': 7087, 'prices_lunch': 425, 'rest_addr': '東京都中央區銀座1-14-14', 'rest_area': '銀座', 'rest_catg': '壽司', 'rest_rating': 4.27, 'service_rating_dinner': 4.1, 'service_rating_lunch': 4.88, 'store_nm_en': 'Sushi Takahashi', 'store_nm_jp': '鮨 たかはし', 'transport': '東京メトロ\\u3000有楽町線\\u3000銀座一丁目駅\\u300010番･11番出口から徒歩２分\\n銀座駅、京橋駅からも徒歩圏内\\n\\n\\n距离銀座一丁目 244  米'}, {'age': 38, 'cp_rating_dinner': 3.65, 'cp_rating_lunch': 3.85, 'feeling_rating_dinner': 3.34, 'feeling_rating_lunch': 3.37, 'female_prop': 23.79, 'label_code': 1, 'label_desc': '平消族', 'lat': 35.7155173, 'lng': 139.7065974, 'male_prop': 76.21, 'meal_duration': 1.0, 'prices_dinner': 709, 'prices_lunch': 425, 'rest_addr': '東京都豐島區高田3-17-8', 'rest_area': '高田馬場', 'rest_catg': '炸豬排', 'rest_rating': 3.91, 'service_rating_dinner': 3.39, 'service_rating_lunch': 3.38, 'store_nm_en': 'Tonta', 'store_nm_jp': 'とん太', 'transport': 'JR山手線・西武新宿線・東京メトロ東西線「高田馬場」駅から徒歩6分\\n\\n\\n距离高田馬場 413  米'}, {'age': 35, 'cp_rating_dinner': 3.32, 'cp_rating_lunch': 3.69, 'feeling_rating_dinner': 3.35, 'feeling_rating_lunch': 3.46, 'female_prop': 23.78, 'label_code': 1, 'label_desc': '平消族', 'lat': 35.626019, 'lng': 139.7280555, 'male_prop': 76.22, 'meal_duration': 1.0, 'prices_dinner': 1559, 'prices_lunch': 425, 'rest_addr': '東京都品川區東五反田1-25-19', 'rest_area': '五反田・高輪台', 'rest_catg': '中國鍋、火鍋/四川料理/涮涮鍋', 'rest_rating': 3.82, 'service_rating_dinner': 3.32, 'service_rating_lunch': 3.56, 'store_nm_en': 'faiya-ho-ruyonsen', 'store_nm_jp': 'ファイヤーホール4000', 'transport': 'JR五反田駅東出口から徒歩約５分\\n東急五反田駅２階歩道橋出口から徒歩約５分\\n都営浅草線五反田駅Ａ６出口から徒歩約４分\\n\\n\\n距离五反田 394  米'}, {'age': 37, 'cp_rating_dinner': 3.53, 'cp_rating_lunch': 3.48, 'feeling_rating_dinner': 3.61, 'feeling_rating_lunch': 3.46, 'female_prop': 23.71, 'label_code': 1, 'label_desc': '平消族', 'lat': 35.7188559, 'lng': 139.8576853, 'male_prop': 76.29, 'meal_duration': 1.0, 'prices_dinner': 425, 'prices_lunch': 425, 'rest_addr': '東京都葛飾區東新小嵒1-4-17', 'rest_area': '小岩・新小岩', 'rest_catg': '拉麵/沾麵', 'rest_rating': 3.87, 'service_rating_dinner': 3.72, 'service_rating_lunch': 3.56, 'store_nm_en': 'Itto', 'store_nm_jp': '麺屋一燈', 'transport': '・JR総武線「新小岩」駅(北口)から徒歩3分\\n・都営バスまたは京成タウンバス「新小岩駅北口」下車してすぐ\\n\\n\\n距离新小岩 232  米'}, {'age': 38, 'cp_rating_dinner': 3.55, 'cp_rating_lunch': 3.3, 'feeling_rating_dinner': 3.74, 'feeling_rating_lunch': 3.68, 'female_prop': 27.71, 'label_code': 2, 'label_desc': '低消族', 'lat': 35.6974531, 'lng': 139.7596196, 'male_prop': 72.29, 'meal_duration': 1.0, 'prices_dinner': 142, 'prices_lunch': 142, 'rest_addr': '東京都韆代田區神田猿樂町1-2-4', 'rest_area': '神保町・水道橋', 'rest_catg': '沾麵/拉麵', 'rest_rating': 3.75, 'service_rating_dinner': 3.69, 'service_rating_lunch': 3.87, 'store_nm_en': 'Kandakatsumoto', 'store_nm_jp': '神田 勝本', 'transport': '地下鉄神保町駅 A5出口\\u3000徒歩5分\\nJR御茶ノ水駅 御茶ノ水口\\u3000徒歩7分\\n地下鉄新御茶ノ水駅 B3b出口\\u3000徒歩10分\\n\\n\\n距离神保町 251  米'}, {'age': 39, 'cp_rating_dinner': 3.78, 'cp_rating_lunch': 3.89, 'feeling_rating_dinner': 3.36, 'feeling_rating_lunch': 3.31, 'female_prop': 23.92, 'label_code': 1, 'label_desc': '平消族', 'lat': 35.6486052, 'lng': 139.7058165, 'male_prop': 76.08, 'meal_duration': 1.5, 'prices_dinner': 1984, 'prices_lunch': 425, 'rest_addr': '東京都澀穀區惠比壽西1-1-2', 'rest_area': '惠比壽', 'rest_catg': '懷石 / 會席料理/魚類料理・海鮮料理', 'rest_rating': 3.78, 'service_rating_dinner': 3.41, 'service_rating_lunch': 3.15, 'store_nm_en': 'Shokusaikadota', 'store_nm_jp': '食彩 かどた', 'transport': '東京メトロ日比谷線【恵比寿駅】(出口2番) 徒歩１分\\nＪＲ山手線・埼京線【恵比寿駅】西口\\u3000徒歩２分\\n\\n\\n距离惠比壽 144  米'}, {'age': 42, 'cp_rating_dinner': 3.34, 'cp_rating_lunch': 3.51, 'feeling_rating_dinner': 3.58, 'feeling_rating_lunch': 3.68, 'female_prop': 23.84, 'label_code': 1, 'label_desc': '平消族', 'lat': 35.7009601, 'lng': 139.7402039, 'male_prop': 76.16, 'meal_duration': 1.0, 'prices_dinner': 1984, 'prices_lunch': 425, 'rest_addr': '東京都新宿區神樂坂3-6', 'rest_area': '飯田橋・神樂坂', 'rest_catg': '蕎麥麵/日式小酒館/郷土料理（其他）', 'rest_rating': 3.86, 'service_rating_dinner': 3.44, 'service_rating_lunch': 3.57, 'store_nm_en': 'ishiusuhikiteuchikyourakutei', 'store_nm_jp': '石臼挽き手打 蕎楽亭', 'transport': '東京メトロ有楽町線・南北線【飯田橋駅】Ｂ３出口\\u3000徒歩４分\\nＪＲ中央線【飯田橋駅】西口\\u3000徒歩５分\\n都営地下鉄大江戸線【牛込神楽坂駅】徒歩５分\\n東京メトロ東西線【神楽坂駅】徒歩７分\\n\\n\\n距离牛込神樂坂 420  米'}, {'age': 36, 'cp_rating_dinner': 3.76, 'cp_rating_lunch': 4.22, 'feeling_rating_dinner': 3.53, 'feeling_rating_lunch': 3.63, 'female_prop': 23.81, 'label_code': 1, 'label_desc': '平消族', 'lat': 35.6469532, 'lng': 139.7277, 'male_prop': 76.19, 'meal_duration': 1.0, 'prices_dinner': 1984, 'prices_lunch': 425, 'rest_addr': '東京都港區南痲佈4-11-26', 'rest_area': '廣尾', 'rest_catg': '燒肉', 'rest_rating': 3.83, 'service_rating_dinner': 3.49, 'service_rating_lunch': 3.53, 'store_nm_en': 'Kirakutei', 'store_nm_jp': 'きらく亭', 'transport': '広尾駅 1番出口より 徒歩 8分 \\n白金高輪駅 A4出口より 徒歩 8分。\\n\\n\\n距离白金高輪 736  米'}]\n"
     ]
    },
    {
     "name": "stdout",
     "output_type": "stream",
     "text": [
      "=====================\n",
      " 第1天行程：\n",
      "淺草 Asakusa約16.0 公里，景點間通勤約需24 分鐘。\n",
      "---------------\n",
      "雷門 Nakamise Shopping Street (Kaminarimon)約1.8 公里，景點間通勤約需7 分鐘。\n",
      "---------------\n",
      "淺草文化觀光中心 Asakusa Culture Tourist Information Center約61 公尺，景點間通勤約需1 分鐘。\n",
      "---------------\n",
      "\n",
      "地圖連結：https://45a28610.ngrok.io/images/day1-U41cb1702814297b7ee8d90fe80f995d4-1574401718977map.html\n",
      "===============\n",
      "第2天行程：\n",
      "東京迪士尼海洋樂園 Tokyo DisneySea約27.0 公里，景點間通勤約需34 分鐘。\n",
      "---------------\n",
      "\n",
      "地圖連結：https://45a28610.ngrok.io/images/day2-U41cb1702814297b7ee8d90fe80f995d4-1574401718977map.html\n",
      "===============\n",
      "第3天行程：\n",
      "出光美術館 Idemitsu Museum約11.1 公里，景點間通勤約需19 分鐘。\n",
      "---------------\n",
      "日本武道館 Nippon Budokan約3.9 公里，景點間通勤約需10 分鐘。\n",
      "---------------\n",
      "皇居 Imperial Palace約0.7 公里，景點間通勤約需2 分鐘。\n",
      "---------------\n",
      "\n",
      "地圖連結：https://45a28610.ngrok.io/images/day3-U41cb1702814297b7ee8d90fe80f995d4-1574401718977map.html\n",
      "===============\n",
      "第4天行程：\n",
      "大江戶古董市場 - 東京國際論壇 Oedo Antique Market - Tokyo International Forum約13.2 公里，景點間通勤約需19 分鐘。\n",
      "---------------\n",
      "隅田川花火大會 Sumida River Fireworks約7.3 公里，景點間通勤約需14 分鐘。\n",
      "---------------\n",
      "板橋花火節 Itabashi Fireworks約16.9 公里，景點間通勤約需23 分鐘。\n",
      "---------------\n",
      "\n",
      "地圖連結：https://45a28610.ngrok.io/images/day4-U41cb1702814297b7ee8d90fe80f995d4-1574401718977map.html\n",
      "===============\n",
      " \n",
      "=======================\n",
      "::tripStart:\n"
     ]
    },
    {
     "name": "stderr",
     "output_type": "stream",
     "text": [
      "172.18.0.6 - - [22/Nov/2019 05:48:49] \"POST / HTTP/1.1\" 200 -\n"
     ]
    },
    {
     "name": "stdout",
     "output_type": "stream",
     "text": [
      "許宸語,U41cb1702814297b7ee8d90fe80f995d4\n",
      "{\"data\": \"tripStart\"}\n",
      "1574401718978,2019-11-22 05:48:38.978000\n"
     ]
    },
    {
     "name": "stderr",
     "output_type": "stream",
     "text": [
      "172.18.0.6 - - [22/Nov/2019 05:48:49] \"POST / HTTP/1.1\" 200 -\n"
     ]
    },
    {
     "name": "stdout",
     "output_type": "stream",
     "text": [
      "許宸語,U41cb1702814297b7ee8d90fe80f995d4\n",
      "{\"data\": \"tripStart\"}\n",
      "1574401721790,2019-11-22 05:48:41.790000\n",
      "{'age': 23, 'been2tko': 0, 'days': 4, 'budget': 30000, 'isFemale': 1, 'fbudget': 15000, 'dDate': '2020-11-14', 'rDate': '2020-11-18'}\n",
      "{'airline': 'Tigerair Taiwan', 'date_format(eta,\"%a\")': 'Sat', 'date_format(etd,\"%a\")': 'Sat', 'date_format(weEta,\"%a\")': 'Wed', 'date_format(weEtd,\"%a\")': 'Wed', 'price': 7767, 'time_format(eta,\"%T\")': '10:35:00', 'time_format(etd,\"%T\")': '06:35:00', 'time_format(sec_to_time(dur),\"%T\")': '03:00:00', 'time_format(sec_to_time(weDur),\"%T\")': '03:55:00', 'time_format(weEta,\"%T\")': '07:55:00', 'time_format(weEtd,\"%T\")': '05:00:00'}\n",
      "bk by wed\n",
      "{'age': 23, 'been2tko': 0, 'howlong': 4, 'budget': 30000, 'isFemale': 1, 'with_child': 0, 'crampedSechedule': False}\n",
      "['[{\"index\":2,\"name\":\"淺草 Asakusa\",\"rank\":\"排名第 1的台東區觀光 (共560家)\",\"address\":\"東京都台東區\",\"child\":0.0087715012,\"latitude\":35.7125736,\"longitude\":139.7802043,\"score\":241,\"chosen\":true},{\"index\":48,\"name\":\"雷門 Nakamise Shopping Street (Kaminarimon)\",\"rank\":\"排名第 18的台東區觀光 (共560家)\",\"address\":\"東京都台東區淺草1丁目3\",\"child\":0.0048539208,\"latitude\":35.7110859,\"longitude\":139.7959648,\"score\":114,\"chosen\":true},{\"index\":35,\"name\":\"淺草文化觀光中心 Asakusa Culture Tourist Information Center\",\"rank\":\"排名第 3的台東區觀光 (共560家)\",\"address\":\"東京都台東區2-18-9 Kaminarimon111-0034\",\"child\":0.0040560983,\"latitude\":35.7106489,\"longitude\":139.7965348,\"score\":106,\"chosen\":true}]', '[{\"index\":265,\"name\":\"東京迪士尼海洋樂園 Tokyo DisneySea\",\"rank\":\"排名第 1的Maihama觀光 (共5家)\",\"address\":\"千葉縣浦安Maihama1-13279-0031\",\"child\":0.75,\"latitude\":35.62675,\"longitude\":139.885095,\"score\":94,\"chosen\":true}]', '[{\"index\":173,\"name\":\"出光美術館 Idemitsu Museum\",\"rank\":\"排名第 1的Marunouchi觀光 (共7家)\",\"address\":\"東京都千代田區Marunouchi3-1-1 Marunouchi9F Teigeki Building100-0005\",\"child\":0.0,\"latitude\":35.6767601,\"longitude\":139.7611088,\"score\":70,\"chosen\":true},{\"index\":7,\"name\":\"上野恩賜公園 Ueno Park\",\"rank\":\"排名第 6的台東區觀光 (共560家)\",\"address\":\"東京都台東區池之端三丁目110-0007\",\"child\":0.0216646735,\"latitude\":35.716275,\"longitude\":139.7693612,\"score\":183,\"chosen\":true},{\"index\":115,\"name\":\"澀谷貓街 Shibuya Cat Street\",\"rank\":\"排名第 14的澀谷區觀光 (共279家)\",\"address\":\"東京都澀谷區Jingumae, Shibuya\",\"child\":0.0,\"latitude\":35.6699682,\"longitude\":139.709008,\"score\":168,\"chosen\":true}]', '[{\"index\":59,\"name\":\"惠比壽啤酒紀念館 Museum of Yebisu Beer\",\"rank\":\"排名第 12的澀谷區觀光 (共279家)\",\"address\":\"東京都澀谷區惠比壽4-20-1\",\"child\":0.0,\"latitude\":35.643115,\"longitude\":139.7145631,\"score\":70,\"chosen\":true},{\"index\":97,\"name\":\"深川不動堂 Fukagawa Fudodo\",\"rank\":\"排名第 6的江東區觀光 (共343家)\",\"address\":\"東京都江東區1-17-13 Tomioka135-0047\",\"child\":0.0,\"latitude\":35.6730205,\"longitude\":139.798301,\"score\":114,\"chosen\":true},{\"index\":199,\"name\":\"日本國立國會圖書館 National Diet Library\",\"rank\":\"排名第 35的千代田區觀光 (共446家)\",\"address\":\"東京都千代田區1-10-1, Nagatacho100-8924\",\"child\":0.0,\"latitude\":35.6784667,\"longitude\":139.7442197,\"score\":70,\"chosen\":true}]']\n",
      "{'age': 23, 'been2tko': 0, 'days': 4, 'budget': 30000, 'isFemale': 1, 'hotel budget': 800}\n",
      "{'CP': 3.341288783, 'pre': 1.0, '交通1': '神田站 - 走路 1 分鐘', '交通2': '神田站 - 走路 2 分鐘', '交通3': None, '交通便利性': '1', '價格': 1257.0, '地址': '2-9-4 Kaji-cho, Chiyoda, 東京', '廚房': 0.0, '星等': 2.0, '經度': 139.771917, '網址': 'https://www.expedia.com.tw/Tokyo-Hotels-Nine-Hours-Woman-Kanda.h18529748.Hotel-Information?chkin=2019%2F10%2F4&chkout=2019%2F10%2F5&regionId=179900&destination=%E6%9D%B1%E4%BA%AC+%28%E5%8F%8A%E9%84%B0%E8%BF%91%E5%9C%B0%E5%8D%80%29%2C+%E6%97%A5%E6%9C%AC&swpToggleOn=true&rm1=a1&x_pwa=1&sort=recommended&top_dp=1257&top_cur=TWD&rfrr=HSR&pwa_ts=1570019249825', '緯度': 35.693087, '評價': 4.2, '鄰近景點1': '秋葉原電器街 - 步行 10 分鐘', '鄰近景點2': '皇居東御苑 - 步行 25 分鐘', '鄰近景點3': '東京巨蛋 - 步行 30 分鐘', '鄰近景點4': '江戶東京博物館 - 步行 33 分鐘', '鄰近景點5': '皇居 - 步行 33 分鐘', '飯店名稱': '九小時神田女士飯店'}\n",
      "{'age': 23, 'been2tko': 0, 'days': 4, 'totalBudget': 30000, 'gender': 1, 'oneBudget': 500}\n",
      "[{'age': 39, 'cp_rating_dinner': 4.06, 'cp_rating_lunch': 4.28, 'feeling_rating_dinner': 4.17, 'feeling_rating_lunch': 4.17, 'female_prop': 24.16, 'label_code': 0, 'label_desc': '高消族', 'lat': 35.644589, 'lng': 139.7265049, 'male_prop': 75.84, 'meal_duration': 1.0, 'prices_dinner': 7087, 'prices_lunch': 3543, 'rest_addr': '東京都港區白金5-8-13', 'rest_area': '白金', 'rest_catg': '壽司', 'rest_rating': 4.28, 'service_rating_dinner': 4.14, 'service_rating_lunch': 4.25, 'store_nm_en': 'Imamura', 'store_nm_jp': '鮨 いまむら', 'transport': '白金高輪駅徒歩10分程度（北里大学病院へ向かって病院直前の右手）\\n\\n\\n距离白金高輪 722  米'}, {'age': 43, 'cp_rating_dinner': 3.46, 'cp_rating_lunch': 3.57, 'feeling_rating_dinner': 3.51, 'feeling_rating_lunch': 3.47, 'female_prop': 23.59, 'label_code': 1, 'label_desc': '平消族', 'lat': 35.6951723, 'lng': 139.7638945, 'male_prop': 76.41, 'meal_duration': 1.0, 'prices_dinner': 142, 'prices_lunch': 709, 'rest_addr': '東京都韆代田區神田小川町2-8', 'rest_area': '神田・御茶之水', 'rest_catg': '炸豬排/咖哩飯/可樂餅・油炸食品', 'rest_rating': 3.8, 'service_rating_dinner': 3.57, 'service_rating_lunch': 3.81, 'store_nm_en': 'Ponchiken', 'store_nm_jp': 'ポンチ軒', 'transport': '都営地下鉄新宿線【小川町駅】徒歩４分\\n東京メトロ丸ノ内線【淡路町駅】徒歩６分\\n東京メトロ千代田線【新御茶ノ水駅】徒歩６分\\nＪＲ中央線・総武線【御茶ノ水駅】徒歩７分\\n\\n\\n距离小川町 224  米'}, {'age': 40, 'cp_rating_dinner': 3.52, 'cp_rating_lunch': 3.7, 'feeling_rating_dinner': 3.75, 'feeling_rating_lunch': 3.74, 'female_prop': 24.31, 'label_code': 1, 'label_desc': '平消族', 'lat': 35.7159573, 'lng': 139.7936649, 'male_prop': 75.69, 'meal_duration': 1.0, 'prices_dinner': 1559, 'prices_lunch': 1276, 'rest_addr': '東京都檯東區淺草2-17-10', 'rest_area': '淺草', 'rest_catg': '壽喜燒/鍋類（其他）', 'rest_rating': 3.76, 'service_rating_dinner': 3.33, 'service_rating_lunch': 3.43, 'store_nm_en': 'Yonekyuuhonten', 'store_nm_jp': '米久本店', 'transport': 'つくばエクスプレス\\u3000浅草駅\\u3000徒歩３分\\n東京メトロ銀座線、東武伊勢崎線\\u3000浅草駅\\u3000徒歩９分\\n東京メトロ銀座線\\u3000田原町駅\\u3000徒歩９分\\n\\n\\n距离淺草 234  米'}, {'age': 40, 'cp_rating_dinner': 3.51, 'cp_rating_lunch': 3.61, 'feeling_rating_dinner': 3.5, 'feeling_rating_lunch': 3.59, 'female_prop': 23.76, 'label_code': 1, 'label_desc': '平消族', 'lat': 35.6705233, 'lng': 139.6223944, 'male_prop': 76.24, 'meal_duration': 1.0, 'prices_dinner': 142, 'prices_lunch': 142, 'rest_addr': '東京都世田穀區上北澤4-19-18', 'rest_area': '下高井戶～千歲烏山', 'rest_catg': '拉麵', 'rest_rating': 3.82, 'service_rating_dinner': 3.5, 'service_rating_lunch': 3.68, 'store_nm_en': 'Ramenkoike', 'store_nm_jp': 'らぁめん小池', 'transport': '京王本線「上北沢」駅(北口)より、徒歩４分\\n\\n\\n距离上北澤 202  米'}, {'age': 41, 'cp_rating_dinner': 3.32, 'cp_rating_lunch': 3.3, 'feeling_rating_dinner': 3.29, 'feeling_rating_lunch': 3.31, 'female_prop': 23.47, 'label_code': 1, 'label_desc': '平消族', 'lat': 35.6870985, 'lng': 139.764569, 'male_prop': 76.53, 'meal_duration': 1.0, 'prices_dinner': 142, 'prices_lunch': 142, 'rest_addr': '東京都韆代田區汍の內1-9-1', 'rest_area': '丸之內・大手町', 'rest_catg': '沾麵/拉麵', 'rest_rating': 3.79, 'service_rating_dinner': 3.37, 'service_rating_lunch': 3.41, 'store_nm_en': 'Rokurinsha', 'store_nm_jp': '六厘舎', 'transport': 'JR各線「東京」駅の八重洲口B1F\\n在来線、東海道新幹線 八重洲中央南口改札を出て、すぐ右へ。階段下りてすぐ 。\\nもしくは、八重洲地下中央改札出て右へ。突き当たり手前左側。\\n\\n\\n距离東京 130  米'}, {'age': 40, 'cp_rating_dinner': 3.38, 'cp_rating_lunch': 3.77, 'feeling_rating_dinner': 3.35, 'feeling_rating_lunch': 3.97, 'female_prop': 23.54, 'label_code': 1, 'label_desc': '平消族', 'lat': 35.682278, 'lng': 139.6982455, 'male_prop': 76.46, 'meal_duration': 1.0, 'prices_dinner': 4961, 'prices_lunch': 425, 'rest_addr': '東京都澀穀區代々木1-45-4', 'rest_area': '參宮橋・代代木八幡', 'rest_catg': '涮涮鍋/豬肉涮涮鍋/牛舌', 'rest_rating': 3.8, 'service_rating_dinner': 3.66, 'service_rating_lunch': 4.24, 'store_nm_en': 'Yoyogi Imahan', 'store_nm_jp': '代々木 今半', 'transport': '小田急小田原線【南新宿駅】徒歩３分\\nＪＲ中央線・山手線【代々木駅】西口\\u3000徒歩５分\\n都営地下鉄大江戸線【代々木駅】徒歩６分\\n\\n\\n距离南新宿 151  米'}, {'age': 44, 'cp_rating_dinner': 3.4, 'cp_rating_lunch': 3.18, 'feeling_rating_dinner': 3.64, 'feeling_rating_lunch': 3.19, 'female_prop': 23.25, 'label_code': 1, 'label_desc': '平消族', 'lat': 35.7080382, 'lng': 139.7986447, 'male_prop': 76.75, 'meal_duration': 1.0, 'prices_dinner': 142, 'prices_lunch': 425, 'rest_addr': '東京都墨田區吾妻橋1-11-2', 'rest_area': '淺草', 'rest_catg': '蕎麥麵/日本酒/燒酒', 'rest_rating': 3.77, 'service_rating_dinner': 3.6, 'service_rating_lunch': 2.96, 'store_nm_en': 'Adumabashiyabusoba', 'store_nm_jp': '吾妻橋 やぶそば', 'transport': '都営浅草線・浅草駅下車、駒形橋方面出口から橋を渡ってすぐ目の前。約５分。\\n\\n\\n距离淺草 304  米'}, {'age': 43, 'cp_rating_dinner': 3.24, 'cp_rating_lunch': 3.35, 'feeling_rating_dinner': 3.67, 'feeling_rating_lunch': 3.82, 'female_prop': 23.28, 'label_code': 1, 'label_desc': '平消族', 'lat': 35.6812097, 'lng': 139.7747558, 'male_prop': 76.72, 'meal_duration': 1.0, 'prices_dinner': 1984, 'prices_lunch': 425, 'rest_addr': '東京都中央區日本橋2-9-9', 'rest_area': '日本橋・京橋', 'rest_catg': '魚類料理・海鮮料理/星鰻/天婦羅', 'rest_rating': 3.77, 'service_rating_dinner': 3.39, 'service_rating_lunch': 3.56, 'store_nm_en': 'Tamai', 'store_nm_jp': '玉ゐ 本店', 'transport': 'ＪＲ東京駅八重洲口から高島屋デパート方面へ徒歩8分。東京メトロ銀座線・東西線、都営浅草線日本橋駅から徒歩3分。\\n\\n\\n距离日本橋 106  米'}]\n"
     ]
    },
    {
     "name": "stdout",
     "output_type": "stream",
     "text": [
      "=====================\n",
      " 第1天行程：\n",
      "淺草 Asakusa約3.4 公里，景點間通勤約需8 分鐘。\n",
      "---------------\n",
      "雷門 Nakamise Shopping Street (Kaminarimon)約1.8 公里，景點間通勤約需7 分鐘。\n",
      "---------------\n",
      "淺草文化觀光中心 Asakusa Culture Tourist Information Center約61 公尺，景點間通勤約需1 分鐘。\n",
      "---------------\n",
      "\n",
      "地圖連結：https://45a28610.ngrok.io/images/day1-U41cb1702814297b7ee8d90fe80f995d4-1574401721789map.html\n",
      "===============\n",
      "第2天行程：\n",
      "東京迪士尼海洋樂園 Tokyo DisneySea約16.3 公里，景點間通勤約需24 分鐘。\n",
      "---------------\n",
      "\n",
      "地圖連結：https://45a28610.ngrok.io/images/day2-U41cb1702814297b7ee8d90fe80f995d4-1574401721789map.html\n",
      "===============\n",
      "第3天行程：\n",
      "出光美術館 Idemitsu Museum約2.5 公里，景點間通勤約需8 分鐘。\n",
      "---------------\n",
      "澀谷貓街 Shibuya Cat Street約6.0 公里，景點間通勤約需18 分鐘。\n",
      "---------------\n",
      "上野恩賜公園 Ueno Park約13.1 公里，景點間通勤約需26 分鐘。\n",
      "---------------\n",
      "\n",
      "地圖連結：https://45a28610.ngrok.io/images/day3-U41cb1702814297b7ee8d90fe80f995d4-1574401721789map.html\n",
      "===============\n",
      "第4天行程：\n",
      "深川不動堂 Fukagawa Fudodo約5.8 公里，景點間通勤約需10 分鐘。\n",
      "---------------\n",
      "惠比壽啤酒紀念館 Museum of Yebisu Beer約12.0 公里，景點間通勤約需17 分鐘。\n",
      "---------------\n",
      "日本國立國會圖書館 National Diet Library約6.9 公里，景點間通勤約需14 分鐘。\n",
      "---------------\n",
      "\n",
      "地圖連結：https://45a28610.ngrok.io/images/day4-U41cb1702814297b7ee8d90fe80f995d4-1574401721789map.html\n",
      "===============\n",
      " \n",
      "=======================\n"
     ]
    },
    {
     "name": "stderr",
     "output_type": "stream",
     "text": [
      "172.18.0.6 - - [22/Nov/2019 05:48:55] \"POST / HTTP/1.1\" 200 -\n",
      "172.18.0.6 - - [22/Nov/2019 05:48:55] \"GET /images/day1-U41cb1702814297b7ee8d90fe80f995d4-1574401717609map.html HTTP/1.1\" 206 -\n",
      "172.18.0.6 - - [22/Nov/2019 05:48:55] \"GET /images/day2-U41cb1702814297b7ee8d90fe80f995d4-1574401717609map.html HTTP/1.1\" 206 -\n",
      "172.18.0.6 - - [22/Nov/2019 05:48:55] \"GET /images/day3-U41cb1702814297b7ee8d90fe80f995d4-1574401717609map.html HTTP/1.1\" 206 -\n"
     ]
    },
    {
     "name": "stdout",
     "output_type": "stream",
     "text": [
      "::tripStart:\n"
     ]
    },
    {
     "name": "stderr",
     "output_type": "stream",
     "text": [
      "172.18.0.6 - - [22/Nov/2019 05:48:56] \"GET /images/day3-U41cb1702814297b7ee8d90fe80f995d4-1574401717609map.html HTTP/1.1\" 200 -\n",
      "172.18.0.6 - - [22/Nov/2019 05:48:56] \"GET /images/day1-U41cb1702814297b7ee8d90fe80f995d4-1574401717609map.html HTTP/1.1\" 200 -\n",
      "172.18.0.6 - - [22/Nov/2019 05:48:56] \"GET /images/day2-U41cb1702814297b7ee8d90fe80f995d4-1574401717609map.html HTTP/1.1\" 200 -\n",
      "172.18.0.6 - - [22/Nov/2019 05:49:05] \"GET /images/day1-U41cb1702814297b7ee8d90fe80f995d4-1574401718977map.html HTTP/1.1\" 206 -\n",
      "172.18.0.6 - - [22/Nov/2019 05:49:06] \"GET /images/day1-U41cb1702814297b7ee8d90fe80f995d4-1574401718977map.html HTTP/1.1\" 200 -\n",
      "172.18.0.6 - - [22/Nov/2019 05:49:10] \"GET /images/day2-U41cb1702814297b7ee8d90fe80f995d4-1574401718977map.html HTTP/1.1\" 206 -\n",
      "172.18.0.6 - - [22/Nov/2019 05:49:11] \"GET /images/day2-U41cb1702814297b7ee8d90fe80f995d4-1574401718977map.html HTTP/1.1\" 200 -\n",
      "172.18.0.6 - - [22/Nov/2019 05:49:14] \"GET /images/day3-U41cb1702814297b7ee8d90fe80f995d4-1574401718977map.html HTTP/1.1\" 206 -\n",
      "172.18.0.6 - - [22/Nov/2019 05:49:15] \"GET /images/day1-U41cb1702814297b7ee8d90fe80f995d4-1574401721789map.html HTTP/1.1\" 206 -\n",
      "172.18.0.6 - - [22/Nov/2019 05:49:15] \"GET /images/day3-U41cb1702814297b7ee8d90fe80f995d4-1574401718977map.html HTTP/1.1\" 200 -\n",
      "172.18.0.6 - - [22/Nov/2019 05:49:16] \"GET /images/day1-U41cb1702814297b7ee8d90fe80f995d4-1574401721789map.html HTTP/1.1\" 200 -\n"
     ]
    },
    {
     "name": "stdout",
     "output_type": "stream",
     "text": [
      "{'age': 23, 'been2tko': 0, 'days': 4, 'budget': 30000, 'isFemale': 1}\n",
      "10 [{'Types': '餅乾類', 'address': '東京駅グランスタB1F', 'price': 1500, 'ranking': 83, 'souvenir': 'フェアリーケーキフェア「トーキョーステーションビスケット東京駅丸の内駅舎」', 'url': 'http://www.fairycake.jp/tokyo-station-biscuits/'}, {'Types': '餅乾類', 'address': '渋谷駅渋谷ヒカリエShinQs_B2F', 'price': 450, 'ranking': 4, 'souvenir': 'アンド_ザ_フリット「ドライフリット」', 'url': 'http://andthefriet.com/driedfriet/'}, {'Types': '餅乾類', 'address': '新宿駅伊勢丹B1F', 'price': 480, 'ranking': 78, 'souvenir': '福太郎「めんべい」', 'url': 'http://candy-showtime.com'}, {'Types': '小蛋糕類', 'address': '新宿駅NEWoman（ニュウマン）エキナカ2F', 'price': 486, 'ranking': 21, 'souvenir': 'TAICHIRO_MORINAGA「キャラメルラスク」', 'url': 'http://www.morinaga.co.jp/taichiro/'}, {'Types': '小蛋糕類', 'address': '品川駅エキュート品川サウス1F', 'price': 648, 'ranking': 100, 'souvenir': '豊島屋「鳩サブレー」', 'url': 'なし'}, {'Types': '點心類', 'address': '渋谷駅渋谷ヒカリエShinQs B2F', 'price': 401, 'ranking': 87, 'souvenir': 'パティスリー・サダハル・アオキ・パリ「東京焼きマカロンショコラ」', 'url': 'http://www.sadaharuaoki.jp/newitem/467/'}, {'Types': '巧克力類', 'address': '羽田空港第2旅客ターミナル2F東京食賓館[3番時計台前]', 'price': 1404, 'ranking': 38, 'souvenir': 'ピエール・マルコリーニ「マルコリーニ・マドレーヌ・ショコラ」', 'url': 'https://store.c-c-c.co.jp/DefaultBrandTop.aspx'}, {'Types': '巧克力類', 'address': '新宿駅伊勢丹B1F', 'price': 1620, 'ranking': 45, 'souvenir': 'ホレンディッシェ・カカオシュトゥーベ「バウムシュピッツ」', 'url': 'https://isetan.mistore.jp/onlinestore/foods/kakaostube/index.html'}, {'Types': '夾心餅乾類', 'address': '東京駅京葉ストリート1F', 'price': 864, 'ranking': 81, 'souvenir': '東京ミルクチーズ工場「ソルト＆カマンベール」', 'url': 'http://www.rl-waffle.co.jp'}, {'Types': '夾心餅乾類', 'address': '新宿駅NEWoman（ニュウマン）エキナカ2F', 'price': 864, 'ranking': 3, 'souvenir': 'Butter_Butler（バターバトラー）「バターフィナンシェ」', 'url': 'http://andthefriet.com/driedfriet/'}]\n"
     ]
    },
    {
     "name": "stderr",
     "output_type": "stream",
     "text": [
      "172.18.0.6 - - [22/Nov/2019 05:49:17] \"POST / HTTP/1.1\" 200 -\n"
     ]
    },
    {
     "name": "stdout",
     "output_type": "stream",
     "text": [
      "::souvenir:\n"
     ]
    },
    {
     "name": "stderr",
     "output_type": "stream",
     "text": [
      "172.18.0.6 - - [22/Nov/2019 05:49:17] \"POST / HTTP/1.1\" 200 -\n"
     ]
    },
    {
     "name": "stdout",
     "output_type": "stream",
     "text": [
      "許宸語,U41cb1702814297b7ee8d90fe80f995d4\n",
      "{\"data\": \"souvenir\"}\n",
      "1574401756052,2019-11-22 05:49:16.052000\n"
     ]
    },
    {
     "name": "stderr",
     "output_type": "stream",
     "text": [
      "172.18.0.6 - - [22/Nov/2019 05:49:20] \"GET /images/day2-U41cb1702814297b7ee8d90fe80f995d4-1574401721789map.html HTTP/1.1\" 206 -\n",
      "172.18.0.6 - - [22/Nov/2019 05:49:21] \"GET /images/day2-U41cb1702814297b7ee8d90fe80f995d4-1574401721789map.html HTTP/1.1\" 200 -\n",
      "172.18.0.6 - - [22/Nov/2019 05:49:22] \"GET /images/day4-U41cb1702814297b7ee8d90fe80f995d4-1574401718977map.html HTTP/1.1\" 206 -\n",
      "172.18.0.6 - - [22/Nov/2019 05:49:23] \"GET /images/day4-U41cb1702814297b7ee8d90fe80f995d4-1574401718977map.html HTTP/1.1\" 200 -\n",
      "172.18.0.6 - - [22/Nov/2019 05:49:25] \"GET /images/day3-U41cb1702814297b7ee8d90fe80f995d4-1574401721789map.html HTTP/1.1\" 206 -\n",
      "172.18.0.6 - - [22/Nov/2019 05:49:26] \"POST / HTTP/1.1\" 200 -\n"
     ]
    },
    {
     "name": "stdout",
     "output_type": "stream",
     "text": [
      "許宸語,U41cb1702814297b7ee8d90fe80f995d4\n",
      "{\"data\": \"poi\"}\n",
      "1574401765863,2019-11-22 05:49:25.863000\n"
     ]
    },
    {
     "name": "stderr",
     "output_type": "stream",
     "text": [
      "172.18.0.6 - - [22/Nov/2019 05:49:27] \"POST / HTTP/1.1\" 200 -\n",
      "172.18.0.6 - - [22/Nov/2019 05:49:27] \"GET /images/day3-U41cb1702814297b7ee8d90fe80f995d4-1574401721789map.html HTTP/1.1\" 200 -\n"
     ]
    },
    {
     "name": "stdout",
     "output_type": "stream",
     "text": [
      "::POI:\n",
      "{'age': 23, 'been2tko': 0, 'howlong': 4, 'budget': 30000, 'isFemale': 1, 'with_child': 0, 'crampedSechedule': False}\n",
      "['[{\"index\":265,\"name\":\"東京迪士尼海洋樂園 Tokyo DisneySea\",\"rank\":\"排名第 1的Maihama觀光 (共5家)\",\"address\":\"千葉縣浦安Maihama1-13279-0031\",\"child\":0.75,\"latitude\":35.62675,\"longitude\":139.885095,\"score\":94,\"chosen\":true}]', '[{\"index\":225,\"name\":\"東京馬拉松 Tokyo Marathon\",\"rank\":\"排名第 12的新宿區觀光 (共419家)\",\"address\":\"東京都新宿區2-8-1 NishishinjukuTokyo Metropolitan Government Building163-8001\",\"child\":0.0542821379,\"latitude\":35.6898531,\"longitude\":139.6917321,\"score\":70,\"chosen\":true},{\"index\":29,\"name\":\"表參道 Omotesando\",\"rank\":\"排名第 2的Jingumae觀光 (共24家)\",\"address\":\"東京都澀谷區Jingumae150-0001\",\"child\":0.0207001871,\"latitude\":35.6619707,\"longitude\":139.703795,\"score\":114,\"chosen\":true},{\"index\":172,\"name\":\"春花園 BONSAI 美術館 Shunkaen BONSAI Museum\",\"rank\":\"排名第 5的江戶川區觀光 (共191家)\",\"address\":\"東京都江戶川區1-29-16 Nihori132-0001\",\"child\":0.3118335945,\"latitude\":35.702613,\"longitude\":139.888161,\"score\":70,\"chosen\":true}]', '[{\"index\":173,\"name\":\"出光美術館 Idemitsu Museum\",\"rank\":\"排名第 1的Marunouchi觀光 (共7家)\",\"address\":\"東京都千代田區Marunouchi3-1-1 Marunouchi9F Teigeki Building100-0005\",\"child\":0.0,\"latitude\":35.6767601,\"longitude\":139.7611088,\"score\":70,\"chosen\":true},{\"index\":19,\"name\":\"千鳥淵 Chidorigafuchi\",\"rank\":\"排名第 2的千代田區觀光 (共446家)\",\"address\":\"東京都千代田區1-1 Kitanomarukoen102-0091\",\"child\":0.0026689659,\"latitude\":35.693369,\"longitude\":139.747841,\"score\":114,\"chosen\":true},{\"index\":197,\"name\":\"總持寺(西新井大師) Sojiji Temple (Nishiarai Daishi)\",\"rank\":\"排名第 1的足立區觀光 (共99家)\",\"address\":\"東京都足立區西新井1-15-1123-0841\",\"child\":0.0199021535,\"latitude\":35.7797053,\"longitude\":139.7802249,\"score\":114,\"chosen\":true}]']\n",
      "東京迪士尼海洋樂園 Tokyo DisneySea\n",
      "大東京都會排名第 1的Maihama觀光 (共5家)\n",
      "地址：千葉縣浦安Maihama1-13279-0031。\n",
      "---------------\n",
      "\n",
      "東京迪士尼海洋樂園 Tokyo DisneySea\n",
      "大東京都會排名第 1的Maihama觀光 (共5家)\n",
      "地址：千葉縣浦安Maihama1-13279-0031。\n",
      "---------------\n",
      "===============\n",
      "東京馬拉松 Tokyo Marathon\n",
      "大東京都會排名第 12的新宿區觀光 (共419家)\n",
      "地址：東京都新宿區2-8-1 NishishinjukuTokyo Metropolitan Government Building163-8001。\n",
      "---------------\n",
      "表參道 Omotesando\n",
      "大東京都會排名第 2的Jingumae觀光 (共24家)\n",
      "地址：東京都澀谷區Jingumae150-0001。\n",
      "---------------\n",
      "春花園 BONSAI 美術館 Shunkaen BONSAI Museum\n",
      "大東京都會排名第 5的江戶川區觀光 (共191家)\n",
      "地址：東京都江戶川區1-29-16 Nihori132-0001。\n",
      "---------------\n",
      "\n",
      "東京迪士尼海洋樂園 Tokyo DisneySea\n",
      "大東京都會排名第 1的Maihama觀光 (共5家)\n",
      "地址：千葉縣浦安Maihama1-13279-0031。\n",
      "---------------\n",
      "東京馬拉松 Tokyo Marathon\n",
      "大東京都會排名第 12的新宿區觀光 (共419家)\n",
      "地址：東京都新宿區2-8-1 NishishinjukuTokyo Metropolitan Government Building163-8001。\n",
      "---------------\n",
      "表參道 Omotesando\n",
      "大東京都會排名第 2的Jingumae觀光 (共24家)\n",
      "地址：東京都澀谷區Jingumae150-0001。\n",
      "---------------\n",
      "春花園 BONSAI 美術館 Shunkaen BONSAI Museum\n",
      "大東京都會排名第 5的江戶川區觀光 (共191家)\n",
      "地址：東京都江戶川區1-29-16 Nihori132-0001。\n",
      "---------------\n",
      "===============\n",
      "出光美術館 Idemitsu Museum\n",
      "大東京都會排名第 1的Marunouchi觀光 (共7家)\n",
      "地址：東京都千代田區Marunouchi3-1-1 Marunouchi9F Teigeki Building100-0005。\n",
      "---------------\n",
      "千鳥淵 Chidorigafuchi\n",
      "大東京都會排名第 2的千代田區觀光 (共446家)\n",
      "地址：東京都千代田區1-1 Kitanomarukoen102-0091。\n",
      "---------------\n",
      "總持寺(西新井大師) Sojiji Temple (Nishiarai Daishi)\n",
      "大東京都會排名第 1的足立區觀光 (共99家)\n",
      "地址：東京都足立區西新井1-15-1123-0841。\n",
      "---------------\n",
      "\n",
      "東京迪士尼海洋樂園 Tokyo DisneySea\n",
      "大東京都會排名第 1的Maihama觀光 (共5家)\n",
      "地址：千葉縣浦安Maihama1-13279-0031。\n",
      "---------------\n",
      "東京馬拉松 Tokyo Marathon\n",
      "大東京都會排名第 12的新宿區觀光 (共419家)\n",
      "地址：東京都新宿區2-8-1 NishishinjukuTokyo Metropolitan Government Building163-8001。\n",
      "---------------\n",
      "表參道 Omotesando\n",
      "大東京都會排名第 2的Jingumae觀光 (共24家)\n",
      "地址：東京都澀谷區Jingumae150-0001。\n",
      "---------------\n",
      "春花園 BONSAI 美術館 Shunkaen BONSAI Museum\n",
      "大東京都會排名第 5的江戶川區觀光 (共191家)\n",
      "地址：東京都江戶川區1-29-16 Nihori132-0001。\n",
      "---------------\n",
      "出光美術館 Idemitsu Museum\n",
      "大東京都會排名第 1的Marunouchi觀光 (共7家)\n",
      "地址：東京都千代田區Marunouchi3-1-1 Marunouchi9F Teigeki Building100-0005。\n",
      "---------------\n",
      "千鳥淵 Chidorigafuchi\n",
      "大東京都會排名第 2的千代田區觀光 (共446家)\n",
      "地址：東京都千代田區1-1 Kitanomarukoen102-0091。\n",
      "---------------\n",
      "總持寺(西新井大師) Sojiji Temple (Nishiarai Daishi)\n",
      "大東京都會排名第 1的足立區觀光 (共99家)\n",
      "地址：東京都足立區西新井1-15-1123-0841。\n",
      "---------------\n",
      "===============\n"
     ]
    },
    {
     "name": "stderr",
     "output_type": "stream",
     "text": [
      "172.18.0.6 - - [22/Nov/2019 05:54:38] \"POST / HTTP/1.1\" 200 -\n"
     ]
    },
    {
     "name": "stdout",
     "output_type": "stream",
     "text": [
      "許宸語,U41cb1702814297b7ee8d90fe80f995d4\n",
      "{\"data\": \"poiPush\"}\n",
      "1574402076115,2019-11-22 05:54:36.115000\n"
     ]
    },
    {
     "name": "stderr",
     "output_type": "stream",
     "text": [
      "172.18.0.6 - - [22/Nov/2019 05:54:51] \"POST / HTTP/1.1\" 200 -\n"
     ]
    },
    {
     "name": "stdout",
     "output_type": "stream",
     "text": [
      "許宸語,U41cb1702814297b7ee8d90fe80f995d4\n",
      "{\"data\": \"flight-hotel\"}\n",
      "1574402090733,2019-11-22 05:54:50.733000\n",
      "{'age': 23, 'been2tko': 0, 'days': 4, 'budget': 30000, 'isFemale': 1, 'fbudget': 15000, 'dDate': '2020-11-14', 'rDate': '2020-11-18'}\n",
      "{'airline': 'Tigerair Taiwan', 'date_format(eta,\"%a\")': 'Sat', 'date_format(etd,\"%a\")': 'Sat', 'date_format(weEta,\"%a\")': 'Wed', 'date_format(weEtd,\"%a\")': 'Wed', 'price': 7767, 'time_format(eta,\"%T\")': '10:35:00', 'time_format(etd,\"%T\")': '06:35:00', 'time_format(sec_to_time(dur),\"%T\")': '03:00:00', 'time_format(sec_to_time(weDur),\"%T\")': '03:55:00', 'time_format(weEta,\"%T\")': '07:55:00', 'time_format(weEtd,\"%T\")': '05:00:00'}\n",
      "bk by wed\n",
      "{'age': 23, 'been2tko': 0, 'days': 4, 'budget': 30000, 'isFemale': 1, 'hotel budget': 800}\n",
      "{'CP': 2.078298695, 'pre': 1.0, '交通1': '惠比壽站 - 走路 11 分鐘', '交通2': '惠比壽站 - 走路 13 分鐘', '交通3': '東京, 日本 (HND-羽田機場) - 車程 27 分鐘', '交通便利性': '11', '價格': 2069.0, '地址': '1-29-3, Higashi, 東京, 東京', '廚房': 0.0, '星等': 2.0, '經度': 139.7071, '網址': 'https://www.expedia.com.tw/Tokyo-Hotels-MUSTARD-HOTEL-SHIBUYA-Hostel.h27144344.Hotel-Information?chkin=2019%2F10%2F4&chkout=2019%2F10%2F5&regionId=179900&destination=%E6%9D%B1%E4%BA%AC+%28%E5%8F%8A%E9%84%B0%E8%BF%91%E5%9C%B0%E5%8D%80%29%2C+%E6%97%A5%E6%9C%AC&swpToggleOn=true&rm1=a1&x_pwa=1&sort=recommended&top_dp=2069&top_cur=TWD&rfrr=HSR&pwa_ts=1570020098503', '緯度': 35.65349, '評價': 4.3, '鄰近景點1': '澀谷十字路口 - 步行 14 分鐘', '鄰近景點2': '森美術館 - 開車 4 分鐘', '鄰近景點3': '東京中城 - 開車 4 分鐘', '鄰近景點4': '明治神宮 - 開車 12 分鐘', '鄰近景點5': '代代木公園 - 開車 16 分鐘', '飯店名稱': '澀谷芥末飯店 - 青年旅舍'}\n",
      "[{\"text\": \"\\u8b93\\u60a8\\u4e45\\u7b49\\u4e86\\u3002\\n\\u4f9d\\u64da\\u60a8\\u7684\\u504f\\u597d\\u5206\\u6790\\uff0c\\u6700\\u9069\\u5408\\u60a8\\u7684\\u822a\\u73ed\\u70baTigerair Taiwan\\uff0c\\u53c3\\u8003\\u50f9\\u683c\\u70baNTD$7767\\u3002\\n\\n\\u51fa\\u767c\\u8d77\\u98db\\u6642\\u9593\\u70ba(\\u53f0\\u5317)2020-11-14(Sat) 06:35:00\\uff0c\\u9700\\u664203:00:00\\uff0c\\u62b5\\u9054\\u6642\\u9593\\u70ba(\\u6771\\u4eac)2020-11-14(Sat) 10:35:00\\u3002\\n\\n\\u56de\\u570b\\u8d77\\u98db\\u6642\\u9593\\u70ba(\\u6771\\u4eac)2020-11-18(Wed) 05:00:00\\uff0c\\u9700\\u664203:55:00\\uff0c\\u62b5\\u9054\\u6642\\u9593\\u70ba(\\u53f0\\u5317)2020-11-18(Wed) 07:55:00\\u3002\\n---------------\\n\\n\\n\\u6700\\u9069\\u5408\\u60a8\\u7684\\u98ef\\u5e97\\u70ba\\n\\u6f80\\u8c37\\u82a5\\u672b\\u98ef\\u5e97 - \\u9752\\u5e74\\u65c5\\u820d\\uff0c2\\u9846\\u661f\\uff0c\\u7528\\u6236\\u8a55\\u50f94.3/5\\uff0c\\n\\u6bcf\\u665a\\u53c3\\u8003\\u50f9\\u683c\\u70baNTD$2069\\u3002\\n\\u5730\\u5740\\u70ba1-29-3, Higashi, \\u6771\\u4eac, \\u6771\\u4eac\\u3002\\n\\n\\u9130\\u8fd1\\u5730\\u9435\\u7ad9\\uff1a\\n\\u60e0\\u6bd4\\u58fd\\u7ad9 - \\u8d70\\u8def 11 \\u5206\\u9418\\uff0c\\n\\u60e0\\u6bd4\\u58fd\\u7ad9 - \\u8d70\\u8def 13 \\u5206\\u9418\\u3002\\n\\n\\u9644\\u8fd1\\u666f\\u9ede\\uff1a\\n\\u6f80\\u8c37\\u5341\\u5b57\\u8def\\u53e3 - \\u6b65\\u884c 14 \\u5206\\u9418\\uff0c\\n\\u68ee\\u7f8e\\u8853\\u9928 - \\u958b\\u8eca 4 \\u5206\\u9418\\uff0c\\n\\u6771\\u4eac\\u4e2d\\u57ce - \\u958b\\u8eca 4 \\u5206\\u9418\\u3002\", \"type\": \"text\"}, {\"packageId\": \"11537\", \"stickerId\": \"52002745\", \"type\": \"sticker\"}]\n"
     ]
    },
    {
     "name": "stderr",
     "output_type": "stream",
     "text": [
      "172.18.0.6 - - [22/Nov/2019 05:54:52] \"POST / HTTP/1.1\" 200 -\n"
     ]
    },
    {
     "name": "stdout",
     "output_type": "stream",
     "text": [
      "::flightHotel:\n"
     ]
    },
    {
     "name": "stderr",
     "output_type": "stream",
     "text": [
      "172.18.0.6 - - [22/Nov/2019 05:54:58] \"POST / HTTP/1.1\" 200 -\n"
     ]
    },
    {
     "name": "stdout",
     "output_type": "stream",
     "text": [
      "許宸語,U41cb1702814297b7ee8d90fe80f995d4\n",
      "{\"data\": \"faq\"}\n",
      "1574402097274,2019-11-22 05:54:57.274000\n"
     ]
    },
    {
     "name": "stderr",
     "output_type": "stream",
     "text": [
      "172.18.0.6 - - [22/Nov/2019 05:54:58] \"POST / HTTP/1.1\" 200 -\n"
     ]
    },
    {
     "name": "stdout",
     "output_type": "stream",
     "text": [
      "::FAQ:\n",
      "許宸語,U41cb1702814297b7ee8d90fe80f995d4\n",
      "{\"data\": \"faq\"}\n",
      "1574402098464,2019-11-22 05:54:58.464000\n"
     ]
    },
    {
     "name": "stderr",
     "output_type": "stream",
     "text": [
      "172.18.0.6 - - [22/Nov/2019 05:54:59] \"POST / HTTP/1.1\" 200 -\n"
     ]
    },
    {
     "name": "stdout",
     "output_type": "stream",
     "text": [
      "::FAQ:\n"
     ]
    },
    {
     "name": "stderr",
     "output_type": "stream",
     "text": [
      "172.18.0.6 - - [22/Nov/2019 05:57:52] \"POST / HTTP/1.1\" 200 -\n",
      "172.18.0.6 - - [22/Nov/2019 07:50:50] \"POST / HTTP/1.1\" 200 -\n",
      "172.18.0.6 - - [22/Nov/2019 07:58:03] \"POST / HTTP/1.1\" 200 -\n",
      "172.18.0.6 - - [22/Nov/2019 07:58:12] \"POST / HTTP/1.1\" 200 -\n"
     ]
    },
    {
     "name": "stdout",
     "output_type": "stream",
     "text": [
      "善存\n",
      "Uafd304bc7760f1330382df72a7f78de1\n",
      "https://profile.line-scdn.net/0hKwHCa4wgFFh1Oj9FM3ZrD0l_GjUCFBIQDVlea1U-TGgPC1sIHltaO1kzHm1ZCFVeG1gLOVY7HW5b\n",
      "None\n"
     ]
    },
    {
     "name": "stderr",
     "output_type": "stream",
     "text": [
      "172.18.0.6 - - [22/Nov/2019 07:58:22] \"POST / HTTP/1.1\" 200 -\n"
     ]
    },
    {
     "name": "stdout",
     "output_type": "stream",
     "text": [
      "善存,Uafd304bc7760f1330382df72a7f78de1\n",
      "{\"data\": \"gender,0\"}\n",
      "1574409501520,2019-11-22 07:58:21.520000\n"
     ]
    },
    {
     "name": "stderr",
     "output_type": "stream",
     "text": [
      "172.18.0.6 - - [22/Nov/2019 07:59:21] \"POST / HTTP/1.1\" 200 -\n"
     ]
    },
    {
     "name": "stdout",
     "output_type": "stream",
     "text": [
      "善存,Uafd304bc7760f1330382df72a7f78de1\n",
      "{\"data\": \"birthday\", \"params\": {\"date\": \"1995-04-20\"}}\n",
      "1574409560362,2019-11-22 07:59:20.362000\n"
     ]
    },
    {
     "name": "stderr",
     "output_type": "stream",
     "text": [
      "172.18.0.6 - - [22/Nov/2019 07:59:41] \"POST / HTTP/1.1\" 200 -\n"
     ]
    },
    {
     "name": "stdout",
     "output_type": "stream",
     "text": [
      "@1\n"
     ]
    },
    {
     "name": "stderr",
     "output_type": "stream",
     "text": [
      "172.18.0.6 - - [22/Nov/2019 08:46:46] \"POST / HTTP/1.1\" 200 -\n"
     ]
    },
    {
     "name": "stdout",
     "output_type": "stream",
     "text": [
      "Sean K.,Udab78edc8aea5ffd79ec528a8e18676e\n",
      "{\"data\": \"update\"}\n",
      "1574412405699,2019-11-22 08:46:45.699000\n"
     ]
    },
    {
     "name": "stderr",
     "output_type": "stream",
     "text": [
      "172.18.0.6 - - [22/Nov/2019 08:46:53] \"POST / HTTP/1.1\" 200 -\n"
     ]
    },
    {
     "name": "stdout",
     "output_type": "stream",
     "text": [
      "Sean K.,Udab78edc8aea5ffd79ec528a8e18676e\n",
      "{\"data\": \"gender,0\"}\n",
      "1574412412360,2019-11-22 08:46:52.360000\n"
     ]
    },
    {
     "name": "stderr",
     "output_type": "stream",
     "text": [
      "172.18.0.6 - - [22/Nov/2019 08:47:12] \"POST / HTTP/1.1\" 200 -\n"
     ]
    },
    {
     "name": "stdout",
     "output_type": "stream",
     "text": [
      "Sean K.,Udab78edc8aea5ffd79ec528a8e18676e\n",
      "{\"data\": \"birthday\", \"params\": {\"date\": \"1989-10-18\"}}\n",
      "1574412431582,2019-11-22 08:47:11.582000\n"
     ]
    },
    {
     "name": "stderr",
     "output_type": "stream",
     "text": [
      "172.18.0.6 - - [22/Nov/2019 08:47:32] \"POST / HTTP/1.1\" 200 -\n"
     ]
    },
    {
     "name": "stdout",
     "output_type": "stream",
     "text": [
      "@6\n"
     ]
    },
    {
     "name": "stderr",
     "output_type": "stream",
     "text": [
      "172.18.0.6 - - [22/Nov/2019 08:48:13] \"POST / HTTP/1.1\" 200 -\n"
     ]
    },
    {
     "name": "stdout",
     "output_type": "stream",
     "text": [
      "$40000$18000$2000$1000\n"
     ]
    },
    {
     "name": "stderr",
     "output_type": "stream",
     "text": [
      "172.18.0.6 - - [22/Nov/2019 08:48:19] \"POST / HTTP/1.1\" 200 -\n"
     ]
    },
    {
     "name": "stdout",
     "output_type": "stream",
     "text": [
      "Sean K.,Udab78edc8aea5ffd79ec528a8e18676e\n",
      "{\"data\": \"partner,1\"}\n",
      "1574412498453,2019-11-22 08:48:18.453000\n"
     ]
    },
    {
     "name": "stderr",
     "output_type": "stream",
     "text": [
      "172.18.0.6 - - [22/Nov/2019 08:48:23] \"POST / HTTP/1.1\" 200 -\n"
     ]
    },
    {
     "name": "stdout",
     "output_type": "stream",
     "text": [
      "Sean K.,Udab78edc8aea5ffd79ec528a8e18676e\n",
      "{\"data\": \"style,0\"}\n",
      "1574412502521,2019-11-22 08:48:22.521000\n"
     ]
    },
    {
     "name": "stderr",
     "output_type": "stream",
     "text": [
      "172.18.0.6 - - [22/Nov/2019 08:48:39] \"POST / HTTP/1.1\" 200 -\n"
     ]
    },
    {
     "name": "stdout",
     "output_type": "stream",
     "text": [
      "Sean K.,Udab78edc8aea5ffd79ec528a8e18676e\n",
      "{\"data\": \"deptDate\", \"params\": {\"date\": \"2019-12-27\"}}\n",
      "1574412518170,2019-11-22 08:48:38.170000\n"
     ]
    },
    {
     "name": "stderr",
     "output_type": "stream",
     "text": [
      "172.18.0.6 - - [22/Nov/2019 08:48:54] \"POST / HTTP/1.1\" 200 -\n"
     ]
    },
    {
     "name": "stdout",
     "output_type": "stream",
     "text": [
      "Sean K.,Udab78edc8aea5ffd79ec528a8e18676e\n",
      "{\"data\": \"retDate\", \"params\": {\"date\": \"2020-01-02\"}}\n",
      "1574412533342,2019-11-22 08:48:53.342000\n",
      "{'age': 30, 'been2tko': 6, 'days': 6, 'budget': 40000, 'isFemale': 0, 'fbudget': 18000, 'dDate': '2019-12-27', 'rDate': '2020-01-02'}\n",
      "{'airline': 'Scoot', 'date_format(eta,\"%a\")': 'Fri', 'date_format(etd,\"%a\")': 'Fri', 'date_format(thEta,\"%a\")': 'Thu', 'date_format(thEtd,\"%a\")': 'Thu', 'price': 7033, 'time_format(eta,\"%T\")': '10:45:00', 'time_format(etd,\"%T\")': '06:40:00', 'time_format(sec_to_time(dur),\"%T\")': '03:05:00', 'time_format(sec_to_time(thDur),\"%T\")': '04:20:00', 'time_format(thEta,\"%T\")': '23:30:00', 'time_format(thEtd,\"%T\")': '20:10:00'}\n",
      "bk by thu\n",
      "{'age': 30, 'been2tko': 6, 'howlong': 6, 'budget': 40000, 'isFemale': 0, 'with_child': 0, 'crampedSechedule': False}\n",
      "['[{\"index\":2,\"name\":\"淺草 Asakusa\",\"rank\":\"排名第 1的台東區觀光 (共560家)\",\"address\":\"東京都台東區\",\"child\":0.0087715012,\"latitude\":35.7125736,\"longitude\":139.7802043,\"score\":241,\"chosen\":true},{\"index\":48,\"name\":\"雷門 Nakamise Shopping Street (Kaminarimon)\",\"rank\":\"排名第 18的台東區觀光 (共560家)\",\"address\":\"東京都台東區淺草1丁目3\",\"child\":0.0048539208,\"latitude\":35.7110859,\"longitude\":139.7959648,\"score\":114,\"chosen\":true},{\"index\":35,\"name\":\"淺草文化觀光中心 Asakusa Culture Tourist Information Center\",\"rank\":\"排名第 3的台東區觀光 (共560家)\",\"address\":\"東京都台東區2-18-9 Kaminarimon111-0034\",\"child\":0.0040560983,\"latitude\":35.7106489,\"longitude\":139.7965348,\"score\":106,\"chosen\":true}]', '[{\"index\":264,\"name\":\"東京迪士尼樂園 Tokyo Disneyland\",\"rank\":\"排名第 2的Maihama觀光 (共5家)\",\"address\":\"千葉縣浦安Maihama1-1279-8511\",\"child\":1.0,\"latitude\":35.632906,\"longitude\":139.880391,\"score\":94,\"chosen\":true}]', '[{\"index\":59,\"name\":\"惠比壽啤酒紀念館 Museum of Yebisu Beer\",\"rank\":\"排名第 12的澀谷區觀光 (共279家)\",\"address\":\"東京都澀谷區惠比壽4-20-1\",\"child\":0.0,\"latitude\":35.643115,\"longitude\":139.7145631,\"score\":70,\"chosen\":true},{\"index\":253,\"name\":\" Japan Ground Defence Force PR center\",\"rank\":\"排名第 5的練馬區觀光 (共112家)\",\"address\":\"東京都練馬區Oizumi Gakuencho178-0061\",\"child\":0.0,\"latitude\":35.752139,\"longitude\":139.58436,\"score\":70,\"chosen\":true},{\"index\":168,\"name\":\"淺草演芸 Asakusa Engei Hall\",\"rank\":\"排名第 24的台東區觀光 (共560家)\",\"address\":\"東京都台東區1-43-12 Asakusa111-0032\",\"child\":0.0,\"latitude\":35.7134969,\"longitude\":139.7930413,\"score\":106,\"chosen\":true}]', '[{\"index\":65,\"name\":\"消防博物館 Fire Museum\",\"rank\":\"排名第 1的Yotsuya觀光 (共9家)\",\"address\":\"東京都新宿區Yotsuya四谷3-10160-0004\",\"child\":0.851345428,\"latitude\":35.6879356,\"longitude\":139.7201799,\"score\":70,\"chosen\":true},{\"index\":181,\"name\":\"新丸之內大樓 Shin-Marunouchi Building\",\"rank\":\"排名第 30的千代田區觀光 (共446家)\",\"address\":\"東京都千代田區1-5-1 MarunouchiShin Marunouchi Bldg B1F100-6590\",\"child\":0.0,\"latitude\":35.6826212,\"longitude\":139.7642436,\"score\":84,\"chosen\":true},{\"index\":175,\"name\":\"2k540 AKI-OKA ARTIZAN\",\"rank\":\"排名第 25的台東區觀光 (共560家)\",\"address\":\"東京都台東區5-9 Ueno110-0005\",\"child\":0.0877469345,\"latitude\":35.703071,\"longitude\":139.773994,\"score\":84,\"chosen\":true}]', '[{\"index\":173,\"name\":\"出光美術館 Idemitsu Museum\",\"rank\":\"排名第 1的Marunouchi觀光 (共7家)\",\"address\":\"東京都千代田區Marunouchi3-1-1 Marunouchi9F Teigeki Building100-0005\",\"child\":0.0,\"latitude\":35.6767601,\"longitude\":139.7611088,\"score\":70,\"chosen\":true},{\"index\":30,\"name\":\"代代木公園 Yoyogi Park\",\"rank\":\"排名第 7的澀谷區觀光 (共279家)\",\"address\":\"東京都澀谷區代代木神園町·神南二丁目151-0052\",\"child\":0.0381138154,\"latitude\":35.6715869,\"longitude\":139.6967028,\"score\":114,\"chosen\":true},{\"index\":53,\"name\":\"東京中城 Tokyo Midtown\",\"rank\":\"排名第 24的港區觀光 (共626家)\",\"address\":\"東京都港區9-7-2 Akasaka107-6290\",\"child\":0.0207884389,\"latitude\":35.6654288,\"longitude\":139.7313736,\"score\":84,\"chosen\":true}]', '[{\"index\":187,\"name\":\"月島燒 文字燒街 Tsukishima Monjya Street\",\"rank\":\"排名第 25的中央區觀光 (共577家)\",\"address\":\"東京都中央區Tsukishima\",\"child\":0.0773768629,\"latitude\":35.6635905,\"longitude\":139.7818227,\"score\":70,\"chosen\":true},{\"index\":236,\"name\":\"東京國際會展中心 Tokyo Big Sight\",\"rank\":\"排名第 16的江東區觀光 (共343家)\",\"address\":\"東京都江東區有明3-21-1135-0063\",\"child\":0.0,\"latitude\":35.6421522,\"longitude\":139.8130282,\"score\":114,\"chosen\":true},{\"index\":3,\"name\":\"築地市場 The Tsukiji Market\",\"rank\":\"排名第 4的Tsukiji觀光 (共20家)\",\"address\":\"東京都中央區Tsukiji築地5-2-1104-0045\",\"child\":0.005553454,\"latitude\":35.6615966,\"longitude\":139.7696807,\"score\":114,\"chosen\":true}]']\n",
      "{'age': 30, 'been2tko': 6, 'days': 6, 'budget': 40000, 'isFemale': 0, 'hotel budget': 2000}\n",
      "{'CP': 3.032659409, 'pre': 2.0, '交通1': '森下站 - 走路 7 分鐘', '交通2': '馬?町站 - 走路 18 分鐘', '交通3': '東京, 日本 (NRT-成田國際機場) - 車程 45 分鐘', '交通便利性': '7', '價格': 1286.0, '地址': '3-43-8, Nihonbashi Hama-cho, Chuo-ku, 東京, Tokyo-to', '廚房': 0.0, '星等': 3.0, '經度': 139.791635, '網址': 'https://www.expedia.com.tw/Tokyo-Hotels-APA-Hotel-Nihombashi-Hamachoeki-Minami.h4095759.Hotel-Information?chkin=2019%2F10%2F4&chkout=2019%2F10%2F5&regionId=179900&destination=%E6%9D%B1%E4%BA%AC+%28%E5%8F%8A%E9%84%B0%E8%BF%91%E5%9C%B0%E5%8D%80%29%2C+%E6%97%A5%E6%9C%AC&swpToggleOn=true&rm1=a1&x_pwa=1&sort=recommended&top_dp=1286&top_cur=TWD&rfrr=HSR&pwa_ts=1570019075362', '緯度': 35.686301, '評價': 3.9, '鄰近景點1': '濱町公園 - 步行 6 分鐘', '鄰近景點2': '江戶東京博物館 - 開車 2 分鐘', '鄰近景點3': '歌舞伎座 - 開車 3 分鐘', '鄰近景點4': '秋葉原電器街 - 開車 3 分鐘', '鄰近景點5': '淺草公會堂 - 開車 14 分鐘', '飯店名稱': '日本橋濱町站南 APA 飯店'}\n",
      "{'age': 30, 'been2tko': 6, 'days': 6, 'totalBudget': 40000, 'gender': 0, 'oneBudget': 1000}\n",
      "[{'age': 34, 'cp_rating_dinner': 3.95, 'cp_rating_lunch': 3.9, 'feeling_rating_dinner': 3.98, 'feeling_rating_lunch': 4.46, 'female_prop': 23.66, 'label_code': 0, 'label_desc': '高消族', 'lat': 35.6764472, 'lng': 139.7358886, 'male_prop': 76.34, 'meal_duration': 1.0, 'prices_dinner': 7087, 'prices_lunch': 3543, 'rest_addr': '東京都港區赤坂3-21-10', 'rest_area': '赤坂', 'rest_catg': '壽司', 'rest_rating': 3.94, 'service_rating_dinner': 4.03, 'service_rating_lunch': 4.41, 'store_nm_en': 'Kizaki', 'store_nm_jp': 'きざ㐂', 'transport': '赤阪見附駅より徒歩3分\\n\\n\\n距离赤坂見附 123  米'}, {'age': 41, 'cp_rating_dinner': 3.69, 'cp_rating_lunch': 3.71, 'feeling_rating_dinner': 3.64, 'feeling_rating_lunch': 3.69, 'female_prop': 24.02, 'label_code': 1, 'label_desc': '平消族', 'lat': 35.6536896, 'lng': 139.7558524, 'male_prop': 75.98, 'meal_duration': 1.0, 'prices_dinner': 7087, 'prices_lunch': 1559, 'rest_addr': '東京都港區浜鬆町2-11-8', 'rest_area': '濱松町・芝公園', 'rest_catg': '壽司', 'rest_rating': 4.0, 'service_rating_dinner': 3.71, 'service_rating_lunch': 4.06, 'store_nm_en': 'Miyaba', 'store_nm_jp': 'すし処 宮葉', 'transport': '浜松町駅（金杉橋口）徒歩3分。\\n都営浅草線大門駅から徒歩5分。\\n\\n\\n距离濱松町 191  米'}, {'age': 38, 'cp_rating_dinner': 3.65, 'cp_rating_lunch': 3.85, 'feeling_rating_dinner': 3.34, 'feeling_rating_lunch': 3.37, 'female_prop': 23.79, 'label_code': 1, 'label_desc': '平消族', 'lat': 35.7155173, 'lng': 139.7065974, 'male_prop': 76.21, 'meal_duration': 1.0, 'prices_dinner': 709, 'prices_lunch': 425, 'rest_addr': '東京都豐島區高田3-17-8', 'rest_area': '高田馬場', 'rest_catg': '炸豬排', 'rest_rating': 3.91, 'service_rating_dinner': 3.39, 'service_rating_lunch': 3.38, 'store_nm_en': 'Tonta', 'store_nm_jp': 'とん太', 'transport': 'JR山手線・西武新宿線・東京メトロ東西線「高田馬場」駅から徒歩6分\\n\\n\\n距离高田馬場 413  米'}, {'age': 42, 'cp_rating_dinner': 3.56, 'cp_rating_lunch': 2.9, 'feeling_rating_dinner': 4.02, 'feeling_rating_lunch': 4.6, 'female_prop': 23.79, 'label_code': 1, 'label_desc': '平消族', 'lat': 35.6857974, 'lng': 139.7830806, 'male_prop': 76.21, 'meal_duration': 1.0, 'prices_dinner': 4961, 'prices_lunch': 3543, 'rest_addr': '東京都中央區日本橋人形町2-5-1', 'rest_area': '人形町・小傳馬町', 'rest_catg': '壽喜燒/和式餐馆 / 小菜', 'rest_rating': 3.82, 'service_rating_dinner': 3.88, 'service_rating_lunch': 4.4, 'store_nm_en': 'sukiyakikappouhiyama', 'store_nm_jp': 'すき焼割烹 日山', 'transport': '東京メトロ日比谷線・都営浅草線「人形町」駅より徒歩2分。\\n東京メトロ半蔵門線「水天宮」駅より徒歩5分\\n都営新宿線「浜町」駅より徒歩7分\\n\\n\\n距离人形町 66  米'}, {'age': 38, 'cp_rating_dinner': 3.93, 'cp_rating_lunch': 3.98, 'feeling_rating_dinner': 3.42, 'feeling_rating_lunch': 3.68, 'female_prop': 23.65, 'label_code': 1, 'label_desc': '平消族', 'lat': 35.7500749, 'lng': 139.543763, 'male_prop': 76.35, 'meal_duration': 1.0, 'prices_dinner': 142, 'prices_lunch': 142, 'rest_addr': '東京都西東京市穀戶町3-27-24', 'rest_area': '西東京', 'rest_catg': '拉麵', 'rest_rating': 3.77, 'service_rating_dinner': 3.58, 'service_rating_lunch': 3.8, 'store_nm_en': 'Ramenjirou', 'store_nm_jp': 'ラーメン二郎 ひばりヶ丘駅前店', 'transport': '西武池袋線ひばりヶ丘駅から、徒歩3分（0.2km）です。\\n改札出て南口→階段降りてロータリー。正面の大通りのりそな銀行の裏手の細い道。\\nひばりが丘プラザ１階\\n\\n\\n距离雲雀丘 257  米'}, {'age': 37, 'cp_rating_dinner': 3.41, 'cp_rating_lunch': 3.4, 'feeling_rating_dinner': 3.42, 'feeling_rating_lunch': 3.42, 'female_prop': 24.06, 'label_code': 1, 'label_desc': '平消族', 'lat': 35.74673, 'lng': 139.837306, 'male_prop': 75.94, 'meal_duration': 1.0, 'prices_dinner': 142, 'prices_lunch': 142, 'rest_addr': '東京都葛飾區東新小嵒1-1-1', 'rest_area': '小岩・新小岩', 'rest_catg': '拉麵/沾麵/台灣拌麵', 'rest_rating': 3.75, 'service_rating_dinner': 3.49, 'service_rating_lunch': 3.5, 'store_nm_en': 'Ramentourou', 'store_nm_jp': 'ラーメン燈郎', 'transport': 'JR総武線「新小岩」駅(北口)より、徒歩１分\\n\\n\\n距离新小岩 160  米'}, {'age': 37, 'cp_rating_dinner': 3.53, 'cp_rating_lunch': 3.48, 'feeling_rating_dinner': 3.61, 'feeling_rating_lunch': 3.46, 'female_prop': 23.71, 'label_code': 1, 'label_desc': '平消族', 'lat': 35.7188559, 'lng': 139.8576853, 'male_prop': 76.29, 'meal_duration': 1.0, 'prices_dinner': 425, 'prices_lunch': 425, 'rest_addr': '東京都葛飾區東新小嵒1-4-17', 'rest_area': '小岩・新小岩', 'rest_catg': '拉麵/沾麵', 'rest_rating': 3.87, 'service_rating_dinner': 3.72, 'service_rating_lunch': 3.56, 'store_nm_en': 'Itto', 'store_nm_jp': '麺屋一燈', 'transport': '・JR総武線「新小岩」駅(北口)から徒歩3分\\n・都営バスまたは京成タウンバス「新小岩駅北口」下車してすぐ\\n\\n\\n距离新小岩 232  米'}, {'age': 41, 'cp_rating_dinner': 3.96, 'cp_rating_lunch': 4.44, 'feeling_rating_dinner': 3.78, 'feeling_rating_lunch': 4.19, 'female_prop': 24.16, 'label_code': 0, 'label_desc': '高消族', 'lat': 35.6663023, 'lng': 139.755248, 'male_prop': 75.84, 'meal_duration': 1.5, 'prices_dinner': 12756, 'prices_lunch': 992, 'rest_addr': '東京都港區新橋3-6-13', 'rest_area': '新橋・汐留', 'rest_catg': '和式餐馆 / 小菜/懷石 / 會席料理', 'rest_rating': 4.3, 'service_rating_dinner': 3.85, 'service_rating_lunch': 4.26, 'store_nm_en': 'Hirosaku', 'store_nm_jp': 'ひろ作', 'transport': '「新橋」駅徒歩４分。ホテルユニゾが目印。\\n\\n\\n距离新橋 278  米'}, {'age': 42, 'cp_rating_dinner': 4.13, 'cp_rating_lunch': 3.5, 'feeling_rating_dinner': 4.17, 'feeling_rating_lunch': 3.08, 'female_prop': 23.6, 'label_code': 1, 'label_desc': '平消族', 'lat': 35.6704576, 'lng': 139.765284, 'male_prop': 76.4, 'meal_duration': 1.5, 'prices_dinner': 7087, 'prices_lunch': 425, 'rest_addr': '東京都中央區銀座5-9-19', 'rest_area': '銀座', 'rest_catg': '懷石 / 會席料理', 'rest_rating': 3.8, 'service_rating_dinner': 4.03, 'service_rating_lunch': 3.58, 'store_nm_en': 'Shiorian Yamashiro', 'store_nm_jp': '栞庵 やましろ', 'transport': '銀座駅A5出口より徒歩1分\\n\\n\\n距离銀座 186  米'}, {'age': 40, 'cp_rating_dinner': 3.27, 'cp_rating_lunch': 3.36, 'feeling_rating_dinner': 3.24, 'feeling_rating_lunch': 3.17, 'female_prop': 23.63, 'label_code': 1, 'label_desc': '平消族', 'lat': 35.6916558, 'lng': 139.6860234, 'male_prop': 76.37, 'meal_duration': 1.0, 'prices_dinner': 992, 'prices_lunch': 425, 'rest_addr': '東京都新宿區西新宿5-9-17', 'rest_area': '新宿', 'rest_catg': '印度料理/印度咖哩', 'rest_rating': 3.78, 'service_rating_dinner': 3.33, 'service_rating_lunch': 3.34, 'store_nm_en': 'COCHIN NIVAS', 'store_nm_jp': 'コチン ニヴァース', 'transport': '都営大江戸線「西新宿五丁目」駅A1出口より徒歩5分\\nJR新宿駅西口から徒歩15分\\n\\n\\n距离西新宿五丁目 249  米'}, {'age': 43, 'cp_rating_dinner': 3.23, 'cp_rating_lunch': 3.36, 'feeling_rating_dinner': 3.45, 'feeling_rating_lunch': 3.59, 'female_prop': 23.6, 'label_code': 1, 'label_desc': '平消族', 'lat': 35.6567517, 'lng': 139.7328867, 'male_prop': 76.4, 'meal_duration': 1.0, 'prices_dinner': 992, 'prices_lunch': 425, 'rest_addr': '東京都港區元痲佈3-11-4', 'rest_area': '麻布十番', 'rest_catg': '蕎麥麵/懷石 / 會席料理/天婦羅・油炸食品（其他）', 'rest_rating': 3.79, 'service_rating_dinner': 3.39, 'service_rating_lunch': 3.51, 'store_nm_en': 'Souhonkesarashinahorii', 'store_nm_jp': '総本家更科堀井 本店', 'transport': '東京メトロ南北線\\u3000都営大江戸線\\u3000麻布十番駅より歩いて5分程度\\n\\n\\n距离麻布十番 287  米'}, {'age': 33, 'cp_rating_dinner': 4.01, 'cp_rating_lunch': 4.85, 'feeling_rating_dinner': 3.67, 'feeling_rating_lunch': 4.96, 'female_prop': 24.19, 'label_code': 0, 'label_desc': '高消族', 'lat': 35.7048182, 'lng': 139.6376702, 'male_prop': 75.81, 'meal_duration': 1.0, 'prices_dinner': 3543, 'prices_lunch': 425, 'rest_addr': '東京都杉並區阿佐ヶ穀南2-17-2', 'rest_area': '阿佐谷', 'rest_catg': '燒肉/牛肉料理/牛舌', 'rest_rating': 4.42, 'service_rating_dinner': 3.95, 'service_rating_lunch': 4.96, 'store_nm_en': 'SATO Buriand', 'store_nm_jp': 'SATOブリアン にごう', 'transport': '阿佐ヶ谷駅すぐ\\n\\n\\n距离阿佐谷 180  米'}]\n"
     ]
    },
    {
     "name": "stdout",
     "output_type": "stream",
     "text": [
      "=====================\n",
      " 第1天行程：\n",
      "淺草 Asakusa約4.9 公里，景點間通勤約需14 分鐘。\n",
      "---------------\n",
      "雷門 Nakamise Shopping Street (Kaminarimon)約1.8 公里，景點間通勤約需7 分鐘。\n",
      "---------------\n",
      "淺草文化觀光中心 Asakusa Culture Tourist Information Center約61 公尺，景點間通勤約需1 分鐘。\n",
      "---------------\n",
      "\n",
      "地圖連結：https://45a28610.ngrok.io/images/day1-Udab78edc8aea5ffd79ec528a8e18676e-1574412552936map.html\n",
      "===============\n",
      "第2天行程：\n",
      "東京迪士尼樂園 Tokyo Disneyland約14.4 公里，景點間通勤約需20 分鐘。\n",
      "---------------\n",
      "\n",
      "地圖連結：https://45a28610.ngrok.io/images/day2-Udab78edc8aea5ffd79ec528a8e18676e-1574412552936map.html\n",
      "===============\n",
      "第3天行程：\n",
      "淺草演芸 Asakusa Engei Hall約5.8 公里，景點間通勤約需15 分鐘。\n",
      "---------------\n",
      "惠比壽啤酒紀念館 Museum of Yebisu Beer約15.1 公里，景點間通勤約需24 分鐘。\n",
      "---------------\n",
      " Japan Ground Defence Force PR center約40.1 公里，景點間通勤約需48 分鐘。\n",
      "---------------\n",
      "\n",
      "地圖連結：https://45a28610.ngrok.io/images/day3-Udab78edc8aea5ffd79ec528a8e18676e-1574412552936map.html\n",
      "===============\n",
      "第4天行程：\n",
      "2k540 AKI-OKA ARTIZAN約3.6 公里，景點間通勤約需14 分鐘。\n",
      "---------------\n",
      "消防博物館 Fire Museum約6.8 公里，景點間通勤約需21 分鐘。\n",
      "---------------\n",
      "新丸之內大樓 Shin-Marunouchi Building約5.0 公里，景點間通勤約需14 分鐘。\n",
      "---------------\n",
      "\n",
      "地圖連結：https://45a28610.ngrok.io/images/day4-Udab78edc8aea5ffd79ec528a8e18676e-1574412552936map.html\n",
      "===============\n",
      "第5天行程：\n",
      "代代木公園 Yoyogi Park約12.7 公里，景點間通勤約需21 分鐘。\n",
      "---------------\n",
      "東京中城 Tokyo Midtown約4.1 公里，景點間通勤約需15 分鐘。\n",
      "---------------\n",
      "出光美術館 Idemitsu Museum約3.8 公里，景點間通勤約需12 分鐘。\n",
      "---------------\n",
      "\n",
      "地圖連結：https://45a28610.ngrok.io/images/day5-Udab78edc8aea5ffd79ec528a8e18676e-1574412552936map.html\n",
      "===============\n",
      "第6天行程：\n",
      "月島燒 文字燒街 Tsukishima Monjya Street約3.9 公里，景點間通勤約需13 分鐘。\n",
      "---------------\n",
      "築地市場 The Tsukiji Market約2.0 公里，景點間通勤約需8 分鐘。\n",
      "---------------\n",
      "東京國際會展中心 Tokyo Big Sight約6.0 公里，景點間通勤約需15 分鐘。\n",
      "---------------\n",
      "\n",
      "地圖連結：https://45a28610.ngrok.io/images/day6-Udab78edc8aea5ffd79ec528a8e18676e-1574412552936map.html\n",
      "===============\n",
      " \n",
      "=======================\n"
     ]
    },
    {
     "name": "stderr",
     "output_type": "stream",
     "text": [
      "172.18.0.6 - - [22/Nov/2019 08:49:21] \"POST / HTTP/1.1\" 200 -\n"
     ]
    },
    {
     "name": "stdout",
     "output_type": "stream",
     "text": [
      "::tripStart:\n"
     ]
    },
    {
     "name": "stderr",
     "output_type": "stream",
     "text": [
      "172.18.0.6 - - [22/Nov/2019 08:49:22] \"POST / HTTP/1.1\" 200 -\n"
     ]
    },
    {
     "name": "stdout",
     "output_type": "stream",
     "text": [
      "Sean K.,Udab78edc8aea5ffd79ec528a8e18676e\n",
      "{\"data\": \"tripStart\"}\n",
      "1574412552938,2019-11-22 08:49:12.938000\n"
     ]
    },
    {
     "name": "stderr",
     "output_type": "stream",
     "text": [
      "172.18.0.6 - - [22/Nov/2019 08:49:30] \"GET /images/day1-Udab78edc8aea5ffd79ec528a8e18676e-1574412552936map.html HTTP/1.1\" 206 -\n",
      "172.18.0.6 - - [22/Nov/2019 08:49:31] \"GET /images/day1-Udab78edc8aea5ffd79ec528a8e18676e-1574412552936map.html HTTP/1.1\" 200 -\n",
      "172.18.0.6 - - [22/Nov/2019 08:49:36] \"GET /images/day2-Udab78edc8aea5ffd79ec528a8e18676e-1574412552936map.html HTTP/1.1\" 206 -\n",
      "172.18.0.6 - - [22/Nov/2019 08:49:37] \"GET /images/day2-Udab78edc8aea5ffd79ec528a8e18676e-1574412552936map.html HTTP/1.1\" 200 -\n",
      "172.18.0.6 - - [22/Nov/2019 08:49:39] \"GET /images/day3-Udab78edc8aea5ffd79ec528a8e18676e-1574412552936map.html HTTP/1.1\" 206 -\n",
      "172.18.0.6 - - [22/Nov/2019 08:49:40] \"GET /images/day3-Udab78edc8aea5ffd79ec528a8e18676e-1574412552936map.html HTTP/1.1\" 200 -\n",
      "172.18.0.6 - - [22/Nov/2019 08:49:43] \"GET /images/day4-Udab78edc8aea5ffd79ec528a8e18676e-1574412552936map.html HTTP/1.1\" 206 -\n",
      "172.18.0.6 - - [22/Nov/2019 08:49:44] \"GET /images/day4-Udab78edc8aea5ffd79ec528a8e18676e-1574412552936map.html HTTP/1.1\" 200 -\n",
      "172.18.0.6 - - [22/Nov/2019 08:49:46] \"GET /images/day5-Udab78edc8aea5ffd79ec528a8e18676e-1574412552936map.html HTTP/1.1\" 206 -\n",
      "172.18.0.6 - - [22/Nov/2019 08:49:47] \"GET /images/day5-Udab78edc8aea5ffd79ec528a8e18676e-1574412552936map.html HTTP/1.1\" 200 -\n",
      "172.18.0.6 - - [22/Nov/2019 08:49:47] \"GET /images/day6-Udab78edc8aea5ffd79ec528a8e18676e-1574412552936map.html HTTP/1.1\" 206 -\n",
      "172.18.0.6 - - [22/Nov/2019 08:49:48] \"GET /images/day6-Udab78edc8aea5ffd79ec528a8e18676e-1574412552936map.html HTTP/1.1\" 200 -\n"
     ]
    }
   ],
   "source": [
    "'''執行此句，啟動Server，觀察後，按左上方塊，停用Server'''\n",
    "if __name__ == \"__main__\":\n",
    "    app.run(host='0.0.0.0')"
   ]
  },
  {
   "cell_type": "code",
   "execution_count": null,
   "metadata": {},
   "outputs": [],
   "source": []
  }
 ],
 "metadata": {
  "kernelspec": {
   "display_name": "Python 3",
   "language": "python",
   "name": "python3"
  },
  "language_info": {
   "codemirror_mode": {
    "name": "ipython",
    "version": 3
   },
   "file_extension": ".py",
   "mimetype": "text/x-python",
   "name": "python",
   "nbconvert_exporter": "python",
   "pygments_lexer": "ipython3",
   "version": "3.7.3"
  }
 },
 "nbformat": 4,
 "nbformat_minor": 2
}
