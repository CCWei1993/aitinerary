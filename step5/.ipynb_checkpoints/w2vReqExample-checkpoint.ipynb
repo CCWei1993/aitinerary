{
 "cells": [
  {
   "cell_type": "code",
   "execution_count": 1,
   "metadata": {},
   "outputs": [
    {
     "name": "stdout",
     "output_type": "stream",
     "text": [
      "天空樹\n",
      "吾妻橋\n",
      "押上\n",
      "淺草文化觀光中心\n",
      "雷門\n",
      "淺草\n",
      "沒上\n",
      "隅田川\n",
      "晴空\n",
      "東京鐵塔\n",
      "十間\n",
      "梧棲\n",
      "淺草寺\n",
      "仲見世通\n",
      "夜拍\n",
      "隅田公園\n",
      "地標\n",
      "塔內\n",
      "夜景\n",
      "森橋\n",
      "人形\n",
      "龍名館\n",
      "踏踏\n",
      "鐵塔\n",
      "法院\n",
      "娜娜\n",
      "上塔\n",
      "高塔\n",
      "河濱\n",
      "日景\n",
      "神谷\n",
      "插播\n",
      "錦系\n",
      "高到\n",
      "拍攝點\n",
      "展望台\n",
      "眺望台\n",
      "彩虹大橋\n",
      "觀景台\n",
      "觀景\n",
      "望甲板\n",
      "墨田區\n",
      "遠眺\n",
      "線藏\n",
      "一覽\n",
      "崎線\n",
      "夜晚\n",
      "三定\n",
      "東北方\n",
      "高樓群\n",
      "\n"
     ]
    }
   ],
   "source": [
    "import requests\n",
    "import json\n",
    "req = requests.post('http://127.0.0.1:5000/', json = {'spot':'晴空塔'})\n",
    "#req = requests.get('http://127.0.0.1:5000/')\n",
    "print(req.text)"
   ]
  },
  {
   "cell_type": "code",
   "execution_count": null,
   "metadata": {},
   "outputs": [],
   "source": []
  }
 ],
 "metadata": {
  "kernelspec": {
   "display_name": "Python 3",
   "language": "python",
   "name": "python3"
  },
  "language_info": {
   "codemirror_mode": {
    "name": "ipython",
    "version": 3
   },
   "file_extension": ".py",
   "mimetype": "text/x-python",
   "name": "python",
   "nbconvert_exporter": "python",
   "pygments_lexer": "ipython3",
   "version": "3.7.4"
  }
 },
 "nbformat": 4,
 "nbformat_minor": 2
}
