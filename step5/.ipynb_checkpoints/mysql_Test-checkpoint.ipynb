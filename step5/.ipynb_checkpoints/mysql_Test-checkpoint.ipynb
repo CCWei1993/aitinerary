{
 "cells": [
  {
   "cell_type": "code",
   "execution_count": 19,
   "metadata": {},
   "outputs": [
    {
     "name": "stdout",
     "output_type": "stream",
     "text": [
      "Database version : 8.0.18 \n",
      "((1, 'webmaster@python.org', 'very-secret'), (2, 'colafishx@gmail.com', 'bd731031'), (3, 'colafishx@gmail.com', 'bd731031'))\n",
      "((2, 'bd731031'), (3, 'bd731031'))\n"
     ]
    }
   ],
   "source": [
    "import pymysql\n",
    "# 開啟資料庫連線\n",
    "conn = pymysql.connect(\"mysql\",\"root\",\"iii\",database=\"test\",charset='utf8mb4')\n",
    "# 使用 cursor() 方法建立一個遊標物件 cursor\n",
    "cursor = conn.cursor()\n",
    "# 使用 execute()  方法執行 SQL 查詢 \n",
    "cursor.execute(\"SELECT VERSION()\")\n",
    "# 使用 fetchone() 方法獲取單條資料, fetchall()取多筆資料\n",
    "data = cursor.fetchone()\n",
    "print (\"Database version : %s \" % data)\n",
    "# Create a new record\n",
    "\n",
    "#sql = \"CREATE TABLE `users` (`id` int(11) NOT NULL AUTO_INCREMENT,\\\n",
    "#`email` varchar(255) COLLATE utf8_bin NOT NULL,\\\n",
    "#`password` varchar(255) COLLATE utf8_bin NOT NULL,\\\n",
    "#PRIMARY KEY (`id`)) ENGINE=InnoDB DEFAULT CHARSET=utf8 \\\n",
    "#COLLATE=utf8_bin AUTO_INCREMENT=1 ;\"\n",
    "#cursor.execute(sql)\n",
    "\n",
    "# connection is not autocommit by default. So you must commit to save\n",
    "# your changes.\n",
    "# Create a new record\n",
    "#sql = \"INSERT INTO `users` (`email`, `password`) VALUES (%s, %s)\"\n",
    "#cursor.execute(sql, ('colafishx@gmail.com', 'bd731031'))\n",
    "#conn.commit()\n",
    "\n",
    "sql = \"SELECT * FROM `users`\"\n",
    "cursor.execute(sql)\n",
    "result = cursor.fetchall()\n",
    "print(result)\n",
    "# Read a single record\n",
    "sql = \"SELECT `id`, `password` FROM `users` WHERE `email`=%s\"\n",
    "cursor.execute(sql, ('colafishx@gmail.com',))\n",
    "result = cursor.fetchall()\n",
    "print(result)\n",
    "conn.close()"
   ]
  },
  {
   "cell_type": "code",
   "execution_count": null,
   "metadata": {},
   "outputs": [],
   "source": []
  }
 ],
 "metadata": {
  "kernelspec": {
   "display_name": "Python 3",
   "language": "python",
   "name": "python3"
  },
  "language_info": {
   "codemirror_mode": {
    "name": "ipython",
    "version": 3
   },
   "file_extension": ".py",
   "mimetype": "text/x-python",
   "name": "python",
   "nbconvert_exporter": "python",
   "pygments_lexer": "ipython3",
   "version": "3.7.3"
  }
 },
 "nbformat": 4,
 "nbformat_minor": 2
}
