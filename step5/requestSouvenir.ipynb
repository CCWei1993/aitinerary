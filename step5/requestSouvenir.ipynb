{
 "cells": [
  {
   "cell_type": "code",
   "execution_count": 1,
   "metadata": {},
   "outputs": [
    {
     "data": {
      "text/plain": [
       "[{'Types': '餅乾類',\n",
       "  'address': '東京駅大丸東京4F',\n",
       "  'price': 1250,\n",
       "  'ranking': 41,\n",
       "  'souvenir': '東京カンパネラ「東京カンパネラ・ショコラ」',\n",
       "  'url': 'http://hacci1912.com/'},\n",
       " {'Types': '餅乾類',\n",
       "  'address': '新宿駅伊勢丹B1F',\n",
       "  'price': 1080,\n",
       "  'ranking': 71,\n",
       "  'souvenir': 'ノワ・ドゥ・ブール「サブレ・アマンド」',\n",
       "  'url': 'http://noix-de-beurre.com'},\n",
       " {'Types': '餅乾類',\n",
       "  'address': '渋谷駅渋谷ヒカリエShinQs_B2F',\n",
       "  'price': 450,\n",
       "  'ranking': 4,\n",
       "  'souvenir': 'アンド_ザ_フリット「ドライフリット」',\n",
       "  'url': 'http://andthefriet.com/driedfriet/'},\n",
       " {'Types': '小蛋糕類',\n",
       "  'address': '新宿駅NEWoman（ニュウマン）エキナカ2F',\n",
       "  'price': 486,\n",
       "  'ranking': 21,\n",
       "  'souvenir': 'TAICHIRO_MORINAGA「キャラメルラスク」',\n",
       "  'url': 'http://www.morinaga.co.jp/taichiro/'},\n",
       " {'Types': '小蛋糕類',\n",
       "  'address': '銀座駅周辺東京都中央区銀座5丁目6-15座STONE［ザ・ストーン］1F',\n",
       "  'price': 756,\n",
       "  'ranking': 5,\n",
       "  'souvenir': 'ねんりん家_銀座本店「はちみつ香マウントバーム」',\n",
       "  'url': 'https://www.nenrinya.jp'},\n",
       " {'Types': '點心類',\n",
       "  'address': '東京スカイツリー東京ソラマチ 1F',\n",
       "  'price': 920,\n",
       "  'ranking': 97,\n",
       "  'souvenir': 'LUPICIA「ジャックと豆の木」',\n",
       "  'url': 'https://www.lupicia.com/shop/lp.aspx'},\n",
       " {'Types': '巧克力類',\n",
       "  'address': '銀座駅松屋銀座B1F',\n",
       "  'price': 675,\n",
       "  'ranking': 48,\n",
       "  'souvenir': 'ラ･メゾン･デュ･ショコラ「ショコラ」',\n",
       "  'url': 'http://www.lamaisonduchocolat.co.jp/ja_jp/'},\n",
       " {'Types': '巧克力類',\n",
       "  'address': '新宿駅伊勢丹B1F',\n",
       "  'price': 1620,\n",
       "  'ranking': 45,\n",
       "  'souvenir': 'ホレンディッシェ・カカオシュトゥーベ「バウムシュピッツ」',\n",
       "  'url': 'https://isetan.mistore.jp/onlinestore/foods/kakaostube/index.html'},\n",
       " {'Types': '夾心餅乾類',\n",
       "  'address': '東京駅京葉ストリート1F',\n",
       "  'price': 864,\n",
       "  'ranking': 81,\n",
       "  'souvenir': '東京ミルクチーズ工場「ソルト＆カマンベール」',\n",
       "  'url': 'http://www.rl-waffle.co.jp'},\n",
       " {'Types': '夾心餅乾類',\n",
       "  'address': '池袋駅 西武百貨店池袋本店B1F',\n",
       "  'price': 2096,\n",
       "  'ranking': 96,\n",
       "  'souvenir': '空いろ「つき」',\n",
       "  'url': 'https://www.lupicia.com/shop/lp.aspx'}]"
      ]
     },
     "execution_count": 1,
     "metadata": {},
     "output_type": "execute_result"
    }
   ],
   "source": [
    "import requests\n",
    "import json\n",
    "#omiyage variables: 年齡, 去過次數, 去幾天 , 總預算, 性別-男:0；女:1\n",
    "req = requests.post('http://127.0.0.1:5002/', json = {'age':20,'been2tko':3,'days':5,'budget':35000,'isFemale':1})\n",
    "#req = requests.post('http://127.0.0.1:5000/')\n",
    "req.json()\n",
    "#print(req.json()[0]['souvenir']+'\\n'+\n",
    "#      req.json()[1]['souvenir']+'\\n'+\n",
    "#      req.json()[2]['souvenir']+'\\n'+\n",
    "#      req.json()[3]['souvenir']+'\\n'+\n",
    "#      req.json()[4]['souvenir']+'\\n'+\n",
    "#      req.json()[5]['souvenir']+'\\n'+\n",
    "#      req.json()[6]['souvenir']+'\\n'+\n",
    "#      req.json()[7]['souvenir']+'\\n'+\n",
    "#      req.json()[8]['souvenir']+'\\n'+\n",
    "#      req.json()[9]['souvenir']\n",
    "#     )\n",
    "#for i in req.json():\n",
    "#    giftfeedback = (str(i['souvenir'])+',類型='+str(i['Types'])+',價格=日幣'+str(i['price'])+',地址='+str(i['address'])+',網址='+str(i['url']))\n",
    "#    print(giftfeedback)"
   ]
  },
  {
   "cell_type": "code",
   "execution_count": null,
   "metadata": {},
   "outputs": [],
   "source": []
  },
  {
   "cell_type": "code",
   "execution_count": null,
   "metadata": {},
   "outputs": [],
   "source": []
  }
 ],
 "metadata": {
  "kernelspec": {
   "display_name": "Python 3",
   "language": "python",
   "name": "python3"
  },
  "language_info": {
   "codemirror_mode": {
    "name": "ipython",
    "version": 3
   },
   "file_extension": ".py",
   "mimetype": "text/x-python",
   "name": "python",
   "nbconvert_exporter": "python",
   "pygments_lexer": "ipython3",
   "version": "3.7.3"
  }
 },
 "nbformat": 4,
 "nbformat_minor": 2
}
