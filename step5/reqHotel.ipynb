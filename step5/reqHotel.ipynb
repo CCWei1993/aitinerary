{
 "cells": [
  {
   "cell_type": "code",
   "execution_count": 1,
   "metadata": {},
   "outputs": [
    {
     "data": {
      "text/plain": [
       "{'CP': 2.204531537,\n",
       " 'pre': 2.0,\n",
       " '交通1': '葛西站 - 走路 3 分鐘',\n",
       " '交通2': '葛西臨海公園站 - 走路 4 分鐘',\n",
       " '交通3': '東京, 日本 (NRT-成田國際機場) - 車程 40 分鐘',\n",
       " '交通便利性': '3',\n",
       " '價格': 1633.0,\n",
       " '地址': '6-1-7 HigashiKasai, Edogawa-ku, 東京, Tokyo-to',\n",
       " '廚房': 0.0,\n",
       " '星等': 3.0,\n",
       " '經度': 139.87303,\n",
       " '網址': 'https://www.expedia.com.tw/Tokyo-Hotels-Pearl-Hotel-Kasai.h1180301.Hotel-Information?chkin=2019%2F10%2F4&chkout=2019%2F10%2F5&regionId=179900&destination=%E6%9D%B1%E4%BA%AC+%28%E5%8F%8A%E9%84%B0%E8%BF%91%E5%9C%B0%E5%8D%80%29%2C+%E6%97%A5%E6%9C%AC&swpToggleOn=true&rm1=a1&x_pwa=1&sort=recommended&top_dp=1633&top_cur=TWD&rfrr=HSR&pwa_ts=1570019904546',\n",
       " '緯度': 35.66132,\n",
       " '評價': 3.6,\n",
       " '鄰近景點1': '東京都葛西臨海水族園 - 開車 4 分鐘',\n",
       " '鄰近景點2': '東京迪士尼樂園? - 開車 7 分鐘',\n",
       " '鄰近景點3': '豐洲市場 - 開車 10 分鐘',\n",
       " '鄰近景點4': '東京晴空塔 - 開車 10 分鐘',\n",
       " '鄰近景點5': '江戶東京博物館 - 開車 23 分鐘',\n",
       " '飯店名稱': '關西珍珠飯店'}"
      ]
     },
     "execution_count": 1,
     "metadata": {},
     "output_type": "execute_result"
    }
   ],
   "source": [
    "import requests\n",
    "import json\n",
    "reqH = requests.post('http://127.0.0.1:5008/', json = {'age':20,'been2tko':3,'days':5,\n",
    "                                                      'budget':35000,'isFemale':0,'hotel budget':3000}).json()\n",
    "reqH\n",
    "#req = requests.get('http://127.0.0.1:5000/')"
   ]
  },
  {
   "cell_type": "code",
   "execution_count": 22,
   "metadata": {},
   "outputs": [
    {
     "name": "stdout",
     "output_type": "stream",
     "text": [
      "最適合您的飯店為\n",
      "關西珍珠飯店，3顆星，用戶評價3.6/5，\n",
      "每晚參考價格為NTD$1633。\n",
      "地址為6-1-7 HigashiKasai, Edogawa-ku, 東京, Tokyo-to。\n",
      "\n",
      "鄰近地鐵站：\n",
      "葛西站 - 走路 3 分鐘，\n",
      "葛西臨海公園站 - 走路 4 分鐘。\n",
      "\n",
      "附近景點：\n",
      "東京都葛西臨海水族園 - 開車 4 分鐘，\n",
      "東京迪士尼樂園? - 開車 7 分鐘，\n",
      "豐洲市場 - 開車 10 分鐘。\n"
     ]
    }
   ],
   "source": [
    "hotel_text=('最適合您的飯店為\\n'+\n",
    "            str(reqH['飯店名稱'])+'，'+\n",
    "            str(int(reqH['星等']))+'顆星，用戶評價'+\n",
    "            str(reqH['評價'])+'/5，\\n每晚參考價格為NTD$'+\n",
    "            str(int(reqH['價格']))+'。\\n地址為'+\n",
    "            str(reqH['地址'])+'。\\n\\n鄰近地鐵站：\\n'+\n",
    "            str(reqH['交通1'])+'，\\n'+\n",
    "            str(reqH['交通2'])+'。\\n\\n附近景點：\\n'+\n",
    "            str(reqH['鄰近景點1'])+'，\\n'+\n",
    "            str(reqH['鄰近景點2'])+'，\\n'+\n",
    "            str(reqH['鄰近景點3'])+'。'\n",
    "           )\n",
    "print(hotel_text)"
   ]
  },
  {
   "cell_type": "code",
   "execution_count": null,
   "metadata": {},
   "outputs": [],
   "source": []
  }
 ],
 "metadata": {
  "kernelspec": {
   "display_name": "Python 3",
   "language": "python",
   "name": "python3"
  },
  "language_info": {
   "codemirror_mode": {
    "name": "ipython",
    "version": 3
   },
   "file_extension": ".py",
   "mimetype": "text/x-python",
   "name": "python",
   "nbconvert_exporter": "python",
   "pygments_lexer": "ipython3",
   "version": "3.7.3"
  }
 },
 "nbformat": 4,
 "nbformat_minor": 2
}
