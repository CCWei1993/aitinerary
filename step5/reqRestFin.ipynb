{
 "cells": [
  {
   "cell_type": "code",
   "execution_count": 11,
   "metadata": {},
   "outputs": [
    {
     "name": "stdout",
     "output_type": "stream",
     "text": [
      "12 <class 'list'>\n",
      "-------------------------------------------------------------------------------\n",
      " <class 'dict'> 23 {'age': 44, 'cp_rating_dinner': 3.55, 'cp_rating_lunch': 2.98, 'feeling_rating_dinner': 3.74, 'feeling_rating_lunch': 3.09, 'female_prop': 23.85, 'label_code': 1, 'label_desc': '平消族', 'lat': 35.6903894, 'lng': 139.7826271, 'male_prop': 76.15, 'meal_duration': 1.0, 'prices_dinner': 4961, 'prices_lunch': 1559, 'rest_addr': '東京都中央區東日本橋3-1-3', 'rest_area': '人形町・小傳馬町', 'rest_catg': '壽司', 'rest_rating': 3.83, 'service_rating_dinner': 3.76, 'service_rating_lunch': 3.0, 'store_nm_en': 'Sushiichijou', 'store_nm_jp': '鮨 一條', 'transport': '馬喰横山駅より徒歩3分\\n\\n\\n距离馬食橫山 201  米'}\n",
      "-------------------------------------------------------------------------------\n",
      " <class 'dict'> 23 {'age': 42, 'cp_rating_dinner': 4.26, 'cp_rating_lunch': 3.77, 'feeling_rating_dinner': 4.52, 'feeling_rating_lunch': 4.18, 'female_prop': 24.24, 'label_code': 0, 'label_desc': '高消族', 'lat': 35.6609872, 'lng': 139.7260606, 'male_prop': 75.76, 'meal_duration': 1.0, 'prices_dinner': 9922, 'prices_lunch': 425, 'rest_addr': '東京都港區東痲佈1-7-9', 'rest_area': '濱松町・芝公園', 'rest_catg': '壽司', 'rest_rating': 4.66, 'service_rating_dinner': 4.52, 'service_rating_lunch': 4.18, 'store_nm_en': 'Amamoto', 'store_nm_jp': '東麻布 天本', 'transport': '都営大江戸線 赤羽橋駅 徒歩4分 \\n東京メトロ日比谷線 神谷町駅 徒歩10分 \\n\\n\\n距离赤羽橋 258  米'}\n",
      "-------------------------------------------------------------------------------\n",
      " <class 'dict'> 23 {'age': 42, 'cp_rating_dinner': 3.64, 'cp_rating_lunch': 3.75, 'feeling_rating_dinner': 3.28, 'feeling_rating_lunch': 3.34, 'female_prop': 23.96, 'label_code': 1, 'label_desc': '平消族', 'lat': 35.5604869, 'lng': 139.7171267, 'male_prop': 76.04, 'meal_duration': 1.0, 'prices_dinner': 142, 'prices_lunch': 425, 'rest_addr': '東京都大田區蒲田5-43-7', 'rest_area': '蒲田', 'rest_catg': '咖哩飯/炸豬排/咖哩（其它）', 'rest_rating': 3.75, 'service_rating_dinner': 3.34, 'service_rating_lunch': 3.34, 'store_nm_en': 'Tonkatsuaokinokareyaippekoppe', 'store_nm_jp': 'とんかつ檍のカレー屋いっぺこっぺ', 'transport': 'ＪＲ京浜東北線「蒲田」駅東口より徒歩４分\\n東急多摩川線・池上線「蒲田」駅より徒歩７分\\n京急本線・空港線「京急蒲田」駅西口より徒歩10分\\n蒲田駅から244m\\n\\n\\n距离蒲田 241  米'}\n",
      "-------------------------------------------------------------------------------\n",
      " <class 'dict'> 23 {'age': 43, 'cp_rating_dinner': 3.25, 'cp_rating_lunch': 3.17, 'feeling_rating_dinner': 4.1, 'feeling_rating_lunch': 4.23, 'female_prop': 22.36, 'label_code': 1, 'label_desc': '平消族', 'lat': 35.696381, 'lng': 139.768758, 'male_prop': 77.64, 'meal_duration': 1.0, 'prices_dinner': 2551, 'prices_lunch': 2551, 'rest_addr': '東京都韆代田區神田須田町1-15', 'rest_area': '神田・御茶之水', 'rest_catg': '壽喜燒/雞肉料理', 'rest_rating': 3.76, 'service_rating_dinner': 3.48, 'service_rating_lunch': 3.42, 'store_nm_en': 'Botan', 'store_nm_jp': 'ぼたん', 'transport': '東京メトロ丸ノ内線 淡路町駅 A3番出口 徒歩2分\\n都営新宿線 小川町駅 A3番出口 徒歩2分\\n東京メトロ銀座線 神田駅 6番出口 徒歩5分\\nＪＲ 神田駅 東口 徒歩7分\\nＪＲ 秋葉原駅 電気街口 徒歩7分\\nＪＲ 御茶ノ水駅 聖橋口 徒歩7分\\n\\n\\n距离淡路町 197  米'}\n",
      "-------------------------------------------------------------------------------\n",
      " <class 'dict'> 23 {'age': 37, 'cp_rating_dinner': 3.49, 'cp_rating_lunch': 3.71, 'feeling_rating_dinner': 3.65, 'feeling_rating_lunch': 3.72, 'female_prop': 23.9, 'label_code': 1, 'label_desc': '平消族', 'lat': 35.6907506, 'lng': 139.7037512, 'male_prop': 76.1, 'meal_duration': 1.0, 'prices_dinner': 142, 'prices_lunch': 142, 'rest_addr': '東京都新宿區新宿3-31-5', 'rest_area': '新宿', 'rest_catg': '拉麵/沾麵/乾擔擔麵', 'rest_rating': 3.84, 'service_rating_dinner': 3.65, 'service_rating_lunch': 3.73, 'store_nm_en': 'Ramenhayashida', 'store_nm_jp': 'らぁ麺 はやし田 新宿本店', 'transport': 'JR山手線「新宿」駅、東京メトロ副都心線・都営新宿線「新宿三丁目」駅にて下車。\\nマルイ本店のすぐ裏の狭い路地に面している。雑居ビルの間にあるので、間違えて行き過ぎないように。\\n\\n\\n距离新宿三丁目 63  米'}\n",
      "-------------------------------------------------------------------------------\n",
      " <class 'dict'> 23 {'age': 41, 'cp_rating_dinner': 3.54, 'cp_rating_lunch': 3.61, 'feeling_rating_dinner': 3.57, 'feeling_rating_lunch': 3.88, 'female_prop': 23.66, 'label_code': 1, 'label_desc': '平消族', 'lat': 35.5640505, 'lng': 139.717284, 'male_prop': 76.34, 'meal_duration': 1.0, 'prices_dinner': 142, 'prices_lunch': 142, 'rest_addr': '東京都大田區蒲田5-2-5', 'rest_area': '蒲田', 'rest_catg': '拉麵', 'rest_rating': 3.92, 'service_rating_dinner': 3.6, 'service_rating_lunch': 3.74, 'store_nm_en': 'Ramenhiiki', 'store_nm_jp': 'らーめん飛粋', 'transport': '徒歩：JR「蒲田駅」より3分ほど\\n\\n\\n距离蒲田 204  米'}\n",
      "-------------------------------------------------------------------------------\n",
      " <class 'dict'> 23 {'age': 38, 'cp_rating_dinner': 3.33, 'cp_rating_lunch': 3.31, 'feeling_rating_dinner': 3.34, 'feeling_rating_lunch': 3.42, 'female_prop': 27.91, 'label_code': 2, 'label_desc': '低消族', 'lat': 35.6926678, 'lng': 139.7355234, 'male_prop': 72.09, 'meal_duration': 1.0, 'prices_dinner': 142, 'prices_lunch': 142, 'rest_addr': '東京都新宿區市穀田町1-3', 'rest_area': '市之谷', 'rest_catg': '拉麵/沾麵', 'rest_rating': 3.75, 'service_rating_dinner': 3.38, 'service_rating_lunch': 3.39, 'store_nm_en': 'Menyashouno', 'store_nm_jp': '麺や 庄の', 'transport': '東京メトロ有楽町線・南北線【市ケ谷駅】徒歩３分\\nＪＲ中央線【市ケ谷駅】徒歩４分\\n都営地下鉄新宿線【市ヶ谷駅】徒歩４分\\n\\n\\n距离市谷 245  米'}\n",
      "-------------------------------------------------------------------------------\n",
      " <class 'dict'> 23 {'age': 32, 'cp_rating_dinner': 3.76, 'cp_rating_lunch': 4.64, 'feeling_rating_dinner': 4.33, 'feeling_rating_lunch': 4.55, 'female_prop': 24.17, 'label_code': 0, 'label_desc': '高消族', 'lat': 35.6583941, 'lng': 139.723053, 'male_prop': 75.83, 'meal_duration': 1.0, 'prices_dinner': 4961, 'prices_lunch': 425, 'rest_addr': '東京都港區西痲佈2-24-14', 'rest_area': '六本木・乃木坂・西麻布', 'rest_catg': '燒肉/牛排', 'rest_rating': 4.2, 'service_rating_dinner': 4.22, 'service_rating_lunch': 4.55, 'store_nm_en': 'USHIGORO S.', 'store_nm_jp': 'USHIGORO S. NISHIAZABU', 'transport': '都営大江戸線 六本木駅2番出口より徒歩8分\\n東京メトロ 日比谷線六本木駅2番出口より徒歩8分\\n東京メトロ 日比谷線広尾駅3番出口より徒歩8分\\n東京メトロ 千代田線乃木坂駅5番出口より徒歩6分\\n\\n\\n距离乃木坂 799  米'}\n",
      "-------------------------------------------------------------------------------\n",
      " <class 'dict'> 23 {'age': 38, 'cp_rating_dinner': 3.48, 'cp_rating_lunch': 4.54, 'feeling_rating_dinner': 3.71, 'feeling_rating_lunch': 4.25, 'female_prop': 24.14, 'label_code': 1, 'label_desc': '平消族', 'lat': 35.7125736, 'lng': 139.7802043, 'male_prop': 75.86, 'meal_duration': 1.5, 'prices_dinner': 4961, 'prices_lunch': 425, 'rest_addr': '東京都檯東區鬆が穀3-8-1', 'rest_area': '上野・御徒町・湯島', 'rest_catg': '河豚/鍋類（其他）', 'rest_rating': 4.14, 'service_rating_dinner': 3.8, 'service_rating_lunch': 3.85, 'store_nm_en': 'Makino', 'store_nm_jp': 'ふぐ 牧野', 'transport': '距离稻荷町 528  米'}\n",
      "-------------------------------------------------------------------------------\n",
      " <class 'dict'> 23 {'age': 39, 'cp_rating_dinner': 3.51, 'cp_rating_lunch': 4.02, 'feeling_rating_dinner': 3.38, 'feeling_rating_lunch': 3.55, 'female_prop': 24.09, 'label_code': 1, 'label_desc': '平消族', 'lat': 35.6973197, 'lng': 139.7625974, 'male_prop': 75.91, 'meal_duration': 1.0, 'prices_dinner': 142, 'prices_lunch': 142, 'rest_addr': '東京都韆代田區神田駿河檯3-3-3', 'rest_area': '神田・御茶之水', 'rest_catg': '印度咖哩/咖哩飯', 'rest_rating': 4.09, 'service_rating_dinner': 3.3, 'service_rating_lunch': 3.36, 'store_nm_en': 'kare-raisudhiran', 'store_nm_jp': 'カレーライス ディラン', 'transport': '地下鉄「小川町」Ｂ３出口から徒歩２分\\n東京メトロ千代田線新御茶ノ水駅B３出口から徒歩２分\\n\\n\\n距离新御茶之水 182  米'}\n",
      "-------------------------------------------------------------------------------\n",
      " <class 'dict'> 23 {'age': 40, 'cp_rating_dinner': 3.81, 'cp_rating_lunch': 4.41, 'feeling_rating_dinner': 3.55, 'feeling_rating_lunch': 3.3, 'female_prop': 23.83, 'label_code': 1, 'label_desc': '平消族', 'lat': 35.6958072, 'lng': 139.6803399, 'male_prop': 76.17, 'meal_duration': 1.0, 'prices_dinner': 2551, 'prices_lunch': 425, 'rest_addr': '東京都中野區本町2-41-2', 'rest_area': '中野坂上～方南町', 'rest_catg': '蕎麥麵', 'rest_rating': 3.82, 'service_rating_dinner': 3.66, 'service_rating_lunch': 3.85, 'store_nm_en': 'La Strada', 'store_nm_jp': 'ら すとらあだ', 'transport': '丸の内線・大江戸線\\u3000中野坂上駅3番出口\\u3000徒歩3分\\n\\n\\n距离中野坂上 188  米'}\n",
      "-------------------------------------------------------------------------------\n",
      " <class 'dict'> 23 {'age': 43, 'cp_rating_dinner': 3.24, 'cp_rating_lunch': 3.35, 'feeling_rating_dinner': 3.67, 'feeling_rating_lunch': 3.82, 'female_prop': 23.28, 'label_code': 1, 'label_desc': '平消族', 'lat': 35.6812097, 'lng': 139.7747558, 'male_prop': 76.72, 'meal_duration': 1.0, 'prices_dinner': 1984, 'prices_lunch': 425, 'rest_addr': '東京都中央區日本橋2-9-9', 'rest_area': '日本橋・京橋', 'rest_catg': '魚類料理・海鮮料理/星鰻/天婦羅', 'rest_rating': 3.77, 'service_rating_dinner': 3.39, 'service_rating_lunch': 3.56, 'store_nm_en': 'Tamai', 'store_nm_jp': '玉ゐ 本店', 'transport': 'ＪＲ東京駅八重洲口から高島屋デパート方面へ徒歩8分。東京メトロ銀座線・東西線、都営浅草線日本橋駅から徒歩3分。\\n\\n\\n距离日本橋 106  米'}\n"
     ]
    }
   ],
   "source": [
    "import requests\n",
    "import json\n",
    "import statistics\n",
    "# food variables: \n",
    "# age(年齡), been2tko(旅遊次數), days(旅遊天數) , totalBudget(總預算), gender(性別 - 0:男  1:女), oneBudget(一餐預算)\n",
    "req = requests.post('http://127.0.0.1:5009/',\n",
    "                    json = {'age':20,'been2tko':1,'days':6,'totalBudget':107000,'gender':0, 'oneBudget':300}).json()\n",
    "#req = requests.post('http://127.0.0.1:5000/')\n",
    "print(len(req),type(req))\n",
    "for i in req:\n",
    "    print('-------------------------------------------------------------------------------\\n',type(i),len(i),i)\n"
   ]
  },
  {
   "cell_type": "code",
   "execution_count": null,
   "metadata": {},
   "outputs": [],
   "source": []
  }
 ],
 "metadata": {
  "kernelspec": {
   "display_name": "Python 3",
   "language": "python",
   "name": "python3"
  },
  "language_info": {
   "codemirror_mode": {
    "name": "ipython",
    "version": 3
   },
   "file_extension": ".py",
   "mimetype": "text/x-python",
   "name": "python",
   "nbconvert_exporter": "python",
   "pygments_lexer": "ipython3",
   "version": "3.7.3"
  }
 },
 "nbformat": 4,
 "nbformat_minor": 2
}
