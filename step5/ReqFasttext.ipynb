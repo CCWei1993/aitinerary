{
 "cells": [
  {
   "cell_type": "code",
   "execution_count": 15,
   "metadata": {},
   "outputs": [
    {
     "name": "stdout",
     "output_type": "stream",
     "text": [
      "\n",
      "            財務或重要文件遺失、遭竊的協助:\n",
      "            (一)海外旅遊時請務必小心保管隨身財物，尤其是旅行文件－護照。\n",
      "\n",
      "            (二)不慎遺失護照，請即向當地警察機關報案、掛失，並於取得報案證明後，與我駐外館處聯繫補發護照。\n",
      "\n",
      "            (三)信用卡及財物遺失請儘速向發卡銀行掛失及聯絡所投保之保險公司確認理賠方式。\n",
      "            注意事項：\n",
      "            各國法律規定原則要求當事人需本人親至警局報案，因此駐外館處無法代為報案，如果有溝通困難則可洽請外館人員協處或推薦翻譯人員協助。另外行李遺失事關個人財物所有權，外館人員無法代為尋找、領取或保管，提醒您出國務必保管好個人財物。\n",
      "            \n"
     ]
    }
   ],
   "source": [
    "import requests\n",
    "import json\n",
    "\n",
    "\n",
    "req = requests.post('http://127.0.0.1:5004/', json = {'question': '$錢多'})\n",
    "print(req.text)"
   ]
  },
  {
   "cell_type": "code",
   "execution_count": null,
   "metadata": {},
   "outputs": [],
   "source": []
  }
 ],
 "metadata": {
  "kernelspec": {
   "display_name": "Python 3",
   "language": "python",
   "name": "python3"
  },
  "language_info": {
   "codemirror_mode": {
    "name": "ipython",
    "version": 3
   },
   "file_extension": ".py",
   "mimetype": "text/x-python",
   "name": "python",
   "nbconvert_exporter": "python",
   "pygments_lexer": "ipython3",
   "version": "3.7.3"
  }
 },
 "nbformat": 4,
 "nbformat_minor": 2
}
