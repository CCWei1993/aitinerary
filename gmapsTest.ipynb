{
 "cells": [
  {
   "cell_type": "code",
   "execution_count": 1,
   "metadata": {},
   "outputs": [
    {
     "name": "stdout",
     "output_type": "stream",
     "text": [
      "Collecting gmplot\n",
      "\u001b[?25l  Downloading https://files.pythonhosted.org/packages/e2/b1/e1429c31a40b3ef5840c16f78b506d03be9f27e517d3870a6fd0b356bd46/gmplot-1.2.0.tar.gz (115kB)\n",
      "\u001b[K     |████████████████████████████████| 122kB 3.3MB/s eta 0:00:01\n",
      "\u001b[?25hRequirement already satisfied: requests in /opt/conda/lib/python3.7/site-packages (from gmplot) (2.22.0)\n",
      "Requirement already satisfied: certifi>=2017.4.17 in /opt/conda/lib/python3.7/site-packages (from requests->gmplot) (2019.9.11)\n",
      "Requirement already satisfied: urllib3!=1.25.0,!=1.25.1,<1.26,>=1.21.1 in /opt/conda/lib/python3.7/site-packages (from requests->gmplot) (1.25.3)\n",
      "Requirement already satisfied: chardet<3.1.0,>=3.0.2 in /opt/conda/lib/python3.7/site-packages (from requests->gmplot) (3.0.4)\n",
      "Requirement already satisfied: idna<2.9,>=2.5 in /opt/conda/lib/python3.7/site-packages (from requests->gmplot) (2.8)\n",
      "Building wheels for collected packages: gmplot\n",
      "  Building wheel for gmplot (setup.py) ... \u001b[?25ldone\n",
      "\u001b[?25h  Created wheel for gmplot: filename=gmplot-1.2.0-cp37-none-any.whl size=143766 sha256=8feda0ea8a66c34d059500ff50a4ca9636a96df3c8d8c741c9066021a1bee68f\n",
      "  Stored in directory: /home/jovyan/.cache/pip/wheels/81/6a/76/4dd6a7cc310ba765894159ee84871e8cd55221d82ef14b81a1\n",
      "Successfully built gmplot\n",
      "Installing collected packages: gmplot\n",
      "Successfully installed gmplot-1.2.0\n",
      "\u001b[33mWARNING: You are using pip version 19.2.3, however version 19.3.1 is available.\n",
      "You should consider upgrading via the 'pip install --upgrade pip' command.\u001b[0m\n"
     ]
    }
   ],
   "source": [
    "#!pip install gmaps\n",
    "#!pip install networkx\n",
    "#!pip install geopy\n",
    "!pip install gmplot\n",
    "import networkx as nx\n",
    "with open('apiKey.txt') as f:\n",
    "    api_key = f.readline()\n",
    "    f.close"
   ]
  },
  {
   "cell_type": "code",
   "execution_count": 2,
   "metadata": {},
   "outputs": [],
   "source": [
    "import gmaps\n",
    "gmaps.configure(api_key=api_key)"
   ]
  },
  {
   "cell_type": "code",
   "execution_count": 3,
   "metadata": {},
   "outputs": [
    {
     "data": {
      "application/vnd.jupyter.widget-view+json": {
       "model_id": "6d77a223ce0e4645b31029f71b3c7164",
       "version_major": 2,
       "version_minor": 0
      },
      "text/plain": [
       "Figure(layout=FigureLayout(height='420px'))"
      ]
     },
     "metadata": {},
     "output_type": "display_data"
    }
   ],
   "source": [
    "skytree_coordinates = (35.710064, 139.810701)\n",
    "gmaps.figure(center=skytree_coordinates, zoom_level=18)"
   ]
  },
  {
   "cell_type": "code",
   "execution_count": 4,
   "metadata": {},
   "outputs": [
    {
     "data": {
      "application/vnd.jupyter.widget-view+json": {
       "model_id": "5124b5929a0f40afb1e49e2db4f01199",
       "version_major": 2,
       "version_minor": 0
      },
      "text/plain": [
       "Figure(layout=FigureLayout(height='420px'))"
      ]
     },
     "metadata": {},
     "output_type": "display_data"
    }
   ],
   "source": [
    "import gmaps.datasets\n",
    "# Get the dataset\n",
    "earthquake_df = gmaps.datasets.load_dataset_as_df('earthquakes')\n",
    "#Get the locations from the data set\n",
    "locations = earthquake_df[['latitude', 'longitude']]\n",
    "#Get the magnitude from the data\n",
    "weights = earthquake_df['magnitude']\n",
    "#Set up your map\n",
    "fig = gmaps.figure()\n",
    "fig.add_layer(gmaps.heatmap_layer(locations, weights=weights))\n",
    "fig"
   ]
  },
  {
   "cell_type": "code",
   "execution_count": 5,
   "metadata": {},
   "outputs": [
    {
     "data": {
      "application/vnd.jupyter.widget-view+json": {
       "model_id": "c22a0c9b9e5f41afbddc2969d5ffc2a4",
       "version_major": 2,
       "version_minor": 0
      },
      "text/plain": [
       "Figure(layout=FigureLayout(height='420px'))"
      ]
     },
     "metadata": {},
     "output_type": "display_data"
    }
   ],
   "source": [
    "#Define location 1 and 2\n",
    "Durango = (37.2753,-107.880067)\n",
    "SF = (37.7749,-122.419416)\n",
    "#Create the map\n",
    "fig = gmaps.figure()\n",
    "#create the layer\n",
    "layer = gmaps.directions.Directions(Durango, SF,mode='airplane')\n",
    "#Add the layer\n",
    "fig.add_layer(layer)\n",
    "fig"
   ]
  },
  {
   "cell_type": "code",
   "execution_count": 6,
   "metadata": {},
   "outputs": [
    {
     "data": {
      "text/html": [
       "<div>\n",
       "<style scoped>\n",
       "    .dataframe tbody tr th:only-of-type {\n",
       "        vertical-align: middle;\n",
       "    }\n",
       "\n",
       "    .dataframe tbody tr th {\n",
       "        vertical-align: top;\n",
       "    }\n",
       "\n",
       "    .dataframe thead th {\n",
       "        text-align: right;\n",
       "    }\n",
       "</style>\n",
       "<table border=\"1\" class=\"dataframe\">\n",
       "  <thead>\n",
       "    <tr style=\"text-align: right;\">\n",
       "      <th></th>\n",
       "      <th>latitude</th>\n",
       "      <th>longitude</th>\n",
       "      <th>magnitude</th>\n",
       "    </tr>\n",
       "  </thead>\n",
       "  <tbody>\n",
       "    <tr>\n",
       "      <td>0</td>\n",
       "      <td>65.193300</td>\n",
       "      <td>-149.072500</td>\n",
       "      <td>1.70</td>\n",
       "    </tr>\n",
       "    <tr>\n",
       "      <td>1</td>\n",
       "      <td>38.791832</td>\n",
       "      <td>-122.780830</td>\n",
       "      <td>2.10</td>\n",
       "    </tr>\n",
       "    <tr>\n",
       "      <td>2</td>\n",
       "      <td>38.818001</td>\n",
       "      <td>-122.792168</td>\n",
       "      <td>0.48</td>\n",
       "    </tr>\n",
       "    <tr>\n",
       "      <td>3</td>\n",
       "      <td>33.601667</td>\n",
       "      <td>-116.727667</td>\n",
       "      <td>0.78</td>\n",
       "    </tr>\n",
       "    <tr>\n",
       "      <td>4</td>\n",
       "      <td>37.378334</td>\n",
       "      <td>-118.520836</td>\n",
       "      <td>3.64</td>\n",
       "    </tr>\n",
       "    <tr>\n",
       "      <td>...</td>\n",
       "      <td>...</td>\n",
       "      <td>...</td>\n",
       "      <td>...</td>\n",
       "    </tr>\n",
       "    <tr>\n",
       "      <td>8599</td>\n",
       "      <td>19.331500</td>\n",
       "      <td>-155.182200</td>\n",
       "      <td>0.80</td>\n",
       "    </tr>\n",
       "    <tr>\n",
       "      <td>8600</td>\n",
       "      <td>41.819700</td>\n",
       "      <td>-119.622400</td>\n",
       "      <td>2.20</td>\n",
       "    </tr>\n",
       "    <tr>\n",
       "      <td>8601</td>\n",
       "      <td>38.771999</td>\n",
       "      <td>-122.720497</td>\n",
       "      <td>1.91</td>\n",
       "    </tr>\n",
       "    <tr>\n",
       "      <td>8602</td>\n",
       "      <td>34.608333</td>\n",
       "      <td>-118.641333</td>\n",
       "      <td>1.93</td>\n",
       "    </tr>\n",
       "    <tr>\n",
       "      <td>8603</td>\n",
       "      <td>41.905500</td>\n",
       "      <td>-119.625000</td>\n",
       "      <td>4.21</td>\n",
       "    </tr>\n",
       "  </tbody>\n",
       "</table>\n",
       "<p>8604 rows × 3 columns</p>\n",
       "</div>"
      ],
      "text/plain": [
       "       latitude   longitude  magnitude\n",
       "0     65.193300 -149.072500       1.70\n",
       "1     38.791832 -122.780830       2.10\n",
       "2     38.818001 -122.792168       0.48\n",
       "3     33.601667 -116.727667       0.78\n",
       "4     37.378334 -118.520836       3.64\n",
       "...         ...         ...        ...\n",
       "8599  19.331500 -155.182200       0.80\n",
       "8600  41.819700 -119.622400       2.20\n",
       "8601  38.771999 -122.720497       1.91\n",
       "8602  34.608333 -118.641333       1.93\n",
       "8603  41.905500 -119.625000       4.21\n",
       "\n",
       "[8604 rows x 3 columns]"
      ]
     },
     "execution_count": 6,
     "metadata": {},
     "output_type": "execute_result"
    }
   ],
   "source": [
    "earthquake_df"
   ]
  },
  {
   "cell_type": "code",
   "execution_count": 7,
   "metadata": {},
   "outputs": [
    {
     "data": {
      "application/vnd.jupyter.widget-view+json": {
       "model_id": "d04ec38044574ee889e52270ef374010",
       "version_major": 2,
       "version_minor": 0
      },
      "text/plain": [
       "Figure(layout=FigureLayout(height='420px'))"
      ]
     },
     "metadata": {},
     "output_type": "display_data"
    }
   ],
   "source": [
    "# Map centered on taipei 101\n",
    "fig = gmaps.figure(center=(25.033967, 121.564473), zoom_level=12)\n",
    "fig.add_layer(gmaps.transit_layer())\n",
    "fig"
   ]
  },
  {
   "cell_type": "code",
   "execution_count": 8,
   "metadata": {},
   "outputs": [
    {
     "data": {
      "application/vnd.jupyter.widget-view+json": {
       "model_id": "49b663f747f84c3cb26dbf28c7dcf137",
       "version_major": 2,
       "version_minor": 0
      },
      "text/plain": [
       "Figure(layout=FigureLayout(height='420px'))"
      ]
     },
     "metadata": {},
     "output_type": "display_data"
    }
   ],
   "source": [
    "# Map centered on London\n",
    "fig = gmaps.figure(center=(25.033967, 121.564473), zoom_level=12)\n",
    "fig.add_layer(gmaps.traffic_layer())\n",
    "fig"
   ]
  },
  {
   "cell_type": "code",
   "execution_count": 9,
   "metadata": {},
   "outputs": [
    {
     "data": {
      "application/vnd.jupyter.widget-view+json": {
       "model_id": "62d25e4c703244dba49d9b598ca802e0",
       "version_major": 2,
       "version_minor": 0
      },
      "text/plain": [
       "VBox(children=(Figure(layout=FigureLayout(height='420px')), Text(value='', description='Address: ', disabled=T…"
      ]
     },
     "metadata": {},
     "output_type": "display_data"
    }
   ],
   "source": [
    "import ipywidgets as widgets\n",
    "import geopy\n",
    "import gmaps\n",
    "gmaps.configure(api_key=api_key)\n",
    "class ReverseGeocoder(object):\n",
    "    \"\"\"\n",
    "    Jupyter widget for finding addresses.\n",
    "    The user places markers on a map. For each marker,\n",
    "    we use `geopy` to find the nearest address to that\n",
    "    marker, and write that address in a text box.\n",
    "    \"\"\"\n",
    "    def __init__(self):\n",
    "        self._figure = gmaps.figure()\n",
    "        self._drawing = gmaps.drawing_layer()\n",
    "        self._drawing.on_new_feature(self._new_feature_callback)\n",
    "        self._figure.add_layer(self._drawing)\n",
    "        self._address_box = widgets.Text(\n",
    "        description='Address: ',\n",
    "        disabled=True,\n",
    "        layout={'width': '95%', 'margin': '10px 0 0 0'}\n",
    "        )\n",
    "        self._geocoder = geopy.geocoders.GoogleV3(api_key=api_key)\n",
    "        self._container = widgets.VBox([self._figure, self._address_box])\n",
    "    def _get_location_details(self, location):\n",
    "        return self._geocoder.reverse(location, exactly_one=True)\n",
    "    def _clear_address_box(self):\n",
    "        self._address_box.value = ''\n",
    "    def _show_address(self, location):\n",
    "        location_details = self._get_location_details(location)\n",
    "        if location_details is None:\n",
    "            self._address_box.value = 'No address found'\n",
    "        else:\n",
    "            self._address_box.value = location_details.address\n",
    "    def _new_feature_callback(self, feature):\n",
    "        try:\n",
    "            location = feature.location\n",
    "        except AttributeError:\n",
    "            return # Not a marker\n",
    "        # Clear address box to signify to the user that something is happening\n",
    "        self._clear_address_box()\n",
    "        # Remove all markers other than the one that has just been added.\n",
    "        self._drawing.features = [feature]\n",
    "        # Compute the address and display it\n",
    "        self._show_address(location)\n",
    "    def render(self):\n",
    "        return self._container\n",
    "ReverseGeocoder().render()"
   ]
  },
  {
   "cell_type": "code",
   "execution_count": 10,
   "metadata": {},
   "outputs": [
    {
     "data": {
      "text/html": [
       "<div>\n",
       "<style scoped>\n",
       "    .dataframe tbody tr th:only-of-type {\n",
       "        vertical-align: middle;\n",
       "    }\n",
       "\n",
       "    .dataframe tbody tr th {\n",
       "        vertical-align: top;\n",
       "    }\n",
       "\n",
       "    .dataframe thead th {\n",
       "        text-align: right;\n",
       "    }\n",
       "</style>\n",
       "<table border=\"1\" class=\"dataframe\">\n",
       "  <thead>\n",
       "    <tr style=\"text-align: right;\">\n",
       "      <th></th>\n",
       "      <th>year</th>\n",
       "      <th>latitude</th>\n",
       "      <th>longitude</th>\n",
       "      <th>fatalities</th>\n",
       "    </tr>\n",
       "  </thead>\n",
       "  <tbody>\n",
       "    <tr>\n",
       "      <td>0</td>\n",
       "      <td>2018</td>\n",
       "      <td>32.0837</td>\n",
       "      <td>48.4100</td>\n",
       "      <td>0</td>\n",
       "    </tr>\n",
       "    <tr>\n",
       "      <td>1</td>\n",
       "      <td>2018</td>\n",
       "      <td>30.6492</td>\n",
       "      <td>48.6650</td>\n",
       "      <td>0</td>\n",
       "    </tr>\n",
       "    <tr>\n",
       "      <td>2</td>\n",
       "      <td>2018</td>\n",
       "      <td>35.7757</td>\n",
       "      <td>51.4721</td>\n",
       "      <td>0</td>\n",
       "    </tr>\n",
       "    <tr>\n",
       "      <td>3</td>\n",
       "      <td>2018</td>\n",
       "      <td>14.6008</td>\n",
       "      <td>-0.7190</td>\n",
       "      <td>1</td>\n",
       "    </tr>\n",
       "    <tr>\n",
       "      <td>4</td>\n",
       "      <td>2018</td>\n",
       "      <td>14.2100</td>\n",
       "      <td>-1.8315</td>\n",
       "      <td>1</td>\n",
       "    </tr>\n",
       "  </tbody>\n",
       "</table>\n",
       "</div>"
      ],
      "text/plain": [
       "   year  latitude  longitude  fatalities\n",
       "0  2018   32.0837    48.4100           0\n",
       "1  2018   30.6492    48.6650           0\n",
       "2  2018   35.7757    51.4721           0\n",
       "3  2018   14.6008    -0.7190           1\n",
       "4  2018   14.2100    -1.8315           1"
      ]
     },
     "execution_count": 10,
     "metadata": {},
     "output_type": "execute_result"
    }
   ],
   "source": [
    "import gmaps.datasets\n",
    "df = gmaps.datasets.load_dataset_as_df('acled_africa_by_year')\n",
    "df.head()"
   ]
  },
  {
   "cell_type": "code",
   "execution_count": 11,
   "metadata": {},
   "outputs": [
    {
     "data": {
      "application/vnd.jupyter.widget-view+json": {
       "model_id": "a17e95d7db094d8ba07262334409dd12",
       "version_major": 2,
       "version_minor": 0
      },
      "text/plain": [
       "VBox(children=(HTML(value='<h3>Civilian casualties in Africa, by year</h3><h4>Data from <a href=\"https://www.a…"
      ]
     },
     "metadata": {},
     "output_type": "display_data"
    }
   ],
   "source": [
    "from IPython.display import display\n",
    "import ipywidgets as widgets\n",
    "import gmaps\n",
    "gmaps.configure(api_key=api_key)\n",
    "class AcledExplorer(object):\n",
    "    \"\"\"\n",
    "    Jupyter widget for exploring the ACLED dataset.\n",
    "    The user uses the slider to choose a year. This renders\n",
    "    a heatmap of civilian victims in that year.\n",
    "    \"\"\"\n",
    "    def __init__(self, df):\n",
    "        self._df = df\n",
    "        self._heatmap = None\n",
    "        self._slider = None\n",
    "        initial_year = min(self._df['year'])\n",
    "        title_widget = widgets.HTML(\n",
    "            '<h3>Civilian casualties in Africa, by year</h3>'\n",
    "            '<h4>Data from <a href=\"https://www.acleddata.com/\">ACLED project</a></h4>'\n",
    "        )\n",
    "        map_figure = self._render_map(initial_year)\n",
    "        controls = self._render_controls(initial_year)\n",
    "        self._container = widgets.VBox([title_widget, controls, map_figure])\n",
    "    def render(self):\n",
    "        display(self._container)\n",
    "    def _on_year_change(self, change):\n",
    "        year = self._slider.value\n",
    "        self._heatmap.locations = self._locations_for_year(year)\n",
    "        self._total_box.value = self._total_casualties_text_for_year(year)\n",
    "        return self._container\n",
    "    def _render_map(self, initial_year):\n",
    "        fig = gmaps.figure(map_type='HYBRID')\n",
    "        self._heatmap = gmaps.heatmap_layer(\n",
    "        self._locations_for_year(initial_year),\n",
    "        max_intensity=100,\n",
    "        point_radius=8\n",
    "        )\n",
    "        fig.add_layer(self._heatmap)\n",
    "        return fig\n",
    "    def _render_controls(self, initial_year):\n",
    "        self._slider = widgets.IntSlider(\n",
    "        value=initial_year,\n",
    "        min=min(self._df['year']),\n",
    "        max=max(self._df['year']),\n",
    "        description='Year',\n",
    "        continuous_update=False\n",
    "        )\n",
    "        self._total_box = widgets.Label(\n",
    "        value=self._total_casualties_text_for_year(initial_year)\n",
    "        )\n",
    "        self._slider.observe(self._on_year_change, names='value')\n",
    "        controls = widgets.HBox(\n",
    "        [self._slider, self._total_box],\n",
    "        layout={'justify_content': 'space-between'}\n",
    "        )\n",
    "        return controls\n",
    "    def _locations_for_year(self, year):\n",
    "        return self._df[self._df['year'] == year][['latitude', 'longitude']]\n",
    "    def _total_casualties_for_year(self, year):\n",
    "        return int(self._df[self._df['year'] == year]['year'].count())\n",
    "    def _total_casualties_text_for_year(self, year):\n",
    "        return '{} civilian casualties'.format(self._total_casualties_for_year(year))\n",
    "AcledExplorer(df).render()"
   ]
  },
  {
   "cell_type": "code",
   "execution_count": 12,
   "metadata": {
    "scrolled": false
   },
   "outputs": [
    {
     "data": {
      "application/vnd.jupyter.widget-view+json": {
       "model_id": "5391c6fc65a044b6946fdf2fa094064b",
       "version_major": 2,
       "version_minor": 0
      },
      "text/plain": [
       "VBox(children=(HTML(value='<h3>Explore KFC and Starbucks locations</h3><h4>Data from <a href=\"http://ratings.f…"
      ]
     },
     "metadata": {},
     "output_type": "display_data"
    }
   ],
   "source": [
    "from IPython.display import display\n",
    "import ipywidgets as widgets\n",
    "import gmaps\n",
    "import gmaps.datasets\n",
    "\n",
    "\n",
    "gmaps.configure(api_key=api_key)\n",
    "\n",
    "class OutletExplorer(object):\n",
    "    def __init__(self, df):\n",
    "        \"\"\"\n",
    "        Jupyter widget for exploring KFC and Starbucks outlets\n",
    "        Using checkboxes, the user chooses whether to include\n",
    "        Starbucks, KFC outlets, both or neither.\n",
    "        \"\"\"\n",
    "        self._df = df\n",
    "        self._symbol_layer = None\n",
    "        \n",
    "        self._starbucks_symbols = self._create_symbols_for_chain(\n",
    "            'starbucks', 'rgba(0, 150, 0, 0.4)')\n",
    "        self._kfc_symbols = self._create_symbols_for_chain(\n",
    "            'kfc', 'rgba(150, 0, 0, 0.4)')\n",
    "        \n",
    "        title_widget = widgets.HTML(\n",
    "            '<h3>Explore KFC and Starbucks locations</h3>'\n",
    "            '<h4>Data from <a href=\"http://ratings.food.gov.uk\">UK Food Standards Agency</a></h4>'\n",
    "        )\n",
    "        controls = self._render_controls(True, True)\n",
    "        map_figure = self._render_map(True, True)\n",
    "        self._container = widgets.VBox(\n",
    "            [title_widget, controls, map_figure])\n",
    "    def render(self):\n",
    "        \"\"\" Render the widget \"\"\"\n",
    "        display(self._container)\n",
    "    def _render_map(self, initial_include_starbucks, initial_include_kfc):\n",
    "        \"\"\" Render the initial map \"\"\"\n",
    "        fig = gmaps.figure(layout={'height': '500px'})\n",
    "        symbols = self._generate_symbols(True, True)\n",
    "        self._symbol_layer = gmaps.Markers(markers=symbols)\n",
    "        fig.add_layer(self._symbol_layer)\n",
    "        return fig\n",
    "    def _render_controls(\n",
    "        self,\n",
    "        initial_include_starbucks,\n",
    "        initial_include_kfc\n",
    "        ):\n",
    "        \"\"\" Render the checkboxes \"\"\"\n",
    "        self._starbucks_checkbox = widgets.Checkbox(\n",
    "        value=initial_include_starbucks,\n",
    "        description='Starbucks'\n",
    "        )\n",
    "        self._kfc_checkbox = widgets.Checkbox(\n",
    "        value=initial_include_kfc,\n",
    "        description='KFC'\n",
    "        )\n",
    "        self._starbucks_checkbox.observe(\n",
    "        self._on_controls_change, names='value')\n",
    "        self._kfc_checkbox.observe(\n",
    "        self._on_controls_change, names='value')\n",
    "        controls = widgets.VBox(\n",
    "        [self._starbucks_checkbox, self._kfc_checkbox])\n",
    "        return controls\n",
    "    def _on_controls_change(self, obj):\n",
    "        \"\"\"\n",
    "        Called when the checkboxes change\n",
    "        This method builds the list of symbols to include on the map,\n",
    "        based on the current checkbox values. It then updates the\n",
    "        symbol layer with the new symbol list.\n",
    "        \"\"\"\n",
    "        include_starbucks = self._starbucks_checkbox.value\n",
    "        include_kfc = self._kfc_checkbox.value\n",
    "        symbols = self._generate_symbols(\n",
    "        include_starbucks, include_kfc)\n",
    "        # Update the layer with the new symbols:\n",
    "        self._symbol_layer.markers = symbols\n",
    "    def _generate_symbols(self, include_starbucks, include_kfc):\n",
    "        \"\"\" Generate the list of symbols to includs \"\"\"\n",
    "        symbols = []\n",
    "        if include_starbucks:\n",
    "            symbols.extend(self._starbucks_symbols)\n",
    "        if include_kfc:\n",
    "            symbols.extend(self._kfc_symbols)\n",
    "        return symbols\n",
    "    def _create_symbols_for_chain(self, chain, color):\n",
    "        chain_df = self._df[self._df['chain_name'] == chain]\n",
    "        symbols = [\n",
    "                gmaps.Symbol(\n",
    "                location=(latitude, longitude),\n",
    "                stroke_color=color,\n",
    "                fill_color=color,\n",
    "                scale=2\n",
    "                )\n",
    "                for latitude, longitude in\n",
    "                zip(chain_df[\"latitude\"], chain_df[\"longitude\"])\n",
    "                ]\n",
    "        return symbols\n",
    "\n",
    "df = gmaps.datasets.load_dataset_as_df(\"starbucks_kfc_uk\")\n",
    "OutletExplorer(df).render()"
   ]
  },
  {
   "cell_type": "code",
   "execution_count": 13,
   "metadata": {},
   "outputs": [],
   "source": [
    "from ipywidgets.embed import embed_minimal_html\n",
    "import gmaps\n",
    "gmaps.configure(api_key=api_key)\n",
    "skytree_coordinates = (35.710064, 139.810701)\n",
    "fig = gmaps.figure(center=skytree_coordinates, zoom_level=12)\n",
    "embed_minimal_html('skytree.html', views=[fig])"
   ]
  },
  {
   "cell_type": "code",
   "execution_count": 20,
   "metadata": {},
   "outputs": [],
   "source": [
    "#!pip install networkx\n",
    "import networkx as nx\n",
    "import math\n",
    "\n",
    "def calDist(x1,x2,y1,y2):\n",
    "    dist = math.sqrt((x2 - x1)**2 + (y2 - y1)**2)\n",
    "    return dist\n",
    "\n",
    "skytree=(35.710064, 139.810701)\n",
    "gundam=(35.625123, 139.775449)\n",
    "hills=(35.660241, 139.730076)\n",
    "temple=(35.676400, 139.699325)\n",
    "palace=(35.6844651,139.7537082)\n",
    "'''\n",
    "G = nx.MultiGraph()\n",
    "elist = [('skytree','gundam',calDist(skytree[0],skytree[1],gundam[0],gundam[1])),\n",
    "         ('skytree','hills',calDist(skytree[0],skytree[1],hills[0],hills[1])),\n",
    "         ('skytree','temple',calDist(skytree[0],skytree[1],temple[0],temple[1])),\n",
    "         ('skytree','palace',calDist(skytree[0],skytree[1],palace[0],palace[1])),\n",
    "         ('gundam','hills',calDist(gundam[0],gundam[1],hills[0],hills[1])),\n",
    "         ('gundam','temple',calDist(gundam[0],gundam[1],temple[0],temple[1])),\n",
    "         ('gundam','palace',calDist(gundam[0],gundam[1],palace[0],palace[1])),\n",
    "         ('hills','temple',calDist(hills[0],hills[1],temple[0],temple[1])),\n",
    "         ('hills','palace',calDist(hills[0],hills[1],palace[0],palace[1])),\n",
    "         ('temple','palace',calDist(temple[0],temple[1],palace[0],palace[1]))\n",
    "        ]\n",
    "G.add_weighted_edges_from(elist)\n",
    "dict(nx.all_pairs_dijkstra(G))\n",
    "'''\n",
    "fig = gmaps.figure()\n",
    "locations = [skytree,gundam,hills,temple]\n",
    "marker_layer = gmaps.marker_layer(\n",
    "    locations,\n",
    "    hover_text=['天空樹', '台場鋼彈城', '6本木之丘', '明治神宮'],\n",
    "    label = ['ST','DC','RH','MS']\n",
    ")\n",
    "fig.add_layer(marker_layer)\n",
    "fig\n",
    "embed_minimal_html('marker.html', views=[fig])"
   ]
  },
  {
   "cell_type": "code",
   "execution_count": 15,
   "metadata": {},
   "outputs": [],
   "source": [
    "#fig = gmaps.figure()\n",
    "#start = (35.710064, 139.810701)\n",
    "#end = start\n",
    "#waypoints=[(35.625123, 139.775449),(35.660241, 139.730076),(35.676400, 139.699325)]\n",
    "#directions = gmaps.directions_layer(start, \n",
    "#                                    end,\n",
    "#                                    waypoints=waypoints,\n",
    "#                                    show_markers=False, \n",
    "#                                    show_route=True,\n",
    "#                                    stroke_opacity=1, \n",
    "#                                    stroke_weight=4,)\n",
    "#fig.add_layer(directions)\n",
    "#embed_minimal_html('skytreeRoute.html', views=[fig])"
   ]
  },
  {
   "cell_type": "code",
   "execution_count": 16,
   "metadata": {},
   "outputs": [],
   "source": [
    "#fig = gmaps.figure(center=(35.710064, 139.810701), zoom_level=12)\n",
    "#fig.add_layer(gmaps.transit_layer())\n",
    "#fig\n",
    "#embed_minimal_html('skytreeTransit.html', views=[fig])"
   ]
  },
  {
   "cell_type": "code",
   "execution_count": 17,
   "metadata": {},
   "outputs": [],
   "source": [
    "# Import gmplot library.\n",
    "from gmplot import *\n",
    "# Place map\n",
    "# First two arugments are the geogrphical coordinates .i.e. Latitude and Longitude\n",
    "#and the zoom resolution.\n",
    "gmap=gmplot.GoogleMapPlotter(17.438139, 78.39583, 18)\n",
    "# Because google maps is not a free service now, you need to get an api key. Else commenting\n",
    "# below line you will see the maps with \"For Development Purpose Only\" on the screen and maps\n",
    "# with low resolution.\n",
    "#gmap.apikey = \"Your_API_KEY\"\n",
    "gmap.apikey = api_key\n",
    "# Location where you want to save your file.\n",
    "gmap.draw( \"E:\\\\DB103RichardC\\\\python\\\\190826PyETL\\\\map.html\" )"
   ]
  },
  {
   "cell_type": "code",
   "execution_count": 18,
   "metadata": {},
   "outputs": [],
   "source": [
    "# import gmplot package\n",
    "import gmplot\n",
    "#Set different latitude and longitude points\n",
    "a=(35.710064, 139.810701)\n",
    "b=(35.625123, 139.775449)\n",
    "c=(35.660241, 139.730076)\n",
    "d=(35.676400, 139.699325)\n",
    "tokyo_lats, tokyo_lons = zip(*[a,b,c,d])\n",
    "\n",
    "#declare the center of the map, and how much we want the map zoomed in\n",
    "gmap3 = gmplot.GoogleMapPlotter(35.660241, 139.730076,11)\n",
    "# Scatter map\n",
    "gmap3.scatter( tokyo_lats, tokyo_lons, '#FF0000',size = 50, marker = True )\n",
    "# Plot method Draw a line in between given coordinates\n",
    "gmap3.plot(tokyo_lats, tokyo_lons, 'cornflowerblue', edge_width = 3.0)\n",
    "#Your Google_API_Key\n",
    "gmap3.apikey= api_key\n",
    "# save it to html\n",
    "gmap3.draw(r\"E:\\\\DB103RichardC\\\\python\\\\190826PyETL\\\\map.html\")"
   ]
  },
  {
   "cell_type": "code",
   "execution_count": 19,
   "metadata": {},
   "outputs": [
    {
     "ename": "ModuleNotFoundError",
     "evalue": "No module named 'folium'",
     "output_type": "error",
     "traceback": [
      "\u001b[0;31m\u001b[0m",
      "\u001b[0;31mModuleNotFoundError\u001b[0mTraceback (most recent call last)",
      "\u001b[0;32m<ipython-input-19-8335cab73030>\u001b[0m in \u001b[0;36m<module>\u001b[0;34m\u001b[0m\n\u001b[1;32m      1\u001b[0m \u001b[0;31m# import folium package\u001b[0m\u001b[0;34m\u001b[0m\u001b[0;34m\u001b[0m\u001b[0;34m\u001b[0m\u001b[0m\n\u001b[0;32m----> 2\u001b[0;31m \u001b[0;32mimport\u001b[0m \u001b[0mfolium\u001b[0m\u001b[0;34m\u001b[0m\u001b[0;34m\u001b[0m\u001b[0m\n\u001b[0m\u001b[1;32m      3\u001b[0m \u001b[0;34m\u001b[0m\u001b[0m\n\u001b[1;32m      4\u001b[0m \u001b[0mmy_map3\u001b[0m \u001b[0;34m=\u001b[0m \u001b[0mfolium\u001b[0m\u001b[0;34m.\u001b[0m\u001b[0mMap\u001b[0m\u001b[0;34m(\u001b[0m\u001b[0mlocation\u001b[0m \u001b[0;34m=\u001b[0m \u001b[0;34m[\u001b[0m\u001b[0;36m28.5011226\u001b[0m\u001b[0;34m,\u001b[0m \u001b[0;36m77.4099794\u001b[0m\u001b[0;34m]\u001b[0m\u001b[0;34m,\u001b[0m \u001b[0mzoom_start\u001b[0m \u001b[0;34m=\u001b[0m \u001b[0;36m15\u001b[0m\u001b[0;34m)\u001b[0m\u001b[0;34m\u001b[0m\u001b[0;34m\u001b[0m\u001b[0m\n\u001b[1;32m      5\u001b[0m \u001b[0;34m\u001b[0m\u001b[0m\n",
      "\u001b[0;31mModuleNotFoundError\u001b[0m: No module named 'folium'"
     ]
    }
   ],
   "source": [
    "# import folium package \n",
    "import folium \n",
    "\n",
    "my_map3 = folium.Map(location = [28.5011226, 77.4099794], zoom_start = 15) \n",
    "\n",
    "# Pass a string in popup parameter \n",
    "folium.Marker([28.5011226, 77.4099794], popup = ' Geeksforgeeks.org ').add_to(my_map3) \n",
    "\n",
    "\n",
    "my_map3.save(\" my_map3.html \") "
   ]
  },
  {
   "cell_type": "code",
   "execution_count": null,
   "metadata": {},
   "outputs": [],
   "source": [
    "from gmplot import gmplot\n",
    "\n",
    "# Place map\n",
    "gmap = gmplot.GoogleMapPlotter(37.766956, -122.438481, 13)\n",
    "\n",
    "# Polygon\n",
    "golden_gate_park_lats, golden_gate_park_lons = zip(*[\n",
    "    (37.771269, -122.511015),\n",
    "    (37.773495, -122.464830),\n",
    "    (37.774797, -122.454538),\n",
    "    (37.771988, -122.454018),\n",
    "    (37.773646, -122.440979),\n",
    "    (37.772742, -122.440797),\n",
    "    (37.771096, -122.453889),\n",
    "    (37.768669, -122.453518),\n",
    "    (37.766227, -122.460213),\n",
    "    (37.764028, -122.510347),\n",
    "    (37.771269, -122.511015)\n",
    "    ])\n",
    "gmap.plot(golden_gate_park_lats, golden_gate_park_lons, 'cornflowerblue', edge_width=10)\n",
    "\n",
    "# Scatter points\n",
    "top_attraction_lats, top_attraction_lons = zip(*[\n",
    "    (37.769901, -122.498331),\n",
    "    (37.768645, -122.475328),\n",
    "    (37.771478, -122.468677),\n",
    "    (37.769867, -122.466102),\n",
    "    (37.767187, -122.467496),\n",
    "    (37.770104, -122.470436)\n",
    "    ])\n",
    "gmap.scatter(top_attraction_lats, top_attraction_lons, '#3B0B39', size=40, marker=False)\n",
    "\n",
    "# Marker\n",
    "hidden_gem_lat, hidden_gem_lon = 37.770776, -122.461689\n",
    "gmap.marker(hidden_gem_lat, hidden_gem_lon, 'cornflowerblue')\n",
    "gmap.apikey=api_key\n",
    "# Draw\n",
    "gmap.draw(\"my_map.html\")"
   ]
  },
  {
   "cell_type": "code",
   "execution_count": null,
   "metadata": {},
   "outputs": [],
   "source": []
  }
 ],
 "metadata": {
  "kernelspec": {
   "display_name": "Python 3",
   "language": "python",
   "name": "python3"
  },
  "language_info": {
   "codemirror_mode": {
    "name": "ipython",
    "version": 3
   },
   "file_extension": ".py",
   "mimetype": "text/x-python",
   "name": "python",
   "nbconvert_exporter": "python",
   "pygments_lexer": "ipython3",
   "version": "3.7.3"
  }
 },
 "nbformat": 4,
 "nbformat_minor": 2
}
